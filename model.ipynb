{
 "cells": [
  {
   "cell_type": "code",
   "execution_count": 1,
   "metadata": {},
   "outputs": [
    {
     "ename": "ImportError",
     "evalue": "No module named 'tflearn'",
     "output_type": "error",
     "traceback": [
      "\u001b[0;31m---------------------------------------------------------------------------\u001b[0m",
      "\u001b[0;31mImportError\u001b[0m                               Traceback (most recent call last)",
      "\u001b[0;32m<ipython-input-1-07bde1e22569>\u001b[0m in \u001b[0;36m<module>\u001b[0;34m()\u001b[0m\n\u001b[1;32m      2\u001b[0m \u001b[0;32mimport\u001b[0m \u001b[0mpickle\u001b[0m\u001b[0;34m\u001b[0m\u001b[0m\n\u001b[1;32m      3\u001b[0m \u001b[0;34m\u001b[0m\u001b[0m\n\u001b[0;32m----> 4\u001b[0;31m \u001b[0;32mimport\u001b[0m \u001b[0mtflearn\u001b[0m\u001b[0;34m\u001b[0m\u001b[0m\n\u001b[0m\u001b[1;32m      5\u001b[0m \u001b[0;32mfrom\u001b[0m \u001b[0mtflearn\u001b[0m\u001b[0;34m.\u001b[0m\u001b[0mdata_utils\u001b[0m \u001b[0;32mimport\u001b[0m \u001b[0;34m*\u001b[0m\u001b[0;34m\u001b[0m\u001b[0m\n\u001b[1;32m      6\u001b[0m \u001b[0;34m\u001b[0m\u001b[0m\n",
      "\u001b[0;31mImportError\u001b[0m: No module named 'tflearn'"
     ]
    }
   ],
   "source": [
    "import os\n",
    "import pickle\n",
    "\n",
    "import tflearn\n",
    "from tflearn.data_utils import *\n",
    "\n",
    "\n",
    "char_idx_file = 'charmap.pickle'\n",
    "char_idx = pickle.load(open(char_idx_file, 'rb'))\n",
    "\n",
    "epochs = ['średniowiecze', 'współczesność', 'modernizm', 'romantyzm', 'barok', 'oświecenie', 'renesans', 'pozytywizm', 'dwudziestolecie', 'starożytność']\n",
    "\n",
    "maxlen = 25\n",
    "len_chars = len(char_idx)\n",
    "len_epochs = len(epochs)\n",
    "vector_len = len_chars + len_epochs\n",
    "\n",
    "\n",
    "g = tflearn.input_data([None, maxlen, vector_len])\n",
    "g = tflearn.lstm(g, 512, return_seq=True)\n",
    "g = tflearn.dropout(g, 0.5)\n",
    "g = tflearn.lstm(g, 512, return_seq=True)\n",
    "g = tflearn.dropout(g, 0.5)\n",
    "g = tflearn.lstm(g, 512)\n",
    "g = tflearn.dropout(g, 0.5)\n",
    "g = tflearn.fully_connected(g, len_chars, activation='softmax')\n",
    "g = tflearn.regression(g, optimizer='adam', loss='categorical_crossentropy',\n",
    "                       learning_rate=0.001)\n",
    "\n",
    "m = tflearn.SequenceGenerator(g, dictionary=char_idx,\n",
    "                              seq_maxlen=maxlen,\n",
    "                              clip_gradients=5.0,\n",
    "                              checkpoint_path='pl_model')\n",
    "\n",
    "\n",
    "def get_dataset(q, epochs):\n",
    "    SAMPLE_SIZE = 1000\n",
    "    Xlist = []\n",
    "    Ylist = []\n",
    "    for epoch in epochs:\n",
    "        hdf_file = h5py.File('dataset_'+epoch+'.h5f', \"r\") \n",
    "        xs = hdf_file['X']\n",
    "        ys = hdf_file['Y']\n",
    "        idxs = list(np.unique((np.random.randint(0, xs.shape[0], SAMPLE_SIZE))))\n",
    "\n",
    "        Xlist.append(xs[idxs])\n",
    "        Ylist.append(ys[idxs])\n",
    "        \n",
    "    out = (np.concatenate(Xlist, axis=0), np.concatenate(Ylist, axis=0))\n",
    "    q.put(out)\n",
    "\n",
    "from multiprocessing import Process, Queue\n",
    "\n",
    "q = Queue()\n",
    "    \n",
    "    \n",
    "newX, newY = get_dataset()\n",
    "for i in range(50):    \n",
    "    X, Y = newX, newY\n",
    "    p = Process(target=get_dataset, args=(q, epochs))\n",
    "    p.start()\n",
    "    \n",
    "    m.fit(X, Y, validation_set=0.1, batch_size=256,\n",
    "          n_epoch=1, run_id='pl_model')\n",
    "    \n",
    "    newX, newY = q.get()\n",
    "    p.join()\n"
   ]
  },
  {
   "cell_type": "code",
   "execution_count": null,
   "metadata": {},
   "outputs": [],
   "source": []
  }
 ],
 "metadata": {
  "kernelspec": {
   "display_name": "Python 3",
   "language": "python",
   "name": "python3"
  },
  "language_info": {
   "codemirror_mode": {
    "name": "ipython",
    "version": 3
   },
   "file_extension": ".py",
   "mimetype": "text/x-python",
   "name": "python",
   "nbconvert_exporter": "python",
   "pygments_lexer": "ipython3",
   "version": "3.5.2"
  }
 },
 "nbformat": 4,
 "nbformat_minor": 2
}
