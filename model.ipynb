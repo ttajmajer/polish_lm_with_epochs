{
 "cells": [
  {
   "cell_type": "code",
   "execution_count": null,
   "metadata": {},
   "outputs": [],
   "source": [
    "import os\n",
    "import pickle\n",
    "\n",
    "import tflearn\n",
    "from tflearn.data_utils import *\n",
    "\n",
    "\n",
    "char_idx_file = 'charmap.pickle'\n",
    "char_idx = pickle.load(open(char_idx_file, 'rb'))\n",
    "hdf_file = h5py.File('dataset_średniowiecze.h5f', \"r\") \n",
    "\n",
    "epochs = ['średniowiecze', 'współczesność', 'modernizm', 'romantyzm', 'barok', 'oświecenie', 'renesans', 'pozytywizm', 'dwudziestolecie', 'starożytność']\n",
    "\n",
    "maxlen = 25\n",
    "len_chars = len(char_idx)\n",
    "len_epochs = len(epochs)\n",
    "vector_len = len_chars + len_epochs\n",
    "\n",
    "\n",
    "X = hdf_file['X']\n",
    "Y = hdf_file['Y']\n",
    "\n",
    "\n",
    "g = tflearn.input_data([None, maxlen, vector_len])\n",
    "g = tflearn.lstm(g, 512, return_seq=True)\n",
    "g = tflearn.dropout(g, 0.5)\n",
    "g = tflearn.lstm(g, 512, return_seq=True)\n",
    "g = tflearn.dropout(g, 0.5)\n",
    "g = tflearn.lstm(g, 512)\n",
    "g = tflearn.dropout(g, 0.5)\n",
    "g = tflearn.fully_connected(g, len_chars, activation='softmax')\n",
    "g = tflearn.regression(g, optimizer='adam', loss='categorical_crossentropy',\n",
    "                       learning_rate=0.001)\n",
    "\n",
    "m = tflearn.SequenceGenerator(g, dictionary=char_idx,\n",
    "                              seq_maxlen=maxlen,\n",
    "                              clip_gradients=5.0,\n",
    "                              checkpoint_path='pl_model')\n",
    "\n",
    "for i in range(50):\n",
    "    seed = random_sequence_from_string(\"Bywało też to u mnie myślistwo z podziwieniem ludzkim. Począwszy od ptaków, zawsze mi[e]wałem bardzo dobre sokoły, jastrzęby, drzemliki, kobuzy, kruki, co do berła chodziły i kuropatwy pod nimi olegały, zająca zalatowały, jako raróg; wszystko to ptastwo praktykowało swoję powinność. Jastrzębia raz miałem takiego, który był zbyt rosły, a tak rączy, że kożdego ptaka uganiał i do najmniejszej ptaszyny nie lenił się, okraczywszy go owymi srogimi szponami, i zawszem żywiusieńkiego odebrał. Rzuciłeś go też do największego ptaka — i tego się nie wstydził; gęsi, kaczki, czaple, kanie, kruki uganiał tak jako przepiórki, bo ich i kilka na dzień ugonił. Tak był mocny, że z zającem starym, związawszy się i udusiwszy, to czasem poprawił się, i na drugi zagon podlatując sobie z nim, podnosząc go od ziemie jak kuropatwę. Miałem go ośm lat, póko mi nie zdechł. Do myślistwa zaś, z charty mówiąc, rozmnożyłem był sobie gniazdo chartów od brata mego, pana Stanisława Paska z ziemie sochaczowskiej; które charty były i piękne, i rosłe, a przy tym tak rącze, że nie trzeba było nigdy [dwu] zmykać do zająca i do liszki, tylko jedno którekolwiek alternatą, jednak do kożdego zająca insze, a nigdy zając nie uciekł; do wilka zaś to już pospolitym ruszeniem. I takie to bywało przysłowie u myśliwych sąsiadów moich, że to nieszczęśliwy zwierz, który się z panem Paskiem potka, bo mu się już nie dostanie uciec.\",maxlen)\n",
    "    m.fit(X, Y, validation_set=0.1, batch_size=512,\n",
    "          n_epoch=1, run_id='pl_model')\n",
    "    print(\"-- TESTING...\")\n",
    "    print(\"-- Test with temperature of 1.0 --\")\n",
    "    print(m.generate(600, temperature=1.0, seq_seed=seed))\n",
    "    print(\"-- Test with temperature of 0.5 --\")\n",
    "    print(m.generate(600, temperature=0.5, seq_seed=seed))"
   ]
  }
 ],
 "metadata": {
  "kernelspec": {
   "display_name": "Python 3",
   "language": "python",
   "name": "python3"
  },
  "language_info": {
   "codemirror_mode": {
    "name": "ipython",
    "version": 3
   },
   "file_extension": ".py",
   "mimetype": "text/x-python",
   "name": "python",
   "nbconvert_exporter": "python",
   "pygments_lexer": "ipython3",
   "version": "3.5.2"
  }
 },
 "nbformat": 4,
 "nbformat_minor": 2
}
