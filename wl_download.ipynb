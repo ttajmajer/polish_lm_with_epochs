{
 "cells": [
  {
   "cell_type": "code",
   "execution_count": 78,
   "metadata": {},
   "outputs": [],
   "source": [
    "import requests\n",
    "import json\n",
    "import os\n",
    "from tqdm import tqdm"
   ]
  },
  {
   "cell_type": "code",
   "execution_count": 7,
   "metadata": {},
   "outputs": [],
   "source": [
    "wl_dir_url = \"https://wolnelektury.pl/api/books/\""
   ]
  },
  {
   "cell_type": "code",
   "execution_count": 14,
   "metadata": {},
   "outputs": [],
   "source": [
    "books_dir = requests.get(wl_dir_url)\n",
    "books_json = books_dir.json()"
   ]
  },
  {
   "cell_type": "code",
   "execution_count": 16,
   "metadata": {},
   "outputs": [],
   "source": []
  },
  {
   "cell_type": "code",
   "execution_count": 66,
   "metadata": {},
   "outputs": [],
   "source": [
    "def get_epoch_tag(epoch):\n",
    "    return epoch.split()[0].replace(',', '').lower()"
   ]
  },
  {
   "cell_type": "code",
   "execution_count": 69,
   "metadata": {},
   "outputs": [],
   "source": [
    "epochs = []\n",
    "for book in books_json:\n",
    "    epochs += [get_epoch_tag(book['epoch'])]\n",
    "epochs = set(epochs)"
   ]
  },
  {
   "cell_type": "code",
   "execution_count": 71,
   "metadata": {},
   "outputs": [],
   "source": [
    "data_dir = \"./data\"\n",
    "for ep in epochs:\n",
    "    os.mkdir(os.path.join(data_dir, ep))"
   ]
  },
  {
   "cell_type": "code",
   "execution_count": 94,
   "metadata": {
    "scrolled": true
   },
   "outputs": [
    {
     "name": "stderr",
     "output_type": "stream",
     "text": [
      "\r",
      "  0%|          | 0/5750 [00:00<?, ?it/s]"
     ]
    },
    {
     "name": "stdout",
     "output_type": "stream",
     "text": [
      "https://wolnelektury.pl/media/book/txt/20-000-mil-podmorskiej-zeglugi.txt\n"
     ]
    },
    {
     "name": "stderr",
     "output_type": "stream",
     "text": [
      "  0%|          | 3/5750 [00:00<11:29,  8.34it/s]"
     ]
    },
    {
     "name": "stdout",
     "output_type": "stream",
     "text": [
      "https://wolnelektury.pl/media/book/txt/a-co-wam-spiewac.txt\n",
      "https://wolnelektury.pl/media/book/txt/a-coz-z-ta-dziecina.txt\n",
      "https://wolnelektury.pl/media/book/txt/a-jednak-ja-nie-watpie-bo-sie-pora-zbliza.txt\n"
     ]
    },
    {
     "name": "stderr",
     "output_type": "stream",
     "text": [
      "\r",
      "  0%|          | 5/5750 [00:00<09:41,  9.89it/s]"
     ]
    },
    {
     "name": "stdout",
     "output_type": "stream",
     "text": [
      "https://wolnelektury.pl/media/book/txt/a-kiedy-bedziesz.txt\n",
      "https://wolnelektury.pl/media/book/txt/a-to-biografia.txt\n"
     ]
    },
    {
     "name": "stderr",
     "output_type": "stream",
     "text": [
      "  0%|          | 8/5750 [00:00<09:21, 10.23it/s]"
     ]
    },
    {
     "name": "stdout",
     "output_type": "stream",
     "text": [
      "https://wolnelektury.pl/media/book/txt/abuzei-i-tair.txt\n",
      "https://wolnelektury.pl/media/book/txt/ach-rzucic-sieci-zdarte.txt\n",
      "https://wolnelektury.pl/media/book/txt/adam-asnyk-sylwetka-literacka.txt\n"
     ]
    },
    {
     "name": "stderr",
     "output_type": "stream",
     "text": [
      "\r",
      "  0%|          | 10/5750 [00:00<09:03, 10.55it/s]"
     ]
    },
    {
     "name": "stdout",
     "output_type": "stream",
     "text": [
      "https://wolnelektury.pl/media/book/txt/adas.txt\n",
      "https://wolnelektury.pl/media/book/txt/adelka.txt\n",
      "https://wolnelektury.pl/media/book/txt/agady-talmudyczne.txt\n"
     ]
    },
    {
     "name": "stderr",
     "output_type": "stream",
     "text": [
      "  0%|          | 13/5750 [00:01<10:24,  9.18it/s]"
     ]
    },
    {
     "name": "stdout",
     "output_type": "stream",
     "text": [
      "https://wolnelektury.pl/media/book/txt/ajschylos-oresteja.txt\n",
      "https://wolnelektury.pl/media/book/txt/ajschylos-prometeusz-skowany.txt\n"
     ]
    },
    {
     "name": "stderr",
     "output_type": "stream",
     "text": [
      "  0%|          | 16/5750 [00:01<10:03,  9.50it/s]"
     ]
    },
    {
     "name": "stdout",
     "output_type": "stream",
     "text": [
      "https://wolnelektury.pl/media/book/txt/akordy-jesienne.txt\n",
      "https://wolnelektury.pl/media/book/txt/akslop.txt\n",
      "https://wolnelektury.pl/media/book/txt/alegoria-bajki-nowe.txt\n"
     ]
    },
    {
     "name": "stderr",
     "output_type": "stream",
     "text": [
      "\r",
      "  0%|          | 18/5750 [00:01<10:20,  9.23it/s]"
     ]
    },
    {
     "name": "stdout",
     "output_type": "stream",
     "text": [
      "https://wolnelektury.pl/media/book/txt/alejchem-kasrylewka.txt\n",
      "https://wolnelektury.pl/media/book/txt/alejchem-z-jarmarku.txt\n"
     ]
    },
    {
     "name": "stderr",
     "output_type": "stream",
     "text": [
      "\r",
      "  0%|          | 19/5750 [00:02<10:47,  8.85it/s]"
     ]
    },
    {
     "name": "stdout",
     "output_type": "stream",
     "text": [
      "https://wolnelektury.pl/media/book/txt/aleksander-dumas-trzej-muszkieterowie.txt\n",
      "https://wolnelektury.pl/media/book/txt/aleksander-dumas-trzej-muszkieterowie-tom-2.txt\n"
     ]
    },
    {
     "name": "stderr",
     "output_type": "stream",
     "text": [
      "\r",
      "  0%|          | 21/5750 [00:02<10:58,  8.70it/s]"
     ]
    },
    {
     "name": "stdout",
     "output_type": "stream",
     "text": [
      "https://wolnelektury.pl/media/book/txt/alinka.txt\n",
      "https://wolnelektury.pl/media/book/txt/amicis-serce.txt\n"
     ]
    },
    {
     "name": "stderr",
     "output_type": "stream",
     "text": [
      "  0%|          | 25/5750 [00:02<10:43,  8.89it/s]"
     ]
    },
    {
     "name": "stdout",
     "output_type": "stream",
     "text": [
      "https://wolnelektury.pl/media/book/txt/an-frau-caroline-pichler.txt\n",
      "https://wolnelektury.pl/media/book/txt/andersen-motylek.txt\n",
      "https://wolnelektury.pl/media/book/txt/andersen-tylko-grajek.txt\n"
     ]
    },
    {
     "name": "stderr",
     "output_type": "stream",
     "text": [
      "  0%|          | 27/5750 [00:03<11:02,  8.64it/s]"
     ]
    },
    {
     "name": "stdout",
     "output_type": "stream",
     "text": [
      "https://wolnelektury.pl/media/book/txt/androgyne.txt\n",
      "https://wolnelektury.pl/media/book/txt/andrzejewski-ciemnosci-kryja-ziemie.txt\n"
     ]
    },
    {
     "name": "stderr",
     "output_type": "stream",
     "text": [
      "\r",
      "  0%|          | 28/5750 [00:03<11:07,  8.57it/s]"
     ]
    },
    {
     "name": "stdout",
     "output_type": "stream",
     "text": [
      "https://wolnelektury.pl/media/book/txt/andrzejewski-miazga.txt\n"
     ]
    },
    {
     "name": "stderr",
     "output_type": "stream",
     "text": [
      "  1%|          | 31/5750 [00:03<11:18,  8.43it/s]"
     ]
    },
    {
     "name": "stdout",
     "output_type": "stream",
     "text": [
      "https://wolnelektury.pl/media/book/txt/anielka.txt\n",
      "https://wolnelektury.pl/media/book/txt/aniol.txt\n",
      "https://wolnelektury.pl/media/book/txt/aniol-kopalni-wegla.txt\n"
     ]
    },
    {
     "name": "stderr",
     "output_type": "stream",
     "text": [
      "  1%|          | 34/5750 [00:03<11:01,  8.64it/s]"
     ]
    },
    {
     "name": "stdout",
     "output_type": "stream",
     "text": [
      "https://wolnelektury.pl/media/book/txt/aniol-ognisty-moj-aniol-lewy.txt\n",
      "https://wolnelektury.pl/media/book/txt/aniol-pasterzom-mowil.txt\n",
      "https://wolnelektury.pl/media/book/txt/anioly-stoja-na-rodzinnych-polach.txt\n"
     ]
    },
    {
     "name": "stderr",
     "output_type": "stream",
     "text": [
      "\r",
      "  1%|          | 36/5750 [00:04<10:54,  8.73it/s]"
     ]
    },
    {
     "name": "stdout",
     "output_type": "stream",
     "text": [
      "https://wolnelektury.pl/media/book/txt/anski-dybuk.txt\n",
      "https://wolnelektury.pl/media/book/txt/antanas-baranauskas-anyksci-silelis.txt\n",
      "https://wolnelektury.pl/media/book/txt/antek.txt\n"
     ]
    },
    {
     "name": "stderr",
     "output_type": "stream",
     "text": [
      "  1%|          | 40/5750 [00:04<10:35,  8.99it/s]"
     ]
    },
    {
     "name": "stdout",
     "output_type": "stream",
     "text": [
      "https://wolnelektury.pl/media/book/txt/antoniewicz-burza.txt\n",
      "https://wolnelektury.pl/media/book/txt/antoniewicz-dobranoc.txt\n",
      "https://wolnelektury.pl/media/book/txt/antoniewicz-gdzie-bluszcz-po-zimnym-grobie-sie-wije.txt\n"
     ]
    },
    {
     "name": "stderr",
     "output_type": "stream",
     "text": [
      "  1%|          | 44/5750 [00:04<10:12,  9.31it/s]"
     ]
    },
    {
     "name": "stdout",
     "output_type": "stream",
     "text": [
      "https://wolnelektury.pl/media/book/txt/antoniewicz-glos-rospaczy.txt\n",
      "https://wolnelektury.pl/media/book/txt/antoniewicz-grob.txt\n",
      "https://wolnelektury.pl/media/book/txt/antoniewicz-jesien.txt\n",
      "https://wolnelektury.pl/media/book/txt/antoniewicz-lecz-jakze-prozne-sa-wszystkie-nadzieje.txt\n"
     ]
    },
    {
     "name": "stderr",
     "output_type": "stream",
     "text": [
      "  1%|          | 48/5750 [00:04<09:53,  9.61it/s]"
     ]
    },
    {
     "name": "stdout",
     "output_type": "stream",
     "text": [
      "https://wolnelektury.pl/media/book/txt/antoniewicz-lecz-prozna-nadzieja-i-martwe-zyczenie.txt\n",
      "https://wolnelektury.pl/media/book/txt/antoniewicz-lzy.txt\n",
      "https://wolnelektury.pl/media/book/txt/antoniewicz-milosc.txt\n",
      "https://wolnelektury.pl/media/book/txt/antoniewicz-noc.txt\n"
     ]
    },
    {
     "name": "stderr",
     "output_type": "stream",
     "text": [
      "\r",
      "  1%|          | 50/5750 [00:05<09:45,  9.73it/s]"
     ]
    },
    {
     "name": "stdout",
     "output_type": "stream",
     "text": [
      "https://wolnelektury.pl/media/book/txt/antoniewicz-odpowiedz-opatrznosci.txt\n",
      "https://wolnelektury.pl/media/book/txt/antoniewicz-oko.txt\n",
      "https://wolnelektury.pl/media/book/txt/antoniewicz-pielgrzym.txt\n"
     ]
    },
    {
     "name": "stderr",
     "output_type": "stream",
     "text": [
      "  1%|          | 54/5750 [00:05<09:31,  9.96it/s]"
     ]
    },
    {
     "name": "stdout",
     "output_type": "stream",
     "text": [
      "https://wolnelektury.pl/media/book/txt/antoniewicz-ranek.txt\n",
      "https://wolnelektury.pl/media/book/txt/antoniewicz-sen.txt\n",
      "https://wolnelektury.pl/media/book/txt/antoniewicz-sonety.txt\n"
     ]
    },
    {
     "name": "stderr",
     "output_type": "stream",
     "text": [
      "\r",
      "  1%|          | 56/5750 [00:05<09:25, 10.07it/s]"
     ]
    },
    {
     "name": "stdout",
     "output_type": "stream",
     "text": [
      "https://wolnelektury.pl/media/book/txt/antoniewicz-to-ona.txt\n",
      "https://wolnelektury.pl/media/book/txt/antoniewicz-ucieczka.txt\n",
      "https://wolnelektury.pl/media/book/txt/antoniewicz-wizyta.txt\n"
     ]
    },
    {
     "name": "stderr",
     "output_type": "stream",
     "text": [
      "  1%|          | 60/5750 [00:05<09:14, 10.26it/s]"
     ]
    },
    {
     "name": "stdout",
     "output_type": "stream",
     "text": [
      "https://wolnelektury.pl/media/book/txt/antoniewicz-wspolczucie.txt\n",
      "https://wolnelektury.pl/media/book/txt/antoniewicz-wstep.txt\n",
      "https://wolnelektury.pl/media/book/txt/antoniewicz-zeglarz.txt\n"
     ]
    },
    {
     "name": "stderr",
     "output_type": "stream",
     "text": [
      "  1%|          | 64/5750 [00:06<09:07, 10.38it/s]"
     ]
    },
    {
     "name": "stdout",
     "output_type": "stream",
     "text": [
      "https://wolnelektury.pl/media/book/txt/antoniewicz-zycie.txt\n",
      "https://wolnelektury.pl/media/book/txt/antygona.txt\n",
      "https://wolnelektury.pl/media/book/txt/antymonachomachia.txt\n",
      "https://wolnelektury.pl/media/book/txt/aptekarzowa.txt\n"
     ]
    },
    {
     "name": "stderr",
     "output_type": "stream",
     "text": [
      "\r",
      "  1%|          | 66/5750 [00:06<09:03, 10.46it/s]"
     ]
    },
    {
     "name": "stdout",
     "output_type": "stream",
     "text": [
      "https://wolnelektury.pl/media/book/txt/architekstura-srednioodwieczna.txt\n",
      "https://wolnelektury.pl/media/book/txt/argonauts-of-the-western-pacific.txt\n"
     ]
    },
    {
     "name": "stderr",
     "output_type": "stream",
     "text": [
      "\r",
      "  1%|          | 68/5750 [00:06<09:16, 10.22it/s]"
     ]
    },
    {
     "name": "stdout",
     "output_type": "stream",
     "text": [
      "https://wolnelektury.pl/media/book/txt/aryman-msci-sie.txt\n",
      "https://wolnelektury.pl/media/book/txt/arystofanes-chmury.txt\n"
     ]
    },
    {
     "name": "stderr",
     "output_type": "stream",
     "text": [
      "\r",
      "  1%|          | 70/5750 [00:06<09:19, 10.16it/s]"
     ]
    },
    {
     "name": "stdout",
     "output_type": "stream",
     "text": [
      "https://wolnelektury.pl/media/book/txt/arystofanes-gromiwoja.txt\n",
      "https://wolnelektury.pl/media/book/txt/arystofanes-zaby.txt\n"
     ]
    },
    {
     "name": "stderr",
     "output_type": "stream",
     "text": [
      "\r",
      "  1%|▏         | 72/5750 [00:07<09:17, 10.18it/s]"
     ]
    },
    {
     "name": "stdout",
     "output_type": "stream",
     "text": [
      "https://wolnelektury.pl/media/book/txt/asbe.txt\n",
      "https://wolnelektury.pl/media/book/txt/asnyk-a-sonnet-one-heart.txt\n",
      "https://wolnelektury.pl/media/book/txt/asnyk-adamowi-plugowi.txt\n"
     ]
    },
    {
     "name": "stderr",
     "output_type": "stream",
     "text": [
      "  1%|▏         | 76/5750 [00:07<09:09, 10.33it/s]"
     ]
    },
    {
     "name": "stdout",
     "output_type": "stream",
     "text": [
      "https://wolnelektury.pl/media/book/txt/asnyk-apostrofa.txt\n",
      "https://wolnelektury.pl/media/book/txt/asnyk-bez-odpowiedzi.txt\n",
      "https://wolnelektury.pl/media/book/txt/asnyk-bezimiennemu.txt\n"
     ]
    },
    {
     "name": "stderr",
     "output_type": "stream",
     "text": [
      "\r",
      "  1%|▏         | 78/5750 [00:07<09:06, 10.38it/s]"
     ]
    },
    {
     "name": "stdout",
     "output_type": "stream",
     "text": [
      "https://wolnelektury.pl/media/book/txt/asnyk-boleslawowi-prusowi.txt\n",
      "https://wolnelektury.pl/media/book/txt/asnyk-choc-pol-i-lak.txt\n",
      "https://wolnelektury.pl/media/book/txt/asnyk-czego-ci-trzeba-dzis-posepny-tlumie.txt\n"
     ]
    },
    {
     "name": "stderr",
     "output_type": "stream",
     "text": [
      "  1%|▏         | 82/5750 [00:07<08:58, 10.52it/s]"
     ]
    },
    {
     "name": "stdout",
     "output_type": "stream",
     "text": [
      "https://wolnelektury.pl/media/book/txt/asnyk-do-sokolow.txt\n",
      "https://wolnelektury.pl/media/book/txt/asnyk-dwa-sonety.txt\n",
      "https://wolnelektury.pl/media/book/txt/asnyk-dwie-fazy.txt\n"
     ]
    },
    {
     "name": "stderr",
     "output_type": "stream",
     "text": [
      "  1%|▏         | 86/5750 [00:08<08:52, 10.64it/s]"
     ]
    },
    {
     "name": "stdout",
     "output_type": "stream",
     "text": [
      "https://wolnelektury.pl/media/book/txt/asnyk-dzien-wczorajszy.txt\n",
      "https://wolnelektury.pl/media/book/txt/asnyk-fale.txt\n",
      "https://wolnelektury.pl/media/book/txt/asnyk-fantazya-ludow.txt\n"
     ]
    },
    {
     "name": "stderr",
     "output_type": "stream",
     "text": [
      "\r",
      "  2%|▏         | 88/5750 [00:08<08:49, 10.70it/s]"
     ]
    },
    {
     "name": "stdout",
     "output_type": "stream",
     "text": [
      "https://wolnelektury.pl/media/book/txt/asnyk-fresk-pompejanski.txt\n",
      "https://wolnelektury.pl/media/book/txt/asnyk-galazka-jasminu.txt\n",
      "https://wolnelektury.pl/media/book/txt/asnyk-glos-wolajacy-na-puszczy.txt\n"
     ]
    },
    {
     "name": "stderr",
     "output_type": "stream",
     "text": [
      "\r",
      "  2%|▏         | 90/5750 [00:08<08:49, 10.68it/s]"
     ]
    },
    {
     "name": "stdout",
     "output_type": "stream",
     "text": [
      "https://wolnelektury.pl/media/book/txt/asnyk-herakles.txt\n",
      "https://wolnelektury.pl/media/book/txt/asnyk-historyczna-nowa-szkola.txt\n",
      "https://wolnelektury.pl/media/book/txt/asnyk-j-i-kraszewskiemu.txt\n"
     ]
    },
    {
     "name": "stderr",
     "output_type": "stream",
     "text": [
      "  2%|▏         | 94/5750 [00:08<08:45, 10.76it/s]"
     ]
    },
    {
     "name": "stdout",
     "output_type": "stream",
     "text": [
      "https://wolnelektury.pl/media/book/txt/asnyk-j-kollarowi.txt\n",
      "https://wolnelektury.pl/media/book/txt/asnyk-jednego-serca.txt\n",
      "https://wolnelektury.pl/media/book/txt/asnyk-juliuszowi-mien.txt\n"
     ]
    },
    {
     "name": "stderr",
     "output_type": "stream",
     "text": [
      "\r",
      "  2%|▏         | 96/5750 [00:08<08:42, 10.81it/s]"
     ]
    },
    {
     "name": "stdout",
     "output_type": "stream",
     "text": [
      "https://wolnelektury.pl/media/book/txt/asnyk-kiedym-cie-zegnal.txt\n",
      "https://wolnelektury.pl/media/book/txt/asnyk-kiejstut.txt\n",
      "https://wolnelektury.pl/media/book/txt/asnyk-krag-przemian.txt\n"
     ]
    },
    {
     "name": "stderr",
     "output_type": "stream",
     "text": [
      "  2%|▏         | 100/5750 [00:09<08:41, 10.84it/s]"
     ]
    },
    {
     "name": "stdout",
     "output_type": "stream",
     "text": [
      "https://wolnelektury.pl/media/book/txt/asnyk-memnon.txt\n",
      "https://wolnelektury.pl/media/book/txt/asnyk-miejmy-nadzieje.txt\n",
      "https://wolnelektury.pl/media/book/txt/asnyk-mlodosci-sen.txt\n"
     ]
    },
    {
     "name": "stderr",
     "output_type": "stream",
     "text": [
      "\r",
      "  2%|▏         | 102/5750 [00:09<08:39, 10.88it/s]"
     ]
    },
    {
     "name": "stdout",
     "output_type": "stream",
     "text": [
      "https://wolnelektury.pl/media/book/txt/asnyk-morskie-oko.txt\n",
      "https://wolnelektury.pl/media/book/txt/asnyk-mysli-ulotne.txt\n",
      "https://wolnelektury.pl/media/book/txt/asnyk-nad-glebiami.txt\n"
     ]
    },
    {
     "name": "stderr",
     "output_type": "stream",
     "text": [
      "  2%|▏         | 106/5750 [00:09<08:34, 10.97it/s]"
     ]
    },
    {
     "name": "stdout",
     "output_type": "stream",
     "text": [
      "https://wolnelektury.pl/media/book/txt/asnyk-nad-glebiami-i-zmiennego-bytu-falo-ty-ruchliwa.txt\n",
      "https://wolnelektury.pl/media/book/txt/asnyk-nad-glebiami-ii-wieczne-ciemnosci-bezdenne-otchlanie.txt\n",
      "https://wolnelektury.pl/media/book/txt/asnyk-nad-glebiami-iii-ludzaca-maja-otworzy-ci-oczy.txt\n"
     ]
    },
    {
     "name": "stderr",
     "output_type": "stream",
     "text": [
      "\r",
      "  2%|▏         | 108/5750 [00:09<08:32, 11.02it/s]"
     ]
    },
    {
     "name": "stdout",
     "output_type": "stream",
     "text": [
      "https://wolnelektury.pl/media/book/txt/asnyk-nad-glebiami-iv-jak-ptaki-kiedy-odlatywac-poczna.txt\n",
      "https://wolnelektury.pl/media/book/txt/asnyk-nad-glebiami-ix-niesmiertelnosci-nie-poszukuj-w-prochnie.txt\n",
      "https://wolnelektury.pl/media/book/txt/asnyk-nad-glebiami-v-gdy-nas-ciemnosci-otaczaja-wszedzie.txt\n"
     ]
    },
    {
     "name": "stderr",
     "output_type": "stream",
     "text": [
      "  2%|▏         | 112/5750 [00:10<08:29, 11.08it/s]"
     ]
    },
    {
     "name": "stdout",
     "output_type": "stream",
     "text": [
      "https://wolnelektury.pl/media/book/txt/asnyk-nad-glebiami-vi-na-falach-swoich-toczy-slonc-miliony.txt\n",
      "https://wolnelektury.pl/media/book/txt/asnyk-nad-glebiami-vii-rzucone-w-przestrzen-zlotych-gwiazd-kagance.txt\n",
      "https://wolnelektury.pl/media/book/txt/asnyk-nad-glebiami-viii-noc-noc-wieczysta-glusza-przedbytowa.txt\n"
     ]
    },
    {
     "name": "stderr",
     "output_type": "stream",
     "text": [
      "\r",
      "  2%|▏         | 114/5750 [00:10<08:26, 11.12it/s]"
     ]
    },
    {
     "name": "stdout",
     "output_type": "stream",
     "text": [
      "https://wolnelektury.pl/media/book/txt/asnyk-nad-glebiami-x-tylko-tresc-ktora-z-caloscia-sie-splata.txt\n",
      "https://wolnelektury.pl/media/book/txt/asnyk-nad-glebiami-xi-ilez-to-zgonow-i-narodzin-ile.txt\n",
      "https://wolnelektury.pl/media/book/txt/asnyk-nad-glebiami-xii-wzniosle-dazenia-szlachetne-pobudki.txt\n"
     ]
    },
    {
     "name": "stderr",
     "output_type": "stream",
     "text": [
      "  2%|▏         | 118/5750 [00:10<08:23, 11.19it/s]"
     ]
    },
    {
     "name": "stdout",
     "output_type": "stream",
     "text": [
      "https://wolnelektury.pl/media/book/txt/asnyk-nad-glebiami-xiii-przeszlosc-nie-wraca-jak-zywe-zjawisko.txt\n",
      "https://wolnelektury.pl/media/book/txt/asnyk-nad-glebiami-xiv-po-wszystkie-czasy-przez-obszar-daleki.txt\n",
      "https://wolnelektury.pl/media/book/txt/asnyk-nad-glebiami-xix-dopiero-w-zwiazku-z-wszechswiata-ogromem.txt\n",
      "https://wolnelektury.pl/media/book/txt/asnyk-nad-glebiami-xv-na-dzieci-spada-win-ojcowskich-brzemie.txt\n"
     ]
    },
    {
     "name": "stderr",
     "output_type": "stream",
     "text": [
      "  2%|▏         | 122/5750 [00:10<08:18, 11.29it/s]"
     ]
    },
    {
     "name": "stdout",
     "output_type": "stream",
     "text": [
      "https://wolnelektury.pl/media/book/txt/asnyk-nad-glebiami-xvi-dzien-w-ktorym-jeden-z-grzesznych-braci-kola.txt\n",
      "https://wolnelektury.pl/media/book/txt/asnyk-nad-glebiami-xvii-co-zlosc-zniweczy-co-wystepek-zburzy.txt\n",
      "https://wolnelektury.pl/media/book/txt/asnyk-nad-glebiami-xviii-tak-zle-jak-dobre-wspolna-jest-zdobycza.txt\n"
     ]
    },
    {
     "name": "stderr",
     "output_type": "stream",
     "text": [
      "\r",
      "  2%|▏         | 124/5750 [00:10<08:16, 11.32it/s]"
     ]
    },
    {
     "name": "stdout",
     "output_type": "stream",
     "text": [
      "https://wolnelektury.pl/media/book/txt/asnyk-nad-glebiami-xx-w-nieprzerwalnosci-zbiorowego-bytu.txt\n",
      "https://wolnelektury.pl/media/book/txt/asnyk-nad-glebiami-xxi-w-coraz-to-wyzsze-przeradza-sie-wzory.txt\n",
      "https://wolnelektury.pl/media/book/txt/asnyk-nad-glebiami-xxii-naprzod-i-wyzej.txt\n"
     ]
    },
    {
     "name": "stderr",
     "output_type": "stream",
     "text": [
      "  2%|▏         | 128/5750 [00:11<08:13, 11.40it/s]"
     ]
    },
    {
     "name": "stdout",
     "output_type": "stream",
     "text": [
      "https://wolnelektury.pl/media/book/txt/asnyk-nad-glebiami-xxiii-choc-w-praw-niezmiennych-poruszasz-sie-kole.txt\n",
      "https://wolnelektury.pl/media/book/txt/asnyk-nad-glebiami-xxiv-przez-chwile-mozesz-slepa-byc-zapora.txt\n",
      "https://wolnelektury.pl/media/book/txt/asnyk-nad-glebiami-xxix-poki-w-narodzie-mysl-swobody-zyje.txt\n"
     ]
    },
    {
     "name": "stderr",
     "output_type": "stream",
     "text": [
      "  2%|▏         | 132/5750 [00:11<08:09, 11.47it/s]"
     ]
    },
    {
     "name": "stdout",
     "output_type": "stream",
     "text": [
      "https://wolnelektury.pl/media/book/txt/asnyk-nad-glebiami-xxv-jako-czasteczka-wszechswiata-myslaca.txt\n",
      "https://wolnelektury.pl/media/book/txt/asnyk-nad-glebiami-xxvi-pierwotna-bialosc-slonecznych-promieni.txt\n",
      "https://wolnelektury.pl/media/book/txt/asnyk-nad-glebiami-xxvii-smutny-jest-schylek-roku-w-mgiel-pomroce.txt\n",
      "https://wolnelektury.pl/media/book/txt/asnyk-nad-glebiami-xxviii-ci-ktorzy-jasnosc-zegnaja-znikniona.txt\n"
     ]
    },
    {
     "name": "stderr",
     "output_type": "stream",
     "text": [
      "\r",
      "  2%|▏         | 134/5750 [00:11<08:07, 11.51it/s]"
     ]
    },
    {
     "name": "stdout",
     "output_type": "stream",
     "text": [
      "https://wolnelektury.pl/media/book/txt/asnyk-nad-glebiami-xxx-taka-jak-bylas-nie-wstaniesz-z-mogily.txt\n",
      "https://wolnelektury.pl/media/book/txt/asnyk-nad-glebiami-xxxi-odkad-znow-padlo-w-proch-twe-czolo-dumne.txt\n",
      "https://wolnelektury.pl/media/book/txt/asnyk-nad-glebiami-xxxii-nie-mysl-o-szczesciu-nie-mysl-o-milosci.txt\n"
     ]
    },
    {
     "name": "stderr",
     "output_type": "stream",
     "text": [
      "  2%|▏         | 138/5750 [00:11<08:04, 11.57it/s]"
     ]
    },
    {
     "name": "stdout",
     "output_type": "stream",
     "text": [
      "https://wolnelektury.pl/media/book/txt/asnyk-nad-glebiami-xxxiii-posrod-narodow-wyscie-nedzarzami.txt\n",
      "https://wolnelektury.pl/media/book/txt/asnyk-no-nothing-happened-there.txt\n",
      "https://wolnelektury.pl/media/book/txt/asnyk-oh-void-complaints.txt\n"
     ]
    },
    {
     "name": "stderr",
     "output_type": "stream",
     "text": [
      "\r",
      "  2%|▏         | 140/5750 [00:12<08:04, 11.58it/s]"
     ]
    },
    {
     "name": "stdout",
     "output_type": "stream",
     "text": [
      "https://wolnelektury.pl/media/book/txt/asnyk-to-the-young.txt\n",
      "https://wolnelektury.pl/media/book/txt/asnyk-ze-sceny-swiata.txt\n",
      "https://wolnelektury.pl/media/book/txt/asnyk-ze-sceny-swiata-i-oto-ja-aniol-zniszczen.txt\n"
     ]
    },
    {
     "name": "stderr",
     "output_type": "stream",
     "text": [
      "  3%|▎         | 144/5750 [00:12<08:02, 11.63it/s]"
     ]
    },
    {
     "name": "stdout",
     "output_type": "stream",
     "text": [
      "https://wolnelektury.pl/media/book/txt/asnyk-ze-sceny-swiata-ii-rzeklem-i-uslyszala-mnie.txt\n",
      "https://wolnelektury.pl/media/book/txt/asnyk-ze-sceny-swiata-iii-i-powstal-krzyk-ogromny.txt\n",
      "https://wolnelektury.pl/media/book/txt/asnyk-ze-sceny-swiata-iv-wstala-jutrznia-czerwona.txt\n"
     ]
    },
    {
     "name": "stderr",
     "output_type": "stream",
     "text": [
      "\r",
      "  3%|▎         | 146/5750 [00:12<08:01, 11.64it/s]"
     ]
    },
    {
     "name": "stdout",
     "output_type": "stream",
     "text": [
      "https://wolnelektury.pl/media/book/txt/asnyk-ze-sceny-swiata-ix-na-tem-koniec.txt\n",
      "https://wolnelektury.pl/media/book/txt/asnyk-ze-sceny-swiata-v-to-byl-prolog-dopiero.txt\n",
      "https://wolnelektury.pl/media/book/txt/asnyk-ze-sceny-swiata-vi-teraz-to-rzez-za-rzezia.txt\n"
     ]
    },
    {
     "name": "stderr",
     "output_type": "stream",
     "text": [
      "  3%|▎         | 150/5750 [00:12<08:00, 11.66it/s]"
     ]
    },
    {
     "name": "stdout",
     "output_type": "stream",
     "text": [
      "https://wolnelektury.pl/media/book/txt/asnyk-ze-sceny-swiata-vii-piekne-dzielo-zniszczenia.txt\n",
      "https://wolnelektury.pl/media/book/txt/asnyk-ze-sceny-swiata-viii-tryumf-moj-jest-zupelny.txt\n",
      "https://wolnelektury.pl/media/book/txt/asnyk-ze-sceny-swiata-x-wiec-znow-snuja-sie.txt\n"
     ]
    },
    {
     "name": "stderr",
     "output_type": "stream",
     "text": [
      "\r",
      "  3%|▎         | 152/5750 [00:13<07:59, 11.68it/s]"
     ]
    },
    {
     "name": "stdout",
     "output_type": "stream",
     "text": [
      "https://wolnelektury.pl/media/book/txt/asnyk-ze-sceny-swiata-xi-o-jakze-piekne-plony.txt\n",
      "https://wolnelektury.pl/media/book/txt/asnyk-ze-sceny-swiata-xii-ja-jeden-tryumfuje.txt\n",
      "https://wolnelektury.pl/media/book/txt/asnykas-kestutis.txt\n"
     ]
    },
    {
     "name": "stderr",
     "output_type": "stream",
     "text": [
      "  3%|▎         | 156/5750 [00:13<08:00, 11.65it/s]"
     ]
    },
    {
     "name": "stdout",
     "output_type": "stream",
     "text": [
      "https://wolnelektury.pl/media/book/txt/asyz.txt\n",
      "https://wolnelektury.pl/media/book/txt/atala.txt\n",
      "https://wolnelektury.pl/media/book/txt/atlas-i-kitaj.txt\n",
      "https://wolnelektury.pl/media/book/txt/australczyk.txt\n"
     ]
    },
    {
     "name": "stderr",
     "output_type": "stream",
     "text": [
      "  3%|▎         | 160/5750 [00:13<08:04, 11.55it/s]"
     ]
    },
    {
     "name": "stdout",
     "output_type": "stream",
     "text": [
      "https://wolnelektury.pl/media/book/txt/autobiografia-w-listach.txt\n",
      "https://wolnelektury.pl/media/book/txt/autoentyzm.txt\n",
      "https://wolnelektury.pl/media/book/txt/ave-maria.txt\n"
     ]
    },
    {
     "name": "stderr",
     "output_type": "stream",
     "text": [
      "\r",
      "  3%|▎         | 162/5750 [00:14<08:03, 11.56it/s]"
     ]
    },
    {
     "name": "stdout",
     "output_type": "stream",
     "text": [
      "https://wolnelektury.pl/media/book/txt/babel-konkin.txt\n",
      "https://wolnelektury.pl/media/book/txt/bachantki.txt\n",
      "https://wolnelektury.pl/media/book/txt/baczynski-1942-1943-1944.txt\n"
     ]
    },
    {
     "name": "stderr",
     "output_type": "stream",
     "text": [
      "  3%|▎         | 166/5750 [00:14<08:02, 11.58it/s]"
     ]
    },
    {
     "name": "stdout",
     "output_type": "stream",
     "text": [
      "https://wolnelektury.pl/media/book/txt/baczynski-1942-1943-1944-motto-i-dedykacja.txt\n",
      "https://wolnelektury.pl/media/book/txt/baczynski-ach-umieram-umieram.txt\n",
      "https://wolnelektury.pl/media/book/txt/baczynski-ad-aristum-fuscum.txt\n"
     ]
    },
    {
     "name": "stderr",
     "output_type": "stream",
     "text": [
      "\r",
      "  3%|▎         | 168/5750 [00:14<08:01, 11.59it/s]"
     ]
    },
    {
     "name": "stdout",
     "output_type": "stream",
     "text": [
      "https://wolnelektury.pl/media/book/txt/baczynski-bajka.txt\n",
      "https://wolnelektury.pl/media/book/txt/baczynski-ballada-morska.txt\n",
      "https://wolnelektury.pl/media/book/txt/baczynski-ballada-o-rzece.txt\n"
     ]
    },
    {
     "name": "stderr",
     "output_type": "stream",
     "text": [
      "  3%|▎         | 172/5750 [00:14<08:00, 11.61it/s]"
     ]
    },
    {
     "name": "stdout",
     "output_type": "stream",
     "text": [
      "https://wolnelektury.pl/media/book/txt/baczynski-ballada-o-trzech-krolach.txt\n",
      "https://wolnelektury.pl/media/book/txt/baczynski-ballada-zimowa.txt\n",
      "https://wolnelektury.pl/media/book/txt/baczynski-bez-imienia.txt\n"
     ]
    },
    {
     "name": "stderr",
     "output_type": "stream",
     "text": [
      "\r",
      "  3%|▎         | 174/5750 [00:14<07:59, 11.63it/s]"
     ]
    },
    {
     "name": "stdout",
     "output_type": "stream",
     "text": [
      "https://wolnelektury.pl/media/book/txt/baczynski-biala-magia.txt\n",
      "https://wolnelektury.pl/media/book/txt/baczynski-bohater.txt\n",
      "https://wolnelektury.pl/media/book/txt/baczynski-byles-jak-wielkie-stare-drzewo.txt\n"
     ]
    },
    {
     "name": "stderr",
     "output_type": "stream",
     "text": [
      "  3%|▎         | 178/5750 [00:15<07:58, 11.65it/s]"
     ]
    },
    {
     "name": "stdout",
     "output_type": "stream",
     "text": [
      "https://wolnelektury.pl/media/book/txt/baczynski-ci-ludzie.txt\n",
      "https://wolnelektury.pl/media/book/txt/baczynski-cialo.txt\n",
      "https://wolnelektury.pl/media/book/txt/baczynski-ciemna-milosc.txt\n"
     ]
    },
    {
     "name": "stderr",
     "output_type": "stream",
     "text": [
      "\r",
      "  3%|▎         | 180/5750 [00:15<07:57, 11.66it/s]"
     ]
    },
    {
     "name": "stdout",
     "output_type": "stream",
     "text": [
      "https://wolnelektury.pl/media/book/txt/baczynski-co-jest-we-mnie.txt\n",
      "https://wolnelektury.pl/media/book/txt/baczynski-czart.txt\n",
      "https://wolnelektury.pl/media/book/txt/baczynski-deszcze.txt\n"
     ]
    },
    {
     "name": "stderr",
     "output_type": "stream",
     "text": [
      "  3%|▎         | 184/5750 [00:15<07:57, 11.66it/s]"
     ]
    },
    {
     "name": "stdout",
     "output_type": "stream",
     "text": [
      "https://wolnelektury.pl/media/book/txt/baczynski-do-matki-boskiej.txt\n",
      "https://wolnelektury.pl/media/book/txt/baczynski-do-przyjaciela.txt\n",
      "https://wolnelektury.pl/media/book/txt/baczynski-dokad-to-jeszcze-ten-cien-stoi-we-mnie.txt\n"
     ]
    },
    {
     "name": "stderr",
     "output_type": "stream",
     "text": [
      "\r",
      "  3%|▎         | 186/5750 [00:15<07:56, 11.67it/s]"
     ]
    },
    {
     "name": "stdout",
     "output_type": "stream",
     "text": [
      "https://wolnelektury.pl/media/book/txt/baczynski-dwie-milosci.txt\n",
      "https://wolnelektury.pl/media/book/txt/baczynski-dymy-wysokie-sztandary.txt\n",
      "https://wolnelektury.pl/media/book/txt/baczynski-dzielo-dla-rak.txt\n"
     ]
    },
    {
     "name": "stderr",
     "output_type": "stream",
     "text": [
      "  3%|▎         | 190/5750 [00:16<07:56, 11.66it/s]"
     ]
    },
    {
     "name": "stdout",
     "output_type": "stream",
     "text": [
      "https://wolnelektury.pl/media/book/txt/baczynski-dzien-sadu.txt\n",
      "https://wolnelektury.pl/media/book/txt/baczynski-elegia-mokre-galezie-swierkow.txt\n",
      "https://wolnelektury.pl/media/book/txt/baczynski-elegia-o-chlopcu-polskim.txt\n"
     ]
    },
    {
     "name": "stderr",
     "output_type": "stream",
     "text": [
      "\r",
      "  3%|▎         | 192/5750 [00:16<07:56, 11.67it/s]"
     ]
    },
    {
     "name": "stdout",
     "output_type": "stream",
     "text": [
      "https://wolnelektury.pl/media/book/txt/baczynski-elegia-obloki-lotne-zagle-uniesien.txt\n",
      "https://wolnelektury.pl/media/book/txt/baczynski-elegia-to-odwaga-zycie-wzdycha-tak-ciezko.txt\n",
      "https://wolnelektury.pl/media/book/txt/baczynski-erotyk.txt\n"
     ]
    },
    {
     "name": "stderr",
     "output_type": "stream",
     "text": [
      "  3%|▎         | 196/5750 [00:16<07:53, 11.72it/s]"
     ]
    },
    {
     "name": "stdout",
     "output_type": "stream",
     "text": [
      "https://wolnelektury.pl/media/book/txt/baczynski-gdy-bron-dymiaca-z-dloni-wyjme.txt\n",
      "https://wolnelektury.pl/media/book/txt/baczynski-gdy-za-powietrza-zaslona.txt\n",
      "https://wolnelektury.pl/media/book/txt/baczynski-groteska.txt\n"
     ]
    },
    {
     "name": "stderr",
     "output_type": "stream",
     "text": [
      "\r",
      "  3%|▎         | 198/5750 [00:16<07:53, 11.74it/s]"
     ]
    },
    {
     "name": "stdout",
     "output_type": "stream",
     "text": [
      "https://wolnelektury.pl/media/book/txt/baczynski-hallelujah.txt\n",
      "https://wolnelektury.pl/media/book/txt/baczynski-hellada.txt\n",
      "https://wolnelektury.pl/media/book/txt/baczynski-historia.txt\n"
     ]
    },
    {
     "name": "stderr",
     "output_type": "stream",
     "text": [
      "  4%|▎         | 202/5750 [00:17<07:51, 11.77it/s]"
     ]
    },
    {
     "name": "stdout",
     "output_type": "stream",
     "text": [
      "https://wolnelektury.pl/media/book/txt/baczynski-i-czesc-krzyz-czlowieczy.txt\n",
      "https://wolnelektury.pl/media/book/txt/baczynski-jerzy-moj-przyjacielu.txt\n",
      "https://wolnelektury.pl/media/book/txt/baczynski-jesienny-spacer-poetow.txt\n"
     ]
    },
    {
     "name": "stderr",
     "output_type": "stream",
     "text": [
      "\r",
      "  4%|▎         | 204/5750 [00:17<07:50, 11.79it/s]"
     ]
    },
    {
     "name": "stdout",
     "output_type": "stream",
     "text": [
      "https://wolnelektury.pl/media/book/txt/baczynski-juwenilia-ii.txt\n",
      "https://wolnelektury.pl/media/book/txt/baczynski-juwenilla-t-2-24xii.txt\n",
      "https://wolnelektury.pl/media/book/txt/baczynski-juwenilla-t-2-ars-poetica.txt\n"
     ]
    },
    {
     "name": "stderr",
     "output_type": "stream",
     "text": [
      "  4%|▎         | 208/5750 [00:17<07:49, 11.80it/s]"
     ]
    },
    {
     "name": "stdout",
     "output_type": "stream",
     "text": [
      "https://wolnelektury.pl/media/book/txt/baczynski-juwenilla-t-2-chore-mysli.txt\n",
      "https://wolnelektury.pl/media/book/txt/baczynski-juwenilla-t-2-chrystus.txt\n",
      "https://wolnelektury.pl/media/book/txt/baczynski-juwenilla-t-2-ciel-brouille.txt\n"
     ]
    },
    {
     "name": "stderr",
     "output_type": "stream",
     "text": [
      "\r",
      "  4%|▎         | 210/5750 [00:17<07:49, 11.81it/s]"
     ]
    },
    {
     "name": "stdout",
     "output_type": "stream",
     "text": [
      "https://wolnelektury.pl/media/book/txt/baczynski-juwenilla-t-2-dni-nienawisci.txt\n",
      "https://wolnelektury.pl/media/book/txt/baczynski-juwenilla-t-2-droga.txt\n",
      "https://wolnelektury.pl/media/book/txt/baczynski-juwenilla-t-2-dziki-laur.txt\n"
     ]
    },
    {
     "name": "stderr",
     "output_type": "stream",
     "text": [
      "  4%|▎         | 214/5750 [00:18<07:47, 11.85it/s]"
     ]
    },
    {
     "name": "stdout",
     "output_type": "stream",
     "text": [
      "https://wolnelektury.pl/media/book/txt/baczynski-juwenilla-t-2-elegia-iv.txt\n",
      "https://wolnelektury.pl/media/book/txt/baczynski-juwenilla-t-2-hymn-wieczorow-miejskich.txt\n",
      "https://wolnelektury.pl/media/book/txt/baczynski-juwenilla-t-2-iv-dni.txt\n"
     ]
    },
    {
     "name": "stderr",
     "output_type": "stream",
     "text": [
      "  4%|▍         | 218/5750 [00:18<07:45, 11.89it/s]"
     ]
    },
    {
     "name": "stdout",
     "output_type": "stream",
     "text": [
      "https://wolnelektury.pl/media/book/txt/baczynski-juwenilla-t-2-jesien.txt\n",
      "https://wolnelektury.pl/media/book/txt/baczynski-juwenilla-t-2-juz-nie-pamietam.txt\n",
      "https://wolnelektury.pl/media/book/txt/baczynski-juwenilla-t-2-krajobraz.txt\n"
     ]
    },
    {
     "name": "stderr",
     "output_type": "stream",
     "text": [
      "\r",
      "  4%|▍         | 220/5750 [00:18<07:44, 11.91it/s]"
     ]
    },
    {
     "name": "stdout",
     "output_type": "stream",
     "text": [
      "https://wolnelektury.pl/media/book/txt/baczynski-juwenilla-t-2-lesclave.txt\n",
      "https://wolnelektury.pl/media/book/txt/baczynski-juwenilla-t-2-melancholia.txt\n",
      "https://wolnelektury.pl/media/book/txt/baczynski-juwenilla-t-2-moment-wiecznosci.txt\n",
      "https://wolnelektury.pl/media/book/txt/baczynski-juwenilla-t-2-morze-wracajace.txt\n"
     ]
    },
    {
     "name": "stderr",
     "output_type": "stream",
     "text": [
      "  4%|▍         | 224/5750 [00:18<07:42, 11.95it/s]"
     ]
    },
    {
     "name": "stdout",
     "output_type": "stream",
     "text": [
      "https://wolnelektury.pl/media/book/txt/baczynski-juwenilla-t-2-nie-placz.txt\n",
      "https://wolnelektury.pl/media/book/txt/baczynski-juwenilla-t-2-noca-gdy.txt\n",
      "https://wolnelektury.pl/media/book/txt/baczynski-juwenilla-t-2-piesn-wagabundow.txt\n",
      "https://wolnelektury.pl/media/book/txt/baczynski-juwenilla-t-2-piosenka-wprost-na-przelaj.txt\n"
     ]
    },
    {
     "name": "stderr",
     "output_type": "stream",
     "text": [
      "  4%|▍         | 228/5750 [00:19<07:40, 11.98it/s]"
     ]
    },
    {
     "name": "stdout",
     "output_type": "stream",
     "text": [
      "https://wolnelektury.pl/media/book/txt/baczynski-juwenilla-t-2-podroze.txt\n",
      "https://wolnelektury.pl/media/book/txt/baczynski-juwenilla-t-2-powrot.txt\n",
      "https://wolnelektury.pl/media/book/txt/baczynski-juwenilla-t-2-powrot-ii.txt\n"
     ]
    },
    {
     "name": "stderr",
     "output_type": "stream",
     "text": [
      "  4%|▍         | 232/5750 [00:19<07:38, 12.02it/s]"
     ]
    },
    {
     "name": "stdout",
     "output_type": "stream",
     "text": [
      "https://wolnelektury.pl/media/book/txt/baczynski-juwenilla-t-2-sonet-morze.txt\n",
      "https://wolnelektury.pl/media/book/txt/baczynski-juwenilla-t-2-spotkanie-dalekie.txt\n",
      "https://wolnelektury.pl/media/book/txt/baczynski-juwenilla-t-2-ucieczka.txt\n",
      "https://wolnelektury.pl/media/book/txt/baczynski-juwenilla-t-2-wieczor-na-poludniu.txt\n"
     ]
    },
    {
     "name": "stderr",
     "output_type": "stream",
     "text": [
      "  4%|▍         | 236/5750 [00:19<07:37, 12.06it/s]"
     ]
    },
    {
     "name": "stdout",
     "output_type": "stream",
     "text": [
      "https://wolnelektury.pl/media/book/txt/baczynski-juwenilla-t-2-zamach.txt\n",
      "https://wolnelektury.pl/media/book/txt/baczynski-juwenilla-t-2-zmierzchanie.txt\n",
      "https://wolnelektury.pl/media/book/txt/baczynski-koleda.txt\n",
      "https://wolnelektury.pl/media/book/txt/baczynski-kolysanka.txt\n"
     ]
    },
    {
     "name": "stderr",
     "output_type": "stream",
     "text": [
      "  4%|▍         | 240/5750 [00:19<07:35, 12.11it/s]"
     ]
    },
    {
     "name": "stdout",
     "output_type": "stream",
     "text": [
      "https://wolnelektury.pl/media/book/txt/baczynski-krajobraz-zimowy.txt\n",
      "https://wolnelektury.pl/media/book/txt/baczynski-krzyz.txt\n",
      "https://wolnelektury.pl/media/book/txt/baczynski-ksiazka-lezala-na-stole.txt\n",
      "https://wolnelektury.pl/media/book/txt/baczynski-ktorych-nam-nikt-nie-wynagrodzi.txt\n"
     ]
    },
    {
     "name": "stderr",
     "output_type": "stream",
     "text": [
      "\r",
      "  4%|▍         | 242/5750 [00:19<07:34, 12.12it/s]"
     ]
    },
    {
     "name": "stdout",
     "output_type": "stream",
     "text": [
      "https://wolnelektury.pl/media/book/txt/baczynski-legenda.txt\n",
      "https://wolnelektury.pl/media/book/txt/baczynski-lodowisko.txt\n",
      "https://wolnelektury.pl/media/book/txt/baczynski-lowy.txt\n"
     ]
    },
    {
     "name": "stderr",
     "output_type": "stream",
     "text": [
      "  4%|▍         | 246/5750 [00:20<07:33, 12.14it/s]"
     ]
    },
    {
     "name": "stdout",
     "output_type": "stream",
     "text": [
      "https://wolnelektury.pl/media/book/txt/baczynski-madrygal.txt\n",
      "https://wolnelektury.pl/media/book/txt/baczynski-magia.txt\n",
      "https://wolnelektury.pl/media/book/txt/baczynski-mazowsze.txt\n",
      "https://wolnelektury.pl/media/book/txt/baczynski-milosc.txt\n"
     ]
    },
    {
     "name": "stderr",
     "output_type": "stream",
     "text": [
      "  4%|▍         | 250/5750 [00:20<07:31, 12.17it/s]"
     ]
    },
    {
     "name": "stdout",
     "output_type": "stream",
     "text": [
      "https://wolnelektury.pl/media/book/txt/baczynski-miserere.txt\n",
      "https://wolnelektury.pl/media/book/txt/baczynski-mlot.txt\n",
      "https://wolnelektury.pl/media/book/txt/baczynski-moce.txt\n"
     ]
    },
    {
     "name": "stderr",
     "output_type": "stream",
     "text": [
      "\r",
      "  4%|▍         | 252/5750 [00:20<07:31, 12.18it/s]"
     ]
    },
    {
     "name": "stdout",
     "output_type": "stream",
     "text": [
      "https://wolnelektury.pl/media/book/txt/baczynski-modlitwa-do-bogurodzicy.txt\n",
      "https://wolnelektury.pl/media/book/txt/baczynski-modlitwa-ii.txt\n",
      "https://wolnelektury.pl/media/book/txt/baczynski-narodziny-boga.txt\n"
     ]
    },
    {
     "name": "stderr",
     "output_type": "stream",
     "text": [
      "  4%|▍         | 256/5750 [00:20<07:29, 12.21it/s]"
     ]
    },
    {
     "name": "stdout",
     "output_type": "stream",
     "text": [
      "https://wolnelektury.pl/media/book/txt/baczynski-narzeczona.txt\n",
      "https://wolnelektury.pl/media/book/txt/baczynski-nie-stoj-u-ciemnych-swiata-wod.txt\n",
      "https://wolnelektury.pl/media/book/txt/baczynski-nie-to-co-mi-sie-snilo.txt\n"
     ]
    },
    {
     "name": "stderr",
     "output_type": "stream",
     "text": [
      "\r",
      "  4%|▍         | 258/5750 [00:21<07:29, 12.21it/s]"
     ]
    },
    {
     "name": "stdout",
     "output_type": "stream",
     "text": [
      "https://wolnelektury.pl/media/book/txt/baczynski-nie-wstydz-sie-tych-przelotow.txt\n",
      "https://wolnelektury.pl/media/book/txt/baczynski-niebo-zlote-ci-otworze.txt\n",
      "https://wolnelektury.pl/media/book/txt/baczynski-noc.txt\n"
     ]
    },
    {
     "name": "stderr",
     "output_type": "stream",
     "text": [
      "  5%|▍         | 262/5750 [00:21<07:29, 12.21it/s]"
     ]
    },
    {
     "name": "stdout",
     "output_type": "stream",
     "text": [
      "https://wolnelektury.pl/media/book/txt/baczynski-noc-zielona-byla.txt\n",
      "https://wolnelektury.pl/media/book/txt/baczynski-o-miasto-miasto-jeruzalem-zalu.txt\n",
      "https://wolnelektury.pl/media/book/txt/baczynski-o-moj-ty-smutku-cichy.txt\n"
     ]
    },
    {
     "name": "stderr",
     "output_type": "stream",
     "text": [
      "\r",
      "  5%|▍         | 264/5750 [00:21<07:28, 12.22it/s]"
     ]
    },
    {
     "name": "stdout",
     "output_type": "stream",
     "text": [
      "https://wolnelektury.pl/media/book/txt/baczynski-o-muzie.txt\n",
      "https://wolnelektury.pl/media/book/txt/baczynski-o-wielkie-niebo-swiata.txt\n",
      "https://wolnelektury.pl/media/book/txt/baczynski-o-wolnosc.txt\n"
     ]
    },
    {
     "name": "stderr",
     "output_type": "stream",
     "text": [
      "  5%|▍         | 268/5750 [00:21<07:27, 12.24it/s]"
     ]
    },
    {
     "name": "stdout",
     "output_type": "stream",
     "text": [
      "https://wolnelektury.pl/media/book/txt/baczynski-obozy.txt\n",
      "https://wolnelektury.pl/media/book/txt/baczynski-oddech-wiosenny.txt\n",
      "https://wolnelektury.pl/media/book/txt/baczynski-oddycha-miasto-ciemne-dlugimi-wiekami.txt\n"
     ]
    },
    {
     "name": "stderr",
     "output_type": "stream",
     "text": [
      "\r",
      "  5%|▍         | 270/5750 [00:22<07:27, 12.25it/s]"
     ]
    },
    {
     "name": "stdout",
     "output_type": "stream",
     "text": [
      "https://wolnelektury.pl/media/book/txt/baczynski-okrety-zimowe.txt\n",
      "https://wolnelektury.pl/media/book/txt/baczynski-olbrzym-w-lesie.txt\n",
      "https://wolnelektury.pl/media/book/txt/baczynski-orfeusz-w-lesie.txt\n"
     ]
    },
    {
     "name": "stderr",
     "output_type": "stream",
     "text": [
      "  5%|▍         | 274/5750 [00:22<07:25, 12.28it/s]"
     ]
    },
    {
     "name": "stdout",
     "output_type": "stream",
     "text": [
      "https://wolnelektury.pl/media/book/txt/baczynski-otwarcie-przemian.txt\n",
      "https://wolnelektury.pl/media/book/txt/baczynski-pamiateczki.txt\n",
      "https://wolnelektury.pl/media/book/txt/baczynski-piesn-o-ciemnosci.txt\n"
     ]
    },
    {
     "name": "stderr",
     "output_type": "stream",
     "text": [
      "\r",
      "  5%|▍         | 276/5750 [00:22<07:25, 12.28it/s]"
     ]
    },
    {
     "name": "stdout",
     "output_type": "stream",
     "text": [
      "https://wolnelektury.pl/media/book/txt/baczynski-piesn-o-klesce.txt\n",
      "https://wolnelektury.pl/media/book/txt/baczynski-pioseneczka.txt\n",
      "https://wolnelektury.pl/media/book/txt/baczynski-piosenka.txt\n"
     ]
    },
    {
     "name": "stderr",
     "output_type": "stream",
     "text": [
      "  5%|▍         | 280/5750 [00:22<07:24, 12.30it/s]"
     ]
    },
    {
     "name": "stdout",
     "output_type": "stream",
     "text": [
      "https://wolnelektury.pl/media/book/txt/baczynski-piosenka-ksiezyca.txt\n",
      "https://wolnelektury.pl/media/book/txt/baczynski-piosenka-sniezna-zolnierza.txt\n",
      "https://wolnelektury.pl/media/book/txt/baczynski-piosenka-uplywa-leku-bialy-jelen.txt\n"
     ]
    },
    {
     "name": "stderr",
     "output_type": "stream",
     "text": [
      "\r",
      "  5%|▍         | 282/5750 [00:22<07:23, 12.32it/s]"
     ]
    },
    {
     "name": "stdout",
     "output_type": "stream",
     "text": [
      "https://wolnelektury.pl/media/book/txt/baczynski-pod-nieba-dloniasta-palma.txt\n",
      "https://wolnelektury.pl/media/book/txt/baczynski-podroz-w-nature.txt\n",
      "https://wolnelektury.pl/media/book/txt/baczynski-poematy-cien-z-obozu.txt\n"
     ]
    },
    {
     "name": "stderr",
     "output_type": "stream",
     "text": [
      "  5%|▍         | 286/5750 [00:23<07:23, 12.33it/s]"
     ]
    },
    {
     "name": "stdout",
     "output_type": "stream",
     "text": [
      "https://wolnelektury.pl/media/book/txt/baczynski-poematy-do-pana-jozefa-w-dniu-imienin-1942-roku.txt\n",
      "https://wolnelektury.pl/media/book/txt/baczynski-pokolenie.txt\n",
      "https://wolnelektury.pl/media/book/txt/baczynski-pokolenie-do-palcow-przymarzly-struny.txt\n"
     ]
    },
    {
     "name": "stderr",
     "output_type": "stream",
     "text": [
      "\r",
      "  5%|▌         | 288/5750 [00:23<07:22, 12.34it/s]"
     ]
    },
    {
     "name": "stdout",
     "output_type": "stream",
     "text": [
      "https://wolnelektury.pl/media/book/txt/baczynski-polacy.txt\n",
      "https://wolnelektury.pl/media/book/txt/baczynski-poleglym.txt\n",
      "https://wolnelektury.pl/media/book/txt/baczynski-pozegnanie-zalosnego-strzelca.txt\n"
     ]
    },
    {
     "name": "stderr",
     "output_type": "stream",
     "text": [
      "  5%|▌         | 292/5750 [00:23<07:21, 12.37it/s]"
     ]
    },
    {
     "name": "stdout",
     "output_type": "stream",
     "text": [
      "https://wolnelektury.pl/media/book/txt/baczynski-pragnienia.txt\n",
      "https://wolnelektury.pl/media/book/txt/baczynski-promienie.txt\n",
      "https://wolnelektury.pl/media/book/txt/baczynski-prymityw.txt\n"
     ]
    },
    {
     "name": "stderr",
     "output_type": "stream",
     "text": [
      "\r",
      "  5%|▌         | 294/5750 [00:23<07:20, 12.38it/s]"
     ]
    },
    {
     "name": "stdout",
     "output_type": "stream",
     "text": [
      "https://wolnelektury.pl/media/book/txt/baczynski-przypowiesc.txt\n",
      "https://wolnelektury.pl/media/book/txt/baczynski-psalm-2-o-krzyzu.txt\n",
      "https://wolnelektury.pl/media/book/txt/baczynski-psalm-3.txt\n"
     ]
    },
    {
     "name": "stderr",
     "output_type": "stream",
     "text": [
      "  5%|▌         | 298/5750 [00:24<07:19, 12.40it/s]"
     ]
    },
    {
     "name": "stdout",
     "output_type": "stream",
     "text": [
      "https://wolnelektury.pl/media/book/txt/baczynski-psalm-4.txt\n",
      "https://wolnelektury.pl/media/book/txt/baczynski-rodzicom.txt\n",
      "https://wolnelektury.pl/media/book/txt/baczynski-romantycznosc.txt\n",
      "https://wolnelektury.pl/media/book/txt/baczynski-rorate-coeli.txt\n"
     ]
    },
    {
     "name": "stderr",
     "output_type": "stream",
     "text": [
      "  5%|▌         | 302/5750 [00:24<07:17, 12.44it/s]"
     ]
    },
    {
     "name": "stdout",
     "output_type": "stream",
     "text": [
      "https://wolnelektury.pl/media/book/txt/baczynski-roza-swiata.txt\n",
      "https://wolnelektury.pl/media/book/txt/baczynski-rycerz.txt\n",
      "https://wolnelektury.pl/media/book/txt/baczynski-rzeczy-niepokoj.txt\n",
      "https://wolnelektury.pl/media/book/txt/baczynski-rzeka.txt\n"
     ]
    },
    {
     "name": "stderr",
     "output_type": "stream",
     "text": [
      "  5%|▌         | 306/5750 [00:24<07:16, 12.46it/s]"
     ]
    },
    {
     "name": "stdout",
     "output_type": "stream",
     "text": [
      "https://wolnelektury.pl/media/book/txt/baczynski-sen.txt\n",
      "https://wolnelektury.pl/media/book/txt/baczynski-serce.txt\n",
      "https://wolnelektury.pl/media/book/txt/baczynski-serce-jak-oblok.txt\n"
     ]
    },
    {
     "name": "stderr",
     "output_type": "stream",
     "text": [
      "\r",
      "  5%|▌         | 308/5750 [00:24<07:16, 12.47it/s]"
     ]
    },
    {
     "name": "stdout",
     "output_type": "stream",
     "text": [
      "https://wolnelektury.pl/media/book/txt/baczynski-snieg-jak-wieko-zelazne.txt\n",
      "https://wolnelektury.pl/media/book/txt/baczynski-spiew-do-snu.txt\n",
      "https://wolnelektury.pl/media/book/txt/baczynski-spiew-na-wiosne.txt\n"
     ]
    },
    {
     "name": "stderr",
     "output_type": "stream",
     "text": [
      "  5%|▌         | 312/5750 [00:25<07:15, 12.48it/s]"
     ]
    },
    {
     "name": "stdout",
     "output_type": "stream",
     "text": [
      "https://wolnelektury.pl/media/book/txt/baczynski-spojrzenie.txt\n",
      "https://wolnelektury.pl/media/book/txt/baczynski-stad-niebo-jest-duze.txt\n",
      "https://wolnelektury.pl/media/book/txt/baczynski-stare-miasto.txt\n"
     ]
    },
    {
     "name": "stderr",
     "output_type": "stream",
     "text": [
      "\r",
      "  5%|▌         | 314/5750 [00:25<07:15, 12.49it/s]"
     ]
    },
    {
     "name": "stdout",
     "output_type": "stream",
     "text": [
      "https://wolnelektury.pl/media/book/txt/baczynski-starosc.txt\n",
      "https://wolnelektury.pl/media/book/txt/baczynski-sur-le-pont-davignon.txt\n",
      "https://wolnelektury.pl/media/book/txt/baczynski-swiat-krysztalowa-kula.txt\n"
     ]
    },
    {
     "name": "stderr",
     "output_type": "stream",
     "text": [
      "  6%|▌         | 318/5750 [00:25<07:14, 12.51it/s]"
     ]
    },
    {
     "name": "stdout",
     "output_type": "stream",
     "text": [
      "https://wolnelektury.pl/media/book/txt/baczynski-swiat-sen.txt\n",
      "https://wolnelektury.pl/media/book/txt/baczynski-swieto-umarlych.txt\n",
      "https://wolnelektury.pl/media/book/txt/baczynski-swietosc.txt\n"
     ]
    },
    {
     "name": "stderr",
     "output_type": "stream",
     "text": [
      "\r",
      "  6%|▌         | 320/5750 [00:25<07:13, 12.51it/s]"
     ]
    },
    {
     "name": "stdout",
     "output_type": "stream",
     "text": [
      "https://wolnelektury.pl/media/book/txt/baczynski-swoboda.txt\n",
      "https://wolnelektury.pl/media/book/txt/baczynski-tedy-przez-wzgorza-cisza-zarosniete.txt\n",
      "https://wolnelektury.pl/media/book/txt/baczynski-tego-dnia.txt\n"
     ]
    },
    {
     "name": "stderr",
     "output_type": "stream",
     "text": [
      "  6%|▌         | 324/5750 [00:25<07:13, 12.53it/s]"
     ]
    },
    {
     "name": "stdout",
     "output_type": "stream",
     "text": [
      "https://wolnelektury.pl/media/book/txt/baczynski-ten-czas.txt\n",
      "https://wolnelektury.pl/media/book/txt/baczynski-teologia.txt\n",
      "https://wolnelektury.pl/media/book/txt/baczynski-trofea.txt\n"
     ]
    },
    {
     "name": "stderr",
     "output_type": "stream",
     "text": [
      "\r",
      "  6%|▌         | 326/5750 [00:25<07:12, 12.54it/s]"
     ]
    },
    {
     "name": "stdout",
     "output_type": "stream",
     "text": [
      "https://wolnelektury.pl/media/book/txt/baczynski-ty-jestes-moje-imie-i-w-ksztalcie-i-w-przyczynie.txt\n",
      "https://wolnelektury.pl/media/book/txt/baczynski-tych-milosci.txt\n",
      "https://wolnelektury.pl/media/book/txt/baczynski-u-niebios-rozkwitajacych.txt\n"
     ]
    },
    {
     "name": "stderr",
     "output_type": "stream",
     "text": [
      "  6%|▌         | 330/5750 [00:26<07:11, 12.56it/s]"
     ]
    },
    {
     "name": "stdout",
     "output_type": "stream",
     "text": [
      "https://wolnelektury.pl/media/book/txt/baczynski-ugory.txt\n",
      "https://wolnelektury.pl/media/book/txt/baczynski-w-kazdej-przemianie.txt\n",
      "https://wolnelektury.pl/media/book/txt/baczynski-w-takiej-ciszy.txt\n",
      "https://wolnelektury.pl/media/book/txt/baczynski-w-zalu-najczystszym.txt\n"
     ]
    },
    {
     "name": "stderr",
     "output_type": "stream",
     "text": [
      "  6%|▌         | 334/5750 [00:26<07:10, 12.57it/s]"
     ]
    },
    {
     "name": "stdout",
     "output_type": "stream",
     "text": [
      "https://wolnelektury.pl/media/book/txt/baczynski-warszawa.txt\n",
      "https://wolnelektury.pl/media/book/txt/baczynski-wesele-poety.txt\n",
      "https://wolnelektury.pl/media/book/txt/baczynski-westchnienie.txt\n"
     ]
    },
    {
     "name": "stderr",
     "output_type": "stream",
     "text": [
      "\r",
      "  6%|▌         | 336/5750 [00:26<07:10, 12.58it/s]"
     ]
    },
    {
     "name": "stdout",
     "output_type": "stream",
     "text": [
      "https://wolnelektury.pl/media/book/txt/baczynski-wiatr.txt\n",
      "https://wolnelektury.pl/media/book/txt/baczynski-wieczory.txt\n",
      "https://wolnelektury.pl/media/book/txt/baczynski-wiersz-o-cierpieniu.txt\n"
     ]
    },
    {
     "name": "stderr",
     "output_type": "stream",
     "text": [
      "  6%|▌         | 340/5750 [00:27<07:10, 12.58it/s]"
     ]
    },
    {
     "name": "stdout",
     "output_type": "stream",
     "text": [
      "https://wolnelektury.pl/media/book/txt/baczynski-wigilia.txt\n",
      "https://wolnelektury.pl/media/book/txt/baczynski-wina.txt\n",
      "https://wolnelektury.pl/media/book/txt/baczynski-wizerunek.txt\n"
     ]
    },
    {
     "name": "stderr",
     "output_type": "stream",
     "text": [
      "\r",
      "  6%|▌         | 342/5750 [00:27<07:09, 12.58it/s]"
     ]
    },
    {
     "name": "stdout",
     "output_type": "stream",
     "text": [
      "https://wolnelektury.pl/media/book/txt/baczynski-wroble.txt\n",
      "https://wolnelektury.pl/media/book/txt/baczynski-wspomnienie.txt\n",
      "https://wolnelektury.pl/media/book/txt/baczynski-wybor.txt\n"
     ]
    },
    {
     "name": "stderr",
     "output_type": "stream",
     "text": [
      "  6%|▌         | 346/5750 [00:27<07:08, 12.60it/s]"
     ]
    },
    {
     "name": "stdout",
     "output_type": "stream",
     "text": [
      "https://wolnelektury.pl/media/book/txt/baczynski-wyroki.txt\n",
      "https://wolnelektury.pl/media/book/txt/baczynski-z-glowa-na-karabinie.txt\n",
      "https://wolnelektury.pl/media/book/txt/baczynski-z-lasu.txt\n",
      "https://wolnelektury.pl/media/book/txt/baczynski-z-nocy.txt\n"
     ]
    },
    {
     "name": "stderr",
     "output_type": "stream",
     "text": [
      "  6%|▌         | 350/5750 [00:27<07:08, 12.62it/s]"
     ]
    },
    {
     "name": "stdout",
     "output_type": "stream",
     "text": [
      "https://wolnelektury.pl/media/book/txt/baczynski-z-szopka.txt\n",
      "https://wolnelektury.pl/media/book/txt/baczynski-z-wiatrem.txt\n",
      "https://wolnelektury.pl/media/book/txt/baczynski-zal.txt\n"
     ]
    },
    {
     "name": "stderr",
     "output_type": "stream",
     "text": [
      "\r",
      "  6%|▌         | 352/5750 [00:27<07:07, 12.62it/s]"
     ]
    },
    {
     "name": "stdout",
     "output_type": "stream",
     "text": [
      "https://wolnelektury.pl/media/book/txt/baczynski-ziemia.txt\n",
      "https://wolnelektury.pl/media/book/txt/baczynski-ziemia-jak-ognia-slup.txt\n",
      "https://wolnelektury.pl/media/book/txt/baczynski-zjawy.txt\n"
     ]
    },
    {
     "name": "stderr",
     "output_type": "stream",
     "text": [
      "  6%|▌         | 356/5750 [00:28<07:07, 12.62it/s]"
     ]
    },
    {
     "name": "stdout",
     "output_type": "stream",
     "text": [
      "https://wolnelektury.pl/media/book/txt/baczynski-zwyciezcy.txt\n",
      "https://wolnelektury.pl/media/book/txt/baczynski-zyjemy-na-dnie-ciala.txt\n",
      "https://wolnelektury.pl/media/book/txt/bajeczka-wstepna.txt\n"
     ]
    },
    {
     "name": "stderr",
     "output_type": "stream",
     "text": [
      "  6%|▋         | 360/5750 [00:28<07:06, 12.64it/s]"
     ]
    },
    {
     "name": "stdout",
     "output_type": "stream",
     "text": [
      "https://wolnelektury.pl/media/book/txt/bajka-o-swierszczu.txt\n",
      "https://wolnelektury.pl/media/book/txt/bajki-i-powiastki.txt\n",
      "https://wolnelektury.pl/media/book/txt/bajki-i-przypowiesci.txt\n",
      "https://wolnelektury.pl/media/book/txt/bajki-i-przypowiesci-dwa-zolwie.txt\n"
     ]
    },
    {
     "name": "stderr",
     "output_type": "stream",
     "text": [
      "\r",
      "  6%|▋         | 362/5750 [00:28<07:06, 12.65it/s]"
     ]
    },
    {
     "name": "stdout",
     "output_type": "stream",
     "text": [
      "https://wolnelektury.pl/media/book/txt/bajki-i-przypowiesci-kulawy-i-slepy.txt\n",
      "https://wolnelektury.pl/media/book/txt/bajki-i-przypowiesci-lew-i-zwierzeta.txt\n",
      "https://wolnelektury.pl/media/book/txt/bajki-nowe.txt\n"
     ]
    },
    {
     "name": "stderr",
     "output_type": "stream",
     "text": [
      "  6%|▋         | 366/5750 [00:28<07:05, 12.66it/s]"
     ]
    },
    {
     "name": "stdout",
     "output_type": "stream",
     "text": [
      "https://wolnelektury.pl/media/book/txt/bak-i-pilka.txt\n",
      "https://wolnelektury.pl/media/book/txt/ballada-z-tamtej-strony.txt\n",
      "https://wolnelektury.pl/media/book/txt/ballada-z-tamtej-strony-ballada-z-tamtej-strony.txt\n"
     ]
    },
    {
     "name": "stderr",
     "output_type": "stream",
     "text": [
      "\r",
      "  6%|▋         | 368/5750 [00:29<07:04, 12.67it/s]"
     ]
    },
    {
     "name": "stdout",
     "output_type": "stream",
     "text": [
      "https://wolnelektury.pl/media/book/txt/ballada-z-tamtej-strony-bez-nut.txt\n",
      "https://wolnelektury.pl/media/book/txt/ballada-z-tamtej-strony-dedykacja.txt\n",
      "https://wolnelektury.pl/media/book/txt/ballada-z-tamtej-strony-deszcz-w-concarneau.txt\n"
     ]
    },
    {
     "name": "stderr",
     "output_type": "stream",
     "text": [
      "  6%|▋         | 372/5750 [00:29<07:04, 12.68it/s]"
     ]
    },
    {
     "name": "stdout",
     "output_type": "stream",
     "text": [
      "https://wolnelektury.pl/media/book/txt/ballada-z-tamtej-strony-elegia-niemocy.txt\n",
      "https://wolnelektury.pl/media/book/txt/ballada-z-tamtej-strony-elegia-uspienia.txt\n",
      "https://wolnelektury.pl/media/book/txt/ballada-z-tamtej-strony-elegia-zalu.txt\n",
      "https://wolnelektury.pl/media/book/txt/ballada-z-tamtej-strony-erotyk.txt\n"
     ]
    },
    {
     "name": "stderr",
     "output_type": "stream",
     "text": [
      "  7%|▋         | 376/5750 [00:29<07:03, 12.70it/s]"
     ]
    },
    {
     "name": "stdout",
     "output_type": "stream",
     "text": [
      "https://wolnelektury.pl/media/book/txt/ballada-z-tamtej-strony-imieniny.txt\n",
      "https://wolnelektury.pl/media/book/txt/ballada-z-tamtej-strony-lato-na-wolyniu.txt\n",
      "https://wolnelektury.pl/media/book/txt/ballada-z-tamtej-strony-melancholia.txt\n",
      "https://wolnelektury.pl/media/book/txt/ballada-z-tamtej-strony-o-matce.txt\n"
     ]
    },
    {
     "name": "stderr",
     "output_type": "stream",
     "text": [
      "  7%|▋         | 380/5750 [00:29<07:02, 12.71it/s]"
     ]
    },
    {
     "name": "stdout",
     "output_type": "stream",
     "text": [
      "https://wolnelektury.pl/media/book/txt/ballada-z-tamtej-strony-pamieci-zniknionego.txt\n",
      "https://wolnelektury.pl/media/book/txt/ballada-z-tamtej-strony-piesn.txt\n",
      "https://wolnelektury.pl/media/book/txt/ballada-z-tamtej-strony-pilsudski.txt\n",
      "https://wolnelektury.pl/media/book/txt/ballada-z-tamtej-strony-pod-popiolem.txt\n"
     ]
    },
    {
     "name": "stderr",
     "output_type": "stream",
     "text": [
      "  7%|▋         | 384/5750 [00:30<07:01, 12.74it/s]"
     ]
    },
    {
     "name": "stdout",
     "output_type": "stream",
     "text": [
      "https://wolnelektury.pl/media/book/txt/ballada-z-tamtej-strony-pontorson.txt\n",
      "https://wolnelektury.pl/media/book/txt/ballada-z-tamtej-strony-preludium.txt\n",
      "https://wolnelektury.pl/media/book/txt/ballada-z-tamtej-strony-przeczucia.txt\n",
      "https://wolnelektury.pl/media/book/txt/ballada-z-tamtej-strony-przez-kresy.txt\n"
     ]
    },
    {
     "name": "stderr",
     "output_type": "stream",
     "text": [
      "  7%|▋         | 388/5750 [00:30<07:00, 12.76it/s]"
     ]
    },
    {
     "name": "stdout",
     "output_type": "stream",
     "text": [
      "https://wolnelektury.pl/media/book/txt/ballada-z-tamtej-strony-sam.txt\n",
      "https://wolnelektury.pl/media/book/txt/ballada-z-tamtej-strony-samobojstwo.txt\n",
      "https://wolnelektury.pl/media/book/txt/ballada-z-tamtej-strony-w-pejzazu.txt\n"
     ]
    },
    {
     "name": "stderr",
     "output_type": "stream",
     "text": [
      "\r",
      "  7%|▋         | 390/5750 [00:30<06:59, 12.76it/s]"
     ]
    },
    {
     "name": "stdout",
     "output_type": "stream",
     "text": [
      "https://wolnelektury.pl/media/book/txt/ballada-z-tamtej-strony-wiezienie.txt\n",
      "https://wolnelektury.pl/media/book/txt/ballada-z-tamtej-strony-zdrada.txt\n",
      "https://wolnelektury.pl/media/book/txt/ballady-i-romanse.txt\n"
     ]
    },
    {
     "name": "stderr",
     "output_type": "stream",
     "text": [
      "  7%|▋         | 394/5750 [00:30<06:59, 12.76it/s]"
     ]
    },
    {
     "name": "stdout",
     "output_type": "stream",
     "text": [
      "https://wolnelektury.pl/media/book/txt/ballady-i-romanse-lilje.txt\n",
      "https://wolnelektury.pl/media/book/txt/ballady-i-romanse-pani-twardowska.txt\n",
      "https://wolnelektury.pl/media/book/txt/ballady-i-romanse-powrot-taty.txt\n"
     ]
    },
    {
     "name": "stderr",
     "output_type": "stream",
     "text": [
      "\r",
      "  7%|▋         | 396/5750 [00:31<06:59, 12.77it/s]"
     ]
    },
    {
     "name": "stdout",
     "output_type": "stream",
     "text": [
      "https://wolnelektury.pl/media/book/txt/ballady-i-romanse-rekawiczka.txt\n",
      "https://wolnelektury.pl/media/book/txt/ballady-i-romanse-romantycznosc.txt\n",
      "https://wolnelektury.pl/media/book/txt/ballady-i-romanse-rybka.txt\n"
     ]
    },
    {
     "name": "stderr",
     "output_type": "stream",
     "text": [
      "  7%|▋         | 400/5750 [00:31<06:58, 12.78it/s]"
     ]
    },
    {
     "name": "stdout",
     "output_type": "stream",
     "text": [
      "https://wolnelektury.pl/media/book/txt/ballady-i-romanse-switez.txt\n",
      "https://wolnelektury.pl/media/book/txt/ballady-i-romanse-switezianka.txt\n",
      "https://wolnelektury.pl/media/book/txt/balladyna.txt\n"
     ]
    },
    {
     "name": "stderr",
     "output_type": "stream",
     "text": [
      "\r",
      "  7%|▋         | 402/5750 [00:31<06:59, 12.75it/s]"
     ]
    },
    {
     "name": "stdout",
     "output_type": "stream",
     "text": [
      "https://wolnelektury.pl/media/book/txt/balzac-komedia-granatka.txt\n",
      "https://wolnelektury.pl/media/book/txt/balzac-komedia-ludzka-bank-nucingena.txt\n"
     ]
    },
    {
     "name": "stderr",
     "output_type": "stream",
     "text": [
      "\r",
      "  7%|▋         | 404/5750 [00:31<07:01, 12.68it/s]"
     ]
    },
    {
     "name": "stdout",
     "output_type": "stream",
     "text": [
      "https://wolnelektury.pl/media/book/txt/balzac-komedia-ludzka-corka-ewy.txt\n",
      "https://wolnelektury.pl/media/book/txt/balzac-komedia-ludzka-eugenia-grandet.txt\n"
     ]
    },
    {
     "name": "stderr",
     "output_type": "stream",
     "text": [
      "\r",
      "  7%|▋         | 406/5750 [00:32<07:03, 12.63it/s]"
     ]
    },
    {
     "name": "stdout",
     "output_type": "stream",
     "text": [
      "https://wolnelektury.pl/media/book/txt/balzac-komedia-ludzka-facino-cane.txt\n",
      "https://wolnelektury.pl/media/book/txt/balzac-komedia-ludzka-gobseck.txt\n"
     ]
    },
    {
     "name": "stderr",
     "output_type": "stream",
     "text": [
      "\r",
      "  7%|▋         | 407/5750 [00:32<07:03, 12.61it/s]"
     ]
    },
    {
     "name": "stdout",
     "output_type": "stream",
     "text": [
      "https://wolnelektury.pl/media/book/txt/balzac-komedia-ludzka-jaszczur.txt\n"
     ]
    },
    {
     "name": "stderr",
     "output_type": "stream",
     "text": [
      "  7%|▋         | 409/5750 [00:32<07:06, 12.54it/s]"
     ]
    },
    {
     "name": "stdout",
     "output_type": "stream",
     "text": [
      "https://wolnelektury.pl/media/book/txt/balzac-komedia-ludzka-kobieta-porzucona.txt\n",
      "https://wolnelektury.pl/media/book/txt/balzac-komedia-ludzka-kobieta-trzydziestoletnia.txt\n"
     ]
    },
    {
     "name": "stderr",
     "output_type": "stream",
     "text": [
      "  7%|▋         | 411/5750 [00:32<07:08, 12.47it/s]"
     ]
    },
    {
     "name": "stdout",
     "output_type": "stream",
     "text": [
      "https://wolnelektury.pl/media/book/txt/balzac-komedia-ludzka-kuratela.txt\n",
      "https://wolnelektury.pl/media/book/txt/balzac-komedia-ludzka-male-niedole-pozycia-malzenskiego.txt\n"
     ]
    },
    {
     "name": "stderr",
     "output_type": "stream",
     "text": [
      "\r",
      "  7%|▋         | 412/5750 [00:33<07:09, 12.43it/s]"
     ]
    },
    {
     "name": "stdout",
     "output_type": "stream",
     "text": [
      "https://wolnelektury.pl/media/book/txt/balzac-komedia-ludzka-msza-ateusza.txt\n",
      "https://wolnelektury.pl/media/book/txt/balzac-komedia-ludzka-muza-z-zascianka.txt\n"
     ]
    },
    {
     "name": "stderr",
     "output_type": "stream",
     "text": [
      "  7%|▋         | 415/5750 [00:33<07:12, 12.34it/s]"
     ]
    },
    {
     "name": "stdout",
     "output_type": "stream",
     "text": [
      "https://wolnelektury.pl/media/book/txt/balzac-komedia-ludzka-pierwsze-kroki.txt\n",
      "https://wolnelektury.pl/media/book/txt/balzac-lekarz-wiejski.txt\n"
     ]
    },
    {
     "name": "stderr",
     "output_type": "stream",
     "text": [
      "  7%|▋         | 417/5750 [00:33<07:14, 12.27it/s]"
     ]
    },
    {
     "name": "stdout",
     "output_type": "stream",
     "text": [
      "https://wolnelektury.pl/media/book/txt/balzac-proboszcz-z-tours.txt\n",
      "https://wolnelektury.pl/media/book/txt/banville-snycerzu-szukaj-bacznie.txt\n"
     ]
    },
    {
     "name": "stderr",
     "output_type": "stream",
     "text": [
      "\r",
      "  7%|▋         | 419/5750 [00:34<07:14, 12.28it/s]"
     ]
    },
    {
     "name": "stdout",
     "output_type": "stream",
     "text": [
      "https://wolnelektury.pl/media/book/txt/baran-dany-na-ofiare.txt\n",
      "https://wolnelektury.pl/media/book/txt/baranki-moje.txt\n",
      "https://wolnelektury.pl/media/book/txt/bargielska-corce.txt\n"
     ]
    },
    {
     "name": "stderr",
     "output_type": "stream",
     "text": [
      "  7%|▋         | 423/5750 [00:34<07:13, 12.29it/s]"
     ]
    },
    {
     "name": "stdout",
     "output_type": "stream",
     "text": [
      "https://wolnelektury.pl/media/book/txt/bargielska-dropsette.txt\n",
      "https://wolnelektury.pl/media/book/txt/bargielska-dwa-fiaty.txt\n",
      "https://wolnelektury.pl/media/book/txt/bargielska-dwa-fiaty-dwa-fiaty.txt\n"
     ]
    },
    {
     "name": "stderr",
     "output_type": "stream",
     "text": [
      "  7%|▋         | 427/5750 [00:34<07:12, 12.31it/s]"
     ]
    },
    {
     "name": "stdout",
     "output_type": "stream",
     "text": [
      "https://wolnelektury.pl/media/book/txt/bargielska-dzisiaj-w-amfiteatrze-wystepuje-morze.txt\n",
      "https://wolnelektury.pl/media/book/txt/bargielska-gdzie-w-warszawie-platki-roz-i-kolorowe-male-piorka.txt\n",
      "https://wolnelektury.pl/media/book/txt/bargielska-gringo.txt\n",
      "https://wolnelektury.pl/media/book/txt/bargielska-i-konie-i-ptaki.txt\n"
     ]
    },
    {
     "name": "stderr",
     "output_type": "stream",
     "text": [
      "\r",
      "  7%|▋         | 429/5750 [00:34<07:11, 12.32it/s]"
     ]
    },
    {
     "name": "stdout",
     "output_type": "stream",
     "text": [
      "https://wolnelektury.pl/media/book/txt/bargielska-irysowe-drzewo.txt\n",
      "https://wolnelektury.pl/media/book/txt/bargielska-jednym-slowem.txt\n",
      "https://wolnelektury.pl/media/book/txt/bargielska-kobieca-choroba.txt\n"
     ]
    },
    {
     "name": "stderr",
     "output_type": "stream",
     "text": [
      "  8%|▊         | 433/5750 [00:35<07:11, 12.32it/s]"
     ]
    },
    {
     "name": "stdout",
     "output_type": "stream",
     "text": [
      "https://wolnelektury.pl/media/book/txt/bargielska-kukanie.txt\n",
      "https://wolnelektury.pl/media/book/txt/bargielska-lets-kohelet.txt\n",
      "https://wolnelektury.pl/media/book/txt/bargielska-miedzyczasie.txt\n"
     ]
    },
    {
     "name": "stderr",
     "output_type": "stream",
     "text": [
      "\r",
      "  8%|▊         | 435/5750 [00:35<07:11, 12.33it/s]"
     ]
    },
    {
     "name": "stdout",
     "output_type": "stream",
     "text": [
      "https://wolnelektury.pl/media/book/txt/bargielska-minimidrasz-o-chlopcu-i-srubcee.txt\n",
      "https://wolnelektury.pl/media/book/txt/bargielska-mirabelki.txt\n",
      "https://wolnelektury.pl/media/book/txt/bargielska-na-pasku.txt\n"
     ]
    },
    {
     "name": "stderr",
     "output_type": "stream",
     "text": [
      "  8%|▊         | 439/5750 [00:35<07:10, 12.34it/s]"
     ]
    },
    {
     "name": "stdout",
     "output_type": "stream",
     "text": [
      "https://wolnelektury.pl/media/book/txt/bargielska-najslynniejsze-fotografie.txt\n",
      "https://wolnelektury.pl/media/book/txt/bargielska-onyks.txt\n",
      "https://wolnelektury.pl/media/book/txt/bargielska-piekna-mlynarka.txt\n"
     ]
    },
    {
     "name": "stderr",
     "output_type": "stream",
     "text": [
      "\r",
      "  8%|▊         | 441/5750 [00:35<07:10, 12.35it/s]"
     ]
    },
    {
     "name": "stdout",
     "output_type": "stream",
     "text": [
      "https://wolnelektury.pl/media/book/txt/bargielska-piesn-szkrabisty.txt\n",
      "https://wolnelektury.pl/media/book/txt/bargielska-pinktronic.txt\n",
      "https://wolnelektury.pl/media/book/txt/bargielska-pole-bawelny.txt\n"
     ]
    },
    {
     "name": "stderr",
     "output_type": "stream",
     "text": [
      "  8%|▊         | 445/5750 [00:35<07:09, 12.36it/s]"
     ]
    },
    {
     "name": "stdout",
     "output_type": "stream",
     "text": [
      "https://wolnelektury.pl/media/book/txt/bargielska-projekt-wymiany-ramek-we-wszystkich-obrazkach.txt\n",
      "https://wolnelektury.pl/media/book/txt/bargielska-przeklad.txt\n",
      "https://wolnelektury.pl/media/book/txt/bargielska-przygoda.txt\n"
     ]
    },
    {
     "name": "stderr",
     "output_type": "stream",
     "text": [
      "\r",
      "  8%|▊         | 447/5750 [00:36<07:08, 12.37it/s]"
     ]
    },
    {
     "name": "stdout",
     "output_type": "stream",
     "text": [
      "https://wolnelektury.pl/media/book/txt/bargielska-psalmismo.txt\n",
      "https://wolnelektury.pl/media/book/txt/bargielska-radyjko.txt\n",
      "https://wolnelektury.pl/media/book/txt/bargielska-roma.txt\n"
     ]
    },
    {
     "name": "stderr",
     "output_type": "stream",
     "text": [
      "  8%|▊         | 451/5750 [00:36<07:07, 12.38it/s]"
     ]
    },
    {
     "name": "stdout",
     "output_type": "stream",
     "text": [
      "https://wolnelektury.pl/media/book/txt/bargielska-strzela-strzela-a-jest-motylem.txt\n",
      "https://wolnelektury.pl/media/book/txt/bargielska-w-przedpokoju.txt\n",
      "https://wolnelektury.pl/media/book/txt/bargielska-wiazka.txt\n",
      "https://wolnelektury.pl/media/book/txt/bargielska-wyspa-na-zagieciu-fal.txt\n"
     ]
    },
    {
     "name": "stderr",
     "output_type": "stream",
     "text": [
      "  8%|▊         | 455/5750 [00:36<07:06, 12.40it/s]"
     ]
    },
    {
     "name": "stdout",
     "output_type": "stream",
     "text": [
      "https://wolnelektury.pl/media/book/txt/bargielska-zebra.txt\n",
      "https://wolnelektury.pl/media/book/txt/baronowa.txt\n",
      "https://wolnelektury.pl/media/book/txt/bartek-zwyciezca.txt\n"
     ]
    },
    {
     "name": "stderr",
     "output_type": "stream",
     "text": [
      "\r",
      "  8%|▊         | 457/5750 [00:36<07:07, 12.39it/s]"
     ]
    },
    {
     "name": "stdout",
     "output_type": "stream",
     "text": [
      "https://wolnelektury.pl/media/book/txt/bartoszu-bartoszu.txt\n",
      "https://wolnelektury.pl/media/book/txt/basnie-syrena.txt\n",
      "https://wolnelektury.pl/media/book/txt/bataille-wieczory.txt\n"
     ]
    },
    {
     "name": "stderr",
     "output_type": "stream",
     "text": [
      "\r",
      "  8%|▊         | 459/5750 [00:37<07:07, 12.39it/s]"
     ]
    },
    {
     "name": "stdout",
     "output_type": "stream",
     "text": [
      "https://wolnelektury.pl/media/book/txt/baudelaire-kwiaty-zla.txt\n",
      "https://wolnelektury.pl/media/book/txt/baudelaire-zwierciadlo.txt\n"
     ]
    },
    {
     "name": "stderr",
     "output_type": "stream",
     "text": [
      "  8%|▊         | 463/5750 [00:37<07:07, 12.37it/s]"
     ]
    },
    {
     "name": "stdout",
     "output_type": "stream",
     "text": [
      "https://wolnelektury.pl/media/book/txt/beczka-amontillada.txt\n",
      "https://wolnelektury.pl/media/book/txt/bema-pamieci-zalobny-rapsod.txt\n",
      "https://wolnelektury.pl/media/book/txt/beniowski.txt\n"
     ]
    },
    {
     "name": "stderr",
     "output_type": "stream",
     "text": [
      "\r",
      "  8%|▊         | 465/5750 [00:37<07:07, 12.36it/s]"
     ]
    },
    {
     "name": "stdout",
     "output_type": "stream",
     "text": [
      "https://wolnelektury.pl/media/book/txt/beniowski-dalsze-piesni.txt\n",
      "https://wolnelektury.pl/media/book/txt/beniowski-piec-pierwszych-piesni.txt\n"
     ]
    },
    {
     "name": "stderr",
     "output_type": "stream",
     "text": [
      "\r",
      "  8%|▊         | 467/5750 [00:37<07:08, 12.34it/s]"
     ]
    },
    {
     "name": "stdout",
     "output_type": "stream",
     "text": [
      "https://wolnelektury.pl/media/book/txt/berenice.txt\n",
      "https://wolnelektury.pl/media/book/txt/berent-ozimina.txt\n"
     ]
    },
    {
     "name": "stderr",
     "output_type": "stream",
     "text": [
      "\r",
      "  8%|▊         | 469/5750 [00:38<07:09, 12.28it/s]"
     ]
    },
    {
     "name": "stdout",
     "output_type": "stream",
     "text": [
      "https://wolnelektury.pl/media/book/txt/bernard-de-profundis.txt\n",
      "https://wolnelektury.pl/media/book/txt/bertrand-blask-ksiezyca.txt\n",
      "https://wolnelektury.pl/media/book/txt/bertrand-do-p-davida.txt\n"
     ]
    },
    {
     "name": "stderr",
     "output_type": "stream",
     "text": [
      "  8%|▊         | 473/5750 [00:38<07:09, 12.28it/s]"
     ]
    },
    {
     "name": "stdout",
     "output_type": "stream",
     "text": [
      "https://wolnelektury.pl/media/book/txt/bertrand-harlem.txt\n",
      "https://wolnelektury.pl/media/book/txt/bertrand-jedna-jeszcze-wiosna.txt\n",
      "https://wolnelektury.pl/media/book/txt/bertrand-kapitan-lazare.txt\n"
     ]
    },
    {
     "name": "stderr",
     "output_type": "stream",
     "text": [
      "\r",
      "  8%|▊         | 475/5750 [00:38<07:09, 12.29it/s]"
     ]
    },
    {
     "name": "stdout",
     "output_type": "stream",
     "text": [
      "https://wolnelektury.pl/media/book/txt/bertrand-moje-ustronie.txt\n",
      "https://wolnelektury.pl/media/book/txt/bertrand-pazdziernik.txt\n",
      "https://wolnelektury.pl/media/book/txt/bertrand-piec-palcow-dloni.txt\n"
     ]
    },
    {
     "name": "stderr",
     "output_type": "stream",
     "text": [
      "  8%|▊         | 479/5750 [00:38<07:08, 12.31it/s]"
     ]
    },
    {
     "name": "stdout",
     "output_type": "stream",
     "text": [
      "https://wolnelektury.pl/media/book/txt/bertrand-piesn-maski.txt\n",
      "https://wolnelektury.pl/media/book/txt/bertrand-skarbo.txt\n",
      "https://wolnelektury.pl/media/book/txt/bettina.txt\n",
      "https://wolnelektury.pl/media/book/txt/bez-dogmatu.txt\n"
     ]
    },
    {
     "name": "stderr",
     "output_type": "stream",
     "text": [
      "  8%|▊         | 483/5750 [00:39<07:10, 12.22it/s]"
     ]
    },
    {
     "name": "stdout",
     "output_type": "stream",
     "text": [
      "https://wolnelektury.pl/media/book/txt/bezbronna-istota.txt\n",
      "https://wolnelektury.pl/media/book/txt/bezimienny.txt\n",
      "https://wolnelektury.pl/media/book/txt/biale-roze-krwi.txt\n"
     ]
    },
    {
     "name": "stderr",
     "output_type": "stream",
     "text": [
      "\r",
      "  8%|▊         | 485/5750 [00:39<07:10, 12.23it/s]"
     ]
    },
    {
     "name": "stdout",
     "output_type": "stream",
     "text": [
      "https://wolnelektury.pl/media/book/txt/biale-roze-krwi-motto.txt\n",
      "https://wolnelektury.pl/media/book/txt/bialosniezka-i-rozanka.txt\n",
      "https://wolnelektury.pl/media/book/txt/biedny-mlynarczyk-i-kotek.txt\n"
     ]
    },
    {
     "name": "stderr",
     "output_type": "stream",
     "text": [
      "  9%|▊         | 489/5750 [00:39<07:09, 12.24it/s]"
     ]
    },
    {
     "name": "stdout",
     "output_type": "stream",
     "text": [
      "https://wolnelektury.pl/media/book/txt/biedrzycki.txt\n",
      "https://wolnelektury.pl/media/book/txt/biedrzycki-akslop.txt\n",
      "https://wolnelektury.pl/media/book/txt/biedrzycki-ave.txt\n"
     ]
    },
    {
     "name": "stderr",
     "output_type": "stream",
     "text": [
      "\r",
      "  9%|▊         | 491/5750 [00:40<07:09, 12.25it/s]"
     ]
    },
    {
     "name": "stdout",
     "output_type": "stream",
     "text": [
      "https://wolnelektury.pl/media/book/txt/biedrzycki-czwarta-zima.txt\n",
      "https://wolnelektury.pl/media/book/txt/biedrzycki-do-konopi.txt\n",
      "https://wolnelektury.pl/media/book/txt/biedrzycki-dobry-wieczor.txt\n"
     ]
    },
    {
     "name": "stderr",
     "output_type": "stream",
     "text": [
      "  9%|▊         | 495/5750 [00:40<07:08, 12.26it/s]"
     ]
    },
    {
     "name": "stdout",
     "output_type": "stream",
     "text": [
      "https://wolnelektury.pl/media/book/txt/biedrzycki-gorac.txt\n",
      "https://wolnelektury.pl/media/book/txt/biedrzycki-jasnosc-w-grudniu.txt\n",
      "https://wolnelektury.pl/media/book/txt/biedrzycki-motto.txt\n"
     ]
    },
    {
     "name": "stderr",
     "output_type": "stream",
     "text": [
      "  9%|▊         | 499/5750 [00:40<07:07, 12.28it/s]"
     ]
    },
    {
     "name": "stdout",
     "output_type": "stream",
     "text": [
      "https://wolnelektury.pl/media/book/txt/biedrzycki-mroz.txt\n",
      "https://wolnelektury.pl/media/book/txt/biedrzycki-nozyczki.txt\n",
      "https://wolnelektury.pl/media/book/txt/biedrzycki-olsza.txt\n",
      "https://wolnelektury.pl/media/book/txt/biedrzycki-opowiesc-wigilijna.txt\n",
      "https://wolnelektury.pl/media/book/txt/biedrzycki-piryn-pirydyna.txt\n"
     ]
    },
    {
     "name": "stderr",
     "output_type": "stream",
     "text": [
      "  9%|▊         | 503/5750 [00:40<07:06, 12.30it/s]"
     ]
    },
    {
     "name": "stdout",
     "output_type": "stream",
     "text": [
      "https://wolnelektury.pl/media/book/txt/biedrzycki-pobocza-autostrady.txt\n",
      "https://wolnelektury.pl/media/book/txt/biedrzycki-pociag-rusza.txt\n",
      "https://wolnelektury.pl/media/book/txt/biedrzycki-pol-ksiezyca.txt\n",
      "https://wolnelektury.pl/media/book/txt/biedrzycki-polewaczki.txt\n"
     ]
    },
    {
     "name": "stderr",
     "output_type": "stream",
     "text": [
      "  9%|▉         | 507/5750 [00:41<07:05, 12.32it/s]"
     ]
    },
    {
     "name": "stdout",
     "output_type": "stream",
     "text": [
      "https://wolnelektury.pl/media/book/txt/biedrzycki-pomarancze.txt\n",
      "https://wolnelektury.pl/media/book/txt/biedrzycki-pora-pomidorow.txt\n",
      "https://wolnelektury.pl/media/book/txt/biedrzycki-rozowa-chwila.txt\n",
      "https://wolnelektury.pl/media/book/txt/biedrzycki-rumowiska-glazow.txt\n"
     ]
    },
    {
     "name": "stderr",
     "output_type": "stream",
     "text": [
      "  9%|▉         | 511/5750 [00:41<07:04, 12.34it/s]"
     ]
    },
    {
     "name": "stdout",
     "output_type": "stream",
     "text": [
      "https://wolnelektury.pl/media/book/txt/biedrzycki-siersza.txt\n",
      "https://wolnelektury.pl/media/book/txt/biedrzycki-sometimes-it-snows-in-april.txt\n",
      "https://wolnelektury.pl/media/book/txt/biedrzycki-tecza-mundurow.txt\n"
     ]
    },
    {
     "name": "stderr",
     "output_type": "stream",
     "text": [
      "  9%|▉         | 515/5750 [00:41<07:03, 12.35it/s]"
     ]
    },
    {
     "name": "stdout",
     "output_type": "stream",
     "text": [
      "https://wolnelektury.pl/media/book/txt/biedrzycki-uaa-a-ii.txt\n",
      "https://wolnelektury.pl/media/book/txt/biedrzycki-uaaa-iii.txt\n",
      "https://wolnelektury.pl/media/book/txt/biedrzycki-wyzwanie.txt\n",
      "https://wolnelektury.pl/media/book/txt/biedrzycki-z-cyklu-epifanie.txt\n"
     ]
    },
    {
     "name": "stderr",
     "output_type": "stream",
     "text": [
      "  9%|▉         | 519/5750 [00:41<07:02, 12.37it/s]"
     ]
    },
    {
     "name": "stdout",
     "output_type": "stream",
     "text": [
      "https://wolnelektury.pl/media/book/txt/biedrzycki-zycie-epopeja.txt\n",
      "https://wolnelektury.pl/media/book/txt/biedrzycki-zyletki.txt\n",
      "https://wolnelektury.pl/media/book/txt/bielany.txt\n",
      "https://wolnelektury.pl/media/book/txt/biliunas-brisiaus-galas.txt\n"
     ]
    },
    {
     "name": "stderr",
     "output_type": "stream",
     "text": [
      "\r",
      "  9%|▉         | 521/5750 [00:42<07:02, 12.37it/s]"
     ]
    },
    {
     "name": "stdout",
     "output_type": "stream",
     "text": [
      "https://wolnelektury.pl/media/book/txt/biliunas-ivairus-apsakymeliai.txt\n",
      "https://wolnelektury.pl/media/book/txt/biliunas-lazda.txt\n",
      "https://wolnelektury.pl/media/book/txt/biliunas-liudna-pasaka.txt\n"
     ]
    },
    {
     "name": "stderr",
     "output_type": "stream",
     "text": [
      "  9%|▉         | 525/5750 [00:42<07:02, 12.36it/s]"
     ]
    },
    {
     "name": "stdout",
     "output_type": "stream",
     "text": [
      "https://wolnelektury.pl/media/book/txt/biliunas-sveciai.txt\n",
      "https://wolnelektury.pl/media/book/txt/biliunas-ubagas.txt\n",
      "https://wolnelektury.pl/media/book/txt/binding-sen.txt\n"
     ]
    },
    {
     "name": "stderr",
     "output_type": "stream",
     "text": [
      "\r",
      "  9%|▉         | 527/5750 [00:42<07:02, 12.36it/s]"
     ]
    },
    {
     "name": "stdout",
     "output_type": "stream",
     "text": [
      "https://wolnelektury.pl/media/book/txt/birkenmajer-wycieczka-listy-matczyne.txt\n",
      "https://wolnelektury.pl/media/book/txt/birkenmajer-wycieczka-medytacje.txt\n",
      "https://wolnelektury.pl/media/book/txt/birkenmajer-wycieczka-meorum-prime-sodalium.txt\n"
     ]
    },
    {
     "name": "stderr",
     "output_type": "stream",
     "text": [
      "\r",
      "  9%|▉         | 529/5750 [00:42<07:02, 12.37it/s]"
     ]
    },
    {
     "name": "stdout",
     "output_type": "stream",
     "text": [
      "https://wolnelektury.pl/media/book/txt/birkenmajer-wycieczka-opuszczony-okop.txt\n",
      "https://wolnelektury.pl/media/book/txt/birkenmajer-wycieczka-podzamcze.txt\n"
     ]
    },
    {
     "name": "stderr",
     "output_type": "stream",
     "text": [
      "  9%|▉         | 533/5750 [00:43<07:02, 12.36it/s]"
     ]
    },
    {
     "name": "stdout",
     "output_type": "stream",
     "text": [
      "https://wolnelektury.pl/media/book/txt/birkenmajer-wycieczka-rozmowa-z-cieniem.txt\n",
      "https://wolnelektury.pl/media/book/txt/birkenmajer-wycieczka-tomik.txt\n",
      "https://wolnelektury.pl/media/book/txt/birkenmajer-wycieczka-w-dzien-zaduszny.txt\n",
      "https://wolnelektury.pl/media/book/txt/birkenmajer-wycieczka-wieza-marjacka.txt\n"
     ]
    },
    {
     "name": "stderr",
     "output_type": "stream",
     "text": [
      "\r",
      "  9%|▉         | 535/5750 [00:43<07:01, 12.37it/s]"
     ]
    },
    {
     "name": "stdout",
     "output_type": "stream",
     "text": [
      "https://wolnelektury.pl/media/book/txt/birkenmajer-wycieczka-wycieczka.txt\n",
      "https://wolnelektury.pl/media/book/txt/bjornson-dziewcze-ze-slonecznego-wzgorza.txt\n"
     ]
    },
    {
     "name": "stderr",
     "output_type": "stream",
     "text": [
      "  9%|▉         | 539/5750 [00:43<07:02, 12.34it/s]"
     ]
    },
    {
     "name": "stdout",
     "output_type": "stream",
     "text": [
      "https://wolnelektury.pl/media/book/txt/bjornson-marsz-weselny.txt\n",
      "https://wolnelektury.pl/media/book/txt/bo-mie-matka-moja-mila.txt\n",
      "https://wolnelektury.pl/media/book/txt/bo-to-jest-wieszcza-najjasniejsza-chwala.txt\n"
     ]
    },
    {
     "name": "stderr",
     "output_type": "stream",
     "text": [
      "\r",
      "  9%|▉         | 541/5750 [00:43<07:01, 12.34it/s]"
     ]
    },
    {
     "name": "stdout",
     "output_type": "stream",
     "text": [
      "https://wolnelektury.pl/media/book/txt/boccaccio-dekameron.txt\n",
      "https://wolnelektury.pl/media/book/txt/bocian-i-jelen-bajki-nowe.txt\n",
      "https://wolnelektury.pl/media/book/txt/bogacz-i-zebrak.txt\n"
     ]
    },
    {
     "name": "stderr",
     "output_type": "stream",
     "text": [
      "  9%|▉         | 545/5750 [00:44<07:01, 12.36it/s]"
     ]
    },
    {
     "name": "stdout",
     "output_type": "stream",
     "text": [
      "https://wolnelektury.pl/media/book/txt/bogurodzica.txt\n",
      "https://wolnelektury.pl/media/book/txt/boguslawska-17x-staneli-juz-szeregiem.txt\n",
      "https://wolnelektury.pl/media/book/txt/boguslawska-jakze-tu-mozna-zasnac.txt\n"
     ]
    },
    {
     "name": "stderr",
     "output_type": "stream",
     "text": [
      "\r",
      " 10%|▉         | 547/5750 [00:44<07:00, 12.36it/s]"
     ]
    },
    {
     "name": "stdout",
     "output_type": "stream",
     "text": [
      "https://wolnelektury.pl/media/book/txt/boguslawska-ktos-ty.txt\n",
      "https://wolnelektury.pl/media/book/txt/boguslawska-warszawie.txt\n",
      "https://wolnelektury.pl/media/book/txt/boguslawska-wioza-ich-czesto-noca-w-ciemna-dal-bez-konca.txt\n"
     ]
    },
    {
     "name": "stderr",
     "output_type": "stream",
     "text": [
      " 10%|▉         | 551/5750 [00:44<07:00, 12.37it/s]"
     ]
    },
    {
     "name": "stdout",
     "output_type": "stream",
     "text": [
      "https://wolnelektury.pl/media/book/txt/bojarski-modlitwa-o-koniec-wojny.txt\n",
      "https://wolnelektury.pl/media/book/txt/boleslaw-smialy.txt\n",
      "https://wolnelektury.pl/media/book/txt/boska-komedia.txt\n"
     ]
    },
    {
     "name": "stderr",
     "output_type": "stream",
     "text": [
      "\r",
      " 10%|▉         | 553/5750 [00:44<07:00, 12.35it/s]"
     ]
    },
    {
     "name": "stdout",
     "output_type": "stream",
     "text": [
      "https://wolnelektury.pl/media/book/txt/boska-komedia-czysciec.txt\n",
      "https://wolnelektury.pl/media/book/txt/boska-komedia-pieklo.txt\n"
     ]
    },
    {
     "name": "stderr",
     "output_type": "stream",
     "text": [
      "\r",
      " 10%|▉         | 555/5750 [00:45<07:01, 12.32it/s]"
     ]
    },
    {
     "name": "stdout",
     "output_type": "stream",
     "text": [
      "https://wolnelektury.pl/media/book/txt/boska-komedia-raj.txt\n",
      "https://wolnelektury.pl/media/book/txt/boska-komedia-wstep.txt\n"
     ]
    },
    {
     "name": "stderr",
     "output_type": "stream",
     "text": [
      "\r",
      " 10%|▉         | 557/5750 [00:45<07:01, 12.31it/s]"
     ]
    },
    {
     "name": "stdout",
     "output_type": "stream",
     "text": [
      "https://wolnelektury.pl/media/book/txt/boy-bajeczki-jozia.txt\n",
      "https://wolnelektury.pl/media/book/txt/boy-dziewice-konsystorskie.txt\n",
      "https://wolnelektury.pl/media/book/txt/boy-kaprys.txt\n"
     ]
    },
    {
     "name": "stderr",
     "output_type": "stream",
     "text": [
      "\r",
      " 10%|▉         | 559/5750 [00:45<07:01, 12.30it/s]"
     ]
    },
    {
     "name": "stdout",
     "output_type": "stream",
     "text": [
      "https://wolnelektury.pl/media/book/txt/boy-ludzie-zywi.txt\n",
      "https://wolnelektury.pl/media/book/txt/boy-marzenie-i-pysk.txt\n"
     ]
    },
    {
     "name": "stderr",
     "output_type": "stream",
     "text": [
      " 10%|▉         | 563/5750 [00:45<07:03, 12.25it/s]"
     ]
    },
    {
     "name": "stdout",
     "output_type": "stream",
     "text": [
      "https://wolnelektury.pl/media/book/txt/boy-modlitwa-estety.txt\n",
      "https://wolnelektury.pl/media/book/txt/boy-pobudka-grunwaldzka.txt\n",
      "https://wolnelektury.pl/media/book/txt/boy-swietoszek.txt\n"
     ]
    },
    {
     "name": "stderr",
     "output_type": "stream",
     "text": [
      "\r",
      " 10%|▉         | 565/5750 [00:46<07:04, 12.23it/s]"
     ]
    },
    {
     "name": "stdout",
     "output_type": "stream",
     "text": [
      "https://wolnelektury.pl/media/book/txt/boy-znasz-li-ten-kraj.txt\n",
      "https://wolnelektury.pl/media/book/txt/boze-cos-polske.txt\n"
     ]
    },
    {
     "name": "stderr",
     "output_type": "stream",
     "text": [
      " 10%|▉         | 569/5750 [00:46<07:03, 12.24it/s]"
     ]
    },
    {
     "name": "stdout",
     "output_type": "stream",
     "text": [
      "https://wolnelektury.pl/media/book/txt/boze-dary.txt\n",
      "https://wolnelektury.pl/media/book/txt/bozy-dzwonek.txt\n",
      "https://wolnelektury.pl/media/book/txt/bracia-dalcz-i-s-ka.txt\n",
      "https://wolnelektury.pl/media/book/txt/bracia-dalcz-i-s-ka-tom-1.txt\n"
     ]
    },
    {
     "name": "stderr",
     "output_type": "stream",
     "text": [
      "\r",
      " 10%|▉         | 571/5750 [00:46<07:05, 12.18it/s]"
     ]
    },
    {
     "name": "stdout",
     "output_type": "stream",
     "text": [
      "https://wolnelektury.pl/media/book/txt/bracia-dalcz-i-s-ka-tom-2.txt\n",
      "https://wolnelektury.pl/media/book/txt/bracia-patrzcie-jeno.txt\n"
     ]
    },
    {
     "name": "stderr",
     "output_type": "stream",
     "text": [
      "\r",
      " 10%|▉         | 573/5750 [00:47<07:05, 12.18it/s]"
     ]
    },
    {
     "name": "stdout",
     "output_type": "stream",
     "text": [
      "https://wolnelektury.pl/media/book/txt/bracia-rocznica-wiec-po-zwyczaju.txt\n",
      "https://wolnelektury.pl/media/book/txt/braciszek-i-siostrzyczka.txt\n",
      "https://wolnelektury.pl/media/book/txt/braun-przemysly.txt\n"
     ]
    },
    {
     "name": "stderr",
     "output_type": "stream",
     "text": [
      " 10%|█         | 577/5750 [00:47<07:04, 12.18it/s]"
     ]
    },
    {
     "name": "stdout",
     "output_type": "stream",
     "text": [
      "https://wolnelektury.pl/media/book/txt/braun-przemysly-ahaswer.txt\n",
      "https://wolnelektury.pl/media/book/txt/braun-przemysly-baterja.txt\n",
      "https://wolnelektury.pl/media/book/txt/braun-przemysly-cialo.txt\n"
     ]
    },
    {
     "name": "stderr",
     "output_type": "stream",
     "text": [
      "\r",
      " 10%|█         | 579/5750 [00:47<07:04, 12.17it/s]"
     ]
    },
    {
     "name": "stdout",
     "output_type": "stream",
     "text": [
      "https://wolnelektury.pl/media/book/txt/braun-przemysly-do-majstrow.txt\n",
      "https://wolnelektury.pl/media/book/txt/braun-przemysly-do-reportera.txt\n"
     ]
    },
    {
     "name": "stderr",
     "output_type": "stream",
     "text": [
      "\r",
      " 10%|█         | 581/5750 [00:47<07:05, 12.16it/s]"
     ]
    },
    {
     "name": "stdout",
     "output_type": "stream",
     "text": [
      "https://wolnelektury.pl/media/book/txt/braun-przemysly-drwale.txt\n",
      "https://wolnelektury.pl/media/book/txt/braun-przemysly-duma-o-slowackim.txt\n",
      "https://wolnelektury.pl/media/book/txt/braun-przemysly-dzien-powszedni.txt\n"
     ]
    },
    {
     "name": "stderr",
     "output_type": "stream",
     "text": [
      " 10%|█         | 585/5750 [00:48<07:04, 12.17it/s]"
     ]
    },
    {
     "name": "stdout",
     "output_type": "stream",
     "text": [
      "https://wolnelektury.pl/media/book/txt/braun-przemysly-gdynia.txt\n",
      "https://wolnelektury.pl/media/book/txt/braun-przemysly-golgota.txt\n",
      "https://wolnelektury.pl/media/book/txt/braun-przemysly-gorny-slask.txt\n"
     ]
    },
    {
     "name": "stderr",
     "output_type": "stream",
     "text": [
      " 10%|█         | 589/5750 [00:48<07:03, 12.19it/s]"
     ]
    },
    {
     "name": "stdout",
     "output_type": "stream",
     "text": [
      "https://wolnelektury.pl/media/book/txt/braun-przemysly-inzynier-i-poeta.txt\n",
      "https://wolnelektury.pl/media/book/txt/braun-przemysly-jak-pracuja-warsztaty.txt\n",
      "https://wolnelektury.pl/media/book/txt/braun-przemysly-krajobraz-polski.txt\n",
      "https://wolnelektury.pl/media/book/txt/braun-przemysly-lodz-fabryczna.txt\n"
     ]
    },
    {
     "name": "stderr",
     "output_type": "stream",
     "text": [
      " 10%|█         | 593/5750 [00:48<07:02, 12.20it/s]"
     ]
    },
    {
     "name": "stdout",
     "output_type": "stream",
     "text": [
      "https://wolnelektury.pl/media/book/txt/braun-przemysly-moja-mistrzyni.txt\n",
      "https://wolnelektury.pl/media/book/txt/braun-przemysly-mokre-swiatlo.txt\n",
      "https://wolnelektury.pl/media/book/txt/braun-przemysly-na-zakonczenie-ksiazki.txt\n"
     ]
    },
    {
     "name": "stderr",
     "output_type": "stream",
     "text": [
      "\r",
      " 10%|█         | 595/5750 [00:48<07:02, 12.21it/s]"
     ]
    },
    {
     "name": "stdout",
     "output_type": "stream",
     "text": [
      "https://wolnelektury.pl/media/book/txt/braun-przemysly-nowi-bogowie.txt\n",
      "https://wolnelektury.pl/media/book/txt/braun-przemysly-o-budowaniu-domu.txt\n",
      "https://wolnelektury.pl/media/book/txt/braun-przemysly-o-mickiewiczu.txt\n"
     ]
    },
    {
     "name": "stderr",
     "output_type": "stream",
     "text": [
      "\r",
      " 10%|█         | 597/5750 [00:48<07:02, 12.21it/s]"
     ]
    },
    {
     "name": "stdout",
     "output_type": "stream",
     "text": [
      "https://wolnelektury.pl/media/book/txt/braun-przemysly-o-rodzeniu-chleba-czyli-o-pisaniu-wiersza.txt\n",
      "https://wolnelektury.pl/media/book/txt/braun-przemysly-oda-do-wolnosci.txt\n",
      "https://wolnelektury.pl/media/book/txt/braun-przemysly-piesn-o-kuli-ziemskiej.txt\n"
     ]
    },
    {
     "name": "stderr",
     "output_type": "stream",
     "text": [
      " 10%|█         | 601/5750 [00:49<07:01, 12.22it/s]"
     ]
    },
    {
     "name": "stdout",
     "output_type": "stream",
     "text": [
      "https://wolnelektury.pl/media/book/txt/braun-przemysly-piotr.txt\n",
      "https://wolnelektury.pl/media/book/txt/braun-przemysly-przemysly.txt\n",
      "https://wolnelektury.pl/media/book/txt/braun-przemysly-radjo.txt\n"
     ]
    },
    {
     "name": "stderr",
     "output_type": "stream",
     "text": [
      "\r",
      " 10%|█         | 603/5750 [00:49<07:01, 12.22it/s]"
     ]
    },
    {
     "name": "stdout",
     "output_type": "stream",
     "text": [
      "https://wolnelektury.pl/media/book/txt/braun-przemysly-rzecz-o-poezji.txt\n",
      "https://wolnelektury.pl/media/book/txt/braun-przemysly-wiersz-z-powodu-przelotu-nad-oceanem.txt\n",
      "https://wolnelektury.pl/media/book/txt/braun-przemysly-wiosna.txt\n"
     ]
    },
    {
     "name": "stderr",
     "output_type": "stream",
     "text": [
      " 11%|█         | 607/5750 [00:49<07:00, 12.23it/s]"
     ]
    },
    {
     "name": "stdout",
     "output_type": "stream",
     "text": [
      "https://wolnelektury.pl/media/book/txt/braun-przemysly-wisla.txt\n",
      "https://wolnelektury.pl/media/book/txt/braun-przemysly-wspomnienie-o-zeromskim.txt\n",
      "https://wolnelektury.pl/media/book/txt/braun-przemysly-wynalazki.txt\n"
     ]
    },
    {
     "name": "stderr",
     "output_type": "stream",
     "text": [
      "\r",
      " 11%|█         | 609/5750 [00:49<07:00, 12.23it/s]"
     ]
    },
    {
     "name": "stdout",
     "output_type": "stream",
     "text": [
      "https://wolnelektury.pl/media/book/txt/braun-przemysly-zaczarowana-karczma.txt\n",
      "https://wolnelektury.pl/media/book/txt/braun-przemysly-zdrada.txt\n",
      "https://wolnelektury.pl/media/book/txt/braun-przemysly-ziemia-marcowa.txt\n"
     ]
    },
    {
     "name": "stderr",
     "output_type": "stream",
     "text": [
      " 11%|█         | 613/5750 [00:50<06:59, 12.24it/s]"
     ]
    },
    {
     "name": "stdout",
     "output_type": "stream",
     "text": [
      "https://wolnelektury.pl/media/book/txt/braz-kolysanka.txt\n",
      "https://wolnelektury.pl/media/book/txt/braz-monna-kerywel.txt\n",
      "https://wolnelektury.pl/media/book/txt/brazownicy.txt\n"
     ]
    },
    {
     "name": "stderr",
     "output_type": "stream",
     "text": [
      "\r",
      " 11%|█         | 615/5750 [00:50<07:00, 12.21it/s]"
     ]
    },
    {
     "name": "stdout",
     "output_type": "stream",
     "text": [
      "https://wolnelektury.pl/media/book/txt/bronis-i-ptaszki.txt\n",
      "https://wolnelektury.pl/media/book/txt/bruckner-starozytna-litwa.txt\n"
     ]
    },
    {
     "name": "stderr",
     "output_type": "stream",
     "text": [
      "\r",
      " 11%|█         | 617/5750 [00:50<07:01, 12.17it/s]"
     ]
    },
    {
     "name": "stdout",
     "output_type": "stream",
     "text": [
      "https://wolnelektury.pl/media/book/txt/bruhl-tom-drugi.txt\n",
      "https://wolnelektury.pl/media/book/txt/bruhl-tom-pierwszy.txt\n"
     ]
    },
    {
     "name": "stderr",
     "output_type": "stream",
     "text": [
      "\r",
      " 11%|█         | 619/5750 [00:50<07:02, 12.15it/s]"
     ]
    },
    {
     "name": "stdout",
     "output_type": "stream",
     "text": [
      "https://wolnelektury.pl/media/book/txt/bryla-lodu-i-krysztal.txt\n",
      "https://wolnelektury.pl/media/book/txt/brys.txt\n",
      "https://wolnelektury.pl/media/book/txt/brytan-w-obrozy.txt\n"
     ]
    },
    {
     "name": "stderr",
     "output_type": "stream",
     "text": [
      " 11%|█         | 623/5750 [00:51<07:01, 12.15it/s]"
     ]
    },
    {
     "name": "stdout",
     "output_type": "stream",
     "text": [
      "https://wolnelektury.pl/media/book/txt/brzydkie-kaczatko.txt\n",
      "https://wolnelektury.pl/media/book/txt/buda-czemu-w-studni-woda-dudni.txt\n",
      "https://wolnelektury.pl/media/book/txt/buda-o-nazwie-wsi-boguchwala-zapadla-karczma.txt\n"
     ]
    },
    {
     "name": "stderr",
     "output_type": "stream",
     "text": [
      "\r",
      " 11%|█         | 625/5750 [00:51<07:01, 12.15it/s]"
     ]
    },
    {
     "name": "stdout",
     "output_type": "stream",
     "text": [
      "https://wolnelektury.pl/media/book/txt/buda-o-przytulku-skarb-matki.txt\n",
      "https://wolnelektury.pl/media/book/txt/budnik.txt\n"
     ]
    },
    {
     "name": "stderr",
     "output_type": "stream",
     "text": [
      " 11%|█         | 629/5750 [00:51<07:01, 12.16it/s]"
     ]
    },
    {
     "name": "stdout",
     "output_type": "stream",
     "text": [
      "https://wolnelektury.pl/media/book/txt/bug-i-strumyk.txt\n",
      "https://wolnelektury.pl/media/book/txt/bukowinski-ad-patres.txt\n",
      "https://wolnelektury.pl/media/book/txt/bukowinski-na-greckiej-fali.txt\n",
      "https://wolnelektury.pl/media/book/txt/bukowinski-przy-ksiezycu.txt\n"
     ]
    },
    {
     "name": "stderr",
     "output_type": "stream",
     "text": [
      "\r",
      " 11%|█         | 631/5750 [00:51<07:01, 12.15it/s]"
     ]
    },
    {
     "name": "stdout",
     "output_type": "stream",
     "text": [
      "https://wolnelektury.pl/media/book/txt/bukowinski-zbudz-sie.txt\n",
      "https://wolnelektury.pl/media/book/txt/bulhakow-diaboliada.txt\n",
      "https://wolnelektury.pl/media/book/txt/bulhakow-fatalne-jaja.txt\n"
     ]
    },
    {
     "name": "stderr",
     "output_type": "stream",
     "text": [
      " 11%|█         | 635/5750 [00:52<07:02, 12.10it/s]"
     ]
    },
    {
     "name": "stdout",
     "output_type": "stream",
     "text": [
      "https://wolnelektury.pl/media/book/txt/burek-i-janka.txt\n",
      "https://wolnelektury.pl/media/book/txt/bursztyn-zyto-dojrzale.txt\n",
      "https://wolnelektury.pl/media/book/txt/burza.txt\n"
     ]
    },
    {
     "name": "stderr",
     "output_type": "stream",
     "text": [
      "\r",
      " 11%|█         | 637/5750 [00:52<07:02, 12.09it/s]"
     ]
    },
    {
     "name": "stdout",
     "output_type": "stream",
     "text": [
      "https://wolnelektury.pl/media/book/txt/but-w-butonierce.txt\n",
      "https://wolnelektury.pl/media/book/txt/but-w-butonierce-but-w-butonierce.txt\n",
      "https://wolnelektury.pl/media/book/txt/but-w-butonierce-cafe.txt\n"
     ]
    },
    {
     "name": "stderr",
     "output_type": "stream",
     "text": [
      " 11%|█         | 641/5750 [00:52<07:02, 12.11it/s]"
     ]
    },
    {
     "name": "stdout",
     "output_type": "stream",
     "text": [
      "https://wolnelektury.pl/media/book/txt/but-w-butonierce-dedykacja.txt\n",
      "https://wolnelektury.pl/media/book/txt/but-w-butonierce-deszcz.txt\n",
      "https://wolnelektury.pl/media/book/txt/but-w-butonierce-intermezzo-czy-widzieliscie.txt\n",
      "https://wolnelektury.pl/media/book/txt/but-w-butonierce-intermezzo-zielone-sa-rece-moje.txt\n"
     ]
    },
    {
     "name": "stderr",
     "output_type": "stream",
     "text": [
      " 11%|█         | 645/5750 [00:53<07:01, 12.12it/s]"
     ]
    },
    {
     "name": "stdout",
     "output_type": "stream",
     "text": [
      "https://wolnelektury.pl/media/book/txt/but-w-butonierce-ipecacuana.txt\n",
      "https://wolnelektury.pl/media/book/txt/but-w-butonierce-jak-introdukcja.txt\n",
      "https://wolnelektury.pl/media/book/txt/but-w-butonierce-lili-nudzi-sie.txt\n",
      "https://wolnelektury.pl/media/book/txt/but-w-butonierce-marsz.txt\n"
     ]
    },
    {
     "name": "stderr",
     "output_type": "stream",
     "text": [
      " 11%|█▏        | 649/5750 [00:53<07:00, 12.13it/s]"
     ]
    },
    {
     "name": "stdout",
     "output_type": "stream",
     "text": [
      "https://wolnelektury.pl/media/book/txt/but-w-butonierce-miasto.txt\n",
      "https://wolnelektury.pl/media/book/txt/but-w-butonierce-milosc-na-aucie.txt\n",
      "https://wolnelektury.pl/media/book/txt/but-w-butonierce-morga.txt\n"
     ]
    },
    {
     "name": "stderr",
     "output_type": "stream",
     "text": [
      "\r",
      " 11%|█▏        | 651/5750 [00:53<07:00, 12.14it/s]"
     ]
    },
    {
     "name": "stdout",
     "output_type": "stream",
     "text": [
      "https://wolnelektury.pl/media/book/txt/but-w-butonierce-na-bis.txt\n",
      "https://wolnelektury.pl/media/book/txt/but-w-butonierce-nic.txt\n",
      "https://wolnelektury.pl/media/book/txt/but-w-butonierce-panienki-w-lesie.txt\n"
     ]
    },
    {
     "name": "stderr",
     "output_type": "stream",
     "text": [
      " 11%|█▏        | 655/5750 [00:53<06:59, 12.15it/s]"
     ]
    },
    {
     "name": "stdout",
     "output_type": "stream",
     "text": [
      "https://wolnelektury.pl/media/book/txt/but-w-butonierce-perche.txt\n",
      "https://wolnelektury.pl/media/book/txt/but-w-butonierce-podrozniczki.txt\n",
      "https://wolnelektury.pl/media/book/txt/but-w-butonierce-prozowierszem.txt\n"
     ]
    },
    {
     "name": "stderr",
     "output_type": "stream",
     "text": [
      "\r",
      " 11%|█▏        | 657/5750 [00:54<06:58, 12.16it/s]"
     ]
    },
    {
     "name": "stdout",
     "output_type": "stream",
     "text": [
      "https://wolnelektury.pl/media/book/txt/but-w-butonierce-przejechali.txt\n",
      "https://wolnelektury.pl/media/book/txt/but-w-butonierce-smierc-pana-premiera.txt\n",
      "https://wolnelektury.pl/media/book/txt/but-w-butonierce-snieg.txt\n"
     ]
    },
    {
     "name": "stderr",
     "output_type": "stream",
     "text": [
      " 11%|█▏        | 661/5750 [00:54<06:58, 12.17it/s]"
     ]
    },
    {
     "name": "stdout",
     "output_type": "stream",
     "text": [
      "https://wolnelektury.pl/media/book/txt/but-w-butonierce-spacer.txt\n",
      "https://wolnelektury.pl/media/book/txt/but-w-butonierce-tango-jesienne.txt\n",
      "https://wolnelektury.pl/media/book/txt/but-w-butonierce-trupy-z-kawiorem.txt\n",
      "https://wolnelektury.pl/media/book/txt/but-w-butonierce-wiosna.txt\n"
     ]
    },
    {
     "name": "stderr",
     "output_type": "stream",
     "text": [
      " 12%|█▏        | 665/5750 [00:54<06:57, 12.19it/s]"
     ]
    },
    {
     "name": "stdout",
     "output_type": "stream",
     "text": [
      "https://wolnelektury.pl/media/book/txt/but-w-butonierce-zygajace-posagi.txt\n",
      "https://wolnelektury.pl/media/book/txt/byl-to-berko-slawny-zyd.txt\n",
      "https://wolnelektury.pl/media/book/txt/bylbym-cie-oddal.txt\n",
      "https://wolnelektury.pl/media/book/txt/byron-don-juan.txt\n"
     ]
    },
    {
     "name": "stderr",
     "output_type": "stream",
     "text": [
      " 12%|█▏        | 669/5750 [00:55<06:58, 12.14it/s]"
     ]
    },
    {
     "name": "stdout",
     "output_type": "stream",
     "text": [
      "https://wolnelektury.pl/media/book/txt/bywaj-dziewcze-zdrowe.txt\n",
      "https://wolnelektury.pl/media/book/txt/calineczka.txt\n",
      "https://wolnelektury.pl/media/book/txt/capek-fabryka-absolutu.txt\n"
     ]
    },
    {
     "name": "stderr",
     "output_type": "stream",
     "text": [
      "\r",
      " 12%|█▏        | 671/5750 [00:55<06:58, 12.13it/s]"
     ]
    },
    {
     "name": "stdout",
     "output_type": "stream",
     "text": [
      "https://wolnelektury.pl/media/book/txt/capreae-i-roma.txt\n",
      "https://wolnelektury.pl/media/book/txt/capreae-i-roma-tom-drugi.txt\n"
     ]
    },
    {
     "name": "stderr",
     "output_type": "stream",
     "text": [
      "\r",
      " 12%|█▏        | 673/5750 [00:55<07:01, 12.05it/s]"
     ]
    },
    {
     "name": "stdout",
     "output_type": "stream",
     "text": [
      "https://wolnelektury.pl/media/book/txt/capreae-i-roma-tom-pierwszy.txt\n",
      "https://wolnelektury.pl/media/book/txt/cesarz-chinski-i-syn-jego-bajki-nowe.txt\n"
     ]
    },
    {
     "name": "stderr",
     "output_type": "stream",
     "text": [
      "\r",
      " 12%|█▏        | 675/5750 [00:56<07:01, 12.05it/s]"
     ]
    },
    {
     "name": "stdout",
     "output_type": "stream",
     "text": [
      "https://wolnelektury.pl/media/book/txt/chalat.txt\n",
      "https://wolnelektury.pl/media/book/txt/charaktery-i-anegdoty.txt\n"
     ]
    },
    {
     "name": "stderr",
     "output_type": "stream",
     "text": [
      " 12%|█▏        | 678/5750 [00:56<07:01, 12.04it/s]"
     ]
    },
    {
     "name": "stdout",
     "output_type": "stream",
     "text": [
      "https://wolnelektury.pl/media/book/txt/chart-i-kotka.txt\n",
      "https://wolnelektury.pl/media/book/txt/chart-i-osiol.txt\n",
      "https://wolnelektury.pl/media/book/txt/chata-w-lesie.txt\n",
      "https://wolnelektury.pl/media/book/txt/chata-za-wsia.txt\n"
     ]
    },
    {
     "name": "stderr",
     "output_type": "stream",
     "text": [
      " 12%|█▏        | 682/5750 [00:56<07:02, 12.00it/s]"
     ]
    },
    {
     "name": "stdout",
     "output_type": "stream",
     "text": [
      "https://wolnelektury.pl/media/book/txt/chawa-rubin.txt\n",
      "https://wolnelektury.pl/media/book/txt/chciej-a-bedziesz-szczesliwym.txt\n",
      "https://wolnelektury.pl/media/book/txt/chleb-i-szabla.txt\n"
     ]
    },
    {
     "name": "stderr",
     "output_type": "stream",
     "text": [
      "\r",
      " 12%|█▏        | 684/5750 [00:56<07:02, 12.00it/s]"
     ]
    },
    {
     "name": "stdout",
     "output_type": "stream",
     "text": [
      "https://wolnelektury.pl/media/book/txt/chlop-i-ciele-bajki-nowe.txt\n",
      "https://wolnelektury.pl/media/book/txt/chlop-i-jowisz-bajki-nowe.txt\n",
      "https://wolnelektury.pl/media/book/txt/chlopczyk-ukarany.txt\n"
     ]
    },
    {
     "name": "stderr",
     "output_type": "stream",
     "text": [
      " 12%|█▏        | 688/5750 [00:57<07:01, 12.01it/s]"
     ]
    },
    {
     "name": "stdout",
     "output_type": "stream",
     "text": [
      "https://wolnelektury.pl/media/book/txt/chlopczyk-wsrod-drogi.txt\n",
      "https://wolnelektury.pl/media/book/txt/chlopi.txt\n",
      "https://wolnelektury.pl/media/book/txt/chlopi-czesc-czwarta-lato.txt\n",
      "https://wolnelektury.pl/media/book/txt/chlopi-czesc-pierwsza-jesien.txt\n"
     ]
    },
    {
     "name": "stderr",
     "output_type": "stream",
     "text": [
      "\r",
      " 12%|█▏        | 690/5750 [00:57<07:03, 11.95it/s]"
     ]
    },
    {
     "name": "stdout",
     "output_type": "stream",
     "text": [
      "https://wolnelektury.pl/media/book/txt/chlopi-czesc-trzecia-wiosna.txt\n"
     ]
    },
    {
     "name": "stderr",
     "output_type": "stream",
     "text": [
      " 12%|█▏        | 693/5750 [00:58<07:04, 11.92it/s]"
     ]
    },
    {
     "name": "stdout",
     "output_type": "stream",
     "text": [
      "https://wolnelektury.pl/media/book/txt/chmiel-bajki-nowe.txt\n",
      "https://wolnelektury.pl/media/book/txt/chmurka.txt\n",
      "https://wolnelektury.pl/media/book/txt/choinka.txt\n"
     ]
    },
    {
     "name": "stderr",
     "output_type": "stream",
     "text": [
      "\r",
      " 12%|█▏        | 695/5750 [00:58<07:03, 11.92it/s]"
     ]
    },
    {
     "name": "stdout",
     "output_type": "stream",
     "text": [
      "https://wolnelektury.pl/media/book/txt/choinka-w-lesie.txt\n",
      "https://wolnelektury.pl/media/book/txt/cholera-w-neapolu.txt\n",
      "https://wolnelektury.pl/media/book/txt/chor-duchow-izraelskich.txt\n"
     ]
    },
    {
     "name": "stderr",
     "output_type": "stream",
     "text": [
      "\r",
      " 12%|█▏        | 697/5750 [00:58<07:03, 11.93it/s]"
     ]
    },
    {
     "name": "stdout",
     "output_type": "stream",
     "text": [
      "https://wolnelektury.pl/media/book/txt/chore-dusze.txt\n",
      "https://wolnelektury.pl/media/book/txt/chore-dusze-tom-i.txt\n"
     ]
    },
    {
     "name": "stderr",
     "output_type": "stream",
     "text": [
      "\r",
      " 12%|█▏        | 699/5750 [00:58<07:04, 11.91it/s]"
     ]
    },
    {
     "name": "stdout",
     "output_type": "stream",
     "text": [
      "https://wolnelektury.pl/media/book/txt/chore-dusze-tom-ii.txt\n",
      "https://wolnelektury.pl/media/book/txt/chory-kotek.txt\n"
     ]
    },
    {
     "name": "stderr",
     "output_type": "stream",
     "text": [
      " 12%|█▏        | 703/5750 [00:59<07:04, 11.89it/s]"
     ]
    },
    {
     "name": "stdout",
     "output_type": "stream",
     "text": [
      "https://wolnelektury.pl/media/book/txt/chrystus-i-dzieci.txt\n",
      "https://wolnelektury.pl/media/book/txt/chuda-o-niedzwiedziu-krolewiczu.txt\n",
      "https://wolnelektury.pl/media/book/txt/cicha-noc.txt\n"
     ]
    },
    {
     "name": "stderr",
     "output_type": "stream",
     "text": [
      "\r",
      " 12%|█▏        | 705/5750 [00:59<07:04, 11.89it/s]"
     ]
    },
    {
     "name": "stdout",
     "output_type": "stream",
     "text": [
      "https://wolnelektury.pl/media/book/txt/cicho-cicho-na-lesnej-polanie.txt\n",
      "https://wolnelektury.pl/media/book/txt/cichy-wieczor.txt\n",
      "https://wolnelektury.pl/media/book/txt/cien.txt\n"
     ]
    },
    {
     "name": "stderr",
     "output_type": "stream",
     "text": [
      "\r",
      " 12%|█▏        | 707/5750 [00:59<07:03, 11.90it/s]"
     ]
    },
    {
     "name": "stdout",
     "output_type": "stream",
     "text": [
      "https://wolnelektury.pl/media/book/txt/cierpienia-mlodego-wertera.txt\n",
      "https://wolnelektury.pl/media/book/txt/ciesla-o-leczeniu-padaczki.txt\n"
     ]
    },
    {
     "name": "stderr",
     "output_type": "stream",
     "text": [
      " 12%|█▏        | 711/5750 [00:59<07:04, 11.88it/s]"
     ]
    },
    {
     "name": "stdout",
     "output_type": "stream",
     "text": [
      "https://wolnelektury.pl/media/book/txt/ciezkie-czasy.txt\n",
      "https://wolnelektury.pl/media/book/txt/ciocia-klocia.txt\n",
      "https://wolnelektury.pl/media/book/txt/cnotliwi.txt\n"
     ]
    },
    {
     "name": "stderr",
     "output_type": "stream",
     "text": [
      "\r",
      " 12%|█▏        | 713/5750 [01:00<07:05, 11.84it/s]"
     ]
    },
    {
     "name": "stdout",
     "output_type": "stream",
     "text": [
      "https://wolnelektury.pl/media/book/txt/co-dzieci-widzialy-w-drodze.txt\n",
      "https://wolnelektury.pl/media/book/txt/co-golabki-widza.txt\n",
      "https://wolnelektury.pl/media/book/txt/co-ja-wyczytam-w-ksiazeczce.txt\n"
     ]
    },
    {
     "name": "stderr",
     "output_type": "stream",
     "text": [
      " 12%|█▏        | 717/5750 [01:00<07:04, 11.85it/s]"
     ]
    },
    {
     "name": "stdout",
     "output_type": "stream",
     "text": [
      "https://wolnelektury.pl/media/book/txt/co-janek-zrobil.txt\n",
      "https://wolnelektury.pl/media/book/txt/co-mowi-zegar.txt\n",
      "https://wolnelektury.pl/media/book/txt/co-mowia-drzewa.txt\n",
      "https://wolnelektury.pl/media/book/txt/co-mowil-stary-klon.txt\n"
     ]
    },
    {
     "name": "stderr",
     "output_type": "stream",
     "text": [
      " 13%|█▎        | 721/5750 [01:00<07:05, 11.83it/s]"
     ]
    },
    {
     "name": "stdout",
     "output_type": "stream",
     "text": [
      "https://wolnelektury.pl/media/book/txt/co-robia-ptaszki.txt\n",
      "https://wolnelektury.pl/media/book/txt/co-slonko-widzialo.txt\n",
      "https://wolnelektury.pl/media/book/txt/co-stas-pisze.txt\n"
     ]
    },
    {
     "name": "stderr",
     "output_type": "stream",
     "text": [
      "\r",
      " 13%|█▎        | 723/5750 [01:01<07:05, 11.81it/s]"
     ]
    },
    {
     "name": "stdout",
     "output_type": "stream",
     "text": [
      "https://wolnelektury.pl/media/book/txt/co-stas-widzial-w-polu.txt\n",
      "https://wolnelektury.pl/media/book/txt/confiteor.txt\n"
     ]
    },
    {
     "name": "stderr",
     "output_type": "stream",
     "text": [
      "\r",
      " 13%|█▎        | 724/5750 [01:01<07:05, 11.80it/s]"
     ]
    },
    {
     "name": "stdout",
     "output_type": "stream",
     "text": [
      "https://wolnelektury.pl/media/book/txt/conrad-amy-foster.txt\n"
     ]
    },
    {
     "name": "stderr",
     "output_type": "stream",
     "text": [
      "\r",
      " 13%|█▎        | 725/5750 [01:01<07:06, 11.77it/s]"
     ]
    },
    {
     "name": "stdout",
     "output_type": "stream",
     "text": [
      "https://wolnelektury.pl/media/book/txt/conrad-jadro-ciemnosci.txt\n"
     ]
    },
    {
     "name": "stderr",
     "output_type": "stream",
     "text": [
      " 13%|█▎        | 727/5750 [01:01<07:08, 11.73it/s]"
     ]
    },
    {
     "name": "stdout",
     "output_type": "stream",
     "text": [
      "https://wolnelektury.pl/media/book/txt/conrad-mlodosc.txt\n",
      "https://wolnelektury.pl/media/book/txt/conrad-mlodosc-i-inne-opowiadania.txt\n",
      "https://wolnelektury.pl/media/book/txt/conrad-mlodosc-i-inne-opowiadania-przedmowa-autora.txt\n"
     ]
    },
    {
     "name": "stderr",
     "output_type": "stream",
     "text": [
      " 13%|█▎        | 730/5750 [01:02<07:08, 11.72it/s]"
     ]
    },
    {
     "name": "stdout",
     "output_type": "stream",
     "text": [
      "https://wolnelektury.pl/media/book/txt/conrad-murzyn-z-zalogi-narcyza.txt\n",
      "https://wolnelektury.pl/media/book/txt/conrad-placowka-postepu.txt\n"
     ]
    },
    {
     "name": "stderr",
     "output_type": "stream",
     "text": [
      "\r",
      " 13%|█▎        | 731/5750 [01:02<07:08, 11.71it/s]"
     ]
    },
    {
     "name": "stdout",
     "output_type": "stream",
     "text": [
      "https://wolnelektury.pl/media/book/txt/conrad-tajny-agent.txt\n"
     ]
    },
    {
     "name": "stderr",
     "output_type": "stream",
     "text": [
      " 13%|█▎        | 733/5750 [01:02<07:10, 11.66it/s]"
     ]
    },
    {
     "name": "stdout",
     "output_type": "stream",
     "text": [
      "https://wolnelektury.pl/media/book/txt/conrad-u-kresu-sil.txt\n",
      "https://wolnelektury.pl/media/book/txt/conrad-zwyciestwo.txt\n"
     ]
    },
    {
     "name": "stderr",
     "output_type": "stream",
     "text": [
      " 13%|█▎        | 736/5750 [01:03<07:11, 11.63it/s]"
     ]
    },
    {
     "name": "stdout",
     "output_type": "stream",
     "text": [
      "https://wolnelektury.pl/media/book/txt/cora-albionu.txt\n",
      "https://wolnelektury.pl/media/book/txt/corka-cerery.txt\n",
      "https://wolnelektury.pl/media/book/txt/cos.txt\n"
     ]
    },
    {
     "name": "stderr",
     "output_type": "stream",
     "text": [
      "\r",
      " 13%|█▎        | 738/5750 [01:03<07:10, 11.63it/s]"
     ]
    },
    {
     "name": "stdout",
     "output_type": "stream",
     "text": [
      "https://wolnelektury.pl/media/book/txt/cos-ty-atenom-zrobil-sokratesie.txt\n",
      "https://wolnelektury.pl/media/book/txt/crime-and-custom-in-savage-society.txt\n"
     ]
    },
    {
     "name": "stderr",
     "output_type": "stream",
     "text": [
      " 13%|█▎        | 740/5750 [01:03<07:11, 11.62it/s]"
     ]
    },
    {
     "name": "stdout",
     "output_type": "stream",
     "text": [
      "https://wolnelektury.pl/media/book/txt/cud-na-kirkucie.txt\n",
      "https://wolnelektury.pl/media/book/txt/cuda-milosci-karmie-frasunkiem-milosc-i-mysleniem.txt\n",
      "https://wolnelektury.pl/media/book/txt/cuda-milosci-przebog-jak-zyje-serca-juz-nie-majac.txt\n"
     ]
    },
    {
     "name": "stderr",
     "output_type": "stream",
     "text": [
      "\r",
      " 13%|█▎        | 742/5750 [01:03<07:10, 11.63it/s]"
     ]
    },
    {
     "name": "stdout",
     "output_type": "stream",
     "text": [
      "https://wolnelektury.pl/media/book/txt/cudna-mieszczka.txt\n",
      "https://wolnelektury.pl/media/book/txt/cudowne-lekarstwo.txt\n"
     ]
    },
    {
     "name": "stderr",
     "output_type": "stream",
     "text": [
      " 13%|█▎        | 746/5750 [01:04<07:10, 11.62it/s]"
     ]
    },
    {
     "name": "stdout",
     "output_type": "stream",
     "text": [
      "https://wolnelektury.pl/media/book/txt/cudzoziemiec.txt\n",
      "https://wolnelektury.pl/media/book/txt/cyd.txt\n",
      "https://wolnelektury.pl/media/book/txt/cyranowicz-denpresja.txt\n"
     ]
    },
    {
     "name": "stderr",
     "output_type": "stream",
     "text": [
      "\r",
      " 13%|█▎        | 748/5750 [01:04<07:10, 11.62it/s]"
     ]
    },
    {
     "name": "stdout",
     "output_type": "stream",
     "text": [
      "https://wolnelektury.pl/media/book/txt/cyranowicz-denpresja-dokument-00.txt\n",
      "https://wolnelektury.pl/media/book/txt/cyranowicz-denpresja-dokument-01.txt\n",
      "https://wolnelektury.pl/media/book/txt/cyranowicz-denpresja-dokument-010.txt\n"
     ]
    },
    {
     "name": "stderr",
     "output_type": "stream",
     "text": [
      " 13%|█▎        | 752/5750 [01:04<07:09, 11.63it/s]"
     ]
    },
    {
     "name": "stdout",
     "output_type": "stream",
     "text": [
      "https://wolnelektury.pl/media/book/txt/cyranowicz-denpresja-dokument-011.txt\n",
      "https://wolnelektury.pl/media/book/txt/cyranowicz-denpresja-dokument-012.txt\n",
      "https://wolnelektury.pl/media/book/txt/cyranowicz-denpresja-dokument-013.txt\n"
     ]
    },
    {
     "name": "stderr",
     "output_type": "stream",
     "text": [
      " 13%|█▎        | 756/5750 [01:04<07:08, 11.65it/s]"
     ]
    },
    {
     "name": "stdout",
     "output_type": "stream",
     "text": [
      "https://wolnelektury.pl/media/book/txt/cyranowicz-denpresja-dokument-015.txt\n",
      "https://wolnelektury.pl/media/book/txt/cyranowicz-denpresja-dokument-016.txt\n",
      "https://wolnelektury.pl/media/book/txt/cyranowicz-denpresja-dokument-017.txt\n",
      "https://wolnelektury.pl/media/book/txt/cyranowicz-denpresja-dokument-018.txt\n"
     ]
    },
    {
     "name": "stderr",
     "output_type": "stream",
     "text": [
      " 13%|█▎        | 760/5750 [01:05<07:07, 11.66it/s]"
     ]
    },
    {
     "name": "stdout",
     "output_type": "stream",
     "text": [
      "https://wolnelektury.pl/media/book/txt/cyranowicz-denpresja-dokument-019.txt\n",
      "https://wolnelektury.pl/media/book/txt/cyranowicz-denpresja-dokument-02.txt\n",
      "https://wolnelektury.pl/media/book/txt/cyranowicz-denpresja-dokument-020.txt\n",
      "https://wolnelektury.pl/media/book/txt/cyranowicz-denpresja-dokument-021.txt\n"
     ]
    },
    {
     "name": "stderr",
     "output_type": "stream",
     "text": [
      " 13%|█▎        | 764/5750 [01:05<07:07, 11.67it/s]"
     ]
    },
    {
     "name": "stdout",
     "output_type": "stream",
     "text": [
      "https://wolnelektury.pl/media/book/txt/cyranowicz-denpresja-dokument-022.txt\n",
      "https://wolnelektury.pl/media/book/txt/cyranowicz-denpresja-dokument-023.txt\n",
      "https://wolnelektury.pl/media/book/txt/cyranowicz-denpresja-dokument-024.txt\n",
      "https://wolnelektury.pl/media/book/txt/cyranowicz-denpresja-dokument-025.txt\n"
     ]
    },
    {
     "name": "stderr",
     "output_type": "stream",
     "text": [
      "\r",
      " 13%|█▎        | 766/5750 [01:05<07:06, 11.68it/s]"
     ]
    },
    {
     "name": "stdout",
     "output_type": "stream",
     "text": [
      "https://wolnelektury.pl/media/book/txt/cyranowicz-denpresja-dokument-026.txt\n",
      "https://wolnelektury.pl/media/book/txt/cyranowicz-denpresja-dokument-027.txt\n",
      "https://wolnelektury.pl/media/book/txt/cyranowicz-denpresja-dokument-028.txt\n"
     ]
    },
    {
     "name": "stderr",
     "output_type": "stream",
     "text": [
      " 13%|█▎        | 770/5750 [01:05<07:06, 11.69it/s]"
     ]
    },
    {
     "name": "stdout",
     "output_type": "stream",
     "text": [
      "https://wolnelektury.pl/media/book/txt/cyranowicz-denpresja-dokument-029.txt\n",
      "https://wolnelektury.pl/media/book/txt/cyranowicz-denpresja-dokument-03.txt\n",
      "https://wolnelektury.pl/media/book/txt/cyranowicz-denpresja-dokument-030.txt\n"
     ]
    },
    {
     "name": "stderr",
     "output_type": "stream",
     "text": [
      " 13%|█▎        | 774/5750 [01:06<07:05, 11.70it/s]"
     ]
    },
    {
     "name": "stdout",
     "output_type": "stream",
     "text": [
      "https://wolnelektury.pl/media/book/txt/cyranowicz-denpresja-dokument-04.txt\n",
      "https://wolnelektury.pl/media/book/txt/cyranowicz-denpresja-dokument-05.txt\n",
      "https://wolnelektury.pl/media/book/txt/cyranowicz-denpresja-dokument-06.txt\n",
      "https://wolnelektury.pl/media/book/txt/cyranowicz-denpresja-dokument-07.txt\n"
     ]
    },
    {
     "name": "stderr",
     "output_type": "stream",
     "text": [
      "\r",
      " 13%|█▎        | 776/5750 [01:06<07:04, 11.71it/s]"
     ]
    },
    {
     "name": "stdout",
     "output_type": "stream",
     "text": [
      "https://wolnelektury.pl/media/book/txt/cyranowicz-denpresja-dokument-08.txt\n",
      "https://wolnelektury.pl/media/book/txt/cyranowicz-denpresja-dokument-09.txt\n",
      "https://wolnelektury.pl/media/book/txt/czapla-ryby-i-rak-bajki-nowe.txt\n"
     ]
    },
    {
     "name": "stderr",
     "output_type": "stream",
     "text": [
      " 14%|█▎        | 780/5750 [01:06<07:04, 11.71it/s]"
     ]
    },
    {
     "name": "stdout",
     "output_type": "stream",
     "text": [
      "https://wolnelektury.pl/media/book/txt/czarna-sukienka.txt\n",
      "https://wolnelektury.pl/media/book/txt/czarny-kot.txt\n",
      "https://wolnelektury.pl/media/book/txt/czaty.txt\n"
     ]
    },
    {
     "name": "stderr",
     "output_type": "stream",
     "text": [
      "\r",
      " 14%|█▎        | 782/5750 [01:06<07:04, 11.71it/s]"
     ]
    },
    {
     "name": "stdout",
     "output_type": "stream",
     "text": [
      "https://wolnelektury.pl/media/book/txt/czechow-zemsta.txt\n",
      "https://wolnelektury.pl/media/book/txt/czerw-drzewa-zwiedle-toczy.txt\n",
      "https://wolnelektury.pl/media/book/txt/czerwone-buciki.txt\n"
     ]
    },
    {
     "name": "stderr",
     "output_type": "stream",
     "text": [
      " 14%|█▎        | 786/5750 [01:07<07:03, 11.72it/s]"
     ]
    },
    {
     "name": "stdout",
     "output_type": "stream",
     "text": [
      "https://wolnelektury.pl/media/book/txt/czerwony-kapturek.txt\n",
      "https://wolnelektury.pl/media/book/txt/czlowiek-i-golebie-bajki-nowe.txt\n",
      "https://wolnelektury.pl/media/book/txt/czlowiek-i-kamien.txt\n"
     ]
    },
    {
     "name": "stderr",
     "output_type": "stream",
     "text": [
      " 14%|█▎        | 790/5750 [01:07<07:02, 11.73it/s]"
     ]
    },
    {
     "name": "stdout",
     "output_type": "stream",
     "text": [
      "https://wolnelektury.pl/media/book/txt/czlowiek-i-morze.txt\n",
      "https://wolnelektury.pl/media/book/txt/czlowiek-i-suknia.txt\n",
      "https://wolnelektury.pl/media/book/txt/czlowiek-i-wilk.txt\n",
      "https://wolnelektury.pl/media/book/txt/czlowiek-i-zdrowie.txt\n"
     ]
    },
    {
     "name": "stderr",
     "output_type": "stream",
     "text": [
      "\r",
      " 14%|█▍        | 792/5750 [01:07<07:02, 11.73it/s]"
     ]
    },
    {
     "name": "stdout",
     "output_type": "stream",
     "text": [
      "https://wolnelektury.pl/media/book/txt/czlowiek-i-zwierciadla.txt\n",
      "https://wolnelektury.pl/media/book/txt/czy-pamietasz-orzeszkowa.txt\n",
      "https://wolnelektury.pl/media/book/txt/czysty-kotek.txt\n"
     ]
    },
    {
     "name": "stderr",
     "output_type": "stream",
     "text": [
      " 14%|█▍        | 796/5750 [01:07<07:02, 11.73it/s]"
     ]
    },
    {
     "name": "stdout",
     "output_type": "stream",
     "text": [
      "https://wolnelektury.pl/media/book/txt/czytanie.txt\n",
      "https://wolnelektury.pl/media/book/txt/dab-i-dynia.txt\n",
      "https://wolnelektury.pl/media/book/txt/dab-i-male-drzewka.txt\n"
     ]
    },
    {
     "name": "stderr",
     "output_type": "stream",
     "text": [
      "\r",
      " 14%|█▍        | 798/5750 [01:07<07:01, 11.74it/s]"
     ]
    },
    {
     "name": "stdout",
     "output_type": "stream",
     "text": [
      "https://wolnelektury.pl/media/book/txt/dab-umierajacy.txt\n",
      "https://wolnelektury.pl/media/book/txt/dabrowska-boze-narodzenie.txt\n",
      "https://wolnelektury.pl/media/book/txt/dabrowska-dzikie-ziele.txt\n"
     ]
    },
    {
     "name": "stderr",
     "output_type": "stream",
     "text": [
      " 14%|█▍        | 802/5750 [01:08<07:01, 11.74it/s]"
     ]
    },
    {
     "name": "stdout",
     "output_type": "stream",
     "text": [
      "https://wolnelektury.pl/media/book/txt/dafne-swietochowski.txt\n",
      "https://wolnelektury.pl/media/book/txt/dajcie-mi-tylko-jedne-ziemi-mile.txt\n",
      "https://wolnelektury.pl/media/book/txt/damian-capenko.txt\n"
     ]
    },
    {
     "name": "stderr",
     "output_type": "stream",
     "text": [
      "\r",
      " 14%|█▍        | 804/5750 [01:08<07:01, 11.73it/s]"
     ]
    },
    {
     "name": "stdout",
     "output_type": "stream",
     "text": [
      "https://wolnelektury.pl/media/book/txt/damnata-bohdanowi-zaleskiemu.txt\n",
      "https://wolnelektury.pl/media/book/txt/damnata-braciom-czechom.txt\n",
      "https://wolnelektury.pl/media/book/txt/damnata-ergo-erravi.txt\n"
     ]
    },
    {
     "name": "stderr",
     "output_type": "stream",
     "text": [
      " 14%|█▍        | 808/5750 [01:08<07:00, 11.74it/s]"
     ]
    },
    {
     "name": "stdout",
     "output_type": "stream",
     "text": [
      "https://wolnelektury.pl/media/book/txt/damnata-groby-nasze.txt\n",
      "https://wolnelektury.pl/media/book/txt/damnata-i-oj-czemu-ta-wisla.txt\n",
      "https://wolnelektury.pl/media/book/txt/damnata-i-umarlych-placze.txt\n"
     ]
    },
    {
     "name": "stderr",
     "output_type": "stream",
     "text": [
      " 14%|█▍        | 812/5750 [01:09<07:00, 11.75it/s]"
     ]
    },
    {
     "name": "stdout",
     "output_type": "stream",
     "text": [
      "https://wolnelektury.pl/media/book/txt/damnata-ii-w-pole-w-pole-po-padole.txt\n",
      "https://wolnelektury.pl/media/book/txt/damnata-iii-jesli-nasza-dobra-dola.txt\n",
      "https://wolnelektury.pl/media/book/txt/damnata-iv-a-choc-ty-sie-ziemio.txt\n",
      "https://wolnelektury.pl/media/book/txt/damnata-iv-i-wiosna-przyjdzie-i-kwiat-rozkwitnie.txt\n"
     ]
    },
    {
     "name": "stderr",
     "output_type": "stream",
     "text": [
      " 14%|█▍        | 816/5750 [01:09<06:59, 11.76it/s]"
     ]
    },
    {
     "name": "stdout",
     "output_type": "stream",
     "text": [
      "https://wolnelektury.pl/media/book/txt/damnata-jaskow-sen.txt\n",
      "https://wolnelektury.pl/media/book/txt/damnata-kto-w-mogile-wrasta-glazem.txt\n",
      "https://wolnelektury.pl/media/book/txt/damnata-lirnikowi-na-via-montebello.txt\n"
     ]
    },
    {
     "name": "stderr",
     "output_type": "stream",
     "text": [
      "\r",
      " 14%|█▍        | 818/5750 [01:09<06:59, 11.77it/s]"
     ]
    },
    {
     "name": "stdout",
     "output_type": "stream",
     "text": [
      "https://wolnelektury.pl/media/book/txt/damnata-na-dzien-zmartwychwstania.txt\n",
      "https://wolnelektury.pl/media/book/txt/damnata-na-smierc-j-j-kraszewskiego.txt\n",
      "https://wolnelektury.pl/media/book/txt/damnata-na-zjazd-spiewaczy-w-czestochowie.txt\n"
     ]
    },
    {
     "name": "stderr",
     "output_type": "stream",
     "text": [
      " 14%|█▍        | 822/5750 [01:09<06:58, 11.78it/s]"
     ]
    },
    {
     "name": "stdout",
     "output_type": "stream",
     "text": [
      "https://wolnelektury.pl/media/book/txt/damnata-nasze-dziady.txt\n",
      "https://wolnelektury.pl/media/book/txt/damnata-pamieci-ignacego-domejki.txt\n",
      "https://wolnelektury.pl/media/book/txt/damnata-po-grudce-ziemi.txt\n",
      "https://wolnelektury.pl/media/book/txt/damnata-po-szesciu-wiekach.txt\n"
     ]
    },
    {
     "name": "stderr",
     "output_type": "stream",
     "text": [
      "\r",
      " 14%|█▍        | 824/5750 [01:09<06:57, 11.79it/s]"
     ]
    },
    {
     "name": "stdout",
     "output_type": "stream",
     "text": [
      "https://wolnelektury.pl/media/book/txt/damnata-powitanie-roku.txt\n",
      "https://wolnelektury.pl/media/book/txt/damnata-pszczelarkom-polskim.txt\n",
      "https://wolnelektury.pl/media/book/txt/damnata-resurexit.txt\n"
     ]
    },
    {
     "name": "stderr",
     "output_type": "stream",
     "text": [
      " 14%|█▍        | 828/5750 [01:10<06:57, 11.80it/s]"
     ]
    },
    {
     "name": "stdout",
     "output_type": "stream",
     "text": [
      "https://wolnelektury.pl/media/book/txt/damnata-rok-stary.txt\n",
      "https://wolnelektury.pl/media/book/txt/damnata-v-dobre-slowo-dobra-wiesc.txt\n",
      "https://wolnelektury.pl/media/book/txt/damnata-vii-warszawa.txt\n",
      "https://wolnelektury.pl/media/book/txt/damnata-viii-wisla.txt\n"
     ]
    },
    {
     "name": "stderr",
     "output_type": "stream",
     "text": [
      " 14%|█▍        | 832/5750 [01:10<06:56, 11.81it/s]"
     ]
    },
    {
     "name": "stdout",
     "output_type": "stream",
     "text": [
      "https://wolnelektury.pl/media/book/txt/damnata-w-rocznice-smierci-zygmunta-krasinskiego.txt\n",
      "https://wolnelektury.pl/media/book/txt/damnata-w-trzejkrolowy-wieczor.txt\n",
      "https://wolnelektury.pl/media/book/txt/damnata-w-wielki-piatek.txt\n"
     ]
    },
    {
     "name": "stderr",
     "output_type": "stream",
     "text": [
      " 15%|█▍        | 836/5750 [01:10<06:55, 11.82it/s]"
     ]
    },
    {
     "name": "stdout",
     "output_type": "stream",
     "text": [
      "https://wolnelektury.pl/media/book/txt/damnata-w-zaduszny-dzien.txt\n",
      "https://wolnelektury.pl/media/book/txt/damnata-zima-do-poety.txt\n",
      "https://wolnelektury.pl/media/book/txt/damy.txt\n"
     ]
    },
    {
     "name": "stderr",
     "output_type": "stream",
     "text": [
      "\r",
      " 15%|█▍        | 838/5750 [01:10<06:55, 11.82it/s]"
     ]
    },
    {
     "name": "stdout",
     "output_type": "stream",
     "text": [
      "https://wolnelektury.pl/media/book/txt/danilowski-od-mrokow-nocy-do-bialego-ranku.txt\n",
      "https://wolnelektury.pl/media/book/txt/danilowski-sonet.txt\n",
      "https://wolnelektury.pl/media/book/txt/danilowski-swiat.txt\n",
      "https://wolnelektury.pl/media/book/txt/dante-jellenta-calosc.txt\n"
     ]
    },
    {
     "name": "stderr",
     "output_type": "stream",
     "text": [
      " 15%|█▍        | 842/5750 [01:11<06:55, 11.81it/s]"
     ]
    },
    {
     "name": "stdout",
     "output_type": "stream",
     "text": [
      "https://wolnelektury.pl/media/book/txt/daremna-praca.txt\n",
      "https://wolnelektury.pl/media/book/txt/daremne-zale.txt\n",
      "https://wolnelektury.pl/media/book/txt/darwin-o-powstawaniu-gatunkow.txt\n"
     ]
    },
    {
     "name": "stderr",
     "output_type": "stream",
     "text": [
      "\r",
      " 15%|█▍        | 844/5750 [01:11<06:57, 11.76it/s]"
     ]
    },
    {
     "name": "stdout",
     "output_type": "stream",
     "text": [
      "https://wolnelektury.pl/media/book/txt/das-fraulein-von-scuderi.txt\n",
      "https://wolnelektury.pl/media/book/txt/debicki-nad-morzem.txt\n",
      "https://wolnelektury.pl/media/book/txt/debicki-placz-skrzypiec.txt\n"
     ]
    },
    {
     "name": "stderr",
     "output_type": "stream",
     "text": [
      " 15%|█▍        | 848/5750 [01:12<06:56, 11.77it/s]"
     ]
    },
    {
     "name": "stdout",
     "output_type": "stream",
     "text": [
      "https://wolnelektury.pl/media/book/txt/debicki-w-lesie.txt\n",
      "https://wolnelektury.pl/media/book/txt/debicki-wizja.txt\n",
      "https://wolnelektury.pl/media/book/txt/dedykacja.txt\n"
     ]
    },
    {
     "name": "stderr",
     "output_type": "stream",
     "text": [
      "\r",
      " 15%|█▍        | 850/5750 [01:12<06:56, 11.76it/s]"
     ]
    },
    {
     "name": "stdout",
     "output_type": "stream",
     "text": [
      "https://wolnelektury.pl/media/book/txt/dekameron-dzien-czwarty.txt\n",
      "https://wolnelektury.pl/media/book/txt/dekameron-dzien-drugi.txt\n"
     ]
    },
    {
     "name": "stderr",
     "output_type": "stream",
     "text": [
      "\r",
      " 15%|█▍        | 852/5750 [01:12<06:57, 11.74it/s]"
     ]
    },
    {
     "name": "stdout",
     "output_type": "stream",
     "text": [
      "https://wolnelektury.pl/media/book/txt/dekameron-dzien-dziesiaty.txt\n",
      "https://wolnelektury.pl/media/book/txt/dekameron-dzien-dziewiaty.txt\n"
     ]
    },
    {
     "name": "stderr",
     "output_type": "stream",
     "text": [
      "\r",
      " 15%|█▍        | 854/5750 [01:12<06:57, 11.73it/s]"
     ]
    },
    {
     "name": "stdout",
     "output_type": "stream",
     "text": [
      "https://wolnelektury.pl/media/book/txt/dekameron-dzien-osmy.txt\n",
      "https://wolnelektury.pl/media/book/txt/dekameron-dzien-piaty.txt\n"
     ]
    },
    {
     "name": "stderr",
     "output_type": "stream",
     "text": [
      " 15%|█▍        | 856/5750 [01:13<06:57, 11.71it/s]"
     ]
    },
    {
     "name": "stdout",
     "output_type": "stream",
     "text": [
      "https://wolnelektury.pl/media/book/txt/dekameron-dzien-pierwszy.txt\n",
      "https://wolnelektury.pl/media/book/txt/dekameron-dzien-siodmy.txt\n"
     ]
    },
    {
     "name": "stderr",
     "output_type": "stream",
     "text": [
      " 15%|█▍        | 858/5750 [01:13<06:57, 11.71it/s]"
     ]
    },
    {
     "name": "stdout",
     "output_type": "stream",
     "text": [
      "https://wolnelektury.pl/media/book/txt/dekameron-dzien-szosty.txt\n",
      "https://wolnelektury.pl/media/book/txt/dekameron-dzien-trzeci.txt\n"
     ]
    },
    {
     "name": "stderr",
     "output_type": "stream",
     "text": [
      " 15%|█▍        | 861/5750 [01:13<06:57, 11.70it/s]"
     ]
    },
    {
     "name": "stdout",
     "output_type": "stream",
     "text": [
      "https://wolnelektury.pl/media/book/txt/dekameron-prolog.txt\n",
      "https://wolnelektury.pl/media/book/txt/deklaracja-praw-dziecka.txt\n",
      "https://wolnelektury.pl/media/book/txt/deklaracja-praw-dziecka-zwana-genewska.txt\n"
     ]
    },
    {
     "name": "stderr",
     "output_type": "stream",
     "text": [
      "\r",
      " 15%|█▌        | 863/5750 [01:13<06:57, 11.71it/s]"
     ]
    },
    {
     "name": "stdout",
     "output_type": "stream",
     "text": [
      "https://wolnelektury.pl/media/book/txt/demon-ruchu.txt\n",
      "https://wolnelektury.pl/media/book/txt/deotyma-branki-w-jasyrze.txt\n",
      "https://wolnelektury.pl/media/book/txt/deotyma-panienka-z-okienka.txt\n"
     ]
    },
    {
     "name": "stderr",
     "output_type": "stream",
     "text": [
      " 15%|█▌        | 866/5750 [01:14<06:59, 11.65it/s]"
     ]
    },
    {
     "name": "stdout",
     "output_type": "stream",
     "text": [
      "https://wolnelektury.pl/media/book/txt/der-sandmann.txt\n",
      "https://wolnelektury.pl/media/book/txt/derkacz.txt\n",
      "https://wolnelektury.pl/media/book/txt/derwisz-i-uczen.txt\n"
     ]
    },
    {
     "name": "stderr",
     "output_type": "stream",
     "text": [
      " 15%|█▌        | 870/5750 [01:14<06:58, 11.65it/s]"
     ]
    },
    {
     "name": "stdout",
     "output_type": "stream",
     "text": [
      "https://wolnelektury.pl/media/book/txt/deszcz-zloty.txt\n",
      "https://wolnelektury.pl/media/book/txt/deszczyk.txt\n",
      "https://wolnelektury.pl/media/book/txt/deszczyk-konopnicka.txt\n"
     ]
    },
    {
     "name": "stderr",
     "output_type": "stream",
     "text": [
      "\r",
      " 15%|█▌        | 872/5750 [01:14<06:58, 11.65it/s]"
     ]
    },
    {
     "name": "stdout",
     "output_type": "stream",
     "text": [
      "https://wolnelektury.pl/media/book/txt/dewotka.txt\n",
      "https://wolnelektury.pl/media/book/txt/diabel-na-wiezy.txt\n",
      "https://wolnelektury.pl/media/book/txt/dialog-bajki-nowe.txt\n"
     ]
    },
    {
     "name": "stderr",
     "output_type": "stream",
     "text": [
      " 15%|█▌        | 876/5750 [01:15<06:58, 11.66it/s]"
     ]
    },
    {
     "name": "stdout",
     "output_type": "stream",
     "text": [
      "https://wolnelektury.pl/media/book/txt/diament-i-krysztal.txt\n",
      "https://wolnelektury.pl/media/book/txt/dickens-dawid-copperfield.txt\n",
      "https://wolnelektury.pl/media/book/txt/dickens-dawid-copperfield-t1.txt\n",
      "https://wolnelektury.pl/media/book/txt/dickens-dawid-copperfield-t2.txt\n"
     ]
    },
    {
     "name": "stderr",
     "output_type": "stream",
     "text": [
      " 15%|█▌        | 880/5750 [01:15<07:00, 11.59it/s]"
     ]
    },
    {
     "name": "stdout",
     "output_type": "stream",
     "text": [
      "https://wolnelektury.pl/media/book/txt/didko.txt\n",
      "https://wolnelektury.pl/media/book/txt/didziuliene-zmona-lietuvaites.txt\n",
      "https://wolnelektury.pl/media/book/txt/dla-kogo-kwiaty.txt\n"
     ]
    },
    {
     "name": "stderr",
     "output_type": "stream",
     "text": [
      "\r",
      " 15%|█▌        | 882/5750 [01:16<06:59, 11.59it/s]"
     ]
    },
    {
     "name": "stdout",
     "output_type": "stream",
     "text": [
      "https://wolnelektury.pl/media/book/txt/dla-szczescia.txt\n",
      "https://wolnelektury.pl/media/book/txt/dlugi-jezyk.txt\n",
      "https://wolnelektury.pl/media/book/txt/do-anusie-anusiu-bys-mie-tem-chciala-darowac.txt\n"
     ]
    },
    {
     "name": "stderr",
     "output_type": "stream",
     "text": [
      " 15%|█▌        | 886/5750 [01:16<06:59, 11.60it/s]"
     ]
    },
    {
     "name": "stdout",
     "output_type": "stream",
     "text": [
      "https://wolnelektury.pl/media/book/txt/do-anusie-moja-nadobna-dzieweczko-moje-kochanie.txt\n",
      "https://wolnelektury.pl/media/book/txt/do-anusie-siebie-musze-nie-ciebie-w-tej-mierze-winowac.txt\n",
      "https://wolnelektury.pl/media/book/txt/do-charlesa-maurrasa.txt\n"
     ]
    },
    {
     "name": "stderr",
     "output_type": "stream",
     "text": [
      "\r",
      " 15%|█▌        | 888/5750 [01:16<06:58, 11.61it/s]"
     ]
    },
    {
     "name": "stdout",
     "output_type": "stream",
     "text": [
      "https://wolnelektury.pl/media/book/txt/do-dzieci.txt\n",
      "https://wolnelektury.pl/media/book/txt/do-franciszka-szemiotha.txt\n",
      "https://wolnelektury.pl/media/book/txt/do-hr-gustawa-olizara-podziekowanie-za-wystrzyzynke-z-gwiazdeczka-i-krzemiencem.txt\n"
     ]
    },
    {
     "name": "stderr",
     "output_type": "stream",
     "text": [
      " 16%|█▌        | 892/5750 [01:16<06:58, 11.60it/s]"
     ]
    },
    {
     "name": "stdout",
     "output_type": "stream",
     "text": [
      "https://wolnelektury.pl/media/book/txt/do-justyny.txt\n",
      "https://wolnelektury.pl/media/book/txt/do-justyny-o-wdziecznosci.txt\n",
      "https://wolnelektury.pl/media/book/txt/do-kasie-im-pilniej-na-twoje-oblicze-nadobne.txt\n"
     ]
    },
    {
     "name": "stderr",
     "output_type": "stream",
     "text": [
      "\r",
      " 16%|█▌        | 894/5750 [01:17<06:58, 11.59it/s]"
     ]
    },
    {
     "name": "stdout",
     "output_type": "stream",
     "text": [
      "https://wolnelektury.pl/media/book/txt/do-kasie-jako-lod-taje-przezroczysty-z-lekka.txt\n",
      "https://wolnelektury.pl/media/book/txt/do-kasie-jesli-wladna-co-nami-bladzacych-gwiazd-sily.txt\n"
     ]
    },
    {
     "name": "stderr",
     "output_type": "stream",
     "text": [
      "\r",
      " 16%|█▌        | 896/5750 [01:17<06:58, 11.59it/s]"
     ]
    },
    {
     "name": "stdout",
     "output_type": "stream",
     "text": [
      "https://wolnelektury.pl/media/book/txt/do-kasie-mam-nadzieje-ze-sie-nade-mna-zlitujesz.txt\n",
      "https://wolnelektury.pl/media/book/txt/do-ludwiki-bobrowny.txt\n",
      "https://wolnelektury.pl/media/book/txt/do-mamy.txt\n"
     ]
    },
    {
     "name": "stderr",
     "output_type": "stream",
     "text": [
      "\r",
      " 16%|█▌        | 898/5750 [01:17<06:58, 11.60it/s]"
     ]
    },
    {
     "name": "stdout",
     "output_type": "stream",
     "text": [
      "https://wolnelektury.pl/media/book/txt/do-matki.txt\n",
      "https://wolnelektury.pl/media/book/txt/do-matki-w-ciemnosciach-postac-mi-stoi-matczyna.txt\n"
     ]
    },
    {
     "name": "stderr",
     "output_type": "stream",
     "text": [
      "\r",
      " 16%|█▌        | 900/5750 [01:17<06:58, 11.59it/s]"
     ]
    },
    {
     "name": "stdout",
     "output_type": "stream",
     "text": [
      "https://wolnelektury.pl/media/book/txt/do-mlodych.txt\n",
      "https://wolnelektury.pl/media/book/txt/do-motyla.txt\n"
     ]
    },
    {
     "name": "stderr",
     "output_type": "stream",
     "text": [
      " 16%|█▌        | 904/5750 [01:18<06:58, 11.59it/s]"
     ]
    },
    {
     "name": "stdout",
     "output_type": "stream",
     "text": [
      "https://wolnelektury.pl/media/book/txt/do-nieznajomej.txt\n",
      "https://wolnelektury.pl/media/book/txt/do-pani-joanny-bobrowej.txt\n",
      "https://wolnelektury.pl/media/book/txt/do-pastereczki-siedzacej-na-druidow-kamieniach-w-pornic-nad-oceanem.txt\n"
     ]
    },
    {
     "name": "stderr",
     "output_type": "stream",
     "text": [
      "\r",
      " 16%|█▌        | 906/5750 [01:18<06:57, 11.59it/s]"
     ]
    },
    {
     "name": "stdout",
     "output_type": "stream",
     "text": [
      "https://wolnelektury.pl/media/book/txt/do-spolobywateli.txt\n",
      "https://wolnelektury.pl/media/book/txt/do-swoich-ksiazek-dokad-sie-moja-lutni-napierasz-skwapliwie.txt\n",
      "https://wolnelektury.pl/media/book/txt/do-swoich-ksiazek-hola-juz-dosyc-dosyc-moja-ksiego.txt\n"
     ]
    },
    {
     "name": "stderr",
     "output_type": "stream",
     "text": [
      " 16%|█▌        | 910/5750 [01:18<06:57, 11.60it/s]"
     ]
    },
    {
     "name": "stdout",
     "output_type": "stream",
     "text": [
      "https://wolnelektury.pl/media/book/txt/do-teofila-januszewskiego.txt\n",
      "https://wolnelektury.pl/media/book/txt/do-trupa.txt\n",
      "https://wolnelektury.pl/media/book/txt/do-zosie-bede-sie-zawsze-dziwowal-twojej-piknosci.txt\n",
      "https://wolnelektury.pl/media/book/txt/do-zosie-nie-psuj-niepotrzebnemi-lzami-wdziecznych-oczy.txt\n"
     ]
    },
    {
     "name": "stderr",
     "output_type": "stream",
     "text": [
      " 16%|█▌        | 914/5750 [01:18<06:56, 11.60it/s]"
     ]
    },
    {
     "name": "stdout",
     "output_type": "stream",
     "text": [
      "https://wolnelektury.pl/media/book/txt/do-zygmunta.txt\n",
      "https://wolnelektury.pl/media/book/txt/dobra-pani.txt\n",
      "https://wolnelektury.pl/media/book/txt/dobroczynnosc.txt\n"
     ]
    },
    {
     "name": "stderr",
     "output_type": "stream",
     "text": [
      "\r",
      " 16%|█▌        | 916/5750 [01:18<06:56, 11.61it/s]"
     ]
    },
    {
     "name": "stdout",
     "output_type": "stream",
     "text": [
      "https://wolnelektury.pl/media/book/txt/dobry-wieczor-nazywam-sie-mickiewicz.txt\n",
      "https://wolnelektury.pl/media/book/txt/dogen-kigen-o-przyjmowaniu-wskazan.txt\n"
     ]
    },
    {
     "name": "stderr",
     "output_type": "stream",
     "text": [
      "\r",
      " 16%|█▌        | 918/5750 [01:19<06:56, 11.60it/s]"
     ]
    },
    {
     "name": "stdout",
     "output_type": "stream",
     "text": [
      "https://wolnelektury.pl/media/book/txt/dogen-kigen-umysl-drogi.txt\n",
      "https://wolnelektury.pl/media/book/txt/dogen-kigen-zycie-i-smierc.txt\n",
      "https://wolnelektury.pl/media/book/txt/doktor.txt\n"
     ]
    },
    {
     "name": "stderr",
     "output_type": "stream",
     "text": [
      " 16%|█▌        | 922/5750 [01:19<06:56, 11.60it/s]"
     ]
    },
    {
     "name": "stdout",
     "output_type": "stream",
     "text": [
      "https://wolnelektury.pl/media/book/txt/doktor-i-zdrowie.txt\n",
      "https://wolnelektury.pl/media/book/txt/doktor-piotr.txt\n",
      "https://wolnelektury.pl/media/book/txt/dolega-mostowicz-drugie-zycie-doktora-murka.txt\n",
      "https://wolnelektury.pl/media/book/txt/dolega-mostowicz-pamietnik-pani-hanki.txt\n"
     ]
    },
    {
     "name": "stderr",
     "output_type": "stream",
     "text": [
      "\r",
      " 16%|█▌        | 924/5750 [01:19<06:57, 11.56it/s]"
     ]
    },
    {
     "name": "stdout",
     "output_type": "stream",
     "text": [
      "https://wolnelektury.pl/media/book/txt/domanska-dzwony.txt\n",
      "https://wolnelektury.pl/media/book/txt/domanska-hanusia-wierzynkowna.txt\n"
     ]
    },
    {
     "name": "stderr",
     "output_type": "stream",
     "text": [
      " 16%|█▌        | 927/5750 [01:20<06:58, 11.53it/s]"
     ]
    },
    {
     "name": "stdout",
     "output_type": "stream",
     "text": [
      "https://wolnelektury.pl/media/book/txt/domanska-krolewska-niedola.txt\n",
      "https://wolnelektury.pl/media/book/txt/domanska-trzaska-i-zbroja.txt\n"
     ]
    },
    {
     "name": "stderr",
     "output_type": "stream",
     "text": [
      "\r",
      " 16%|█▌        | 928/5750 [01:20<06:58, 11.52it/s]"
     ]
    },
    {
     "name": "stdout",
     "output_type": "stream",
     "text": [
      "https://wolnelektury.pl/media/book/txt/don-kichot-z-la-manchy.txt\n"
     ]
    },
    {
     "name": "stderr",
     "output_type": "stream",
     "text": [
      " 16%|█▌        | 930/5750 [01:21<07:00, 11.47it/s]"
     ]
    },
    {
     "name": "stdout",
     "output_type": "stream",
     "text": [
      "https://wolnelektury.pl/media/book/txt/dorozkarz-nr-13-calosc.txt\n",
      "https://wolnelektury.pl/media/book/txt/dozynki.txt\n",
      "https://wolnelektury.pl/media/book/txt/dr-murek-zredukowany.txt\n"
     ]
    },
    {
     "name": "stderr",
     "output_type": "stream",
     "text": [
      " 16%|█▌        | 934/5750 [01:21<07:00, 11.46it/s]"
     ]
    },
    {
     "name": "stdout",
     "output_type": "stream",
     "text": [
      "https://wolnelektury.pl/media/book/txt/dramat.txt\n",
      "https://wolnelektury.pl/media/book/txt/dreszcz-acherontu.txt\n",
      "https://wolnelektury.pl/media/book/txt/druciarczyk.txt\n"
     ]
    },
    {
     "name": "stderr",
     "output_type": "stream",
     "text": [
      "\r",
      " 16%|█▋        | 936/5750 [01:21<06:59, 11.47it/s]"
     ]
    },
    {
     "name": "stdout",
     "output_type": "stream",
     "text": [
      "https://wolnelektury.pl/media/book/txt/druciarz.txt\n",
      "https://wolnelektury.pl/media/book/txt/druga-ojczyzna.txt\n",
      "https://wolnelektury.pl/media/book/txt/druga-ojczyzna-apostrofa.txt\n"
     ]
    },
    {
     "name": "stderr",
     "output_type": "stream",
     "text": [
      " 16%|█▋        | 940/5750 [01:21<06:59, 11.48it/s]"
     ]
    },
    {
     "name": "stdout",
     "output_type": "stream",
     "text": [
      "https://wolnelektury.pl/media/book/txt/druga-ojczyzna-dedykacja.txt\n",
      "https://wolnelektury.pl/media/book/txt/druga-ojczyzna-do-anny.txt\n",
      "https://wolnelektury.pl/media/book/txt/druga-ojczyzna-do-mlodzienca-z-obrazu-maasa.txt\n"
     ]
    },
    {
     "name": "stderr",
     "output_type": "stream",
     "text": [
      "\r",
      " 16%|█▋        | 942/5750 [01:22<06:59, 11.47it/s]"
     ]
    },
    {
     "name": "stdout",
     "output_type": "stream",
     "text": [
      "https://wolnelektury.pl/media/book/txt/druga-ojczyzna-druga-ojczyzna.txt\n",
      "https://wolnelektury.pl/media/book/txt/druga-ojczyzna-dwa-wina.txt\n",
      "https://wolnelektury.pl/media/book/txt/druga-ojczyzna-golebie-w-kosciele-sw-aleksandra.txt\n"
     ]
    },
    {
     "name": "stderr",
     "output_type": "stream",
     "text": [
      "\r",
      " 16%|█▋        | 944/5750 [01:22<06:58, 11.48it/s]"
     ]
    },
    {
     "name": "stdout",
     "output_type": "stream",
     "text": [
      "https://wolnelektury.pl/media/book/txt/druga-ojczyzna-jak-kochankowie.txt\n",
      "https://wolnelektury.pl/media/book/txt/druga-ojczyzna-jeziora-gorskie.txt\n"
     ]
    },
    {
     "name": "stderr",
     "output_type": "stream",
     "text": [
      " 16%|█▋        | 948/5750 [01:22<06:59, 11.46it/s]"
     ]
    },
    {
     "name": "stdout",
     "output_type": "stream",
     "text": [
      "https://wolnelektury.pl/media/book/txt/druga-ojczyzna-koncha-perly-i-slowik.txt\n",
      "https://wolnelektury.pl/media/book/txt/druga-ojczyzna-milosc-doskonala.txt\n",
      "https://wolnelektury.pl/media/book/txt/druga-ojczyzna-morze-i-wino.txt\n",
      "https://wolnelektury.pl/media/book/txt/druga-ojczyzna-muzyka-poranna.txt\n"
     ]
    },
    {
     "name": "stderr",
     "output_type": "stream",
     "text": [
      "\r",
      " 17%|█▋        | 950/5750 [01:22<06:58, 11.46it/s]"
     ]
    },
    {
     "name": "stdout",
     "output_type": "stream",
     "text": [
      "https://wolnelektury.pl/media/book/txt/druga-ojczyzna-niebo-i-ziemia.txt\n",
      "https://wolnelektury.pl/media/book/txt/druga-ojczyzna-odpowiedz.txt\n"
     ]
    },
    {
     "name": "stderr",
     "output_type": "stream",
     "text": [
      " 17%|█▋        | 954/5750 [01:23<06:58, 11.46it/s]"
     ]
    },
    {
     "name": "stdout",
     "output_type": "stream",
     "text": [
      "https://wolnelektury.pl/media/book/txt/druga-ojczyzna-pan-bog-i-baki.txt\n",
      "https://wolnelektury.pl/media/book/txt/druga-ojczyzna-serce-anny.txt\n",
      "https://wolnelektury.pl/media/book/txt/druga-ojczyzna-slowo.txt\n"
     ]
    },
    {
     "name": "stderr",
     "output_type": "stream",
     "text": [
      "\r",
      " 17%|█▋        | 956/5750 [01:23<06:58, 11.46it/s]"
     ]
    },
    {
     "name": "stdout",
     "output_type": "stream",
     "text": [
      "https://wolnelektury.pl/media/book/txt/druga-ojczyzna-sonet.txt\n",
      "https://wolnelektury.pl/media/book/txt/druga-ojczyzna-wiersz-milosny.txt\n",
      "https://wolnelektury.pl/media/book/txt/druga-ojczyzna-zaloty.txt\n"
     ]
    },
    {
     "name": "stderr",
     "output_type": "stream",
     "text": [
      " 17%|█▋        | 960/5750 [01:23<06:57, 11.47it/s]"
     ]
    },
    {
     "name": "stdout",
     "output_type": "stream",
     "text": [
      "https://wolnelektury.pl/media/book/txt/druga-ojczyzna-zamiejskie-ogrody.txt\n",
      "https://wolnelektury.pl/media/book/txt/druzbacka-wiersze-swiatowe-awersya-pewnej-damy-dworskiej.txt\n",
      "https://wolnelektury.pl/media/book/txt/druzbacka-wiersze-swiatowe-na-bobra-w-sieci.txt\n"
     ]
    },
    {
     "name": "stderr",
     "output_type": "stream",
     "text": [
      "\r",
      " 17%|█▋        | 962/5750 [01:23<06:57, 11.47it/s]"
     ]
    },
    {
     "name": "stdout",
     "output_type": "stream",
     "text": [
      "https://wolnelektury.pl/media/book/txt/druzbacka-wiersze-swiatowe-na-dwoch-ludzi-kochajacych-sie-skrycie.txt\n",
      "https://wolnelektury.pl/media/book/txt/druzbacka-wiersze-swiatowe-na-kochajaca-sie-pare-i-jej-maryasz.txt\n",
      "https://wolnelektury.pl/media/book/txt/druzbacka-wiersze-swiatowe-na-kompania-franc-massonow.txt\n"
     ]
    },
    {
     "name": "stderr",
     "output_type": "stream",
     "text": [
      " 17%|█▋        | 966/5750 [01:24<06:56, 11.48it/s]"
     ]
    },
    {
     "name": "stdout",
     "output_type": "stream",
     "text": [
      "https://wolnelektury.pl/media/book/txt/druzbacka-wiersze-swiatowe-na-obraz-placzacego-kupidyna-i-smutnej-wenery.txt\n",
      "https://wolnelektury.pl/media/book/txt/druzbacka-wiersze-swiatowe-na-pieknosc-narcyssa.txt\n",
      "https://wolnelektury.pl/media/book/txt/druzbacka-wiersze-swiatowe-na-pysznego-ktory-o-sobie-wiele-trzyma.txt\n"
     ]
    },
    {
     "name": "stderr",
     "output_type": "stream",
     "text": [
      " 17%|█▋        | 970/5750 [01:24<06:55, 11.50it/s]"
     ]
    },
    {
     "name": "stdout",
     "output_type": "stream",
     "text": [
      "https://wolnelektury.pl/media/book/txt/druzbacka-wiersze-swiatowe-opisanie-oczu-ciekawych-akteona.txt\n",
      "https://wolnelektury.pl/media/book/txt/druzbacka-wiersze-swiatowe-opisanie-wzajemnej-milosci-tegoz-rodzenstwa.txt\n",
      "https://wolnelektury.pl/media/book/txt/druzbacka-wiersze-swiatowe-pochwala-lasow-od-pasterza.txt\n",
      "https://wolnelektury.pl/media/book/txt/druzbacka-wiersze-swiatowe-przypisanie-pewnemu-kawalerowi.txt\n"
     ]
    },
    {
     "name": "stderr",
     "output_type": "stream",
     "text": [
      " 17%|█▋        | 974/5750 [01:24<06:55, 11.50it/s]"
     ]
    },
    {
     "name": "stdout",
     "output_type": "stream",
     "text": [
      "https://wolnelektury.pl/media/book/txt/druzbacka-wiersze-swiatowe-reskrypt-poecie-bojacemu-sie-grzmotow.txt\n",
      "https://wolnelektury.pl/media/book/txt/druzbacka-wiersze-swiatowe-siostra-bratu-posylajaca-listy-dam-greckich.txt\n",
      "https://wolnelektury.pl/media/book/txt/druzbacka-wiersze-swiatowe-skargi-kilku-dam.txt\n",
      "https://wolnelektury.pl/media/book/txt/drzewo.txt\n"
     ]
    },
    {
     "name": "stderr",
     "output_type": "stream",
     "text": [
      " 17%|█▋        | 978/5750 [01:24<06:54, 11.51it/s]"
     ]
    },
    {
     "name": "stdout",
     "output_type": "stream",
     "text": [
      "https://wolnelektury.pl/media/book/txt/duch-twoj-gdy-dzisiaj.txt\n",
      "https://wolnelektury.pl/media/book/txt/duch-we-flaszce.txt\n",
      "https://wolnelektury.pl/media/book/txt/dudarz.txt\n",
      "https://wolnelektury.pl/media/book/txt/dudek-bajki-nowe.txt\n"
     ]
    },
    {
     "name": "stderr",
     "output_type": "stream",
     "text": [
      "\r",
      " 17%|█▋        | 980/5750 [01:25<06:54, 11.52it/s]"
     ]
    },
    {
     "name": "stdout",
     "output_type": "stream",
     "text": [
      "https://wolnelektury.pl/media/book/txt/duma-o-waclawie-rzewuskim.txt\n",
      "https://wolnelektury.pl/media/book/txt/dumas-dama-kameliowa.txt\n"
     ]
    },
    {
     "name": "stderr",
     "output_type": "stream",
     "text": [
      "\r",
      " 17%|█▋        | 982/5750 [01:25<06:54, 11.51it/s]"
     ]
    },
    {
     "name": "stdout",
     "output_type": "stream",
     "text": [
      "https://wolnelektury.pl/media/book/txt/dusiolek.txt\n",
      "https://wolnelektury.pl/media/book/txt/dusza-moja-tesknica.txt\n",
      "https://wolnelektury.pl/media/book/txt/dusza-sie-moja-zamysla-gleboko.txt\n"
     ]
    },
    {
     "name": "stderr",
     "output_type": "stream",
     "text": [
      "\r",
      " 17%|█▋        | 984/5750 [01:25<06:53, 11.52it/s]"
     ]
    },
    {
     "name": "stdout",
     "output_type": "stream",
     "text": [
      "https://wolnelektury.pl/media/book/txt/duszynska-cudaczek-wysmiewaczek.txt\n",
      "https://wolnelektury.pl/media/book/txt/dwa-bieguny.txt\n"
     ]
    },
    {
     "name": "stderr",
     "output_type": "stream",
     "text": [
      " 17%|█▋        | 988/5750 [01:25<06:53, 11.51it/s]"
     ]
    },
    {
     "name": "stdout",
     "output_type": "stream",
     "text": [
      "https://wolnelektury.pl/media/book/txt/dwa-golabki.txt\n",
      "https://wolnelektury.pl/media/book/txt/dwa-kotki.txt\n",
      "https://wolnelektury.pl/media/book/txt/dwa-lata-pracy-u-podstaw-panstwowosci-naszej.txt\n"
     ]
    },
    {
     "name": "stderr",
     "output_type": "stream",
     "text": [
      "\r",
      " 17%|█▋        | 990/5750 [01:26<06:54, 11.49it/s]"
     ]
    },
    {
     "name": "stdout",
     "output_type": "stream",
     "text": [
      "https://wolnelektury.pl/media/book/txt/dwa-pieski.txt\n",
      "https://wolnelektury.pl/media/book/txt/dwa-plugi.txt\n",
      "https://wolnelektury.pl/media/book/txt/dwa-psy.txt\n"
     ]
    },
    {
     "name": "stderr",
     "output_type": "stream",
     "text": [
      " 17%|█▋        | 994/5750 [01:26<06:53, 11.50it/s]"
     ]
    },
    {
     "name": "stdout",
     "output_type": "stream",
     "text": [
      "https://wolnelektury.pl/media/book/txt/dwa-widma.txt\n",
      "https://wolnelektury.pl/media/book/txt/dwaj-filozofowie.txt\n",
      "https://wolnelektury.pl/media/book/txt/dwaj-panowie-z-werony.txt\n"
     ]
    },
    {
     "name": "stderr",
     "output_type": "stream",
     "text": [
      "\r",
      " 17%|█▋        | 996/5750 [01:26<06:53, 11.50it/s]"
     ]
    },
    {
     "name": "stdout",
     "output_type": "stream",
     "text": [
      "https://wolnelektury.pl/media/book/txt/dwie-krolowe.txt\n",
      "https://wolnelektury.pl/media/book/txt/dwie-krolowe-tom-drugi.txt\n",
      "https://wolnelektury.pl/media/book/txt/dwie-krolowe-tom-i.txt\n"
     ]
    },
    {
     "name": "stderr",
     "output_type": "stream",
     "text": [
      "\r",
      " 17%|█▋        | 998/5750 [01:26<06:53, 11.49it/s]"
     ]
    },
    {
     "name": "stdout",
     "output_type": "stream",
     "text": [
      "https://wolnelektury.pl/media/book/txt/dwie-krolowe-tom-iii.txt\n",
      "https://wolnelektury.pl/media/book/txt/dwie-mrowki.txt\n"
     ]
    },
    {
     "name": "stderr",
     "output_type": "stream",
     "text": [
      " 17%|█▋        | 1002/5750 [01:27<06:53, 11.48it/s]"
     ]
    },
    {
     "name": "stdout",
     "output_type": "stream",
     "text": [
      "https://wolnelektury.pl/media/book/txt/dwie-wiosny.txt\n",
      "https://wolnelektury.pl/media/book/txt/dwor-zosi.txt\n",
      "https://wolnelektury.pl/media/book/txt/dwuglos-milosci.txt\n"
     ]
    },
    {
     "name": "stderr",
     "output_type": "stream",
     "text": [
      "\r",
      " 17%|█▋        | 1004/5750 [01:27<06:53, 11.48it/s]"
     ]
    },
    {
     "name": "stdout",
     "output_type": "stream",
     "text": [
      "https://wolnelektury.pl/media/book/txt/dym.txt\n",
      "https://wolnelektury.pl/media/book/txt/dymy.txt\n",
      "https://wolnelektury.pl/media/book/txt/dyrektor-pod-kanapa.txt\n"
     ]
    },
    {
     "name": "stderr",
     "output_type": "stream",
     "text": [
      " 18%|█▊        | 1008/5750 [01:27<06:52, 11.48it/s]"
     ]
    },
    {
     "name": "stdout",
     "output_type": "stream",
     "text": [
      "https://wolnelektury.pl/media/book/txt/dyskobol.txt\n",
      "https://wolnelektury.pl/media/book/txt/dziad-i-baba.txt\n",
      "https://wolnelektury.pl/media/book/txt/dziadek-oj-ten-maly-zuczek.txt\n"
     ]
    },
    {
     "name": "stderr",
     "output_type": "stream",
     "text": [
      "\r",
      " 18%|█▊        | 1010/5750 [01:27<06:52, 11.49it/s]"
     ]
    },
    {
     "name": "stdout",
     "output_type": "stream",
     "text": [
      "https://wolnelektury.pl/media/book/txt/dziadek-przy-kominku.txt\n",
      "https://wolnelektury.pl/media/book/txt/dziadek-przyjdzie.txt\n",
      "https://wolnelektury.pl/media/book/txt/dziady.txt\n"
     ]
    },
    {
     "name": "stderr",
     "output_type": "stream",
     "text": [
      " 18%|█▊        | 1014/5750 [01:28<06:51, 11.50it/s]"
     ]
    },
    {
     "name": "stdout",
     "output_type": "stream",
     "text": [
      "https://wolnelektury.pl/media/book/txt/dziady-dziadow-czesci-iii-ustep.txt\n",
      "https://wolnelektury.pl/media/book/txt/dziady-dziadow-czesci-iii-ustep-do-przyjaciol-moskali.txt\n",
      "https://wolnelektury.pl/media/book/txt/dziady-dziadow-czesci-iii-ustep-droga-do-rosji.txt\n",
      "https://wolnelektury.pl/media/book/txt/dziady-dziadow-czesci-iii-ustep-oleszkiewicz.txt\n"
     ]
    },
    {
     "name": "stderr",
     "output_type": "stream",
     "text": [
      " 18%|█▊        | 1018/5750 [01:28<06:51, 11.51it/s]"
     ]
    },
    {
     "name": "stdout",
     "output_type": "stream",
     "text": [
      "https://wolnelektury.pl/media/book/txt/dziady-dziadow-czesci-iii-ustep-petersburg.txt\n",
      "https://wolnelektury.pl/media/book/txt/dziady-dziadow-czesci-iii-ustep-pomnik-piotra-wielkiego.txt\n",
      "https://wolnelektury.pl/media/book/txt/dziady-dziadow-czesci-iii-ustep-przedmiescia-stolicy.txt\n"
     ]
    },
    {
     "name": "stderr",
     "output_type": "stream",
     "text": [
      "\r",
      " 18%|█▊        | 1020/5750 [01:28<06:51, 11.51it/s]"
     ]
    },
    {
     "name": "stdout",
     "output_type": "stream",
     "text": [
      "https://wolnelektury.pl/media/book/txt/dziady-dziadow-czesci-iii-ustep-przeglad-wojska.txt\n",
      "https://wolnelektury.pl/media/book/txt/dziady-dziady-poema.txt\n",
      "https://wolnelektury.pl/media/book/txt/dziady-dziady-poema-dziady-czesc-ii.txt\n"
     ]
    },
    {
     "name": "stderr",
     "output_type": "stream",
     "text": [
      "\r",
      " 18%|█▊        | 1022/5750 [01:28<06:50, 11.51it/s]"
     ]
    },
    {
     "name": "stdout",
     "output_type": "stream",
     "text": [
      "https://wolnelektury.pl/media/book/txt/dziady-dziady-poema-dziady-czesc-iii.txt\n",
      "https://wolnelektury.pl/media/book/txt/dziady-dziady-poema-dziady-czesc-iv.txt\n"
     ]
    },
    {
     "name": "stderr",
     "output_type": "stream",
     "text": [
      " 18%|█▊        | 1026/5750 [01:29<06:50, 11.50it/s]"
     ]
    },
    {
     "name": "stdout",
     "output_type": "stream",
     "text": [
      "https://wolnelektury.pl/media/book/txt/dziady-dziady-poema-upior.txt\n",
      "https://wolnelektury.pl/media/book/txt/dziady-dziady-widowisko-czesc-i.txt\n",
      "https://wolnelektury.pl/media/book/txt/dzieci-i-paw.txt\n"
     ]
    },
    {
     "name": "stderr",
     "output_type": "stream",
     "text": [
      "\r",
      " 18%|█▊        | 1028/5750 [01:29<06:50, 11.51it/s]"
     ]
    },
    {
     "name": "stdout",
     "output_type": "stream",
     "text": [
      "https://wolnelektury.pl/media/book/txt/dzieci-i-zaby-bajki-nowe.txt\n",
      "https://wolnelektury.pl/media/book/txt/dzieci-na-wsi-i-w-miescie.txt\n",
      "https://wolnelektury.pl/media/book/txt/dziecie-i-dzbanuszek.txt\n"
     ]
    },
    {
     "name": "stderr",
     "output_type": "stream",
     "text": [
      " 18%|█▊        | 1032/5750 [01:29<06:49, 11.52it/s]"
     ]
    },
    {
     "name": "stdout",
     "output_type": "stream",
     "text": [
      "https://wolnelektury.pl/media/book/txt/dziecie-i-konwalia.txt\n",
      "https://wolnelektury.pl/media/book/txt/dziecie-i-muszki.txt\n",
      "https://wolnelektury.pl/media/book/txt/dziecie-i-ojciec.txt\n"
     ]
    },
    {
     "name": "stderr",
     "output_type": "stream",
     "text": [
      "\r",
      " 18%|█▊        | 1034/5750 [01:29<06:49, 11.52it/s]"
     ]
    },
    {
     "name": "stdout",
     "output_type": "stream",
     "text": [
      "https://wolnelektury.pl/media/book/txt/dziecie-i-zegar.txt\n",
      "https://wolnelektury.pl/media/book/txt/dziecie-symchy.txt\n",
      "https://wolnelektury.pl/media/book/txt/dziecie-wieszczek.txt\n"
     ]
    },
    {
     "name": "stderr",
     "output_type": "stream",
     "text": [
      " 18%|█▊        | 1038/5750 [01:30<06:49, 11.51it/s]"
     ]
    },
    {
     "name": "stdout",
     "output_type": "stream",
     "text": [
      "https://wolnelektury.pl/media/book/txt/dziecko-w-rodzinie.txt\n",
      "https://wolnelektury.pl/media/book/txt/dziejba-lesna.txt\n",
      "https://wolnelektury.pl/media/book/txt/dziejba-lesna-dziejba-lesna.txt\n"
     ]
    },
    {
     "name": "stderr",
     "output_type": "stream",
     "text": [
      "\r",
      " 18%|█▊        | 1040/5750 [01:30<06:49, 11.51it/s]"
     ]
    },
    {
     "name": "stdout",
     "output_type": "stream",
     "text": [
      "https://wolnelektury.pl/media/book/txt/dziejba-lesna-i.txt\n",
      "https://wolnelektury.pl/media/book/txt/dziejba-lesna-i-idzie-zmierzch.txt\n",
      "https://wolnelektury.pl/media/book/txt/dziejba-lesna-i-krajobraz-utracony.txt\n"
     ]
    },
    {
     "name": "stderr",
     "output_type": "stream",
     "text": [
      " 18%|█▊        | 1044/5750 [01:30<06:48, 11.52it/s]"
     ]
    },
    {
     "name": "stdout",
     "output_type": "stream",
     "text": [
      "https://wolnelektury.pl/media/book/txt/dziejba-lesna-i-niegdys-dom-moj-ochoczy.txt\n",
      "https://wolnelektury.pl/media/book/txt/dziejba-lesna-i-poludnie.txt\n",
      "https://wolnelektury.pl/media/book/txt/dziejba-lesna-i-tu-jestem.txt\n"
     ]
    },
    {
     "name": "stderr",
     "output_type": "stream",
     "text": [
      "\r",
      " 18%|█▊        | 1046/5750 [01:30<06:48, 11.52it/s]"
     ]
    },
    {
     "name": "stdout",
     "output_type": "stream",
     "text": [
      "https://wolnelektury.pl/media/book/txt/dziejba-lesna-i-wczesnym-rankiem.txt\n",
      "https://wolnelektury.pl/media/book/txt/dziejba-lesna-i-zachod.txt\n",
      "https://wolnelektury.pl/media/book/txt/dziejba-lesna-ii.txt\n"
     ]
    },
    {
     "name": "stderr",
     "output_type": "stream",
     "text": [
      " 18%|█▊        | 1050/5750 [01:31<06:47, 11.53it/s]"
     ]
    },
    {
     "name": "stdout",
     "output_type": "stream",
     "text": [
      "https://wolnelektury.pl/media/book/txt/dziejba-lesna-ii-com-uczynil.txt\n",
      "https://wolnelektury.pl/media/book/txt/dziejba-lesna-ii-dreszcze-nasze-u-warg-sie-spotkaly.txt\n",
      "https://wolnelektury.pl/media/book/txt/dziejba-lesna-ii-krzywda.txt\n"
     ]
    },
    {
     "name": "stderr",
     "output_type": "stream",
     "text": [
      "\r",
      " 18%|█▊        | 1052/5750 [01:31<06:47, 11.53it/s]"
     ]
    },
    {
     "name": "stdout",
     "output_type": "stream",
     "text": [
      "https://wolnelektury.pl/media/book/txt/dziejba-lesna-ii-lubie-szeptac-ci-slowa.txt\n",
      "https://wolnelektury.pl/media/book/txt/dziejba-lesna-ii-o-zmierzchu.txt\n",
      "https://wolnelektury.pl/media/book/txt/dziejba-lesna-ii-powrot.txt\n"
     ]
    },
    {
     "name": "stderr",
     "output_type": "stream",
     "text": [
      " 18%|█▊        | 1056/5750 [01:31<06:46, 11.54it/s]"
     ]
    },
    {
     "name": "stdout",
     "output_type": "stream",
     "text": [
      "https://wolnelektury.pl/media/book/txt/dziejba-lesna-ii-prosba.txt\n",
      "https://wolnelektury.pl/media/book/txt/dziejba-lesna-ii-skonczonosc.txt\n",
      "https://wolnelektury.pl/media/book/txt/dziejba-lesna-ii-szczescie.txt\n"
     ]
    },
    {
     "name": "stderr",
     "output_type": "stream",
     "text": [
      " 18%|█▊        | 1060/5750 [01:31<06:46, 11.54it/s]"
     ]
    },
    {
     "name": "stdout",
     "output_type": "stream",
     "text": [
      "https://wolnelektury.pl/media/book/txt/dziejba-lesna-ii-twoj-portret.txt\n",
      "https://wolnelektury.pl/media/book/txt/dziejba-lesna-iii.txt\n",
      "https://wolnelektury.pl/media/book/txt/dziejba-lesna-iii-jam-nie-osjan.txt\n",
      "https://wolnelektury.pl/media/book/txt/dziejba-lesna-iii-pogrzeb-don-zuana.txt\n"
     ]
    },
    {
     "name": "stderr",
     "output_type": "stream",
     "text": [
      "\r",
      " 18%|█▊        | 1062/5750 [01:31<06:45, 11.55it/s]"
     ]
    },
    {
     "name": "stdout",
     "output_type": "stream",
     "text": [
      "https://wolnelektury.pl/media/book/txt/dziejba-lesna-iii-puscila-po-stole-swawolacy-wianek.txt\n",
      "https://wolnelektury.pl/media/book/txt/dziejba-lesna-iii-skrzeble.txt\n",
      "https://wolnelektury.pl/media/book/txt/dziejba-lesna-iii-spotykam-go-codziennie.txt\n"
     ]
    },
    {
     "name": "stderr",
     "output_type": "stream",
     "text": [
      " 19%|█▊        | 1066/5750 [01:32<06:45, 11.56it/s]"
     ]
    },
    {
     "name": "stdout",
     "output_type": "stream",
     "text": [
      "https://wolnelektury.pl/media/book/txt/dziejba-lesna-iii-tango.txt\n",
      "https://wolnelektury.pl/media/book/txt/dziejba-lesna-iii-wyruszyla-dusza-w-droge.txt\n",
      "https://wolnelektury.pl/media/book/txt/dziejba-lesna-iii-zboj.txt\n"
     ]
    },
    {
     "name": "stderr",
     "output_type": "stream",
     "text": [
      "\r",
      " 19%|█▊        | 1068/5750 [01:32<06:45, 11.56it/s]"
     ]
    },
    {
     "name": "stdout",
     "output_type": "stream",
     "text": [
      "https://wolnelektury.pl/media/book/txt/dziejba-lesna-iv.txt\n",
      "https://wolnelektury.pl/media/book/txt/dziejba-lesna-iv-boze-pelen-w-niebie-chwaly.txt\n",
      "https://wolnelektury.pl/media/book/txt/dziejba-lesna-iv-cialo-me-wklete.txt\n"
     ]
    },
    {
     "name": "stderr",
     "output_type": "stream",
     "text": [
      " 19%|█▊        | 1072/5750 [01:32<06:44, 11.57it/s]"
     ]
    },
    {
     "name": "stdout",
     "output_type": "stream",
     "text": [
      "https://wolnelektury.pl/media/book/txt/dziejba-lesna-iv-dlon-zanurzasz-w-snie.txt\n",
      "https://wolnelektury.pl/media/book/txt/dziejba-lesna-iv-jak-niewiele-ma-znakow.txt\n",
      "https://wolnelektury.pl/media/book/txt/dziejba-lesna-iv-milosc-stroskana.txt\n"
     ]
    },
    {
     "name": "stderr",
     "output_type": "stream",
     "text": [
      "\r",
      " 19%|█▊        | 1074/5750 [01:32<06:44, 11.56it/s]"
     ]
    },
    {
     "name": "stdout",
     "output_type": "stream",
     "text": [
      "https://wolnelektury.pl/media/book/txt/dziejba-lesna-iv-mrok-na-schodach.txt\n",
      "https://wolnelektury.pl/media/book/txt/dziejba-lesna-iv-pogrzeb.txt\n",
      "https://wolnelektury.pl/media/book/txt/dziejba-lesna-iv-smierc-wtora.txt\n"
     ]
    },
    {
     "name": "stderr",
     "output_type": "stream",
     "text": [
      " 19%|█▊        | 1078/5750 [01:33<06:43, 11.57it/s]"
     ]
    },
    {
     "name": "stdout",
     "output_type": "stream",
     "text": [
      "https://wolnelektury.pl/media/book/txt/dziejba-lesna-iv-sni-sie-lasom-las.txt\n",
      "https://wolnelektury.pl/media/book/txt/dziejba-lesna-iv-usta-i-oczy.txt\n",
      "https://wolnelektury.pl/media/book/txt/dziejba-lesna-iv-wiersz-konny.txt\n"
     ]
    },
    {
     "name": "stderr",
     "output_type": "stream",
     "text": [
      "\r",
      " 19%|█▉        | 1080/5750 [01:33<06:43, 11.58it/s]"
     ]
    },
    {
     "name": "stdout",
     "output_type": "stream",
     "text": [
      "https://wolnelektury.pl/media/book/txt/dziejba-lesna-sen-wiejski.txt\n",
      "https://wolnelektury.pl/media/book/txt/dziejba-lesna-smierc-buddy.txt\n",
      "https://wolnelektury.pl/media/book/txt/dzieje-grzechu.txt\n"
     ]
    },
    {
     "name": "stderr",
     "output_type": "stream",
     "text": [
      "\r",
      " 19%|█▉        | 1082/5750 [01:33<06:43, 11.56it/s]"
     ]
    },
    {
     "name": "stdout",
     "output_type": "stream",
     "text": [
      "https://wolnelektury.pl/media/book/txt/dzieje-tristana-i-izoldy.txt\n",
      "https://wolnelektury.pl/media/book/txt/dzielo-sztuki.txt\n"
     ]
    },
    {
     "name": "stderr",
     "output_type": "stream",
     "text": [
      " 19%|█▉        | 1086/5750 [01:33<06:43, 11.56it/s]"
     ]
    },
    {
     "name": "stdout",
     "output_type": "stream",
     "text": [
      "https://wolnelektury.pl/media/book/txt/dzien-jak-co-dzien.txt\n",
      "https://wolnelektury.pl/media/book/txt/dzien-jak-co-dzien-a-la-campagne.txt\n",
      "https://wolnelektury.pl/media/book/txt/dzien-jak-co-dzien-coda.txt\n",
      "https://wolnelektury.pl/media/book/txt/dzien-jak-co-dzien-daleko.txt\n"
     ]
    },
    {
     "name": "stderr",
     "output_type": "stream",
     "text": [
      " 19%|█▉        | 1090/5750 [01:34<06:42, 11.57it/s]"
     ]
    },
    {
     "name": "stdout",
     "output_type": "stream",
     "text": [
      "https://wolnelektury.pl/media/book/txt/dzien-jak-co-dzien-dedykacja.txt\n",
      "https://wolnelektury.pl/media/book/txt/dzien-jak-co-dzien-dno.txt\n",
      "https://wolnelektury.pl/media/book/txt/dzien-jak-co-dzien-do-tereski-z-lisieux.txt\n"
     ]
    },
    {
     "name": "stderr",
     "output_type": "stream",
     "text": [
      "\r",
      " 19%|█▉        | 1092/5750 [01:34<06:42, 11.57it/s]"
     ]
    },
    {
     "name": "stdout",
     "output_type": "stream",
     "text": [
      "https://wolnelektury.pl/media/book/txt/dzien-jak-co-dzien-dzien.txt\n",
      "https://wolnelektury.pl/media/book/txt/dzien-jak-co-dzien-dzisiaj-verdun.txt\n",
      "https://wolnelektury.pl/media/book/txt/dzien-jak-co-dzien-ja-karabin.txt\n"
     ]
    },
    {
     "name": "stderr",
     "output_type": "stream",
     "text": [
      " 19%|█▉        | 1096/5750 [01:34<06:41, 11.58it/s]"
     ]
    },
    {
     "name": "stdout",
     "output_type": "stream",
     "text": [
      "https://wolnelektury.pl/media/book/txt/dzien-jak-co-dzien-jednakowo.txt\n",
      "https://wolnelektury.pl/media/book/txt/dzien-jak-co-dzien-jedyna.txt\n",
      "https://wolnelektury.pl/media/book/txt/dzien-jak-co-dzien-jesien.txt\n"
     ]
    },
    {
     "name": "stderr",
     "output_type": "stream",
     "text": [
      " 19%|█▉        | 1100/5750 [01:34<06:41, 11.59it/s]"
     ]
    },
    {
     "name": "stdout",
     "output_type": "stream",
     "text": [
      "https://wolnelektury.pl/media/book/txt/dzien-jak-co-dzien-la-mort.txt\n",
      "https://wolnelektury.pl/media/book/txt/dzien-jak-co-dzien-legenda.txt\n",
      "https://wolnelektury.pl/media/book/txt/dzien-jak-co-dzien-milosc.txt\n"
     ]
    },
    {
     "name": "stderr",
     "output_type": "stream",
     "text": [
      "\r",
      " 19%|█▉        | 1102/5750 [01:35<06:40, 11.59it/s]"
     ]
    },
    {
     "name": "stdout",
     "output_type": "stream",
     "text": [
      "https://wolnelektury.pl/media/book/txt/dzien-jak-co-dzien-mozg-lat-12.txt\n",
      "https://wolnelektury.pl/media/book/txt/dzien-jak-co-dzien-na-wsi.txt\n",
      "https://wolnelektury.pl/media/book/txt/dzien-jak-co-dzien-narzeczona.txt\n",
      "https://wolnelektury.pl/media/book/txt/dzien-jak-co-dzien-pilsudski.txt\n"
     ]
    },
    {
     "name": "stderr",
     "output_type": "stream",
     "text": [
      " 19%|█▉        | 1106/5750 [01:35<06:40, 11.60it/s]"
     ]
    },
    {
     "name": "stdout",
     "output_type": "stream",
     "text": [
      "https://wolnelektury.pl/media/book/txt/dzien-jak-co-dzien-prowincja-noc.txt\n",
      "https://wolnelektury.pl/media/book/txt/dzien-jak-co-dzien-ranek.txt\n",
      "https://wolnelektury.pl/media/book/txt/dzien-jak-co-dzien-smierc.txt\n"
     ]
    },
    {
     "name": "stderr",
     "output_type": "stream",
     "text": [
      " 19%|█▉        | 1110/5750 [01:35<06:39, 11.61it/s]"
     ]
    },
    {
     "name": "stdout",
     "output_type": "stream",
     "text": [
      "https://wolnelektury.pl/media/book/txt/dzien-jak-co-dzien-swiat.txt\n",
      "https://wolnelektury.pl/media/book/txt/dzien-jak-co-dzien-swiatlo-po-poludniu.txt\n",
      "https://wolnelektury.pl/media/book/txt/dzien-jak-co-dzien-une-ruelle.txt\n"
     ]
    },
    {
     "name": "stderr",
     "output_type": "stream",
     "text": [
      "\r",
      " 19%|█▉        | 1112/5750 [01:35<06:39, 11.62it/s]"
     ]
    },
    {
     "name": "stdout",
     "output_type": "stream",
     "text": [
      "https://wolnelektury.pl/media/book/txt/dzien-jak-co-dzien-wawozy-czasu.txt\n",
      "https://wolnelektury.pl/media/book/txt/dzien-jak-co-dzien-wieczorem.txt\n",
      "https://wolnelektury.pl/media/book/txt/dzien-jak-co-dzien-zapowiedz.txt\n",
      "https://wolnelektury.pl/media/book/txt/dzien-jak-co-dzien-zaulek.txt\n"
     ]
    },
    {
     "name": "stderr",
     "output_type": "stream",
     "text": [
      "\r",
      " 19%|█▉        | 1114/5750 [01:35<06:38, 11.62it/s]"
     ]
    },
    {
     "name": "stdout",
     "output_type": "stream",
     "text": [
      "https://wolnelektury.pl/media/book/txt/dziennik-franciszki-krasinskiej.txt\n",
      "https://wolnelektury.pl/media/book/txt/dziewczynka-i-lalka.txt\n"
     ]
    },
    {
     "name": "stderr",
     "output_type": "stream",
     "text": [
      " 19%|█▉        | 1118/5750 [01:36<06:38, 11.61it/s]"
     ]
    },
    {
     "name": "stdout",
     "output_type": "stream",
     "text": [
      "https://wolnelektury.pl/media/book/txt/dziewczynka-i-matka.txt\n",
      "https://wolnelektury.pl/media/book/txt/dziewczynka-z-zapalkami.txt\n",
      "https://wolnelektury.pl/media/book/txt/dzisiaj-w-betlejem.txt\n"
     ]
    },
    {
     "name": "stderr",
     "output_type": "stream",
     "text": [
      "\r",
      " 19%|█▉        | 1120/5750 [01:36<06:38, 11.61it/s]"
     ]
    },
    {
     "name": "stdout",
     "output_type": "stream",
     "text": [
      "https://wolnelektury.pl/media/book/txt/dziurdziowie.txt\n",
      "https://wolnelektury.pl/media/book/txt/dzwieki-minionych-lat.txt\n"
     ]
    },
    {
     "name": "stderr",
     "output_type": "stream",
     "text": [
      "\r",
      " 20%|█▉        | 1122/5750 [01:36<06:38, 11.61it/s]"
     ]
    },
    {
     "name": "stdout",
     "output_type": "stream",
     "text": [
      "https://wolnelektury.pl/media/book/txt/dzwon.txt\n",
      "https://wolnelektury.pl/media/book/txt/dzwony.txt\n",
      "https://wolnelektury.pl/media/book/txt/echa-lesne.txt\n"
     ]
    },
    {
     "name": "stderr",
     "output_type": "stream",
     "text": [
      " 20%|█▉        | 1126/5750 [01:36<06:38, 11.61it/s]"
     ]
    },
    {
     "name": "stdout",
     "output_type": "stream",
     "text": [
      "https://wolnelektury.pl/media/book/txt/edgar-allan-poe-i-jego-nowelle.txt\n",
      "https://wolnelektury.pl/media/book/txt/ehrenberg-dzwieki-minionych-lat-bartlomiej-glowacki.txt\n",
      "https://wolnelektury.pl/media/book/txt/ehrenberg-dzwieki-minionych-lat-boze-narodzenie.txt\n"
     ]
    },
    {
     "name": "stderr",
     "output_type": "stream",
     "text": [
      "\r",
      " 20%|█▉        | 1128/5750 [01:37<06:37, 11.61it/s]"
     ]
    },
    {
     "name": "stdout",
     "output_type": "stream",
     "text": [
      "https://wolnelektury.pl/media/book/txt/ehrenberg-dzwieki-minionych-lat-do-romantyka.txt\n",
      "https://wolnelektury.pl/media/book/txt/ehrenberg-dzwieki-minionych-lat-dolina-mnikowska.txt\n",
      "https://wolnelektury.pl/media/book/txt/ehrenberg-dzwieki-minionych-lat-dwie.txt\n"
     ]
    },
    {
     "name": "stderr",
     "output_type": "stream",
     "text": [
      "\r",
      " 20%|█▉        | 1130/5750 [01:37<06:37, 11.62it/s]"
     ]
    },
    {
     "name": "stdout",
     "output_type": "stream",
     "text": [
      "https://wolnelektury.pl/media/book/txt/ehrenberg-dzwieki-minionych-lat-gminna-ochota.txt\n",
      "https://wolnelektury.pl/media/book/txt/ehrenberg-dzwieki-minionych-lat-ironia-zycia.txt\n"
     ]
    },
    {
     "name": "stderr",
     "output_type": "stream",
     "text": [
      " 20%|█▉        | 1134/5750 [01:37<06:37, 11.60it/s]"
     ]
    },
    {
     "name": "stdout",
     "output_type": "stream",
     "text": [
      "https://wolnelektury.pl/media/book/txt/ehrenberg-dzwieki-minionych-lat-karnawal.txt\n",
      "https://wolnelektury.pl/media/book/txt/ehrenberg-dzwieki-minionych-lat-lauretta.txt\n",
      "https://wolnelektury.pl/media/book/txt/ehrenberg-dzwieki-minionych-lat-miedzy-ziemia-a-rajem.txt\n"
     ]
    },
    {
     "name": "stderr",
     "output_type": "stream",
     "text": [
      "\r",
      " 20%|█▉        | 1136/5750 [01:37<06:37, 11.60it/s]"
     ]
    },
    {
     "name": "stdout",
     "output_type": "stream",
     "text": [
      "https://wolnelektury.pl/media/book/txt/ehrenberg-dzwieki-minionych-lat-piesn-na-zwaliskach.txt\n",
      "https://wolnelektury.pl/media/book/txt/ehrenberg-dzwieki-minionych-lat-piesn-wislanska.txt\n",
      "https://wolnelektury.pl/media/book/txt/ehrenberg-dzwieki-minionych-lat-podroz-na-syberya.txt\n"
     ]
    },
    {
     "name": "stderr",
     "output_type": "stream",
     "text": [
      " 20%|█▉        | 1140/5750 [01:38<06:37, 11.60it/s]"
     ]
    },
    {
     "name": "stdout",
     "output_type": "stream",
     "text": [
      "https://wolnelektury.pl/media/book/txt/ehrenberg-dzwieki-minionych-lat-przechadzka-przed-switem.txt\n",
      "https://wolnelektury.pl/media/book/txt/ehrenberg-dzwieki-minionych-lat-przechadzka-wieczorna.txt\n",
      "https://wolnelektury.pl/media/book/txt/ehrenberg-dzwieki-minionych-lat-przyjaciolom-wieszcza-wydawca.txt\n",
      "https://wolnelektury.pl/media/book/txt/ehrenberg-dzwieki-minionych-lat-sfinks.txt\n"
     ]
    },
    {
     "name": "stderr",
     "output_type": "stream",
     "text": [
      " 20%|█▉        | 1144/5750 [01:38<06:36, 11.61it/s]"
     ]
    },
    {
     "name": "stdout",
     "output_type": "stream",
     "text": [
      "https://wolnelektury.pl/media/book/txt/ehrenberg-dzwieki-minionych-lat-sylf.txt\n",
      "https://wolnelektury.pl/media/book/txt/ehrenberg-dzwieki-minionych-lat-szlachta-w-roku-1831.txt\n",
      "https://wolnelektury.pl/media/book/txt/ehrenberg-dzwieki-minionych-lat-szubienica-zawiszy.txt\n"
     ]
    },
    {
     "name": "stderr",
     "output_type": "stream",
     "text": [
      "\r",
      " 20%|█▉        | 1146/5750 [01:38<06:36, 11.62it/s]"
     ]
    },
    {
     "name": "stdout",
     "output_type": "stream",
     "text": [
      "https://wolnelektury.pl/media/book/txt/ehrenberg-dzwieki-minionych-lat-tance-zapustne.txt\n",
      "https://wolnelektury.pl/media/book/txt/ehrenberg-dzwieki-minionych-lat-ulamek.txt\n",
      "https://wolnelektury.pl/media/book/txt/ehrenberg-dzwieki-minionych-lat-ulamek-ii.txt\n"
     ]
    },
    {
     "name": "stderr",
     "output_type": "stream",
     "text": [
      " 20%|██        | 1150/5750 [01:38<06:35, 11.63it/s]"
     ]
    },
    {
     "name": "stdout",
     "output_type": "stream",
     "text": [
      "https://wolnelektury.pl/media/book/txt/ehrenberg-dzwieki-minionych-lat-ulamek-iii.txt\n",
      "https://wolnelektury.pl/media/book/txt/ehrenberg-dzwieki-minionych-lat-utesknienie.txt\n",
      "https://wolnelektury.pl/media/book/txt/ehrenberg-dzwieki-minionych-lat-wiara-nadzieja-milosc.txt\n",
      "https://wolnelektury.pl/media/book/txt/ehrenberg-dzwieki-minionych-lat-wspolne-marzenia.txt\n"
     ]
    },
    {
     "name": "stderr",
     "output_type": "stream",
     "text": [
      " 20%|██        | 1154/5750 [01:39<06:35, 11.63it/s]"
     ]
    },
    {
     "name": "stdout",
     "output_type": "stream",
     "text": [
      "https://wolnelektury.pl/media/book/txt/ehrenberg-dzwieki-minionych-lat-wstep-do-piesni-z-1835-roku.txt\n",
      "https://wolnelektury.pl/media/book/txt/ehrenberg-dzwieki-minionych-lat-zachwycenie.txt\n",
      "https://wolnelektury.pl/media/book/txt/ehrenberg-dzwieki-minionych-lat-znowu-do-romantyka.txt\n"
     ]
    },
    {
     "name": "stderr",
     "output_type": "stream",
     "text": [
      " 20%|██        | 1158/5750 [01:39<06:34, 11.64it/s]"
     ]
    },
    {
     "name": "stdout",
     "output_type": "stream",
     "text": [
      "https://wolnelektury.pl/media/book/txt/ehrenberg-dzwieki-minionych-lat-zwaliska.txt\n",
      "https://wolnelektury.pl/media/book/txt/ekstaza.txt\n",
      "https://wolnelektury.pl/media/book/txt/elegia.txt\n",
      "https://wolnelektury.pl/media/book/txt/elegia-na-smierc-czarnego-zawiszy.txt\n",
      "https://wolnelektury.pl/media/book/txt/elegie-i-inne-pisma-literackie-i-spoleczne.txt\n"
     ]
    },
    {
     "name": "stderr",
     "output_type": "stream",
     "text": [
      " 20%|██        | 1162/5750 [01:39<06:34, 11.62it/s]"
     ]
    },
    {
     "name": "stdout",
     "output_type": "stream",
     "text": [
      "https://wolnelektury.pl/media/book/txt/elektra.txt\n",
      "https://wolnelektury.pl/media/book/txt/elskamp-dla-ucha.txt\n",
      "https://wolnelektury.pl/media/book/txt/elze-ozeskiene-sunadvokatis.txt\n"
     ]
    },
    {
     "name": "stderr",
     "output_type": "stream",
     "text": [
      "\r",
      " 20%|██        | 1164/5750 [01:40<06:34, 11.62it/s]"
     ]
    },
    {
     "name": "stdout",
     "output_type": "stream",
     "text": [
      "https://wolnelektury.pl/media/book/txt/emancypantki.txt\n",
      "https://wolnelektury.pl/media/book/txt/emancypantki-tom-i.txt\n",
      "https://wolnelektury.pl/media/book/txt/emancypantki-tom-ii.txt\n"
     ]
    },
    {
     "name": "stderr",
     "output_type": "stream",
     "text": [
      " 20%|██        | 1168/5750 [01:40<06:35, 11.57it/s]"
     ]
    },
    {
     "name": "stdout",
     "output_type": "stream",
     "text": [
      "https://wolnelektury.pl/media/book/txt/emilka.txt\n",
      "https://wolnelektury.pl/media/book/txt/eurypides-hippolytos-uwienczony.txt\n",
      "https://wolnelektury.pl/media/book/txt/eurypides-ifigenia-w-aulidzie.txt\n"
     ]
    },
    {
     "name": "stderr",
     "output_type": "stream",
     "text": [
      " 20%|██        | 1171/5750 [01:41<06:35, 11.57it/s]"
     ]
    },
    {
     "name": "stdout",
     "output_type": "stream",
     "text": [
      "https://wolnelektury.pl/media/book/txt/eviva-l-arte.txt\n",
      "https://wolnelektury.pl/media/book/txt/faraon.txt\n",
      "https://wolnelektury.pl/media/book/txt/faraon-tom-drugi.txt\n"
     ]
    },
    {
     "name": "stderr",
     "output_type": "stream",
     "text": [
      "\r",
      " 20%|██        | 1173/5750 [01:41<06:36, 11.55it/s]"
     ]
    },
    {
     "name": "stdout",
     "output_type": "stream",
     "text": [
      "https://wolnelektury.pl/media/book/txt/faraon-tom-pierwszy.txt\n",
      "https://wolnelektury.pl/media/book/txt/faraon-tom-trzeci.txt\n"
     ]
    },
    {
     "name": "stderr",
     "output_type": "stream",
     "text": [
      " 20%|██        | 1176/5750 [01:41<06:36, 11.54it/s]"
     ]
    },
    {
     "name": "stdout",
     "output_type": "stream",
     "text": [
      "https://wolnelektury.pl/media/book/txt/farys.txt\n",
      "https://wolnelektury.pl/media/book/txt/faust.txt\n",
      "https://wolnelektury.pl/media/book/txt/fedra.txt\n"
     ]
    },
    {
     "name": "stderr",
     "output_type": "stream",
     "text": [
      "\r",
      " 20%|██        | 1178/5750 [01:42<06:36, 11.54it/s]"
     ]
    },
    {
     "name": "stdout",
     "output_type": "stream",
     "text": [
      "https://wolnelektury.pl/media/book/txt/fejerwerk-bajki-nowe.txt\n",
      "https://wolnelektury.pl/media/book/txt/fermenty.txt\n",
      "https://wolnelektury.pl/media/book/txt/fermenty-tom-drugi.txt\n"
     ]
    },
    {
     "name": "stderr",
     "output_type": "stream",
     "text": [
      " 21%|██        | 1181/5750 [01:42<06:36, 11.52it/s]"
     ]
    },
    {
     "name": "stdout",
     "output_type": "stream",
     "text": [
      "https://wolnelektury.pl/media/book/txt/fermenty-tom-pierwszy.txt\n",
      "https://wolnelektury.pl/media/book/txt/feta-w-coqueville.txt\n"
     ]
    },
    {
     "name": "stderr",
     "output_type": "stream",
     "text": [
      "\r",
      " 21%|██        | 1183/5750 [01:42<06:36, 11.52it/s]"
     ]
    },
    {
     "name": "stdout",
     "output_type": "stream",
     "text": [
      "https://wolnelektury.pl/media/book/txt/fialek-i-trawa.txt\n",
      "https://wolnelektury.pl/media/book/txt/fialki-bajki-nowe.txt\n",
      "https://wolnelektury.pl/media/book/txt/fiedorczuk-autobiographia-literaria.txt\n"
     ]
    },
    {
     "name": "stderr",
     "output_type": "stream",
     "text": [
      " 21%|██        | 1187/5750 [01:43<06:35, 11.52it/s]"
     ]
    },
    {
     "name": "stdout",
     "output_type": "stream",
     "text": [
      "https://wolnelektury.pl/media/book/txt/fiedorczuk-autoportret-z-makiem.txt\n",
      "https://wolnelektury.pl/media/book/txt/fiedorczuk-bum.txt\n",
      "https://wolnelektury.pl/media/book/txt/fiedorczuk-burze-i-przejasnienia.txt\n",
      "https://wolnelektury.pl/media/book/txt/fiedorczuk-cos.txt\n"
     ]
    },
    {
     "name": "stderr",
     "output_type": "stream",
     "text": [
      " 21%|██        | 1191/5750 [01:43<06:35, 11.53it/s]"
     ]
    },
    {
     "name": "stdout",
     "output_type": "stream",
     "text": [
      "https://wolnelektury.pl/media/book/txt/fiedorczuk-dedykacja.txt\n",
      "https://wolnelektury.pl/media/book/txt/fiedorczuk-dobranoc.txt\n",
      "https://wolnelektury.pl/media/book/txt/fiedorczuk-dziwadelko.txt\n",
      "https://wolnelektury.pl/media/book/txt/fiedorczuk-it-has-been-played-once-more.txt\n"
     ]
    },
    {
     "name": "stderr",
     "output_type": "stream",
     "text": [
      " 21%|██        | 1195/5750 [01:43<06:34, 11.54it/s]"
     ]
    },
    {
     "name": "stdout",
     "output_type": "stream",
     "text": [
      "https://wolnelektury.pl/media/book/txt/fiedorczuk-jamb-trochej-jamb.txt\n",
      "https://wolnelektury.pl/media/book/txt/fiedorczuk-kolejny-przelom-w-historii-ludzkosci.txt\n",
      "https://wolnelektury.pl/media/book/txt/fiedorczuk-kolysanka.txt\n",
      "https://wolnelektury.pl/media/book/txt/fiedorczuk-kompost.txt\n"
     ]
    },
    {
     "name": "stderr",
     "output_type": "stream",
     "text": [
      " 21%|██        | 1199/5750 [01:43<06:33, 11.55it/s]"
     ]
    },
    {
     "name": "stdout",
     "output_type": "stream",
     "text": [
      "https://wolnelektury.pl/media/book/txt/fiedorczuk-niebo.txt\n",
      "https://wolnelektury.pl/media/book/txt/fiedorczuk-pewnego-dnia.txt\n",
      "https://wolnelektury.pl/media/book/txt/fiedorczuk-plynie-wisla-plynie.txt\n"
     ]
    },
    {
     "name": "stderr",
     "output_type": "stream",
     "text": [
      "\r",
      " 21%|██        | 1201/5750 [01:43<06:33, 11.56it/s]"
     ]
    },
    {
     "name": "stdout",
     "output_type": "stream",
     "text": [
      "https://wolnelektury.pl/media/book/txt/fiedorczuk-po.txt\n",
      "https://wolnelektury.pl/media/book/txt/fiedorczuk-psychoanaliza-i-mandarynki.txt\n",
      "https://wolnelektury.pl/media/book/txt/fiedorczuk-ramie-oriona.txt\n"
     ]
    },
    {
     "name": "stderr",
     "output_type": "stream",
     "text": [
      " 21%|██        | 1205/5750 [01:44<06:33, 11.56it/s]"
     ]
    },
    {
     "name": "stdout",
     "output_type": "stream",
     "text": [
      "https://wolnelektury.pl/media/book/txt/fiedorczuk-relentlessly-craving.txt\n",
      "https://wolnelektury.pl/media/book/txt/fiedorczuk-sorella-la-luna.txt\n",
      "https://wolnelektury.pl/media/book/txt/fiedorczuk-tak.txt\n"
     ]
    },
    {
     "name": "stderr",
     "output_type": "stream",
     "text": [
      " 21%|██        | 1209/5750 [01:44<06:32, 11.57it/s]"
     ]
    },
    {
     "name": "stdout",
     "output_type": "stream",
     "text": [
      "https://wolnelektury.pl/media/book/txt/fiedorczuk-the-truth-is-out-there.txt\n",
      "https://wolnelektury.pl/media/book/txt/fiedorczuk-tlen.txt\n",
      "https://wolnelektury.pl/media/book/txt/fiedorczuk-tlen-czesc-druga-elegie.txt\n",
      "https://wolnelektury.pl/media/book/txt/fiedorczuk-tlen-czesc-pierwsza-o2.txt\n"
     ]
    },
    {
     "name": "stderr",
     "output_type": "stream",
     "text": [
      " 21%|██        | 1213/5750 [01:44<06:31, 11.58it/s]"
     ]
    },
    {
     "name": "stdout",
     "output_type": "stream",
     "text": [
      "https://wolnelektury.pl/media/book/txt/fiedorczuk-tlen-czesc-trzecia-miejsca.txt\n",
      "https://wolnelektury.pl/media/book/txt/fiedorczuk-tlen-objasnienia.txt\n",
      "https://wolnelektury.pl/media/book/txt/fiedorczuk-tlen-tlen.txt\n",
      "https://wolnelektury.pl/media/book/txt/fiedorczuk-to-jest-pierwszy-dzien-reszty-twojego-zycia.txt\n"
     ]
    },
    {
     "name": "stderr",
     "output_type": "stream",
     "text": [
      "\r",
      " 21%|██        | 1215/5750 [01:44<06:31, 11.59it/s]"
     ]
    },
    {
     "name": "stdout",
     "output_type": "stream",
     "text": [
      "https://wolnelektury.pl/media/book/txt/fiedorczuk-what-love-does.txt\n",
      "https://wolnelektury.pl/media/book/txt/fiedorczuk-wiersz.txt\n",
      "https://wolnelektury.pl/media/book/txt/fijolek.txt\n"
     ]
    },
    {
     "name": "stderr",
     "output_type": "stream",
     "text": [
      " 21%|██        | 1219/5750 [01:45<06:30, 11.59it/s]"
     ]
    },
    {
     "name": "stdout",
     "output_type": "stream",
     "text": [
      "https://wolnelektury.pl/media/book/txt/filozof.txt\n",
      "https://wolnelektury.pl/media/book/txt/filozof-bajki-nowe.txt\n",
      "https://wolnelektury.pl/media/book/txt/filozof-i-chlop-bajki-nowe.txt\n"
     ]
    },
    {
     "name": "stderr",
     "output_type": "stream",
     "text": [
      "\r",
      " 21%|██        | 1221/5750 [01:45<06:30, 11.60it/s]"
     ]
    },
    {
     "name": "stdout",
     "output_type": "stream",
     "text": [
      "https://wolnelektury.pl/media/book/txt/filozof-i-orator.txt\n",
      "https://wolnelektury.pl/media/book/txt/filozofia-nietzschego.txt\n",
      "https://wolnelektury.pl/media/book/txt/filus-milus-i-kizia-wesole-kotki.txt\n"
     ]
    },
    {
     "name": "stderr",
     "output_type": "stream",
     "text": [
      "\r",
      " 21%|██▏       | 1223/5750 [01:45<06:30, 11.60it/s]"
     ]
    },
    {
     "name": "stdout",
     "output_type": "stream",
     "text": [
      "https://wolnelektury.pl/media/book/txt/filus-smialek.txt\n",
      "https://wolnelektury.pl/media/book/txt/flaubert-kuszenie-sw-antoniego.txt\n"
     ]
    },
    {
     "name": "stderr",
     "output_type": "stream",
     "text": [
      "\r",
      " 21%|██▏       | 1225/5750 [01:45<06:30, 11.59it/s]"
     ]
    },
    {
     "name": "stdout",
     "output_type": "stream",
     "text": [
      "https://wolnelektury.pl/media/book/txt/flirt-z-melpomena.txt\n",
      "https://wolnelektury.pl/media/book/txt/flisak.txt\n"
     ]
    },
    {
     "name": "stderr",
     "output_type": "stream",
     "text": [
      " 21%|██▏       | 1229/5750 [01:46<06:30, 11.59it/s]"
     ]
    },
    {
     "name": "stdout",
     "output_type": "stream",
     "text": [
      "https://wolnelektury.pl/media/book/txt/foks-wiersz-do-antologii-ksiegarnia-panstwowego-instytutu-wydawniczego-przy-ulicy-foksal-w-warszawie.txt\n",
      "https://wolnelektury.pl/media/book/txt/foks-wiersze-o-fryzjerach.txt\n",
      "https://wolnelektury.pl/media/book/txt/foks-wiersze-o-fryzjerach-dedykacja.txt\n"
     ]
    },
    {
     "name": "stderr",
     "output_type": "stream",
     "text": [
      " 21%|██▏       | 1233/5750 [01:46<06:29, 11.59it/s]"
     ]
    },
    {
     "name": "stdout",
     "output_type": "stream",
     "text": [
      "https://wolnelektury.pl/media/book/txt/foks-wiersze-o-fryzjerach-epifania.txt\n",
      "https://wolnelektury.pl/media/book/txt/foks-wiersze-o-fryzjerach-gruby-nie-zyje.txt\n",
      "https://wolnelektury.pl/media/book/txt/foks-wiersze-o-fryzjerach-john-donne-w-kawalkach.txt\n",
      "https://wolnelektury.pl/media/book/txt/foks-wiersze-o-fryzjerach-kartografia.txt\n",
      "https://wolnelektury.pl/media/book/txt/foks-wiersze-o-fryzjerach-kartografia-cykl.txt\n"
     ]
    },
    {
     "name": "stderr",
     "output_type": "stream",
     "text": [
      " 22%|██▏       | 1237/5750 [01:46<06:28, 11.60it/s]"
     ]
    },
    {
     "name": "stdout",
     "output_type": "stream",
     "text": [
      "https://wolnelektury.pl/media/book/txt/foks-wiersze-o-fryzjerach-konkwista.txt\n",
      "https://wolnelektury.pl/media/book/txt/foks-wiersze-o-fryzjerach-kopniak-w-dupe-dla-macka-chelmickiego.txt\n",
      "https://wolnelektury.pl/media/book/txt/foks-wiersze-o-fryzjerach-legendarny-carlos.txt\n",
      "https://wolnelektury.pl/media/book/txt/foks-wiersze-o-fryzjerach-lepki-obled.txt\n"
     ]
    },
    {
     "name": "stderr",
     "output_type": "stream",
     "text": [
      " 22%|██▏       | 1241/5750 [01:46<06:28, 11.61it/s]"
     ]
    },
    {
     "name": "stdout",
     "output_type": "stream",
     "text": [
      "https://wolnelektury.pl/media/book/txt/foks-wiersze-o-fryzjerach-lowcy-jeleni.txt\n",
      "https://wolnelektury.pl/media/book/txt/foks-wiersze-o-fryzjerach-mapa-mi-sie-konczy.txt\n",
      "https://wolnelektury.pl/media/book/txt/foks-wiersze-o-fryzjerach-motto.txt\n"
     ]
    },
    {
     "name": "stderr",
     "output_type": "stream",
     "text": [
      "\r",
      " 22%|██▏       | 1243/5750 [01:46<06:27, 11.62it/s]"
     ]
    },
    {
     "name": "stdout",
     "output_type": "stream",
     "text": [
      "https://wolnelektury.pl/media/book/txt/foks-wiersze-o-fryzjerach-nieudana-proba-wyjasnienia-autora-balu-manekinow-zasady-dzialania-telewizora.txt\n",
      "https://wolnelektury.pl/media/book/txt/foks-wiersze-o-fryzjerach-niewaski-tydzien.txt\n",
      "https://wolnelektury.pl/media/book/txt/foks-wiersze-o-fryzjerach-niewaski-tydzien-cykl.txt\n"
     ]
    },
    {
     "name": "stderr",
     "output_type": "stream",
     "text": [
      " 22%|██▏       | 1247/5750 [01:47<06:27, 11.62it/s]"
     ]
    },
    {
     "name": "stdout",
     "output_type": "stream",
     "text": [
      "https://wolnelektury.pl/media/book/txt/foks-wiersze-o-fryzjerach-odpoczynek-podczas-ucieczki-do-egiptu.txt\n",
      "https://wolnelektury.pl/media/book/txt/foks-wiersze-o-fryzjerach-otwierajaca-puszke.txt\n",
      "https://wolnelektury.pl/media/book/txt/foks-wiersze-o-fryzjerach-panstwa-nie-ma.txt\n"
     ]
    },
    {
     "name": "stderr",
     "output_type": "stream",
     "text": [
      " 22%|██▏       | 1251/5750 [01:47<06:26, 11.63it/s]"
     ]
    },
    {
     "name": "stdout",
     "output_type": "stream",
     "text": [
      "https://wolnelektury.pl/media/book/txt/foks-wiersze-o-fryzjerach-panstwa-nie-ma-cykl.txt\n",
      "https://wolnelektury.pl/media/book/txt/foks-wiersze-o-fryzjerach-piosenka-ochlapanego.txt\n",
      "https://wolnelektury.pl/media/book/txt/foks-wiersze-o-fryzjerach-placz-niemowlecia.txt\n",
      "https://wolnelektury.pl/media/book/txt/foks-wiersze-o-fryzjerach-rozklad-dnia.txt\n"
     ]
    },
    {
     "name": "stderr",
     "output_type": "stream",
     "text": [
      "\r",
      " 22%|██▏       | 1253/5750 [01:47<06:26, 11.64it/s]"
     ]
    },
    {
     "name": "stdout",
     "output_type": "stream",
     "text": [
      "https://wolnelektury.pl/media/book/txt/foks-wiersze-o-fryzjerach-sarajewo-w-ogniu.txt\n",
      "https://wolnelektury.pl/media/book/txt/foks-wiersze-o-fryzjerach-sprawa-szatowa.txt\n",
      "https://wolnelektury.pl/media/book/txt/foks-wiersze-o-fryzjerach-tlumaczac-pana-tadeusza-na-bulgarski.txt\n"
     ]
    },
    {
     "name": "stderr",
     "output_type": "stream",
     "text": [
      "\r",
      " 22%|██▏       | 1255/5750 [01:47<06:26, 11.64it/s]"
     ]
    },
    {
     "name": "stdout",
     "output_type": "stream",
     "text": [
      "https://wolnelektury.pl/media/book/txt/foks-wiersze-o-fryzjerach-udreka-i-ekstaza.txt\n",
      "https://wolnelektury.pl/media/book/txt/foks-wiersze-o-fryzjerach-uscisk-umierajacego.txt\n"
     ]
    },
    {
     "name": "stderr",
     "output_type": "stream",
     "text": [
      " 22%|██▏       | 1259/5750 [01:48<06:26, 11.63it/s]"
     ]
    },
    {
     "name": "stdout",
     "output_type": "stream",
     "text": [
      "https://wolnelektury.pl/media/book/txt/foks-wiersze-o-fryzjerach-w-wiezy-babel.txt\n",
      "https://wolnelektury.pl/media/book/txt/foks-wiersze-o-fryzjerach-wiersz-dluzszy-cykl.txt\n",
      "https://wolnelektury.pl/media/book/txt/foks-wiersze-o-fryzjerach-wiersze-o-fryzjerach.txt\n",
      "https://wolnelektury.pl/media/book/txt/foks-wiersze-o-fryzjerach-wodowanie.txt\n"
     ]
    },
    {
     "name": "stderr",
     "output_type": "stream",
     "text": [
      " 22%|██▏       | 1263/5750 [01:48<06:25, 11.64it/s]"
     ]
    },
    {
     "name": "stdout",
     "output_type": "stream",
     "text": [
      "https://wolnelektury.pl/media/book/txt/foks-wiersze-o-fryzjerach-z-szesnastokartkowego-zeszytu-w-swastyki.txt\n",
      "https://wolnelektury.pl/media/book/txt/foks-wiersze-o-fryzjerach-zachecajace-warunki-pracy.txt\n",
      "https://wolnelektury.pl/media/book/txt/foks-wiersze-o-fryzjerach-zalany-priap.txt\n"
     ]
    },
    {
     "name": "stderr",
     "output_type": "stream",
     "text": [
      " 22%|██▏       | 1267/5750 [01:48<06:24, 11.65it/s]"
     ]
    },
    {
     "name": "stdout",
     "output_type": "stream",
     "text": [
      "https://wolnelektury.pl/media/book/txt/foks-wiersze-o-fryzjerach-zasrana-historia-darka-foksa-handlarza-starzyzna.txt\n",
      "https://wolnelektury.pl/media/book/txt/fortepian-chopina.txt\n",
      "https://wolnelektury.pl/media/book/txt/fragment.txt\n",
      "https://wolnelektury.pl/media/book/txt/fragment-z-fantazyi.txt\n"
     ]
    },
    {
     "name": "stderr",
     "output_type": "stream",
     "text": [
      " 22%|██▏       | 1271/5750 [01:49<06:24, 11.66it/s]"
     ]
    },
    {
     "name": "stdout",
     "output_type": "stream",
     "text": [
      "https://wolnelektury.pl/media/book/txt/fragmenta.txt\n",
      "https://wolnelektury.pl/media/book/txt/fragmenta-piesn-czego-chcesz-od-nas-panie.txt\n",
      "https://wolnelektury.pl/media/book/txt/fragmenta-piesn-i-pewienem-tego-a-nic-sie-nie-myle.txt\n",
      "https://wolnelektury.pl/media/book/txt/fragmenta-piesn-ii-nie-ma-swiat-nic-trwalego-a-to-barzo-k-rzeczy.txt\n"
     ]
    },
    {
     "name": "stderr",
     "output_type": "stream",
     "text": [
      "\r",
      " 22%|██▏       | 1273/5750 [01:49<06:24, 11.66it/s]"
     ]
    },
    {
     "name": "stdout",
     "output_type": "stream",
     "text": [
      "https://wolnelektury.pl/media/book/txt/fragmenta-piesn-iii-oko-smiertelne-boga-nie-widzialo.txt\n",
      "https://wolnelektury.pl/media/book/txt/fragmenta-piesn-iv-kiedy-by-kogo-bog-byl-swymi-slowy.txt\n",
      "https://wolnelektury.pl/media/book/txt/fragmenta-piesn-ix-kto-mi-wiary-dac-nie-chce-daj-ja-oku-swemu.txt\n"
     ]
    },
    {
     "name": "stderr",
     "output_type": "stream",
     "text": [
      " 22%|██▏       | 1277/5750 [01:49<06:23, 11.66it/s]"
     ]
    },
    {
     "name": "stdout",
     "output_type": "stream",
     "text": [
      "https://wolnelektury.pl/media/book/txt/fragmenta-piesn-v-panie-jako-barzo-bladza.txt\n",
      "https://wolnelektury.pl/media/book/txt/fragmenta-piesn-vi-co-by-ty-urodziwa-hanno-na-to-dala.txt\n",
      "https://wolnelektury.pl/media/book/txt/fragmenta-piesn-vii-bodaj-ci-zle-dni.txt\n"
     ]
    },
    {
     "name": "stderr",
     "output_type": "stream",
     "text": [
      "\r",
      " 22%|██▏       | 1279/5750 [01:49<06:23, 11.66it/s]"
     ]
    },
    {
     "name": "stdout",
     "output_type": "stream",
     "text": [
      "https://wolnelektury.pl/media/book/txt/fragmenta-piesn-viii-kiedy-sie-rane-zapalaja-zorza.txt\n",
      "https://wolnelektury.pl/media/book/txt/fragmenta-piesn-x-juno-porzuc-swoj-gniew-dlugi.txt\n",
      "https://wolnelektury.pl/media/book/txt/fragmenta-piesn-xi-prozna-twa-chluba-nie-kochaj-sie-w-sobie.txt\n"
     ]
    },
    {
     "name": "stderr",
     "output_type": "stream",
     "text": [
      " 22%|██▏       | 1283/5750 [01:49<06:22, 11.67it/s]"
     ]
    },
    {
     "name": "stdout",
     "output_type": "stream",
     "text": [
      "https://wolnelektury.pl/media/book/txt/franus.txt\n",
      "https://wolnelektury.pl/media/book/txt/frasunk-do-kasie.txt\n",
      "https://wolnelektury.pl/media/book/txt/fraszka-do-anusie.txt\n",
      "https://wolnelektury.pl/media/book/txt/fraszka-do-kasie.txt\n"
     ]
    },
    {
     "name": "stderr",
     "output_type": "stream",
     "text": [
      " 22%|██▏       | 1287/5750 [01:50<06:22, 11.67it/s]"
     ]
    },
    {
     "name": "stdout",
     "output_type": "stream",
     "text": [
      "https://wolnelektury.pl/media/book/txt/fraszka-do-zosie-badz-mi-oczkami-pozwalasz-laskawemi.txt\n",
      "https://wolnelektury.pl/media/book/txt/fraszka-do-zosie-sluchaj-gdy-nie-chcesz-baczyc-co-sie-ze-mna-dzieje.txt\n",
      "https://wolnelektury.pl/media/book/txt/fraszka-o-anusi-i-o-kasi.txt\n"
     ]
    },
    {
     "name": "stderr",
     "output_type": "stream",
     "text": [
      " 22%|██▏       | 1291/5750 [01:50<06:21, 11.68it/s]"
     ]
    },
    {
     "name": "stdout",
     "output_type": "stream",
     "text": [
      "https://wolnelektury.pl/media/book/txt/fraszki.txt\n",
      "https://wolnelektury.pl/media/book/txt/fraszki-dedykacja.txt\n",
      "https://wolnelektury.pl/media/book/txt/fraszki-fraszki-dodane.txt\n",
      "https://wolnelektury.pl/media/book/txt/fraszki-fraszki-dodane-na-leliwe-tarnowskich.txt\n"
     ]
    },
    {
     "name": "stderr",
     "output_type": "stream",
     "text": [
      "\r",
      " 22%|██▏       | 1293/5750 [01:50<06:21, 11.69it/s]"
     ]
    },
    {
     "name": "stdout",
     "output_type": "stream",
     "text": [
      "https://wolnelektury.pl/media/book/txt/fraszki-fraszki-dodane-na-slownik-maczynskiego.txt\n",
      "https://wolnelektury.pl/media/book/txt/fraszki-fraszki-dodane-nagrobek-stanislawowi-grzepskiemu.txt\n",
      "https://wolnelektury.pl/media/book/txt/fraszki-fraszki-dodane-pelna-prze-zdrowie.txt\n"
     ]
    },
    {
     "name": "stderr",
     "output_type": "stream",
     "text": [
      " 23%|██▎       | 1297/5750 [01:51<06:21, 11.68it/s]"
     ]
    },
    {
     "name": "stdout",
     "output_type": "stream",
     "text": [
      "https://wolnelektury.pl/media/book/txt/fraszki-fraszki-dodane-przymowka-chlopska.txt\n",
      "https://wolnelektury.pl/media/book/txt/fraszki-fraszki-dodane-zle-dopijac-sie-przyjaciela.txt\n",
      "https://wolnelektury.pl/media/book/txt/fraszki-ksiegi-pierwsze.txt\n"
     ]
    },
    {
     "name": "stderr",
     "output_type": "stream",
     "text": [
      "\r",
      " 23%|██▎       | 1299/5750 [01:51<06:20, 11.68it/s]"
     ]
    },
    {
     "name": "stdout",
     "output_type": "stream",
     "text": [
      "https://wolnelektury.pl/media/book/txt/fraszki-ksiegi-pierwsze-do-baltazera.txt\n",
      "https://wolnelektury.pl/media/book/txt/fraszki-ksiegi-pierwsze-do-chmury.txt\n",
      "https://wolnelektury.pl/media/book/txt/fraszki-ksiegi-pierwsze-do-goscia-jesli-darmo-masz-te-ksiazk.txt\n"
     ]
    },
    {
     "name": "stderr",
     "output_type": "stream",
     "text": [
      " 23%|██▎       | 1303/5750 [01:51<06:20, 11.69it/s]"
     ]
    },
    {
     "name": "stdout",
     "output_type": "stream",
     "text": [
      "https://wolnelektury.pl/media/book/txt/fraszki-ksiegi-pierwsze-do-goscia-nie-piesc-sie-dlugo-z-mymi.txt\n",
      "https://wolnelektury.pl/media/book/txt/fraszki-ksiegi-pierwsze-do-gospodyniej.txt\n",
      "https://wolnelektury.pl/media/book/txt/fraszki-ksiegi-pierwsze-do-hanny-chybaby-nie-wiedziala-co-zn.txt\n",
      "https://wolnelektury.pl/media/book/txt/fraszki-ksiegi-pierwsze-do-jakuba.txt\n"
     ]
    },
    {
     "name": "stderr",
     "output_type": "stream",
     "text": [
      " 23%|██▎       | 1307/5750 [01:51<06:19, 11.70it/s]"
     ]
    },
    {
     "name": "stdout",
     "output_type": "stream",
     "text": [
      "https://wolnelektury.pl/media/book/txt/fraszki-ksiegi-pierwsze-do-jana-radze-janie-daj-pokoj-przeds.txt\n",
      "https://wolnelektury.pl/media/book/txt/fraszki-ksiegi-pierwsze-do-josta-wiesz-cos-mi-winien-miejze-.txt\n",
      "https://wolnelektury.pl/media/book/txt/fraszki-ksiegi-pierwsze-do-kachny-pewnie-cie-moje-zwierciadl.txt\n"
     ]
    },
    {
     "name": "stderr",
     "output_type": "stream",
     "text": [
      "\r",
      " 23%|██▎       | 1309/5750 [01:51<06:19, 11.70it/s]"
     ]
    },
    {
     "name": "stdout",
     "output_type": "stream",
     "text": [
      "https://wolnelektury.pl/media/book/txt/fraszki-ksiegi-pierwsze-do-marcina-a-wiec-by-ty-marcinie-prz.txt\n",
      "https://wolnelektury.pl/media/book/txt/fraszki-ksiegi-pierwsze-do-mikolaja-firleja-jesliby-w-moich-.txt\n",
      "https://wolnelektury.pl/media/book/txt/fraszki-ksiegi-pierwsze-do-mikolaja-mieleckiego-nie-dar-jaki.txt\n"
     ]
    },
    {
     "name": "stderr",
     "output_type": "stream",
     "text": [
      " 23%|██▎       | 1313/5750 [01:52<06:19, 11.71it/s]"
     ]
    },
    {
     "name": "stdout",
     "output_type": "stream",
     "text": [
      "https://wolnelektury.pl/media/book/txt/fraszki-ksiegi-pierwsze-do-milosci-chyba-w-serce-milosci-pro.txt\n",
      "https://wolnelektury.pl/media/book/txt/fraszki-ksiegi-pierwsze-do-paniej-co-usty-mowisz-bys-w-sercu.txt\n",
      "https://wolnelektury.pl/media/book/txt/fraszki-ksiegi-pierwsze-do-paniej-imie-twe-pani-ktore-rad-mi.txt\n"
     ]
    },
    {
     "name": "stderr",
     "output_type": "stream",
     "text": [
      "\r",
      " 23%|██▎       | 1315/5750 [01:52<06:18, 11.71it/s]"
     ]
    },
    {
     "name": "stdout",
     "output_type": "stream",
     "text": [
      "https://wolnelektury.pl/media/book/txt/fraszki-ksiegi-pierwsze-do-paniej-pani-jako-nadobna-tak-tez-.txt\n",
      "https://wolnelektury.pl/media/book/txt/fraszki-ksiegi-pierwsze-do-pawelka.txt\n",
      "https://wolnelektury.pl/media/book/txt/fraszki-ksiegi-pierwsze-do-pawla-dobra-to-pawle-mozesz-wierz.txt\n"
     ]
    },
    {
     "name": "stderr",
     "output_type": "stream",
     "text": [
      " 23%|██▎       | 1319/5750 [01:52<06:18, 11.71it/s]"
     ]
    },
    {
     "name": "stdout",
     "output_type": "stream",
     "text": [
      "https://wolnelektury.pl/media/book/txt/fraszki-ksiegi-pierwsze-do-pawla-pawle-rzecz-pewna-u-twego-s.txt\n",
      "https://wolnelektury.pl/media/book/txt/fraszki-ksiegi-pierwsze-do-pawla-stepowskiego.txt\n",
      "https://wolnelektury.pl/media/book/txt/fraszki-ksiegi-pierwsze-do-stanislawa-co-mi-sybilla-prorokuj.txt\n",
      "https://wolnelektury.pl/media/book/txt/fraszki-ksiegi-pierwsze-do-walka.txt\n"
     ]
    },
    {
     "name": "stderr",
     "output_type": "stream",
     "text": [
      " 23%|██▎       | 1323/5750 [01:52<06:17, 11.71it/s]"
     ]
    },
    {
     "name": "stdout",
     "output_type": "stream",
     "text": [
      "https://wolnelektury.pl/media/book/txt/fraszki-ksiegi-pierwsze-drugie-temuz-hiszpany-wlochy-i-niemc.txt\n",
      "https://wolnelektury.pl/media/book/txt/fraszki-ksiegi-pierwsze-epitafium-dziecieciu-bylem-ojcem-nie.txt\n",
      "https://wolnelektury.pl/media/book/txt/fraszki-ksiegi-pierwsze-epitafium-dziecieciu-ojcze-nade-mna-.txt\n",
      "https://wolnelektury.pl/media/book/txt/fraszki-ksiegi-pierwsze-epitafium-jedrzejowi-zelislawskiemu.txt\n"
     ]
    },
    {
     "name": "stderr",
     "output_type": "stream",
     "text": [
      " 23%|██▎       | 1327/5750 [01:53<06:17, 11.72it/s]"
     ]
    },
    {
     "name": "stdout",
     "output_type": "stream",
     "text": [
      "https://wolnelektury.pl/media/book/txt/fraszki-ksiegi-pierwsze-epitafium-kosowi.txt\n",
      "https://wolnelektury.pl/media/book/txt/fraszki-ksiegi-pierwsze-epitafium-krysztofowi-sienienskiemu.txt\n",
      "https://wolnelektury.pl/media/book/txt/fraszki-ksiegi-pierwsze-epitafium-wojciechowi-kryskiemu.txt\n"
     ]
    },
    {
     "name": "stderr",
     "output_type": "stream",
     "text": [
      " 23%|██▎       | 1331/5750 [01:53<06:16, 11.73it/s]"
     ]
    },
    {
     "name": "stdout",
     "output_type": "stream",
     "text": [
      "https://wolnelektury.pl/media/book/txt/fraszki-ksiegi-pierwsze-epitafium-wysockiemu.txt\n",
      "https://wolnelektury.pl/media/book/txt/fraszki-ksiegi-pierwsze-na-barbare.txt\n",
      "https://wolnelektury.pl/media/book/txt/fraszki-ksiegi-pierwsze-na-butnego.txt\n",
      "https://wolnelektury.pl/media/book/txt/fraszki-ksiegi-pierwsze-na-fortune.txt\n"
     ]
    },
    {
     "name": "stderr",
     "output_type": "stream",
     "text": [
      " 23%|██▎       | 1335/5750 [01:53<06:16, 11.74it/s]"
     ]
    },
    {
     "name": "stdout",
     "output_type": "stream",
     "text": [
      "https://wolnelektury.pl/media/book/txt/fraszki-ksiegi-pierwsze-na-frasowne.txt\n",
      "https://wolnelektury.pl/media/book/txt/fraszki-ksiegi-pierwsze-na-frasownego.txt\n",
      "https://wolnelektury.pl/media/book/txt/fraszki-ksiegi-pierwsze-na-gospodarza.txt\n",
      "https://wolnelektury.pl/media/book/txt/fraszki-ksiegi-pierwsze-na-grzebien.txt\n"
     ]
    },
    {
     "name": "stderr",
     "output_type": "stream",
     "text": [
      "\r",
      " 23%|██▎       | 1337/5750 [01:53<06:15, 11.74it/s]"
     ]
    },
    {
     "name": "stdout",
     "output_type": "stream",
     "text": [
      "https://wolnelektury.pl/media/book/txt/fraszki-ksiegi-pierwsze-na-hardego-nie-badz-mi-hardym-chocia.txt\n",
      "https://wolnelektury.pl/media/book/txt/fraszki-ksiegi-pierwsze-na-hardego-nie-chce-w-tej-mierze-glo.txt\n",
      "https://wolnelektury.pl/media/book/txt/fraszki-ksiegi-pierwsze-na-kogos.txt\n"
     ]
    },
    {
     "name": "stderr",
     "output_type": "stream",
     "text": [
      " 23%|██▎       | 1341/5750 [01:54<06:15, 11.75it/s]"
     ]
    },
    {
     "name": "stdout",
     "output_type": "stream",
     "text": [
      "https://wolnelektury.pl/media/book/txt/fraszki-ksiegi-pierwsze-na-konrata.txt\n",
      "https://wolnelektury.pl/media/book/txt/fraszki-ksiegi-pierwsze-na-lakome.txt\n",
      "https://wolnelektury.pl/media/book/txt/fraszki-ksiegi-pierwsze-na-matematyka.txt\n"
     ]
    },
    {
     "name": "stderr",
     "output_type": "stream",
     "text": [
      "\r",
      " 23%|██▎       | 1343/5750 [01:54<06:15, 11.74it/s]"
     ]
    },
    {
     "name": "stdout",
     "output_type": "stream",
     "text": [
      "https://wolnelektury.pl/media/book/txt/fraszki-ksiegi-pierwsze-na-matusza.txt\n",
      "https://wolnelektury.pl/media/book/txt/fraszki-ksiegi-pierwsze-na-miernika.txt\n",
      "https://wolnelektury.pl/media/book/txt/fraszki-ksiegi-pierwsze-na-mlodosc.txt\n"
     ]
    },
    {
     "name": "stderr",
     "output_type": "stream",
     "text": [
      " 23%|██▎       | 1347/5750 [01:54<06:14, 11.75it/s]"
     ]
    },
    {
     "name": "stdout",
     "output_type": "stream",
     "text": [
      "https://wolnelektury.pl/media/book/txt/fraszki-ksiegi-pierwsze-na-nabozna.txt\n",
      "https://wolnelektury.pl/media/book/txt/fraszki-ksiegi-pierwsze-na-nieodpowiedna.txt\n",
      "https://wolnelektury.pl/media/book/txt/fraszki-ksiegi-pierwsze-na-nieslowna.txt\n",
      "https://wolnelektury.pl/media/book/txt/fraszki-ksiegi-pierwsze-na-nieslownego.txt\n"
     ]
    },
    {
     "name": "stderr",
     "output_type": "stream",
     "text": [
      " 23%|██▎       | 1351/5750 [01:54<06:14, 11.76it/s]"
     ]
    },
    {
     "name": "stdout",
     "output_type": "stream",
     "text": [
      "https://wolnelektury.pl/media/book/txt/fraszki-ksiegi-pierwsze-na-pany.txt\n",
      "https://wolnelektury.pl/media/book/txt/fraszki-ksiegi-pierwsze-na-pieszczone-ziemiany.txt\n",
      "https://wolnelektury.pl/media/book/txt/fraszki-ksiegi-pierwsze-na-pijanego.txt\n"
     ]
    },
    {
     "name": "stderr",
     "output_type": "stream",
     "text": [
      "\r",
      " 24%|██▎       | 1353/5750 [01:55<06:13, 11.76it/s]"
     ]
    },
    {
     "name": "stdout",
     "output_type": "stream",
     "text": [
      "https://wolnelektury.pl/media/book/txt/fraszki-ksiegi-pierwsze-na-poduszke.txt\n",
      "https://wolnelektury.pl/media/book/txt/fraszki-ksiegi-pierwsze-na-posla-papieskiego.txt\n",
      "https://wolnelektury.pl/media/book/txt/fraszki-ksiegi-pierwsze-na-slase.txt\n"
     ]
    },
    {
     "name": "stderr",
     "output_type": "stream",
     "text": [
      " 24%|██▎       | 1357/5750 [01:55<06:13, 11.76it/s]"
     ]
    },
    {
     "name": "stdout",
     "output_type": "stream",
     "text": [
      "https://wolnelektury.pl/media/book/txt/fraszki-ksiegi-pierwsze-na-smierc.txt\n",
      "https://wolnelektury.pl/media/book/txt/fraszki-ksiegi-pierwsze-na-sokalskie-mogily.txt\n",
      "https://wolnelektury.pl/media/book/txt/fraszki-ksiegi-pierwsze-na-stara.txt\n"
     ]
    },
    {
     "name": "stderr",
     "output_type": "stream",
     "text": [
      " 24%|██▎       | 1361/5750 [01:55<06:12, 11.77it/s]"
     ]
    },
    {
     "name": "stdout",
     "output_type": "stream",
     "text": [
      "https://wolnelektury.pl/media/book/txt/fraszki-ksiegi-pierwsze-na-starosc.txt\n",
      "https://wolnelektury.pl/media/book/txt/fraszki-ksiegi-pierwsze-na-stryja.txt\n",
      "https://wolnelektury.pl/media/book/txt/fraszki-ksiegi-pierwsze-na-swietego-ojca.txt\n",
      "https://wolnelektury.pl/media/book/txt/fraszki-ksiegi-pierwsze-na-swoje-ksiegi.txt\n"
     ]
    },
    {
     "name": "stderr",
     "output_type": "stream",
     "text": [
      " 24%|██▎       | 1365/5750 [01:55<06:12, 11.78it/s]"
     ]
    },
    {
     "name": "stdout",
     "output_type": "stream",
     "text": [
      "https://wolnelektury.pl/media/book/txt/fraszki-ksiegi-pierwsze-na-uczte.txt\n",
      "https://wolnelektury.pl/media/book/txt/fraszki-ksiegi-pierwsze-na-utratne.txt\n",
      "https://wolnelektury.pl/media/book/txt/fraszki-ksiegi-pierwsze-o-chlopcu.txt\n",
      "https://wolnelektury.pl/media/book/txt/fraszki-ksiegi-pierwsze-o-chmielu.txt\n"
     ]
    },
    {
     "name": "stderr",
     "output_type": "stream",
     "text": [
      "\r",
      " 24%|██▍       | 1367/5750 [01:56<06:12, 11.78it/s]"
     ]
    },
    {
     "name": "stdout",
     "output_type": "stream",
     "text": [
      "https://wolnelektury.pl/media/book/txt/fraszki-ksiegi-pierwsze-o-dobrym-panie.txt\n",
      "https://wolnelektury.pl/media/book/txt/fraszki-ksiegi-pierwsze-o-doktorze-hiszpanie.txt\n",
      "https://wolnelektury.pl/media/book/txt/fraszki-ksiegi-pierwsze-o-fraszkach-komu-sto-fraszek-zda-sie.txt\n"
     ]
    },
    {
     "name": "stderr",
     "output_type": "stream",
     "text": [
      " 24%|██▍       | 1371/5750 [01:56<06:11, 11.79it/s]"
     ]
    },
    {
     "name": "stdout",
     "output_type": "stream",
     "text": [
      "https://wolnelektury.pl/media/book/txt/fraszki-ksiegi-pierwsze-o-fraszkach-najdziesz-tu-fraszke-dob.txt\n",
      "https://wolnelektury.pl/media/book/txt/fraszki-ksiegi-pierwsze-o-gospodyniej-proszono-jednej-wielki.txt\n",
      "https://wolnelektury.pl/media/book/txt/fraszki-ksiegi-pierwsze-o-gospodyniej-starosta-jednej-paniej.txt\n"
     ]
    },
    {
     "name": "stderr",
     "output_type": "stream",
     "text": [
      "\r",
      " 24%|██▍       | 1373/5750 [01:56<06:11, 11.79it/s]"
     ]
    },
    {
     "name": "stdout",
     "output_type": "stream",
     "text": [
      "https://wolnelektury.pl/media/book/txt/fraszki-ksiegi-pierwsze-o-hannie-serce-mi-zbieglo-a-nie-wiem.txt\n",
      "https://wolnelektury.pl/media/book/txt/fraszki-ksiegi-pierwsze-o-hannie-tu-gora-drzewy-natkniona.txt\n",
      "https://wolnelektury.pl/media/book/txt/fraszki-ksiegi-pierwsze-o-jedrzeju.txt\n"
     ]
    },
    {
     "name": "stderr",
     "output_type": "stream",
     "text": [
      " 24%|██▍       | 1377/5750 [01:56<06:10, 11.80it/s]"
     ]
    },
    {
     "name": "stdout",
     "output_type": "stream",
     "text": [
      "https://wolnelektury.pl/media/book/txt/fraszki-ksiegi-pierwsze-o-kachnie.txt\n",
      "https://wolnelektury.pl/media/book/txt/fraszki-ksiegi-pierwsze-o-kocie.txt\n",
      "https://wolnelektury.pl/media/book/txt/fraszki-ksiegi-pierwsze-o-ksiedzu.txt\n",
      "https://wolnelektury.pl/media/book/txt/fraszki-ksiegi-pierwsze-o-lazickim-a-barzym.txt\n"
     ]
    },
    {
     "name": "stderr",
     "output_type": "stream",
     "text": [
      " 24%|██▍       | 1381/5750 [01:57<06:10, 11.80it/s]"
     ]
    },
    {
     "name": "stdout",
     "output_type": "stream",
     "text": [
      "https://wolnelektury.pl/media/book/txt/fraszki-ksiegi-pierwsze-o-liscie.txt\n",
      "https://wolnelektury.pl/media/book/txt/fraszki-ksiegi-pierwsze-o-milosci-prozno-uciec-prozno-sie-pr.txt\n",
      "https://wolnelektury.pl/media/book/txt/fraszki-ksiegi-pierwsze-o-pralacie.txt\n"
     ]
    },
    {
     "name": "stderr",
     "output_type": "stream",
     "text": [
      "\r",
      " 24%|██▍       | 1383/5750 [01:57<06:09, 11.81it/s]"
     ]
    },
    {
     "name": "stdout",
     "output_type": "stream",
     "text": [
      "https://wolnelektury.pl/media/book/txt/fraszki-ksiegi-pierwsze-o-slachcicu-polskim.txt\n",
      "https://wolnelektury.pl/media/book/txt/fraszki-ksiegi-pierwsze-o-smierci.txt\n",
      "https://wolnelektury.pl/media/book/txt/fraszki-ksiegi-pierwsze-o-sobie.txt\n"
     ]
    },
    {
     "name": "stderr",
     "output_type": "stream",
     "text": [
      " 24%|██▍       | 1387/5750 [01:57<06:09, 11.81it/s]"
     ]
    },
    {
     "name": "stdout",
     "output_type": "stream",
     "text": [
      "https://wolnelektury.pl/media/book/txt/fraszki-ksiegi-pierwsze-o-staszku.txt\n",
      "https://wolnelektury.pl/media/book/txt/fraszki-ksiegi-pierwsze-o-tymze-wczora-pil-z-nami-a-dzis-go-.txt\n",
      "https://wolnelektury.pl/media/book/txt/fraszki-ksiegi-pierwsze-o-tymze-wierze-od-poczatku-swiata.txt\n",
      "https://wolnelektury.pl/media/book/txt/fraszki-ksiegi-pierwsze-o-zazdrosci.txt\n"
     ]
    },
    {
     "name": "stderr",
     "output_type": "stream",
     "text": [
      " 24%|██▍       | 1391/5750 [01:57<06:08, 11.82it/s]"
     ]
    },
    {
     "name": "stdout",
     "output_type": "stream",
     "text": [
      "https://wolnelektury.pl/media/book/txt/fraszki-ksiegi-pierwsze-o-zywocie-ludzkim-fraszki-to-wszytko.txt\n",
      "https://wolnelektury.pl/media/book/txt/fraszki-ksiegi-pierwsze-o-zywocie-ludzkim-wieczna-mysli-ktor.txt\n",
      "https://wolnelektury.pl/media/book/txt/fraszki-ksiegi-pierwsze-ofiara-luk-i-sajdak-twoj-febe-niech-.txt\n"
     ]
    },
    {
     "name": "stderr",
     "output_type": "stream",
     "text": [
      " 24%|██▍       | 1395/5750 [01:57<06:08, 11.82it/s]"
     ]
    },
    {
     "name": "stdout",
     "output_type": "stream",
     "text": [
      "https://wolnelektury.pl/media/book/txt/fraszki-ksiegi-pierwsze-raki.txt\n",
      "https://wolnelektury.pl/media/book/txt/fraszki-ksiegi-pierwsze-sen.txt\n",
      "https://wolnelektury.pl/media/book/txt/fraszki-ksiegi-pierwsze-z-anakreonta-ciezko-kto-nie-miluje-c.txt\n",
      "https://wolnelektury.pl/media/book/txt/fraszki-ksiegi-pierwsze-z-anakreonta-ja-chce-spiewac-krwawe-.txt\n"
     ]
    },
    {
     "name": "stderr",
     "output_type": "stream",
     "text": [
      " 24%|██▍       | 1399/5750 [01:58<06:07, 11.83it/s]"
     ]
    },
    {
     "name": "stdout",
     "output_type": "stream",
     "text": [
      "https://wolnelektury.pl/media/book/txt/fraszki-ksiegi-pierwsze-z-anakreonta-kiedy-by-worek-bogatego.txt\n",
      "https://wolnelektury.pl/media/book/txt/fraszki-ksiegi-pierwsze-z-anakreonta-prozno-sie-mam-odejmowa.txt\n",
      "https://wolnelektury.pl/media/book/txt/fraszki-ksiegi-pierwsze-za-pijanicami.txt\n",
      "https://wolnelektury.pl/media/book/txt/fraszki-ksiegi-trzecie.txt\n"
     ]
    },
    {
     "name": "stderr",
     "output_type": "stream",
     "text": [
      "\r",
      " 24%|██▍       | 1401/5750 [01:58<06:07, 11.84it/s]"
     ]
    },
    {
     "name": "stdout",
     "output_type": "stream",
     "text": [
      "https://wolnelektury.pl/media/book/txt/fraszki-ksiegi-trzecie-czlowiek-boze-igrzysko.txt\n",
      "https://wolnelektury.pl/media/book/txt/fraszki-ksiegi-trzecie-do-doktora-fraszka-a-doktor-to-sa-dwi.txt\n",
      "https://wolnelektury.pl/media/book/txt/fraszki-ksiegi-trzecie-do-dziewki-jesli-to-rada-widzisz-a-zy.txt\n"
     ]
    },
    {
     "name": "stderr",
     "output_type": "stream",
     "text": [
      " 24%|██▍       | 1405/5750 [01:58<06:06, 11.84it/s]"
     ]
    },
    {
     "name": "stdout",
     "output_type": "stream",
     "text": [
      "https://wolnelektury.pl/media/book/txt/fraszki-ksiegi-trzecie-do-dziewki-nie-uciekaj-przede-mna-dzi.txt\n",
      "https://wolnelektury.pl/media/book/txt/fraszki-ksiegi-trzecie-do-fraszek-fraszki-nieprzeplacone-wdz.txt\n",
      "https://wolnelektury.pl/media/book/txt/fraszki-ksiegi-trzecie-do-gor-i-lasow.txt\n"
     ]
    },
    {
     "name": "stderr",
     "output_type": "stream",
     "text": [
      " 25%|██▍       | 1409/5750 [01:58<06:06, 11.85it/s]"
     ]
    },
    {
     "name": "stdout",
     "output_type": "stream",
     "text": [
      "https://wolnelektury.pl/media/book/txt/fraszki-ksiegi-trzecie-do-goscia-gosciu-tak-jakos-poczal-juz.txt\n",
      "https://wolnelektury.pl/media/book/txt/fraszki-ksiegi-trzecie-do-goscia-gosciu-wlasna-twarz-widzisz.txt\n",
      "https://wolnelektury.pl/media/book/txt/fraszki-ksiegi-trzecie-do-gospodarza-nie-badz-gosciem-u-sieb.txt\n",
      "https://wolnelektury.pl/media/book/txt/fraszki-ksiegi-trzecie-do-jadama-konarskiego-biskupa-poznans.txt\n"
     ]
    },
    {
     "name": "stderr",
     "output_type": "stream",
     "text": [
      "\r",
      " 25%|██▍       | 1411/5750 [01:59<06:06, 11.85it/s]"
     ]
    },
    {
     "name": "stdout",
     "output_type": "stream",
     "text": [
      "https://wolnelektury.pl/media/book/txt/fraszki-ksiegi-trzecie-do-jana-janie-cierp-jako-mozesz-przyj.txt\n",
      "https://wolnelektury.pl/media/book/txt/fraszki-ksiegi-trzecie-do-jana-jesli-stad-jaka-rozkosz-ma-cz.txt\n",
      "https://wolnelektury.pl/media/book/txt/fraszki-ksiegi-trzecie-do-kachny-choc-znasz-uczynnosc-moje-i.txt\n"
     ]
    },
    {
     "name": "stderr",
     "output_type": "stream",
     "text": [
      " 25%|██▍       | 1415/5750 [01:59<06:05, 11.86it/s]"
     ]
    },
    {
     "name": "stdout",
     "output_type": "stream",
     "text": [
      "https://wolnelektury.pl/media/book/txt/fraszki-ksiegi-trzecie-do-kachny-po-sukni-znam-zalobe-znam-i.txt\n",
      "https://wolnelektury.pl/media/book/txt/fraszki-ksiegi-trzecie-do-kaznodzieja.txt\n",
      "https://wolnelektury.pl/media/book/txt/fraszki-ksiegi-trzecie-do-kogos.txt\n",
      "https://wolnelektury.pl/media/book/txt/fraszki-ksiegi-trzecie-do-lask.txt\n"
     ]
    },
    {
     "name": "stderr",
     "output_type": "stream",
     "text": [
      " 25%|██▍       | 1419/5750 [01:59<06:05, 11.86it/s]"
     ]
    },
    {
     "name": "stdout",
     "output_type": "stream",
     "text": [
      "https://wolnelektury.pl/media/book/txt/fraszki-ksiegi-trzecie-do-lubomira.txt\n",
      "https://wolnelektury.pl/media/book/txt/fraszki-ksiegi-trzecie-do-magdaleny.txt\n",
      "https://wolnelektury.pl/media/book/txt/fraszki-ksiegi-trzecie-do-mikolaja-firleja-malo-na-tym-ze-mo.txt\n"
     ]
    },
    {
     "name": "stderr",
     "output_type": "stream",
     "text": [
      " 25%|██▍       | 1423/5750 [01:59<06:04, 11.87it/s]"
     ]
    },
    {
     "name": "stdout",
     "output_type": "stream",
     "text": [
      "https://wolnelektury.pl/media/book/txt/fraszki-ksiegi-trzecie-do-mikolaja-wolskiego.txt\n",
      "https://wolnelektury.pl/media/book/txt/fraszki-ksiegi-trzecie-do-milosci-dlugoz-masz-o-milosci-fras.txt\n",
      "https://wolnelektury.pl/media/book/txt/fraszki-ksiegi-trzecie-do-milosci-gdzie-teraz-ono-jablko-i-o.txt\n"
     ]
    },
    {
     "name": "stderr",
     "output_type": "stream",
     "text": [
      "\r",
      " 25%|██▍       | 1425/5750 [02:00<06:04, 11.87it/s]"
     ]
    },
    {
     "name": "stdout",
     "output_type": "stream",
     "text": [
      "https://wolnelektury.pl/media/book/txt/fraszki-ksiegi-trzecie-do-milosci-jam-przegral-ja-milosci-ty.txt\n",
      "https://wolnelektury.pl/media/book/txt/fraszki-ksiegi-trzecie-do-milosci-matko-skrzydlatych-milosci.txt\n",
      "https://wolnelektury.pl/media/book/txt/fraszki-ksiegi-trzecie-do-opata.txt\n"
     ]
    },
    {
     "name": "stderr",
     "output_type": "stream",
     "text": [
      "\r",
      " 25%|██▍       | 1427/5750 [02:00<06:04, 11.87it/s]"
     ]
    },
    {
     "name": "stdout",
     "output_type": "stream",
     "text": [
      "https://wolnelektury.pl/media/book/txt/fraszki-ksiegi-trzecie-do-pana-bog-tylko-ludzkie-mysli-wiedz.txt\n",
      "https://wolnelektury.pl/media/book/txt/fraszki-ksiegi-trzecie-do-pana-panie-co-dobrze-raczy-dac-z-s.txt\n",
      "https://wolnelektury.pl/media/book/txt/fraszki-ksiegi-trzecie-do-pawla-chcialem-ci-pomagabog-kilkak.txt\n"
     ]
    },
    {
     "name": "stderr",
     "output_type": "stream",
     "text": [
      " 25%|██▍       | 1431/5750 [02:00<06:03, 11.88it/s]"
     ]
    },
    {
     "name": "stdout",
     "output_type": "stream",
     "text": [
      "https://wolnelektury.pl/media/book/txt/fraszki-ksiegi-trzecie-do-pawla-pawle-nie-badz-tak-wielkim-p.txt\n",
      "https://wolnelektury.pl/media/book/txt/fraszki-ksiegi-trzecie-do-poetow.txt\n",
      "https://wolnelektury.pl/media/book/txt/fraszki-ksiegi-trzecie-do-pryszki.txt\n"
     ]
    },
    {
     "name": "stderr",
     "output_type": "stream",
     "text": [
      " 25%|██▍       | 1435/5750 [02:00<06:03, 11.89it/s]"
     ]
    },
    {
     "name": "stdout",
     "output_type": "stream",
     "text": [
      "https://wolnelektury.pl/media/book/txt/fraszki-ksiegi-trzecie-do-reiny.txt\n",
      "https://wolnelektury.pl/media/book/txt/fraszki-ksiegi-trzecie-do-sasiada.txt\n",
      "https://wolnelektury.pl/media/book/txt/fraszki-ksiegi-trzecie-do-stanislawa-kto-pija-do-polnocy-bra.txt\n",
      "https://wolnelektury.pl/media/book/txt/fraszki-ksiegi-trzecie-do-stanislawa-wapowskiego.txt\n"
     ]
    },
    {
     "name": "stderr",
     "output_type": "stream",
     "text": [
      "\r",
      " 25%|██▍       | 1437/5750 [02:00<06:02, 11.89it/s]"
     ]
    },
    {
     "name": "stdout",
     "output_type": "stream",
     "text": [
      "https://wolnelektury.pl/media/book/txt/fraszki-ksiegi-trzecie-do-starosty.txt\n",
      "https://wolnelektury.pl/media/book/txt/fraszki-ksiegi-trzecie-do-starosty-muszynskiego.txt\n",
      "https://wolnelektury.pl/media/book/txt/fraszki-ksiegi-trzecie-do-waclawa-ostroroga.txt\n"
     ]
    },
    {
     "name": "stderr",
     "output_type": "stream",
     "text": [
      " 25%|██▌       | 1441/5750 [02:01<06:02, 11.90it/s]"
     ]
    },
    {
     "name": "stdout",
     "output_type": "stream",
     "text": [
      "https://wolnelektury.pl/media/book/txt/fraszki-ksiegi-trzecie-do-wojewody-zamieszkalem-do-stolu-twe.txt\n",
      "https://wolnelektury.pl/media/book/txt/fraszki-ksiegi-trzecie-do-zofijej.txt\n",
      "https://wolnelektury.pl/media/book/txt/fraszki-ksiegi-trzecie-drugi-mezu-moj-o-moj-mezu-smierc-niel.txt\n"
     ]
    },
    {
     "name": "stderr",
     "output_type": "stream",
     "text": [
      " 25%|██▌       | 1445/5750 [02:01<06:01, 11.90it/s]"
     ]
    },
    {
     "name": "stdout",
     "output_type": "stream",
     "text": [
      "https://wolnelektury.pl/media/book/txt/fraszki-ksiegi-trzecie-epitafium-erazmowi-kroczewskiemu-kuch.txt\n",
      "https://wolnelektury.pl/media/book/txt/fraszki-ksiegi-trzecie-epitafium-grzegorzowi-podlodowskiemu-.txt\n",
      "https://wolnelektury.pl/media/book/txt/fraszki-ksiegi-trzecie-epitafium-jostowi-glacowi.txt\n",
      "https://wolnelektury.pl/media/book/txt/fraszki-ksiegi-trzecie-gadka.txt\n"
     ]
    },
    {
     "name": "stderr",
     "output_type": "stream",
     "text": [
      " 25%|██▌       | 1449/5750 [02:01<06:01, 11.91it/s]"
     ]
    },
    {
     "name": "stdout",
     "output_type": "stream",
     "text": [
      "https://wolnelektury.pl/media/book/txt/fraszki-ksiegi-trzecie-malemu-wielkiej-nadzieje-radziwillowi.txt\n",
      "https://wolnelektury.pl/media/book/txt/fraszki-ksiegi-trzecie-marcinowa-powiesc.txt\n",
      "https://wolnelektury.pl/media/book/txt/fraszki-ksiegi-trzecie-modlitwa-o-deszcz.txt\n",
      "https://wolnelektury.pl/media/book/txt/fraszki-ksiegi-trzecie-na-dom-w-czarnolesie.txt\n"
     ]
    },
    {
     "name": "stderr",
     "output_type": "stream",
     "text": [
      " 25%|██▌       | 1453/5750 [02:01<06:00, 11.91it/s]"
     ]
    },
    {
     "name": "stdout",
     "output_type": "stream",
     "text": [
      "https://wolnelektury.pl/media/book/txt/fraszki-ksiegi-trzecie-na-heretyki.txt\n",
      "https://wolnelektury.pl/media/book/txt/fraszki-ksiegi-trzecie-na-lipe-przypatrz-sie-gosciu-jako-on-.txt\n",
      "https://wolnelektury.pl/media/book/txt/fraszki-ksiegi-trzecie-na-lipe-uczony-gosciu-jesli-sprawa-me.txt\n"
     ]
    },
    {
     "name": "stderr",
     "output_type": "stream",
     "text": [
      "\r",
      " 25%|██▌       | 1455/5750 [02:02<06:00, 11.92it/s]"
     ]
    },
    {
     "name": "stdout",
     "output_type": "stream",
     "text": [
      "https://wolnelektury.pl/media/book/txt/fraszki-ksiegi-trzecie-na-sklenice.txt\n",
      "https://wolnelektury.pl/media/book/txt/fraszki-ksiegi-trzecie-na-slup-kamienny.txt\n",
      "https://wolnelektury.pl/media/book/txt/fraszki-ksiegi-trzecie-na-zdrowie.txt\n"
     ]
    },
    {
     "name": "stderr",
     "output_type": "stream",
     "text": [
      " 25%|██▌       | 1459/5750 [02:02<05:59, 11.92it/s]"
     ]
    },
    {
     "name": "stdout",
     "output_type": "stream",
     "text": [
      "https://wolnelektury.pl/media/book/txt/fraszki-ksiegi-trzecie-nagrobek-dwiema-braciej.txt\n",
      "https://wolnelektury.pl/media/book/txt/fraszki-ksiegi-trzecie-nagrobek-gasce.txt\n",
      "https://wolnelektury.pl/media/book/txt/fraszki-ksiegi-trzecie-nagrobek-hannie-spinkowej-od-meza.txt\n"
     ]
    },
    {
     "name": "stderr",
     "output_type": "stream",
     "text": [
      "\r",
      " 25%|██▌       | 1461/5750 [02:02<05:59, 11.93it/s]"
     ]
    },
    {
     "name": "stdout",
     "output_type": "stream",
     "text": [
      "https://wolnelektury.pl/media/book/txt/fraszki-ksiegi-trzecie-nagrobek-jej-m-p-wojewodzinej-lubelsk.txt\n",
      "https://wolnelektury.pl/media/book/txt/fraszki-ksiegi-trzecie-nagrobek-koniowi.txt\n",
      "https://wolnelektury.pl/media/book/txt/fraszki-ksiegi-trzecie-nagrobek-kotowi.txt\n"
     ]
    },
    {
     "name": "stderr",
     "output_type": "stream",
     "text": [
      "\r",
      " 25%|██▌       | 1463/5750 [02:02<05:59, 11.93it/s]"
     ]
    },
    {
     "name": "stdout",
     "output_type": "stream",
     "text": [
      "https://wolnelektury.pl/media/book/txt/fraszki-ksiegi-trzecie-nagrobek-piotrowi.txt\n",
      "https://wolnelektury.pl/media/book/txt/fraszki-ksiegi-trzecie-nagrobek-rozynie.txt\n",
      "https://wolnelektury.pl/media/book/txt/fraszki-ksiegi-trzecie-nagrobek-stanislawowi-strusowi.txt\n"
     ]
    },
    {
     "name": "stderr",
     "output_type": "stream",
     "text": [
      " 26%|██▌       | 1467/5750 [02:02<05:58, 11.93it/s]"
     ]
    },
    {
     "name": "stdout",
     "output_type": "stream",
     "text": [
      "https://wolnelektury.pl/media/book/txt/fraszki-ksiegi-trzecie-o-blaznie.txt\n",
      "https://wolnelektury.pl/media/book/txt/fraszki-ksiegi-trzecie-o-duszy.txt\n",
      "https://wolnelektury.pl/media/book/txt/fraszki-ksiegi-trzecie-o-flisie.txt\n"
     ]
    },
    {
     "name": "stderr",
     "output_type": "stream",
     "text": [
      "\r",
      " 26%|██▌       | 1469/5750 [02:03<05:58, 11.94it/s]"
     ]
    },
    {
     "name": "stdout",
     "output_type": "stream",
     "text": [
      "https://wolnelektury.pl/media/book/txt/fraszki-ksiegi-trzecie-o-fraszkach-fraszki-tu-niepowazne-z-s.txt\n",
      "https://wolnelektury.pl/media/book/txt/fraszki-ksiegi-trzecie-o-hektorze.txt\n",
      "https://wolnelektury.pl/media/book/txt/fraszki-ksiegi-trzecie-o-kaplanie.txt\n"
     ]
    },
    {
     "name": "stderr",
     "output_type": "stream",
     "text": [
      " 26%|██▌       | 1473/5750 [02:03<05:58, 11.94it/s]"
     ]
    },
    {
     "name": "stdout",
     "output_type": "stream",
     "text": [
      "https://wolnelektury.pl/media/book/txt/fraszki-ksiegi-trzecie-o-kolnierzu.txt\n",
      "https://wolnelektury.pl/media/book/txt/fraszki-ksiegi-trzecie-o-kozle.txt\n",
      "https://wolnelektury.pl/media/book/txt/fraszki-ksiegi-trzecie-o-laziebnikach.txt\n"
     ]
    },
    {
     "name": "stderr",
     "output_type": "stream",
     "text": [
      "\r",
      " 26%|██▌       | 1475/5750 [02:03<05:57, 11.94it/s]"
     ]
    },
    {
     "name": "stdout",
     "output_type": "stream",
     "text": [
      "https://wolnelektury.pl/media/book/txt/fraszki-ksiegi-trzecie-o-madrosci.txt\n",
      "https://wolnelektury.pl/media/book/txt/fraszki-ksiegi-trzecie-o-marku.txt\n",
      "https://wolnelektury.pl/media/book/txt/fraszki-ksiegi-trzecie-o-mikoszu.txt\n"
     ]
    },
    {
     "name": "stderr",
     "output_type": "stream",
     "text": [
      " 26%|██▌       | 1479/5750 [02:03<05:57, 11.95it/s]"
     ]
    },
    {
     "name": "stdout",
     "output_type": "stream",
     "text": [
      "https://wolnelektury.pl/media/book/txt/fraszki-ksiegi-trzecie-o-milosci-glod-a-praca-milosc-kazi.txt\n",
      "https://wolnelektury.pl/media/book/txt/fraszki-ksiegi-trzecie-o-milosci-ma-juz-pokoj-prometeus-lecz.txt\n",
      "https://wolnelektury.pl/media/book/txt/fraszki-ksiegi-trzecie-o-necie.txt\n"
     ]
    },
    {
     "name": "stderr",
     "output_type": "stream",
     "text": [
      "\r",
      " 26%|██▌       | 1481/5750 [02:03<05:57, 11.95it/s]"
     ]
    },
    {
     "name": "stdout",
     "output_type": "stream",
     "text": [
      "https://wolnelektury.pl/media/book/txt/fraszki-ksiegi-trzecie-o-swych-rymiech.txt\n",
      "https://wolnelektury.pl/media/book/txt/fraszki-ksiegi-trzecie-o-tejze-jako-ogien-a-woda-rozno-siebi.txt\n",
      "https://wolnelektury.pl/media/book/txt/fraszki-ksiegi-trzecie-temuz-osmdziesiat-lat-a-to-jest-prawy.txt\n"
     ]
    },
    {
     "name": "stderr",
     "output_type": "stream",
     "text": [
      " 26%|██▌       | 1485/5750 [02:04<05:56, 11.96it/s]"
     ]
    },
    {
     "name": "stdout",
     "output_type": "stream",
     "text": [
      "https://wolnelektury.pl/media/book/txt/fraszki-ksiegi-trzecie-z-anakreonta-nie-dbalem-nigdy-o-zloto.txt\n",
      "https://wolnelektury.pl/media/book/txt/fraszki-ksiegi-trzecie-z-anakreonta-skoro-w-reke-wezme-czasz.txt\n",
      "https://wolnelektury.pl/media/book/txt/fraszki-ksiegi-trzecie-z-greckiego-samy-do-swej-obory-woly-r.txt\n"
     ]
    },
    {
     "name": "stderr",
     "output_type": "stream",
     "text": [
      " 26%|██▌       | 1489/5750 [02:04<05:56, 11.96it/s]"
     ]
    },
    {
     "name": "stdout",
     "output_type": "stream",
     "text": [
      "https://wolnelektury.pl/media/book/txt/fraszki-ksiegi-wtore.txt\n",
      "https://wolnelektury.pl/media/book/txt/fraszki-ksiegi-wtore-do-anakreonta.txt\n",
      "https://wolnelektury.pl/media/book/txt/fraszki-ksiegi-wtore-do-andrzeja-trzecieskiego.txt\n"
     ]
    },
    {
     "name": "stderr",
     "output_type": "stream",
     "text": [
      "\r",
      " 26%|██▌       | 1491/5750 [02:04<05:55, 11.97it/s]"
     ]
    },
    {
     "name": "stdout",
     "output_type": "stream",
     "text": [
      "https://wolnelektury.pl/media/book/txt/fraszki-ksiegi-wtore-do-anny-krolowi-rowien-a-jesli-sie-godz.txt\n",
      "https://wolnelektury.pl/media/book/txt/fraszki-ksiegi-wtore-do-anny-wczora-czekajac-na-twe-obietnic.txt\n",
      "https://wolnelektury.pl/media/book/txt/fraszki-ksiegi-wtore-do-bartosza.txt\n",
      "https://wolnelektury.pl/media/book/txt/fraszki-ksiegi-wtore-do-boginiej.txt\n"
     ]
    },
    {
     "name": "stderr",
     "output_type": "stream",
     "text": [
      " 26%|██▌       | 1495/5750 [02:04<05:55, 11.97it/s]"
     ]
    },
    {
     "name": "stdout",
     "output_type": "stream",
     "text": [
      "https://wolnelektury.pl/media/book/txt/fraszki-ksiegi-wtore-do-doktora-arcydoktorem-cie-zwac-kazdy-.txt\n",
      "https://wolnelektury.pl/media/book/txt/fraszki-ksiegi-wtore-do-doktora-montana.txt\n",
      "https://wolnelektury.pl/media/book/txt/fraszki-ksiegi-wtore-do-doktora-mowilem-ci-nie-nos-mi-tych-f.txt\n"
     ]
    },
    {
     "name": "stderr",
     "output_type": "stream",
     "text": [
      " 26%|██▌       | 1499/5750 [02:05<05:54, 11.98it/s]"
     ]
    },
    {
     "name": "stdout",
     "output_type": "stream",
     "text": [
      "https://wolnelektury.pl/media/book/txt/fraszki-ksiegi-wtore-do-doktora-nie-mam-ci-zacz-dziekowac-mo.txt\n",
      "https://wolnelektury.pl/media/book/txt/fraszki-ksiegi-wtore-do-doktora-nie-trzeba-mi-sie-wiele-dowi.txt\n",
      "https://wolnelektury.pl/media/book/txt/fraszki-ksiegi-wtore-do-doktora-nie-wiem-podobno-li-to-co-ku.txt\n",
      "https://wolnelektury.pl/media/book/txt/fraszki-ksiegi-wtore-do-druzby.txt\n"
     ]
    },
    {
     "name": "stderr",
     "output_type": "stream",
     "text": [
      "\r",
      " 26%|██▌       | 1501/5750 [02:05<05:54, 11.98it/s]"
     ]
    },
    {
     "name": "stdout",
     "output_type": "stream",
     "text": [
      "https://wolnelektury.pl/media/book/txt/fraszki-ksiegi-wtore-do-dziewki-a-co-wiedziec-gdzie-chodzisz.txt\n",
      "https://wolnelektury.pl/media/book/txt/fraszki-ksiegi-wtore-do-dziewki-daj-czegoc-nie-ubedzie-bys-n.txt\n"
     ]
    },
    {
     "name": "stderr",
     "output_type": "stream",
     "text": [
      "\r",
      " 26%|██▌       | 1503/5750 [02:05<05:54, 11.97it/s]"
     ]
    },
    {
     "name": "stdout",
     "output_type": "stream",
     "text": [
      "https://wolnelektury.pl/media/book/txt/fraszki-ksiegi-wtore-do-franciszka.txt\n",
      "https://wolnelektury.pl/media/book/txt/fraszki-ksiegi-wtore-do-fraszek-fraszki-moje-coscie-mi-dotad.txt\n",
      "https://wolnelektury.pl/media/book/txt/fraszki-ksiegi-wtore-do-fraszek-fraszki-za-wszeteczne-was-lu.txt\n"
     ]
    },
    {
     "name": "stderr",
     "output_type": "stream",
     "text": [
      " 26%|██▌       | 1507/5750 [02:05<05:54, 11.98it/s]"
     ]
    },
    {
     "name": "stdout",
     "output_type": "stream",
     "text": [
      "https://wolnelektury.pl/media/book/txt/fraszki-ksiegi-wtore-do-goscia-badz-ptaka-badz-zajaca-szukas.txt\n",
      "https://wolnelektury.pl/media/book/txt/fraszki-ksiegi-wtore-do-gospodarza-rad-sie-widze-u-ciebie-go.txt\n",
      "https://wolnelektury.pl/media/book/txt/fraszki-ksiegi-wtore-do-hanny-na-palcu-masz-dyjament-w-sercu.txt\n"
     ]
    },
    {
     "name": "stderr",
     "output_type": "stream",
     "text": [
      " 26%|██▋       | 1511/5750 [02:06<05:53, 11.98it/s]"
     ]
    },
    {
     "name": "stdout",
     "output_type": "stream",
     "text": [
      "https://wolnelektury.pl/media/book/txt/fraszki-ksiegi-wtore-do-jadwigi.txt\n",
      "https://wolnelektury.pl/media/book/txt/fraszki-ksiegi-wtore-do-jana-janie-moj-druzba.txt\n",
      "https://wolnelektury.pl/media/book/txt/fraszki-ksiegi-wtore-do-jedrzeja-a-coz-radzisz-jedrzeju-wsza.txt\n",
      "https://wolnelektury.pl/media/book/txt/fraszki-ksiegi-wtore-do-jedrzeja-ktory-moj-nieprzyjaciel-i-c.txt\n"
     ]
    },
    {
     "name": "stderr",
     "output_type": "stream",
     "text": [
      " 26%|██▋       | 1515/5750 [02:06<05:53, 11.99it/s]"
     ]
    },
    {
     "name": "stdout",
     "output_type": "stream",
     "text": [
      "https://wolnelektury.pl/media/book/txt/fraszki-ksiegi-wtore-do-jedrzeja-patrycego.txt\n",
      "https://wolnelektury.pl/media/book/txt/fraszki-ksiegi-wtore-do-josta-twoj-mi-brat-jostcie-powiada-o.txt\n",
      "https://wolnelektury.pl/media/book/txt/fraszki-ksiegi-wtore-do-marcina-filozofi-co-nad-nas-uszy-lep.txt\n",
      "https://wolnelektury.pl/media/book/txt/fraszki-ksiegi-wtore-do-mikolaja-mieleckiego-na-swe-zles-mie.txt\n"
     ]
    },
    {
     "name": "stderr",
     "output_type": "stream",
     "text": [
      " 26%|██▋       | 1519/5750 [02:06<05:52, 12.00it/s]"
     ]
    },
    {
     "name": "stdout",
     "output_type": "stream",
     "text": [
      "https://wolnelektury.pl/media/book/txt/fraszki-ksiegi-wtore-do-montana.txt\n",
      "https://wolnelektury.pl/media/book/txt/fraszki-ksiegi-wtore-do-nieznajomego.txt\n",
      "https://wolnelektury.pl/media/book/txt/fraszki-ksiegi-wtore-do-paniej-slyszcie-pani-te-fraszki-co-t.txt\n",
      "https://wolnelektury.pl/media/book/txt/fraszki-ksiegi-wtore-do-petryla.txt\n"
     ]
    },
    {
     "name": "stderr",
     "output_type": "stream",
     "text": [
      " 26%|██▋       | 1523/5750 [02:06<05:52, 12.00it/s]"
     ]
    },
    {
     "name": "stdout",
     "output_type": "stream",
     "text": [
      "https://wolnelektury.pl/media/book/txt/fraszki-ksiegi-wtore-do-piotra-kloczowskiego.txt\n",
      "https://wolnelektury.pl/media/book/txt/fraszki-ksiegi-wtore-do-pluta.txt\n",
      "https://wolnelektury.pl/media/book/txt/fraszki-ksiegi-wtore-do-przyjaciela-jednego-chciec-i-nie-chc.txt\n",
      "https://wolnelektury.pl/media/book/txt/fraszki-ksiegi-wtore-do-przyjaciela-nie-frasuj-sobie-przyjac.txt\n"
     ]
    },
    {
     "name": "stderr",
     "output_type": "stream",
     "text": [
      " 27%|██▋       | 1527/5750 [02:07<05:51, 12.01it/s]"
     ]
    },
    {
     "name": "stdout",
     "output_type": "stream",
     "text": [
      "https://wolnelektury.pl/media/book/txt/fraszki-ksiegi-wtore-do-pszczol.txt\n",
      "https://wolnelektury.pl/media/book/txt/fraszki-ksiegi-wtore-do-snu.txt\n",
      "https://wolnelektury.pl/media/book/txt/fraszki-ksiegi-wtore-do-stanislawa-meglewskiego.txt\n",
      "https://wolnelektury.pl/media/book/txt/fraszki-ksiegi-wtore-do-stanislawa-porebskiego.txt\n"
     ]
    },
    {
     "name": "stderr",
     "output_type": "stream",
     "text": [
      " 27%|██▋       | 1531/5750 [02:07<05:51, 12.02it/s]"
     ]
    },
    {
     "name": "stdout",
     "output_type": "stream",
     "text": [
      "https://wolnelektury.pl/media/book/txt/fraszki-ksiegi-wtore-do-stanislawa-powiedz-mi-gdzie-sie-chow.txt\n",
      "https://wolnelektury.pl/media/book/txt/fraszki-ksiegi-wtore-do-swych-rymow.txt\n",
      "https://wolnelektury.pl/media/book/txt/fraszki-ksiegi-wtore-do-tegoz-albo-z-nas-szydzisz-albo-sam-w.txt\n",
      "https://wolnelektury.pl/media/book/txt/fraszki-ksiegi-wtore-do-wedy.txt\n"
     ]
    },
    {
     "name": "stderr",
     "output_type": "stream",
     "text": [
      "\r",
      " 27%|██▋       | 1533/5750 [02:07<05:50, 12.02it/s]"
     ]
    },
    {
     "name": "stdout",
     "output_type": "stream",
     "text": [
      "https://wolnelektury.pl/media/book/txt/fraszki-ksiegi-wtore-do-wenery.txt\n",
      "https://wolnelektury.pl/media/book/txt/fraszki-ksiegi-wtore-do-wojewody-nie-sa-wojewodo-zacny-czasy.txt\n",
      "https://wolnelektury.pl/media/book/txt/fraszki-ksiegi-wtore-do-wojtka-i-owszem-mily-wojtku-zjednaj-.txt\n"
     ]
    },
    {
     "name": "stderr",
     "output_type": "stream",
     "text": [
      " 27%|██▋       | 1537/5750 [02:07<05:50, 12.03it/s]"
     ]
    },
    {
     "name": "stdout",
     "output_type": "stream",
     "text": [
      "https://wolnelektury.pl/media/book/txt/fraszki-ksiegi-wtore-do-wojtka-pytasz-nie-teszno-li-mie-tak-.txt\n",
      "https://wolnelektury.pl/media/book/txt/fraszki-ksiegi-wtore-dorocie-z-michowa-zenie-jego-nie-chcial.txt\n",
      "https://wolnelektury.pl/media/book/txt/fraszki-ksiegi-wtore-epitafium-andrzejowi-bzickiemu-kasztela.txt\n",
      "https://wolnelektury.pl/media/book/txt/fraszki-ksiegi-wtore-epitafium-sobiechowi.txt\n"
     ]
    },
    {
     "name": "stderr",
     "output_type": "stream",
     "text": [
      " 27%|██▋       | 1541/5750 [02:08<05:49, 12.03it/s]"
     ]
    },
    {
     "name": "stdout",
     "output_type": "stream",
     "text": [
      "https://wolnelektury.pl/media/book/txt/fraszki-ksiegi-wtore-ku-muzom.txt\n",
      "https://wolnelektury.pl/media/book/txt/fraszki-ksiegi-wtore-na-chmure.txt\n",
      "https://wolnelektury.pl/media/book/txt/fraszki-ksiegi-wtore-na-fraszki.txt\n"
     ]
    },
    {
     "name": "stderr",
     "output_type": "stream",
     "text": [
      "\r",
      " 27%|██▋       | 1543/5750 [02:08<05:49, 12.03it/s]"
     ]
    },
    {
     "name": "stdout",
     "output_type": "stream",
     "text": [
      "https://wolnelektury.pl/media/book/txt/fraszki-ksiegi-wtore-na-historyja-trojanska.txt\n",
      "https://wolnelektury.pl/media/book/txt/fraszki-ksiegi-wtore-na-lakomego.txt\n",
      "https://wolnelektury.pl/media/book/txt/fraszki-ksiegi-wtore-na-lipe-gosciu-siadz-pod-mym-lisciem-a-.txt\n"
     ]
    },
    {
     "name": "stderr",
     "output_type": "stream",
     "text": [
      " 27%|██▋       | 1547/5750 [02:08<05:49, 12.04it/s]"
     ]
    },
    {
     "name": "stdout",
     "output_type": "stream",
     "text": [
      "https://wolnelektury.pl/media/book/txt/fraszki-ksiegi-wtore-na-most-warszewski.txt\n",
      "https://wolnelektury.pl/media/book/txt/fraszki-ksiegi-wtore-na-obraz-andrzeja-patrycego.txt\n",
      "https://wolnelektury.pl/media/book/txt/fraszki-ksiegi-wtore-na-piotra.txt\n"
     ]
    },
    {
     "name": "stderr",
     "output_type": "stream",
     "text": [
      " 27%|██▋       | 1551/5750 [02:08<05:48, 12.04it/s]"
     ]
    },
    {
     "name": "stdout",
     "output_type": "stream",
     "text": [
      "https://wolnelektury.pl/media/book/txt/fraszki-ksiegi-wtore-na-pszczoly-budziwiskie.txt\n",
      "https://wolnelektury.pl/media/book/txt/fraszki-ksiegi-wtore-na-roza.txt\n",
      "https://wolnelektury.pl/media/book/txt/fraszki-ksiegi-wtore-na-rym-nierozmyslny.txt\n"
     ]
    },
    {
     "name": "stderr",
     "output_type": "stream",
     "text": [
      "\r",
      " 27%|██▋       | 1553/5750 [02:08<05:48, 12.05it/s]"
     ]
    },
    {
     "name": "stdout",
     "output_type": "stream",
     "text": [
      "https://wolnelektury.pl/media/book/txt/fraszki-ksiegi-wtore-na-tenze-nie-wola-dzis-przewoznik-wsiad.txt\n",
      "https://wolnelektury.pl/media/book/txt/fraszki-ksiegi-wtore-na-tenze-to-jest-on-brzeg-szczesliwy-gd.txt\n",
      "https://wolnelektury.pl/media/book/txt/fraszki-ksiegi-wtore-na-toz-gladkosc-od-ciebie-wenus-ale-nie.txt\n"
     ]
    },
    {
     "name": "stderr",
     "output_type": "stream",
     "text": [
      "\r",
      " 27%|██▋       | 1555/5750 [02:09<05:48, 12.05it/s]"
     ]
    },
    {
     "name": "stdout",
     "output_type": "stream",
     "text": [
      "https://wolnelektury.pl/media/book/txt/fraszki-ksiegi-wtore-na-wieniec.txt\n",
      "https://wolnelektury.pl/media/book/txt/fraszki-ksiegi-wtore-na-zachowanie.txt\n",
      "https://wolnelektury.pl/media/book/txt/fraszki-ksiegi-wtore-nagrobek-adrianowi-doktorowi.txt\n"
     ]
    },
    {
     "name": "stderr",
     "output_type": "stream",
     "text": [
      " 27%|██▋       | 1559/5750 [02:09<05:47, 12.05it/s]"
     ]
    },
    {
     "name": "stdout",
     "output_type": "stream",
     "text": [
      "https://wolnelektury.pl/media/book/txt/fraszki-ksiegi-wtore-nagrobek-annie.txt\n",
      "https://wolnelektury.pl/media/book/txt/fraszki-ksiegi-wtore-nagrobek-mezowi-od-zony.txt\n",
      "https://wolnelektury.pl/media/book/txt/fraszki-ksiegi-wtore-nagrobek-mikolajowi-trzebuchowskiemu.txt\n",
      "https://wolnelektury.pl/media/book/txt/fraszki-ksiegi-wtore-nagrobek-opilej-babie.txt\n"
     ]
    },
    {
     "name": "stderr",
     "output_type": "stream",
     "text": [
      " 27%|██▋       | 1563/5750 [02:09<05:47, 12.06it/s]"
     ]
    },
    {
     "name": "stdout",
     "output_type": "stream",
     "text": [
      "https://wolnelektury.pl/media/book/txt/fraszki-ksiegi-wtore-nagrobek-pawlowi-chmielowskiemu.txt\n",
      "https://wolnelektury.pl/media/book/txt/fraszki-ksiegi-wtore-nagrobek-stanislawowi-zaklice-z-czyzowa.txt\n",
      "https://wolnelektury.pl/media/book/txt/fraszki-ksiegi-wtore-o-aleksandrzech.txt\n",
      "https://wolnelektury.pl/media/book/txt/fraszki-ksiegi-wtore-o-bekwarku.txt\n"
     ]
    },
    {
     "name": "stderr",
     "output_type": "stream",
     "text": [
      " 27%|██▋       | 1567/5750 [02:09<05:46, 12.06it/s]"
     ]
    },
    {
     "name": "stdout",
     "output_type": "stream",
     "text": [
      "https://wolnelektury.pl/media/book/txt/fraszki-ksiegi-wtore-o-drugim-co-sie-wam-widzi-ten-drugi.txt\n",
      "https://wolnelektury.pl/media/book/txt/fraszki-ksiegi-wtore-o-fraszkach-prozno-mnie-do-dziewiaci-la.txt\n",
      "https://wolnelektury.pl/media/book/txt/fraszki-ksiegi-wtore-o-gasce.txt\n",
      "https://wolnelektury.pl/media/book/txt/fraszki-ksiegi-wtore-o-gosciu.txt\n"
     ]
    },
    {
     "name": "stderr",
     "output_type": "stream",
     "text": [
      " 27%|██▋       | 1571/5750 [02:10<05:46, 12.07it/s]"
     ]
    },
    {
     "name": "stdout",
     "output_type": "stream",
     "text": [
      "https://wolnelektury.pl/media/book/txt/fraszki-ksiegi-wtore-o-kapelanie.txt\n",
      "https://wolnelektury.pl/media/book/txt/fraszki-ksiegi-wtore-o-kaznodziei.txt\n",
      "https://wolnelektury.pl/media/book/txt/fraszki-ksiegi-wtore-o-kozle.txt\n"
     ]
    },
    {
     "name": "stderr",
     "output_type": "stream",
     "text": [
      " 27%|██▋       | 1575/5750 [02:10<05:45, 12.08it/s]"
     ]
    },
    {
     "name": "stdout",
     "output_type": "stream",
     "text": [
      "https://wolnelektury.pl/media/book/txt/fraszki-ksiegi-wtore-o-lazarzowych-ksiegach.txt\n",
      "https://wolnelektury.pl/media/book/txt/fraszki-ksiegi-wtore-o-milosci-kto-naprzod-poczal-milosc-dzi.txt\n",
      "https://wolnelektury.pl/media/book/txt/fraszki-ksiegi-wtore-o-nowych-fraszkach.txt\n",
      "https://wolnelektury.pl/media/book/txt/fraszki-ksiegi-wtore-o-pelopie.txt\n"
     ]
    },
    {
     "name": "stderr",
     "output_type": "stream",
     "text": [
      "\r",
      " 27%|██▋       | 1577/5750 [02:10<05:45, 12.08it/s]"
     ]
    },
    {
     "name": "stdout",
     "output_type": "stream",
     "text": [
      "https://wolnelektury.pl/media/book/txt/fraszki-ksiegi-wtore-o-proporcyjej.txt\n",
      "https://wolnelektury.pl/media/book/txt/fraszki-ksiegi-wtore-o-rozkoszy.txt\n",
      "https://wolnelektury.pl/media/book/txt/fraszki-ksiegi-wtore-o-rozwodzie.txt\n"
     ]
    },
    {
     "name": "stderr",
     "output_type": "stream",
     "text": [
      " 27%|██▋       | 1581/5750 [02:10<05:44, 12.09it/s]"
     ]
    },
    {
     "name": "stdout",
     "output_type": "stream",
     "text": [
      "https://wolnelektury.pl/media/book/txt/fraszki-ksiegi-wtore-o-rzymie.txt\n",
      "https://wolnelektury.pl/media/book/txt/fraszki-ksiegi-wtore-o-starym.txt\n",
      "https://wolnelektury.pl/media/book/txt/fraszki-ksiegi-wtore-odpowiedz.txt\n"
     ]
    },
    {
     "name": "stderr",
     "output_type": "stream",
     "text": [
      " 28%|██▊       | 1585/5750 [02:11<05:44, 12.09it/s]"
     ]
    },
    {
     "name": "stdout",
     "output_type": "stream",
     "text": [
      "https://wolnelektury.pl/media/book/txt/fraszki-ksiegi-wtore-ofiara-pafijej-swe-zwierciadlo-lais-pos.txt\n",
      "https://wolnelektury.pl/media/book/txt/fraszki-ksiegi-wtore-ofiara-te-siec-mikolaj-swietym-ofiaruje.txt\n",
      "https://wolnelektury.pl/media/book/txt/fraszki-ksiegi-wtore-ofiara-ten-pas-greta-podstarzawszy-sobi.txt\n",
      "https://wolnelektury.pl/media/book/txt/fraszki-ksiegi-wtore-tegoz-malzonce-anna-z-pilce-dwu-mezu-za.txt\n"
     ]
    },
    {
     "name": "stderr",
     "output_type": "stream",
     "text": [
      " 28%|██▊       | 1589/5750 [02:11<05:43, 12.10it/s]"
     ]
    },
    {
     "name": "stdout",
     "output_type": "stream",
     "text": [
      "https://wolnelektury.pl/media/book/txt/fraszki-ksiegi-wtore-temuz-by-bog-dusze-za-dusze-chcial-od-n.txt\n",
      "https://wolnelektury.pl/media/book/txt/fraszki-ksiegi-wtore-z-anakreonta-podgorski-zrzobku-czemu-pa.txt\n",
      "https://wolnelektury.pl/media/book/txt/fraszki-ksiegi-wtore-z-greckiego-alkon-patrzac-na-syna-kiedy.txt\n",
      "https://wolnelektury.pl/media/book/txt/fraszki-ksiegi-wtore-z-greckiego-ani-w-mlodej-rozkoszy-ani-w.txt\n"
     ]
    },
    {
     "name": "stderr",
     "output_type": "stream",
     "text": [
      " 28%|██▊       | 1593/5750 [02:11<05:43, 12.11it/s]"
     ]
    },
    {
     "name": "stdout",
     "output_type": "stream",
     "text": [
      "https://wolnelektury.pl/media/book/txt/fraszki-ksiegi-wtore-z-greckiego-by-sie-wszytka-nawalnosc-mo.txt\n",
      "https://wolnelektury.pl/media/book/txt/fraszki-ksiegi-wtore-z-greckiego-nie-sadz-mie-za-umarla-gosc.txt\n",
      "https://wolnelektury.pl/media/book/txt/fraszki-ksiegi-wtore-z-greckiego-nie-z-messany-nie-z-argu-tu.txt\n",
      "https://wolnelektury.pl/media/book/txt/fraszki-ksiegi-wtore-z-greckiego-nie-znam-sie-ku-tym-lupom-k.txt\n"
     ]
    },
    {
     "name": "stderr",
     "output_type": "stream",
     "text": [
      "\r",
      " 28%|██▊       | 1595/5750 [02:11<05:43, 12.11it/s]"
     ]
    },
    {
     "name": "stdout",
     "output_type": "stream",
     "text": [
      "https://wolnelektury.pl/media/book/txt/fraszki-ksiegi-wtore-z-greckiego-w-tym-grobie-piekna-timas-l.txt\n",
      "https://wolnelektury.pl/media/book/txt/fredro-sluby-panienskie.txt\n",
      "https://wolnelektury.pl/media/book/txt/froim.txt\n"
     ]
    },
    {
     "name": "stderr",
     "output_type": "stream",
     "text": [
      " 28%|██▊       | 1599/5750 [02:12<05:42, 12.11it/s]"
     ]
    },
    {
     "name": "stdout",
     "output_type": "stream",
     "text": [
      "https://wolnelektury.pl/media/book/txt/furman-i-motyl.txt\n",
      "https://wolnelektury.pl/media/book/txt/gaj-swiecony.txt\n",
      "https://wolnelektury.pl/media/book/txt/gajcy-1942-noc-wigilijna.txt\n"
     ]
    },
    {
     "name": "stderr",
     "output_type": "stream",
     "text": [
      " 28%|██▊       | 1603/5750 [02:12<05:42, 12.11it/s]"
     ]
    },
    {
     "name": "stdout",
     "output_type": "stream",
     "text": [
      "https://wolnelektury.pl/media/book/txt/gajcy-ballada-o-stajence.txt\n",
      "https://wolnelektury.pl/media/book/txt/gajcy-betlejem.txt\n",
      "https://wolnelektury.pl/media/book/txt/gajcy-chwila-biblijna.txt\n",
      "https://wolnelektury.pl/media/book/txt/gajcy-czarne-okna.txt\n"
     ]
    },
    {
     "name": "stderr",
     "output_type": "stream",
     "text": [
      " 28%|██▊       | 1607/5750 [02:12<05:41, 12.12it/s]"
     ]
    },
    {
     "name": "stdout",
     "output_type": "stream",
     "text": [
      "https://wolnelektury.pl/media/book/txt/gajcy-czas.txt\n",
      "https://wolnelektury.pl/media/book/txt/gajcy-do-potomnego.txt\n",
      "https://wolnelektury.pl/media/book/txt/gajcy-do-zmarlej.txt\n",
      "https://wolnelektury.pl/media/book/txt/gajcy-droga-tajemnic.txt\n"
     ]
    },
    {
     "name": "stderr",
     "output_type": "stream",
     "text": [
      "\r",
      " 28%|██▊       | 1609/5750 [02:12<05:41, 12.12it/s]"
     ]
    },
    {
     "name": "stdout",
     "output_type": "stream",
     "text": [
      "https://wolnelektury.pl/media/book/txt/gajcy-epitafium.txt\n",
      "https://wolnelektury.pl/media/book/txt/gajcy-gajcy-temu-ktory-przyjdzie.txt\n",
      "https://wolnelektury.pl/media/book/txt/gajcy-groteska-bardzo-smutna.txt\n"
     ]
    },
    {
     "name": "stderr",
     "output_type": "stream",
     "text": [
      " 28%|██▊       | 1613/5750 [02:13<05:41, 12.13it/s]"
     ]
    },
    {
     "name": "stdout",
     "output_type": "stream",
     "text": [
      "https://wolnelektury.pl/media/book/txt/gajcy-jestem-tutaj-ot-niedbaly.txt\n",
      "https://wolnelektury.pl/media/book/txt/gajcy-kantyczka-wolania-pelna.txt\n",
      "https://wolnelektury.pl/media/book/txt/gajcy-koleda.txt\n"
     ]
    },
    {
     "name": "stderr",
     "output_type": "stream",
     "text": [
      "\r",
      " 28%|██▊       | 1615/5750 [02:13<05:41, 12.13it/s]"
     ]
    },
    {
     "name": "stdout",
     "output_type": "stream",
     "text": [
      "https://wolnelektury.pl/media/book/txt/gajcy-legenda-o-homerze.txt\n",
      "https://wolnelektury.pl/media/book/txt/gajcy-milosc-bez-jutra.txt\n",
      "https://wolnelektury.pl/media/book/txt/gajcy-modlitwa-za-rzeczy.txt\n"
     ]
    },
    {
     "name": "stderr",
     "output_type": "stream",
     "text": [
      " 28%|██▊       | 1619/5750 [02:13<05:40, 12.13it/s]"
     ]
    },
    {
     "name": "stdout",
     "output_type": "stream",
     "text": [
      "https://wolnelektury.pl/media/book/txt/gajcy-moja-mala.txt\n",
      "https://wolnelektury.pl/media/book/txt/gajcy-na-progu.txt\n",
      "https://wolnelektury.pl/media/book/txt/gajcy-noc.txt\n"
     ]
    },
    {
     "name": "stderr",
     "output_type": "stream",
     "text": [
      "\r",
      " 28%|██▊       | 1621/5750 [02:13<05:40, 12.13it/s]"
     ]
    },
    {
     "name": "stdout",
     "output_type": "stream",
     "text": [
      "https://wolnelektury.pl/media/book/txt/gajcy-nowo-narodzonemu.txt\n",
      "https://wolnelektury.pl/media/book/txt/gajcy-opowiesc-z-innego-swiata.txt\n",
      "https://wolnelektury.pl/media/book/txt/gajcy-po-raz-pierwszy-modlitwa.txt\n"
     ]
    },
    {
     "name": "stderr",
     "output_type": "stream",
     "text": [
      " 28%|██▊       | 1625/5750 [02:13<05:39, 12.14it/s]"
     ]
    },
    {
     "name": "stdout",
     "output_type": "stream",
     "text": [
      "https://wolnelektury.pl/media/book/txt/gajcy-poemat-letargiczny.txt\n",
      "https://wolnelektury.pl/media/book/txt/gajcy-portret.txt\n",
      "https://wolnelektury.pl/media/book/txt/gajcy-przeslanie.txt\n"
     ]
    },
    {
     "name": "stderr",
     "output_type": "stream",
     "text": [
      " 28%|██▊       | 1629/5750 [02:14<05:39, 12.14it/s]"
     ]
    },
    {
     "name": "stdout",
     "output_type": "stream",
     "text": [
      "https://wolnelektury.pl/media/book/txt/gajcy-schodzac.txt\n",
      "https://wolnelektury.pl/media/book/txt/gajcy-spiew-murow.txt\n",
      "https://wolnelektury.pl/media/book/txt/gajcy-stygmat.txt\n"
     ]
    },
    {
     "name": "stderr",
     "output_type": "stream",
     "text": [
      "\r",
      " 28%|██▊       | 1631/5750 [02:14<05:39, 12.15it/s]"
     ]
    },
    {
     "name": "stdout",
     "output_type": "stream",
     "text": [
      "https://wolnelektury.pl/media/book/txt/gajcy-trojglos.txt\n",
      "https://wolnelektury.pl/media/book/txt/gajcy-uderzenie.txt\n",
      "https://wolnelektury.pl/media/book/txt/gajcy-ukochanej.txt\n",
      "https://wolnelektury.pl/media/book/txt/gajcy-wczorajszemu.txt\n"
     ]
    },
    {
     "name": "stderr",
     "output_type": "stream",
     "text": [
      " 28%|██▊       | 1635/5750 [02:14<05:38, 12.15it/s]"
     ]
    },
    {
     "name": "stdout",
     "output_type": "stream",
     "text": [
      "https://wolnelektury.pl/media/book/txt/gajcy-wezwanie.txt\n",
      "https://wolnelektury.pl/media/book/txt/gajcy-widma.txt\n",
      "https://wolnelektury.pl/media/book/txt/gajcy-wiersz-o-szukaniu.txt\n"
     ]
    },
    {
     "name": "stderr",
     "output_type": "stream",
     "text": [
      "\r",
      " 28%|██▊       | 1637/5750 [02:14<05:38, 12.15it/s]"
     ]
    },
    {
     "name": "stdout",
     "output_type": "stream",
     "text": [
      "https://wolnelektury.pl/media/book/txt/gajcy-wizja-skapa.txt\n",
      "https://wolnelektury.pl/media/book/txt/gajcy-wstecz.txt\n",
      "https://wolnelektury.pl/media/book/txt/gajcy-z-dna.txt\n"
     ]
    },
    {
     "name": "stderr",
     "output_type": "stream",
     "text": [
      " 29%|██▊       | 1641/5750 [02:15<05:38, 12.15it/s]"
     ]
    },
    {
     "name": "stdout",
     "output_type": "stream",
     "text": [
      "https://wolnelektury.pl/media/book/txt/gajcy-zegnajac-sie-z-matka.txt\n",
      "https://wolnelektury.pl/media/book/txt/garbucha.txt\n",
      "https://wolnelektury.pl/media/book/txt/gargantua-i-pantagruel.txt\n"
     ]
    },
    {
     "name": "stderr",
     "output_type": "stream",
     "text": [
      "\r",
      " 29%|██▊       | 1643/5750 [02:15<05:38, 12.14it/s]"
     ]
    },
    {
     "name": "stdout",
     "output_type": "stream",
     "text": [
      "https://wolnelektury.pl/media/book/txt/gasior-do-filipka.txt\n",
      "https://wolnelektury.pl/media/book/txt/gaski-konopnicka.txt\n",
      "https://wolnelektury.pl/media/book/txt/gasniecie.txt\n"
     ]
    },
    {
     "name": "stderr",
     "output_type": "stream",
     "text": [
      " 29%|██▊       | 1647/5750 [02:15<05:37, 12.15it/s]"
     ]
    },
    {
     "name": "stdout",
     "output_type": "stream",
     "text": [
      "https://wolnelektury.pl/media/book/txt/gdy-noc-gleboka-wszystko-uspi-i-oniemi.txt\n",
      "https://wolnelektury.pl/media/book/txt/gdy-sie-chrystus-rodzi.txt\n",
      "https://wolnelektury.pl/media/book/txt/gdy-sliczna-panna.txt\n"
     ]
    },
    {
     "name": "stderr",
     "output_type": "stream",
     "text": [
      "\r",
      " 29%|██▊       | 1649/5750 [02:15<05:37, 12.15it/s]"
     ]
    },
    {
     "name": "stdout",
     "output_type": "stream",
     "text": [
      "https://wolnelektury.pl/media/book/txt/gdzie-szczescie.txt\n",
      "https://wolnelektury.pl/media/book/txt/gedali.txt\n",
      "https://wolnelektury.pl/media/book/txt/geniusze.txt\n"
     ]
    },
    {
     "name": "stderr",
     "output_type": "stream",
     "text": [
      "\r",
      " 29%|██▊       | 1651/5750 [02:15<05:37, 12.15it/s]"
     ]
    },
    {
     "name": "stdout",
     "output_type": "stream",
     "text": [
      "https://wolnelektury.pl/media/book/txt/germinal.txt\n"
     ]
    },
    {
     "name": "stderr",
     "output_type": "stream",
     "text": [
      "\r",
      " 29%|██▊       | 1653/5750 [02:16<05:37, 12.13it/s]"
     ]
    },
    {
     "name": "stdout",
     "output_type": "stream",
     "text": [
      "https://wolnelektury.pl/media/book/txt/gesi-bajki-nowe.txt\n",
      "https://wolnelektury.pl/media/book/txt/gesiarek-sierota.txt\n",
      "https://wolnelektury.pl/media/book/txt/giaur.txt\n"
     ]
    },
    {
     "name": "stderr",
     "output_type": "stream",
     "text": [
      " 29%|██▉       | 1657/5750 [02:16<05:37, 12.13it/s]"
     ]
    },
    {
     "name": "stdout",
     "output_type": "stream",
     "text": [
      "https://wolnelektury.pl/media/book/txt/ginczanka-ballada-o-zydziaku.txt\n",
      "https://wolnelektury.pl/media/book/txt/ginczanka-canticum-canticorum.txt\n",
      "https://wolnelektury.pl/media/book/txt/ginczanka-defraudacja.txt\n",
      "https://wolnelektury.pl/media/book/txt/ginczanka-deklaracja.txt\n"
     ]
    },
    {
     "name": "stderr",
     "output_type": "stream",
     "text": [
      " 29%|██▉       | 1661/5750 [02:16<05:36, 12.14it/s]"
     ]
    },
    {
     "name": "stdout",
     "output_type": "stream",
     "text": [
      "https://wolnelektury.pl/media/book/txt/ginczanka-dziewictwo.txt\n",
      "https://wolnelektury.pl/media/book/txt/ginczanka-futro.txt\n",
      "https://wolnelektury.pl/media/book/txt/ginczanka-ide-po-swoje-zycie-zabobon.txt\n",
      "https://wolnelektury.pl/media/book/txt/ginczanka-metne-historie.txt\n"
     ]
    },
    {
     "name": "stderr",
     "output_type": "stream",
     "text": [
      " 29%|██▉       | 1665/5750 [02:17<05:36, 12.15it/s]"
     ]
    },
    {
     "name": "stdout",
     "output_type": "stream",
     "text": [
      "https://wolnelektury.pl/media/book/txt/ginczanka-na-zdarzenie-zycia-prywatnego.txt\n",
      "https://wolnelektury.pl/media/book/txt/ginczanka-o-centaurach.txt\n",
      "https://wolnelektury.pl/media/book/txt/ginczanka-o-centaurach-gramatyka.txt\n",
      "https://wolnelektury.pl/media/book/txt/ginczanka-o-centaurach-tom.txt\n"
     ]
    },
    {
     "name": "stderr",
     "output_type": "stream",
     "text": [
      " 29%|██▉       | 1669/5750 [02:17<05:35, 12.15it/s]"
     ]
    },
    {
     "name": "stdout",
     "output_type": "stream",
     "text": [
      "https://wolnelektury.pl/media/book/txt/ginczanka-obcosc.txt\n",
      "https://wolnelektury.pl/media/book/txt/ginczanka-panteistyczne.txt\n",
      "https://wolnelektury.pl/media/book/txt/ginczanka-polow.txt\n",
      "https://wolnelektury.pl/media/book/txt/ginczanka-powrot.txt\n"
     ]
    },
    {
     "name": "stderr",
     "output_type": "stream",
     "text": [
      " 29%|██▉       | 1673/5750 [02:17<05:35, 12.15it/s]"
     ]
    },
    {
     "name": "stdout",
     "output_type": "stream",
     "text": [
      "https://wolnelektury.pl/media/book/txt/ginczanka-proces.txt\n",
      "https://wolnelektury.pl/media/book/txt/ginczanka-przebudzenie.txt\n",
      "https://wolnelektury.pl/media/book/txt/ginczanka-przeciw-fali-kazali-ci-plynac-non-omnis-moriar.txt\n"
     ]
    },
    {
     "name": "stderr",
     "output_type": "stream",
     "text": [
      "\r",
      " 29%|██▉       | 1675/5750 [02:17<05:35, 12.15it/s]"
     ]
    },
    {
     "name": "stdout",
     "output_type": "stream",
     "text": [
      "https://wolnelektury.pl/media/book/txt/ginczanka-przypadek.txt\n",
      "https://wolnelektury.pl/media/book/txt/ginczanka-pycha.txt\n",
      "https://wolnelektury.pl/media/book/txt/ginczanka-rozbrat-z-przedwiosniem.txt\n"
     ]
    },
    {
     "name": "stderr",
     "output_type": "stream",
     "text": [
      " 29%|██▉       | 1679/5750 [02:18<05:35, 12.15it/s]"
     ]
    },
    {
     "name": "stdout",
     "output_type": "stream",
     "text": [
      "https://wolnelektury.pl/media/book/txt/ginczanka-rozmowka-o-przyszlosci.txt\n",
      "https://wolnelektury.pl/media/book/txt/ginczanka-rozprawa.txt\n",
      "https://wolnelektury.pl/media/book/txt/ginczanka-swietokradztwo.txt\n"
     ]
    },
    {
     "name": "stderr",
     "output_type": "stream",
     "text": [
      "\r",
      " 29%|██▉       | 1681/5750 [02:18<05:34, 12.15it/s]"
     ]
    },
    {
     "name": "stdout",
     "output_type": "stream",
     "text": [
      "https://wolnelektury.pl/media/book/txt/ginczanka-to-jedno.txt\n",
      "https://wolnelektury.pl/media/book/txt/ginczanka-tresc.txt\n",
      "https://wolnelektury.pl/media/book/txt/ginczanka-wyjasnienie-na-marginesie.txt\n"
     ]
    },
    {
     "name": "stderr",
     "output_type": "stream",
     "text": [
      " 29%|██▉       | 1685/5750 [02:18<05:34, 12.16it/s]"
     ]
    },
    {
     "name": "stdout",
     "output_type": "stream",
     "text": [
      "https://wolnelektury.pl/media/book/txt/ginczanka-zamiast-rozowego-listu.txt\n",
      "https://wolnelektury.pl/media/book/txt/ginczanka-zdrada.txt\n",
      "https://wolnelektury.pl/media/book/txt/ginczanka-zegluga.txt\n",
      "https://wolnelektury.pl/media/book/txt/gliscinski-dyskursy-prawa-autorskiego.txt\n"
     ]
    },
    {
     "name": "stderr",
     "output_type": "stream",
     "text": [
      "\r",
      " 29%|██▉       | 1687/5750 [02:18<05:34, 12.14it/s]"
     ]
    },
    {
     "name": "stdout",
     "output_type": "stream",
     "text": [
      "https://wolnelektury.pl/media/book/txt/glodne-kamienie.txt\n",
      "https://wolnelektury.pl/media/book/txt/gloger-dolinami-rzek.txt\n"
     ]
    },
    {
     "name": "stderr",
     "output_type": "stream",
     "text": [
      " 29%|██▉       | 1691/5750 [02:19<05:34, 12.13it/s]"
     ]
    },
    {
     "name": "stdout",
     "output_type": "stream",
     "text": [
      "https://wolnelektury.pl/media/book/txt/gloria-victis-bog-wie-kto.txt\n",
      "https://wolnelektury.pl/media/book/txt/gloria-victis-dziwna-historia.txt\n",
      "https://wolnelektury.pl/media/book/txt/gloria-victis-gloria-victis.txt\n"
     ]
    },
    {
     "name": "stderr",
     "output_type": "stream",
     "text": [
      "\r",
      " 29%|██▉       | 1693/5750 [02:19<05:34, 12.12it/s]"
     ]
    },
    {
     "name": "stdout",
     "output_type": "stream",
     "text": [
      "https://wolnelektury.pl/media/book/txt/gloria-victis-hekuba.txt\n",
      "https://wolnelektury.pl/media/book/txt/gloria-victis-oficer.txt\n"
     ]
    },
    {
     "name": "stderr",
     "output_type": "stream",
     "text": [
      " 29%|██▉       | 1695/5750 [02:19<05:34, 12.12it/s]"
     ]
    },
    {
     "name": "stdout",
     "output_type": "stream",
     "text": [
      "https://wolnelektury.pl/media/book/txt/gloria-victis-oni.txt\n",
      "https://wolnelektury.pl/media/book/txt/gloria-victis-panna-roza.txt\n"
     ]
    },
    {
     "name": "stderr",
     "output_type": "stream",
     "text": [
      " 30%|██▉       | 1698/5750 [02:20<05:34, 12.12it/s]"
     ]
    },
    {
     "name": "stdout",
     "output_type": "stream",
     "text": [
      "https://wolnelektury.pl/media/book/txt/gloria-victis-smierc-domu.txt\n",
      "https://wolnelektury.pl/media/book/txt/gloria-victis-tom-opowiadan.txt\n",
      "https://wolnelektury.pl/media/book/txt/glupi-macius.txt\n"
     ]
    },
    {
     "name": "stderr",
     "output_type": "stream",
     "text": [
      "\r",
      " 30%|██▉       | 1700/5750 [02:20<05:34, 12.12it/s]"
     ]
    },
    {
     "name": "stdout",
     "output_type": "stream",
     "text": [
      "https://wolnelektury.pl/media/book/txt/gniazdo-jaskolki.txt\n",
      "https://wolnelektury.pl/media/book/txt/godzina-mysli.txt\n",
      "https://wolnelektury.pl/media/book/txt/goethe-die-leiden-des-jungen-werther.txt\n"
     ]
    },
    {
     "name": "stderr",
     "output_type": "stream",
     "text": [
      "\r",
      " 30%|██▉       | 1702/5750 [02:20<05:34, 12.11it/s]"
     ]
    },
    {
     "name": "stdout",
     "output_type": "stream",
     "text": [
      "https://wolnelektury.pl/media/book/txt/goethe-faust.txt\n",
      "https://wolnelektury.pl/media/book/txt/goethe-faust-czesc-druga.txt\n"
     ]
    },
    {
     "name": "stderr",
     "output_type": "stream",
     "text": [
      " 30%|██▉       | 1705/5750 [02:20<05:34, 12.10it/s]"
     ]
    },
    {
     "name": "stdout",
     "output_type": "stream",
     "text": [
      "https://wolnelektury.pl/media/book/txt/goethe-faust-czesc-pierwsza.txt\n",
      "https://wolnelektury.pl/media/book/txt/goethe-faust-der-tragodie-erster-teil.txt\n"
     ]
    },
    {
     "name": "stderr",
     "output_type": "stream",
     "text": [
      " 30%|██▉       | 1707/5750 [02:21<05:34, 12.09it/s]"
     ]
    },
    {
     "name": "stdout",
     "output_type": "stream",
     "text": [
      "https://wolnelektury.pl/media/book/txt/goethe-faust-der-tragodie-zweiter-teil.txt\n",
      "https://wolnelektury.pl/media/book/txt/goethe-herman-i-dorota.txt\n"
     ]
    },
    {
     "name": "stderr",
     "output_type": "stream",
     "text": [
      " 30%|██▉       | 1709/5750 [02:21<05:34, 12.08it/s]"
     ]
    },
    {
     "name": "stdout",
     "output_type": "stream",
     "text": [
      "https://wolnelektury.pl/media/book/txt/goethe-iphigenie-auf-tauris.txt\n",
      "https://wolnelektury.pl/media/book/txt/goethe-ptaszki-podlug-arystofanesa.txt\n"
     ]
    },
    {
     "name": "stderr",
     "output_type": "stream",
     "text": [
      "\r",
      " 30%|██▉       | 1711/5750 [02:21<05:34, 12.08it/s]"
     ]
    },
    {
     "name": "stdout",
     "output_type": "stream",
     "text": [
      "https://wolnelektury.pl/media/book/txt/goethe-reineke-lis.txt\n",
      "https://wolnelektury.pl/media/book/txt/golebie-bajki-nowe.txt\n",
      "https://wolnelektury.pl/media/book/txt/golebnik.txt\n"
     ]
    },
    {
     "name": "stderr",
     "output_type": "stream",
     "text": [
      "\r",
      " 30%|██▉       | 1713/5750 [02:21<05:34, 12.08it/s]"
     ]
    },
    {
     "name": "stdout",
     "output_type": "stream",
     "text": [
      "https://wolnelektury.pl/media/book/txt/golem.txt\n"
     ]
    },
    {
     "name": "stderr",
     "output_type": "stream",
     "text": [
      " 30%|██▉       | 1717/5750 [02:22<05:34, 12.07it/s]"
     ]
    },
    {
     "name": "stdout",
     "output_type": "stream",
     "text": [
      "https://wolnelektury.pl/media/book/txt/gomulickis-troskimas.txt\n",
      "https://wolnelektury.pl/media/book/txt/gora-i-dolina-bajki-nowe.txt\n",
      "https://wolnelektury.pl/media/book/txt/gore-gwiazda-jezusowi.txt\n",
      "https://wolnelektury.pl/media/book/txt/gospodarz-i-czeladka.txt\n"
     ]
    },
    {
     "name": "stderr",
     "output_type": "stream",
     "text": [
      "\r",
      " 30%|██▉       | 1719/5750 [02:22<05:33, 12.08it/s]"
     ]
    },
    {
     "name": "stdout",
     "output_type": "stream",
     "text": [
      "https://wolnelektury.pl/media/book/txt/gospodarz-i-drzewa.txt\n",
      "https://wolnelektury.pl/media/book/txt/gosposia.txt\n",
      "https://wolnelektury.pl/media/book/txt/gosta-berling.txt\n"
     ]
    },
    {
     "name": "stderr",
     "output_type": "stream",
     "text": [
      " 30%|██▉       | 1723/5750 [02:22<05:33, 12.06it/s]"
     ]
    },
    {
     "name": "stdout",
     "output_type": "stream",
     "text": [
      "https://wolnelektury.pl/media/book/txt/gra-w-lisa.txt\n",
      "https://wolnelektury.pl/media/book/txt/grabinski-bledny-pociag.txt\n",
      "https://wolnelektury.pl/media/book/txt/grabinski-czad.txt\n"
     ]
    },
    {
     "name": "stderr",
     "output_type": "stream",
     "text": [
      "\r",
      " 30%|███       | 1725/5750 [02:22<05:33, 12.07it/s]"
     ]
    },
    {
     "name": "stdout",
     "output_type": "stream",
     "text": [
      "https://wolnelektury.pl/media/book/txt/grabinski-demon-ruchu.txt\n",
      "https://wolnelektury.pl/media/book/txt/grabinski-dziedzina.txt\n",
      "https://wolnelektury.pl/media/book/txt/grabinski-dziwna-stacja.txt\n"
     ]
    },
    {
     "name": "stderr",
     "output_type": "stream",
     "text": [
      " 30%|███       | 1729/5750 [02:23<05:33, 12.07it/s]"
     ]
    },
    {
     "name": "stdout",
     "output_type": "stream",
     "text": [
      "https://wolnelektury.pl/media/book/txt/grabinski-falszywy-alarm.txt\n",
      "https://wolnelektury.pl/media/book/txt/grabinski-glucha-przestrzen.txt\n",
      "https://wolnelektury.pl/media/book/txt/grabinski-maszynista-grot.txt\n"
     ]
    },
    {
     "name": "stderr",
     "output_type": "stream",
     "text": [
      "\r",
      " 30%|███       | 1731/5750 [02:23<05:33, 12.07it/s]"
     ]
    },
    {
     "name": "stdout",
     "output_type": "stream",
     "text": [
      "https://wolnelektury.pl/media/book/txt/grabinski-na-wzgorzu-roz.txt\n",
      "https://wolnelektury.pl/media/book/txt/grabinski-na-wzgorzu-roz-po-stycznej.txt\n",
      "https://wolnelektury.pl/media/book/txt/grabinski-na-wzgorzu-roz-w-willi-nad-morzem.txt\n"
     ]
    },
    {
     "name": "stderr",
     "output_type": "stream",
     "text": [
      " 30%|███       | 1735/5750 [02:23<05:32, 12.06it/s]"
     ]
    },
    {
     "name": "stdout",
     "output_type": "stream",
     "text": [
      "https://wolnelektury.pl/media/book/txt/grabinski-na-wzgorzu-roz-zez.txt\n",
      "https://wolnelektury.pl/media/book/txt/grabinski-namietnosc.txt\n",
      "https://wolnelektury.pl/media/book/txt/grabinski-namietnosc-projekcje.txt\n"
     ]
    },
    {
     "name": "stderr",
     "output_type": "stream",
     "text": [
      "\r",
      " 30%|███       | 1737/5750 [02:23<05:32, 12.06it/s]"
     ]
    },
    {
     "name": "stdout",
     "output_type": "stream",
     "text": [
      "https://wolnelektury.pl/media/book/txt/grabinski-problemat-czelawy.txt\n",
      "https://wolnelektury.pl/media/book/txt/grabinski-przypadek.txt\n",
      "https://wolnelektury.pl/media/book/txt/grabinski-saturnin-sektor.txt\n"
     ]
    },
    {
     "name": "stderr",
     "output_type": "stream",
     "text": [
      " 30%|███       | 1741/5750 [02:24<05:32, 12.06it/s]"
     ]
    },
    {
     "name": "stdout",
     "output_type": "stream",
     "text": [
      "https://wolnelektury.pl/media/book/txt/grabinski-slepy-tor.txt\n",
      "https://wolnelektury.pl/media/book/txt/grabinski-smoluch.txt\n",
      "https://wolnelektury.pl/media/book/txt/grabinski-sygnaly.txt\n"
     ]
    },
    {
     "name": "stderr",
     "output_type": "stream",
     "text": [
      "\r",
      " 30%|███       | 1743/5750 [02:24<05:32, 12.07it/s]"
     ]
    },
    {
     "name": "stdout",
     "output_type": "stream",
     "text": [
      "https://wolnelektury.pl/media/book/txt/grabinski-szalony-patnik.txt\n",
      "https://wolnelektury.pl/media/book/txt/grabinski-szary-pokoj.txt\n",
      "https://wolnelektury.pl/media/book/txt/grabinski-ultima-thule.txt\n"
     ]
    },
    {
     "name": "stderr",
     "output_type": "stream",
     "text": [
      "\r",
      " 30%|███       | 1745/5750 [02:24<05:31, 12.07it/s]"
     ]
    },
    {
     "name": "stdout",
     "output_type": "stream",
     "text": [
      "https://wolnelektury.pl/media/book/txt/grabinski-wyspa-itongo.txt\n",
      "https://wolnelektury.pl/media/book/txt/grazyna.txt\n"
     ]
    },
    {
     "name": "stderr",
     "output_type": "stream",
     "text": [
      " 30%|███       | 1749/5750 [02:25<05:31, 12.06it/s]"
     ]
    },
    {
     "name": "stdout",
     "output_type": "stream",
     "text": [
      "https://wolnelektury.pl/media/book/txt/grimm-braciszek-i-siostrzyczka.txt\n",
      "https://wolnelektury.pl/media/book/txt/grob-agamemnona.txt\n",
      "https://wolnelektury.pl/media/book/txt/grob-poety.txt\n"
     ]
    },
    {
     "name": "stderr",
     "output_type": "stream",
     "text": [
      " 30%|███       | 1753/5750 [02:25<05:31, 12.06it/s]"
     ]
    },
    {
     "name": "stdout",
     "output_type": "stream",
     "text": [
      "https://wolnelektury.pl/media/book/txt/groby.txt\n",
      "https://wolnelektury.pl/media/book/txt/groch-przy-drodze.txt\n",
      "https://wolnelektury.pl/media/book/txt/grossek-korycka-noc.txt\n",
      "https://wolnelektury.pl/media/book/txt/grossek-korycka-obronca.txt\n"
     ]
    },
    {
     "name": "stderr",
     "output_type": "stream",
     "text": [
      "\r",
      " 31%|███       | 1755/5750 [02:25<05:31, 12.07it/s]"
     ]
    },
    {
     "name": "stdout",
     "output_type": "stream",
     "text": [
      "https://wolnelektury.pl/media/book/txt/grosz-wdowi.txt\n",
      "https://wolnelektury.pl/media/book/txt/grota.txt\n",
      "https://wolnelektury.pl/media/book/txt/grozny-cien.txt\n"
     ]
    },
    {
     "name": "stderr",
     "output_type": "stream",
     "text": [
      " 31%|███       | 1759/5750 [02:25<05:30, 12.06it/s]"
     ]
    },
    {
     "name": "stdout",
     "output_type": "stream",
     "text": [
      "https://wolnelektury.pl/media/book/txt/grzebalski-bialy-poniedzialek.txt\n",
      "https://wolnelektury.pl/media/book/txt/grzebalski-blekitne-kamienie.txt\n",
      "https://wolnelektury.pl/media/book/txt/grzebalski-ciecie.txt\n"
     ]
    },
    {
     "name": "stderr",
     "output_type": "stream",
     "text": [
      "\r",
      " 31%|███       | 1761/5750 [02:25<05:30, 12.07it/s]"
     ]
    },
    {
     "name": "stdout",
     "output_type": "stream",
     "text": [
      "https://wolnelektury.pl/media/book/txt/grzebalski-czarne-twarze-butow.txt\n",
      "https://wolnelektury.pl/media/book/txt/grzebalski-dedykacja.txt\n",
      "https://wolnelektury.pl/media/book/txt/grzebalski-drugie-dotkniecie.txt\n"
     ]
    },
    {
     "name": "stderr",
     "output_type": "stream",
     "text": [
      " 31%|███       | 1765/5750 [02:26<05:30, 12.07it/s]"
     ]
    },
    {
     "name": "stdout",
     "output_type": "stream",
     "text": [
      "https://wolnelektury.pl/media/book/txt/grzebalski-drugie-dotkniecie-cykl.txt\n",
      "https://wolnelektury.pl/media/book/txt/grzebalski-drugie-dotkniecie-dedykacja.txt\n",
      "https://wolnelektury.pl/media/book/txt/grzebalski-drugie-dotkniecie-drugie-dotkniecie.txt\n",
      "https://wolnelektury.pl/media/book/txt/grzebalski-dziennik-pokladowy.txt\n"
     ]
    },
    {
     "name": "stderr",
     "output_type": "stream",
     "text": [
      " 31%|███       | 1769/5750 [02:26<05:29, 12.08it/s]"
     ]
    },
    {
     "name": "stdout",
     "output_type": "stream",
     "text": [
      "https://wolnelektury.pl/media/book/txt/grzebalski-godzina-dziewiata.txt\n",
      "https://wolnelektury.pl/media/book/txt/grzebalski-godziny.txt\n",
      "https://wolnelektury.pl/media/book/txt/grzebalski-granice.txt\n",
      "https://wolnelektury.pl/media/book/txt/grzebalski-historia.txt\n"
     ]
    },
    {
     "name": "stderr",
     "output_type": "stream",
     "text": [
      " 31%|███       | 1773/5750 [02:26<05:29, 12.09it/s]"
     ]
    },
    {
     "name": "stdout",
     "output_type": "stream",
     "text": [
      "https://wolnelektury.pl/media/book/txt/grzebalski-jablko.txt\n",
      "https://wolnelektury.pl/media/book/txt/grzebalski-kobieta-patrzy-na-rzeke.txt\n",
      "https://wolnelektury.pl/media/book/txt/grzebalski-korekta-w-kwietniu.txt\n",
      "https://wolnelektury.pl/media/book/txt/grzebalski-krety.txt\n"
     ]
    },
    {
     "name": "stderr",
     "output_type": "stream",
     "text": [
      " 31%|███       | 1777/5750 [02:26<05:28, 12.09it/s]"
     ]
    },
    {
     "name": "stdout",
     "output_type": "stream",
     "text": [
      "https://wolnelektury.pl/media/book/txt/grzebalski-kule-dunskie.txt\n",
      "https://wolnelektury.pl/media/book/txt/grzebalski-kurczaki.txt\n",
      "https://wolnelektury.pl/media/book/txt/grzebalski-lekcja-anielskiego.txt\n"
     ]
    },
    {
     "name": "stderr",
     "output_type": "stream",
     "text": [
      " 31%|███       | 1781/5750 [02:27<05:28, 12.09it/s]"
     ]
    },
    {
     "name": "stdout",
     "output_type": "stream",
     "text": [
      "https://wolnelektury.pl/media/book/txt/grzebalski-maj.txt\n",
      "https://wolnelektury.pl/media/book/txt/grzebalski-meta.txt\n",
      "https://wolnelektury.pl/media/book/txt/grzebalski-nie-widzialem-jej-od-kwietnia.txt\n",
      "https://wolnelektury.pl/media/book/txt/grzebalski-niekonieczny-list-z-wakacji.txt\n"
     ]
    },
    {
     "name": "stderr",
     "output_type": "stream",
     "text": [
      "\r",
      " 31%|███       | 1783/5750 [02:27<05:27, 12.10it/s]"
     ]
    },
    {
     "name": "stdout",
     "output_type": "stream",
     "text": [
      "https://wolnelektury.pl/media/book/txt/grzebalski-o.txt\n",
      "https://wolnelektury.pl/media/book/txt/grzebalski-oko.txt\n",
      "https://wolnelektury.pl/media/book/txt/grzebalski-opowiesc-wildecka.txt\n"
     ]
    },
    {
     "name": "stderr",
     "output_type": "stream",
     "text": [
      " 31%|███       | 1787/5750 [02:27<05:27, 12.10it/s]"
     ]
    },
    {
     "name": "stdout",
     "output_type": "stream",
     "text": [
      "https://wolnelektury.pl/media/book/txt/grzebalski-pamiatka-po-mojej-lodzi.txt\n",
      "https://wolnelektury.pl/media/book/txt/grzebalski-pazdziernik.txt\n",
      "https://wolnelektury.pl/media/book/txt/grzebalski-pocztowka-z-inowroclawia.txt\n"
     ]
    },
    {
     "name": "stderr",
     "output_type": "stream",
     "text": [
      "\r",
      " 31%|███       | 1789/5750 [02:27<05:27, 12.10it/s]"
     ]
    },
    {
     "name": "stdout",
     "output_type": "stream",
     "text": [
      "https://wolnelektury.pl/media/book/txt/grzebalski-pokoj-z-widokiem.txt\n",
      "https://wolnelektury.pl/media/book/txt/grzebalski-potem.txt\n",
      "https://wolnelektury.pl/media/book/txt/grzebalski-prognoza.txt\n"
     ]
    },
    {
     "name": "stderr",
     "output_type": "stream",
     "text": [
      " 31%|███       | 1793/5750 [02:28<05:26, 12.11it/s]"
     ]
    },
    {
     "name": "stdout",
     "output_type": "stream",
     "text": [
      "https://wolnelektury.pl/media/book/txt/grzebalski-radosc.txt\n",
      "https://wolnelektury.pl/media/book/txt/grzebalski-rozmowy-rodzinne-po-latach.txt\n",
      "https://wolnelektury.pl/media/book/txt/grzebalski-sonet-po-przerwie.txt\n",
      "https://wolnelektury.pl/media/book/txt/grzebalski-spacerujac-nieopodal-esso.txt\n"
     ]
    },
    {
     "name": "stderr",
     "output_type": "stream",
     "text": [
      " 31%|███▏      | 1797/5750 [02:28<05:26, 12.11it/s]"
     ]
    },
    {
     "name": "stdout",
     "output_type": "stream",
     "text": [
      "https://wolnelektury.pl/media/book/txt/grzebalski-tak.txt\n",
      "https://wolnelektury.pl/media/book/txt/grzebalski-trzy-dni.txt\n",
      "https://wolnelektury.pl/media/book/txt/grzebalski-tyle-lat.txt\n",
      "https://wolnelektury.pl/media/book/txt/grzebalski-widoki.txt\n"
     ]
    },
    {
     "name": "stderr",
     "output_type": "stream",
     "text": [
      " 31%|███▏      | 1801/5750 [02:28<05:25, 12.12it/s]"
     ]
    },
    {
     "name": "stdout",
     "output_type": "stream",
     "text": [
      "https://wolnelektury.pl/media/book/txt/grzebalski-widoki-cykl.txt\n",
      "https://wolnelektury.pl/media/book/txt/grzebalski-wiosna-z-halasem-epoki-maszynowej.txt\n",
      "https://wolnelektury.pl/media/book/txt/grzegorzewska-amazonki.txt\n"
     ]
    },
    {
     "name": "stderr",
     "output_type": "stream",
     "text": [
      "\r",
      " 31%|███▏      | 1803/5750 [02:28<05:25, 12.12it/s]"
     ]
    },
    {
     "name": "stdout",
     "output_type": "stream",
     "text": [
      "https://wolnelektury.pl/media/book/txt/grzegorzewska-bezsennosc-w-ryde.txt\n",
      "https://wolnelektury.pl/media/book/txt/grzegorzewska-bigbitowo.txt\n",
      "https://wolnelektury.pl/media/book/txt/grzegorzewska-bigos-w-klubach-emigrantow.txt\n"
     ]
    },
    {
     "name": "stderr",
     "output_type": "stream",
     "text": [
      " 31%|███▏      | 1807/5750 [02:29<05:25, 12.12it/s]"
     ]
    },
    {
     "name": "stdout",
     "output_type": "stream",
     "text": [
      "https://wolnelektury.pl/media/book/txt/grzegorzewska-blue-velvet.txt\n",
      "https://wolnelektury.pl/media/book/txt/grzegorzewska-ciuciubabka.txt\n",
      "https://wolnelektury.pl/media/book/txt/grzegorzewska-diabel-milocardin.txt\n",
      "https://wolnelektury.pl/media/book/txt/grzegorzewska-dusze-rondo.txt\n"
     ]
    },
    {
     "name": "stderr",
     "output_type": "stream",
     "text": [
      " 31%|███▏      | 1811/5750 [02:29<05:24, 12.13it/s]"
     ]
    },
    {
     "name": "stdout",
     "output_type": "stream",
     "text": [
      "https://wolnelektury.pl/media/book/txt/grzegorzewska-forget-me-not.txt\n",
      "https://wolnelektury.pl/media/book/txt/grzegorzewska-jezyki-czastek.txt\n",
      "https://wolnelektury.pl/media/book/txt/grzegorzewska-kolyszze-sie-kolysz.txt\n",
      "https://wolnelektury.pl/media/book/txt/grzegorzewska-kurze-oko.txt\n"
     ]
    },
    {
     "name": "stderr",
     "output_type": "stream",
     "text": [
      " 32%|███▏      | 1815/5750 [02:29<05:24, 12.14it/s]"
     ]
    },
    {
     "name": "stdout",
     "output_type": "stream",
     "text": [
      "https://wolnelektury.pl/media/book/txt/grzegorzewska-lekcje-tanca-dla-zaawansowanych.txt\n",
      "https://wolnelektury.pl/media/book/txt/grzegorzewska-lokatorki.txt\n",
      "https://wolnelektury.pl/media/book/txt/grzegorzewska-malowanie-z-wasylem-surikowem.txt\n",
      "https://wolnelektury.pl/media/book/txt/grzegorzewska-morfinowe.txt\n"
     ]
    },
    {
     "name": "stderr",
     "output_type": "stream",
     "text": [
      " 32%|███▏      | 1819/5750 [02:29<05:23, 12.14it/s]"
     ]
    },
    {
     "name": "stdout",
     "output_type": "stream",
     "text": [
      "https://wolnelektury.pl/media/book/txt/grzegorzewska-nawiedzona-w-skrzacie.txt\n",
      "https://wolnelektury.pl/media/book/txt/grzegorzewska-o-smierci.txt\n",
      "https://wolnelektury.pl/media/book/txt/grzegorzewska-obraz-nadchodzi.txt\n"
     ]
    },
    {
     "name": "stderr",
     "output_type": "stream",
     "text": [
      " 32%|███▏      | 1823/5750 [02:30<05:23, 12.15it/s]"
     ]
    },
    {
     "name": "stdout",
     "output_type": "stream",
     "text": [
      "https://wolnelektury.pl/media/book/txt/grzegorzewska-okno.txt\n",
      "https://wolnelektury.pl/media/book/txt/grzegorzewska-oko-kotary.txt\n",
      "https://wolnelektury.pl/media/book/txt/grzegorzewska-oko-waserwagi.txt\n",
      "https://wolnelektury.pl/media/book/txt/grzegorzewska-okonie.txt\n",
      "https://wolnelektury.pl/media/book/txt/grzegorzewska-orinoko.txt\n"
     ]
    },
    {
     "name": "stderr",
     "output_type": "stream",
     "text": [
      " 32%|███▏      | 1827/5750 [02:30<05:22, 12.15it/s]"
     ]
    },
    {
     "name": "stdout",
     "output_type": "stream",
     "text": [
      "https://wolnelektury.pl/media/book/txt/grzegorzewska-pilnujemy-dymu-z-komina.txt\n",
      "https://wolnelektury.pl/media/book/txt/grzegorzewska-postoj.txt\n",
      "https://wolnelektury.pl/media/book/txt/grzegorzewska-przedwiosnie.txt\n"
     ]
    },
    {
     "name": "stderr",
     "output_type": "stream",
     "text": [
      " 32%|███▏      | 1831/5750 [02:30<05:22, 12.16it/s]"
     ]
    },
    {
     "name": "stdout",
     "output_type": "stream",
     "text": [
      "https://wolnelektury.pl/media/book/txt/grzegorzewska-przemiany.txt\n",
      "https://wolnelektury.pl/media/book/txt/grzegorzewska-ryba-u-franciszkanow.txt\n",
      "https://wolnelektury.pl/media/book/txt/grzegorzewska-stancja-w-siemianowicach.txt\n",
      "https://wolnelektury.pl/media/book/txt/grzegorzewska-w-hotelu-przy-zyznej.txt\n"
     ]
    },
    {
     "name": "stderr",
     "output_type": "stream",
     "text": [
      "\r",
      " 32%|███▏      | 1833/5750 [02:30<05:22, 12.16it/s]"
     ]
    },
    {
     "name": "stdout",
     "output_type": "stream",
     "text": [
      "https://wolnelektury.pl/media/book/txt/grzegorzewska-wszystkie-wieczory-swiata.txt\n",
      "https://wolnelektury.pl/media/book/txt/grzegorzewska-wszystko-o-moim-ojcu.txt\n",
      "https://wolnelektury.pl/media/book/txt/grzegorzewska-wszystko-o-mojej-babce.txt\n"
     ]
    },
    {
     "name": "stderr",
     "output_type": "stream",
     "text": [
      " 32%|███▏      | 1837/5750 [02:31<05:21, 12.16it/s]"
     ]
    },
    {
     "name": "stdout",
     "output_type": "stream",
     "text": [
      "https://wolnelektury.pl/media/book/txt/grzegorzewska-z-chirurgii-ogolnej.txt\n",
      "https://wolnelektury.pl/media/book/txt/grzegorzewska-z-duchami.txt\n",
      "https://wolnelektury.pl/media/book/txt/grzegorzewska-za-gorami.txt\n"
     ]
    },
    {
     "name": "stderr",
     "output_type": "stream",
     "text": [
      "\r",
      " 32%|███▏      | 1839/5750 [02:31<05:21, 12.16it/s]"
     ]
    },
    {
     "name": "stdout",
     "output_type": "stream",
     "text": [
      "https://wolnelektury.pl/media/book/txt/grzes-niepismienny-calosc.txt\n",
      "https://wolnelektury.pl/media/book/txt/grzyby.txt\n",
      "https://wolnelektury.pl/media/book/txt/guerin-wpatruj-sie-co-wieczora.txt\n"
     ]
    },
    {
     "name": "stderr",
     "output_type": "stream",
     "text": [
      " 32%|███▏      | 1843/5750 [02:31<05:21, 12.17it/s]"
     ]
    },
    {
     "name": "stdout",
     "output_type": "stream",
     "text": [
      "https://wolnelektury.pl/media/book/txt/gusla.txt\n",
      "https://wolnelektury.pl/media/book/txt/gusla-dedykacja.txt\n",
      "https://wolnelektury.pl/media/book/txt/gusla-i.txt\n",
      "https://wolnelektury.pl/media/book/txt/gusla-i-dziecinstwo.txt\n"
     ]
    },
    {
     "name": "stderr",
     "output_type": "stream",
     "text": [
      " 32%|███▏      | 1847/5750 [02:31<05:20, 12.17it/s]"
     ]
    },
    {
     "name": "stdout",
     "output_type": "stream",
     "text": [
      "https://wolnelektury.pl/media/book/txt/gusla-i-kwiecien.txt\n",
      "https://wolnelektury.pl/media/book/txt/gusla-i-pejzaz.txt\n",
      "https://wolnelektury.pl/media/book/txt/gusla-i-poczatek-jesieni.txt\n"
     ]
    },
    {
     "name": "stderr",
     "output_type": "stream",
     "text": [
      "\r",
      " 32%|███▏      | 1849/5750 [02:31<05:20, 12.17it/s]"
     ]
    },
    {
     "name": "stdout",
     "output_type": "stream",
     "text": [
      "https://wolnelektury.pl/media/book/txt/gusla-i-wagary.txt\n",
      "https://wolnelektury.pl/media/book/txt/gusla-i-wakacje.txt\n",
      "https://wolnelektury.pl/media/book/txt/gusla-i-wies.txt\n"
     ]
    },
    {
     "name": "stderr",
     "output_type": "stream",
     "text": [
      " 32%|███▏      | 1853/5750 [02:32<05:20, 12.17it/s]"
     ]
    },
    {
     "name": "stdout",
     "output_type": "stream",
     "text": [
      "https://wolnelektury.pl/media/book/txt/gusla-i-wiosna.txt\n",
      "https://wolnelektury.pl/media/book/txt/gusla-i-zacheta-do-ucieczki.txt\n",
      "https://wolnelektury.pl/media/book/txt/gusla-ii.txt\n",
      "https://wolnelektury.pl/media/book/txt/gusla-ii-do-poety.txt\n"
     ]
    },
    {
     "name": "stderr",
     "output_type": "stream",
     "text": [
      " 32%|███▏      | 1857/5750 [02:32<05:19, 12.18it/s]"
     ]
    },
    {
     "name": "stdout",
     "output_type": "stream",
     "text": [
      "https://wolnelektury.pl/media/book/txt/gusla-ii-gusla-nad-zrodlem.txt\n",
      "https://wolnelektury.pl/media/book/txt/gusla-ii-jesien-na-mogilach-wiosennych.txt\n",
      "https://wolnelektury.pl/media/book/txt/gusla-ii-muza.txt\n",
      "https://wolnelektury.pl/media/book/txt/gusla-ii-na-lipe-czarnoleska.txt\n"
     ]
    },
    {
     "name": "stderr",
     "output_type": "stream",
     "text": [
      " 32%|███▏      | 1861/5750 [02:32<05:19, 12.18it/s]"
     ]
    },
    {
     "name": "stdout",
     "output_type": "stream",
     "text": [
      "https://wolnelektury.pl/media/book/txt/gusla-ii-przymierze.txt\n",
      "https://wolnelektury.pl/media/book/txt/gusla-ii-rozmowa-o-norwidzie.txt\n",
      "https://wolnelektury.pl/media/book/txt/gusla-ii-skrzydlo-niewidzialne.txt\n",
      "https://wolnelektury.pl/media/book/txt/gusla-ii-slowacki.txt\n"
     ]
    },
    {
     "name": "stderr",
     "output_type": "stream",
     "text": [
      " 32%|███▏      | 1865/5750 [02:33<05:18, 12.19it/s]"
     ]
    },
    {
     "name": "stdout",
     "output_type": "stream",
     "text": [
      "https://wolnelektury.pl/media/book/txt/gusla-ii-victoria.txt\n",
      "https://wolnelektury.pl/media/book/txt/gusla-ii-zaslubiny.txt\n",
      "https://wolnelektury.pl/media/book/txt/gusla-iii.txt\n",
      "https://wolnelektury.pl/media/book/txt/gusla-iii-aniol-pokoju.txt\n"
     ]
    },
    {
     "name": "stderr",
     "output_type": "stream",
     "text": [
      " 33%|███▎      | 1869/5750 [02:33<05:18, 12.19it/s]"
     ]
    },
    {
     "name": "stdout",
     "output_type": "stream",
     "text": [
      "https://wolnelektury.pl/media/book/txt/gusla-iii-aniol-zalu.txt\n",
      "https://wolnelektury.pl/media/book/txt/gusla-iii-boza-noc.txt\n",
      "https://wolnelektury.pl/media/book/txt/gusla-iii-dawne-slowa.txt\n",
      "https://wolnelektury.pl/media/book/txt/gusla-iii-dolor-ante-lucem.txt\n"
     ]
    },
    {
     "name": "stderr",
     "output_type": "stream",
     "text": [
      " 33%|███▎      | 1873/5750 [02:33<05:17, 12.20it/s]"
     ]
    },
    {
     "name": "stdout",
     "output_type": "stream",
     "text": [
      "https://wolnelektury.pl/media/book/txt/gusla-iii-dzwony.txt\n",
      "https://wolnelektury.pl/media/book/txt/gusla-iii-jezdziec.txt\n",
      "https://wolnelektury.pl/media/book/txt/gusla-iii-kuszenie.txt\n",
      "https://wolnelektury.pl/media/book/txt/gusla-iii-litania-do-marii-panny.txt\n"
     ]
    },
    {
     "name": "stderr",
     "output_type": "stream",
     "text": [
      " 33%|███▎      | 1877/5750 [02:33<05:17, 12.21it/s]"
     ]
    },
    {
     "name": "stdout",
     "output_type": "stream",
     "text": [
      "https://wolnelektury.pl/media/book/txt/gusla-iii-natchnienie-bolesne.txt\n",
      "https://wolnelektury.pl/media/book/txt/gusla-iii-proby.txt\n",
      "https://wolnelektury.pl/media/book/txt/gusla-iii-ptaszki-sw-franciszka.txt\n",
      "https://wolnelektury.pl/media/book/txt/gusla-iii-sw-katarzyna-genuenska.txt\n"
     ]
    },
    {
     "name": "stderr",
     "output_type": "stream",
     "text": [
      " 33%|███▎      | 1881/5750 [02:34<05:16, 12.21it/s]"
     ]
    },
    {
     "name": "stdout",
     "output_type": "stream",
     "text": [
      "https://wolnelektury.pl/media/book/txt/gusla-iv.txt\n",
      "https://wolnelektury.pl/media/book/txt/gusla-iv-arka.txt\n",
      "https://wolnelektury.pl/media/book/txt/gusla-iv-goraczka.txt\n",
      "https://wolnelektury.pl/media/book/txt/gusla-iv-jurgowska-karczma.txt\n"
     ]
    },
    {
     "name": "stderr",
     "output_type": "stream",
     "text": [
      " 33%|███▎      | 1885/5750 [02:34<05:16, 12.22it/s]"
     ]
    },
    {
     "name": "stdout",
     "output_type": "stream",
     "text": [
      "https://wolnelektury.pl/media/book/txt/gusla-iv-koguty.txt\n",
      "https://wolnelektury.pl/media/book/txt/gusla-iv-moses-krumholc.txt\n",
      "https://wolnelektury.pl/media/book/txt/gusla-iv-muza-zascianka.txt\n",
      "https://wolnelektury.pl/media/book/txt/gusla-iv-o-rzeczach.txt\n"
     ]
    },
    {
     "name": "stderr",
     "output_type": "stream",
     "text": [
      " 33%|███▎      | 1889/5750 [02:34<05:15, 12.23it/s]"
     ]
    },
    {
     "name": "stdout",
     "output_type": "stream",
     "text": [
      "https://wolnelektury.pl/media/book/txt/gusla-iv-przekroj-fantastyczny.txt\n",
      "https://wolnelektury.pl/media/book/txt/gusla-iv-romantycznosc.txt\n",
      "https://wolnelektury.pl/media/book/txt/gustaitis-krymo-sonetai-adomui-mickeviciui.txt\n",
      "https://wolnelektury.pl/media/book/txt/gustaitis-krymo-sonetai-simeiso-divas.txt\n"
     ]
    },
    {
     "name": "stderr",
     "output_type": "stream",
     "text": [
      "\r",
      " 33%|███▎      | 1891/5750 [02:34<05:15, 12.23it/s]"
     ]
    },
    {
     "name": "stdout",
     "output_type": "stream",
     "text": [
      "https://wolnelektury.pl/media/book/txt/gustaitis-motiejus-krymo-sonetai-izanga.txt\n",
      "https://wolnelektury.pl/media/book/txt/guzik-z-kamei.txt\n"
     ]
    },
    {
     "name": "stderr",
     "output_type": "stream",
     "text": [
      "\r",
      " 33%|███▎      | 1893/5750 [02:34<05:15, 12.22it/s]"
     ]
    },
    {
     "name": "stdout",
     "output_type": "stream",
     "text": [
      "https://wolnelektury.pl/media/book/txt/hamlet.txt\n",
      "https://wolnelektury.pl/media/book/txt/hasek-przygody-dobrego-wojaka-szwejka-t-i-ii.txt\n"
     ]
    },
    {
     "name": "stderr",
     "output_type": "stream",
     "text": [
      "\r",
      " 33%|███▎      | 1895/5750 [02:35<05:15, 12.20it/s]"
     ]
    },
    {
     "name": "stdout",
     "output_type": "stream",
     "text": [
      "https://wolnelektury.pl/media/book/txt/hasek-przygody-dobrego-wojaka-szwejka-t-iii-iv.txt\n"
     ]
    },
    {
     "name": "stderr",
     "output_type": "stream",
     "text": [
      "\r",
      " 33%|███▎      | 1897/5750 [02:35<05:16, 12.19it/s]"
     ]
    },
    {
     "name": "stdout",
     "output_type": "stream",
     "text": [
      "https://wolnelektury.pl/media/book/txt/hauptmann-biedny-henryk.txt\n",
      "https://wolnelektury.pl/media/book/txt/hebbel-dzienniki.txt\n"
     ]
    },
    {
     "name": "stderr",
     "output_type": "stream",
     "text": [
      " 33%|███▎      | 1899/5750 [02:35<05:16, 12.18it/s]"
     ]
    },
    {
     "name": "stdout",
     "output_type": "stream",
     "text": [
      "https://wolnelektury.pl/media/book/txt/hebbel-judyta.txt\n",
      "https://wolnelektury.pl/media/book/txt/heidi.txt\n"
     ]
    },
    {
     "name": "stderr",
     "output_type": "stream",
     "text": [
      " 33%|███▎      | 1902/5750 [02:36<05:16, 12.18it/s]"
     ]
    },
    {
     "name": "stdout",
     "output_type": "stream",
     "text": [
      "https://wolnelektury.pl/media/book/txt/heine-dysputa.txt\n",
      "https://wolnelektury.pl/media/book/txt/hej-w-dzien-narodzenia.txt\n",
      "https://wolnelektury.pl/media/book/txt/helenka.txt\n",
      "https://wolnelektury.pl/media/book/txt/henryk-offterdingen.txt\n"
     ]
    },
    {
     "name": "stderr",
     "output_type": "stream",
     "text": [
      "\r",
      " 33%|███▎      | 1904/5750 [02:36<05:15, 12.17it/s]"
     ]
    },
    {
     "name": "stdout",
     "output_type": "stream",
     "text": [
      "https://wolnelektury.pl/media/book/txt/henrys-i-walus.txt\n",
      "https://wolnelektury.pl/media/book/txt/heyse-cztery-kobiety.txt\n"
     ]
    },
    {
     "name": "stderr",
     "output_type": "stream",
     "text": [
      "\r",
      " 33%|███▎      | 1906/5750 [02:36<05:15, 12.17it/s]"
     ]
    },
    {
     "name": "stdout",
     "output_type": "stream",
     "text": [
      "https://wolnelektury.pl/media/book/txt/heyse-die-schwarze-jakobe.txt\n",
      "https://wolnelektury.pl/media/book/txt/heyse-sabinki.txt\n"
     ]
    },
    {
     "name": "stderr",
     "output_type": "stream",
     "text": [
      " 33%|███▎      | 1910/5750 [02:37<05:15, 12.16it/s]"
     ]
    },
    {
     "name": "stdout",
     "output_type": "stream",
     "text": [
      "https://wolnelektury.pl/media/book/txt/hipokryt.txt\n",
      "https://wolnelektury.pl/media/book/txt/historia-dobrego-bramina.txt\n",
      "https://wolnelektury.pl/media/book/txt/historia-kolka-w-plocie.txt\n"
     ]
    },
    {
     "name": "stderr",
     "output_type": "stream",
     "text": [
      "\r",
      " 33%|███▎      | 1912/5750 [02:37<05:15, 12.15it/s]"
     ]
    },
    {
     "name": "stdout",
     "output_type": "stream",
     "text": [
      "https://wolnelektury.pl/media/book/txt/historia-roku.txt\n",
      "https://wolnelektury.pl/media/book/txt/historia-zoltej-cizemki.txt\n"
     ]
    },
    {
     "name": "stderr",
     "output_type": "stream",
     "text": [
      "\r",
      " 33%|███▎      | 1913/5750 [02:37<05:15, 12.14it/s]"
     ]
    },
    {
     "name": "stdout",
     "output_type": "stream",
     "text": [
      "https://wolnelektury.pl/media/book/txt/historya-prawdziwa-o-petrku-wlascie-palatynie-ktorego-zwano-duninem.txt\n"
     ]
    },
    {
     "name": "stderr",
     "output_type": "stream",
     "text": [
      " 33%|███▎      | 1915/5750 [02:37<05:16, 12.12it/s]"
     ]
    },
    {
     "name": "stdout",
     "output_type": "stream",
     "text": [
      "https://wolnelektury.pl/media/book/txt/hoffmann-das-majorat.txt\n",
      "https://wolnelektury.pl/media/book/txt/hoffmann-der-goldne-topf.txt\n"
     ]
    },
    {
     "name": "stderr",
     "output_type": "stream",
     "text": [
      "\r",
      " 33%|███▎      | 1916/5750 [02:38<05:16, 12.12it/s]"
     ]
    },
    {
     "name": "stdout",
     "output_type": "stream",
     "text": [
      "https://wolnelektury.pl/media/book/txt/hoffmann-don-juan.txt\n",
      "https://wolnelektury.pl/media/book/txt/hoffmann-dziadek-do-orzechow.txt\n"
     ]
    },
    {
     "name": "stderr",
     "output_type": "stream",
     "text": [
      " 33%|███▎      | 1919/5750 [02:38<05:16, 12.11it/s]"
     ]
    },
    {
     "name": "stdout",
     "output_type": "stream",
     "text": [
      "https://wolnelektury.pl/media/book/txt/hoffmann-panna-de-scudery.txt\n",
      "https://wolnelektury.pl/media/book/txt/hoffmann-zloty-garnek.txt\n"
     ]
    },
    {
     "name": "stderr",
     "output_type": "stream",
     "text": [
      " 33%|███▎      | 1922/5750 [02:38<05:16, 12.11it/s]"
     ]
    },
    {
     "name": "stdout",
     "output_type": "stream",
     "text": [
      "https://wolnelektury.pl/media/book/txt/hold-dwa-sonety.txt\n",
      "https://wolnelektury.pl/media/book/txt/hollender-blaski-guberni.txt\n",
      "https://wolnelektury.pl/media/book/txt/hollender-usmiech-warszawy.txt\n",
      "https://wolnelektury.pl/media/book/txt/hollender-warszawa.txt\n"
     ]
    },
    {
     "name": "stderr",
     "output_type": "stream",
     "text": [
      "\r",
      " 33%|███▎      | 1924/5750 [02:38<05:15, 12.11it/s]"
     ]
    },
    {
     "name": "stdout",
     "output_type": "stream",
     "text": [
      "https://wolnelektury.pl/media/book/txt/hollender-warszawa-1942.txt\n",
      "https://wolnelektury.pl/media/book/txt/homer-iliada.txt\n"
     ]
    },
    {
     "name": "stderr",
     "output_type": "stream",
     "text": [
      "\r",
      " 33%|███▎      | 1926/5750 [02:39<05:15, 12.11it/s]"
     ]
    },
    {
     "name": "stdout",
     "output_type": "stream",
     "text": [
      "https://wolnelektury.pl/media/book/txt/homer-odyseja.txt\n"
     ]
    },
    {
     "name": "stderr",
     "output_type": "stream",
     "text": [
      "\r",
      " 34%|███▎      | 1928/5750 [02:39<05:16, 12.09it/s]"
     ]
    },
    {
     "name": "stdout",
     "output_type": "stream",
     "text": [
      "https://wolnelektury.pl/media/book/txt/hop-frog.txt\n",
      "https://wolnelektury.pl/media/book/txt/horla.txt\n",
      "https://wolnelektury.pl/media/book/txt/hrabia-monte-christo.txt\n"
     ]
    },
    {
     "name": "stderr",
     "output_type": "stream",
     "text": [
      "\r",
      " 34%|███▎      | 1930/5750 [02:40<05:16, 12.06it/s]"
     ]
    },
    {
     "name": "stdout",
     "output_type": "stream",
     "text": [
      "https://wolnelektury.pl/media/book/txt/hrabina-cosel.txt\n",
      "https://wolnelektury.pl/media/book/txt/hrabina-cosel-tom-drugi.txt\n"
     ]
    },
    {
     "name": "stderr",
     "output_type": "stream",
     "text": [
      "\r",
      " 34%|███▎      | 1932/5750 [02:40<05:16, 12.06it/s]"
     ]
    },
    {
     "name": "stdout",
     "output_type": "stream",
     "text": [
      "https://wolnelektury.pl/media/book/txt/hrabina-cosel-tom-pierwszy.txt\n"
     ]
    },
    {
     "name": "stderr",
     "output_type": "stream",
     "text": [
      " 34%|███▎      | 1934/5750 [02:40<05:17, 12.03it/s]"
     ]
    },
    {
     "name": "stdout",
     "output_type": "stream",
     "text": [
      "https://wolnelektury.pl/media/book/txt/humboldt-podroz-po-rzece-orinoko.txt\n",
      "https://wolnelektury.pl/media/book/txt/hymn-bogarodzico-dziewico.txt\n",
      "https://wolnelektury.pl/media/book/txt/hymn-do-milosci.txt\n"
     ]
    },
    {
     "name": "stderr",
     "output_type": "stream",
     "text": [
      " 34%|███▎      | 1938/5750 [02:41<05:16, 12.04it/s]"
     ]
    },
    {
     "name": "stdout",
     "output_type": "stream",
     "text": [
      "https://wolnelektury.pl/media/book/txt/hymn-do-milosci-ojczyzny.txt\n",
      "https://wolnelektury.pl/media/book/txt/hymn-do-nirwany.txt\n",
      "https://wolnelektury.pl/media/book/txt/hymn-niemych.txt\n"
     ]
    },
    {
     "name": "stderr",
     "output_type": "stream",
     "text": [
      " 34%|███▍      | 1942/5750 [02:41<05:16, 12.04it/s]"
     ]
    },
    {
     "name": "stdout",
     "output_type": "stream",
     "text": [
      "https://wolnelektury.pl/media/book/txt/hymn-o-zachodzie-slonca-na-morzu.txt\n",
      "https://wolnelektury.pl/media/book/txt/hymny.txt\n",
      "https://wolnelektury.pl/media/book/txt/hymny-dies-irae.txt\n",
      "https://wolnelektury.pl/media/book/txt/hymny-hymn-marii-egipcjanki.txt\n"
     ]
    },
    {
     "name": "stderr",
     "output_type": "stream",
     "text": [
      "\r",
      " 34%|███▍      | 1944/5750 [02:41<05:16, 12.04it/s]"
     ]
    },
    {
     "name": "stdout",
     "output_type": "stream",
     "text": [
      "https://wolnelektury.pl/media/book/txt/hymny-hymn-sw-franciszka-z-asyzu.txt\n",
      "https://wolnelektury.pl/media/book/txt/hymny-judasz.txt\n",
      "https://wolnelektury.pl/media/book/txt/hymny-moja-piesn-wieczorna.txt\n"
     ]
    },
    {
     "name": "stderr",
     "output_type": "stream",
     "text": [
      " 34%|███▍      | 1948/5750 [02:41<05:15, 12.04it/s]"
     ]
    },
    {
     "name": "stdout",
     "output_type": "stream",
     "text": [
      "https://wolnelektury.pl/media/book/txt/hymny-salome.txt\n",
      "https://wolnelektury.pl/media/book/txt/hymny-salve-regina.txt\n",
      "https://wolnelektury.pl/media/book/txt/hymny-swiety-boze-swiety-mocny.txt\n"
     ]
    },
    {
     "name": "stderr",
     "output_type": "stream",
     "text": [
      "\r",
      " 34%|███▍      | 1950/5750 [02:41<05:15, 12.04it/s]"
     ]
    },
    {
     "name": "stdout",
     "output_type": "stream",
     "text": [
      "https://wolnelektury.pl/media/book/txt/i-piesn-niech-zaplacze.txt\n",
      "https://wolnelektury.pl/media/book/txt/i-wstal-anhelli-z-grobu-za-nim-wszystkie-duchy.txt\n"
     ]
    },
    {
     "name": "stderr",
     "output_type": "stream",
     "text": [
      "\r",
      " 34%|███▍      | 1952/5750 [02:42<05:15, 12.04it/s]"
     ]
    },
    {
     "name": "stdout",
     "output_type": "stream",
     "text": [
      "https://wolnelektury.pl/media/book/txt/idz-cicho-twa-droga-idz-niemo-przez-swiat.txt\n",
      "https://wolnelektury.pl/media/book/txt/idzie-stary-wiarus.txt\n",
      "https://wolnelektury.pl/media/book/txt/idzie-zolnierz-borem-lasem.txt\n"
     ]
    },
    {
     "name": "stderr",
     "output_type": "stream",
     "text": [
      " 34%|███▍      | 1956/5750 [02:42<05:14, 12.05it/s]"
     ]
    },
    {
     "name": "stdout",
     "output_type": "stream",
     "text": [
      "https://wolnelektury.pl/media/book/txt/ignas.txt\n",
      "https://wolnelektury.pl/media/book/txt/impresye.txt\n",
      "https://wolnelektury.pl/media/book/txt/impresye-babie-lato.txt\n"
     ]
    },
    {
     "name": "stderr",
     "output_type": "stream",
     "text": [
      "\r",
      " 34%|███▍      | 1958/5750 [02:42<05:14, 12.05it/s]"
     ]
    },
    {
     "name": "stdout",
     "output_type": "stream",
     "text": [
      "https://wolnelektury.pl/media/book/txt/impresye-capriccio.txt\n",
      "https://wolnelektury.pl/media/book/txt/impresye-dajmonion.txt\n",
      "https://wolnelektury.pl/media/book/txt/impresye-do-gwiazd.txt\n"
     ]
    },
    {
     "name": "stderr",
     "output_type": "stream",
     "text": [
      " 34%|███▍      | 1962/5750 [02:42<05:14, 12.05it/s]"
     ]
    },
    {
     "name": "stdout",
     "output_type": "stream",
     "text": [
      "https://wolnelektury.pl/media/book/txt/impresye-dzwon.txt\n",
      "https://wolnelektury.pl/media/book/txt/impresye-edward-grieg.txt\n",
      "https://wolnelektury.pl/media/book/txt/impresye-erotyk.txt\n"
     ]
    },
    {
     "name": "stderr",
     "output_type": "stream",
     "text": [
      "\r",
      " 34%|███▍      | 1964/5750 [02:42<05:14, 12.05it/s]"
     ]
    },
    {
     "name": "stdout",
     "output_type": "stream",
     "text": [
      "https://wolnelektury.pl/media/book/txt/impresye-feconditas.txt\n",
      "https://wolnelektury.pl/media/book/txt/impresye-humoreska.txt\n",
      "https://wolnelektury.pl/media/book/txt/impresye-i-przyszla-szara-wieczorna-godzina.txt\n"
     ]
    },
    {
     "name": "stderr",
     "output_type": "stream",
     "text": [
      " 34%|███▍      | 1968/5750 [02:43<05:13, 12.05it/s]"
     ]
    },
    {
     "name": "stdout",
     "output_type": "stream",
     "text": [
      "https://wolnelektury.pl/media/book/txt/impresye-iwan-trusz.txt\n",
      "https://wolnelektury.pl/media/book/txt/impresye-jesienia.txt\n",
      "https://wolnelektury.pl/media/book/txt/impresye-kiedy-rosy-spadna.txt\n"
     ]
    },
    {
     "name": "stderr",
     "output_type": "stream",
     "text": [
      " 34%|███▍      | 1972/5750 [02:43<05:13, 12.06it/s]"
     ]
    },
    {
     "name": "stdout",
     "output_type": "stream",
     "text": [
      "https://wolnelektury.pl/media/book/txt/impresye-las.txt\n",
      "https://wolnelektury.pl/media/book/txt/impresye-modlitwa-do-duszy.txt\n",
      "https://wolnelektury.pl/media/book/txt/impresye-moja-zemsta.txt\n",
      "https://wolnelektury.pl/media/book/txt/impresye-noc-swietojanska.txt\n"
     ]
    },
    {
     "name": "stderr",
     "output_type": "stream",
     "text": [
      "\r",
      " 34%|███▍      | 1974/5750 [02:43<05:13, 12.06it/s]"
     ]
    },
    {
     "name": "stdout",
     "output_type": "stream",
     "text": [
      "https://wolnelektury.pl/media/book/txt/impresye-o-wschodzie.txt\n",
      "https://wolnelektury.pl/media/book/txt/impresye-o-zmierzchu.txt\n",
      "https://wolnelektury.pl/media/book/txt/impresye-przebudzenie.txt\n"
     ]
    },
    {
     "name": "stderr",
     "output_type": "stream",
     "text": [
      " 34%|███▍      | 1978/5750 [02:43<05:12, 12.06it/s]"
     ]
    },
    {
     "name": "stdout",
     "output_type": "stream",
     "text": [
      "https://wolnelektury.pl/media/book/txt/impresye-regina-autumni.txt\n",
      "https://wolnelektury.pl/media/book/txt/impresye-roj-plynie-blady.txt\n",
      "https://wolnelektury.pl/media/book/txt/impresye-rozkosz.txt\n",
      "https://wolnelektury.pl/media/book/txt/impresye-rzeka.txt\n"
     ]
    },
    {
     "name": "stderr",
     "output_type": "stream",
     "text": [
      " 34%|███▍      | 1982/5750 [02:44<05:12, 12.07it/s]"
     ]
    },
    {
     "name": "stdout",
     "output_type": "stream",
     "text": [
      "https://wolnelektury.pl/media/book/txt/impresye-sen-nocy-letniej.txt\n",
      "https://wolnelektury.pl/media/book/txt/impresye-sonety.txt\n",
      "https://wolnelektury.pl/media/book/txt/impresye-tryumf.txt\n"
     ]
    },
    {
     "name": "stderr",
     "output_type": "stream",
     "text": [
      "\r",
      " 35%|███▍      | 1984/5750 [02:44<05:12, 12.07it/s]"
     ]
    },
    {
     "name": "stdout",
     "output_type": "stream",
     "text": [
      "https://wolnelektury.pl/media/book/txt/impresye-uroczyska.txt\n",
      "https://wolnelektury.pl/media/book/txt/impresye-w-wagonie.txt\n",
      "https://wolnelektury.pl/media/book/txt/impresye-wierzby-w-polu.txt\n"
     ]
    },
    {
     "name": "stderr",
     "output_type": "stream",
     "text": [
      " 35%|███▍      | 1988/5750 [02:44<05:11, 12.07it/s]"
     ]
    },
    {
     "name": "stdout",
     "output_type": "stream",
     "text": [
      "https://wolnelektury.pl/media/book/txt/impresye-wizya.txt\n",
      "https://wolnelektury.pl/media/book/txt/impresye-wniebowziecie.txt\n",
      "https://wolnelektury.pl/media/book/txt/in-loco-tormentorum.txt\n",
      "https://wolnelektury.pl/media/book/txt/in-loco-tormentorum-motto.txt\n"
     ]
    },
    {
     "name": "stderr",
     "output_type": "stream",
     "text": [
      " 35%|███▍      | 1992/5750 [02:44<05:11, 12.08it/s]"
     ]
    },
    {
     "name": "stdout",
     "output_type": "stream",
     "text": [
      "https://wolnelektury.pl/media/book/txt/in-memoriam-bocklina.txt\n",
      "https://wolnelektury.pl/media/book/txt/in-memoriam-trzech-wielkich-aktorow.txt\n",
      "https://wolnelektury.pl/media/book/txt/infantka.txt\n"
     ]
    },
    {
     "name": "stderr",
     "output_type": "stream",
     "text": [
      "\r",
      " 35%|███▍      | 1994/5750 [02:45<05:11, 12.07it/s]"
     ]
    },
    {
     "name": "stdout",
     "output_type": "stream",
     "text": [
      "https://wolnelektury.pl/media/book/txt/infantka-tom-drugi.txt\n",
      "https://wolnelektury.pl/media/book/txt/infantka-tom-pierwszy.txt\n"
     ]
    },
    {
     "name": "stderr",
     "output_type": "stream",
     "text": [
      "\r",
      " 35%|███▍      | 1996/5750 [02:45<05:11, 12.06it/s]"
     ]
    },
    {
     "name": "stdout",
     "output_type": "stream",
     "text": [
      "https://wolnelektury.pl/media/book/txt/infantka-tom-trzeci.txt\n",
      "https://wolnelektury.pl/media/book/txt/irzykowski-paluba.txt\n"
     ]
    },
    {
     "name": "stderr",
     "output_type": "stream",
     "text": [
      "\r",
      " 35%|███▍      | 1998/5750 [02:45<05:11, 12.05it/s]"
     ]
    },
    {
     "name": "stdout",
     "output_type": "stream",
     "text": [
      "https://wolnelektury.pl/media/book/txt/jablon-i-chlopczyk.txt\n",
      "https://wolnelektury.pl/media/book/txt/jablonka-konopnicka.txt\n",
      "https://wolnelektury.pl/media/book/txt/jacob-aluzje-romantyczne-do-wtorku-zapustnego.txt\n"
     ]
    },
    {
     "name": "stderr",
     "output_type": "stream",
     "text": [
      " 35%|███▍      | 2002/5750 [02:46<05:11, 12.05it/s]"
     ]
    },
    {
     "name": "stdout",
     "output_type": "stream",
     "text": [
      "https://wolnelektury.pl/media/book/txt/jacob-atlantyda.txt\n",
      "https://wolnelektury.pl/media/book/txt/jacob-do-mojego-szwagra.txt\n",
      "https://wolnelektury.pl/media/book/txt/jacob-jak-maria-magdalena.txt\n"
     ]
    },
    {
     "name": "stderr",
     "output_type": "stream",
     "text": [
      "\r",
      " 35%|███▍      | 2004/5750 [02:46<05:10, 12.05it/s]"
     ]
    },
    {
     "name": "stdout",
     "output_type": "stream",
     "text": [
      "https://wolnelektury.pl/media/book/txt/jacob-juz-dosc-astrologii.txt\n",
      "https://wolnelektury.pl/media/book/txt/jacob-malachity.txt\n",
      "https://wolnelektury.pl/media/book/txt/jacob-o-sera-okruchy-lis-kruka-uprasza.txt\n"
     ]
    },
    {
     "name": "stderr",
     "output_type": "stream",
     "text": [
      " 35%|███▍      | 2008/5750 [02:46<05:10, 12.06it/s]"
     ]
    },
    {
     "name": "stdout",
     "output_type": "stream",
     "text": [
      "https://wolnelektury.pl/media/book/txt/jacob-postaci-z-maskarady.txt\n",
      "https://wolnelektury.pl/media/book/txt/jacob-powolanie-wolanie.txt\n",
      "https://wolnelektury.pl/media/book/txt/jacob-quimper.txt\n"
     ]
    },
    {
     "name": "stderr",
     "output_type": "stream",
     "text": [
      "\r",
      " 35%|███▍      | 2010/5750 [02:46<05:10, 12.06it/s]"
     ]
    },
    {
     "name": "stdout",
     "output_type": "stream",
     "text": [
      "https://wolnelektury.pl/media/book/txt/jacob-rojenie-dziwne-byc-moze.txt\n",
      "https://wolnelektury.pl/media/book/txt/jacob-rzut-perspektywy.txt\n",
      "https://wolnelektury.pl/media/book/txt/jacob-skargi-nicponia.txt\n"
     ]
    },
    {
     "name": "stderr",
     "output_type": "stream",
     "text": [
      " 35%|███▌      | 2014/5750 [02:47<05:09, 12.06it/s]"
     ]
    },
    {
     "name": "stdout",
     "output_type": "stream",
     "text": [
      "https://wolnelektury.pl/media/book/txt/jacob-skargi-wieznia.txt\n",
      "https://wolnelektury.pl/media/book/txt/jacob-stadlo-artystow-bez-boga.txt\n",
      "https://wolnelektury.pl/media/book/txt/jacob-tysiac-ubolewan.txt\n",
      "https://wolnelektury.pl/media/book/txt/jacob-wiecej-nizli-jez-bialy.txt\n"
     ]
    },
    {
     "name": "stderr",
     "output_type": "stream",
     "text": [
      " 35%|███▌      | 2018/5750 [02:47<05:09, 12.06it/s]"
     ]
    },
    {
     "name": "stdout",
     "output_type": "stream",
     "text": [
      "https://wolnelektury.pl/media/book/txt/jacob-ziemia-zroszona.txt\n",
      "https://wolnelektury.pl/media/book/txt/jagnie-i-wilcy.txt\n",
      "https://wolnelektury.pl/media/book/txt/jak-konia-sprzedal-i-przez-las-wracal.txt\n"
     ]
    },
    {
     "name": "stderr",
     "output_type": "stream",
     "text": [
      "\r",
      " 35%|███▌      | 2020/5750 [02:47<05:09, 12.06it/s]"
     ]
    },
    {
     "name": "stdout",
     "output_type": "stream",
     "text": [
      "https://wolnelektury.pl/media/book/txt/jak-mancia-czyta-ksiazeczke.txt\n",
      "https://wolnelektury.pl/media/book/txt/jak-na-sw-jana-figura-doradzala-marysi.txt\n",
      "https://wolnelektury.pl/media/book/txt/jak-ognia-szukalem.txt\n"
     ]
    },
    {
     "name": "stderr",
     "output_type": "stream",
     "text": [
      " 35%|███▌      | 2024/5750 [02:47<05:08, 12.06it/s]"
     ]
    },
    {
     "name": "stdout",
     "output_type": "stream",
     "text": [
      "https://wolnelektury.pl/media/book/txt/jak-sie-dzieci-chwala.txt\n",
      "https://wolnelektury.pl/media/book/txt/jak-sie-zowie.txt\n",
      "https://wolnelektury.pl/media/book/txt/jak-skonczyc-z-pieklem-kobiet.txt\n"
     ]
    },
    {
     "name": "stderr",
     "output_type": "stream",
     "text": [
      "\r",
      " 35%|███▌      | 2026/5750 [02:47<05:08, 12.06it/s]"
     ]
    },
    {
     "name": "stdout",
     "output_type": "stream",
     "text": [
      "https://wolnelektury.pl/media/book/txt/jak-szla-wisla-do-morza.txt\n",
      "https://wolnelektury.pl/media/book/txt/jak-to-bedzie.txt\n",
      "https://wolnelektury.pl/media/book/txt/jak-to-w-naszym-dworze.txt\n"
     ]
    },
    {
     "name": "stderr",
     "output_type": "stream",
     "text": [
      "\r",
      " 35%|███▌      | 2028/5750 [02:48<05:08, 12.06it/s]"
     ]
    },
    {
     "name": "stdout",
     "output_type": "stream",
     "text": [
      "https://wolnelektury.pl/media/book/txt/jak-wam-sie-podoba.txt\n",
      "https://wolnelektury.pl/media/book/txt/jakton.txt\n"
     ]
    },
    {
     "name": "stderr",
     "output_type": "stream",
     "text": [
      " 35%|███▌      | 2032/5750 [02:48<05:08, 12.06it/s]"
     ]
    },
    {
     "name": "stdout",
     "output_type": "stream",
     "text": [
      "https://wolnelektury.pl/media/book/txt/jalmuzna-mysli.txt\n",
      "https://wolnelektury.pl/media/book/txt/jammes-snieg-spadnie.txt\n",
      "https://wolnelektury.pl/media/book/txt/jan-bielecki.txt\n"
     ]
    },
    {
     "name": "stderr",
     "output_type": "stream",
     "text": [
      "\r",
      " 35%|███▌      | 2034/5750 [02:48<05:08, 12.06it/s]"
     ]
    },
    {
     "name": "stdout",
     "output_type": "stream",
     "text": [
      "https://wolnelektury.pl/media/book/txt/janek-wybiera-sie-w-droge.txt\n",
      "https://wolnelektury.pl/media/book/txt/janicki-boli-ze-boli.txt\n",
      "https://wolnelektury.pl/media/book/txt/janicki-chory-smutku.txt\n"
     ]
    },
    {
     "name": "stderr",
     "output_type": "stream",
     "text": [
      " 35%|███▌      | 2038/5750 [02:48<05:07, 12.07it/s]"
     ]
    },
    {
     "name": "stdout",
     "output_type": "stream",
     "text": [
      "https://wolnelektury.pl/media/book/txt/janicki-chylac-czolo-w-napadzie-westchnien.txt\n",
      "https://wolnelektury.pl/media/book/txt/janicki-do-dnia.txt\n",
      "https://wolnelektury.pl/media/book/txt/janicki-do-nocy.txt\n",
      "https://wolnelektury.pl/media/book/txt/janicki-druga-czesc.txt\n"
     ]
    },
    {
     "name": "stderr",
     "output_type": "stream",
     "text": [
      " 36%|███▌      | 2042/5750 [02:49<05:07, 12.07it/s]"
     ]
    },
    {
     "name": "stdout",
     "output_type": "stream",
     "text": [
      "https://wolnelektury.pl/media/book/txt/janicki-dwa-brzdeki.txt\n",
      "https://wolnelektury.pl/media/book/txt/janicki-fiukajace-okna.txt\n",
      "https://wolnelektury.pl/media/book/txt/janicki-i-nas-wybawi.txt\n"
     ]
    },
    {
     "name": "stderr",
     "output_type": "stream",
     "text": [
      " 36%|███▌      | 2046/5750 [02:49<05:06, 12.07it/s]"
     ]
    },
    {
     "name": "stdout",
     "output_type": "stream",
     "text": [
      "https://wolnelektury.pl/media/book/txt/janicki-jak-rousseau-i-jak-rousseau.txt\n",
      "https://wolnelektury.pl/media/book/txt/janicki-lek-i-krolowa-sciany.txt\n",
      "https://wolnelektury.pl/media/book/txt/janicki-letni-dzien-cie-pokocha.txt\n",
      "https://wolnelektury.pl/media/book/txt/janicki-mokra-koszula.txt\n"
     ]
    },
    {
     "name": "stderr",
     "output_type": "stream",
     "text": [
      "\r",
      " 36%|███▌      | 2048/5750 [02:49<05:06, 12.08it/s]"
     ]
    },
    {
     "name": "stdout",
     "output_type": "stream",
     "text": [
      "https://wolnelektury.pl/media/book/txt/janicki-nadal-aksamit.txt\n",
      "https://wolnelektury.pl/media/book/txt/janicki-nadal-aksamit-chetnie-jaskinia.txt\n",
      "https://wolnelektury.pl/media/book/txt/janicki-nadal-aksamit-dedykacja.txt\n"
     ]
    },
    {
     "name": "stderr",
     "output_type": "stream",
     "text": [
      " 36%|███▌      | 2052/5750 [02:49<05:06, 12.08it/s]"
     ]
    },
    {
     "name": "stdout",
     "output_type": "stream",
     "text": [
      "https://wolnelektury.pl/media/book/txt/janicki-nadal-aksamit-dziekuje-bardzo.txt\n",
      "https://wolnelektury.pl/media/book/txt/janicki-nadal-aksamit-kiedy-piesn-swiata-wabi-uczucia.txt\n",
      "https://wolnelektury.pl/media/book/txt/janicki-nadal-aksamit-kwiaty-i-lzy.txt\n",
      "https://wolnelektury.pl/media/book/txt/janicki-nadal-aksamit-mokra-koszula-cykl.txt\n"
     ]
    },
    {
     "name": "stderr",
     "output_type": "stream",
     "text": [
      " 36%|███▌      | 2056/5750 [02:50<05:05, 12.09it/s]"
     ]
    },
    {
     "name": "stdout",
     "output_type": "stream",
     "text": [
      "https://wolnelektury.pl/media/book/txt/janicki-nadal-aksamit-oko-odbite-w-szybie.txt\n",
      "https://wolnelektury.pl/media/book/txt/janicki-nadal-aksamit-pustkowie.txt\n",
      "https://wolnelektury.pl/media/book/txt/janicki-nadal-aksamit-wybrane-zagadnienia.txt\n",
      "https://wolnelektury.pl/media/book/txt/janicki-otucha.txt\n"
     ]
    },
    {
     "name": "stderr",
     "output_type": "stream",
     "text": [
      " 36%|███▌      | 2060/5750 [02:50<05:05, 12.09it/s]"
     ]
    },
    {
     "name": "stdout",
     "output_type": "stream",
     "text": [
      "https://wolnelektury.pl/media/book/txt/janicki-plonace-lody-w-kapiodoro.txt\n",
      "https://wolnelektury.pl/media/book/txt/janicki-przytulny-klos.txt\n",
      "https://wolnelektury.pl/media/book/txt/janicki-serce.txt\n"
     ]
    },
    {
     "name": "stderr",
     "output_type": "stream",
     "text": [
      "\r",
      " 36%|███▌      | 2062/5750 [02:50<05:05, 12.09it/s]"
     ]
    },
    {
     "name": "stdout",
     "output_type": "stream",
     "text": [
      "https://wolnelektury.pl/media/book/txt/janicki-sloneczna-tortura.txt\n",
      "https://wolnelektury.pl/media/book/txt/janicki-t.txt\n",
      "https://wolnelektury.pl/media/book/txt/janicki-trzy-flakony.txt\n"
     ]
    },
    {
     "name": "stderr",
     "output_type": "stream",
     "text": [
      " 36%|███▌      | 2066/5750 [02:50<05:04, 12.10it/s]"
     ]
    },
    {
     "name": "stdout",
     "output_type": "stream",
     "text": [
      "https://wolnelektury.pl/media/book/txt/janicki-w-przejsciu.txt\n",
      "https://wolnelektury.pl/media/book/txt/janicki-wybrane-zagadnienia.txt\n",
      "https://wolnelektury.pl/media/book/txt/janicki-z-sankami-w-grobie.txt\n",
      "https://wolnelektury.pl/media/book/txt/janicki-zdrowia.txt\n"
     ]
    },
    {
     "name": "stderr",
     "output_type": "stream",
     "text": [
      " 36%|███▌      | 2070/5750 [02:51<05:04, 12.10it/s]"
     ]
    },
    {
     "name": "stdout",
     "output_type": "stream",
     "text": [
      "https://wolnelektury.pl/media/book/txt/janicki-zupelnie-jakby-wsluchiwac-sie-w-plynacy-rzeka-lod.txt\n",
      "https://wolnelektury.pl/media/book/txt/janko-muzykant.txt\n",
      "https://wolnelektury.pl/media/book/txt/jas.txt\n"
     ]
    },
    {
     "name": "stderr",
     "output_type": "stream",
     "text": [
      "\r",
      " 36%|███▌      | 2072/5750 [02:51<05:03, 12.10it/s]"
     ]
    },
    {
     "name": "stdout",
     "output_type": "stream",
     "text": [
      "https://wolnelektury.pl/media/book/txt/jas-bajki-nowe.txt\n",
      "https://wolnelektury.pl/media/book/txt/jas-i-malgosia.txt\n",
      "https://wolnelektury.pl/media/book/txt/jasio-spioszek.txt\n"
     ]
    },
    {
     "name": "stderr",
     "output_type": "stream",
     "text": [
      " 36%|███▌      | 2076/5750 [02:51<05:03, 12.10it/s]"
     ]
    },
    {
     "name": "stdout",
     "output_type": "stream",
     "text": [
      "https://wolnelektury.pl/media/book/txt/jaskoleczka-jaskoleczko-jaskoleczko.txt\n",
      "https://wolnelektury.pl/media/book/txt/jaskoleczka-wstancie-dzieci.txt\n",
      "https://wolnelektury.pl/media/book/txt/jaskolka-czarna-jaskoleczka.txt\n"
     ]
    },
    {
     "name": "stderr",
     "output_type": "stream",
     "text": [
      " 36%|███▌      | 2080/5750 [02:51<05:03, 12.11it/s]"
     ]
    },
    {
     "name": "stdout",
     "output_type": "stream",
     "text": [
      "https://wolnelektury.pl/media/book/txt/jaskolka-jaskoleczka-do-nas-wraca.txt\n",
      "https://wolnelektury.pl/media/book/txt/jasna-niedziela.txt\n",
      "https://wolnelektury.pl/media/book/txt/jastrzab-i-sokol.txt\n",
      "https://wolnelektury.pl/media/book/txt/jednooczka-dwuoczka-trzyoczka.txt\n"
     ]
    },
    {
     "name": "stderr",
     "output_type": "stream",
     "text": [
      "\r",
      " 36%|███▌      | 2082/5750 [02:51<05:02, 12.11it/s]"
     ]
    },
    {
     "name": "stdout",
     "output_type": "stream",
     "text": [
      "https://wolnelektury.pl/media/book/txt/jednozenstwo-i-wielozenstwo.txt\n",
      "https://wolnelektury.pl/media/book/txt/jedza.txt\n"
     ]
    },
    {
     "name": "stderr",
     "output_type": "stream",
     "text": [
      "\r",
      " 36%|███▌      | 2084/5750 [02:52<05:02, 12.10it/s]"
     ]
    },
    {
     "name": "stdout",
     "output_type": "stream",
     "text": [
      "https://wolnelektury.pl/media/book/txt/jego-zasady.txt\n",
      "https://wolnelektury.pl/media/book/txt/jesienia-wiersz-dla-dzieci.txt\n",
      "https://wolnelektury.pl/media/book/txt/jest-on-jeszcze-bardzo-oddalony.txt\n"
     ]
    },
    {
     "name": "stderr",
     "output_type": "stream",
     "text": [
      " 36%|███▋      | 2088/5750 [02:52<05:02, 12.11it/s]"
     ]
    },
    {
     "name": "stdout",
     "output_type": "stream",
     "text": [
      "https://wolnelektury.pl/media/book/txt/jeszcze-jeden-mazur-dzisiaj.txt\n",
      "https://wolnelektury.pl/media/book/txt/jeszcze-polska-nie-zginela-mazurek.txt\n",
      "https://wolnelektury.pl/media/book/txt/jeszczes-polsko-nie-zginela.txt\n",
      "https://wolnelektury.pl/media/book/txt/jezeli-ci-pan-nie-zbuduje-domu.txt\n"
     ]
    },
    {
     "name": "stderr",
     "output_type": "stream",
     "text": [
      " 36%|███▋      | 2092/5750 [02:52<05:02, 12.11it/s]"
     ]
    },
    {
     "name": "stdout",
     "output_type": "stream",
     "text": [
      "https://wolnelektury.pl/media/book/txt/jezus-malusienki.txt\n",
      "https://wolnelektury.pl/media/book/txt/joanna-mueller-1-iv-2000.txt\n",
      "https://wolnelektury.pl/media/book/txt/jodla-i-jablon-bajki-nowe.txt\n"
     ]
    },
    {
     "name": "stderr",
     "output_type": "stream",
     "text": [
      "\r",
      " 36%|███▋      | 2094/5750 [02:52<05:01, 12.11it/s]"
     ]
    },
    {
     "name": "stdout",
     "output_type": "stream",
     "text": [
      "https://wolnelektury.pl/media/book/txt/jowisz-i-owce.txt\n",
      "https://wolnelektury.pl/media/book/txt/julianka.txt\n",
      "https://wolnelektury.pl/media/book/txt/juliusz-cezar.txt\n"
     ]
    },
    {
     "name": "stderr",
     "output_type": "stream",
     "text": [
      " 36%|███▋      | 2098/5750 [02:53<05:01, 12.11it/s]"
     ]
    },
    {
     "name": "stdout",
     "output_type": "stream",
     "text": [
      "https://wolnelektury.pl/media/book/txt/junosza-motinai.txt\n",
      "https://wolnelektury.pl/media/book/txt/junosza-zajac.txt\n",
      "https://wolnelektury.pl/media/book/txt/justynka.txt\n"
     ]
    },
    {
     "name": "stderr",
     "output_type": "stream",
     "text": [
      "\r",
      " 37%|███▋      | 2100/5750 [02:53<05:01, 12.11it/s]"
     ]
    },
    {
     "name": "stdout",
     "output_type": "stream",
     "text": [
      "https://wolnelektury.pl/media/book/txt/juz.txt\n",
      "https://wolnelektury.pl/media/book/txt/juz-nie-wiem-co-poza-mna-bylo.txt\n",
      "https://wolnelektury.pl/media/book/txt/juz-swit.txt\n"
     ]
    },
    {
     "name": "stderr",
     "output_type": "stream",
     "text": [
      "\r",
      " 37%|███▋      | 2102/5750 [02:53<05:01, 12.11it/s]"
     ]
    },
    {
     "name": "stdout",
     "output_type": "stream",
     "text": [
      "https://wolnelektury.pl/media/book/txt/kacyzne-chore-perly-i-inne-opowiadania.txt\n",
      "https://wolnelektury.pl/media/book/txt/kacyzne-dziwny-zyd.txt\n"
     ]
    },
    {
     "name": "stderr",
     "output_type": "stream",
     "text": [
      " 37%|███▋      | 2106/5750 [02:53<05:01, 12.10it/s]"
     ]
    },
    {
     "name": "stdout",
     "output_type": "stream",
     "text": [
      "https://wolnelektury.pl/media/book/txt/kacyzne-remedium-dla-literatow.txt\n",
      "https://wolnelektury.pl/media/book/txt/kacyzne-stare-miasto.txt\n",
      "https://wolnelektury.pl/media/book/txt/kahn-spiewaj-wolno.txt\n"
     ]
    },
    {
     "name": "stderr",
     "output_type": "stream",
     "text": [
      "\r",
      " 37%|███▋      | 2108/5750 [02:54<05:00, 12.10it/s]"
     ]
    },
    {
     "name": "stdout",
     "output_type": "stream",
     "text": [
      "https://wolnelektury.pl/media/book/txt/kalamarz-i-pioro.txt\n",
      "https://wolnelektury.pl/media/book/txt/kameleon.txt\n",
      "https://wolnelektury.pl/media/book/txt/kamien.txt\n"
     ]
    },
    {
     "name": "stderr",
     "output_type": "stream",
     "text": [
      " 37%|███▋      | 2112/5750 [02:54<05:00, 12.11it/s]"
     ]
    },
    {
     "name": "stdout",
     "output_type": "stream",
     "text": [
      "https://wolnelektury.pl/media/book/txt/kamien-ampulki.txt\n",
      "https://wolnelektury.pl/media/book/txt/kamien-front.txt\n",
      "https://wolnelektury.pl/media/book/txt/kamien-inwokacja.txt\n"
     ]
    },
    {
     "name": "stderr",
     "output_type": "stream",
     "text": [
      "\r",
      " 37%|███▋      | 2114/5750 [02:54<05:00, 12.11it/s]"
     ]
    },
    {
     "name": "stdout",
     "output_type": "stream",
     "text": [
      "https://wolnelektury.pl/media/book/txt/kamien-knajpa.txt\n",
      "https://wolnelektury.pl/media/book/txt/kamien-koniec-rewolucji.txt\n",
      "https://wolnelektury.pl/media/book/txt/kamien-na-wsi.txt\n"
     ]
    },
    {
     "name": "stderr",
     "output_type": "stream",
     "text": [
      " 37%|███▋      | 2118/5750 [02:54<04:59, 12.11it/s]"
     ]
    },
    {
     "name": "stdout",
     "output_type": "stream",
     "text": [
      "https://wolnelektury.pl/media/book/txt/kamien-o-niebie.txt\n",
      "https://wolnelektury.pl/media/book/txt/kamien-pedem.txt\n",
      "https://wolnelektury.pl/media/book/txt/kamien-piosenka-ze-lzami.txt\n"
     ]
    },
    {
     "name": "stderr",
     "output_type": "stream",
     "text": [
      "\r",
      " 37%|███▋      | 2120/5750 [02:55<04:59, 12.11it/s]"
     ]
    },
    {
     "name": "stdout",
     "output_type": "stream",
     "text": [
      "https://wolnelektury.pl/media/book/txt/kamien-przemiany.txt\n",
      "https://wolnelektury.pl/media/book/txt/kamien-smierc.txt\n",
      "https://wolnelektury.pl/media/book/txt/kamien-we-czterech.txt\n"
     ]
    },
    {
     "name": "stderr",
     "output_type": "stream",
     "text": [
      " 37%|███▋      | 2124/5750 [02:55<04:59, 12.11it/s]"
     ]
    },
    {
     "name": "stdout",
     "output_type": "stream",
     "text": [
      "https://wolnelektury.pl/media/book/txt/kamien-wiezien-milosci.txt\n",
      "https://wolnelektury.pl/media/book/txt/kamizelka.txt\n",
      "https://wolnelektury.pl/media/book/txt/kandyd.txt\n",
      "https://wolnelektury.pl/media/book/txt/kapitan-czart.txt\n"
     ]
    },
    {
     "name": "stderr",
     "output_type": "stream",
     "text": [
      "\r",
      " 37%|███▋      | 2126/5750 [02:55<04:59, 12.09it/s]"
     ]
    },
    {
     "name": "stdout",
     "output_type": "stream",
     "text": [
      "https://wolnelektury.pl/media/book/txt/kapitanowie-zuchy.txt\n",
      "https://wolnelektury.pl/media/book/txt/kaprys.txt\n"
     ]
    },
    {
     "name": "stderr",
     "output_type": "stream",
     "text": [
      "\r",
      " 37%|███▋      | 2128/5750 [02:56<04:59, 12.08it/s]"
     ]
    },
    {
     "name": "stdout",
     "output_type": "stream",
     "text": [
      "https://wolnelektury.pl/media/book/txt/kariera-nikodema-dyzmy.txt\n"
     ]
    },
    {
     "name": "stderr",
     "output_type": "stream",
     "text": [
      " 37%|███▋      | 2131/5750 [02:56<04:59, 12.07it/s]"
     ]
    },
    {
     "name": "stdout",
     "output_type": "stream",
     "text": [
      "https://wolnelektury.pl/media/book/txt/karl-krug.txt\n",
      "https://wolnelektury.pl/media/book/txt/karolek-i-slonce.txt\n",
      "https://wolnelektury.pl/media/book/txt/karpinski-when-god-is-born-no-power-prevails.txt\n"
     ]
    },
    {
     "name": "stderr",
     "output_type": "stream",
     "text": [
      "\r",
      " 37%|███▋      | 2133/5750 [02:56<04:59, 12.08it/s]"
     ]
    },
    {
     "name": "stdout",
     "output_type": "stream",
     "text": [
      "https://wolnelektury.pl/media/book/txt/kartownik.txt\n",
      "https://wolnelektury.pl/media/book/txt/kasprowicz-badz-pozdrowiona.txt\n",
      "https://wolnelektury.pl/media/book/txt/kasprowicz-odi-profanum-volgus.txt\n"
     ]
    },
    {
     "name": "stderr",
     "output_type": "stream",
     "text": [
      " 37%|███▋      | 2137/5750 [02:56<04:59, 12.08it/s]"
     ]
    },
    {
     "name": "stdout",
     "output_type": "stream",
     "text": [
      "https://wolnelektury.pl/media/book/txt/kasprowicz-powiadaja-ze-w-nas-nie-ma.txt\n",
      "https://wolnelektury.pl/media/book/txt/kasprowicz-siadz-na-kamieniu.txt\n",
      "https://wolnelektury.pl/media/book/txt/kasprowicz-stary-czarny-krzyz.txt\n"
     ]
    },
    {
     "name": "stderr",
     "output_type": "stream",
     "text": [
      "\r",
      " 37%|███▋      | 2139/5750 [02:57<04:58, 12.08it/s]"
     ]
    },
    {
     "name": "stdout",
     "output_type": "stream",
     "text": [
      "https://wolnelektury.pl/media/book/txt/kasprowicz-welcome-my-beloved-mountains.txt\n",
      "https://wolnelektury.pl/media/book/txt/katarynka.txt\n",
      "https://wolnelektury.pl/media/book/txt/katechizm-polskiego-dziecka.txt\n"
     ]
    },
    {
     "name": "stderr",
     "output_type": "stream",
     "text": [
      " 37%|███▋      | 2143/5750 [02:57<04:58, 12.08it/s]"
     ]
    },
    {
     "name": "stdout",
     "output_type": "stream",
     "text": [
      "https://wolnelektury.pl/media/book/txt/katechizm-polskiego-dziecka-cnoty-kardynalne.txt\n",
      "https://wolnelektury.pl/media/book/txt/katechizm-polskiego-dziecka-co-kochac.txt\n",
      "https://wolnelektury.pl/media/book/txt/katechizm-polskiego-dziecka-czym-bede.txt\n"
     ]
    },
    {
     "name": "stderr",
     "output_type": "stream",
     "text": [
      "\r",
      " 37%|███▋      | 2145/5750 [02:57<04:58, 12.08it/s]"
     ]
    },
    {
     "name": "stdout",
     "output_type": "stream",
     "text": [
      "https://wolnelektury.pl/media/book/txt/katechizm-polskiego-dziecka-disce-puer.txt\n",
      "https://wolnelektury.pl/media/book/txt/katechizm-polskiego-dziecka-do-polskiego-chlopiecia.txt\n",
      "https://wolnelektury.pl/media/book/txt/katechizm-polskiego-dziecka-do-polskiej-dzieweczki.txt\n"
     ]
    },
    {
     "name": "stderr",
     "output_type": "stream",
     "text": [
      " 37%|███▋      | 2149/5750 [02:57<04:57, 12.09it/s]"
     ]
    },
    {
     "name": "stdout",
     "output_type": "stream",
     "text": [
      "https://wolnelektury.pl/media/book/txt/katechizm-polskiego-dziecka-katechizm-polskiego-dziecka.txt\n",
      "https://wolnelektury.pl/media/book/txt/katechizm-polskiego-dziecka-legenda-o-garsci-ziemi-polskiej.txt\n",
      "https://wolnelektury.pl/media/book/txt/katechizm-polskiego-dziecka-marsz-skautow.txt\n",
      "https://wolnelektury.pl/media/book/txt/katechizm-polskiego-dziecka-modlitwa-polskiego-dziewczecia.txt\n"
     ]
    },
    {
     "name": "stderr",
     "output_type": "stream",
     "text": [
      " 37%|███▋      | 2153/5750 [02:58<04:57, 12.09it/s]"
     ]
    },
    {
     "name": "stdout",
     "output_type": "stream",
     "text": [
      "https://wolnelektury.pl/media/book/txt/katechizm-polskiego-dziecka-modlitwa-za-ojczyzne.txt\n",
      "https://wolnelektury.pl/media/book/txt/katechizm-polskiego-dziecka-o-celu-polaka.txt\n",
      "https://wolnelektury.pl/media/book/txt/katechizm-polskiego-dziecka-polska-mowa.txt\n",
      "https://wolnelektury.pl/media/book/txt/katechizm-polskiego-dziecka-w-podziemiach-wawelu.txt\n"
     ]
    },
    {
     "name": "stderr",
     "output_type": "stream",
     "text": [
      " 38%|███▊      | 2157/5750 [02:58<04:57, 12.10it/s]"
     ]
    },
    {
     "name": "stdout",
     "output_type": "stream",
     "text": [
      "https://wolnelektury.pl/media/book/txt/katechizm-polskiego-dziecka-ziemia-rodzinna.txt\n",
      "https://wolnelektury.pl/media/book/txt/kazdy-domku-swego-strzeze.txt\n",
      "https://wolnelektury.pl/media/book/txt/kedy-plyna-dwa-zlote-ruczaje.txt\n"
     ]
    },
    {
     "name": "stderr",
     "output_type": "stream",
     "text": [
      "\r",
      " 38%|███▊      | 2159/5750 [02:58<04:56, 12.10it/s]"
     ]
    },
    {
     "name": "stdout",
     "output_type": "stream",
     "text": [
      "https://wolnelektury.pl/media/book/txt/keff-anarchistka-i-policjant.txt\n",
      "https://wolnelektury.pl/media/book/txt/keff-benjamin-i-zbyszek.txt\n",
      "https://wolnelektury.pl/media/book/txt/keff-bibliotekarka.txt\n"
     ]
    },
    {
     "name": "stderr",
     "output_type": "stream",
     "text": [
      " 38%|███▊      | 2163/5750 [02:58<04:56, 12.10it/s]"
     ]
    },
    {
     "name": "stdout",
     "output_type": "stream",
     "text": [
      "https://wolnelektury.pl/media/book/txt/keff-blues-pod-tytulem-snajper.txt\n",
      "https://wolnelektury.pl/media/book/txt/keff-cezar-i-wercyngetoryks.txt\n",
      "https://wolnelektury.pl/media/book/txt/keff-cienie.txt\n",
      "https://wolnelektury.pl/media/book/txt/keff-co-mam-w-kieszeni.txt\n"
     ]
    },
    {
     "name": "stderr",
     "output_type": "stream",
     "text": [
      " 38%|███▊      | 2167/5750 [02:58<04:55, 12.11it/s]"
     ]
    },
    {
     "name": "stdout",
     "output_type": "stream",
     "text": [
      "https://wolnelektury.pl/media/book/txt/keff-czwarta-panna-bronte.txt\n",
      "https://wolnelektury.pl/media/book/txt/keff-dom-pracy-tworczej.txt\n",
      "https://wolnelektury.pl/media/book/txt/keff-dom-spania.txt\n",
      "https://wolnelektury.pl/media/book/txt/keff-dom-zgodnosci.txt\n"
     ]
    },
    {
     "name": "stderr",
     "output_type": "stream",
     "text": [
      " 38%|███▊      | 2171/5750 [02:59<04:55, 12.11it/s]"
     ]
    },
    {
     "name": "stdout",
     "output_type": "stream",
     "text": [
      "https://wolnelektury.pl/media/book/txt/keff-domek-dzyn.txt\n",
      "https://wolnelektury.pl/media/book/txt/keff-drugi-domowy-wiersz.txt\n",
      "https://wolnelektury.pl/media/book/txt/keff-dziewczynka-kra-kra-z-zapalkami.txt\n",
      "https://wolnelektury.pl/media/book/txt/keff-hermafrodyty.txt\n"
     ]
    },
    {
     "name": "stderr",
     "output_type": "stream",
     "text": [
      " 38%|███▊      | 2175/5750 [02:59<04:55, 12.11it/s]"
     ]
    },
    {
     "name": "stdout",
     "output_type": "stream",
     "text": [
      "https://wolnelektury.pl/media/book/txt/keff-hunowie.txt\n",
      "https://wolnelektury.pl/media/book/txt/keff-inne-mozliwosci.txt\n",
      "https://wolnelektury.pl/media/book/txt/keff-jasne-cholerny-trupie.txt\n",
      "https://wolnelektury.pl/media/book/txt/keff-kolejka-do-jehowy.txt\n"
     ]
    },
    {
     "name": "stderr",
     "output_type": "stream",
     "text": [
      " 38%|███▊      | 2179/5750 [02:59<04:54, 12.12it/s]"
     ]
    },
    {
     "name": "stdout",
     "output_type": "stream",
     "text": [
      "https://wolnelektury.pl/media/book/txt/keff-mdlejacy-afrykanski-dyplomata.txt\n",
      "https://wolnelektury.pl/media/book/txt/keff-miedzy-psem-a-wilkiem.txt\n",
      "https://wolnelektury.pl/media/book/txt/keff-miejsce-do-przesuwania.txt\n",
      "https://wolnelektury.pl/media/book/txt/keff-na-skrzydlach-wiatru.txt\n"
     ]
    },
    {
     "name": "stderr",
     "output_type": "stream",
     "text": [
      " 38%|███▊      | 2183/5750 [03:00<04:54, 12.12it/s]"
     ]
    },
    {
     "name": "stdout",
     "output_type": "stream",
     "text": [
      "https://wolnelektury.pl/media/book/txt/keff-nadchodze-juz.txt\n",
      "https://wolnelektury.pl/media/book/txt/keff-namiot-oczekiwanej-milosci.txt\n",
      "https://wolnelektury.pl/media/book/txt/keff-nie-jest-gotowy.txt\n",
      "https://wolnelektury.pl/media/book/txt/keff-nie-jest-gotowy-cykl.txt\n"
     ]
    },
    {
     "name": "stderr",
     "output_type": "stream",
     "text": [
      " 38%|███▊      | 2187/5750 [03:00<04:53, 12.13it/s]"
     ]
    },
    {
     "name": "stdout",
     "output_type": "stream",
     "text": [
      "https://wolnelektury.pl/media/book/txt/keff-nie-jest-gotowy-nie-jest-gotowy.txt\n",
      "https://wolnelektury.pl/media/book/txt/keff-nieskonczonosc.txt\n",
      "https://wolnelektury.pl/media/book/txt/keff-nocny-pociag.txt\n",
      "https://wolnelektury.pl/media/book/txt/keff-nosferatu-wampir.txt\n"
     ]
    },
    {
     "name": "stderr",
     "output_type": "stream",
     "text": [
      " 38%|███▊      | 2191/5750 [03:00<04:53, 12.13it/s]"
     ]
    },
    {
     "name": "stdout",
     "output_type": "stream",
     "text": [
      "https://wolnelektury.pl/media/book/txt/keff-o-kotek.txt\n",
      "https://wolnelektury.pl/media/book/txt/keff-o-pocieszeniu-jakie-daje-poezja.txt\n",
      "https://wolnelektury.pl/media/book/txt/keff-odwieczne-sniegi.txt\n"
     ]
    },
    {
     "name": "stderr",
     "output_type": "stream",
     "text": [
      " 38%|███▊      | 2195/5750 [03:00<04:52, 12.14it/s]"
     ]
    },
    {
     "name": "stdout",
     "output_type": "stream",
     "text": [
      "https://wolnelektury.pl/media/book/txt/keff-opiekun.txt\n",
      "https://wolnelektury.pl/media/book/txt/keff-pierwszy-domowy-wiersz.txt\n",
      "https://wolnelektury.pl/media/book/txt/keff-pisarz-sag.txt\n",
      "https://wolnelektury.pl/media/book/txt/keff-pokojowka-kafki.txt\n"
     ]
    },
    {
     "name": "stderr",
     "output_type": "stream",
     "text": [
      "\r",
      " 38%|███▊      | 2197/5750 [03:01<04:52, 12.14it/s]"
     ]
    },
    {
     "name": "stdout",
     "output_type": "stream",
     "text": [
      "https://wolnelektury.pl/media/book/txt/keff-pomiedzy.txt\n",
      "https://wolnelektury.pl/media/book/txt/keff-razem-osobno-cykl.txt\n",
      "https://wolnelektury.pl/media/book/txt/keff-rita-gombrowicz-citroen-w-vance-1966.txt\n"
     ]
    },
    {
     "name": "stderr",
     "output_type": "stream",
     "text": [
      " 38%|███▊      | 2201/5750 [03:01<04:52, 12.14it/s]"
     ]
    },
    {
     "name": "stdout",
     "output_type": "stream",
     "text": [
      "https://wolnelektury.pl/media/book/txt/keff-samochod-helgi.txt\n",
      "https://wolnelektury.pl/media/book/txt/keff-sen-o-znaczeniu-snow.txt\n",
      "https://wolnelektury.pl/media/book/txt/keff-sen-o-znaczeniu-snow-cykl.txt\n",
      "https://wolnelektury.pl/media/book/txt/keff-show-poezji-koreanskiej.txt\n"
     ]
    },
    {
     "name": "stderr",
     "output_type": "stream",
     "text": [
      " 38%|███▊      | 2205/5750 [03:01<04:51, 12.15it/s]"
     ]
    },
    {
     "name": "stdout",
     "output_type": "stream",
     "text": [
      "https://wolnelektury.pl/media/book/txt/keff-siostra-hitlera-albo-matka-natura.txt\n",
      "https://wolnelektury.pl/media/book/txt/keff-snajper-poemat-bez-dedykacji.txt\n",
      "https://wolnelektury.pl/media/book/txt/keff-solo-berkeley-solipsystyczne.txt\n"
     ]
    },
    {
     "name": "stderr",
     "output_type": "stream",
     "text": [
      "\r",
      " 38%|███▊      | 2207/5750 [03:01<04:51, 12.15it/s]"
     ]
    },
    {
     "name": "stdout",
     "output_type": "stream",
     "text": [
      "https://wolnelektury.pl/media/book/txt/keff-solo-berkley-drugie.txt\n",
      "https://wolnelektury.pl/media/book/txt/keff-studnia-czasu.txt\n",
      "https://wolnelektury.pl/media/book/txt/keff-sutra-diamentowa-jablonex.txt\n"
     ]
    },
    {
     "name": "stderr",
     "output_type": "stream",
     "text": [
      " 38%|███▊      | 2211/5750 [03:01<04:51, 12.15it/s]"
     ]
    },
    {
     "name": "stdout",
     "output_type": "stream",
     "text": [
      "https://wolnelektury.pl/media/book/txt/keff-szara-wiecznosc.txt\n",
      "https://wolnelektury.pl/media/book/txt/keff-tajemnica-biernosci.txt\n",
      "https://wolnelektury.pl/media/book/txt/keff-tancerin.txt\n",
      "https://wolnelektury.pl/media/book/txt/keff-trzeci-domowy-wiersz.txt\n"
     ]
    },
    {
     "name": "stderr",
     "output_type": "stream",
     "text": [
      " 39%|███▊      | 2215/5750 [03:02<04:50, 12.15it/s]"
     ]
    },
    {
     "name": "stdout",
     "output_type": "stream",
     "text": [
      "https://wolnelektury.pl/media/book/txt/keff-wieczor-ewy-patlo.txt\n",
      "https://wolnelektury.pl/media/book/txt/keff-wiek-oswiecenia.txt\n",
      "https://wolnelektury.pl/media/book/txt/keff-zanim-to-zlaczysz.txt\n"
     ]
    },
    {
     "name": "stderr",
     "output_type": "stream",
     "text": [
      "\r",
      " 39%|███▊      | 2217/5750 [03:02<04:50, 12.14it/s]"
     ]
    },
    {
     "name": "stdout",
     "output_type": "stream",
     "text": [
      "https://wolnelektury.pl/media/book/txt/key-stulecie-dziecka.txt\n",
      "https://wolnelektury.pl/media/book/txt/kiedy-prawdziwie-polacy-powstana.txt\n"
     ]
    },
    {
     "name": "stderr",
     "output_type": "stream",
     "text": [
      "\r",
      " 39%|███▊      | 2219/5750 [03:02<04:50, 12.14it/s]"
     ]
    },
    {
     "name": "stdout",
     "output_type": "stream",
     "text": [
      "https://wolnelektury.pl/media/book/txt/kiedy-u-nas-o-zmroku.txt\n",
      "https://wolnelektury.pl/media/book/txt/kigen-cztery-sposoby-nawiazywania-relacji-z-istotami-przez-bodhisattwe.txt\n",
      "https://wolnelektury.pl/media/book/txt/kilka-slow-o-kobietach.txt\n"
     ]
    },
    {
     "name": "stderr",
     "output_type": "stream",
     "text": [
      "\r",
      " 39%|███▊      | 2221/5750 [03:03<04:50, 12.14it/s]"
     ]
    },
    {
     "name": "stdout",
     "output_type": "stream",
     "text": [
      "https://wolnelektury.pl/media/book/txt/kim.txt\n",
      "https://wolnelektury.pl/media/book/txt/kipling-druga-ksiega-dzungli.txt\n"
     ]
    },
    {
     "name": "stderr",
     "output_type": "stream",
     "text": [
      " 39%|███▊      | 2224/5750 [03:03<04:51, 12.11it/s]"
     ]
    },
    {
     "name": "stdout",
     "output_type": "stream",
     "text": [
      "https://wolnelektury.pl/media/book/txt/kipling-puk-z-pukowej-gorki.txt\n",
      "https://wolnelektury.pl/media/book/txt/kipling-stalky-i-spolka.txt\n"
     ]
    },
    {
     "name": "stderr",
     "output_type": "stream",
     "text": [
      "\r",
      " 39%|███▊      | 2225/5750 [03:03<04:51, 12.10it/s]"
     ]
    },
    {
     "name": "stdout",
     "output_type": "stream",
     "text": [
      "https://wolnelektury.pl/media/book/txt/kiwony.txt\n"
     ]
    },
    {
     "name": "stderr",
     "output_type": "stream",
     "text": [
      " 39%|███▊      | 2228/5750 [03:04<04:51, 12.09it/s]"
     ]
    },
    {
     "name": "stdout",
     "output_type": "stream",
     "text": [
      "https://wolnelektury.pl/media/book/txt/klamstwo.txt\n",
      "https://wolnelektury.pl/media/book/txt/klechdy-polskie.txt\n",
      "https://wolnelektury.pl/media/book/txt/klechdy-polskie-czarny-koziol.txt\n"
     ]
    },
    {
     "name": "stderr",
     "output_type": "stream",
     "text": [
      "\r",
      " 39%|███▉      | 2230/5750 [03:04<04:51, 12.09it/s]"
     ]
    },
    {
     "name": "stdout",
     "output_type": "stream",
     "text": [
      "https://wolnelektury.pl/media/book/txt/klechdy-polskie-jan-tajemnik.txt\n",
      "https://wolnelektury.pl/media/book/txt/klechdy-polskie-majka.txt\n",
      "https://wolnelektury.pl/media/book/txt/klechdy-polskie-podlasiak.txt\n"
     ]
    },
    {
     "name": "stderr",
     "output_type": "stream",
     "text": [
      " 39%|███▉      | 2233/5750 [03:04<04:51, 12.08it/s]"
     ]
    },
    {
     "name": "stdout",
     "output_type": "stream",
     "text": [
      "https://wolnelektury.pl/media/book/txt/klechdy-polskie-wiedzma.txt\n",
      "https://wolnelektury.pl/media/book/txt/klechdy-sezamowe.txt\n"
     ]
    },
    {
     "name": "stderr",
     "output_type": "stream",
     "text": [
      "\r",
      " 39%|███▉      | 2235/5750 [03:05<04:50, 12.08it/s]"
     ]
    },
    {
     "name": "stdout",
     "output_type": "stream",
     "text": [
      "https://wolnelektury.pl/media/book/txt/klechdy-sezamowe-ali-baba-i-czterdziestu-zbojcow.txt\n",
      "https://wolnelektury.pl/media/book/txt/klechdy-sezamowe-basn-o-aladynie-i-o-lampie-cudownej.txt\n"
     ]
    },
    {
     "name": "stderr",
     "output_type": "stream",
     "text": [
      "\r",
      " 39%|███▉      | 2236/5750 [03:05<04:50, 12.08it/s]"
     ]
    },
    {
     "name": "stdout",
     "output_type": "stream",
     "text": [
      "https://wolnelektury.pl/media/book/txt/klechdy-sezamowe-basn-o-pieknej-parysadzie-i-o-ptaku-bulbulezarze.txt\n",
      "https://wolnelektury.pl/media/book/txt/klechdy-sezamowe-basn-o-rumaku-zakletym.txt\n"
     ]
    },
    {
     "name": "stderr",
     "output_type": "stream",
     "text": [
      " 39%|███▉      | 2239/5750 [03:05<04:50, 12.07it/s]"
     ]
    },
    {
     "name": "stdout",
     "output_type": "stream",
     "text": [
      "https://wolnelektury.pl/media/book/txt/klechdy-sezamowe-opowiadanie-krola-wysp-hebanowych.txt\n",
      "https://wolnelektury.pl/media/book/txt/klechdy-sezamowe-rybak-i-geniusz.txt\n",
      "https://wolnelektury.pl/media/book/txt/kleist-der-zerbrochne-krug.txt\n"
     ]
    },
    {
     "name": "stderr",
     "output_type": "stream",
     "text": [
      " 39%|███▉      | 2242/5750 [03:05<04:50, 12.07it/s]"
     ]
    },
    {
     "name": "stdout",
     "output_type": "stream",
     "text": [
      "https://wolnelektury.pl/media/book/txt/kleist-pentesilea.txt\n",
      "https://wolnelektury.pl/media/book/txt/kleist-rozbity-dzban.txt\n"
     ]
    },
    {
     "name": "stderr",
     "output_type": "stream",
     "text": [
      " 39%|███▉      | 2245/5750 [03:06<04:50, 12.07it/s]"
     ]
    },
    {
     "name": "stdout",
     "output_type": "stream",
     "text": [
      "https://wolnelektury.pl/media/book/txt/klemens-boruta.txt\n",
      "https://wolnelektury.pl/media/book/txt/klodeczka-na-usta.txt\n",
      "https://wolnelektury.pl/media/book/txt/kochanowski-gods-plaything-man.txt\n"
     ]
    },
    {
     "name": "stderr",
     "output_type": "stream",
     "text": [
      "\r",
      " 39%|███▉      | 2247/5750 [03:06<04:50, 12.06it/s]"
     ]
    },
    {
     "name": "stdout",
     "output_type": "stream",
     "text": [
      "https://wolnelektury.pl/media/book/txt/kochanowski-on-health.txt\n",
      "https://wolnelektury.pl/media/book/txt/kochanowski-song-xxv.txt\n"
     ]
    },
    {
     "name": "stderr",
     "output_type": "stream",
     "text": [
      " 39%|███▉      | 2251/5750 [03:06<04:49, 12.07it/s]"
     ]
    },
    {
     "name": "stdout",
     "output_type": "stream",
     "text": [
      "https://wolnelektury.pl/media/book/txt/kochowski-psalmodia-polska.txt\n",
      "https://wolnelektury.pl/media/book/txt/kogut-bajki-nowe.txt\n",
      "https://wolnelektury.pl/media/book/txt/kolberg-o-niedzwiedziu-krolewiczu.txt\n",
      "https://wolnelektury.pl/media/book/txt/kolednicy-konopnicka.txt\n"
     ]
    },
    {
     "name": "stderr",
     "output_type": "stream",
     "text": [
      "\r",
      " 39%|███▉      | 2253/5750 [03:06<04:49, 12.07it/s]"
     ]
    },
    {
     "name": "stdout",
     "output_type": "stream",
     "text": [
      "https://wolnelektury.pl/media/book/txt/kolysanka-jodlowa.txt\n",
      "https://wolnelektury.pl/media/book/txt/kolysanka-jodlowa-colas-braugnon.txt\n",
      "https://wolnelektury.pl/media/book/txt/kolysanka-jodlowa-dedykacja.txt\n"
     ]
    },
    {
     "name": "stderr",
     "output_type": "stream",
     "text": [
      " 39%|███▉      | 2257/5750 [03:06<04:49, 12.07it/s]"
     ]
    },
    {
     "name": "stdout",
     "output_type": "stream",
     "text": [
      "https://wolnelektury.pl/media/book/txt/kolysanka-jodlowa-gorzkie-wiory.txt\n",
      "https://wolnelektury.pl/media/book/txt/kolysanka-jodlowa-i.txt\n",
      "https://wolnelektury.pl/media/book/txt/kolysanka-jodlowa-ii.txt\n",
      "https://wolnelektury.pl/media/book/txt/kolysanka-jodlowa-iii.txt\n"
     ]
    },
    {
     "name": "stderr",
     "output_type": "stream",
     "text": [
      " 39%|███▉      | 2261/5750 [03:07<04:48, 12.08it/s]"
     ]
    },
    {
     "name": "stdout",
     "output_type": "stream",
     "text": [
      "https://wolnelektury.pl/media/book/txt/kolysanka-jodlowa-kantyczka-moribundow.txt\n",
      "https://wolnelektury.pl/media/book/txt/kolysanka-jodlowa-kolysanka-jodlowa.txt\n",
      "https://wolnelektury.pl/media/book/txt/kolysanka-jodlowa-kosciol-wojujacy.txt\n"
     ]
    },
    {
     "name": "stderr",
     "output_type": "stream",
     "text": [
      "\r",
      " 39%|███▉      | 2263/5750 [03:07<04:48, 12.08it/s]"
     ]
    },
    {
     "name": "stdout",
     "output_type": "stream",
     "text": [
      "https://wolnelektury.pl/media/book/txt/kolysanka-jodlowa-kroki-komandora.txt\n",
      "https://wolnelektury.pl/media/book/txt/kolysanka-jodlowa-krokusy.txt\n",
      "https://wolnelektury.pl/media/book/txt/kolysanka-jodlowa-lisy.txt\n"
     ]
    },
    {
     "name": "stderr",
     "output_type": "stream",
     "text": [
      " 39%|███▉      | 2267/5750 [03:07<04:48, 12.08it/s]"
     ]
    },
    {
     "name": "stdout",
     "output_type": "stream",
     "text": [
      "https://wolnelektury.pl/media/book/txt/kolysanka-jodlowa-modlitwa.txt\n",
      "https://wolnelektury.pl/media/book/txt/kolysanka-jodlowa-na-fujarce.txt\n",
      "https://wolnelektury.pl/media/book/txt/kolysanka-jodlowa-o-czulej-nocy.txt\n"
     ]
    },
    {
     "name": "stderr",
     "output_type": "stream",
     "text": [
      "\r",
      " 39%|███▉      | 2269/5750 [03:07<04:48, 12.08it/s]"
     ]
    },
    {
     "name": "stdout",
     "output_type": "stream",
     "text": [
      "https://wolnelektury.pl/media/book/txt/kolysanka-jodlowa-ostatni-blysk-zachodu-gasl.txt\n",
      "https://wolnelektury.pl/media/book/txt/kolysanka-jodlowa-piesn-o-zagladzie.txt\n",
      "https://wolnelektury.pl/media/book/txt/kolysanka-jodlowa-piosenka-do-warszawy.txt\n"
     ]
    },
    {
     "name": "stderr",
     "output_type": "stream",
     "text": [
      " 40%|███▉      | 2273/5750 [03:08<04:47, 12.08it/s]"
     ]
    },
    {
     "name": "stdout",
     "output_type": "stream",
     "text": [
      "https://wolnelektury.pl/media/book/txt/kolysanka-jodlowa-poeci.txt\n",
      "https://wolnelektury.pl/media/book/txt/kolysanka-jodlowa-proba.txt\n",
      "https://wolnelektury.pl/media/book/txt/kolysanka-jodlowa-przed-domem-jarzebina.txt\n"
     ]
    },
    {
     "name": "stderr",
     "output_type": "stream",
     "text": [
      "\r",
      " 40%|███▉      | 2275/5750 [03:08<04:47, 12.08it/s]"
     ]
    },
    {
     "name": "stdout",
     "output_type": "stream",
     "text": [
      "https://wolnelektury.pl/media/book/txt/kolysanka-jodlowa-przeklady.txt\n",
      "https://wolnelektury.pl/media/book/txt/kolysanka-jodlowa-rapsod-zalobny.txt\n",
      "https://wolnelektury.pl/media/book/txt/kolysanka-jodlowa-samotnosc-twoja-i-twoje-zachody.txt\n"
     ]
    },
    {
     "name": "stderr",
     "output_type": "stream",
     "text": [
      " 40%|███▉      | 2279/5750 [03:08<04:47, 12.09it/s]"
     ]
    },
    {
     "name": "stdout",
     "output_type": "stream",
     "text": [
      "https://wolnelektury.pl/media/book/txt/kolysanka-jodlowa-sen.txt\n",
      "https://wolnelektury.pl/media/book/txt/kolysanka-jodlowa-sep.txt\n",
      "https://wolnelektury.pl/media/book/txt/kolysanka-jodlowa-skazancy.txt\n"
     ]
    },
    {
     "name": "stderr",
     "output_type": "stream",
     "text": [
      " 40%|███▉      | 2283/5750 [03:08<04:46, 12.09it/s]"
     ]
    },
    {
     "name": "stdout",
     "output_type": "stream",
     "text": [
      "https://wolnelektury.pl/media/book/txt/kolysanka-jodlowa-smutna-wiosna.txt\n",
      "https://wolnelektury.pl/media/book/txt/kolysanka-jodlowa-swieto-zwyciestwa.txt\n",
      "https://wolnelektury.pl/media/book/txt/kolysanka-jodlowa-ucze-sie-ciebie-czlowieku.txt\n",
      "https://wolnelektury.pl/media/book/txt/kolysanka-jodlowa-veni-sancte-spititus.txt\n"
     ]
    },
    {
     "name": "stderr",
     "output_type": "stream",
     "text": [
      "\r",
      " 40%|███▉      | 2285/5750 [03:08<04:46, 12.09it/s]"
     ]
    },
    {
     "name": "stdout",
     "output_type": "stream",
     "text": [
      "https://wolnelektury.pl/media/book/txt/kolysanka-jodlowa-za-zelazna-brama.txt\n",
      "https://wolnelektury.pl/media/book/txt/komar-bajki-nowe.txt\n",
      "https://wolnelektury.pl/media/book/txt/komar-i-mucha.txt\n"
     ]
    },
    {
     "name": "stderr",
     "output_type": "stream",
     "text": [
      " 40%|███▉      | 2289/5750 [03:09<04:46, 12.09it/s]"
     ]
    },
    {
     "name": "stdout",
     "output_type": "stream",
     "text": [
      "https://wolnelektury.pl/media/book/txt/komedia-omylek.txt\n",
      "https://wolnelektury.pl/media/book/txt/komedia-przy-myciu.txt\n",
      "https://wolnelektury.pl/media/book/txt/komediantka.txt\n"
     ]
    },
    {
     "name": "stderr",
     "output_type": "stream",
     "text": [
      "\r",
      " 40%|███▉      | 2291/5750 [03:09<04:46, 12.08it/s]"
     ]
    },
    {
     "name": "stdout",
     "output_type": "stream",
     "text": [
      "https://wolnelektury.pl/media/book/txt/kon-i-wielblad-bajki-nowe.txt\n",
      "https://wolnelektury.pl/media/book/txt/konie-bajki-nowe.txt\n",
      "https://wolnelektury.pl/media/book/txt/konie-i-furman.txt\n"
     ]
    },
    {
     "name": "stderr",
     "output_type": "stream",
     "text": [
      " 40%|███▉      | 2295/5750 [03:09<04:45, 12.08it/s]"
     ]
    },
    {
     "name": "stdout",
     "output_type": "stream",
     "text": [
      "https://wolnelektury.pl/media/book/txt/koniec.txt\n",
      "https://wolnelektury.pl/media/book/txt/koniec-bajki-nowe.txt\n",
      "https://wolnelektury.pl/media/book/txt/koniec-wieku.txt\n"
     ]
    },
    {
     "name": "stderr",
     "output_type": "stream",
     "text": [
      "\r",
      " 40%|███▉      | 2297/5750 [03:10<04:45, 12.09it/s]"
     ]
    },
    {
     "name": "stdout",
     "output_type": "stream",
     "text": [
      "https://wolnelektury.pl/media/book/txt/konopnicka-ach-ta-przecudna-cicha-laka.txt\n",
      "https://wolnelektury.pl/media/book/txt/konopnicka-bajka-o-swierszczu-cykl.txt\n",
      "https://wolnelektury.pl/media/book/txt/konopnicka-bocian.txt\n"
     ]
    },
    {
     "name": "stderr",
     "output_type": "stream",
     "text": [
      " 40%|████      | 2301/5750 [03:10<04:45, 12.09it/s]"
     ]
    },
    {
     "name": "stdout",
     "output_type": "stream",
     "text": [
      "https://wolnelektury.pl/media/book/txt/konopnicka-choinka.txt\n",
      "https://wolnelektury.pl/media/book/txt/konopnicka-chusta-weroniki.txt\n",
      "https://wolnelektury.pl/media/book/txt/konopnicka-czcigodnemu-ji-kraszewskiemu.txt\n"
     ]
    },
    {
     "name": "stderr",
     "output_type": "stream",
     "text": [
      "\r",
      " 40%|████      | 2303/5750 [03:10<04:45, 12.09it/s]"
     ]
    },
    {
     "name": "stdout",
     "output_type": "stream",
     "text": [
      "https://wolnelektury.pl/media/book/txt/konopnicka-damnata.txt\n",
      "https://wolnelektury.pl/media/book/txt/konopnicka-damnata-dnie-i-chwile.txt\n",
      "https://wolnelektury.pl/media/book/txt/konopnicka-damnata-fragmenty.txt\n"
     ]
    },
    {
     "name": "stderr",
     "output_type": "stream",
     "text": [
      " 40%|████      | 2307/5750 [03:10<04:44, 12.09it/s]"
     ]
    },
    {
     "name": "stdout",
     "output_type": "stream",
     "text": [
      "https://wolnelektury.pl/media/book/txt/konopnicka-damnata-na-kurhanie-i.txt\n",
      "https://wolnelektury.pl/media/book/txt/konopnicka-damnata-na-kurhanie-ii.txt\n",
      "https://wolnelektury.pl/media/book/txt/konopnicka-damnata-na-rozstaju.txt\n"
     ]
    },
    {
     "name": "stderr",
     "output_type": "stream",
     "text": [
      "\r",
      " 40%|████      | 2309/5750 [03:10<04:44, 12.09it/s]"
     ]
    },
    {
     "name": "stdout",
     "output_type": "stream",
     "text": [
      "https://wolnelektury.pl/media/book/txt/konopnicka-dobranoc.txt\n",
      "https://wolnelektury.pl/media/book/txt/konopnicka-dzien-dobry.txt\n",
      "https://wolnelektury.pl/media/book/txt/konopnicka-galileusz.txt\n"
     ]
    },
    {
     "name": "stderr",
     "output_type": "stream",
     "text": [
      " 40%|████      | 2313/5750 [03:11<04:44, 12.10it/s]"
     ]
    },
    {
     "name": "stdout",
     "output_type": "stream",
     "text": [
      "https://wolnelektury.pl/media/book/txt/konopnicka-gwiazdka.txt\n",
      "https://wolnelektury.pl/media/book/txt/konopnicka-hypatya.txt\n",
      "https://wolnelektury.pl/media/book/txt/konopnicka-joja-karan-pats-karalius.txt\n"
     ]
    },
    {
     "name": "stderr",
     "output_type": "stream",
     "text": [
      "\r",
      " 40%|████      | 2315/5750 [03:11<04:43, 12.10it/s]"
     ]
    },
    {
     "name": "stdout",
     "output_type": "stream",
     "text": [
      "https://wolnelektury.pl/media/book/txt/konopnicka-maly-trebacz-moja-trabka-slicznie-gra.txt\n",
      "https://wolnelektury.pl/media/book/txt/konopnicka-miraze.txt\n",
      "https://wolnelektury.pl/media/book/txt/konopnicka-na-fujarce.txt\n"
     ]
    },
    {
     "name": "stderr",
     "output_type": "stream",
     "text": [
      " 40%|████      | 2319/5750 [03:11<04:43, 12.10it/s]"
     ]
    },
    {
     "name": "stdout",
     "output_type": "stream",
     "text": [
      "https://wolnelektury.pl/media/book/txt/konopnicka-na-lace.txt\n",
      "https://wolnelektury.pl/media/book/txt/konopnicka-na-obczyznie.txt\n",
      "https://wolnelektury.pl/media/book/txt/konopnicka-o-co-sie-modlic.txt\n"
     ]
    },
    {
     "name": "stderr",
     "output_type": "stream",
     "text": [
      "\r",
      " 40%|████      | 2321/5750 [03:11<04:43, 12.10it/s]"
     ]
    },
    {
     "name": "stdout",
     "output_type": "stream",
     "text": [
      "https://wolnelektury.pl/media/book/txt/konopnicka-owczarek.txt\n",
      "https://wolnelektury.pl/media/book/txt/konopnicka-piast.txt\n",
      "https://wolnelektury.pl/media/book/txt/konopnicka-pifus-malarz.txt\n"
     ]
    },
    {
     "name": "stderr",
     "output_type": "stream",
     "text": [
      " 40%|████      | 2325/5750 [03:12<04:42, 12.11it/s]"
     ]
    },
    {
     "name": "stdout",
     "output_type": "stream",
     "text": [
      "https://wolnelektury.pl/media/book/txt/konopnicka-podmuchy-wiosny.txt\n",
      "https://wolnelektury.pl/media/book/txt/konopnicka-poezje-czesc-i-dla-dzieci-do-lat-7.txt\n",
      "https://wolnelektury.pl/media/book/txt/konopnicka-poezje-czesc-ii-dla-dzieci-do-lat-10.txt\n",
      "https://wolnelektury.pl/media/book/txt/konopnicka-poranek.txt\n"
     ]
    },
    {
     "name": "stderr",
     "output_type": "stream",
     "text": [
      " 41%|████      | 2329/5750 [03:12<04:42, 12.11it/s]"
     ]
    },
    {
     "name": "stdout",
     "output_type": "stream",
     "text": [
      "https://wolnelektury.pl/media/book/txt/konopnicka-pszczoly.txt\n",
      "https://wolnelektury.pl/media/book/txt/konopnicka-rada.txt\n",
      "https://wolnelektury.pl/media/book/txt/konopnicka-sanna.txt\n",
      "https://wolnelektury.pl/media/book/txt/konopnicka-sierotki.txt\n"
     ]
    },
    {
     "name": "stderr",
     "output_type": "stream",
     "text": [
      " 41%|████      | 2333/5750 [03:12<04:42, 12.11it/s]"
     ]
    },
    {
     "name": "stdout",
     "output_type": "stream",
     "text": [
      "https://wolnelektury.pl/media/book/txt/konopnicka-sieroto.txt\n",
      "https://wolnelektury.pl/media/book/txt/konopnicka-skowronek.txt\n",
      "https://wolnelektury.pl/media/book/txt/konopnicka-slizgawka.txt\n",
      "https://wolnelektury.pl/media/book/txt/konopnicka-sny.txt\n"
     ]
    },
    {
     "name": "stderr",
     "output_type": "stream",
     "text": [
      " 41%|████      | 2337/5750 [03:12<04:41, 12.12it/s]"
     ]
    },
    {
     "name": "stdout",
     "output_type": "stream",
     "text": [
      "https://wolnelektury.pl/media/book/txt/konopnicka-sobotka.txt\n",
      "https://wolnelektury.pl/media/book/txt/konopnicka-sokol.txt\n",
      "https://wolnelektury.pl/media/book/txt/konopnicka-taniec.txt\n",
      "https://wolnelektury.pl/media/book/txt/konopnicka-tecza.txt\n"
     ]
    },
    {
     "name": "stderr",
     "output_type": "stream",
     "text": [
      " 41%|████      | 2341/5750 [03:13<04:41, 12.12it/s]"
     ]
    },
    {
     "name": "stdout",
     "output_type": "stream",
     "text": [
      "https://wolnelektury.pl/media/book/txt/konopnicka-tekst-do-mszy-spiewanej.txt\n",
      "https://wolnelektury.pl/media/book/txt/konopnicka-vesalius.txt\n",
      "https://wolnelektury.pl/media/book/txt/konopnicka-w-lesie.txt\n"
     ]
    },
    {
     "name": "stderr",
     "output_type": "stream",
     "text": [
      "\r",
      " 41%|████      | 2343/5750 [03:13<04:41, 12.12it/s]"
     ]
    },
    {
     "name": "stdout",
     "output_type": "stream",
     "text": [
      "https://wolnelektury.pl/media/book/txt/konopnicka-w-polu.txt\n",
      "https://wolnelektury.pl/media/book/txt/konopnicka-wiatr.txt\n"
     ]
    },
    {
     "name": "stderr",
     "output_type": "stream",
     "text": [
      "\r",
      " 41%|████      | 2345/5750 [03:13<04:41, 12.12it/s]"
     ]
    },
    {
     "name": "stdout",
     "output_type": "stream",
     "text": [
      "https://wolnelektury.pl/media/book/txt/konopnicka-wielkanoc.txt\n",
      "https://wolnelektury.pl/media/book/txt/konopnicka-wierzba.txt\n",
      "https://wolnelektury.pl/media/book/txt/konopnicka-z-przeszlosci.txt\n"
     ]
    },
    {
     "name": "stderr",
     "output_type": "stream",
     "text": [
      " 41%|████      | 2349/5750 [03:13<04:40, 12.12it/s]"
     ]
    },
    {
     "name": "stdout",
     "output_type": "stream",
     "text": [
      "https://wolnelektury.pl/media/book/txt/konopnicka-zajaczek.txt\n",
      "https://wolnelektury.pl/media/book/txt/konopnicka-zielone-swiatki.txt\n",
      "https://wolnelektury.pl/media/book/txt/konopnicka-zniwa.txt\n"
     ]
    },
    {
     "name": "stderr",
     "output_type": "stream",
     "text": [
      "\r",
      " 41%|████      | 2351/5750 [03:13<04:40, 12.12it/s]"
     ]
    },
    {
     "name": "stdout",
     "output_type": "stream",
     "text": [
      "https://wolnelektury.pl/media/book/txt/konrad-wallenrod.txt\n",
      "https://wolnelektury.pl/media/book/txt/konwencja-o-prawach-dziecka.txt\n",
      "https://wolnelektury.pl/media/book/txt/konwersacja-bajki-nowe.txt\n"
     ]
    },
    {
     "name": "stderr",
     "output_type": "stream",
     "text": [
      " 41%|████      | 2355/5750 [03:14<04:40, 12.12it/s]"
     ]
    },
    {
     "name": "stdout",
     "output_type": "stream",
     "text": [
      "https://wolnelektury.pl/media/book/txt/kopciuszek.txt\n",
      "https://wolnelektury.pl/media/book/txt/kopyt-sale-sale-dzial-promocji.txt\n",
      "https://wolnelektury.pl/media/book/txt/kopyt-sale-sale-sale.txt\n"
     ]
    },
    {
     "name": "stderr",
     "output_type": "stream",
     "text": [
      "\r",
      " 41%|████      | 2357/5750 [03:14<04:39, 12.12it/s]"
     ]
    },
    {
     "name": "stdout",
     "output_type": "stream",
     "text": [
      "https://wolnelektury.pl/media/book/txt/kopyt-sale-sale-sale-bieg.txt\n",
      "https://wolnelektury.pl/media/book/txt/kopyt-sale-sale-sale-harmonia-restauracji.txt\n",
      "https://wolnelektury.pl/media/book/txt/kopyt-sale-sale-sale-koce.txt\n"
     ]
    },
    {
     "name": "stderr",
     "output_type": "stream",
     "text": [
      " 41%|████      | 2361/5750 [03:14<04:39, 12.13it/s]"
     ]
    },
    {
     "name": "stdout",
     "output_type": "stream",
     "text": [
      "https://wolnelektury.pl/media/book/txt/kopyt-sale-sale-sale-komitety.txt\n",
      "https://wolnelektury.pl/media/book/txt/kopyt-sale-sale-sale-mantra-wartosci-dodatkowej-wzglednej-i-bezwzglednej.txt\n",
      "https://wolnelektury.pl/media/book/txt/kopyt-sale-sale-sale-my-delicje.txt\n",
      "https://wolnelektury.pl/media/book/txt/kopyt-sale-sale-sale-nowa-jakosc.txt\n"
     ]
    },
    {
     "name": "stderr",
     "output_type": "stream",
     "text": [
      " 41%|████      | 2365/5750 [03:15<04:39, 12.12it/s]"
     ]
    },
    {
     "name": "stdout",
     "output_type": "stream",
     "text": [
      "https://wolnelektury.pl/media/book/txt/kopyt-sale-sale-sale-o-potrzebie-ponowoczesnej-piesni-religijnej.txt\n",
      "https://wolnelektury.pl/media/book/txt/kopyt-sale-sale-sale-paradygmat.txt\n",
      "https://wolnelektury.pl/media/book/txt/kopyt-sale-sale-sale-przyszlosc-jest-jasna.txt\n"
     ]
    },
    {
     "name": "stderr",
     "output_type": "stream",
     "text": [
      " 41%|████      | 2369/5750 [03:15<04:38, 12.13it/s]"
     ]
    },
    {
     "name": "stdout",
     "output_type": "stream",
     "text": [
      "https://wolnelektury.pl/media/book/txt/kopyt-sale-sale-sale-sms-od-mamy.txt\n",
      "https://wolnelektury.pl/media/book/txt/kopyt-sale-sale-sale-tak.txt\n",
      "https://wolnelektury.pl/media/book/txt/kopyt-sale-sale-sale-times-new-roman.txt\n",
      "https://wolnelektury.pl/media/book/txt/kopyt-sale-sale-sale-wiersz-dla-gail.txt\n"
     ]
    },
    {
     "name": "stderr",
     "output_type": "stream",
     "text": [
      "\r",
      " 41%|████      | 2371/5750 [03:15<04:38, 12.13it/s]"
     ]
    },
    {
     "name": "stdout",
     "output_type": "stream",
     "text": [
      "https://wolnelektury.pl/media/book/txt/kopyt-sale-sale-sale-wierszyk-dla-relatywistow.txt\n",
      "https://wolnelektury.pl/media/book/txt/kopyt-sale-sale-sale-wywiad.txt\n",
      "https://wolnelektury.pl/media/book/txt/kopyt-sale-sale-sale-z-zastanowienia-sie-wynika-rytm-i-piekno-rzeczy.txt\n"
     ]
    },
    {
     "name": "stderr",
     "output_type": "stream",
     "text": [
      " 41%|████▏     | 2375/5750 [03:15<04:38, 12.13it/s]"
     ]
    },
    {
     "name": "stdout",
     "output_type": "stream",
     "text": [
      "https://wolnelektury.pl/media/book/txt/kopyt-sale-sale-sale-ziemniak.txt\n",
      "https://wolnelektury.pl/media/book/txt/korab-brzozowski-stanislaw-aniol-panski.txt\n",
      "https://wolnelektury.pl/media/book/txt/korab-brzozowski-stanislaw-barwy-glosy-wonie.txt\n"
     ]
    },
    {
     "name": "stderr",
     "output_type": "stream",
     "text": [
      "\r",
      " 41%|████▏     | 2377/5750 [03:15<04:38, 12.13it/s]"
     ]
    },
    {
     "name": "stdout",
     "output_type": "stream",
     "text": [
      "https://wolnelektury.pl/media/book/txt/korab-brzozowski-stanislaw-kwiaty.txt\n",
      "https://wolnelektury.pl/media/book/txt/korab-brzozowski-stanislaw-lilia.txt\n",
      "https://wolnelektury.pl/media/book/txt/korab-brzozowski-stanislaw-o-przyjdz.txt\n"
     ]
    },
    {
     "name": "stderr",
     "output_type": "stream",
     "text": [
      " 41%|████▏     | 2381/5750 [03:16<04:37, 12.13it/s]"
     ]
    },
    {
     "name": "stdout",
     "output_type": "stream",
     "text": [
      "https://wolnelektury.pl/media/book/txt/korab-brzozowski-stanislaw-pod-baldachimem-drzew.txt\n",
      "https://wolnelektury.pl/media/book/txt/korab-brzozowski-stanislaw-proznia.txt\n",
      "https://wolnelektury.pl/media/book/txt/korab-brzozowski-stanislaw-przadka.txt\n"
     ]
    },
    {
     "name": "stderr",
     "output_type": "stream",
     "text": [
      "\r",
      " 41%|████▏     | 2383/5750 [03:16<04:37, 12.13it/s]"
     ]
    },
    {
     "name": "stdout",
     "output_type": "stream",
     "text": [
      "https://wolnelektury.pl/media/book/txt/korab-brzozowski-stanislaw-ukrzyzowanie.txt\n",
      "https://wolnelektury.pl/media/book/txt/korab-brzozowski-wincenty-ktora-przyjdze.txt\n",
      "https://wolnelektury.pl/media/book/txt/korab-brzozowski-wincenty-powinowactwo-cieni-i-kwiatow.txt\n"
     ]
    },
    {
     "name": "stderr",
     "output_type": "stream",
     "text": [
      "\r",
      " 41%|████▏     | 2385/5750 [03:16<04:37, 12.13it/s]"
     ]
    },
    {
     "name": "stdout",
     "output_type": "stream",
     "text": [
      "https://wolnelektury.pl/media/book/txt/korczak-bankructwo-malego-dzeka.txt\n",
      "https://wolnelektury.pl/media/book/txt/korczak-bezwstydnie-krotkie.txt\n"
     ]
    },
    {
     "name": "stderr",
     "output_type": "stream",
     "text": [
      "\r",
      " 42%|████▏     | 2387/5750 [03:16<04:37, 12.13it/s]"
     ]
    },
    {
     "name": "stdout",
     "output_type": "stream",
     "text": [
      "https://wolnelektury.pl/media/book/txt/korczak-bobo.txt\n",
      "https://wolnelektury.pl/media/book/txt/korczak-dzieci-ulicy.txt\n"
     ]
    },
    {
     "name": "stderr",
     "output_type": "stream",
     "text": [
      " 42%|████▏     | 2390/5750 [03:17<04:37, 12.11it/s]"
     ]
    },
    {
     "name": "stdout",
     "output_type": "stream",
     "text": [
      "https://wolnelektury.pl/media/book/txt/korczak-dziecko-salonu.txt\n",
      "https://wolnelektury.pl/media/book/txt/korczak-feralny-tydzien.txt\n"
     ]
    },
    {
     "name": "stderr",
     "output_type": "stream",
     "text": [
      " 42%|████▏     | 2392/5750 [03:17<04:37, 12.11it/s]"
     ]
    },
    {
     "name": "stdout",
     "output_type": "stream",
     "text": [
      "https://wolnelektury.pl/media/book/txt/korczak-jozki-jaski-i-franki.txt\n",
      "https://wolnelektury.pl/media/book/txt/korczak-kajtus-czarodziej.txt\n"
     ]
    },
    {
     "name": "stderr",
     "output_type": "stream",
     "text": [
      "\r",
      " 42%|████▏     | 2393/5750 [03:17<04:37, 12.10it/s]"
     ]
    },
    {
     "name": "stdout",
     "output_type": "stream",
     "text": [
      "https://wolnelektury.pl/media/book/txt/korczak-kiedy-znow-bede-maly.txt\n"
     ]
    },
    {
     "name": "stderr",
     "output_type": "stream",
     "text": [
      " 42%|████▏     | 2395/5750 [03:18<04:37, 12.09it/s]"
     ]
    },
    {
     "name": "stdout",
     "output_type": "stream",
     "text": [
      "https://wolnelektury.pl/media/book/txt/korczak-koszalki-opalki.txt\n",
      "https://wolnelektury.pl/media/book/txt/korczak-krol-macius-na-wyspie-bezludnej.txt\n"
     ]
    },
    {
     "name": "stderr",
     "output_type": "stream",
     "text": [
      "\r",
      " 42%|████▏     | 2396/5750 [03:18<04:37, 12.08it/s]"
     ]
    },
    {
     "name": "stdout",
     "output_type": "stream",
     "text": [
      "https://wolnelektury.pl/media/book/txt/korczak-ludzie-sa-dobrzy.txt\n",
      "https://wolnelektury.pl/media/book/txt/korczak-momenty-wychowawcze.txt\n"
     ]
    },
    {
     "name": "stderr",
     "output_type": "stream",
     "text": [
      " 42%|████▏     | 2399/5750 [03:18<04:37, 12.08it/s]"
     ]
    },
    {
     "name": "stdout",
     "output_type": "stream",
     "text": [
      "https://wolnelektury.pl/media/book/txt/korczak-moski-joski-i-srule.txt\n",
      "https://wolnelektury.pl/media/book/txt/korczak-o-gazetce-szkolnej.txt\n"
     ]
    },
    {
     "name": "stderr",
     "output_type": "stream",
     "text": [
      "\r",
      " 42%|████▏     | 2401/5750 [03:18<04:37, 12.07it/s]"
     ]
    },
    {
     "name": "stdout",
     "output_type": "stream",
     "text": [
      "https://wolnelektury.pl/media/book/txt/korczak-pedagogika-zartobliwa.txt\n",
      "https://wolnelektury.pl/media/book/txt/korczak-refleksje.txt\n"
     ]
    },
    {
     "name": "stderr",
     "output_type": "stream",
     "text": [
      "\r",
      " 42%|████▏     | 2403/5750 [03:19<04:37, 12.07it/s]"
     ]
    },
    {
     "name": "stdout",
     "output_type": "stream",
     "text": [
      "https://wolnelektury.pl/media/book/txt/korczak-sam-na-sam-z-bogiem.txt\n",
      "https://wolnelektury.pl/media/book/txt/korczak-senat-szalencow.txt\n"
     ]
    },
    {
     "name": "stderr",
     "output_type": "stream",
     "text": [
      " 42%|████▏     | 2406/5750 [03:19<04:37, 12.06it/s]"
     ]
    },
    {
     "name": "stdout",
     "output_type": "stream",
     "text": [
      "https://wolnelektury.pl/media/book/txt/korczak-slawa.txt\n",
      "https://wolnelektury.pl/media/book/txt/korczak-trzy-wyprawy-herszka.txt\n",
      "https://wolnelektury.pl/media/book/txt/korczak-uparty-chlopiec.txt\n"
     ]
    },
    {
     "name": "stderr",
     "output_type": "stream",
     "text": [
      " 42%|████▏     | 2408/5750 [03:19<04:37, 12.06it/s]"
     ]
    },
    {
     "name": "stdout",
     "output_type": "stream",
     "text": [
      "https://wolnelektury.pl/media/book/txt/kordian.txt\n",
      "https://wolnelektury.pl/media/book/txt/kornhauser-badz-czujny.txt\n",
      "https://wolnelektury.pl/media/book/txt/kornhauser-badz-otwarty.txt\n"
     ]
    },
    {
     "name": "stderr",
     "output_type": "stream",
     "text": [
      " 42%|████▏     | 2412/5750 [03:19<04:36, 12.06it/s]"
     ]
    },
    {
     "name": "stdout",
     "output_type": "stream",
     "text": [
      "https://wolnelektury.pl/media/book/txt/kornhauser-bialy-kwiat.txt\n",
      "https://wolnelektury.pl/media/book/txt/kornhauser-bieg-po-zdrowie.txt\n",
      "https://wolnelektury.pl/media/book/txt/kornhauser-cel.txt\n"
     ]
    },
    {
     "name": "stderr",
     "output_type": "stream",
     "text": [
      " 42%|████▏     | 2416/5750 [03:20<04:36, 12.07it/s]"
     ]
    },
    {
     "name": "stdout",
     "output_type": "stream",
     "text": [
      "https://wolnelektury.pl/media/book/txt/kornhauser-chwila-niepewna.txt\n",
      "https://wolnelektury.pl/media/book/txt/kornhauser-daleko-do-konca.txt\n",
      "https://wolnelektury.pl/media/book/txt/kornhauser-dysonans.txt\n",
      "https://wolnelektury.pl/media/book/txt/kornhauser-dziecko-patrzy-jak-pisze.txt\n"
     ]
    },
    {
     "name": "stderr",
     "output_type": "stream",
     "text": [
      "\r",
      " 42%|████▏     | 2418/5750 [03:20<04:36, 12.07it/s]"
     ]
    },
    {
     "name": "stdout",
     "output_type": "stream",
     "text": [
      "https://wolnelektury.pl/media/book/txt/kornhauser-gdy-cieplo-w-pokoju.txt\n",
      "https://wolnelektury.pl/media/book/txt/kornhauser-jezyk-tarcza.txt\n",
      "https://wolnelektury.pl/media/book/txt/kornhauser-kazdego-nastepnego-dnia.txt\n"
     ]
    },
    {
     "name": "stderr",
     "output_type": "stream",
     "text": [
      " 42%|████▏     | 2422/5750 [03:20<04:35, 12.07it/s]"
     ]
    },
    {
     "name": "stdout",
     "output_type": "stream",
     "text": [
      "https://wolnelektury.pl/media/book/txt/kornhauser-krotka-przerwa.txt\n",
      "https://wolnelektury.pl/media/book/txt/kornhauser-ksiazka-okno.txt\n",
      "https://wolnelektury.pl/media/book/txt/kornhauser-kto-na-kogo-czeka.txt\n"
     ]
    },
    {
     "name": "stderr",
     "output_type": "stream",
     "text": [
      "\r",
      " 42%|████▏     | 2424/5750 [03:20<04:35, 12.07it/s]"
     ]
    },
    {
     "name": "stdout",
     "output_type": "stream",
     "text": [
      "https://wolnelektury.pl/media/book/txt/kornhauser-licz-na-siebie.txt\n",
      "https://wolnelektury.pl/media/book/txt/kornhauser-morza-oceany.txt\n",
      "https://wolnelektury.pl/media/book/txt/kornhauser-most-weglowy-szczecin-dania-notatka-prasowa.txt\n"
     ]
    },
    {
     "name": "stderr",
     "output_type": "stream",
     "text": [
      " 42%|████▏     | 2428/5750 [03:21<04:35, 12.07it/s]"
     ]
    },
    {
     "name": "stdout",
     "output_type": "stream",
     "text": [
      "https://wolnelektury.pl/media/book/txt/kornhauser-nieskonczonosc.txt\n",
      "https://wolnelektury.pl/media/book/txt/kornhauser-o-pewnym-zdaniu.txt\n",
      "https://wolnelektury.pl/media/book/txt/kornhauser-o-sobie.txt\n"
     ]
    },
    {
     "name": "stderr",
     "output_type": "stream",
     "text": [
      "\r",
      " 42%|████▏     | 2430/5750 [03:21<04:34, 12.07it/s]"
     ]
    },
    {
     "name": "stdout",
     "output_type": "stream",
     "text": [
      "https://wolnelektury.pl/media/book/txt/kornhauser-obawa-przed-wami-przed-nimi.txt\n",
      "https://wolnelektury.pl/media/book/txt/kornhauser-ogien.txt\n",
      "https://wolnelektury.pl/media/book/txt/kornhauser-on.txt\n"
     ]
    },
    {
     "name": "stderr",
     "output_type": "stream",
     "text": [
      " 42%|████▏     | 2434/5750 [03:21<04:34, 12.08it/s]"
     ]
    },
    {
     "name": "stdout",
     "output_type": "stream",
     "text": [
      "https://wolnelektury.pl/media/book/txt/kornhauser-osiem-linijek.txt\n",
      "https://wolnelektury.pl/media/book/txt/kornhauser-osiem-linijek-cykl.txt\n",
      "https://wolnelektury.pl/media/book/txt/kornhauser-oskarzenie.txt\n",
      "https://wolnelektury.pl/media/book/txt/kornhauser-pejzaz-z-murnau-kandinsky-1909.txt\n"
     ]
    },
    {
     "name": "stderr",
     "output_type": "stream",
     "text": [
      " 42%|████▏     | 2438/5750 [03:21<04:34, 12.08it/s]"
     ]
    },
    {
     "name": "stdout",
     "output_type": "stream",
     "text": [
      "https://wolnelektury.pl/media/book/txt/kornhauser-pojednanie.txt\n",
      "https://wolnelektury.pl/media/book/txt/kornhauser-pretekst.txt\n",
      "https://wolnelektury.pl/media/book/txt/kornhauser-przezwyciezanie-konfliktow-wedlug-engelsa.txt\n"
     ]
    },
    {
     "name": "stderr",
     "output_type": "stream",
     "text": [
      "\r",
      " 42%|████▏     | 2440/5750 [03:21<04:34, 12.08it/s]"
     ]
    },
    {
     "name": "stdout",
     "output_type": "stream",
     "text": [
      "https://wolnelektury.pl/media/book/txt/kornhauser-przyczyna.txt\n",
      "https://wolnelektury.pl/media/book/txt/kornhauser-przyjazn-ochronna.txt\n",
      "https://wolnelektury.pl/media/book/txt/kornhauser-punkt-widzenia.txt\n"
     ]
    },
    {
     "name": "stderr",
     "output_type": "stream",
     "text": [
      " 43%|████▎     | 2444/5750 [03:22<04:33, 12.08it/s]"
     ]
    },
    {
     "name": "stdout",
     "output_type": "stream",
     "text": [
      "https://wolnelektury.pl/media/book/txt/kornhauser-racja.txt\n",
      "https://wolnelektury.pl/media/book/txt/kornhauser-relacja.txt\n",
      "https://wolnelektury.pl/media/book/txt/kornhauser-rozmowa.txt\n"
     ]
    },
    {
     "name": "stderr",
     "output_type": "stream",
     "text": [
      "\r",
      " 43%|████▎     | 2446/5750 [03:22<04:33, 12.08it/s]"
     ]
    },
    {
     "name": "stdout",
     "output_type": "stream",
     "text": [
      "https://wolnelektury.pl/media/book/txt/kornhauser-ten-dom.txt\n",
      "https://wolnelektury.pl/media/book/txt/kornhauser-w-samo-poludnie.txt\n",
      "https://wolnelektury.pl/media/book/txt/kornhauser-wezcie-kilof.txt\n"
     ]
    },
    {
     "name": "stderr",
     "output_type": "stream",
     "text": [
      " 43%|████▎     | 2450/5750 [03:22<04:33, 12.08it/s]"
     ]
    },
    {
     "name": "stdout",
     "output_type": "stream",
     "text": [
      "https://wolnelektury.pl/media/book/txt/kornhauser-wieksza-wartosc.txt\n",
      "https://wolnelektury.pl/media/book/txt/kornhauser-wolne-dzieci.txt\n",
      "https://wolnelektury.pl/media/book/txt/kornhauser-wolnosc.txt\n",
      "https://wolnelektury.pl/media/book/txt/kornhauser-wtorek-miasto-ziewa.txt\n"
     ]
    },
    {
     "name": "stderr",
     "output_type": "stream",
     "text": [
      " 43%|████▎     | 2454/5750 [03:23<04:32, 12.09it/s]"
     ]
    },
    {
     "name": "stdout",
     "output_type": "stream",
     "text": [
      "https://wolnelektury.pl/media/book/txt/kornhauser-wyprzedzaj-poeto.txt\n",
      "https://wolnelektury.pl/media/book/txt/kornhauser-zjadacze-kartofli.txt\n",
      "https://wolnelektury.pl/media/book/txt/kornhauser-zjadacze-kartofli-cykl.txt\n"
     ]
    },
    {
     "name": "stderr",
     "output_type": "stream",
     "text": [
      " 43%|████▎     | 2458/5750 [03:23<04:32, 12.09it/s]"
     ]
    },
    {
     "name": "stdout",
     "output_type": "stream",
     "text": [
      "https://wolnelektury.pl/media/book/txt/kornhauser-zjadacze-kartofli-zjadacze-kartofli.txt\n",
      "https://wolnelektury.pl/media/book/txt/korotynski-czem-chata-bogata-tem-rada.txt\n",
      "https://wolnelektury.pl/media/book/txt/korotynski-czem-chata-bogata-tem-rada-basn-mojej-piastunki.txt\n",
      "https://wolnelektury.pl/media/book/txt/korotynski-czem-chata-bogata-tem-rada-bramin-u-kresu-zywota.txt\n"
     ]
    },
    {
     "name": "stderr",
     "output_type": "stream",
     "text": [
      "\r",
      " 43%|████▎     | 2460/5750 [03:23<04:32, 12.09it/s]"
     ]
    },
    {
     "name": "stdout",
     "output_type": "stream",
     "text": [
      "https://wolnelektury.pl/media/book/txt/korotynski-czem-chata-bogata-tem-rada-daj-pokoj.txt\n",
      "https://wolnelektury.pl/media/book/txt/korotynski-czem-chata-bogata-tem-rada-do-f-p.txt\n",
      "https://wolnelektury.pl/media/book/txt/korotynski-czem-chata-bogata-tem-rada-do-swojej-swity.txt\n"
     ]
    },
    {
     "name": "stderr",
     "output_type": "stream",
     "text": [
      " 43%|████▎     | 2464/5750 [03:23<04:31, 12.10it/s]"
     ]
    },
    {
     "name": "stdout",
     "output_type": "stream",
     "text": [
      "https://wolnelektury.pl/media/book/txt/korotynski-czem-chata-bogata-tem-rada-dwie-milosci.txt\n",
      "https://wolnelektury.pl/media/book/txt/korotynski-czem-chata-bogata-tem-rada-dzien-pierwszy-wiosny.txt\n",
      "https://wolnelektury.pl/media/book/txt/korotynski-czem-chata-bogata-tem-rada-figlik-mojego-dziadka.txt\n"
     ]
    },
    {
     "name": "stderr",
     "output_type": "stream",
     "text": [
      "\r",
      " 43%|████▎     | 2466/5750 [03:23<04:31, 12.10it/s]"
     ]
    },
    {
     "name": "stdout",
     "output_type": "stream",
     "text": [
      "https://wolnelektury.pl/media/book/txt/korotynski-czem-chata-bogata-tem-rada-jak-sie-poscielesz-tak-sie-wyspisz.txt\n",
      "https://wolnelektury.pl/media/book/txt/korotynski-czem-chata-bogata-tem-rada-milosc.txt\n",
      "https://wolnelektury.pl/media/book/txt/korotynski-czem-chata-bogata-tem-rada-plaszcz-krolewski.txt\n"
     ]
    },
    {
     "name": "stderr",
     "output_type": "stream",
     "text": [
      " 43%|████▎     | 2470/5750 [03:24<04:31, 12.10it/s]"
     ]
    },
    {
     "name": "stdout",
     "output_type": "stream",
     "text": [
      "https://wolnelektury.pl/media/book/txt/korotynski-czem-chata-bogata-tem-rada-postrzyzyny.txt\n",
      "https://wolnelektury.pl/media/book/txt/korotynski-czem-chata-bogata-tem-rada-powolanie.txt\n",
      "https://wolnelektury.pl/media/book/txt/korotynski-czem-chata-bogata-tem-rada-przednowek.txt\n",
      "https://wolnelektury.pl/media/book/txt/korotynski-czem-chata-bogata-tem-rada-sen-na-jawie.txt\n"
     ]
    },
    {
     "name": "stderr",
     "output_type": "stream",
     "text": [
      " 43%|████▎     | 2474/5750 [03:24<04:30, 12.10it/s]"
     ]
    },
    {
     "name": "stdout",
     "output_type": "stream",
     "text": [
      "https://wolnelektury.pl/media/book/txt/korotynski-czem-chata-bogata-tem-rada-sierota.txt\n",
      "https://wolnelektury.pl/media/book/txt/korotynski-czem-chata-bogata-tem-rada-swaty.txt\n",
      "https://wolnelektury.pl/media/book/txt/korotynski-czem-chata-bogata-tem-rada-w-imionniku.txt\n"
     ]
    },
    {
     "name": "stderr",
     "output_type": "stream",
     "text": [
      "\r",
      " 43%|████▎     | 2476/5750 [03:24<04:30, 12.10it/s]"
     ]
    },
    {
     "name": "stdout",
     "output_type": "stream",
     "text": [
      "https://wolnelektury.pl/media/book/txt/korotynski-czem-chata-bogata-tem-rada-wicinnik-na-wiosne.txt\n",
      "https://wolnelektury.pl/media/book/txt/korotynski-czem-chata-bogata-tem-rada-wicinnik-w-jesien.txt\n",
      "https://wolnelektury.pl/media/book/txt/kortum-jobsjada.txt\n"
     ]
    },
    {
     "name": "stderr",
     "output_type": "stream",
     "text": [
      " 43%|████▎     | 2480/5750 [03:24<04:30, 12.10it/s]"
     ]
    },
    {
     "name": "stdout",
     "output_type": "stream",
     "text": [
      "https://wolnelektury.pl/media/book/txt/kosciolek.txt\n",
      "https://wolnelektury.pl/media/book/txt/kosiarze.txt\n",
      "https://wolnelektury.pl/media/book/txt/kostus.txt\n",
      "https://wolnelektury.pl/media/book/txt/kot-i-kogut-bajki-nowe.txt\n"
     ]
    },
    {
     "name": "stderr",
     "output_type": "stream",
     "text": [
      " 43%|████▎     | 2484/5750 [03:25<04:29, 12.10it/s]"
     ]
    },
    {
     "name": "stdout",
     "output_type": "stream",
     "text": [
      "https://wolnelektury.pl/media/book/txt/kotek-lizus.txt\n",
      "https://wolnelektury.pl/media/book/txt/kotek-piesek-myszka-i-ptaszek.txt\n",
      "https://wolnelektury.pl/media/book/txt/kotek-psotek.txt\n"
     ]
    },
    {
     "name": "stderr",
     "output_type": "stream",
     "text": [
      "\r",
      " 43%|████▎     | 2486/5750 [03:25<04:29, 12.10it/s]"
     ]
    },
    {
     "name": "stdout",
     "output_type": "stream",
     "text": [
      "https://wolnelektury.pl/media/book/txt/krahelska-k-hej-chlopcy-bagnet-na-bron.txt\n",
      "https://wolnelektury.pl/media/book/txt/krahelska-kolysanka.txt\n",
      "https://wolnelektury.pl/media/book/txt/krahelska-modlitwa.txt\n"
     ]
    },
    {
     "name": "stderr",
     "output_type": "stream",
     "text": [
      " 43%|████▎     | 2490/5750 [03:25<04:29, 12.11it/s]"
     ]
    },
    {
     "name": "stdout",
     "output_type": "stream",
     "text": [
      "https://wolnelektury.pl/media/book/txt/krahelska-niebo-jest-nad-nami.txt\n",
      "https://wolnelektury.pl/media/book/txt/krahelska-o-wojence.txt\n",
      "https://wolnelektury.pl/media/book/txt/krahelska-wiosna-zawiedzionych.txt\n"
     ]
    },
    {
     "name": "stderr",
     "output_type": "stream",
     "text": [
      "\r",
      " 43%|████▎     | 2492/5750 [03:25<04:29, 12.10it/s]"
     ]
    },
    {
     "name": "stdout",
     "output_type": "stream",
     "text": [
      "https://wolnelektury.pl/media/book/txt/krajewski-woyciech-zdarzynski-zycie-i-przypadki-swoje-opisuiacy.txt\n",
      "https://wolnelektury.pl/media/book/txt/krajobrazy.txt\n"
     ]
    },
    {
     "name": "stderr",
     "output_type": "stream",
     "text": [
      "\r",
      " 43%|████▎     | 2494/5750 [03:26<04:29, 12.10it/s]"
     ]
    },
    {
     "name": "stdout",
     "output_type": "stream",
     "text": [
      "https://wolnelektury.pl/media/book/txt/kramarz.txt\n",
      "https://wolnelektury.pl/media/book/txt/krasevskis-kunigas.txt\n"
     ]
    },
    {
     "name": "stderr",
     "output_type": "stream",
     "text": [
      "\r",
      " 43%|████▎     | 2496/5750 [03:26<04:29, 12.09it/s]"
     ]
    },
    {
     "name": "stdout",
     "output_type": "stream",
     "text": [
      "https://wolnelektury.pl/media/book/txt/krasinski-irydion.txt\n",
      "https://wolnelektury.pl/media/book/txt/krasnoludek.txt\n"
     ]
    },
    {
     "name": "stderr",
     "output_type": "stream",
     "text": [
      "\r",
      " 43%|████▎     | 2498/5750 [03:26<04:28, 12.09it/s]"
     ]
    },
    {
     "name": "stdout",
     "output_type": "stream",
     "text": [
      "https://wolnelektury.pl/media/book/txt/krasnoludki.txt\n",
      "https://wolnelektury.pl/media/book/txt/kraszewski-anafielas.txt\n",
      "https://wolnelektury.pl/media/book/txt/kraszewski-anafielas-piesn-i.txt\n"
     ]
    },
    {
     "name": "stderr",
     "output_type": "stream",
     "text": [
      "\r",
      " 43%|████▎     | 2500/5750 [03:26<04:28, 12.09it/s]"
     ]
    },
    {
     "name": "stdout",
     "output_type": "stream",
     "text": [
      "https://wolnelektury.pl/media/book/txt/kraszewski-anafielas-piesn-ii.txt\n",
      "https://wolnelektury.pl/media/book/txt/kraszewski-anafielas-piesn-iii.txt\n"
     ]
    },
    {
     "name": "stderr",
     "output_type": "stream",
     "text": [
      " 44%|████▎     | 2504/5750 [03:27<04:28, 12.08it/s]"
     ]
    },
    {
     "name": "stdout",
     "output_type": "stream",
     "text": [
      "https://wolnelektury.pl/media/book/txt/kraszewski-bruhl.txt\n",
      "https://wolnelektury.pl/media/book/txt/kraszewski-diabel.txt\n",
      "https://wolnelektury.pl/media/book/txt/kraszewski-diabel-tom-i.txt\n"
     ]
    },
    {
     "name": "stderr",
     "output_type": "stream",
     "text": [
      "\r",
      " 44%|████▎     | 2506/5750 [03:27<04:28, 12.07it/s]"
     ]
    },
    {
     "name": "stdout",
     "output_type": "stream",
     "text": [
      "https://wolnelektury.pl/media/book/txt/kraszewski-diabel-tom-ii.txt\n",
      "https://wolnelektury.pl/media/book/txt/kraszewski-diabel-tom-iii.txt\n"
     ]
    },
    {
     "name": "stderr",
     "output_type": "stream",
     "text": [
      " 44%|████▎     | 2508/5750 [03:28<04:28, 12.05it/s]"
     ]
    },
    {
     "name": "stdout",
     "output_type": "stream",
     "text": [
      "https://wolnelektury.pl/media/book/txt/kraszewski-diabel-tom-iv.txt\n",
      "https://wolnelektury.pl/media/book/txt/kraszewski-kunigas.txt\n"
     ]
    },
    {
     "name": "stderr",
     "output_type": "stream",
     "text": [
      "\r",
      " 44%|████▎     | 2509/5750 [03:28<04:29, 12.05it/s]"
     ]
    },
    {
     "name": "stdout",
     "output_type": "stream",
     "text": [
      "https://wolnelektury.pl/media/book/txt/kraszewski-litwa-za-witolda.txt\n"
     ]
    },
    {
     "name": "stderr",
     "output_type": "stream",
     "text": [
      " 44%|████▎     | 2511/5750 [03:28<04:29, 12.03it/s]"
     ]
    },
    {
     "name": "stdout",
     "output_type": "stream",
     "text": [
      "https://wolnelektury.pl/media/book/txt/kraszewski-upior.txt\n",
      "https://wolnelektury.pl/media/book/txt/krawiec.txt\n"
     ]
    },
    {
     "name": "stderr",
     "output_type": "stream",
     "text": [
      "\r",
      " 44%|████▎     | 2513/5750 [03:28<04:28, 12.03it/s]"
     ]
    },
    {
     "name": "stdout",
     "output_type": "stream",
     "text": [
      "https://wolnelektury.pl/media/book/txt/krisciukaitis-aisb-kas-teisybe-tai-ne-melas.txt\n",
      "https://wolnelektury.pl/media/book/txt/krisciukaitis-aisbe-kas-teisyb-tai-ne-melas-bricka.txt\n",
      "https://wolnelektury.pl/media/book/txt/krisciukaitis-aisbe-kas-teisyb-tai-ne-melas-kas-kaltas.txt\n"
     ]
    },
    {
     "name": "stderr",
     "output_type": "stream",
     "text": [
      "\r",
      " 44%|████▎     | 2515/5750 [03:28<04:28, 12.03it/s]"
     ]
    },
    {
     "name": "stdout",
     "output_type": "stream",
     "text": [
      "https://wolnelektury.pl/media/book/txt/krisciukaitis-aisbe-kas-teisyb-tai-ne-melas-musu-ponai.txt\n",
      "https://wolnelektury.pl/media/book/txt/krisciukaitis-aisbe-kas-teisyb-tai-ne-melas-sodziaus-mokykloj.txt\n"
     ]
    },
    {
     "name": "stderr",
     "output_type": "stream",
     "text": [
      " 44%|████▍     | 2519/5750 [03:29<04:28, 12.03it/s]"
     ]
    },
    {
     "name": "stdout",
     "output_type": "stream",
     "text": [
      "https://wolnelektury.pl/media/book/txt/krisciukaitis-aisbe-kas-teisyb-tai-ne-melas-ugnis-negesinama-issiplecia.txt\n",
      "https://wolnelektury.pl/media/book/txt/krisciukaitis-aisbe-kas-teisyb-tai-ne-melas-verpele.txt\n",
      "https://wolnelektury.pl/media/book/txt/krol-chlopow.txt\n"
     ]
    },
    {
     "name": "stderr",
     "output_type": "stream",
     "text": [
      " 44%|████▍     | 2522/5750 [03:29<04:28, 12.02it/s]"
     ]
    },
    {
     "name": "stdout",
     "output_type": "stream",
     "text": [
      "https://wolnelektury.pl/media/book/txt/krol-drozdobrody.txt\n",
      "https://wolnelektury.pl/media/book/txt/krol-duch.txt\n",
      "https://wolnelektury.pl/media/book/txt/krol-dzumiec.txt\n"
     ]
    },
    {
     "name": "stderr",
     "output_type": "stream",
     "text": [
      "\r",
      " 44%|████▍     | 2524/5750 [03:30<04:28, 12.02it/s]"
     ]
    },
    {
     "name": "stdout",
     "output_type": "stream",
     "text": [
      "https://wolnelektury.pl/media/book/txt/krol-edyp.txt\n",
      "https://wolnelektury.pl/media/book/txt/krol-i-bondarywna.txt\n"
     ]
    },
    {
     "name": "stderr",
     "output_type": "stream",
     "text": [
      "\r",
      " 44%|████▍     | 2525/5750 [03:30<04:28, 12.01it/s]"
     ]
    },
    {
     "name": "stdout",
     "output_type": "stream",
     "text": [
      "https://wolnelektury.pl/media/book/txt/krol-i-pisarze.txt\n",
      "https://wolnelektury.pl/media/book/txt/krol-jeno.txt\n"
     ]
    },
    {
     "name": "stderr",
     "output_type": "stream",
     "text": [
      " 44%|████▍     | 2528/5750 [03:30<04:28, 12.00it/s]"
     ]
    },
    {
     "name": "stdout",
     "output_type": "stream",
     "text": [
      "https://wolnelektury.pl/media/book/txt/krol-lear.txt\n",
      "https://wolnelektury.pl/media/book/txt/krol-macius-pierwszy.txt\n"
     ]
    },
    {
     "name": "stderr",
     "output_type": "stream",
     "text": [
      " 44%|████▍     | 2530/5750 [03:30<04:28, 11.99it/s]"
     ]
    },
    {
     "name": "stdout",
     "output_type": "stream",
     "text": [
      "https://wolnelektury.pl/media/book/txt/krol-ryszard-ii.txt\n",
      "https://wolnelektury.pl/media/book/txt/krol-ryszard-iii.txt\n"
     ]
    },
    {
     "name": "stderr",
     "output_type": "stream",
     "text": [
      "\r",
      " 44%|████▍     | 2531/5750 [03:31<04:28, 11.99it/s]"
     ]
    },
    {
     "name": "stdout",
     "output_type": "stream",
     "text": [
      "https://wolnelektury.pl/media/book/txt/krol-zab.txt\n",
      "https://wolnelektury.pl/media/book/txt/krol-zamczyska.txt\n"
     ]
    },
    {
     "name": "stderr",
     "output_type": "stream",
     "text": [
      " 44%|████▍     | 2535/5750 [03:31<04:28, 11.99it/s]"
     ]
    },
    {
     "name": "stdout",
     "output_type": "stream",
     "text": [
      "https://wolnelektury.pl/media/book/txt/krolowa-sniegu.txt\n",
      "https://wolnelektury.pl/media/book/txt/kronika-mieszczanska.txt\n",
      "https://wolnelektury.pl/media/book/txt/kroniki-wloskie.txt\n"
     ]
    },
    {
     "name": "stderr",
     "output_type": "stream",
     "text": [
      " 44%|████▍     | 2538/5750 [03:31<04:28, 11.98it/s]"
     ]
    },
    {
     "name": "stdout",
     "output_type": "stream",
     "text": [
      "https://wolnelektury.pl/media/book/txt/krople-rosy.txt\n",
      "https://wolnelektury.pl/media/book/txt/krotka-rozprawa-miedzy-trzemi-osobami.txt\n",
      "https://wolnelektury.pl/media/book/txt/kruk-i-labedz.txt\n"
     ]
    },
    {
     "name": "stderr",
     "output_type": "stream",
     "text": [
      "\r",
      " 44%|████▍     | 2540/5750 [03:32<04:27, 11.98it/s]"
     ]
    },
    {
     "name": "stdout",
     "output_type": "stream",
     "text": [
      "https://wolnelektury.pl/media/book/txt/kruk-i-lis-bajki-nowe.txt\n",
      "https://wolnelektury.pl/media/book/txt/kruk-z-dzwonkiem.txt\n",
      "https://wolnelektury.pl/media/book/txt/kruk-zebraczek.txt\n"
     ]
    },
    {
     "name": "stderr",
     "output_type": "stream",
     "text": [
      " 44%|████▍     | 2544/5750 [03:32<04:27, 11.98it/s]"
     ]
    },
    {
     "name": "stdout",
     "output_type": "stream",
     "text": [
      "https://wolnelektury.pl/media/book/txt/krymo-sonetai.txt\n",
      "https://wolnelektury.pl/media/book/txt/krys-i-leos.txt\n",
      "https://wolnelektury.pl/media/book/txt/krysia-bezimienna.txt\n",
      "https://wolnelektury.pl/media/book/txt/krytyka-czystego-rozumu.txt\n"
     ]
    },
    {
     "name": "stderr",
     "output_type": "stream",
     "text": [
      " 44%|████▍     | 2547/5750 [03:32<04:27, 11.96it/s]"
     ]
    },
    {
     "name": "stdout",
     "output_type": "stream",
     "text": [
      "https://wolnelektury.pl/media/book/txt/krzewiciele-zdziczenia.txt\n",
      "https://wolnelektury.pl/media/book/txt/krzewom-nad-moja-droga.txt\n",
      "https://wolnelektury.pl/media/book/txt/krzyz-i-dziecko.txt\n"
     ]
    },
    {
     "name": "stderr",
     "output_type": "stream",
     "text": [
      "\r",
      " 44%|████▍     | 2549/5750 [03:33<04:27, 11.96it/s]"
     ]
    },
    {
     "name": "stdout",
     "output_type": "stream",
     "text": [
      "https://wolnelektury.pl/media/book/txt/krzyzacy.txt\n",
      "https://wolnelektury.pl/media/book/txt/krzyzacy-tom-drugi.txt\n"
     ]
    },
    {
     "name": "stderr",
     "output_type": "stream",
     "text": [
      "\r",
      " 44%|████▍     | 2551/5750 [03:33<04:27, 11.96it/s]"
     ]
    },
    {
     "name": "stdout",
     "output_type": "stream",
     "text": [
      "https://wolnelektury.pl/media/book/txt/krzyzacy-tom-pierwszy.txt\n"
     ]
    },
    {
     "name": "stderr",
     "output_type": "stream",
     "text": [
      " 44%|████▍     | 2554/5750 [03:33<04:27, 11.95it/s]"
     ]
    },
    {
     "name": "stdout",
     "output_type": "stream",
     "text": [
      "https://wolnelektury.pl/media/book/txt/krzyzewski-w-odwrocie.txt\n",
      "https://wolnelektury.pl/media/book/txt/krzyzyk-zloty.txt\n",
      "https://wolnelektury.pl/media/book/txt/ksiaze-i-zebrak.txt\n"
     ]
    },
    {
     "name": "stderr",
     "output_type": "stream",
     "text": [
      "\r",
      " 44%|████▍     | 2555/5750 [03:33<04:27, 11.94it/s]"
     ]
    },
    {
     "name": "stdout",
     "output_type": "stream",
     "text": [
      "https://wolnelektury.pl/media/book/txt/ksiazeczka.txt\n",
      "https://wolnelektury.pl/media/book/txt/ksiega-dzungli.txt\n"
     ]
    },
    {
     "name": "stderr",
     "output_type": "stream",
     "text": [
      " 45%|████▍     | 2559/5750 [03:34<04:27, 11.94it/s]"
     ]
    },
    {
     "name": "stdout",
     "output_type": "stream",
     "text": [
      "https://wolnelektury.pl/media/book/txt/ksiegi.txt\n",
      "https://wolnelektury.pl/media/book/txt/ksiegi-narodu-polskiego-i-pielgrzymstwa-polskiego.txt\n",
      "https://wolnelektury.pl/media/book/txt/ksiezna-de-cleves.txt\n"
     ]
    },
    {
     "name": "stderr",
     "output_type": "stream",
     "text": [
      " 45%|████▍     | 2562/5750 [03:34<04:27, 11.93it/s]"
     ]
    },
    {
     "name": "stdout",
     "output_type": "stream",
     "text": [
      "https://wolnelektury.pl/media/book/txt/ktoz-nam-powroci.txt\n",
      "https://wolnelektury.pl/media/book/txt/ktoz-sie-przed-toba-ostoi.txt\n",
      "https://wolnelektury.pl/media/book/txt/kubus-fatalista-i-jego-pan.txt\n"
     ]
    },
    {
     "name": "stderr",
     "output_type": "stream",
     "text": [
      " 45%|████▍     | 2565/5750 [03:35<04:27, 11.93it/s]"
     ]
    },
    {
     "name": "stdout",
     "output_type": "stream",
     "text": [
      "https://wolnelektury.pl/media/book/txt/kucharczyk-jak-modlitwa-ochrania-przed-zlodziejami.txt\n",
      "https://wolnelektury.pl/media/book/txt/kucharczyk-o-biednym-bogatym-i-panu-jezusie.txt\n",
      "https://wolnelektury.pl/media/book/txt/kudirka-laisvos-valandos.txt\n"
     ]
    },
    {
     "name": "stderr",
     "output_type": "stream",
     "text": [
      "\r",
      " 45%|████▍     | 2567/5750 [03:35<04:26, 11.93it/s]"
     ]
    },
    {
     "name": "stdout",
     "output_type": "stream",
     "text": [
      "https://wolnelektury.pl/media/book/txt/kudirka-laisvos-valandos-artojaus-skundas.txt\n",
      "https://wolnelektury.pl/media/book/txt/kudirka-laisvos-valandos-delko-zydai-nevalgo-kiaulienos.txt\n",
      "https://wolnelektury.pl/media/book/txt/kudirka-laisvos-valandos-grazu-graziau-ir-graziausiai.txt\n"
     ]
    },
    {
     "name": "stderr",
     "output_type": "stream",
     "text": [
      " 45%|████▍     | 2571/5750 [03:35<04:26, 11.93it/s]"
     ]
    },
    {
     "name": "stdout",
     "output_type": "stream",
     "text": [
      "https://wolnelektury.pl/media/book/txt/kudirka-laisvos-valandos-labora.txt\n",
      "https://wolnelektury.pl/media/book/txt/kudirka-laisvos-valandos-lietuvos-sviesuoliams.txt\n",
      "https://wolnelektury.pl/media/book/txt/kudirka-laisvos-valandos-maniesiems.txt\n"
     ]
    },
    {
     "name": "stderr",
     "output_type": "stream",
     "text": [
      "\r",
      " 45%|████▍     | 2573/5750 [03:35<04:26, 11.93it/s]"
     ]
    },
    {
     "name": "stdout",
     "output_type": "stream",
     "text": [
      "https://wolnelektury.pl/media/book/txt/kudirka-laisvos-valandos-ne-tas-yra-didis.txt\n",
      "https://wolnelektury.pl/media/book/txt/kudirka-laisvos-valandos-samsonas.txt\n",
      "https://wolnelektury.pl/media/book/txt/kudirka-laisvos-valandos-siaucius-ir-gizelis.txt\n"
     ]
    },
    {
     "name": "stderr",
     "output_type": "stream",
     "text": [
      " 45%|████▍     | 2577/5750 [03:35<04:25, 11.93it/s]"
     ]
    },
    {
     "name": "stdout",
     "output_type": "stream",
     "text": [
      "https://wolnelektury.pl/media/book/txt/kudirka-laisvos-valandos-valerijai.txt\n",
      "https://wolnelektury.pl/media/book/txt/kudirka-laisvos-valandos-varpas.txt\n",
      "https://wolnelektury.pl/media/book/txt/kudirka-laisvos-valandos-zirbliai-ir-kaliause.txt\n"
     ]
    },
    {
     "name": "stderr",
     "output_type": "stream",
     "text": [
      "\r",
      " 45%|████▍     | 2579/5750 [03:36<04:25, 11.93it/s]"
     ]
    },
    {
     "name": "stdout",
     "output_type": "stream",
     "text": [
      "https://wolnelektury.pl/media/book/txt/kudirka-lietuvos-tilto-atsiminimai.txt\n",
      "https://wolnelektury.pl/media/book/txt/kudirka-mindaugas.txt\n",
      "https://wolnelektury.pl/media/book/txt/kudirka-tautystes-pamatas.txt\n"
     ]
    },
    {
     "name": "stderr",
     "output_type": "stream",
     "text": [
      "\r",
      " 45%|████▍     | 2581/5750 [03:36<04:25, 11.93it/s]"
     ]
    },
    {
     "name": "stdout",
     "output_type": "stream",
     "text": [
      "https://wolnelektury.pl/media/book/txt/kudirka-zvirbliai.txt\n",
      "https://wolnelektury.pl/media/book/txt/kuglarze-bajki-nowe.txt\n"
     ]
    },
    {
     "name": "stderr",
     "output_type": "stream",
     "text": [
      " 45%|████▍     | 2585/5750 [03:36<04:25, 11.93it/s]"
     ]
    },
    {
     "name": "stdout",
     "output_type": "stream",
     "text": [
      "https://wolnelektury.pl/media/book/txt/kujawiak.txt\n",
      "https://wolnelektury.pl/media/book/txt/kukuleczka.txt\n",
      "https://wolnelektury.pl/media/book/txt/kulik.txt\n"
     ]
    },
    {
     "name": "stderr",
     "output_type": "stream",
     "text": [
      "\r",
      " 45%|████▍     | 2587/5750 [03:36<04:25, 11.93it/s]"
     ]
    },
    {
     "name": "stdout",
     "output_type": "stream",
     "text": [
      "https://wolnelektury.pl/media/book/txt/kurpik.txt\n",
      "https://wolnelektury.pl/media/book/txt/kwestia-kobieca-a-malzenstwo.txt\n",
      "https://wolnelektury.pl/media/book/txt/kwiat-paproci.txt\n"
     ]
    },
    {
     "name": "stderr",
     "output_type": "stream",
     "text": [
      " 45%|████▌     | 2591/5750 [03:37<04:24, 11.93it/s]"
     ]
    },
    {
     "name": "stdout",
     "output_type": "stream",
     "text": [
      "https://wolnelektury.pl/media/book/txt/kwiatek-znaleziony.txt\n",
      "https://wolnelektury.pl/media/book/txt/kwiaty-idalki.txt\n",
      "https://wolnelektury.pl/media/book/txt/kwiaty-zla-albatros.txt\n"
     ]
    },
    {
     "name": "stderr",
     "output_type": "stream",
     "text": [
      "\r",
      " 45%|████▌     | 2593/5750 [03:37<04:24, 11.93it/s]"
     ]
    },
    {
     "name": "stdout",
     "output_type": "stream",
     "text": [
      "https://wolnelektury.pl/media/book/txt/kwiaty-zla-amor-i-czaszka.txt\n",
      "https://wolnelektury.pl/media/book/txt/kwiaty-zla-blogoslawienstwo.txt\n",
      "https://wolnelektury.pl/media/book/txt/kwiaty-zla-caly-swiat-bys-sciagnela.txt\n"
     ]
    },
    {
     "name": "stderr",
     "output_type": "stream",
     "text": [
      " 45%|████▌     | 2597/5750 [03:37<04:24, 11.93it/s]"
     ]
    },
    {
     "name": "stdout",
     "output_type": "stream",
     "text": [
      "https://wolnelektury.pl/media/book/txt/kwiaty-zla-cyganie-w-podrozy.txt\n",
      "https://wolnelektury.pl/media/book/txt/kwiaty-zla-do-czytelnika.txt\n",
      "https://wolnelektury.pl/media/book/txt/kwiaty-zla-do-kreolki.txt\n",
      "https://wolnelektury.pl/media/book/txt/kwiaty-zla-do-malabarki.txt\n"
     ]
    },
    {
     "name": "stderr",
     "output_type": "stream",
     "text": [
      " 45%|████▌     | 2601/5750 [03:37<04:23, 11.94it/s]"
     ]
    },
    {
     "name": "stdout",
     "output_type": "stream",
     "text": [
      "https://wolnelektury.pl/media/book/txt/kwiaty-zla-do-teodora-de-banville.txt\n",
      "https://wolnelektury.pl/media/book/txt/kwiaty-zla-don-juan-w-piekle.txt\n",
      "https://wolnelektury.pl/media/book/txt/kwiaty-zla-dusza-wina.txt\n",
      "https://wolnelektury.pl/media/book/txt/kwiaty-zla-epigraf-na-potepiona-ksiazke.txt\n"
     ]
    },
    {
     "name": "stderr",
     "output_type": "stream",
     "text": [
      " 45%|████▌     | 2605/5750 [03:38<04:23, 11.94it/s]"
     ]
    },
    {
     "name": "stdout",
     "output_type": "stream",
     "text": [
      "https://wolnelektury.pl/media/book/txt/kwiaty-zla-franciscae-meae-laudes.txt\n",
      "https://wolnelektury.pl/media/book/txt/kwiaty-zla-glos.txt\n",
      "https://wolnelektury.pl/media/book/txt/kwiaty-zla-harmonia-wieczorna.txt\n"
     ]
    },
    {
     "name": "stderr",
     "output_type": "stream",
     "text": [
      " 45%|████▌     | 2609/5750 [03:38<04:22, 11.94it/s]"
     ]
    },
    {
     "name": "stdout",
     "output_type": "stream",
     "text": [
      "https://wolnelektury.pl/media/book/txt/kwiaty-zla-heautontimoroumenos.txt\n",
      "https://wolnelektury.pl/media/book/txt/kwiaty-zla-hymn-do-piekna.txt\n",
      "https://wolnelektury.pl/media/book/txt/kwiaty-zla-ideal.txt\n",
      "https://wolnelektury.pl/media/book/txt/kwiaty-zla-jutrzenka-duszy.txt\n"
     ]
    },
    {
     "name": "stderr",
     "output_type": "stream",
     "text": [
      " 45%|████▌     | 2613/5750 [03:38<04:22, 11.95it/s]"
     ]
    },
    {
     "name": "stdout",
     "output_type": "stream",
     "text": [
      "https://wolnelektury.pl/media/book/txt/kwiaty-zla-kara-pychy.txt\n",
      "https://wolnelektury.pl/media/book/txt/kwiaty-zla-latarnie.txt\n",
      "https://wolnelektury.pl/media/book/txt/kwiaty-zla-lubie-tych-nagich-epok-bawic-sie-wspomnieniem.txt\n",
      "https://wolnelektury.pl/media/book/txt/kwiaty-zla-marzenie-ciekawego.txt\n"
     ]
    },
    {
     "name": "stderr",
     "output_type": "stream",
     "text": [
      " 46%|████▌     | 2617/5750 [03:38<04:22, 11.95it/s]"
     ]
    },
    {
     "name": "stdout",
     "output_type": "stream",
     "text": [
      "https://wolnelektury.pl/media/book/txt/kwiaty-zla-marzenie-paryskie.txt\n",
      "https://wolnelektury.pl/media/book/txt/kwiaty-zla-maska.txt\n",
      "https://wolnelektury.pl/media/book/txt/kwiaty-zla-moesta-et-errabunda.txt\n",
      "https://wolnelektury.pl/media/book/txt/kwiaty-zla-mogila-wykletego-poety.txt\n"
     ]
    },
    {
     "name": "stderr",
     "output_type": "stream",
     "text": [
      " 46%|████▌     | 2621/5750 [03:39<04:21, 11.95it/s]"
     ]
    },
    {
     "name": "stdout",
     "output_type": "stream",
     "text": [
      "https://wolnelektury.pl/media/book/txt/kwiaty-zla-muza-chora.txt\n",
      "https://wolnelektury.pl/media/book/txt/kwiaty-zla-muza-sprzedajna.txt\n",
      "https://wolnelektury.pl/media/book/txt/kwiaty-zla-muzyka.txt\n",
      "https://wolnelektury.pl/media/book/txt/kwiaty-zla-niepowrotne.txt\n"
     ]
    },
    {
     "name": "stderr",
     "output_type": "stream",
     "text": [
      " 46%|████▌     | 2625/5750 [03:39<04:21, 11.96it/s]"
     ]
    },
    {
     "name": "stdout",
     "output_type": "stream",
     "text": [
      "https://wolnelektury.pl/media/book/txt/kwiaty-zla-nieszczescie.txt\n",
      "https://wolnelektury.pl/media/book/txt/kwiaty-zla-oddzwieki.txt\n",
      "https://wolnelektury.pl/media/book/txt/kwiaty-zla-olbrzymka.txt\n",
      "https://wolnelektury.pl/media/book/txt/kwiaty-zla-otchlan.txt\n"
     ]
    },
    {
     "name": "stderr",
     "output_type": "stream",
     "text": [
      "\r",
      " 46%|████▌     | 2627/5750 [03:39<04:21, 11.96it/s]"
     ]
    },
    {
     "name": "stdout",
     "output_type": "stream",
     "text": [
      "https://wolnelektury.pl/media/book/txt/kwiaty-zla-pekniety-dzwon.txt\n",
      "https://wolnelektury.pl/media/book/txt/kwiaty-zla-piekno.txt\n",
      "https://wolnelektury.pl/media/book/txt/kwiaty-zla-piesn-jesienna.txt\n"
     ]
    },
    {
     "name": "stderr",
     "output_type": "stream",
     "text": [
      " 46%|████▌     | 2631/5750 [03:39<04:20, 11.96it/s]"
     ]
    },
    {
     "name": "stdout",
     "output_type": "stream",
     "text": [
      "https://wolnelektury.pl/media/book/txt/kwiaty-zla-podroz.txt\n",
      "https://wolnelektury.pl/media/book/txt/kwiaty-zla-posmiertne-zale.txt\n",
      "https://wolnelektury.pl/media/book/txt/kwiaty-zla-sed-non-satiata.txt\n"
     ]
    },
    {
     "name": "stderr",
     "output_type": "stream",
     "text": [
      "\r",
      " 46%|████▌     | 2633/5750 [03:40<04:20, 11.96it/s]"
     ]
    },
    {
     "name": "stdout",
     "output_type": "stream",
     "text": [
      "https://wolnelektury.pl/media/book/txt/kwiaty-zla-smierc-nedzarzy.txt\n",
      "https://wolnelektury.pl/media/book/txt/kwiaty-zla-smutek-ksiezyca.txt\n",
      "https://wolnelektury.pl/media/book/txt/kwiaty-zla-spleen.txt\n"
     ]
    },
    {
     "name": "stderr",
     "output_type": "stream",
     "text": [
      " 46%|████▌     | 2637/5750 [03:40<04:20, 11.97it/s]"
     ]
    },
    {
     "name": "stdout",
     "output_type": "stream",
     "text": [
      "https://wolnelektury.pl/media/book/txt/kwiaty-zla-sprzecznosc.txt\n",
      "https://wolnelektury.pl/media/book/txt/kwiaty-zla-staruszki.txt\n",
      "https://wolnelektury.pl/media/book/txt/kwiaty-zla-upior.txt\n",
      "https://wolnelektury.pl/media/book/txt/kwiaty-zla-warkocz.txt\n"
     ]
    },
    {
     "name": "stderr",
     "output_type": "stream",
     "text": [
      " 46%|████▌     | 2641/5750 [03:40<04:19, 11.97it/s]"
     ]
    },
    {
     "name": "stdout",
     "output_type": "stream",
     "text": [
      "https://wolnelektury.pl/media/book/txt/kwiaty-zla-widmo.txt\n",
      "https://wolnelektury.pl/media/book/txt/kwiaty-zla-wiersz-ten-ci-swiece.txt\n",
      "https://wolnelektury.pl/media/book/txt/kwiaty-zla-wino-galganiarza.txt\n"
     ]
    },
    {
     "name": "stderr",
     "output_type": "stream",
     "text": [
      " 46%|████▌     | 2645/5750 [03:40<04:19, 11.97it/s]"
     ]
    },
    {
     "name": "stdout",
     "output_type": "stream",
     "text": [
      "https://wolnelektury.pl/media/book/txt/kwiaty-zla-wino-samotnika.txt\n",
      "https://wolnelektury.pl/media/book/txt/kwiaty-zla-wodotrysk.txt\n",
      "https://wolnelektury.pl/media/book/txt/kwiaty-zla-wyznanie.txt\n",
      "https://wolnelektury.pl/media/book/txt/kwiaty-zla-wzlot.txt\n"
     ]
    },
    {
     "name": "stderr",
     "output_type": "stream",
     "text": [
      " 46%|████▌     | 2649/5750 [03:41<04:18, 11.98it/s]"
     ]
    },
    {
     "name": "stdout",
     "output_type": "stream",
     "text": [
      "https://wolnelektury.pl/media/book/txt/kwiaty-zla-zadza-nicestwa.txt\n",
      "https://wolnelektury.pl/media/book/txt/kwiaty-zla-zapach-egzotyczny.txt\n",
      "https://wolnelektury.pl/media/book/txt/kwiaty-zla-zaproszenie-do-podrozy.txt\n",
      "https://wolnelektury.pl/media/book/txt/kwiaty-zla-zly-mnich.txt\n"
     ]
    },
    {
     "name": "stderr",
     "output_type": "stream",
     "text": [
      " 46%|████▌     | 2653/5750 [03:41<04:18, 11.98it/s]"
     ]
    },
    {
     "name": "stdout",
     "output_type": "stream",
     "text": [
      "https://wolnelektury.pl/media/book/txt/kwiaty-zla-zmora.txt\n",
      "https://wolnelektury.pl/media/book/txt/kwiaty-zla-zmrok-poranny.txt\n",
      "https://wolnelektury.pl/media/book/txt/kwiaty-zla-zmrok-wieczorny.txt\n",
      "https://wolnelektury.pl/media/book/txt/kwiaty-zla-zycie-poprzednie.txt\n"
     ]
    },
    {
     "name": "stderr",
     "output_type": "stream",
     "text": [
      "\r",
      " 46%|████▌     | 2655/5750 [03:41<04:18, 11.98it/s]"
     ]
    },
    {
     "name": "stdout",
     "output_type": "stream",
     "text": [
      "https://wolnelektury.pl/media/book/txt/kwoka-i-kogucik.txt\n",
      "https://wolnelektury.pl/media/book/txt/laciarz.txt\n",
      "https://wolnelektury.pl/media/book/txt/laclos-niebezpieczne-zwiazki.txt\n"
     ]
    },
    {
     "name": "stderr",
     "output_type": "stream",
     "text": [
      "\r",
      " 46%|████▌     | 2657/5750 [03:41<04:18, 11.98it/s]"
     ]
    },
    {
     "name": "stdout",
     "output_type": "stream",
     "text": [
      "https://wolnelektury.pl/media/book/txt/laclos-niebezpieczne-zwiazki-tom-drugi.txt\n",
      "https://wolnelektury.pl/media/book/txt/laclos-niebezpieczne-zwiazki-tom-pierwszy.txt\n"
     ]
    },
    {
     "name": "stderr",
     "output_type": "stream",
     "text": [
      " 46%|████▋     | 2661/5750 [03:42<04:17, 11.98it/s]"
     ]
    },
    {
     "name": "stdout",
     "output_type": "stream",
     "text": [
      "https://wolnelektury.pl/media/book/txt/laka-trzy-roze.txt\n",
      "https://wolnelektury.pl/media/book/txt/laka-trzy-roze-co-w-mglach-czyni-zagiel-na-glebinie.txt\n",
      "https://wolnelektury.pl/media/book/txt/laka-trzy-roze-dusza-w-niebiosach.txt\n"
     ]
    },
    {
     "name": "stderr",
     "output_type": "stream",
     "text": [
      " 46%|████▋     | 2665/5750 [03:42<04:17, 11.98it/s]"
     ]
    },
    {
     "name": "stdout",
     "output_type": "stream",
     "text": [
      "https://wolnelektury.pl/media/book/txt/laka-trzy-roze-dwoje-ludzienkow.txt\n",
      "https://wolnelektury.pl/media/book/txt/laka-trzy-roze-dzis-w-naszego-spotkania-rocznice.txt\n",
      "https://wolnelektury.pl/media/book/txt/laka-trzy-roze-ja-tu-stoje-za-drzwiami.txt\n",
      "https://wolnelektury.pl/media/book/txt/laka-trzy-roze-kwapily-sie-burze.txt\n"
     ]
    },
    {
     "name": "stderr",
     "output_type": "stream",
     "text": [
      " 46%|████▋     | 2669/5750 [03:42<04:17, 11.98it/s]"
     ]
    },
    {
     "name": "stdout",
     "output_type": "stream",
     "text": [
      "https://wolnelektury.pl/media/book/txt/laka-trzy-roze-ponad-zakres-sniezycy.txt\n",
      "https://wolnelektury.pl/media/book/txt/laka-trzy-roze-powrot.txt\n",
      "https://wolnelektury.pl/media/book/txt/laka-trzy-roze-pozarze-piersny-plomieniu-ustny.txt\n",
      "https://wolnelektury.pl/media/book/txt/laka-trzy-roze-rok-nieistnienia.txt\n"
     ]
    },
    {
     "name": "stderr",
     "output_type": "stream",
     "text": [
      "\r",
      " 46%|████▋     | 2671/5750 [03:42<04:16, 11.98it/s]"
     ]
    },
    {
     "name": "stdout",
     "output_type": "stream",
     "text": [
      "https://wolnelektury.pl/media/book/txt/laka-trzy-roze-schadzka.txt\n",
      "https://wolnelektury.pl/media/book/txt/laka-trzy-roze-schadzka-spozniona.txt\n",
      "https://wolnelektury.pl/media/book/txt/laka-trzy-roze-sniez-sie-w-duszy-mojej-sniez.txt\n"
     ]
    },
    {
     "name": "stderr",
     "output_type": "stream",
     "text": [
      " 47%|████▋     | 2675/5750 [03:43<04:16, 11.99it/s]"
     ]
    },
    {
     "name": "stdout",
     "output_type": "stream",
     "text": [
      "https://wolnelektury.pl/media/book/txt/laka-trzy-roze-trzy-roze.txt\n",
      "https://wolnelektury.pl/media/book/txt/laka-trzy-roze-u-wpolrozwartych-stoim-drzwi.txt\n",
      "https://wolnelektury.pl/media/book/txt/laka-trzy-roze-wieczorem.txt\n",
      "https://wolnelektury.pl/media/book/txt/laka-trzy-roze-wyznanie.txt\n"
     ]
    },
    {
     "name": "stderr",
     "output_type": "stream",
     "text": [
      " 47%|████▋     | 2679/5750 [03:43<04:16, 11.99it/s]"
     ]
    },
    {
     "name": "stdout",
     "output_type": "stream",
     "text": [
      "https://wolnelektury.pl/media/book/txt/laka-w-malinowym-chrosniaku-czasami-mojej-slepej-posluszny.txt\n",
      "https://wolnelektury.pl/media/book/txt/laka-w-malinowym-chrosniaku-haslo-nasze.txt\n",
      "https://wolnelektury.pl/media/book/txt/laka-w-malinowym-chrosniaku-sledza-nas.txt\n"
     ]
    },
    {
     "name": "stderr",
     "output_type": "stream",
     "text": [
      " 47%|████▋     | 2683/5750 [03:43<04:15, 11.99it/s]"
     ]
    },
    {
     "name": "stdout",
     "output_type": "stream",
     "text": [
      "https://wolnelektury.pl/media/book/txt/laka-w-malinowym-chrosniaku-taka-cisza-w-ogrodzie.txt\n",
      "https://wolnelektury.pl/media/book/txt/laka-w-malinowym-chrosniaku-ty-pierwiej-mgly-dosiegasz.txt\n",
      "https://wolnelektury.pl/media/book/txt/laka-w-malinowym-chrosniaku-wyszlo-z-boru.txt\n",
      "https://wolnelektury.pl/media/book/txt/laka-w-malinowym-chrosniaku-z-dlonmi-tak-splecionymi.txt\n"
     ]
    },
    {
     "name": "stderr",
     "output_type": "stream",
     "text": [
      "\r",
      " 47%|████▋     | 2685/5750 [03:43<04:15, 11.99it/s]"
     ]
    },
    {
     "name": "stdout",
     "output_type": "stream",
     "text": [
      "https://wolnelektury.pl/media/book/txt/laka-w-malinowym-chrosniaku-zazdrosc-moja.txt\n",
      "https://wolnelektury.pl/media/book/txt/laka-w-malinowym-chrosniaku-zazdrosnicy.txt\n",
      "https://wolnelektury.pl/media/book/txt/laka-w-malinowym-chrosniaku-zmienionaz-po-rozlace.txt\n"
     ]
    },
    {
     "name": "stderr",
     "output_type": "stream",
     "text": [
      " 47%|████▋     | 2689/5750 [03:44<04:15, 12.00it/s]"
     ]
    },
    {
     "name": "stdout",
     "output_type": "stream",
     "text": [
      "https://wolnelektury.pl/media/book/txt/lakomy-i-zazdrosny.txt\n",
      "https://wolnelektury.pl/media/book/txt/lalka.txt\n",
      "https://wolnelektury.pl/media/book/txt/lalka-tom-drugi.txt\n",
      "https://wolnelektury.pl/media/book/txt/lalka-tom-pierwszy.txt\n"
     ]
    },
    {
     "name": "stderr",
     "output_type": "stream",
     "text": [
      " 47%|████▋     | 2693/5750 [03:44<04:15, 11.98it/s]"
     ]
    },
    {
     "name": "stdout",
     "output_type": "stream",
     "text": [
      "https://wolnelektury.pl/media/book/txt/lambro.txt\n",
      "https://wolnelektury.pl/media/book/txt/laments.txt\n",
      "https://wolnelektury.pl/media/book/txt/laments-introductory-note.txt\n"
     ]
    },
    {
     "name": "stderr",
     "output_type": "stream",
     "text": [
      "\r",
      " 47%|████▋     | 2695/5750 [03:44<04:15, 11.98it/s]"
     ]
    },
    {
     "name": "stdout",
     "output_type": "stream",
     "text": [
      "https://wolnelektury.pl/media/book/txt/laments-lament-i.txt\n",
      "https://wolnelektury.pl/media/book/txt/laments-lament-ii.txt\n",
      "https://wolnelektury.pl/media/book/txt/laments-lament-iii.txt\n"
     ]
    },
    {
     "name": "stderr",
     "output_type": "stream",
     "text": [
      " 47%|████▋     | 2699/5750 [03:45<04:14, 11.98it/s]"
     ]
    },
    {
     "name": "stdout",
     "output_type": "stream",
     "text": [
      "https://wolnelektury.pl/media/book/txt/laments-lament-iv.txt\n",
      "https://wolnelektury.pl/media/book/txt/laments-lament-ix.txt\n",
      "https://wolnelektury.pl/media/book/txt/laments-lament-v.txt\n"
     ]
    },
    {
     "name": "stderr",
     "output_type": "stream",
     "text": [
      "\r",
      " 47%|████▋     | 2701/5750 [03:45<04:14, 11.98it/s]"
     ]
    },
    {
     "name": "stdout",
     "output_type": "stream",
     "text": [
      "https://wolnelektury.pl/media/book/txt/laments-lament-vi.txt\n",
      "https://wolnelektury.pl/media/book/txt/laments-lament-vii.txt\n",
      "https://wolnelektury.pl/media/book/txt/laments-lament-viii.txt\n"
     ]
    },
    {
     "name": "stderr",
     "output_type": "stream",
     "text": [
      " 47%|████▋     | 2705/5750 [03:45<04:14, 11.98it/s]"
     ]
    },
    {
     "name": "stdout",
     "output_type": "stream",
     "text": [
      "https://wolnelektury.pl/media/book/txt/laments-lament-x.txt\n",
      "https://wolnelektury.pl/media/book/txt/laments-lament-xi.txt\n",
      "https://wolnelektury.pl/media/book/txt/laments-lament-xii.txt\n"
     ]
    },
    {
     "name": "stderr",
     "output_type": "stream",
     "text": [
      " 47%|████▋     | 2709/5750 [03:45<04:13, 11.99it/s]"
     ]
    },
    {
     "name": "stdout",
     "output_type": "stream",
     "text": [
      "https://wolnelektury.pl/media/book/txt/laments-lament-xiii.txt\n",
      "https://wolnelektury.pl/media/book/txt/laments-lament-xiv.txt\n",
      "https://wolnelektury.pl/media/book/txt/laments-lament-xix.txt\n",
      "https://wolnelektury.pl/media/book/txt/laments-lament-xv.txt\n"
     ]
    },
    {
     "name": "stderr",
     "output_type": "stream",
     "text": [
      "\r",
      " 47%|████▋     | 2711/5750 [03:46<04:13, 11.99it/s]"
     ]
    },
    {
     "name": "stdout",
     "output_type": "stream",
     "text": [
      "https://wolnelektury.pl/media/book/txt/laments-lament-xvi.txt\n",
      "https://wolnelektury.pl/media/book/txt/laments-lament-xvii.txt\n",
      "https://wolnelektury.pl/media/book/txt/laments-lament-xviii.txt\n"
     ]
    },
    {
     "name": "stderr",
     "output_type": "stream",
     "text": [
      "\r",
      " 47%|████▋     | 2713/5750 [03:46<04:13, 11.99it/s]"
     ]
    },
    {
     "name": "stdout",
     "output_type": "stream",
     "text": [
      "https://wolnelektury.pl/media/book/txt/laments-motto-and-dedication.txt\n",
      "https://wolnelektury.pl/media/book/txt/lange-miranda.txt\n"
     ]
    },
    {
     "name": "stderr",
     "output_type": "stream",
     "text": [
      " 47%|████▋     | 2717/5750 [03:46<04:13, 11.98it/s]"
     ]
    },
    {
     "name": "stdout",
     "output_type": "stream",
     "text": [
      "https://wolnelektury.pl/media/book/txt/lange-na-switezi.txt\n",
      "https://wolnelektury.pl/media/book/txt/lange-nowy-tarzan.txt\n",
      "https://wolnelektury.pl/media/book/txt/lange-rym.txt\n"
     ]
    },
    {
     "name": "stderr",
     "output_type": "stream",
     "text": [
      "\r",
      " 47%|████▋     | 2719/5750 [03:46<04:12, 11.98it/s]"
     ]
    },
    {
     "name": "stdout",
     "output_type": "stream",
     "text": [
      "https://wolnelektury.pl/media/book/txt/lange-sonety-wedyckie.txt\n",
      "https://wolnelektury.pl/media/book/txt/lange-sonety-wedyckie-atma.txt\n",
      "https://wolnelektury.pl/media/book/txt/lange-sonety-wedyckie-buddhi.txt\n"
     ]
    },
    {
     "name": "stderr",
     "output_type": "stream",
     "text": [
      " 47%|████▋     | 2723/5750 [03:47<04:12, 11.98it/s]"
     ]
    },
    {
     "name": "stdout",
     "output_type": "stream",
     "text": [
      "https://wolnelektury.pl/media/book/txt/lange-sonety-wedyckie-jiv-atma.txt\n",
      "https://wolnelektury.pl/media/book/txt/lange-sonety-wedyckie-kama-rupa.txt\n",
      "https://wolnelektury.pl/media/book/txt/lange-sonety-wedyckie-linga-sharira.txt\n",
      "https://wolnelektury.pl/media/book/txt/lange-sonety-wedyckie-manas.txt\n"
     ]
    },
    {
     "name": "stderr",
     "output_type": "stream",
     "text": [
      " 47%|████▋     | 2727/5750 [03:47<04:12, 11.99it/s]"
     ]
    },
    {
     "name": "stdout",
     "output_type": "stream",
     "text": [
      "https://wolnelektury.pl/media/book/txt/lange-sonety-wedyckie-rupa.txt\n",
      "https://wolnelektury.pl/media/book/txt/lange-swemu-pokoleniu.txt\n",
      "https://wolnelektury.pl/media/book/txt/lange-w-czwartym-wymiarze.txt\n"
     ]
    },
    {
     "name": "stderr",
     "output_type": "stream",
     "text": [
      "\r",
      " 47%|████▋     | 2729/5750 [03:47<04:11, 11.99it/s]"
     ]
    },
    {
     "name": "stdout",
     "output_type": "stream",
     "text": [
      "https://wolnelektury.pl/media/book/txt/lange-w-czwartym-wymiarze-almanzor.txt\n",
      "https://wolnelektury.pl/media/book/txt/lange-w-czwartym-wymiarze-amor-i-faun.txt\n",
      "https://wolnelektury.pl/media/book/txt/lange-w-czwartym-wymiarze-babunia.txt\n"
     ]
    },
    {
     "name": "stderr",
     "output_type": "stream",
     "text": [
      "\r",
      " 47%|████▋     | 2731/5750 [03:47<04:11, 11.99it/s]"
     ]
    },
    {
     "name": "stdout",
     "output_type": "stream",
     "text": [
      "https://wolnelektury.pl/media/book/txt/lange-w-czwartym-wymiarze-eksperyment.txt\n",
      "https://wolnelektury.pl/media/book/txt/lange-w-czwartym-wymiarze-kometa.txt\n"
     ]
    },
    {
     "name": "stderr",
     "output_type": "stream",
     "text": [
      " 48%|████▊     | 2735/5750 [03:48<04:11, 11.98it/s]"
     ]
    },
    {
     "name": "stdout",
     "output_type": "stream",
     "text": [
      "https://wolnelektury.pl/media/book/txt/lange-w-czwartym-wymiarze-lenora.txt\n",
      "https://wolnelektury.pl/media/book/txt/lange-w-czwartym-wymiarze-memorial-doktora-czang-fu-li.txt\n",
      "https://wolnelektury.pl/media/book/txt/lange-w-czwartym-wymiarze-nowe-mieszkanie.txt\n"
     ]
    },
    {
     "name": "stderr",
     "output_type": "stream",
     "text": [
      "\r",
      " 48%|████▊     | 2737/5750 [03:48<04:11, 11.98it/s]"
     ]
    },
    {
     "name": "stdout",
     "output_type": "stream",
     "text": [
      "https://wolnelektury.pl/media/book/txt/lange-w-czwartym-wymiarze-rebus.txt\n",
      "https://wolnelektury.pl/media/book/txt/lange-w-czwartym-wymiarze-rozaura.txt\n",
      "https://wolnelektury.pl/media/book/txt/lange-w-czwartym-wymiarze-sen.txt\n"
     ]
    },
    {
     "name": "stderr",
     "output_type": "stream",
     "text": [
      " 48%|████▊     | 2741/5750 [03:48<04:11, 11.98it/s]"
     ]
    },
    {
     "name": "stdout",
     "output_type": "stream",
     "text": [
      "https://wolnelektury.pl/media/book/txt/lange-w-czwartym-wymiarze-wladca-czasu.txt\n",
      "https://wolnelektury.pl/media/book/txt/lange-z-rozmyslan.txt\n",
      "https://wolnelektury.pl/media/book/txt/laokoon.txt\n"
     ]
    },
    {
     "name": "stderr",
     "output_type": "stream",
     "text": [
      "\r",
      " 48%|████▊     | 2743/5750 [03:49<04:11, 11.98it/s]"
     ]
    },
    {
     "name": "stdout",
     "output_type": "stream",
     "text": [
      "https://wolnelektury.pl/media/book/txt/larwa.txt\n",
      "https://wolnelektury.pl/media/book/txt/laskawi-jako-ksiazeta.txt\n",
      "https://wolnelektury.pl/media/book/txt/latarnik.txt\n"
     ]
    },
    {
     "name": "stderr",
     "output_type": "stream",
     "text": [
      " 48%|████▊     | 2747/5750 [03:49<04:10, 11.98it/s]"
     ]
    },
    {
     "name": "stdout",
     "output_type": "stream",
     "text": [
      "https://wolnelektury.pl/media/book/txt/latawica-balucki.txt\n",
      "https://wolnelektury.pl/media/book/txt/laura-i-filon.txt\n",
      "https://wolnelektury.pl/media/book/txt/leci-liscie-z-drzewa.txt\n"
     ]
    },
    {
     "name": "stderr",
     "output_type": "stream",
     "text": [
      "\r",
      " 48%|████▊     | 2749/5750 [03:49<04:10, 11.98it/s]"
     ]
    },
    {
     "name": "stdout",
     "output_type": "stream",
     "text": [
      "https://wolnelektury.pl/media/book/txt/leda.txt\n",
      "https://wolnelektury.pl/media/book/txt/legenda-mlodej-polski.txt\n"
     ]
    },
    {
     "name": "stderr",
     "output_type": "stream",
     "text": [
      "\r",
      " 48%|████▊     | 2751/5750 [03:49<04:10, 11.97it/s]"
     ]
    },
    {
     "name": "stdout",
     "output_type": "stream",
     "text": [
      "https://wolnelektury.pl/media/book/txt/legendy-warszawskie.txt\n",
      "https://wolnelektury.pl/media/book/txt/legendy-warszawskie-bazyliszek.txt\n",
      "https://wolnelektury.pl/media/book/txt/legendy-warszawskie-biala-dama.txt\n"
     ]
    },
    {
     "name": "stderr",
     "output_type": "stream",
     "text": [
      " 48%|████▊     | 2755/5750 [03:50<04:10, 11.97it/s]"
     ]
    },
    {
     "name": "stdout",
     "output_type": "stream",
     "text": [
      "https://wolnelektury.pl/media/book/txt/legendy-warszawskie-chrystus-cudowny-u-fary.txt\n",
      "https://wolnelektury.pl/media/book/txt/legendy-warszawskie-kosciol-panny-marii.txt\n",
      "https://wolnelektury.pl/media/book/txt/legendy-warszawskie-syrena.txt\n"
     ]
    },
    {
     "name": "stderr",
     "output_type": "stream",
     "text": [
      "\r",
      " 48%|████▊     | 2757/5750 [03:50<04:09, 11.97it/s]"
     ]
    },
    {
     "name": "stdout",
     "output_type": "stream",
     "text": [
      "https://wolnelektury.pl/media/book/txt/legendy-warszawskie-wstep.txt\n",
      "https://wolnelektury.pl/media/book/txt/legendy-warszawskie-zbojcy.txt\n",
      "https://wolnelektury.pl/media/book/txt/legendy-warszawskie-zlota-kaczka.txt\n"
     ]
    },
    {
     "name": "stderr",
     "output_type": "stream",
     "text": [
      " 48%|████▊     | 2761/5750 [03:50<04:09, 11.97it/s]"
     ]
    },
    {
     "name": "stdout",
     "output_type": "stream",
     "text": [
      "https://wolnelektury.pl/media/book/txt/lemanski-lis-i-ges.txt\n",
      "https://wolnelektury.pl/media/book/txt/lemanski-nokturn.txt\n",
      "https://wolnelektury.pl/media/book/txt/lemanski-polonez.txt\n"
     ]
    },
    {
     "name": "stderr",
     "output_type": "stream",
     "text": [
      "\r",
      " 48%|████▊     | 2763/5750 [03:50<04:09, 11.98it/s]"
     ]
    },
    {
     "name": "stdout",
     "output_type": "stream",
     "text": [
      "https://wolnelektury.pl/media/book/txt/lemanski-z-nowenny.txt\n",
      "https://wolnelektury.pl/media/book/txt/len.txt\n",
      "https://wolnelektury.pl/media/book/txt/leonce-i-lena.txt\n"
     ]
    },
    {
     "name": "stderr",
     "output_type": "stream",
     "text": [
      " 48%|████▊     | 2767/5750 [03:51<04:09, 11.98it/s]"
     ]
    },
    {
     "name": "stdout",
     "output_type": "stream",
     "text": [
      "https://wolnelektury.pl/media/book/txt/lerberghe-deszcz-letni.txt\n",
      "https://wolnelektury.pl/media/book/txt/lerberghe-oto-jest-pierwszy-ranek-swiata.txt\n",
      "https://wolnelektury.pl/media/book/txt/lerberghe-piesn-ewy-fragmenty.txt\n",
      "https://wolnelektury.pl/media/book/txt/lesmian-po-ciemku.txt\n"
     ]
    },
    {
     "name": "stderr",
     "output_type": "stream",
     "text": [
      " 48%|████▊     | 2771/5750 [03:51<04:08, 11.98it/s]"
     ]
    },
    {
     "name": "stdout",
     "output_type": "stream",
     "text": [
      "https://wolnelektury.pl/media/book/txt/leszczynski-drgajace-wiosny-tetno.txt\n",
      "https://wolnelektury.pl/media/book/txt/leszczynski-elegia.txt\n",
      "https://wolnelektury.pl/media/book/txt/leszczynski-kabaret-szalony.txt\n"
     ]
    },
    {
     "name": "stderr",
     "output_type": "stream",
     "text": [
      "\r",
      " 48%|████▊     | 2773/5750 [03:51<04:08, 11.98it/s]"
     ]
    },
    {
     "name": "stdout",
     "output_type": "stream",
     "text": [
      "https://wolnelektury.pl/media/book/txt/leszczynski-nianka.txt\n",
      "https://wolnelektury.pl/media/book/txt/leszczynski-powrotne-fale.txt\n",
      "https://wolnelektury.pl/media/book/txt/leszczynski-przeszlosc-mowi.txt\n"
     ]
    },
    {
     "name": "stderr",
     "output_type": "stream",
     "text": [
      " 48%|████▊     | 2777/5750 [03:51<04:08, 11.99it/s]"
     ]
    },
    {
     "name": "stdout",
     "output_type": "stream",
     "text": [
      "https://wolnelektury.pl/media/book/txt/leszczynski-w-nocy.txt\n",
      "https://wolnelektury.pl/media/book/txt/leszno-warszawo-warszawo.txt\n",
      "https://wolnelektury.pl/media/book/txt/lew-chory-bajki-nowe.txt\n"
     ]
    },
    {
     "name": "stderr",
     "output_type": "stream",
     "text": [
      "\r",
      " 48%|████▊     | 2779/5750 [03:51<04:07, 11.99it/s]"
     ]
    },
    {
     "name": "stdout",
     "output_type": "stream",
     "text": [
      "https://wolnelektury.pl/media/book/txt/lew-i-osiel-bajki-nowe.txt\n",
      "https://wolnelektury.pl/media/book/txt/lew-i-owieczka.txt\n",
      "https://wolnelektury.pl/media/book/txt/lew-i-zwierzeta.txt\n"
     ]
    },
    {
     "name": "stderr",
     "output_type": "stream",
     "text": [
      " 48%|████▊     | 2783/5750 [03:52<04:07, 11.99it/s]"
     ]
    },
    {
     "name": "stdout",
     "output_type": "stream",
     "text": [
      "https://wolnelektury.pl/media/book/txt/lew-kamienny.txt\n",
      "https://wolnelektury.pl/media/book/txt/lew-koza-owca-i-krowa-bajki-nowe.txt\n",
      "https://wolnelektury.pl/media/book/txt/lew-pokorny.txt\n"
     ]
    },
    {
     "name": "stderr",
     "output_type": "stream",
     "text": [
      "\r",
      " 48%|████▊     | 2785/5750 [03:52<04:07, 11.99it/s]"
     ]
    },
    {
     "name": "stdout",
     "output_type": "stream",
     "text": [
      "https://wolnelektury.pl/media/book/txt/lew-wol-i-lis-bajki-nowe.txt\n",
      "https://wolnelektury.pl/media/book/txt/lipski-dzien-i-noc.txt\n",
      "https://wolnelektury.pl/media/book/txt/lipski-niespokojni.txt\n"
     ]
    },
    {
     "name": "stderr",
     "output_type": "stream",
     "text": [
      " 49%|████▊     | 2789/5750 [03:52<04:07, 11.99it/s]"
     ]
    },
    {
     "name": "stdout",
     "output_type": "stream",
     "text": [
      "https://wolnelektury.pl/media/book/txt/lipski-piotrus.txt\n",
      "https://wolnelektury.pl/media/book/txt/liryki-lozanskie.txt\n",
      "https://wolnelektury.pl/media/book/txt/liryki-lozanskie-ach-juz-i-w-rodzicielskim-domu.txt\n"
     ]
    },
    {
     "name": "stderr",
     "output_type": "stream",
     "text": [
      "\r",
      " 49%|████▊     | 2791/5750 [03:52<04:06, 11.99it/s]"
     ]
    },
    {
     "name": "stdout",
     "output_type": "stream",
     "text": [
      "https://wolnelektury.pl/media/book/txt/liryki-lozanskie-bron-mnie-przed-soba.txt\n",
      "https://wolnelektury.pl/media/book/txt/liryki-lozanskie-do-b-z.txt\n",
      "https://wolnelektury.pl/media/book/txt/liryki-lozanskie-gdy-tu-moj-trup.txt\n"
     ]
    },
    {
     "name": "stderr",
     "output_type": "stream",
     "text": [
      " 49%|████▊     | 2795/5750 [03:53<04:06, 11.99it/s]"
     ]
    },
    {
     "name": "stdout",
     "output_type": "stream",
     "text": [
      "https://wolnelektury.pl/media/book/txt/liryki-lozanskie-nad-woda-wielka-i-czysta.txt\n",
      "https://wolnelektury.pl/media/book/txt/liryki-lozanskie-polaly-sie-lzy.txt\n",
      "https://wolnelektury.pl/media/book/txt/liryki-lozanskie-pytasz-za-co-bog.txt\n"
     ]
    },
    {
     "name": "stderr",
     "output_type": "stream",
     "text": [
      "\r",
      " 49%|████▊     | 2797/5750 [03:53<04:06, 11.99it/s]"
     ]
    },
    {
     "name": "stdout",
     "output_type": "stream",
     "text": [
      "https://wolnelektury.pl/media/book/txt/liryki-lozanskie-rece-za-lud-walczace.txt\n",
      "https://wolnelektury.pl/media/book/txt/liryki-lozanskie-snila-sie-zima.txt\n",
      "https://wolnelektury.pl/media/book/txt/liryki-lozanskie-snuc-milosc.txt\n"
     ]
    },
    {
     "name": "stderr",
     "output_type": "stream",
     "text": [
      " 49%|████▊     | 2801/5750 [03:53<04:05, 11.99it/s]"
     ]
    },
    {
     "name": "stdout",
     "output_type": "stream",
     "text": [
      "https://wolnelektury.pl/media/book/txt/liryki-lozanskie-uciec-z-dusza-na-listek.txt\n",
      "https://wolnelektury.pl/media/book/txt/liryki-lozanskie-widzenie.txt\n",
      "https://wolnelektury.pl/media/book/txt/liryki-lozanskie-zal-rozrzutnika.txt\n"
     ]
    },
    {
     "name": "stderr",
     "output_type": "stream",
     "text": [
      "\r",
      " 49%|████▊     | 2803/5750 [03:53<04:05, 11.99it/s]"
     ]
    },
    {
     "name": "stdout",
     "output_type": "stream",
     "text": [
      "https://wolnelektury.pl/media/book/txt/lis-i-osiel.txt\n",
      "https://wolnelektury.pl/media/book/txt/lis-i-wilk.txt\n",
      "https://wolnelektury.pl/media/book/txt/lis-mlody-i-stary.txt\n"
     ]
    },
    {
     "name": "stderr",
     "output_type": "stream",
     "text": [
      "\r",
      " 49%|████▉     | 2805/5750 [03:53<04:05, 11.99it/s]"
     ]
    },
    {
     "name": "stdout",
     "output_type": "stream",
     "text": [
      "https://wolnelektury.pl/media/book/txt/lis-przy-zgonie.txt\n",
      "https://wolnelektury.pl/media/book/txt/list-do-kobiet-niemieckich-i-o-polce-francuzom.txt\n"
     ]
    },
    {
     "name": "stderr",
     "output_type": "stream",
     "text": [
      " 49%|████▉     | 2809/5750 [03:54<04:05, 11.99it/s]"
     ]
    },
    {
     "name": "stdout",
     "output_type": "stream",
     "text": [
      "https://wolnelektury.pl/media/book/txt/list-hanusi.txt\n",
      "https://wolnelektury.pl/media/book/txt/list-motylka.txt\n",
      "https://wolnelektury.pl/media/book/txt/list-otwarty-do-ksiecia-jerzego-lubomirskiego.txt\n"
     ]
    },
    {
     "name": "stderr",
     "output_type": "stream",
     "text": [
      "\r",
      " 49%|████▉     | 2811/5750 [03:54<04:05, 11.99it/s]"
     ]
    },
    {
     "name": "stdout",
     "output_type": "stream",
     "text": [
      "https://wolnelektury.pl/media/book/txt/list-otwarty-polaka-do-ministra-rosyjskiego.txt\n",
      "https://wolnelektury.pl/media/book/txt/listek.txt\n",
      "https://wolnelektury.pl/media/book/txt/listek-z-nieba.txt\n"
     ]
    },
    {
     "name": "stderr",
     "output_type": "stream",
     "text": [
      " 49%|████▉     | 2815/5750 [03:54<04:04, 11.99it/s]"
     ]
    },
    {
     "name": "stdout",
     "output_type": "stream",
     "text": [
      "https://wolnelektury.pl/media/book/txt/listy-bajki-nowe.txt\n",
      "https://wolnelektury.pl/media/book/txt/listy-jana-kazimierza-do-maryi-ludwiki-z-lat-1663-1665.txt\n",
      "https://wolnelektury.pl/media/book/txt/listy-panny-de-lespinasse.txt\n"
     ]
    },
    {
     "name": "stderr",
     "output_type": "stream",
     "text": [
      "\r",
      " 49%|████▉     | 2817/5750 [03:55<04:04, 11.98it/s]"
     ]
    },
    {
     "name": "stdout",
     "output_type": "stream",
     "text": [
      "https://wolnelektury.pl/media/book/txt/listy-perskie.txt\n",
      "https://wolnelektury.pl/media/book/txt/listy-wybrane.txt\n"
     ]
    },
    {
     "name": "stderr",
     "output_type": "stream",
     "text": [
      " 49%|████▉     | 2820/5750 [03:55<04:04, 11.96it/s]"
     ]
    },
    {
     "name": "stdout",
     "output_type": "stream",
     "text": [
      "https://wolnelektury.pl/media/book/txt/litosna-dziecina.txt\n",
      "https://wolnelektury.pl/media/book/txt/lodka-na-wodzie.txt\n",
      "https://wolnelektury.pl/media/book/txt/lord-jim.txt\n"
     ]
    },
    {
     "name": "stderr",
     "output_type": "stream",
     "text": [
      " 49%|████▉     | 2822/5750 [03:56<04:04, 11.95it/s]"
     ]
    },
    {
     "name": "stdout",
     "output_type": "stream",
     "text": [
      "https://wolnelektury.pl/media/book/txt/lord-jim-tom-drugi.txt\n",
      "https://wolnelektury.pl/media/book/txt/lord-jim-tom-pierwszy.txt\n"
     ]
    },
    {
     "name": "stderr",
     "output_type": "stream",
     "text": [
      " 49%|████▉     | 2825/5750 [03:56<04:04, 11.95it/s]"
     ]
    },
    {
     "name": "stdout",
     "output_type": "stream",
     "text": [
      "https://wolnelektury.pl/media/book/txt/lord-jim-zagorska.txt\n",
      "https://wolnelektury.pl/media/book/txt/los-mie-juz-zaden-nie-moze-zatrwozyc.txt\n",
      "https://wolnelektury.pl/media/book/txt/louys-piosenka-dziewczyno.txt\n",
      "https://wolnelektury.pl/media/book/txt/louys-piosenka-o-mroku-lesny.txt\n"
     ]
    },
    {
     "name": "stderr",
     "output_type": "stream",
     "text": [
      "\r",
      " 49%|████▉     | 2827/5750 [03:56<04:04, 11.95it/s]"
     ]
    },
    {
     "name": "stdout",
     "output_type": "stream",
     "text": [
      "https://wolnelektury.pl/media/book/txt/lozinski-oko-proroka.txt\n",
      "https://wolnelektury.pl/media/book/txt/lsniaco-w-luny-sie-kolysze.txt\n"
     ]
    },
    {
     "name": "stderr",
     "output_type": "stream",
     "text": [
      " 49%|████▉     | 2831/5750 [03:56<04:04, 11.95it/s]"
     ]
    },
    {
     "name": "stdout",
     "output_type": "stream",
     "text": [
      "https://wolnelektury.pl/media/book/txt/lsnienie-jesienne.txt\n",
      "https://wolnelektury.pl/media/book/txt/lubie-kiedy-kobieta.txt\n",
      "https://wolnelektury.pl/media/book/txt/ludmilka.txt\n",
      "https://wolnelektury.pl/media/book/txt/ludwis.txt\n"
     ]
    },
    {
     "name": "stderr",
     "output_type": "stream",
     "text": [
      "\r",
      " 49%|████▉     | 2833/5750 [03:56<04:04, 11.95it/s]"
     ]
    },
    {
     "name": "stdout",
     "output_type": "stream",
     "text": [
      "https://wolnelektury.pl/media/book/txt/ludzie-bezdomni.txt\n",
      "https://wolnelektury.pl/media/book/txt/ludzie-bezdomni-tom-drugi.txt\n"
     ]
    },
    {
     "name": "stderr",
     "output_type": "stream",
     "text": [
      "\r",
      " 49%|████▉     | 2835/5750 [03:57<04:03, 11.95it/s]"
     ]
    },
    {
     "name": "stdout",
     "output_type": "stream",
     "text": [
      "https://wolnelektury.pl/media/book/txt/ludzie-bezdomni-tom-pierwszy.txt\n",
      "https://wolnelektury.pl/media/book/txt/ludzie-miotaja-sie-drecza-cierpia.txt\n"
     ]
    },
    {
     "name": "stderr",
     "output_type": "stream",
     "text": [
      " 49%|████▉     | 2839/5750 [03:57<04:03, 11.95it/s]"
     ]
    },
    {
     "name": "stdout",
     "output_type": "stream",
     "text": [
      "https://wolnelektury.pl/media/book/txt/luk-milosci.txt\n",
      "https://wolnelektury.pl/media/book/txt/lulajze-jezuniu.txt\n",
      "https://wolnelektury.pl/media/book/txt/lutnista.txt\n",
      "https://wolnelektury.pl/media/book/txt/lwica-i-maciora-bajki-nowe.txt\n"
     ]
    },
    {
     "name": "stderr",
     "output_type": "stream",
     "text": [
      " 49%|████▉     | 2843/5750 [03:57<04:03, 11.95it/s]"
     ]
    },
    {
     "name": "stdout",
     "output_type": "stream",
     "text": [
      "https://wolnelektury.pl/media/book/txt/lza-matki.txt\n",
      "https://wolnelektury.pl/media/book/txt/m-ski-nie-modlcie-sie.txt\n",
      "https://wolnelektury.pl/media/book/txt/machiavelli-traktat-o-ksieciu.txt\n"
     ]
    },
    {
     "name": "stderr",
     "output_type": "stream",
     "text": [
      "\r",
      " 49%|████▉     | 2845/5750 [03:58<04:03, 11.95it/s]"
     ]
    },
    {
     "name": "stdout",
     "output_type": "stream",
     "text": [
      "https://wolnelektury.pl/media/book/txt/macius.txt\n",
      "https://wolnelektury.pl/media/book/txt/macocha.txt\n",
      "https://wolnelektury.pl/media/book/txt/macocha-tom-drugi.txt\n"
     ]
    },
    {
     "name": "stderr",
     "output_type": "stream",
     "text": [
      "\r",
      " 50%|████▉     | 2847/5750 [03:58<04:02, 11.95it/s]"
     ]
    },
    {
     "name": "stdout",
     "output_type": "stream",
     "text": [
      "https://wolnelektury.pl/media/book/txt/macocha-tom-pierwszy.txt\n",
      "https://wolnelektury.pl/media/book/txt/macocha-tom-trzeci.txt\n"
     ]
    },
    {
     "name": "stderr",
     "output_type": "stream",
     "text": [
      " 50%|████▉     | 2850/5750 [03:58<04:02, 11.94it/s]"
     ]
    },
    {
     "name": "stdout",
     "output_type": "stream",
     "text": [
      "https://wolnelektury.pl/media/book/txt/madry-i-glupi.txt\n",
      "https://wolnelektury.pl/media/book/txt/madry-i-glupi-ii.txt\n",
      "https://wolnelektury.pl/media/book/txt/magdusia-i-pieski.txt\n"
     ]
    },
    {
     "name": "stderr",
     "output_type": "stream",
     "text": [
      " 50%|████▉     | 2854/5750 [03:59<04:02, 11.94it/s]"
     ]
    },
    {
     "name": "stdout",
     "output_type": "stream",
     "text": [
      "https://wolnelektury.pl/media/book/txt/magon.txt\n",
      "https://wolnelektury.pl/media/book/txt/maik-co-tu-gwaru.txt\n",
      "https://wolnelektury.pl/media/book/txt/maik-na-ganku-we-dworze.txt\n"
     ]
    },
    {
     "name": "stderr",
     "output_type": "stream",
     "text": [
      "\r",
      " 50%|████▉     | 2856/5750 [03:59<04:02, 11.94it/s]"
     ]
    },
    {
     "name": "stdout",
     "output_type": "stream",
     "text": [
      "https://wolnelektury.pl/media/book/txt/maironis-jaunoji-lietuva.txt\n",
      "https://wolnelektury.pl/media/book/txt/maironis-tarp-skausmu-i-garbe.txt\n"
     ]
    },
    {
     "name": "stderr",
     "output_type": "stream",
     "text": [
      "\r",
      " 50%|████▉     | 2858/5750 [03:59<04:02, 11.94it/s]"
     ]
    },
    {
     "name": "stdout",
     "output_type": "stream",
     "text": [
      "https://wolnelektury.pl/media/book/txt/makbet.txt\n",
      "https://wolnelektury.pl/media/book/txt/mala-ksiezniczka.txt\n"
     ]
    },
    {
     "name": "stderr",
     "output_type": "stream",
     "text": [
      "\r",
      " 50%|████▉     | 2860/5750 [03:59<04:02, 11.93it/s]"
     ]
    },
    {
     "name": "stdout",
     "output_type": "stream",
     "text": [
      "https://wolnelektury.pl/media/book/txt/malarze-bajki-nowe.txt\n",
      "https://wolnelektury.pl/media/book/txt/malcy.txt\n",
      "https://wolnelektury.pl/media/book/txt/mali-czarodzieje.txt\n"
     ]
    },
    {
     "name": "stderr",
     "output_type": "stream",
     "text": [
      " 50%|████▉     | 2864/5750 [03:59<04:01, 11.93it/s]"
     ]
    },
    {
     "name": "stdout",
     "output_type": "stream",
     "text": [
      "https://wolnelektury.pl/media/book/txt/mallarme-dreszcze-zimy.txt\n",
      "https://wolnelektury.pl/media/book/txt/mallarme-fajka.txt\n",
      "https://wolnelektury.pl/media/book/txt/mallarme-kwiaty.txt\n"
     ]
    },
    {
     "name": "stderr",
     "output_type": "stream",
     "text": [
      "\r",
      " 50%|████▉     | 2866/5750 [04:00<04:01, 11.93it/s]"
     ]
    },
    {
     "name": "stdout",
     "output_type": "stream",
     "text": [
      "https://wolnelektury.pl/media/book/txt/mallarme-przyszle-zjawisko.txt\n",
      "https://wolnelektury.pl/media/book/txt/mallarme-skarga-jesienna.txt\n",
      "https://wolnelektury.pl/media/book/txt/mallarme-wachlarz-panny-mallarme.txt\n"
     ]
    },
    {
     "name": "stderr",
     "output_type": "stream",
     "text": [
      " 50%|████▉     | 2870/5750 [04:00<04:01, 11.94it/s]"
     ]
    },
    {
     "name": "stdout",
     "output_type": "stream",
     "text": [
      "https://wolnelektury.pl/media/book/txt/mallarme-westchnienie.txt\n",
      "https://wolnelektury.pl/media/book/txt/mallarme-zjawa.txt\n",
      "https://wolnelektury.pl/media/book/txt/malpy-bajki-nowe.txt\n"
     ]
    },
    {
     "name": "stderr",
     "output_type": "stream",
     "text": [
      "\r",
      " 50%|████▉     | 2872/5750 [04:00<04:01, 11.94it/s]"
     ]
    },
    {
     "name": "stdout",
     "output_type": "stream",
     "text": [
      "https://wolnelektury.pl/media/book/txt/malzenstwo.txt\n",
      "https://wolnelektury.pl/media/book/txt/manekin-trzcinowy.txt\n"
     ]
    },
    {
     "name": "stderr",
     "output_type": "stream",
     "text": [
      "\r",
      " 50%|████▉     | 2874/5750 [04:00<04:00, 11.93it/s]"
     ]
    },
    {
     "name": "stdout",
     "output_type": "stream",
     "text": [
      "https://wolnelektury.pl/media/book/txt/marcinek.txt\n",
      "https://wolnelektury.pl/media/book/txt/marcowy-dzien.txt\n",
      "https://wolnelektury.pl/media/book/txt/maria-poeme-d-ukraine.txt\n"
     ]
    },
    {
     "name": "stderr",
     "output_type": "stream",
     "text": [
      "\r",
      " 50%|█████     | 2876/5750 [04:01<04:00, 11.93it/s]"
     ]
    },
    {
     "name": "stdout",
     "output_type": "stream",
     "text": [
      "https://wolnelektury.pl/media/book/txt/maria-powiesc-ukrainska.txt\n",
      "https://wolnelektury.pl/media/book/txt/maria-ukrainische-erzahlung-iz-zwe-gesangen.txt\n"
     ]
    },
    {
     "name": "stderr",
     "output_type": "stream",
     "text": [
      " 50%|█████     | 2880/5750 [04:01<04:00, 11.92it/s]"
     ]
    },
    {
     "name": "stdout",
     "output_type": "stream",
     "text": [
      "https://wolnelektury.pl/media/book/txt/marivaux-zebranie-amorow.txt\n",
      "https://wolnelektury.pl/media/book/txt/marsz-slubny.txt\n",
      "https://wolnelektury.pl/media/book/txt/marsz-strzelcow.txt\n"
     ]
    },
    {
     "name": "stderr",
     "output_type": "stream",
     "text": [
      "\r",
      " 50%|█████     | 2882/5750 [04:01<04:00, 11.92it/s]"
     ]
    },
    {
     "name": "stdout",
     "output_type": "stream",
     "text": [
      "https://wolnelektury.pl/media/book/txt/marynia.txt\n",
      "https://wolnelektury.pl/media/book/txt/marysienka-sobieska.txt\n"
     ]
    },
    {
     "name": "stderr",
     "output_type": "stream",
     "text": [
      " 50%|█████     | 2885/5750 [04:02<04:00, 11.91it/s]"
     ]
    },
    {
     "name": "stdout",
     "output_type": "stream",
     "text": [
      "https://wolnelektury.pl/media/book/txt/marzenie-chlopca.txt\n",
      "https://wolnelektury.pl/media/book/txt/maska-smierci-szkarlatnej.txt\n",
      "https://wolnelektury.pl/media/book/txt/mastodonty.txt\n"
     ]
    },
    {
     "name": "stderr",
     "output_type": "stream",
     "text": [
      " 50%|█████     | 2889/5750 [04:02<04:00, 11.92it/s]"
     ]
    },
    {
     "name": "stdout",
     "output_type": "stream",
     "text": [
      "https://wolnelektury.pl/media/book/txt/matedory.txt\n",
      "https://wolnelektury.pl/media/book/txt/matka.txt\n",
      "https://wolnelektury.pl/media/book/txt/matka-i-dziecie.txt\n",
      "https://wolnelektury.pl/media/book/txt/matka-i-dziecie-przyszedl-jas-zrana.txt\n"
     ]
    },
    {
     "name": "stderr",
     "output_type": "stream",
     "text": [
      "\r",
      " 50%|█████     | 2891/5750 [04:02<03:59, 11.92it/s]"
     ]
    },
    {
     "name": "stdout",
     "output_type": "stream",
     "text": [
      "https://wolnelektury.pl/media/book/txt/matys-co-nigdy-prawda-nie-bylo-ani-nie-bedzie.txt\n",
      "https://wolnelektury.pl/media/book/txt/maupassant-wieczor-trzech-kroli.txt\n",
      "https://wolnelektury.pl/media/book/txt/mayster-bartlomiey.txt\n"
     ]
    },
    {
     "name": "stderr",
     "output_type": "stream",
     "text": [
      " 50%|█████     | 2895/5750 [04:02<03:59, 11.92it/s]"
     ]
    },
    {
     "name": "stdout",
     "output_type": "stream",
     "text": [
      "https://wolnelektury.pl/media/book/txt/mazur-z-1831-roku.txt\n",
      "https://wolnelektury.pl/media/book/txt/mazurek.txt\n",
      "https://wolnelektury.pl/media/book/txt/mazurek-dabrowskiego.txt\n"
     ]
    },
    {
     "name": "stderr",
     "output_type": "stream",
     "text": [
      "\r",
      " 50%|█████     | 2897/5750 [04:03<03:59, 11.92it/s]"
     ]
    },
    {
     "name": "stdout",
     "output_type": "stream",
     "text": [
      "https://wolnelektury.pl/media/book/txt/mazurek-mlodziezy.txt\n",
      "https://wolnelektury.pl/media/book/txt/medea.txt\n",
      "https://wolnelektury.pl/media/book/txt/medrcy-swiata.txt\n"
     ]
    },
    {
     "name": "stderr",
     "output_type": "stream",
     "text": [
      "\r",
      " 50%|█████     | 2899/5750 [04:03<03:59, 11.92it/s]"
     ]
    },
    {
     "name": "stdout",
     "output_type": "stream",
     "text": [
      "https://wolnelektury.pl/media/book/txt/meir-ezofowicz.txt\n"
     ]
    },
    {
     "name": "stderr",
     "output_type": "stream",
     "text": [
      "\r",
      " 50%|█████     | 2901/5750 [04:03<03:59, 11.91it/s]"
     ]
    },
    {
     "name": "stdout",
     "output_type": "stream",
     "text": [
      "https://wolnelektury.pl/media/book/txt/melodia-mgiel-nocnych.txt\n",
      "https://wolnelektury.pl/media/book/txt/menazeria-ludzka-bydle.txt\n",
      "https://wolnelektury.pl/media/book/txt/menazeria-ludzka-golabki.txt\n"
     ]
    },
    {
     "name": "stderr",
     "output_type": "stream",
     "text": [
      " 51%|█████     | 2905/5750 [04:03<03:58, 11.91it/s]"
     ]
    },
    {
     "name": "stdout",
     "output_type": "stream",
     "text": [
      "https://wolnelektury.pl/media/book/txt/menazeria-ludzka-koteczek.txt\n",
      "https://wolnelektury.pl/media/book/txt/menazeria-ludzka-koziol-ofiarny.txt\n",
      "https://wolnelektury.pl/media/book/txt/menazeria-ludzka-kukulka.txt\n"
     ]
    },
    {
     "name": "stderr",
     "output_type": "stream",
     "text": [
      "\r",
      " 51%|█████     | 2907/5750 [04:04<03:58, 11.91it/s]"
     ]
    },
    {
     "name": "stdout",
     "output_type": "stream",
     "text": [
      "https://wolnelektury.pl/media/book/txt/menazeria-ludzka-kundel.txt\n",
      "https://wolnelektury.pl/media/book/txt/menazeria-ludzka-lewek.txt\n",
      "https://wolnelektury.pl/media/book/txt/menazeria-ludzka-malpa.txt\n"
     ]
    },
    {
     "name": "stderr",
     "output_type": "stream",
     "text": [
      " 51%|█████     | 2911/5750 [04:04<03:58, 11.91it/s]"
     ]
    },
    {
     "name": "stdout",
     "output_type": "stream",
     "text": [
      "https://wolnelektury.pl/media/book/txt/menazeria-ludzka-oslica.txt\n",
      "https://wolnelektury.pl/media/book/txt/menazeria-ludzka-papuzia.txt\n",
      "https://wolnelektury.pl/media/book/txt/menazeria-ludzka-szakale.txt\n"
     ]
    },
    {
     "name": "stderr",
     "output_type": "stream",
     "text": [
      "\r",
      " 51%|█████     | 2913/5750 [04:04<03:58, 11.91it/s]"
     ]
    },
    {
     "name": "stdout",
     "output_type": "stream",
     "text": [
      "https://wolnelektury.pl/media/book/txt/menazeria-ludzka-zabusia.txt\n",
      "https://wolnelektury.pl/media/book/txt/mencel-ksiega-mirazy.txt\n"
     ]
    },
    {
     "name": "stderr",
     "output_type": "stream",
     "text": [
      "\r",
      " 51%|█████     | 2915/5750 [04:04<03:58, 11.91it/s]"
     ]
    },
    {
     "name": "stdout",
     "output_type": "stream",
     "text": [
      "https://wolnelektury.pl/media/book/txt/mendel-gdanski.txt\n",
      "https://wolnelektury.pl/media/book/txt/merrill-dobry-deszcz.txt\n",
      "https://wolnelektury.pl/media/book/txt/mettrie-czlowiek-maszyna.txt\n"
     ]
    },
    {
     "name": "stderr",
     "output_type": "stream",
     "text": [
      "\r",
      " 51%|█████     | 2917/5750 [04:04<03:57, 11.91it/s]"
     ]
    },
    {
     "name": "stdout",
     "output_type": "stream",
     "text": [
      "https://wolnelektury.pl/media/book/txt/metzengerstein.txt\n",
      "https://wolnelektury.pl/media/book/txt/miarka-za-miarke.txt\n"
     ]
    },
    {
     "name": "stderr",
     "output_type": "stream",
     "text": [
      "\r",
      " 51%|█████     | 2919/5750 [04:05<03:57, 11.91it/s]"
     ]
    },
    {
     "name": "stdout",
     "output_type": "stream",
     "text": [
      "https://wolnelektury.pl/media/book/txt/miasto-plywajace.txt\n",
      "https://wolnelektury.pl/media/book/txt/micinski-ananke.txt\n"
     ]
    },
    {
     "name": "stderr",
     "output_type": "stream",
     "text": [
      " 51%|█████     | 2923/5750 [04:05<03:57, 11.90it/s]"
     ]
    },
    {
     "name": "stdout",
     "output_type": "stream",
     "text": [
      "https://wolnelektury.pl/media/book/txt/micinski-badz-zdrowa.txt\n",
      "https://wolnelektury.pl/media/book/txt/micinski-duch-moj-zamieszkal.txt\n",
      "https://wolnelektury.pl/media/book/txt/micinski-juz-swit.txt\n"
     ]
    },
    {
     "name": "stderr",
     "output_type": "stream",
     "text": [
      "\r",
      " 51%|█████     | 2925/5750 [04:05<03:57, 11.91it/s]"
     ]
    },
    {
     "name": "stdout",
     "output_type": "stream",
     "text": [
      "https://wolnelektury.pl/media/book/txt/micinski-lucifer.txt\n",
      "https://wolnelektury.pl/media/book/txt/micinski-noc-majowa.txt\n",
      "https://wolnelektury.pl/media/book/txt/micinski-nokturn.txt\n"
     ]
    },
    {
     "name": "stderr",
     "output_type": "stream",
     "text": [
      " 51%|█████     | 2929/5750 [04:05<03:56, 11.91it/s]"
     ]
    },
    {
     "name": "stdout",
     "output_type": "stream",
     "text": [
      "https://wolnelektury.pl/media/book/txt/micinski-plyna-ciche-srebrne-lzy.txt\n",
      "https://wolnelektury.pl/media/book/txt/micinski-poja-mnie-wrzosy.txt\n",
      "https://wolnelektury.pl/media/book/txt/micinski-rycz-burzo.txt\n",
      "https://wolnelektury.pl/media/book/txt/micinski-serenada.txt\n"
     ]
    },
    {
     "name": "stderr",
     "output_type": "stream",
     "text": [
      " 51%|█████     | 2933/5750 [04:06<03:56, 11.91it/s]"
     ]
    },
    {
     "name": "stdout",
     "output_type": "stream",
     "text": [
      "https://wolnelektury.pl/media/book/txt/micinski-strach.txt\n",
      "https://wolnelektury.pl/media/book/txt/micinski-tak-jestem-smetny.txt\n",
      "https://wolnelektury.pl/media/book/txt/micinski-w-mroku-gwiazd.txt\n"
     ]
    },
    {
     "name": "stderr",
     "output_type": "stream",
     "text": [
      "\r",
      " 51%|█████     | 2935/5750 [04:06<03:56, 11.91it/s]"
     ]
    },
    {
     "name": "stdout",
     "output_type": "stream",
     "text": [
      "https://wolnelektury.pl/media/book/txt/mickevicius-krymo-sonetai-ajudagas.txt\n",
      "https://wolnelektury.pl/media/book/txt/mickevicius-krymo-sonetai-akermano-tyrai.txt\n",
      "https://wolnelektury.pl/media/book/txt/mickevicius-krymo-sonetai-alusta-diena.txt\n"
     ]
    },
    {
     "name": "stderr",
     "output_type": "stream",
     "text": [
      " 51%|█████     | 2939/5750 [04:06<03:55, 11.91it/s]"
     ]
    },
    {
     "name": "stdout",
     "output_type": "stream",
     "text": [
      "https://wolnelektury.pl/media/book/txt/mickevicius-krymo-sonetai-alusta-nakti.txt\n",
      "https://wolnelektury.pl/media/book/txt/mickevicius-krymo-sonetai-audra.txt\n",
      "https://wolnelektury.pl/media/book/txt/mickevicius-krymo-sonetai-bachcisarajus.txt\n"
     ]
    },
    {
     "name": "stderr",
     "output_type": "stream",
     "text": [
      "\r",
      " 51%|█████     | 2941/5750 [04:06<03:55, 11.91it/s]"
     ]
    },
    {
     "name": "stdout",
     "output_type": "stream",
     "text": [
      "https://wolnelektury.pl/media/book/txt/mickevicius-krymo-sonetai-bachcisarajus-nakti.txt\n",
      "https://wolnelektury.pl/media/book/txt/mickevicius-krymo-sonetai-baidarai.txt\n",
      "https://wolnelektury.pl/media/book/txt/mickevicius-krymo-sonetai-balaklavos-pilies-griuvesiai.txt\n"
     ]
    },
    {
     "name": "stderr",
     "output_type": "stream",
     "text": [
      " 51%|█████     | 2945/5750 [04:07<03:55, 11.92it/s]"
     ]
    },
    {
     "name": "stdout",
     "output_type": "stream",
     "text": [
      "https://wolnelektury.pl/media/book/txt/mickevicius-krymo-sonetai-catirdagas.txt\n",
      "https://wolnelektury.pl/media/book/txt/mickevicius-krymo-sonetai-haremo-kapines.txt\n",
      "https://wolnelektury.pl/media/book/txt/mickevicius-krymo-sonetai-kalnu-reginys-is-kozlovo-tyru.txt\n",
      "https://wolnelektury.pl/media/book/txt/mickevicius-krymo-sonetai-keleivis.txt\n"
     ]
    },
    {
     "name": "stderr",
     "output_type": "stream",
     "text": [
      " 51%|█████▏    | 2949/5750 [04:07<03:55, 11.92it/s]"
     ]
    },
    {
     "name": "stdout",
     "output_type": "stream",
     "text": [
      "https://wolnelektury.pl/media/book/txt/mickevicius-krymo-sonetai-kelias-ties-cufut-kales.txt\n",
      "https://wolnelektury.pl/media/book/txt/mickevicius-krymo-sonetai-kikineiso-kalnas.txt\n",
      "https://wolnelektury.pl/media/book/txt/mickevicius-krymo-sonetai-mareivyste.txt\n"
     ]
    },
    {
     "name": "stderr",
     "output_type": "stream",
     "text": [
      "\r",
      " 51%|█████▏    | 2951/5750 [04:07<03:54, 11.92it/s]"
     ]
    },
    {
     "name": "stdout",
     "output_type": "stream",
     "text": [
      "https://wolnelektury.pl/media/book/txt/mickevicius-krymo-sonetai-mariu-tyla.txt\n",
      "https://wolnelektury.pl/media/book/txt/mickevicius-krymo-sonetai-potockaites-karstas.txt\n",
      "https://wolnelektury.pl/media/book/txt/mickevicius-krymo-sonetai-vanagas.txt\n"
     ]
    },
    {
     "name": "stderr",
     "output_type": "stream",
     "text": [
      " 51%|█████▏    | 2955/5750 [04:07<03:54, 11.92it/s]"
     ]
    },
    {
     "name": "stdout",
     "output_type": "stream",
     "text": [
      "https://wolnelektury.pl/media/book/txt/mickevicius-vaidilos-apysaka.txt\n",
      "https://wolnelektury.pl/media/book/txt/mickievicius-grazina.txt\n",
      "https://wolnelektury.pl/media/book/txt/mickievicius-konradas-valenrodas.txt\n"
     ]
    },
    {
     "name": "stderr",
     "output_type": "stream",
     "text": [
      "\r",
      " 51%|█████▏    | 2957/5750 [04:08<03:54, 11.92it/s]"
     ]
    },
    {
     "name": "stdout",
     "output_type": "stream",
     "text": [
      "https://wolnelektury.pl/media/book/txt/mickievicius-nemunui.txt\n",
      "https://wolnelektury.pl/media/book/txt/mickievicius-ponia-tvardauskiene.txt\n",
      "https://wolnelektury.pl/media/book/txt/mickievicius-vilija.txt\n"
     ]
    },
    {
     "name": "stderr",
     "output_type": "stream",
     "text": [
      " 51%|█████▏    | 2961/5750 [04:08<03:53, 11.93it/s]"
     ]
    },
    {
     "name": "stdout",
     "output_type": "stream",
     "text": [
      "https://wolnelektury.pl/media/book/txt/mickiewicius-baltas-karzigys.txt\n",
      "https://wolnelektury.pl/media/book/txt/mickiewicz-bajki-chlop-i-zmija.txt\n",
      "https://wolnelektury.pl/media/book/txt/mickiewicz-bajki-koza-kozka-i-wilk.txt\n",
      "https://wolnelektury.pl/media/book/txt/mickiewicz-do-d-d.txt\n"
     ]
    },
    {
     "name": "stderr",
     "output_type": "stream",
     "text": [
      " 52%|█████▏    | 2965/5750 [04:08<03:53, 11.93it/s]"
     ]
    },
    {
     "name": "stdout",
     "output_type": "stream",
     "text": [
      "https://wolnelektury.pl/media/book/txt/mickiewicz-do-joachima-lelewela.txt\n",
      "https://wolnelektury.pl/media/book/txt/mickiewicz-do-maryi-lempickiej.txt\n",
      "https://wolnelektury.pl/media/book/txt/mickiewicz-do-maryi-szymanowskiej.txt\n"
     ]
    },
    {
     "name": "stderr",
     "output_type": "stream",
     "text": [
      "\r",
      " 52%|█████▏    | 2967/5750 [04:08<03:53, 11.93it/s]"
     ]
    },
    {
     "name": "stdout",
     "output_type": "stream",
     "text": [
      "https://wolnelektury.pl/media/book/txt/mickiewicz-do-mojego-cicerone.txt\n",
      "https://wolnelektury.pl/media/book/txt/mickiewicz-do-na-alpach-w-splugen-1829.txt\n",
      "https://wolnelektury.pl/media/book/txt/mickiewicz-kochanek-duchow.txt\n"
     ]
    },
    {
     "name": "stderr",
     "output_type": "stream",
     "text": [
      " 52%|█████▏    | 2971/5750 [04:09<03:52, 11.93it/s]"
     ]
    },
    {
     "name": "stdout",
     "output_type": "stream",
     "text": [
      "https://wolnelektury.pl/media/book/txt/mickiewicz-sen.txt\n",
      "https://wolnelektury.pl/media/book/txt/mickiewicz-the-tempest.txt\n",
      "https://wolnelektury.pl/media/book/txt/mickiewicz-to-my-cicerone.txt\n"
     ]
    },
    {
     "name": "stderr",
     "output_type": "stream",
     "text": [
      " 52%|█████▏    | 2975/5750 [04:09<03:52, 11.93it/s]"
     ]
    },
    {
     "name": "stdout",
     "output_type": "stream",
     "text": [
      "https://wolnelektury.pl/media/book/txt/mickiewicz-to-upon-the-alps-in-splugen-1829.txt\n",
      "https://wolnelektury.pl/media/book/txt/mickiewicz-uncertainty.txt\n",
      "https://wolnelektury.pl/media/book/txt/mickiewicz-zaloty.txt\n"
     ]
    },
    {
     "name": "stderr",
     "output_type": "stream",
     "text": [
      "\r",
      " 52%|█████▏    | 2977/5750 [04:09<03:52, 11.93it/s]"
     ]
    },
    {
     "name": "stdout",
     "output_type": "stream",
     "text": [
      "https://wolnelektury.pl/media/book/txt/mickiewicz-zywila.txt\n",
      "https://wolnelektury.pl/media/book/txt/miedzy-nami-nic-nie-bylo.txt\n",
      "https://wolnelektury.pl/media/book/txt/miedzy-siebie-a-zycie.txt\n"
     ]
    },
    {
     "name": "stderr",
     "output_type": "stream",
     "text": [
      "\r",
      " 52%|█████▏    | 2979/5750 [04:09<03:52, 11.93it/s]"
     ]
    },
    {
     "name": "stdout",
     "output_type": "stream",
     "text": [
      "https://wolnelektury.pl/media/book/txt/miedzymorze.txt\n",
      "https://wolnelektury.pl/media/book/txt/mieszczanin-szlachcicem.txt\n"
     ]
    },
    {
     "name": "stderr",
     "output_type": "stream",
     "text": [
      "\r",
      " 52%|█████▏    | 2981/5750 [04:09<03:52, 11.93it/s]"
     ]
    },
    {
     "name": "stdout",
     "output_type": "stream",
     "text": [
      "https://wolnelektury.pl/media/book/txt/mikromegas.txt\n",
      "https://wolnelektury.pl/media/book/txt/milosc-godnym-nie-nazwie.txt\n",
      "https://wolnelektury.pl/media/book/txt/milosierdzie-gminy.txt\n"
     ]
    },
    {
     "name": "stderr",
     "output_type": "stream",
     "text": [
      " 52%|█████▏    | 2985/5750 [04:10<03:51, 11.93it/s]"
     ]
    },
    {
     "name": "stdout",
     "output_type": "stream",
     "text": [
      "https://wolnelektury.pl/media/book/txt/mirandola-nim-minie-czar.txt\n",
      "https://wolnelektury.pl/media/book/txt/mirandola-nokturn.txt\n",
      "https://wolnelektury.pl/media/book/txt/mirandola-palma.txt\n"
     ]
    },
    {
     "name": "stderr",
     "output_type": "stream",
     "text": [
      "\r",
      " 52%|█████▏    | 2987/5750 [04:10<03:51, 11.94it/s]"
     ]
    },
    {
     "name": "stdout",
     "output_type": "stream",
     "text": [
      "https://wolnelektury.pl/media/book/txt/mirandola-tropy.txt\n",
      "https://wolnelektury.pl/media/book/txt/mirandola-tropy-cel.txt\n",
      "https://wolnelektury.pl/media/book/txt/mirandola-tropy-chleb-i-woda.txt\n"
     ]
    },
    {
     "name": "stderr",
     "output_type": "stream",
     "text": [
      "\r",
      " 52%|█████▏    | 2989/5750 [04:10<03:51, 11.93it/s]"
     ]
    },
    {
     "name": "stdout",
     "output_type": "stream",
     "text": [
      "https://wolnelektury.pl/media/book/txt/mirandola-tropy-dola.txt\n",
      "https://wolnelektury.pl/media/book/txt/mirandola-tropy-drogowskaz.txt\n"
     ]
    },
    {
     "name": "stderr",
     "output_type": "stream",
     "text": [
      " 52%|█████▏    | 2993/5750 [04:10<03:51, 11.93it/s]"
     ]
    },
    {
     "name": "stdout",
     "output_type": "stream",
     "text": [
      "https://wolnelektury.pl/media/book/txt/mirandola-tropy-gosciniec-dusz.txt\n",
      "https://wolnelektury.pl/media/book/txt/mirandola-tropy-hotel-pod-idealem.txt\n",
      "https://wolnelektury.pl/media/book/txt/mirandola-tropy-lux-perpetua.txt\n"
     ]
    },
    {
     "name": "stderr",
     "output_type": "stream",
     "text": [
      "\r",
      " 52%|█████▏    | 2995/5750 [04:11<03:50, 11.93it/s]"
     ]
    },
    {
     "name": "stdout",
     "output_type": "stream",
     "text": [
      "https://wolnelektury.pl/media/book/txt/mirandola-tropy-pociag-nadzwyczajny.txt\n",
      "https://wolnelektury.pl/media/book/txt/mirandola-tropy-pulapka.txt\n",
      "https://wolnelektury.pl/media/book/txt/mirandola-tropy-stary-dom.txt\n"
     ]
    },
    {
     "name": "stderr",
     "output_type": "stream",
     "text": [
      " 52%|█████▏    | 2999/5750 [04:11<03:50, 11.93it/s]"
     ]
    },
    {
     "name": "stdout",
     "output_type": "stream",
     "text": [
      "https://wolnelektury.pl/media/book/txt/mirandola-tropy-swit.txt\n",
      "https://wolnelektury.pl/media/book/txt/mirandola-tropy-ulica-dziwna.txt\n",
      "https://wolnelektury.pl/media/book/txt/mirandola-tropy-wolnosc.txt\n"
     ]
    },
    {
     "name": "stderr",
     "output_type": "stream",
     "text": [
      "\r",
      " 52%|█████▏    | 3001/5750 [04:11<03:50, 11.93it/s]"
     ]
    },
    {
     "name": "stdout",
     "output_type": "stream",
     "text": [
      "https://wolnelektury.pl/media/book/txt/mirandola-tropy-zamkniete.txt\n",
      "https://wolnelektury.pl/media/book/txt/mirandola-tropy-zatruta-studnia.txt\n",
      "https://wolnelektury.pl/media/book/txt/mitologia-slowianska.txt\n"
     ]
    },
    {
     "name": "stderr",
     "output_type": "stream",
     "text": [
      " 52%|█████▏    | 3005/5750 [04:11<03:50, 11.92it/s]"
     ]
    },
    {
     "name": "stdout",
     "output_type": "stream",
     "text": [
      "https://wolnelektury.pl/media/book/txt/mitrega.txt\n",
      "https://wolnelektury.pl/media/book/txt/mizantrop.txt\n",
      "https://wolnelektury.pl/media/book/txt/mizerna-cicha.txt\n"
     ]
    },
    {
     "name": "stderr",
     "output_type": "stream",
     "text": [
      "\r",
      " 52%|█████▏    | 3007/5750 [04:12<03:49, 11.93it/s]"
     ]
    },
    {
     "name": "stdout",
     "output_type": "stream",
     "text": [
      "https://wolnelektury.pl/media/book/txt/mlocka.txt\n",
      "https://wolnelektury.pl/media/book/txt/mlot-z-kowadlem-bajki-nowe.txt\n",
      "https://wolnelektury.pl/media/book/txt/mlyn-na-wzgorzu.txt\n"
     ]
    },
    {
     "name": "stderr",
     "output_type": "stream",
     "text": [
      " 52%|█████▏    | 3011/5750 [04:12<03:49, 11.92it/s]"
     ]
    },
    {
     "name": "stdout",
     "output_type": "stream",
     "text": [
      "https://wolnelektury.pl/media/book/txt/mlynarz-syn-jego-i-osiel-bajki-nowe.txt\n",
      "https://wolnelektury.pl/media/book/txt/mnich.txt\n",
      "https://wolnelektury.pl/media/book/txt/moczary.txt\n"
     ]
    },
    {
     "name": "stderr",
     "output_type": "stream",
     "text": [
      "\r",
      " 52%|█████▏    | 3013/5750 [04:12<03:49, 11.92it/s]"
     ]
    },
    {
     "name": "stdout",
     "output_type": "stream",
     "text": [
      "https://wolnelektury.pl/media/book/txt/moj-adamito-widzisz-jak-to-trudne.txt\n",
      "https://wolnelektury.pl/media/book/txt/moja-ojczyzna.txt\n",
      "https://wolnelektury.pl/media/book/txt/moja-piosnka.txt\n"
     ]
    },
    {
     "name": "stderr",
     "output_type": "stream",
     "text": [
      "\r",
      " 52%|█████▏    | 3015/5750 [04:12<03:49, 11.92it/s]"
     ]
    },
    {
     "name": "stdout",
     "output_type": "stream",
     "text": [
      "https://wolnelektury.pl/media/book/txt/moliere-don-juan.txt\n",
      "https://wolnelektury.pl/media/book/txt/moliere-lekarz-mimo-woli.txt\n"
     ]
    },
    {
     "name": "stderr",
     "output_type": "stream",
     "text": [
      "\r",
      " 52%|█████▏    | 3017/5750 [04:13<03:49, 11.92it/s]"
     ]
    },
    {
     "name": "stdout",
     "output_type": "stream",
     "text": [
      "https://wolnelektury.pl/media/book/txt/moliere-szelmostwa-skapena.txt\n",
      "https://wolnelektury.pl/media/book/txt/moliere-szkola-zon.txt\n"
     ]
    },
    {
     "name": "stderr",
     "output_type": "stream",
     "text": [
      "\r",
      " 53%|█████▎    | 3019/5750 [04:13<03:49, 11.92it/s]"
     ]
    },
    {
     "name": "stdout",
     "output_type": "stream",
     "text": [
      "https://wolnelektury.pl/media/book/txt/moliere-uczone-bialoglowy.txt\n",
      "https://wolnelektury.pl/media/book/txt/moment.txt\n"
     ]
    },
    {
     "name": "stderr",
     "output_type": "stream",
     "text": [
      "\r",
      " 53%|█████▎    | 3021/5750 [04:13<03:49, 11.91it/s]"
     ]
    },
    {
     "name": "stdout",
     "output_type": "stream",
     "text": [
      "https://wolnelektury.pl/media/book/txt/monachomachia.txt\n",
      "https://wolnelektury.pl/media/book/txt/montgomery-ania-z-wyspy.txt\n"
     ]
    },
    {
     "name": "stderr",
     "output_type": "stream",
     "text": [
      " 53%|█████▎    | 3024/5750 [04:13<03:48, 11.91it/s]"
     ]
    },
    {
     "name": "stdout",
     "output_type": "stream",
     "text": [
      "https://wolnelektury.pl/media/book/txt/moralnosc-pani-dulskiej.txt\n",
      "https://wolnelektury.pl/media/book/txt/morawska-na-zgliszczach-zakonu.txt\n"
     ]
    },
    {
     "name": "stderr",
     "output_type": "stream",
     "text": [
      " 53%|█████▎    | 3026/5750 [04:14<03:48, 11.90it/s]"
     ]
    },
    {
     "name": "stdout",
     "output_type": "stream",
     "text": [
      "https://wolnelektury.pl/media/book/txt/morawska-wilcze-gniazdo.txt\n",
      "https://wolnelektury.pl/media/book/txt/moreas-bluszcze-jakimi-zwisacie-wdziekiem.txt\n",
      "https://wolnelektury.pl/media/book/txt/moreas-dobre-wrozki.txt\n"
     ]
    },
    {
     "name": "stderr",
     "output_type": "stream",
     "text": [
      " 53%|█████▎    | 3030/5750 [04:14<03:48, 11.90it/s]"
     ]
    },
    {
     "name": "stdout",
     "output_type": "stream",
     "text": [
      "https://wolnelektury.pl/media/book/txt/moreas-gwalcac-nagle-tych-dzdzystych.txt\n",
      "https://wolnelektury.pl/media/book/txt/moreas-kiedyz-wreszcie-rzuciwszy.txt\n",
      "https://wolnelektury.pl/media/book/txt/moreas-lubie-srebrny-ksiezycu.txt\n",
      "https://wolnelektury.pl/media/book/txt/moreas-lubo-jest-sluchac-wikli.txt\n"
     ]
    },
    {
     "name": "stderr",
     "output_type": "stream",
     "text": [
      " 53%|█████▎    | 3034/5750 [04:14<03:48, 11.91it/s]"
     ]
    },
    {
     "name": "stdout",
     "output_type": "stream",
     "text": [
      "https://wolnelektury.pl/media/book/txt/moreas-mloda-dziewczyna-mowi.txt\n",
      "https://wolnelektury.pl/media/book/txt/moreas-niech-precz-rzuca-te-lilie.txt\n",
      "https://wolnelektury.pl/media/book/txt/moreas-obloki-ukapane-w-jasnej.txt\n",
      "https://wolnelektury.pl/media/book/txt/moreas-roze-ktore-kochalem.txt\n"
     ]
    },
    {
     "name": "stderr",
     "output_type": "stream",
     "text": [
      " 53%|█████▎    | 3038/5750 [04:15<03:47, 11.91it/s]"
     ]
    },
    {
     "name": "stdout",
     "output_type": "stream",
     "text": [
      "https://wolnelektury.pl/media/book/txt/moreas-samotny-zadumany.txt\n",
      "https://wolnelektury.pl/media/book/txt/morsztyn-fickle.txt\n",
      "https://wolnelektury.pl/media/book/txt/morsztyn-to-a-corpse.txt\n",
      "https://wolnelektury.pl/media/book/txt/motyl-i-chrzaszcz-bajki-nowe.txt\n"
     ]
    },
    {
     "name": "stderr",
     "output_type": "stream",
     "text": [
      " 53%|█████▎    | 3042/5750 [04:15<03:47, 11.91it/s]"
     ]
    },
    {
     "name": "stdout",
     "output_type": "stream",
     "text": [
      "https://wolnelektury.pl/media/book/txt/motylek.txt\n",
      "https://wolnelektury.pl/media/book/txt/motylki.txt\n",
      "https://wolnelektury.pl/media/book/txt/mrowki.txt\n",
      "https://wolnelektury.pl/media/book/txt/muchy-samochwaly.txt\n"
     ]
    },
    {
     "name": "stderr",
     "output_type": "stream",
     "text": [
      " 53%|█████▎    | 3046/5750 [04:15<03:46, 11.92it/s]"
     ]
    },
    {
     "name": "stdout",
     "output_type": "stream",
     "text": [
      "https://wolnelektury.pl/media/book/txt/mueller-bol-tabuli.txt\n",
      "https://wolnelektury.pl/media/book/txt/mueller-bol-wersowanie-bezcelowe-z-celi-wolanie.txt\n",
      "https://wolnelektury.pl/media/book/txt/mueller-ck-norwid-rysuje-okladke-do-lirenki.txt\n"
     ]
    },
    {
     "name": "stderr",
     "output_type": "stream",
     "text": [
      "\r",
      " 53%|█████▎    | 3048/5750 [04:15<03:46, 11.92it/s]"
     ]
    },
    {
     "name": "stdout",
     "output_type": "stream",
     "text": [
      "https://wolnelektury.pl/media/book/txt/mueller-cmiasto-interrioryzacja.txt\n",
      "https://wolnelektury.pl/media/book/txt/mueller-czlowiek-czlowiek.txt\n",
      "https://wolnelektury.pl/media/book/txt/mueller-dla-s-pod-dobra-jesienna-data.txt\n"
     ]
    },
    {
     "name": "stderr",
     "output_type": "stream",
     "text": [
      " 53%|█████▎    | 3052/5750 [04:16<03:46, 11.92it/s]"
     ]
    },
    {
     "name": "stdout",
     "output_type": "stream",
     "text": [
      "https://wolnelektury.pl/media/book/txt/mueller-do-lustra-szczerze-sie.txt\n",
      "https://wolnelektury.pl/media/book/txt/mueller-inwersja-fotografia-anamorficzna.txt\n",
      "https://wolnelektury.pl/media/book/txt/mueller-jeden-czytany-noca.txt\n",
      "https://wolnelektury.pl/media/book/txt/mueller-korekta.txt\n"
     ]
    },
    {
     "name": "stderr",
     "output_type": "stream",
     "text": [
      " 53%|█████▎    | 3056/5750 [04:16<03:45, 11.92it/s]"
     ]
    },
    {
     "name": "stdout",
     "output_type": "stream",
     "text": [
      "https://wolnelektury.pl/media/book/txt/mueller-metapokolenie-czyli-zawsze-cytat.txt\n",
      "https://wolnelektury.pl/media/book/txt/mueller-mleczenie.txt\n",
      "https://wolnelektury.pl/media/book/txt/mueller-motto-wstepne.txt\n",
      "https://wolnelektury.pl/media/book/txt/mueller-motto-wystepne.txt\n"
     ]
    },
    {
     "name": "stderr",
     "output_type": "stream",
     "text": [
      " 53%|█████▎    | 3060/5750 [04:16<03:45, 11.93it/s]"
     ]
    },
    {
     "name": "stdout",
     "output_type": "stream",
     "text": [
      "https://wolnelektury.pl/media/book/txt/mueller-narrenschiff-czyli-muza-zaumna.txt\n",
      "https://wolnelektury.pl/media/book/txt/mueller-papierowki-prawdziwki.txt\n",
      "https://wolnelektury.pl/media/book/txt/mueller-patetica-ars-poetica.txt\n"
     ]
    },
    {
     "name": "stderr",
     "output_type": "stream",
     "text": [
      " 53%|█████▎    | 3064/5750 [04:16<03:45, 11.93it/s]"
     ]
    },
    {
     "name": "stdout",
     "output_type": "stream",
     "text": [
      "https://wolnelektury.pl/media/book/txt/mueller-pisklanka-czyli-nieopierzonko.txt\n",
      "https://wolnelektury.pl/media/book/txt/mueller-post-fast-scriptum.txt\n",
      "https://wolnelektury.pl/media/book/txt/mueller-pozaimki.txt\n"
     ]
    },
    {
     "name": "stderr",
     "output_type": "stream",
     "text": [
      "\r",
      " 53%|█████▎    | 3066/5750 [04:16<03:44, 11.93it/s]"
     ]
    },
    {
     "name": "stdout",
     "output_type": "stream",
     "text": [
      "https://wolnelektury.pl/media/book/txt/mueller-przywylkanie.txt\n",
      "https://wolnelektury.pl/media/book/txt/mueller-somnambole-fantomowe.txt\n",
      "https://wolnelektury.pl/media/book/txt/mueller-somnambole-fantomowe-dedykacja.txt\n"
     ]
    },
    {
     "name": "stderr",
     "output_type": "stream",
     "text": [
      "\r",
      " 53%|█████▎    | 3068/5750 [04:17<03:44, 11.93it/s]"
     ]
    },
    {
     "name": "stdout",
     "output_type": "stream",
     "text": [
      "https://wolnelektury.pl/media/book/txt/mueller-somnambole-fantomowe-peregrymacja.txt\n",
      "https://wolnelektury.pl/media/book/txt/mueller-somnambole-fantomowe-przejeznaczenia-symboliczne.txt\n",
      "https://wolnelektury.pl/media/book/txt/mueller-somnambole-fantomowe-wersja-intro.txt\n"
     ]
    },
    {
     "name": "stderr",
     "output_type": "stream",
     "text": [
      " 53%|█████▎    | 3072/5750 [04:17<03:44, 11.93it/s]"
     ]
    },
    {
     "name": "stdout",
     "output_type": "stream",
     "text": [
      "https://wolnelektury.pl/media/book/txt/mueller-wersja-intro.txt\n",
      "https://wolnelektury.pl/media/book/txt/mysi-krolik-i-niedzwiedz.txt\n",
      "https://wolnelektury.pl/media/book/txt/mysli.txt\n"
     ]
    },
    {
     "name": "stderr",
     "output_type": "stream",
     "text": [
      "\r",
      " 53%|█████▎    | 3074/5750 [04:17<03:44, 11.93it/s]"
     ]
    },
    {
     "name": "stdout",
     "output_type": "stream",
     "text": [
      "https://wolnelektury.pl/media/book/txt/mysz-i-kot.txt\n",
      "https://wolnelektury.pl/media/book/txt/mysz-mloda-i-stara.txt\n",
      "https://wolnelektury.pl/media/book/txt/myszka-na-sniadaniu.txt\n"
     ]
    },
    {
     "name": "stderr",
     "output_type": "stream",
     "text": [
      " 54%|█████▎    | 3078/5750 [04:17<03:43, 11.93it/s]"
     ]
    },
    {
     "name": "stdout",
     "output_type": "stream",
     "text": [
      "https://wolnelektury.pl/media/book/txt/myszy-bajki-nowe.txt\n",
      "https://wolnelektury.pl/media/book/txt/na-aniol-panski.txt\n",
      "https://wolnelektury.pl/media/book/txt/na-co-dzwonki-dzwonia.txt\n"
     ]
    },
    {
     "name": "stderr",
     "output_type": "stream",
     "text": [
      "\r",
      " 54%|█████▎    | 3080/5750 [04:18<03:43, 11.93it/s]"
     ]
    },
    {
     "name": "stdout",
     "output_type": "stream",
     "text": [
      "https://wolnelektury.pl/media/book/txt/na-drzewie-zawisl-waz.txt\n",
      "https://wolnelektury.pl/media/book/txt/na-jagody.txt\n"
     ]
    },
    {
     "name": "stderr",
     "output_type": "stream",
     "text": [
      "\r",
      " 54%|█████▎    | 3082/5750 [04:18<03:43, 11.93it/s]"
     ]
    },
    {
     "name": "stdout",
     "output_type": "stream",
     "text": [
      "https://wolnelektury.pl/media/book/txt/na-jasnym-brzegu.txt\n",
      "https://wolnelektury.pl/media/book/txt/na-krzyzyk-na-piersiach-jednej-panny.txt\n",
      "https://wolnelektury.pl/media/book/txt/na-marne.txt\n"
     ]
    },
    {
     "name": "stderr",
     "output_type": "stream",
     "text": [
      " 54%|█████▎    | 3086/5750 [04:18<03:43, 11.92it/s]"
     ]
    },
    {
     "name": "stdout",
     "output_type": "stream",
     "text": [
      "https://wolnelektury.pl/media/book/txt/na-mrozie.txt\n",
      "https://wolnelektury.pl/media/book/txt/na-oceanie-atlantyckim.txt\n",
      "https://wolnelektury.pl/media/book/txt/na-opiece-wierzby.txt\n"
     ]
    },
    {
     "name": "stderr",
     "output_type": "stream",
     "text": [
      "\r",
      " 54%|█████▎    | 3088/5750 [04:18<03:43, 11.92it/s]"
     ]
    },
    {
     "name": "stdout",
     "output_type": "stream",
     "text": [
      "https://wolnelektury.pl/media/book/txt/na-pastwisku.txt\n",
      "https://wolnelektury.pl/media/book/txt/na-pogrzebie.txt\n",
      "https://wolnelektury.pl/media/book/txt/na-polu.txt\n"
     ]
    },
    {
     "name": "stderr",
     "output_type": "stream",
     "text": [
      " 54%|█████▍    | 3092/5750 [04:19<03:42, 11.93it/s]"
     ]
    },
    {
     "name": "stdout",
     "output_type": "stream",
     "text": [
      "https://wolnelektury.pl/media/book/txt/na-skraju-laczki-mokrej.txt\n",
      "https://wolnelektury.pl/media/book/txt/na-sprowadzenie-prochow-napoleona.txt\n",
      "https://wolnelektury.pl/media/book/txt/na-wawel-na-wawel.txt\n"
     ]
    },
    {
     "name": "stderr",
     "output_type": "stream",
     "text": [
      "\r",
      " 54%|█████▍    | 3094/5750 [04:19<03:42, 11.93it/s]"
     ]
    },
    {
     "name": "stdout",
     "output_type": "stream",
     "text": [
      "https://wolnelektury.pl/media/book/txt/na-wzgorzu-smierci.txt\n",
      "https://wolnelektury.pl/media/book/txt/na-zasadzce.txt\n",
      "https://wolnelektury.pl/media/book/txt/na-zegarek-ciekacy.txt\n"
     ]
    },
    {
     "name": "stderr",
     "output_type": "stream",
     "text": [
      " 54%|█████▍    | 3098/5750 [04:19<03:42, 11.93it/s]"
     ]
    },
    {
     "name": "stdout",
     "output_type": "stream",
     "text": [
      "https://wolnelektury.pl/media/book/txt/naborowski-do-aleksandry.txt\n",
      "https://wolnelektury.pl/media/book/txt/naborowski-do-anny.txt\n",
      "https://wolnelektury.pl/media/book/txt/naborowski-do-ksiecia-imci-krzysztofa-radziwilla.txt\n"
     ]
    },
    {
     "name": "stderr",
     "output_type": "stream",
     "text": [
      "\r",
      " 54%|█████▍    | 3100/5750 [04:19<03:42, 11.93it/s]"
     ]
    },
    {
     "name": "stdout",
     "output_type": "stream",
     "text": [
      "https://wolnelektury.pl/media/book/txt/naborowski-do-seweryna.txt\n",
      "https://wolnelektury.pl/media/book/txt/naborowski-do-tejze.txt\n",
      "https://wolnelektury.pl/media/book/txt/naborowski-krotkosc-zywota.txt\n"
     ]
    },
    {
     "name": "stderr",
     "output_type": "stream",
     "text": [
      " 54%|█████▍    | 3104/5750 [04:20<03:41, 11.93it/s]"
     ]
    },
    {
     "name": "stdout",
     "output_type": "stream",
     "text": [
      "https://wolnelektury.pl/media/book/txt/naborowski-lazarz-do-bogacza.txt\n",
      "https://wolnelektury.pl/media/book/txt/naborowski-marnosc.txt\n",
      "https://wolnelektury.pl/media/book/txt/naborowski-marnosc-slawy.txt\n"
     ]
    },
    {
     "name": "stderr",
     "output_type": "stream",
     "text": [
      "\r",
      " 54%|█████▍    | 3106/5750 [04:20<03:41, 11.93it/s]"
     ]
    },
    {
     "name": "stdout",
     "output_type": "stream",
     "text": [
      "https://wolnelektury.pl/media/book/txt/naborowski-na-oczy-krolewny-angielskiej.txt\n",
      "https://wolnelektury.pl/media/book/txt/naborowski-na-toz.txt\n",
      "https://wolnelektury.pl/media/book/txt/naborowski-nagrobek-jerzemu-holowni.txt\n"
     ]
    },
    {
     "name": "stderr",
     "output_type": "stream",
     "text": [
      " 54%|█████▍    | 3110/5750 [04:20<03:41, 11.93it/s]"
     ]
    },
    {
     "name": "stdout",
     "output_type": "stream",
     "text": [
      "https://wolnelektury.pl/media/book/txt/naborowski-o-karmanowskim-do-ksiecia-radziwilla.txt\n",
      "https://wolnelektury.pl/media/book/txt/naborowski-usilowanie.txt\n",
      "https://wolnelektury.pl/media/book/txt/naborowski-vanity.txt\n"
     ]
    },
    {
     "name": "stderr",
     "output_type": "stream",
     "text": [
      "\r",
      " 54%|█████▍    | 3112/5750 [04:20<03:41, 11.93it/s]"
     ]
    },
    {
     "name": "stdout",
     "output_type": "stream",
     "text": [
      "https://wolnelektury.pl/media/book/txt/naborowski-wybor-poezji.txt\n",
      "https://wolnelektury.pl/media/book/txt/naborowski-zla-zona.txt\n",
      "https://wolnelektury.pl/media/book/txt/naborowski-zwada-marsa-z-kupidynem.txt\n"
     ]
    },
    {
     "name": "stderr",
     "output_type": "stream",
     "text": [
      " 54%|█████▍    | 3116/5750 [04:21<03:40, 11.94it/s]"
     ]
    },
    {
     "name": "stdout",
     "output_type": "stream",
     "text": [
      "https://wolnelektury.pl/media/book/txt/nad-brzegiem-renu-stali.txt\n",
      "https://wolnelektury.pl/media/book/txt/nad-grobem.txt\n",
      "https://wolnelektury.pl/media/book/txt/nad-niemnem.txt\n"
     ]
    },
    {
     "name": "stderr",
     "output_type": "stream",
     "text": [
      "\r",
      " 54%|█████▍    | 3118/5750 [04:21<03:40, 11.93it/s]"
     ]
    },
    {
     "name": "stdout",
     "output_type": "stream",
     "text": [
      "https://wolnelektury.pl/media/book/txt/nad-niemnem-tom-drugi.txt\n",
      "https://wolnelektury.pl/media/book/txt/nad-niemnem-tom-pierwszy.txt\n",
      "https://wolnelektury.pl/media/book/txt/nad-niemnem-tom-trzeci.txt\n"
     ]
    },
    {
     "name": "stderr",
     "output_type": "stream",
     "text": [
      " 54%|█████▍    | 3122/5750 [04:21<03:40, 11.92it/s]"
     ]
    },
    {
     "name": "stdout",
     "output_type": "stream",
     "text": [
      "https://wolnelektury.pl/media/book/txt/nad-przepasciami.txt\n",
      "https://wolnelektury.pl/media/book/txt/nad-przepasciami-i-miriamowi.txt\n",
      "https://wolnelektury.pl/media/book/txt/nad-przepasciami-ii-z-motywow-wedyckich.txt\n"
     ]
    },
    {
     "name": "stderr",
     "output_type": "stream",
     "text": [
      "\r",
      " 54%|█████▍    | 3124/5750 [04:21<03:40, 11.92it/s]"
     ]
    },
    {
     "name": "stdout",
     "output_type": "stream",
     "text": [
      "https://wolnelektury.pl/media/book/txt/nad-przepasciami-iii-waruno.txt\n",
      "https://wolnelektury.pl/media/book/txt/nad-rzeka.txt\n",
      "https://wolnelektury.pl/media/book/txt/nadgrobek-perlisi.txt\n"
     ]
    },
    {
     "name": "stderr",
     "output_type": "stream",
     "text": [
      " 54%|█████▍    | 3128/5750 [04:22<03:39, 11.93it/s]"
     ]
    },
    {
     "name": "stdout",
     "output_type": "stream",
     "text": [
      "https://wolnelektury.pl/media/book/txt/nadzieja-i-bojazn-bajki-nowe.txt\n",
      "https://wolnelektury.pl/media/book/txt/najpiekniejsza.txt\n",
      "https://wolnelektury.pl/media/book/txt/nalepinski-chrzest.txt\n"
     ]
    },
    {
     "name": "stderr",
     "output_type": "stream",
     "text": [
      " 54%|█████▍    | 3132/5750 [04:22<03:39, 11.93it/s]"
     ]
    },
    {
     "name": "stdout",
     "output_type": "stream",
     "text": [
      "https://wolnelektury.pl/media/book/txt/nalepinski-milosc.txt\n",
      "https://wolnelektury.pl/media/book/txt/nalepinski-z-pomroku-czarnych-nocy-chust.txt\n",
      "https://wolnelektury.pl/media/book/txt/napoj-cienisty.txt\n",
      "https://wolnelektury.pl/media/book/txt/napoj-cienisty-akteon.txt\n"
     ]
    },
    {
     "name": "stderr",
     "output_type": "stream",
     "text": [
      "\r",
      " 55%|█████▍    | 3134/5750 [04:22<03:39, 11.93it/s]"
     ]
    },
    {
     "name": "stdout",
     "output_type": "stream",
     "text": [
      "https://wolnelektury.pl/media/book/txt/napoj-cienisty-alcabon.txt\n",
      "https://wolnelektury.pl/media/book/txt/napoj-cienisty-aniol.txt\n",
      "https://wolnelektury.pl/media/book/txt/napoj-cienisty-balwan-ze-sniegu.txt\n"
     ]
    },
    {
     "name": "stderr",
     "output_type": "stream",
     "text": [
      " 55%|█████▍    | 3138/5750 [04:23<03:38, 11.93it/s]"
     ]
    },
    {
     "name": "stdout",
     "output_type": "stream",
     "text": [
      "https://wolnelektury.pl/media/book/txt/napoj-cienisty-betleem.txt\n",
      "https://wolnelektury.pl/media/book/txt/napoj-cienisty-bog-mnie-opuscil.txt\n",
      "https://wolnelektury.pl/media/book/txt/napoj-cienisty-brat.txt\n"
     ]
    },
    {
     "name": "stderr",
     "output_type": "stream",
     "text": [
      " 55%|█████▍    | 3142/5750 [04:23<03:38, 11.93it/s]"
     ]
    },
    {
     "name": "stdout",
     "output_type": "stream",
     "text": [
      "https://wolnelektury.pl/media/book/txt/napoj-cienisty-chalupa.txt\n",
      "https://wolnelektury.pl/media/book/txt/napoj-cienisty-cmentarz.txt\n",
      "https://wolnelektury.pl/media/book/txt/napoj-cienisty-cmy.txt\n",
      "https://wolnelektury.pl/media/book/txt/napoj-cienisty-cos-tam-mignelo-dalekiego.txt\n"
     ]
    },
    {
     "name": "stderr",
     "output_type": "stream",
     "text": [
      "\r",
      " 55%|█████▍    | 3144/5750 [04:23<03:38, 11.94it/s]"
     ]
    },
    {
     "name": "stdout",
     "output_type": "stream",
     "text": [
      "https://wolnelektury.pl/media/book/txt/napoj-cienisty-do-siostry.txt\n",
      "https://wolnelektury.pl/media/book/txt/napoj-cienisty-dokola-klombu.txt\n",
      "https://wolnelektury.pl/media/book/txt/napoj-cienisty-dwaj-macieje.txt\n"
     ]
    },
    {
     "name": "stderr",
     "output_type": "stream",
     "text": [
      " 55%|█████▍    | 3148/5750 [04:23<03:37, 11.94it/s]"
     ]
    },
    {
     "name": "stdout",
     "output_type": "stream",
     "text": [
      "https://wolnelektury.pl/media/book/txt/napoj-cienisty-dzanada.txt\n",
      "https://wolnelektury.pl/media/book/txt/napoj-cienisty-dzien-skrzydlaty.txt\n",
      "https://wolnelektury.pl/media/book/txt/napoj-cienisty-dziewczyna.txt\n"
     ]
    },
    {
     "name": "stderr",
     "output_type": "stream",
     "text": [
      "\r",
      " 55%|█████▍    | 3150/5750 [04:23<03:37, 11.94it/s]"
     ]
    },
    {
     "name": "stdout",
     "output_type": "stream",
     "text": [
      "https://wolnelektury.pl/media/book/txt/napoj-cienisty-dziewczyna-przed-zwierciadlem.txt\n",
      "https://wolnelektury.pl/media/book/txt/napoj-cienisty-eliasz.txt\n",
      "https://wolnelektury.pl/media/book/txt/napoj-cienisty-gdy-domdlewasz-na-lozu.txt\n"
     ]
    },
    {
     "name": "stderr",
     "output_type": "stream",
     "text": [
      " 55%|█████▍    | 3154/5750 [04:24<03:37, 11.94it/s]"
     ]
    },
    {
     "name": "stdout",
     "output_type": "stream",
     "text": [
      "https://wolnelektury.pl/media/book/txt/napoj-cienisty-goryl.txt\n",
      "https://wolnelektury.pl/media/book/txt/napoj-cienisty-jadwiga.txt\n",
      "https://wolnelektury.pl/media/book/txt/napoj-cienisty-juz-czas-ukochac-w-sadzie.txt\n"
     ]
    },
    {
     "name": "stderr",
     "output_type": "stream",
     "text": [
      " 55%|█████▍    | 3158/5750 [04:24<03:37, 11.94it/s]"
     ]
    },
    {
     "name": "stdout",
     "output_type": "stream",
     "text": [
      "https://wolnelektury.pl/media/book/txt/napoj-cienisty-karczma.txt\n",
      "https://wolnelektury.pl/media/book/txt/napoj-cienisty-kleska.txt\n",
      "https://wolnelektury.pl/media/book/txt/napoj-cienisty-kochankowie.txt\n"
     ]
    },
    {
     "name": "stderr",
     "output_type": "stream",
     "text": [
      "\r",
      " 55%|█████▍    | 3160/5750 [04:24<03:36, 11.94it/s]"
     ]
    },
    {
     "name": "stdout",
     "output_type": "stream",
     "text": [
      "https://wolnelektury.pl/media/book/txt/napoj-cienisty-kocmoluch.txt\n",
      "https://wolnelektury.pl/media/book/txt/napoj-cienisty-kopciuszek.txt\n",
      "https://wolnelektury.pl/media/book/txt/napoj-cienisty-lalka.txt\n"
     ]
    },
    {
     "name": "stderr",
     "output_type": "stream",
     "text": [
      "\r",
      " 55%|█████▍    | 3162/5750 [04:24<03:36, 11.95it/s]"
     ]
    },
    {
     "name": "stdout",
     "output_type": "stream",
     "text": [
      "https://wolnelektury.pl/media/book/txt/napoj-cienisty-ludzie.txt\n",
      "https://wolnelektury.pl/media/book/txt/napoj-cienisty-magda.txt\n",
      "https://wolnelektury.pl/media/book/txt/napoj-cienisty-marcin-swoboda.txt\n"
     ]
    },
    {
     "name": "stderr",
     "output_type": "stream",
     "text": [
      " 55%|█████▌    | 3166/5750 [04:24<03:36, 11.95it/s]"
     ]
    },
    {
     "name": "stdout",
     "output_type": "stream",
     "text": [
      "https://wolnelektury.pl/media/book/txt/napoj-cienisty-marsjanie.txt\n",
      "https://wolnelektury.pl/media/book/txt/napoj-cienisty-matysek.txt\n",
      "https://wolnelektury.pl/media/book/txt/napoj-cienisty-migon-i-jawrzon.txt\n",
      "https://wolnelektury.pl/media/book/txt/napoj-cienisty-mimochodem-cykl.txt\n"
     ]
    },
    {
     "name": "stderr",
     "output_type": "stream",
     "text": [
      " 55%|█████▌    | 3170/5750 [04:25<03:35, 11.95it/s]"
     ]
    },
    {
     "name": "stdout",
     "output_type": "stream",
     "text": [
      "https://wolnelektury.pl/media/book/txt/napoj-cienisty-modlitwa.txt\n",
      "https://wolnelektury.pl/media/book/txt/napoj-cienisty-modlmy-sie-srod-drzew.txt\n",
      "https://wolnelektury.pl/media/book/txt/napoj-cienisty-na-poddaszu.txt\n"
     ]
    },
    {
     "name": "stderr",
     "output_type": "stream",
     "text": [
      " 55%|█████▌    | 3174/5750 [04:25<03:35, 11.95it/s]"
     ]
    },
    {
     "name": "stdout",
     "output_type": "stream",
     "text": [
      "https://wolnelektury.pl/media/book/txt/napoj-cienisty-nad-ranem.txt\n",
      "https://wolnelektury.pl/media/book/txt/napoj-cienisty-namowa.txt\n",
      "https://wolnelektury.pl/media/book/txt/napoj-cienisty-niedziela.txt\n",
      "https://wolnelektury.pl/media/book/txt/napoj-cienisty-niewiara.txt\n"
     ]
    },
    {
     "name": "stderr",
     "output_type": "stream",
     "text": [
      "\r",
      " 55%|█████▌    | 3176/5750 [04:25<03:35, 11.95it/s]"
     ]
    },
    {
     "name": "stdout",
     "output_type": "stream",
     "text": [
      "https://wolnelektury.pl/media/book/txt/napoj-cienisty-niewidzialni.txt\n",
      "https://wolnelektury.pl/media/book/txt/napoj-cienisty-niewiedza.txt\n",
      "https://wolnelektury.pl/media/book/txt/napoj-cienisty-noc.txt\n"
     ]
    },
    {
     "name": "stderr",
     "output_type": "stream",
     "text": [
      " 55%|█████▌    | 3180/5750 [04:25<03:34, 11.96it/s]"
     ]
    },
    {
     "name": "stdout",
     "output_type": "stream",
     "text": [
      "https://wolnelektury.pl/media/book/txt/napoj-cienisty-noca.txt\n",
      "https://wolnelektury.pl/media/book/txt/napoj-cienisty-noca-umowiona.txt\n",
      "https://wolnelektury.pl/media/book/txt/napoj-cienisty-pan-blyszczynski.txt\n",
      "https://wolnelektury.pl/media/book/txt/napoj-cienisty-panna-anna.txt\n"
     ]
    },
    {
     "name": "stderr",
     "output_type": "stream",
     "text": [
      " 55%|█████▌    | 3184/5750 [04:26<03:34, 11.96it/s]"
     ]
    },
    {
     "name": "stdout",
     "output_type": "stream",
     "text": [
      "https://wolnelektury.pl/media/book/txt/napoj-cienisty-pejzaz-wspolczesny.txt\n",
      "https://wolnelektury.pl/media/book/txt/napoj-cienisty-pierwsza-schadzka.txt\n",
      "https://wolnelektury.pl/media/book/txt/napoj-cienisty-piosenka.txt\n"
     ]
    },
    {
     "name": "stderr",
     "output_type": "stream",
     "text": [
      "\r",
      " 55%|█████▌    | 3186/5750 [04:26<03:34, 11.96it/s]"
     ]
    },
    {
     "name": "stdout",
     "output_type": "stream",
     "text": [
      "https://wolnelektury.pl/media/book/txt/napoj-cienisty-plomienny-usmiech-nietrwalych-zorz.txt\n",
      "https://wolnelektury.pl/media/book/txt/napoj-cienisty-po-co-tyle-swiec-nade-mna.txt\n",
      "https://wolnelektury.pl/media/book/txt/napoj-cienisty-po-deszczu.txt\n"
     ]
    },
    {
     "name": "stderr",
     "output_type": "stream",
     "text": [
      " 55%|█████▌    | 3190/5750 [04:26<03:33, 11.96it/s]"
     ]
    },
    {
     "name": "stdout",
     "output_type": "stream",
     "text": [
      "https://wolnelektury.pl/media/book/txt/napoj-cienisty-po-smierci.txt\n",
      "https://wolnelektury.pl/media/book/txt/napoj-cienisty-pociemku.txt\n",
      "https://wolnelektury.pl/media/book/txt/napoj-cienisty-poeta.txt\n",
      "https://wolnelektury.pl/media/book/txt/napoj-cienisty-poranek.txt\n"
     ]
    },
    {
     "name": "stderr",
     "output_type": "stream",
     "text": [
      " 56%|█████▌    | 3194/5750 [04:26<03:33, 11.97it/s]"
     ]
    },
    {
     "name": "stdout",
     "output_type": "stream",
     "text": [
      "https://wolnelektury.pl/media/book/txt/napoj-cienisty-postacie.txt\n",
      "https://wolnelektury.pl/media/book/txt/napoj-cienisty-postacie-cykl.txt\n",
      "https://wolnelektury.pl/media/book/txt/napoj-cienisty-powiesc-o-rozumnej-dziewczynie.txt\n"
     ]
    },
    {
     "name": "stderr",
     "output_type": "stream",
     "text": [
      "\r",
      " 56%|█████▌    | 3196/5750 [04:27<03:33, 11.97it/s]"
     ]
    },
    {
     "name": "stdout",
     "output_type": "stream",
     "text": [
      "https://wolnelektury.pl/media/book/txt/napoj-cienisty-powiesc-o-rozumnej-dziewczynie-cykl.txt\n",
      "https://wolnelektury.pl/media/book/txt/napoj-cienisty-powrot.txt\n",
      "https://wolnelektury.pl/media/book/txt/napoj-cienisty-pozorzanie.txt\n"
     ]
    },
    {
     "name": "stderr",
     "output_type": "stream",
     "text": [
      " 56%|█████▌    | 3200/5750 [04:27<03:33, 11.97it/s]"
     ]
    },
    {
     "name": "stdout",
     "output_type": "stream",
     "text": [
      "https://wolnelektury.pl/media/book/txt/napoj-cienisty-przechodzien.txt\n",
      "https://wolnelektury.pl/media/book/txt/napoj-cienisty-przed-switem.txt\n",
      "https://wolnelektury.pl/media/book/txt/napoj-cienisty-przedwieczerz.txt\n",
      "https://wolnelektury.pl/media/book/txt/napoj-cienisty-pszczoly.txt\n"
     ]
    },
    {
     "name": "stderr",
     "output_type": "stream",
     "text": [
      " 56%|█████▌    | 3204/5750 [04:27<03:32, 11.97it/s]"
     ]
    },
    {
     "name": "stdout",
     "output_type": "stream",
     "text": [
      "https://wolnelektury.pl/media/book/txt/napoj-cienisty-romans.txt\n",
      "https://wolnelektury.pl/media/book/txt/napoj-cienisty-rozmowa.txt\n",
      "https://wolnelektury.pl/media/book/txt/napoj-cienisty-samotnosc.txt\n",
      "https://wolnelektury.pl/media/book/txt/napoj-cienisty-sen.txt\n"
     ]
    },
    {
     "name": "stderr",
     "output_type": "stream",
     "text": [
      " 56%|█████▌    | 3208/5750 [04:27<03:32, 11.98it/s]"
     ]
    },
    {
     "name": "stdout",
     "output_type": "stream",
     "text": [
      "https://wolnelektury.pl/media/book/txt/napoj-cienisty-slowa-do-piesni-bez-slow.txt\n",
      "https://wolnelektury.pl/media/book/txt/napoj-cienisty-snigrobek.txt\n",
      "https://wolnelektury.pl/media/book/txt/napoj-cienisty-spojrzystosc.txt\n",
      "https://wolnelektury.pl/media/book/txt/napoj-cienisty-spojrzystosc-cykl.txt\n"
     ]
    },
    {
     "name": "stderr",
     "output_type": "stream",
     "text": [
      " 56%|█████▌    | 3212/5750 [04:28<03:31, 11.98it/s]"
     ]
    },
    {
     "name": "stdout",
     "output_type": "stream",
     "text": [
      "https://wolnelektury.pl/media/book/txt/napoj-cienisty-srebron.txt\n",
      "https://wolnelektury.pl/media/book/txt/napoj-cienisty-strumien.txt\n",
      "https://wolnelektury.pl/media/book/txt/napoj-cienisty-tajemnica.txt\n"
     ]
    },
    {
     "name": "stderr",
     "output_type": "stream",
     "text": [
      "\r",
      " 56%|█████▌    | 3214/5750 [04:28<03:31, 11.98it/s]"
     ]
    },
    {
     "name": "stdout",
     "output_type": "stream",
     "text": [
      "https://wolnelektury.pl/media/book/txt/napoj-cienisty-tam-na-rzece.txt\n",
      "https://wolnelektury.pl/media/book/txt/napoj-cienisty-tamten.txt\n",
      "https://wolnelektury.pl/media/book/txt/napoj-cienisty-trupiegi.txt\n"
     ]
    },
    {
     "name": "stderr",
     "output_type": "stream",
     "text": [
      " 56%|█████▌    | 3218/5750 [04:28<03:31, 11.98it/s]"
     ]
    },
    {
     "name": "stdout",
     "output_type": "stream",
     "text": [
      "https://wolnelektury.pl/media/book/txt/napoj-cienisty-ubostwo.txt\n",
      "https://wolnelektury.pl/media/book/txt/napoj-cienisty-urszula-kochanowska.txt\n",
      "https://wolnelektury.pl/media/book/txt/napoj-cienisty-uwiedly-sad.txt\n",
      "https://wolnelektury.pl/media/book/txt/napoj-cienisty-w-chmur-odbiciu.txt\n"
     ]
    },
    {
     "name": "stderr",
     "output_type": "stream",
     "text": [
      " 56%|█████▌    | 3222/5750 [04:28<03:30, 11.98it/s]"
     ]
    },
    {
     "name": "stdout",
     "output_type": "stream",
     "text": [
      "https://wolnelektury.pl/media/book/txt/napoj-cienisty-w-chmur-odbiciu-cykl.txt\n",
      "https://wolnelektury.pl/media/book/txt/napoj-cienisty-w-czas-zmartwychwstania.txt\n",
      "https://wolnelektury.pl/media/book/txt/napoj-cienisty-w-lesie.txt\n",
      "https://wolnelektury.pl/media/book/txt/napoj-cienisty-w-nicosc-sniaca-sie-droga.txt\n"
     ]
    },
    {
     "name": "stderr",
     "output_type": "stream",
     "text": [
      " 56%|█████▌    | 3226/5750 [04:29<03:30, 11.99it/s]"
     ]
    },
    {
     "name": "stdout",
     "output_type": "stream",
     "text": [
      "https://wolnelektury.pl/media/book/txt/napoj-cienisty-w-nicosc-sniaca-sie-droga-cykl.txt\n",
      "https://wolnelektury.pl/media/book/txt/napoj-cienisty-w-odmetach-wieczoru.txt\n",
      "https://wolnelektury.pl/media/book/txt/napoj-cienisty-w-palacu-spiacej-krolewny.txt\n",
      "https://wolnelektury.pl/media/book/txt/napoj-cienisty-w-sniegu.txt\n"
     ]
    },
    {
     "name": "stderr",
     "output_type": "stream",
     "text": [
      " 56%|█████▌    | 3230/5750 [04:29<03:30, 11.99it/s]"
     ]
    },
    {
     "name": "stdout",
     "output_type": "stream",
     "text": [
      "https://wolnelektury.pl/media/book/txt/napoj-cienisty-w-trwodze.txt\n",
      "https://wolnelektury.pl/media/book/txt/napoj-cienisty-w-zakatku-cmentarza.txt\n",
      "https://wolnelektury.pl/media/book/txt/napoj-cienisty-we-snie.txt\n"
     ]
    },
    {
     "name": "stderr",
     "output_type": "stream",
     "text": [
      " 56%|█████▌    | 3234/5750 [04:29<03:29, 11.99it/s]"
     ]
    },
    {
     "name": "stdout",
     "output_type": "stream",
     "text": [
      "https://wolnelektury.pl/media/book/txt/napoj-cienisty-wieczor.txt\n",
      "https://wolnelektury.pl/media/book/txt/napoj-cienisty-wiedza.txt\n",
      "https://wolnelektury.pl/media/book/txt/napoj-cienisty-wiersz-ksiezycowy.txt\n",
      "https://wolnelektury.pl/media/book/txt/napoj-cienisty-wiosna.txt\n"
     ]
    },
    {
     "name": "stderr",
     "output_type": "stream",
     "text": [
      " 56%|█████▋    | 3238/5750 [04:29<03:29, 12.00it/s]"
     ]
    },
    {
     "name": "stdout",
     "output_type": "stream",
     "text": [
      "https://wolnelektury.pl/media/book/txt/napoj-cienisty-wol-wiosnowaty.txt\n",
      "https://wolnelektury.pl/media/book/txt/napoj-cienisty-wrogowie.txt\n",
      "https://wolnelektury.pl/media/book/txt/napoj-cienisty-wspomnienie.txt\n",
      "https://wolnelektury.pl/media/book/txt/napoj-cienisty-wyznanie-spoznione.txt\n"
     ]
    },
    {
     "name": "stderr",
     "output_type": "stream",
     "text": [
      "\r",
      " 56%|█████▋    | 3240/5750 [04:30<03:29, 12.00it/s]"
     ]
    },
    {
     "name": "stdout",
     "output_type": "stream",
     "text": [
      "https://wolnelektury.pl/media/book/txt/napoj-cienisty-z-lat-dzieciecych.txt\n",
      "https://wolnelektury.pl/media/book/txt/napoj-cienisty-za-grobem.txt\n",
      "https://wolnelektury.pl/media/book/txt/napoj-cienisty-zaklecie.txt\n"
     ]
    },
    {
     "name": "stderr",
     "output_type": "stream",
     "text": [
      " 56%|█████▋    | 3244/5750 [04:30<03:28, 12.00it/s]"
     ]
    },
    {
     "name": "stdout",
     "output_type": "stream",
     "text": [
      "https://wolnelektury.pl/media/book/txt/napoj-cienisty-zly-jar.txt\n",
      "https://wolnelektury.pl/media/book/txt/napoj-cienisty-zmierzch.txt\n",
      "https://wolnelektury.pl/media/book/txt/napoj-cienisty-zmierzch-bezpowrotny.txt\n"
     ]
    },
    {
     "name": "stderr",
     "output_type": "stream",
     "text": [
      " 56%|█████▋    | 3248/5750 [04:30<03:28, 12.00it/s]"
     ]
    },
    {
     "name": "stdout",
     "output_type": "stream",
     "text": [
      "https://wolnelektury.pl/media/book/txt/napoj-cienisty-zmierzchun.txt\n",
      "https://wolnelektury.pl/media/book/txt/napoj-cienisty-znikomek.txt\n",
      "https://wolnelektury.pl/media/book/txt/napoj-cienisty-zwierzyniec.txt\n",
      "https://wolnelektury.pl/media/book/txt/napoj-cienisty-zwiewnosc.txt\n"
     ]
    },
    {
     "name": "stderr",
     "output_type": "stream",
     "text": [
      "\r",
      " 57%|█████▋    | 3250/5750 [04:30<03:28, 12.00it/s]"
     ]
    },
    {
     "name": "stdout",
     "output_type": "stream",
     "text": [
      "https://wolnelektury.pl/media/book/txt/napoj-cienisty-zwolywali-sie-surma-na-wrzawe-zabawe.txt\n",
      "https://wolnelektury.pl/media/book/txt/narcyssa-i-wanda.txt\n"
     ]
    },
    {
     "name": "stderr",
     "output_type": "stream",
     "text": [
      " 57%|█████▋    | 3254/5750 [04:31<03:28, 12.00it/s]"
     ]
    },
    {
     "name": "stdout",
     "output_type": "stream",
     "text": [
      "https://wolnelektury.pl/media/book/txt/narodzie-moj.txt\n",
      "https://wolnelektury.pl/media/book/txt/narodziny-afrodyty.txt\n",
      "https://wolnelektury.pl/media/book/txt/narodziny-wiosny.txt\n",
      "https://wolnelektury.pl/media/book/txt/nasi-okupanci.txt\n"
     ]
    },
    {
     "name": "stderr",
     "output_type": "stream",
     "text": [
      "\r",
      " 57%|█████▋    | 3256/5750 [04:31<03:27, 12.00it/s]"
     ]
    },
    {
     "name": "stdout",
     "output_type": "stream",
     "text": [
      "https://wolnelektury.pl/media/book/txt/nasz-domek.txt\n",
      "https://wolnelektury.pl/media/book/txt/nasz-domek-kochany.txt\n",
      "https://wolnelektury.pl/media/book/txt/nasz-koniczek.txt\n"
     ]
    },
    {
     "name": "stderr",
     "output_type": "stream",
     "text": [
      " 57%|█████▋    | 3260/5750 [04:31<03:27, 12.00it/s]"
     ]
    },
    {
     "name": "stdout",
     "output_type": "stream",
     "text": [
      "https://wolnelektury.pl/media/book/txt/nasz-swiat.txt\n",
      "https://wolnelektury.pl/media/book/txt/nasz-wasatek.txt\n",
      "https://wolnelektury.pl/media/book/txt/nasza-czarna-jaskoleczka.txt\n",
      "https://wolnelektury.pl/media/book/txt/nasza-hania.txt\n"
     ]
    },
    {
     "name": "stderr",
     "output_type": "stream",
     "text": [
      " 57%|█████▋    | 3264/5750 [04:31<03:27, 12.00it/s]"
     ]
    },
    {
     "name": "stdout",
     "output_type": "stream",
     "text": [
      "https://wolnelektury.pl/media/book/txt/nasza-ksiazeczka.txt\n",
      "https://wolnelektury.pl/media/book/txt/nasza-szkapa.txt\n",
      "https://wolnelektury.pl/media/book/txt/nasze-kwiaty.txt\n"
     ]
    },
    {
     "name": "stderr",
     "output_type": "stream",
     "text": [
      "\r",
      " 57%|█████▋    | 3266/5750 [04:32<03:27, 12.00it/s]"
     ]
    },
    {
     "name": "stdout",
     "output_type": "stream",
     "text": [
      "https://wolnelektury.pl/media/book/txt/natan-der-weise.txt\n",
      "https://wolnelektury.pl/media/book/txt/natan-medrzec.txt\n"
     ]
    },
    {
     "name": "stderr",
     "output_type": "stream",
     "text": [
      "\r",
      " 57%|█████▋    | 3268/5750 [04:32<03:26, 12.00it/s]"
     ]
    },
    {
     "name": "stdout",
     "output_type": "stream",
     "text": [
      "https://wolnelektury.pl/media/book/txt/nauczyciele-sieroty.txt\n",
      "https://wolnelektury.pl/media/book/txt/nesbit-poszukiwacze-skarbu.txt\n"
     ]
    },
    {
     "name": "stderr",
     "output_type": "stream",
     "text": [
      "\r",
      " 57%|█████▋    | 3270/5750 [04:32<03:26, 11.99it/s]"
     ]
    },
    {
     "name": "stdout",
     "output_type": "stream",
     "text": [
      "https://wolnelektury.pl/media/book/txt/nesbit-przygody-mlodych-bastablow.txt\n",
      "https://wolnelektury.pl/media/book/txt/nic-wiecej.txt\n"
     ]
    },
    {
     "name": "stderr",
     "output_type": "stream",
     "text": [
      "\r",
      " 57%|█████▋    | 3272/5750 [04:32<03:26, 11.99it/s]"
     ]
    },
    {
     "name": "stdout",
     "output_type": "stream",
     "text": [
      "https://wolnelektury.pl/media/book/txt/nic-wiecej-dom-swietego-kazimierza.txt\n",
      "https://wolnelektury.pl/media/book/txt/nic-wiecej-elegia-zalu.txt\n",
      "https://wolnelektury.pl/media/book/txt/nic-wiecej-hidur-baldur-i-czas.txt\n"
     ]
    },
    {
     "name": "stderr",
     "output_type": "stream",
     "text": [
      " 57%|█████▋    | 3276/5750 [04:33<03:26, 11.99it/s]"
     ]
    },
    {
     "name": "stdout",
     "output_type": "stream",
     "text": [
      "https://wolnelektury.pl/media/book/txt/nic-wiecej-kwiecien-tych-co-bez-troski.txt\n",
      "https://wolnelektury.pl/media/book/txt/nic-wiecej-liryka.txt\n",
      "https://wolnelektury.pl/media/book/txt/nic-wiecej-nic-wiecej.txt\n"
     ]
    },
    {
     "name": "stderr",
     "output_type": "stream",
     "text": [
      "\r",
      " 57%|█████▋    | 3278/5750 [04:33<03:26, 11.99it/s]"
     ]
    },
    {
     "name": "stdout",
     "output_type": "stream",
     "text": [
      "https://wolnelektury.pl/media/book/txt/nic-wiecej-nienazwane-niejasne.txt\n",
      "https://wolnelektury.pl/media/book/txt/nic-wiecej-nuta-na-dzwony.txt\n",
      "https://wolnelektury.pl/media/book/txt/nic-wiecej-o-swierszczach.txt\n"
     ]
    },
    {
     "name": "stderr",
     "output_type": "stream",
     "text": [
      " 57%|█████▋    | 3282/5750 [04:33<03:25, 12.00it/s]"
     ]
    },
    {
     "name": "stdout",
     "output_type": "stream",
     "text": [
      "https://wolnelektury.pl/media/book/txt/nic-wiecej-od-dnia-do-dna.txt\n",
      "https://wolnelektury.pl/media/book/txt/nic-wiecej-przez-kresy.txt\n",
      "https://wolnelektury.pl/media/book/txt/nic-wiecej-sen.txt\n",
      "https://wolnelektury.pl/media/book/txt/nic-wiecej-spiewny-pocalunek.txt\n"
     ]
    },
    {
     "name": "stderr",
     "output_type": "stream",
     "text": [
      " 57%|█████▋    | 3286/5750 [04:33<03:25, 12.00it/s]"
     ]
    },
    {
     "name": "stdout",
     "output_type": "stream",
     "text": [
      "https://wolnelektury.pl/media/book/txt/nic-wiecej-synteza.txt\n",
      "https://wolnelektury.pl/media/book/txt/nic-wiecej-ta-chwila.txt\n",
      "https://wolnelektury.pl/media/book/txt/nic-wiecej-to-wiem.txt\n"
     ]
    },
    {
     "name": "stderr",
     "output_type": "stream",
     "text": [
      "\r",
      " 57%|█████▋    | 3288/5750 [04:34<03:25, 12.00it/s]"
     ]
    },
    {
     "name": "stdout",
     "output_type": "stream",
     "text": [
      "https://wolnelektury.pl/media/book/txt/nic-wiecej-torun.txt\n",
      "https://wolnelektury.pl/media/book/txt/nic-wiecej-w-boju.txt\n",
      "https://wolnelektury.pl/media/book/txt/nic-wiecej-w-kolorowej-nocy.txt\n"
     ]
    },
    {
     "name": "stderr",
     "output_type": "stream",
     "text": [
      " 57%|█████▋    | 3292/5750 [04:34<03:24, 12.00it/s]"
     ]
    },
    {
     "name": "stdout",
     "output_type": "stream",
     "text": [
      "https://wolnelektury.pl/media/book/txt/nic-wiecej-widzenie.txt\n",
      "https://wolnelektury.pl/media/book/txt/nic-wiecej-wiersz-o-smierci.txt\n",
      "https://wolnelektury.pl/media/book/txt/nic-wiecej-z-pamietnika.txt\n",
      "https://wolnelektury.pl/media/book/txt/nie-boska-komedia.txt\n"
     ]
    },
    {
     "name": "stderr",
     "output_type": "stream",
     "text": [
      " 57%|█████▋    | 3296/5750 [04:34<03:24, 12.00it/s]"
     ]
    },
    {
     "name": "stdout",
     "output_type": "stream",
     "text": [
      "https://wolnelektury.pl/media/book/txt/nie-igra-sie-z-miloscia.txt\n",
      "https://wolnelektury.pl/media/book/txt/nie-udalo-sie.txt\n",
      "https://wolnelektury.pl/media/book/txt/nie-wierze-w-nic.txt\n"
     ]
    },
    {
     "name": "stderr",
     "output_type": "stream",
     "text": [
      "\r",
      " 57%|█████▋    | 3298/5750 [04:34<03:24, 12.00it/s]"
     ]
    },
    {
     "name": "stdout",
     "output_type": "stream",
     "text": [
      "https://wolnelektury.pl/media/book/txt/niedawno-jeszcze-kiedym-spoczywal-uspiony.txt\n",
      "https://wolnelektury.pl/media/book/txt/niedawno-jeszcze-wasze-mogily.txt\n",
      "https://wolnelektury.pl/media/book/txt/niedola-nibelungow.txt\n"
     ]
    },
    {
     "name": "stderr",
     "output_type": "stream",
     "text": [
      " 57%|█████▋    | 3302/5750 [04:35<03:24, 12.00it/s]"
     ]
    },
    {
     "name": "stdout",
     "output_type": "stream",
     "text": [
      "https://wolnelektury.pl/media/book/txt/niedzwiedz-i-liszka.txt\n",
      "https://wolnelektury.pl/media/book/txt/niemojewski-branka.txt\n",
      "https://wolnelektury.pl/media/book/txt/niemojewski-kiedy-klamia.txt\n"
     ]
    },
    {
     "name": "stderr",
     "output_type": "stream",
     "text": [
      "\r",
      " 57%|█████▋    | 3304/5750 [04:35<03:23, 12.00it/s]"
     ]
    },
    {
     "name": "stdout",
     "output_type": "stream",
     "text": [
      "https://wolnelektury.pl/media/book/txt/niemojewski-morituris.txt\n",
      "https://wolnelektury.pl/media/book/txt/niemojewski-turystka.txt\n",
      "https://wolnelektury.pl/media/book/txt/niestatek-oczy-sa-ogien-czolo-jest-zwierciadlem.txt\n"
     ]
    },
    {
     "name": "stderr",
     "output_type": "stream",
     "text": [
      "\r",
      " 57%|█████▋    | 3306/5750 [04:35<03:23, 12.00it/s]"
     ]
    },
    {
     "name": "stdout",
     "output_type": "stream",
     "text": [
      "https://wolnelektury.pl/media/book/txt/niestatek-predzej-kto-wiatr-w-wor-zamknie-predzej-i-promieni.txt\n",
      "https://wolnelektury.pl/media/book/txt/nietzsche-richard-wagner-in-bayreuth.txt\n"
     ]
    },
    {
     "name": "stderr",
     "output_type": "stream",
     "text": [
      "\r",
      " 58%|█████▊    | 3308/5750 [04:35<03:23, 12.00it/s]"
     ]
    },
    {
     "name": "stdout",
     "output_type": "stream",
     "text": [
      "https://wolnelektury.pl/media/book/txt/nietzsche-wola-mocy.txt\n"
     ]
    },
    {
     "name": "stderr",
     "output_type": "stream",
     "text": [
      "\r",
      " 58%|█████▊    | 3310/5750 [04:36<03:23, 11.99it/s]"
     ]
    },
    {
     "name": "stdout",
     "output_type": "stream",
     "text": [
      "https://wolnelektury.pl/media/book/txt/niewierny.txt\n",
      "https://wolnelektury.pl/media/book/txt/niewola-tatarska.txt\n",
      "https://wolnelektury.pl/media/book/txt/niezabudka.txt\n"
     ]
    },
    {
     "name": "stderr",
     "output_type": "stream",
     "text": [
      " 58%|█████▊    | 3314/5750 [04:36<03:23, 11.99it/s]"
     ]
    },
    {
     "name": "stdout",
     "output_type": "stream",
     "text": [
      "https://wolnelektury.pl/media/book/txt/nieznana-podroz-sindbada-zeglarza.txt\n",
      "https://wolnelektury.pl/media/book/txt/nim-prog-przestapilem-celi.txt\n",
      "https://wolnelektury.pl/media/book/txt/noc-byla.txt\n"
     ]
    },
    {
     "name": "stderr",
     "output_type": "stream",
     "text": [
      "\r",
      " 58%|█████▊    | 3316/5750 [04:36<03:23, 11.99it/s]"
     ]
    },
    {
     "name": "stdout",
     "output_type": "stream",
     "text": [
      "https://wolnelektury.pl/media/book/txt/noc-listopadowa.txt\n",
      "https://wolnelektury.pl/media/book/txt/noc-tysiaczna-druga.txt\n"
     ]
    },
    {
     "name": "stderr",
     "output_type": "stream",
     "text": [
      "\r",
      " 58%|█████▊    | 3318/5750 [04:36<03:22, 11.99it/s]"
     ]
    },
    {
     "name": "stdout",
     "output_type": "stream",
     "text": [
      "https://wolnelektury.pl/media/book/txt/noca-letnia.txt\n",
      "https://wolnelektury.pl/media/book/txt/noce-polarne.txt\n",
      "https://wolnelektury.pl/media/book/txt/nocni-stroze.txt\n"
     ]
    },
    {
     "name": "stderr",
     "output_type": "stream",
     "text": [
      " 58%|█████▊    | 3322/5750 [04:37<03:22, 11.99it/s]"
     ]
    },
    {
     "name": "stdout",
     "output_type": "stream",
     "text": [
      "https://wolnelektury.pl/media/book/txt/noga-i-but-bajki-nowe.txt\n",
      "https://wolnelektury.pl/media/book/txt/nogi-izoldy-morgan.txt\n",
      "https://wolnelektury.pl/media/book/txt/norwid-ad-leones.txt\n"
     ]
    },
    {
     "name": "stderr",
     "output_type": "stream",
     "text": [
      "\r",
      " 58%|█████▊    | 3324/5750 [04:37<03:22, 11.99it/s]"
     ]
    },
    {
     "name": "stdout",
     "output_type": "stream",
     "text": [
      "https://wolnelektury.pl/media/book/txt/norwid-aerumnarum-plenus.txt\n",
      "https://wolnelektury.pl/media/book/txt/norwid-biale-kwiaty.txt\n",
      "https://wolnelektury.pl/media/book/txt/norwid-bohater.txt\n"
     ]
    },
    {
     "name": "stderr",
     "output_type": "stream",
     "text": [
      " 58%|█████▊    | 3328/5750 [04:37<03:21, 11.99it/s]"
     ]
    },
    {
     "name": "stdout",
     "output_type": "stream",
     "text": [
      "https://wolnelektury.pl/media/book/txt/norwid-buntowniki-czyli-stronnictwo-wywrotu.txt\n",
      "https://wolnelektury.pl/media/book/txt/norwid-centaury.txt\n",
      "https://wolnelektury.pl/media/book/txt/norwid-cenzor-krytyk.txt\n"
     ]
    },
    {
     "name": "stderr",
     "output_type": "stream",
     "text": [
      "\r",
      " 58%|█████▊    | 3330/5750 [04:37<03:21, 11.99it/s]"
     ]
    },
    {
     "name": "stdout",
     "output_type": "stream",
     "text": [
      "https://wolnelektury.pl/media/book/txt/norwid-ciemnosc.txt\n",
      "https://wolnelektury.pl/media/book/txt/norwid-czarne-kwiaty.txt\n",
      "https://wolnelektury.pl/media/book/txt/norwid-czasy.txt\n"
     ]
    },
    {
     "name": "stderr",
     "output_type": "stream",
     "text": [
      " 58%|█████▊    | 3334/5750 [04:37<03:21, 12.00it/s]"
     ]
    },
    {
     "name": "stdout",
     "output_type": "stream",
     "text": [
      "https://wolnelektury.pl/media/book/txt/norwid-czulosck.txt\n",
      "https://wolnelektury.pl/media/book/txt/norwid-daj-mi-wstazke-blekitna.txt\n",
      "https://wolnelektury.pl/media/book/txt/norwid-do-spolczesnych.txt\n",
      "https://wolnelektury.pl/media/book/txt/norwid-epos-nasza.txt\n"
     ]
    },
    {
     "name": "stderr",
     "output_type": "stream",
     "text": [
      " 58%|█████▊    | 3338/5750 [04:38<03:21, 12.00it/s]"
     ]
    },
    {
     "name": "stdout",
     "output_type": "stream",
     "text": [
      "https://wolnelektury.pl/media/book/txt/norwid-fraszka-i.txt\n",
      "https://wolnelektury.pl/media/book/txt/norwid-fraszka-ii.txt\n",
      "https://wolnelektury.pl/media/book/txt/norwid-historyk.txt\n"
     ]
    },
    {
     "name": "stderr",
     "output_type": "stream",
     "text": [
      "\r",
      " 58%|█████▊    | 3340/5750 [04:38<03:20, 12.00it/s]"
     ]
    },
    {
     "name": "stdout",
     "output_type": "stream",
     "text": [
      "https://wolnelektury.pl/media/book/txt/norwid-in-verona.txt\n",
      "https://wolnelektury.pl/media/book/txt/norwid-menego.txt\n",
      "https://wolnelektury.pl/media/book/txt/norwid-moja-piosnka-i.txt\n"
     ]
    },
    {
     "name": "stderr",
     "output_type": "stream",
     "text": [
      " 58%|█████▊    | 3344/5750 [04:38<03:20, 12.00it/s]"
     ]
    },
    {
     "name": "stdout",
     "output_type": "stream",
     "text": [
      "https://wolnelektury.pl/media/book/txt/norwid-my-little-song-ii.txt\n",
      "https://wolnelektury.pl/media/book/txt/norwid-nad-grobem-julii-capulleti-w-weronie.txt\n",
      "https://wolnelektury.pl/media/book/txt/norwid-nerwy.txt\n",
      "https://wolnelektury.pl/media/book/txt/norwid-pielgrzym.txt\n"
     ]
    },
    {
     "name": "stderr",
     "output_type": "stream",
     "text": [
      " 58%|█████▊    | 3348/5750 [04:38<03:20, 12.00it/s]"
     ]
    },
    {
     "name": "stdout",
     "output_type": "stream",
     "text": [
      "https://wolnelektury.pl/media/book/txt/norwid-powiedz-im-ze-duch-odbrzmial-mysli-wiecznej.txt\n",
      "https://wolnelektury.pl/media/book/txt/norwid-swiety-pokoj.txt\n",
      "https://wolnelektury.pl/media/book/txt/nowak-ptaki-dziwaki.txt\n"
     ]
    },
    {
     "name": "stderr",
     "output_type": "stream",
     "text": [
      " 58%|█████▊    | 3352/5750 [04:39<03:19, 12.00it/s]"
     ]
    },
    {
     "name": "stdout",
     "output_type": "stream",
     "text": [
      "https://wolnelektury.pl/media/book/txt/nowakowska-niska-rozdzielczosc.txt\n",
      "https://wolnelektury.pl/media/book/txt/nowakowska-niska-rozdzielczosc-abney-park-cemetery.txt\n",
      "https://wolnelektury.pl/media/book/txt/nowakowska-niska-rozdzielczosc-bezdech.txt\n"
     ]
    },
    {
     "name": "stderr",
     "output_type": "stream",
     "text": [
      "\r",
      " 58%|█████▊    | 3354/5750 [04:39<03:19, 12.01it/s]"
     ]
    },
    {
     "name": "stdout",
     "output_type": "stream",
     "text": [
      "https://wolnelektury.pl/media/book/txt/nowakowska-niska-rozdzielczosc-ciag.txt\n",
      "https://wolnelektury.pl/media/book/txt/nowakowska-niska-rozdzielczosc-ciezki-sen.txt\n",
      "https://wolnelektury.pl/media/book/txt/nowakowska-niska-rozdzielczosc-cyrkulacja.txt\n"
     ]
    },
    {
     "name": "stderr",
     "output_type": "stream",
     "text": [
      "\r",
      " 58%|█████▊    | 3356/5750 [04:39<03:19, 12.01it/s]"
     ]
    },
    {
     "name": "stdout",
     "output_type": "stream",
     "text": [
      "https://wolnelektury.pl/media/book/txt/nowakowska-niska-rozdzielczosc-daj-mi.txt\n",
      "https://wolnelektury.pl/media/book/txt/nowakowska-niska-rozdzielczosc-dedykacja.txt\n",
      "https://wolnelektury.pl/media/book/txt/nowakowska-niska-rozdzielczosc-dlugie-swiatla-wyobrazni.txt\n"
     ]
    },
    {
     "name": "stderr",
     "output_type": "stream",
     "text": [
      " 58%|█████▊    | 3360/5750 [04:39<03:19, 12.01it/s]"
     ]
    },
    {
     "name": "stdout",
     "output_type": "stream",
     "text": [
      "https://wolnelektury.pl/media/book/txt/nowakowska-niska-rozdzielczosc-epizod.txt\n",
      "https://wolnelektury.pl/media/book/txt/nowakowska-niska-rozdzielczosc-feng-shui.txt\n",
      "https://wolnelektury.pl/media/book/txt/nowakowska-niska-rozdzielczosc-hamowanie.txt\n",
      "https://wolnelektury.pl/media/book/txt/nowakowska-niska-rozdzielczosc-impas.txt\n"
     ]
    },
    {
     "name": "stderr",
     "output_type": "stream",
     "text": [
      " 59%|█████▊    | 3364/5750 [04:40<03:18, 12.01it/s]"
     ]
    },
    {
     "name": "stdout",
     "output_type": "stream",
     "text": [
      "https://wolnelektury.pl/media/book/txt/nowakowska-niska-rozdzielczosc-klucz.txt\n",
      "https://wolnelektury.pl/media/book/txt/nowakowska-niska-rozdzielczosc-lisc.txt\n",
      "https://wolnelektury.pl/media/book/txt/nowakowska-niska-rozdzielczosc-niska-rozdzielczosc.txt\n"
     ]
    },
    {
     "name": "stderr",
     "output_type": "stream",
     "text": [
      "\r",
      " 59%|█████▊    | 3366/5750 [04:40<03:18, 12.01it/s]"
     ]
    },
    {
     "name": "stdout",
     "output_type": "stream",
     "text": [
      "https://wolnelektury.pl/media/book/txt/nowakowska-niska-rozdzielczosc-ofiara.txt\n",
      "https://wolnelektury.pl/media/book/txt/nowakowska-niska-rozdzielczosc-ogrod.txt\n",
      "https://wolnelektury.pl/media/book/txt/nowakowska-niska-rozdzielczosc-opor.txt\n"
     ]
    },
    {
     "name": "stderr",
     "output_type": "stream",
     "text": [
      " 59%|█████▊    | 3370/5750 [04:40<03:18, 12.01it/s]"
     ]
    },
    {
     "name": "stdout",
     "output_type": "stream",
     "text": [
      "https://wolnelektury.pl/media/book/txt/nowakowska-niska-rozdzielczosc-poczucie.txt\n",
      "https://wolnelektury.pl/media/book/txt/nowakowska-niska-rozdzielczosc-polnoc.txt\n",
      "https://wolnelektury.pl/media/book/txt/nowakowska-niska-rozdzielczosc-proba-wody.txt\n",
      "https://wolnelektury.pl/media/book/txt/nowakowska-niska-rozdzielczosc-proporcje.txt\n"
     ]
    },
    {
     "name": "stderr",
     "output_type": "stream",
     "text": [
      " 59%|█████▊    | 3374/5750 [04:40<03:17, 12.02it/s]"
     ]
    },
    {
     "name": "stdout",
     "output_type": "stream",
     "text": [
      "https://wolnelektury.pl/media/book/txt/nowakowska-niska-rozdzielczosc-przedswit.txt\n",
      "https://wolnelektury.pl/media/book/txt/nowakowska-niska-rozdzielczosc-przesilenie.txt\n",
      "https://wolnelektury.pl/media/book/txt/nowakowska-niska-rozdzielczosc-sciezki.txt\n",
      "https://wolnelektury.pl/media/book/txt/nowakowska-niska-rozdzielczosc-slad.txt\n"
     ]
    },
    {
     "name": "stderr",
     "output_type": "stream",
     "text": [
      " 59%|█████▊    | 3378/5750 [04:41<03:17, 12.02it/s]"
     ]
    },
    {
     "name": "stdout",
     "output_type": "stream",
     "text": [
      "https://wolnelektury.pl/media/book/txt/nowakowska-niska-rozdzielczosc-spokoj.txt\n",
      "https://wolnelektury.pl/media/book/txt/nowakowska-niska-rozdzielczosc-sposob.txt\n",
      "https://wolnelektury.pl/media/book/txt/nowakowska-niska-rozdzielczosc-szmery.txt\n"
     ]
    },
    {
     "name": "stderr",
     "output_type": "stream",
     "text": [
      "\r",
      " 59%|█████▉    | 3380/5750 [04:41<03:17, 12.02it/s]"
     ]
    },
    {
     "name": "stdout",
     "output_type": "stream",
     "text": [
      "https://wolnelektury.pl/media/book/txt/nowakowska-niska-rozdzielczosc-tedy-plynie-prad.txt\n",
      "https://wolnelektury.pl/media/book/txt/nowakowska-niska-rozdzielczosc-uklad.txt\n",
      "https://wolnelektury.pl/media/book/txt/nowakowska-niska-rozdzielczosc-wieloryby-przeplywaja-obok-wyspy-kalso.txt\n"
     ]
    },
    {
     "name": "stderr",
     "output_type": "stream",
     "text": [
      " 59%|█████▉    | 3384/5750 [04:41<03:16, 12.02it/s]"
     ]
    },
    {
     "name": "stdout",
     "output_type": "stream",
     "text": [
      "https://wolnelektury.pl/media/book/txt/nowakowska-niska-rozdzielczosc-wladza-i-czas.txt\n",
      "https://wolnelektury.pl/media/book/txt/nowakowska-niska-rozdzielczosc-wyjscie-z-sytuacji.txt\n",
      "https://wolnelektury.pl/media/book/txt/nowakowska-niska-rozdzielczosc-zen-sen.txt\n"
     ]
    },
    {
     "name": "stderr",
     "output_type": "stream",
     "text": [
      "\r",
      " 59%|█████▉    | 3386/5750 [04:41<03:16, 12.02it/s]"
     ]
    },
    {
     "name": "stdout",
     "output_type": "stream",
     "text": [
      "https://wolnelektury.pl/media/book/txt/nowicki-apoteoza.txt\n",
      "https://wolnelektury.pl/media/book/txt/nowicki-echa-gorskie.txt\n",
      "https://wolnelektury.pl/media/book/txt/nowicki-morskie-oko.txt\n"
     ]
    },
    {
     "name": "stderr",
     "output_type": "stream",
     "text": [
      " 59%|█████▉    | 3390/5750 [04:41<03:16, 12.03it/s]"
     ]
    },
    {
     "name": "stdout",
     "output_type": "stream",
     "text": [
      "https://wolnelektury.pl/media/book/txt/nowicki-rzym-slowianski.txt\n",
      "https://wolnelektury.pl/media/book/txt/nowicki-tatry.txt\n",
      "https://wolnelektury.pl/media/book/txt/nuda.txt\n",
      "https://wolnelektury.pl/media/book/txt/nuta-czlowiecza.txt\n"
     ]
    },
    {
     "name": "stderr",
     "output_type": "stream",
     "text": [
      " 59%|█████▉    | 3394/5750 [04:42<03:15, 12.03it/s]"
     ]
    },
    {
     "name": "stdout",
     "output_type": "stream",
     "text": [
      "https://wolnelektury.pl/media/book/txt/nuta-czlowiecza-co-splywa-ku-nam.txt\n",
      "https://wolnelektury.pl/media/book/txt/nuta-czlowiecza-elegia-czwarta.txt\n",
      "https://wolnelektury.pl/media/book/txt/nuta-czlowiecza-elegie-der-trauer.txt\n"
     ]
    },
    {
     "name": "stderr",
     "output_type": "stream",
     "text": [
      "\r",
      " 59%|█████▉    | 3396/5750 [04:42<03:15, 12.03it/s]"
     ]
    },
    {
     "name": "stdout",
     "output_type": "stream",
     "text": [
      "https://wolnelektury.pl/media/book/txt/nuta-czlowiecza-jablko-zycia.txt\n",
      "https://wolnelektury.pl/media/book/txt/nuta-czlowiecza-je-le-sois.txt\n",
      "https://wolnelektury.pl/media/book/txt/nuta-czlowiecza-jesienia.txt\n"
     ]
    },
    {
     "name": "stderr",
     "output_type": "stream",
     "text": [
      " 59%|█████▉    | 3400/5750 [04:42<03:15, 12.03it/s]"
     ]
    },
    {
     "name": "stdout",
     "output_type": "stream",
     "text": [
      "https://wolnelektury.pl/media/book/txt/nuta-czlowiecza-jeszcze-pejzaz.txt\n",
      "https://wolnelektury.pl/media/book/txt/nuta-czlowiecza-kompozycja.txt\n",
      "https://wolnelektury.pl/media/book/txt/nuta-czlowiecza-modlitwa-zalobna.txt\n",
      "https://wolnelektury.pl/media/book/txt/nuta-czlowiecza-moje-zaduszki.txt\n"
     ]
    },
    {
     "name": "stderr",
     "output_type": "stream",
     "text": [
      " 59%|█████▉    | 3404/5750 [04:42<03:14, 12.03it/s]"
     ]
    },
    {
     "name": "stdout",
     "output_type": "stream",
     "text": [
      "https://wolnelektury.pl/media/book/txt/nuta-czlowiecza-obloki.txt\n",
      "https://wolnelektury.pl/media/book/txt/nuta-czlowiecza-opowiadanie.txt\n",
      "https://wolnelektury.pl/media/book/txt/nuta-czlowiecza-paysage-nocturne.txt\n"
     ]
    },
    {
     "name": "stderr",
     "output_type": "stream",
     "text": [
      " 59%|█████▉    | 3408/5750 [04:43<03:14, 12.04it/s]"
     ]
    },
    {
     "name": "stdout",
     "output_type": "stream",
     "text": [
      "https://wolnelektury.pl/media/book/txt/nuta-czlowiecza-piesn-o-niedobrej-burzy.txt\n",
      "https://wolnelektury.pl/media/book/txt/nuta-czlowiecza-piosenka-czeski-domek.txt\n",
      "https://wolnelektury.pl/media/book/txt/nuta-czlowiecza-plan-akacji.txt\n"
     ]
    },
    {
     "name": "stderr",
     "output_type": "stream",
     "text": [
      "\r",
      " 59%|█████▉    | 3410/5750 [04:43<03:14, 12.04it/s]"
     ]
    },
    {
     "name": "stdout",
     "output_type": "stream",
     "text": [
      "https://wolnelektury.pl/media/book/txt/nuta-czlowiecza-pod-dworcem-glownym-w-warszawie.txt\n",
      "https://wolnelektury.pl/media/book/txt/nuta-czlowiecza-polacy.txt\n",
      "https://wolnelektury.pl/media/book/txt/nuta-czlowiecza-przedswit.txt\n"
     ]
    },
    {
     "name": "stderr",
     "output_type": "stream",
     "text": [
      "\r",
      " 59%|█████▉    | 3412/5750 [04:43<03:14, 12.04it/s]"
     ]
    },
    {
     "name": "stdout",
     "output_type": "stream",
     "text": [
      "https://wolnelektury.pl/media/book/txt/nuta-czlowiecza-rymy-pobozne.txt\n",
      "https://wolnelektury.pl/media/book/txt/nuta-czlowiecza-sen-sielski.txt\n",
      "https://wolnelektury.pl/media/book/txt/nuta-czlowiecza-westchnienie.txt\n"
     ]
    },
    {
     "name": "stderr",
     "output_type": "stream",
     "text": [
      " 59%|█████▉    | 3416/5750 [04:43<03:13, 12.04it/s]"
     ]
    },
    {
     "name": "stdout",
     "output_type": "stream",
     "text": [
      "https://wolnelektury.pl/media/book/txt/nuta-czlowiecza-wigilia.txt\n",
      "https://wolnelektury.pl/media/book/txt/nuta-czlowiecza-zal.txt\n",
      "https://wolnelektury.pl/media/book/txt/nuta-czlowiecza-ze-wsi.txt\n",
      "https://wolnelektury.pl/media/book/txt/o-biednym-bogatym-i-panu-jezusie.txt\n"
     ]
    },
    {
     "name": "stderr",
     "output_type": "stream",
     "text": [
      " 59%|█████▉    | 3420/5750 [04:44<03:13, 12.04it/s]"
     ]
    },
    {
     "name": "stdout",
     "output_type": "stream",
     "text": [
      "https://wolnelektury.pl/media/book/txt/o-czem-ptaszek-spiewa.txt\n",
      "https://wolnelektury.pl/media/book/txt/o-czterech-muzykantach-z-bremy.txt\n",
      "https://wolnelektury.pl/media/book/txt/o-czym-dudni-woda-w-studni.txt\n"
     ]
    },
    {
     "name": "stderr",
     "output_type": "stream",
     "text": [
      "\r",
      " 60%|█████▉    | 3422/5750 [04:44<03:13, 12.04it/s]"
     ]
    },
    {
     "name": "stdout",
     "output_type": "stream",
     "text": [
      "https://wolnelektury.pl/media/book/txt/o-czym-szumia-wierzby.txt\n",
      "https://wolnelektury.pl/media/book/txt/o-duchu-praw.txt\n"
     ]
    },
    {
     "name": "stderr",
     "output_type": "stream",
     "text": [
      "\r",
      " 60%|█████▉    | 3424/5750 [04:44<03:13, 12.03it/s]"
     ]
    },
    {
     "name": "stdout",
     "output_type": "stream",
     "text": [
      "https://wolnelektury.pl/media/book/txt/o-dzielnym-krawczyku.txt\n",
      "https://wolnelektury.pl/media/book/txt/o-filozofii-sredniowiecznej.txt\n"
     ]
    },
    {
     "name": "stderr",
     "output_type": "stream",
     "text": [
      "\r",
      " 60%|█████▉    | 3426/5750 [04:44<03:13, 12.02it/s]"
     ]
    },
    {
     "name": "stdout",
     "output_type": "stream",
     "text": [
      "https://wolnelektury.pl/media/book/txt/o-ideale-doskonalosci.txt\n",
      "https://wolnelektury.pl/media/book/txt/o-jak-sie-trapie.txt\n",
      "https://wolnelektury.pl/media/book/txt/o-janku-wedrowniczku.txt\n"
     ]
    },
    {
     "name": "stderr",
     "output_type": "stream",
     "text": [
      "\r",
      " 60%|█████▉    | 3428/5750 [04:45<03:13, 12.03it/s]"
     ]
    },
    {
     "name": "stdout",
     "output_type": "stream",
     "text": [
      "https://wolnelektury.pl/media/book/txt/o-jasiu-dreczycielu-o-joziu-gapicielu-o-cesi-cmokosi-i-o-spalonej-zosi.txt\n",
      "https://wolnelektury.pl/media/book/txt/o-krasnoludkach-i-sierotce-marysi.txt\n"
     ]
    },
    {
     "name": "stderr",
     "output_type": "stream",
     "text": [
      "\r",
      " 60%|█████▉    | 3430/5750 [04:45<03:12, 12.02it/s]"
     ]
    },
    {
     "name": "stdout",
     "output_type": "stream",
     "text": [
      "https://wolnelektury.pl/media/book/txt/o-literaturze-rosyjskiej-i-naszym-do-niej-stosunku-dzis-i-lat-temu-trzysta.txt\n",
      "https://wolnelektury.pl/media/book/txt/o-lodniku.txt\n"
     ]
    },
    {
     "name": "stderr",
     "output_type": "stream",
     "text": [
      " 60%|█████▉    | 3434/5750 [04:45<03:12, 12.02it/s]"
     ]
    },
    {
     "name": "stdout",
     "output_type": "stream",
     "text": [
      "https://wolnelektury.pl/media/book/txt/o-nieszczesliwa-o-uciemiezona.txt\n",
      "https://wolnelektury.pl/media/book/txt/o-pierwszej-nad-ranem.txt\n",
      "https://wolnelektury.pl/media/book/txt/o-polsko-moja-tys-pierwsza-swiatu.txt\n",
      "https://wolnelektury.pl/media/book/txt/o-poprawie-rzeczypospolitej.txt\n"
     ]
    },
    {
     "name": "stderr",
     "output_type": "stream",
     "text": [
      " 60%|█████▉    | 3438/5750 [04:46<03:12, 12.02it/s]"
     ]
    },
    {
     "name": "stdout",
     "output_type": "stream",
     "text": [
      "https://wolnelektury.pl/media/book/txt/o-potedze-ducha.txt\n",
      "https://wolnelektury.pl/media/book/txt/o-rycerzu-milujacym.txt\n",
      "https://wolnelektury.pl/media/book/txt/o-sonecie.txt\n"
     ]
    },
    {
     "name": "stderr",
     "output_type": "stream",
     "text": [
      "\r",
      " 60%|█████▉    | 3440/5750 [04:46<03:12, 12.02it/s]"
     ]
    },
    {
     "name": "stdout",
     "output_type": "stream",
     "text": [
      "https://wolnelektury.pl/media/book/txt/o-wplywie-nauki-na-rozwoj-milosierdzia.txt\n",
      "https://wolnelektury.pl/media/book/txt/o-zapadlej-karczmie.txt\n",
      "https://wolnelektury.pl/media/book/txt/obiad-literacki.txt\n"
     ]
    },
    {
     "name": "stderr",
     "output_type": "stream",
     "text": [
      "\r",
      " 60%|█████▉    | 3442/5750 [04:46<03:12, 12.01it/s]"
     ]
    },
    {
     "name": "stdout",
     "output_type": "stream",
     "text": [
      "https://wolnelektury.pl/media/book/txt/obrachunki-fredrowskie.txt\n",
      "https://wolnelektury.pl/media/book/txt/obrazek-z-lat-glodowych.txt\n"
     ]
    },
    {
     "name": "stderr",
     "output_type": "stream",
     "text": [
      " 60%|█████▉    | 3445/5750 [04:46<03:11, 12.01it/s]"
     ]
    },
    {
     "name": "stdout",
     "output_type": "stream",
     "text": [
      "https://wolnelektury.pl/media/book/txt/obrona-sokratesa.txt\n",
      "https://wolnelektury.pl/media/book/txt/ocean-i-tagus-rzeka.txt\n",
      "https://wolnelektury.pl/media/book/txt/oczarowaly-noce-letnie.txt\n"
     ]
    },
    {
     "name": "stderr",
     "output_type": "stream",
     "text": [
      " 60%|█████▉    | 3449/5750 [04:47<03:11, 12.01it/s]"
     ]
    },
    {
     "name": "stdout",
     "output_type": "stream",
     "text": [
      "https://wolnelektury.pl/media/book/txt/oczekiwanie-maupassant.txt\n",
      "https://wolnelektury.pl/media/book/txt/oczy-w-niebiosach.txt\n",
      "https://wolnelektury.pl/media/book/txt/oda-do-mlodosci.txt\n"
     ]
    },
    {
     "name": "stderr",
     "output_type": "stream",
     "text": [
      "\r",
      " 60%|██████    | 3451/5750 [04:47<03:11, 12.01it/s]"
     ]
    },
    {
     "name": "stdout",
     "output_type": "stream",
     "text": [
      "https://wolnelektury.pl/media/book/txt/oda-do-wolnosci.txt\n",
      "https://wolnelektury.pl/media/book/txt/oda-iii-piramida-cestjusza.txt\n",
      "https://wolnelektury.pl/media/book/txt/oda-iv.txt\n"
     ]
    },
    {
     "name": "stderr",
     "output_type": "stream",
     "text": [
      " 60%|██████    | 3455/5750 [04:47<03:11, 12.01it/s]"
     ]
    },
    {
     "name": "stdout",
     "output_type": "stream",
     "text": [
      "https://wolnelektury.pl/media/book/txt/oda-vii.txt\n",
      "https://wolnelektury.pl/media/book/txt/oda-xxi-skarga-zerwana.txt\n",
      "https://wolnelektury.pl/media/book/txt/oda-xxvii.txt\n"
     ]
    },
    {
     "name": "stderr",
     "output_type": "stream",
     "text": [
      "\r",
      " 60%|██████    | 3457/5750 [04:47<03:10, 12.01it/s]"
     ]
    },
    {
     "name": "stdout",
     "output_type": "stream",
     "text": [
      "https://wolnelektury.pl/media/book/txt/oddechy.txt\n",
      "https://wolnelektury.pl/media/book/txt/odkrycie.txt\n"
     ]
    },
    {
     "name": "stderr",
     "output_type": "stream",
     "text": [
      "\r",
      " 60%|██████    | 3459/5750 [04:48<03:10, 12.01it/s]"
     ]
    },
    {
     "name": "stdout",
     "output_type": "stream",
     "text": [
      "https://wolnelektury.pl/media/book/txt/odlot.txt\n",
      "https://wolnelektury.pl/media/book/txt/odpowiedz-na-psalmy-przyszlosci.txt\n",
      "https://wolnelektury.pl/media/book/txt/odpowiedz-na-psalmy-przyszlosci-ujecie-wczesniejsze.txt\n"
     ]
    },
    {
     "name": "stderr",
     "output_type": "stream",
     "text": [
      " 60%|██████    | 3463/5750 [04:48<03:10, 12.01it/s]"
     ]
    },
    {
     "name": "stdout",
     "output_type": "stream",
     "text": [
      "https://wolnelektury.pl/media/book/txt/odprawa-poslow-greckich.txt\n",
      "https://wolnelektury.pl/media/book/txt/ogniem-i-mieczem.txt\n",
      "https://wolnelektury.pl/media/book/txt/ogniem-i-mieczem-tom-drugi.txt\n",
      "https://wolnelektury.pl/media/book/txt/ogniem-i-mieczem-tom-pierwszy.txt\n"
     ]
    },
    {
     "name": "stderr",
     "output_type": "stream",
     "text": [
      " 60%|██████    | 3467/5750 [04:49<03:10, 11.99it/s]"
     ]
    },
    {
     "name": "stdout",
     "output_type": "stream",
     "text": [
      "https://wolnelektury.pl/media/book/txt/ogniwa.txt\n",
      "https://wolnelektury.pl/media/book/txt/ogrod-zaklety.txt\n",
      "https://wolnelektury.pl/media/book/txt/ogrodek.txt\n"
     ]
    },
    {
     "name": "stderr",
     "output_type": "stream",
     "text": [
      "\r",
      " 60%|██████    | 3469/5750 [04:49<03:10, 11.99it/s]"
     ]
    },
    {
     "name": "stdout",
     "output_type": "stream",
     "text": [
      "https://wolnelektury.pl/media/book/txt/ogrodek-konopnicka.txt\n",
      "https://wolnelektury.pl/media/book/txt/oj-maluski-maluski.txt\n",
      "https://wolnelektury.pl/media/book/txt/ojciec.txt\n"
     ]
    },
    {
     "name": "stderr",
     "output_type": "stream",
     "text": [
      "\r",
      " 60%|██████    | 3471/5750 [04:49<03:10, 11.99it/s]"
     ]
    },
    {
     "name": "stdout",
     "output_type": "stream",
     "text": [
      "https://wolnelektury.pl/media/book/txt/ojciec-amable.txt\n",
      "https://wolnelektury.pl/media/book/txt/ojciec-goriot.txt\n"
     ]
    },
    {
     "name": "stderr",
     "output_type": "stream",
     "text": [
      " 60%|██████    | 3475/5750 [04:49<03:09, 11.99it/s]"
     ]
    },
    {
     "name": "stdout",
     "output_type": "stream",
     "text": [
      "https://wolnelektury.pl/media/book/txt/ojciec-i-dzieci.txt\n",
      "https://wolnelektury.pl/media/book/txt/ojciec-i-syn.txt\n",
      "https://wolnelektury.pl/media/book/txt/ojciec-lakomy.txt\n",
      "https://wolnelektury.pl/media/book/txt/ojciec-maupassant.txt\n"
     ]
    },
    {
     "name": "stderr",
     "output_type": "stream",
     "text": [
      "\r",
      " 60%|██████    | 3477/5750 [04:49<03:09, 11.99it/s]"
     ]
    },
    {
     "name": "stdout",
     "output_type": "stream",
     "text": [
      "https://wolnelektury.pl/media/book/txt/okna.txt\n",
      "https://wolnelektury.pl/media/book/txt/oles.txt\n"
     ]
    },
    {
     "name": "stderr",
     "output_type": "stream",
     "text": [
      " 61%|██████    | 3481/5750 [04:50<03:09, 11.99it/s]"
     ]
    },
    {
     "name": "stdout",
     "output_type": "stream",
     "text": [
      "https://wolnelektury.pl/media/book/txt/ongi-spiewalem.txt\n",
      "https://wolnelektury.pl/media/book/txt/oppman-historya-o-nieznosnym-jasiu.txt\n",
      "https://wolnelektury.pl/media/book/txt/oppman-historya-stefanka-co-niechcial-jesc-obiadu.txt\n"
     ]
    },
    {
     "name": "stderr",
     "output_type": "stream",
     "text": [
      "\r",
      " 61%|██████    | 3483/5750 [04:50<03:09, 11.99it/s]"
     ]
    },
    {
     "name": "stdout",
     "output_type": "stream",
     "text": [
      "https://wolnelektury.pl/media/book/txt/oppman-kot-w-butach.txt\n",
      "https://wolnelektury.pl/media/book/txt/oppman-napowietrzna-podroz-frania-prozniaka.txt\n",
      "https://wolnelektury.pl/media/book/txt/oppman-o-cesi-co-ssala-paluszek-i-o-krawcu-z-nozycam.txt\n"
     ]
    },
    {
     "name": "stderr",
     "output_type": "stream",
     "text": [
      " 61%|██████    | 3487/5750 [04:50<03:08, 11.99it/s]"
     ]
    },
    {
     "name": "stdout",
     "output_type": "stream",
     "text": [
      "https://wolnelektury.pl/media/book/txt/oppman-o-jasiu-dreczycielu.txt\n",
      "https://wolnelektury.pl/media/book/txt/oppman-o-joziu-gapicielu.txt\n",
      "https://wolnelektury.pl/media/book/txt/oppman-o-panu-krecickim-i-o-smutnym-jego-wypadku.txt\n"
     ]
    },
    {
     "name": "stderr",
     "output_type": "stream",
     "text": [
      "\r",
      " 61%|██████    | 3489/5750 [04:51<03:08, 11.99it/s]"
     ]
    },
    {
     "name": "stdout",
     "output_type": "stream",
     "text": [
      "https://wolnelektury.pl/media/book/txt/oppman-okropna-przygoda-zosi-co-sie-zapalkami-bawila.txt\n",
      "https://wolnelektury.pl/media/book/txt/oppman-szopka-wiersze-or-ota.txt\n",
      "https://wolnelektury.pl/media/book/txt/opuszczenie.txt\n"
     ]
    },
    {
     "name": "stderr",
     "output_type": "stream",
     "text": [
      " 61%|██████    | 3493/5750 [04:51<03:08, 11.99it/s]"
     ]
    },
    {
     "name": "stdout",
     "output_type": "stream",
     "text": [
      "https://wolnelektury.pl/media/book/txt/opuszczony-okret.txt\n",
      "https://wolnelektury.pl/media/book/txt/oracze-i-jowisz.txt\n",
      "https://wolnelektury.pl/media/book/txt/order.txt\n"
     ]
    },
    {
     "name": "stderr",
     "output_type": "stream",
     "text": [
      "\r",
      " 61%|██████    | 3495/5750 [04:51<03:08, 11.99it/s]"
     ]
    },
    {
     "name": "stdout",
     "output_type": "stream",
     "text": [
      "https://wolnelektury.pl/media/book/txt/orkan-droga.txt\n",
      "https://wolnelektury.pl/media/book/txt/orkan-o-ziemio-nedzy.txt\n",
      "https://wolnelektury.pl/media/book/txt/orkan-pochwala-zycia.txt\n"
     ]
    },
    {
     "name": "stderr",
     "output_type": "stream",
     "text": [
      " 61%|██████    | 3499/5750 [04:51<03:07, 11.99it/s]"
     ]
    },
    {
     "name": "stdout",
     "output_type": "stream",
     "text": [
      "https://wolnelektury.pl/media/book/txt/orkan-prosta-odpowiedz.txt\n",
      "https://wolnelektury.pl/media/book/txt/orland-szalony.txt\n",
      "https://wolnelektury.pl/media/book/txt/orland-szalony-tom-drugi.txt\n",
      "https://wolnelektury.pl/media/book/txt/orland-szalony-tom-pierwszy.txt\n"
     ]
    },
    {
     "name": "stderr",
     "output_type": "stream",
     "text": [
      "\r",
      " 61%|██████    | 3501/5750 [04:52<03:07, 11.98it/s]"
     ]
    },
    {
     "name": "stdout",
     "output_type": "stream",
     "text": [
      "https://wolnelektury.pl/media/book/txt/orland-szalony-tom-trzeci.txt\n",
      "https://wolnelektury.pl/media/book/txt/orzel-i-jastrzab.txt\n"
     ]
    },
    {
     "name": "stderr",
     "output_type": "stream",
     "text": [
      " 61%|██████    | 3505/5750 [04:52<03:07, 11.98it/s]"
     ]
    },
    {
     "name": "stdout",
     "output_type": "stream",
     "text": [
      "https://wolnelektury.pl/media/book/txt/orzel-i-sowa.txt\n",
      "https://wolnelektury.pl/media/book/txt/orzel-i-sroka.txt\n",
      "https://wolnelektury.pl/media/book/txt/orzel-i-zolw.txt\n"
     ]
    },
    {
     "name": "stderr",
     "output_type": "stream",
     "text": [
      "\r",
      " 61%|██████    | 3507/5750 [04:52<03:07, 11.98it/s]"
     ]
    },
    {
     "name": "stdout",
     "output_type": "stream",
     "text": [
      "https://wolnelektury.pl/media/book/txt/orzeszki.txt\n",
      "https://wolnelektury.pl/media/book/txt/orzeszkowa-abc.txt\n",
      "https://wolnelektury.pl/media/book/txt/orzeszkowa-ascetka.txt\n"
     ]
    },
    {
     "name": "stderr",
     "output_type": "stream",
     "text": [
      "\r",
      " 61%|██████    | 3509/5750 [04:53<03:07, 11.97it/s]"
     ]
    },
    {
     "name": "stdout",
     "output_type": "stream",
     "text": [
      "https://wolnelektury.pl/media/book/txt/orzeszkowa-bracia.txt\n",
      "https://wolnelektury.pl/media/book/txt/orzeszkowa-cham.txt\n"
     ]
    },
    {
     "name": "stderr",
     "output_type": "stream",
     "text": [
      " 61%|██████    | 3513/5750 [04:53<03:06, 11.97it/s]"
     ]
    },
    {
     "name": "stdout",
     "output_type": "stream",
     "text": [
      "https://wolnelektury.pl/media/book/txt/orzeszkowa-echo.txt\n",
      "https://wolnelektury.pl/media/book/txt/orzeszkowa-kto-winien.txt\n",
      "https://wolnelektury.pl/media/book/txt/orzeszkowa-w-klatce.txt\n"
     ]
    },
    {
     "name": "stderr",
     "output_type": "stream",
     "text": [
      "\r",
      " 61%|██████    | 3515/5750 [04:53<03:06, 11.96it/s]"
     ]
    },
    {
     "name": "stdout",
     "output_type": "stream",
     "text": [
      "https://wolnelektury.pl/media/book/txt/orzeszkowa-widma.txt\n",
      "https://wolnelektury.pl/media/book/txt/orzeszkowa-wielki.txt\n"
     ]
    },
    {
     "name": "stderr",
     "output_type": "stream",
     "text": [
      " 61%|██████    | 3517/5750 [04:54<03:06, 11.96it/s]"
     ]
    },
    {
     "name": "stdout",
     "output_type": "stream",
     "text": [
      "https://wolnelektury.pl/media/book/txt/orzeszkowa-zefirek.txt\n",
      "https://wolnelektury.pl/media/book/txt/osiel-i-baran.txt\n",
      "https://wolnelektury.pl/media/book/txt/osiel-i-wol.txt\n"
     ]
    },
    {
     "name": "stderr",
     "output_type": "stream",
     "text": [
      " 61%|██████    | 3521/5750 [04:54<03:06, 11.96it/s]"
     ]
    },
    {
     "name": "stdout",
     "output_type": "stream",
     "text": [
      "https://wolnelektury.pl/media/book/txt/osiol-i-chlopczyk.txt\n",
      "https://wolnelektury.pl/media/book/txt/osiol-i-dzik.txt\n",
      "https://wolnelektury.pl/media/book/txt/ossendowski-w-ludzkiej-i-lesnej-kniei.txt\n"
     ]
    },
    {
     "name": "stderr",
     "output_type": "stream",
     "text": [
      "\r",
      " 61%|██████▏   | 3523/5750 [04:54<03:06, 11.96it/s]"
     ]
    },
    {
     "name": "stdout",
     "output_type": "stream",
     "text": [
      "https://wolnelektury.pl/media/book/txt/ostatni-despotyzm.txt\n",
      "https://wolnelektury.pl/media/book/txt/ostatnie-wspomnienie-do-laury.txt\n",
      "https://wolnelektury.pl/media/book/txt/ostrowska-bogdajem.txt\n"
     ]
    },
    {
     "name": "stderr",
     "output_type": "stream",
     "text": [
      " 61%|██████▏   | 3527/5750 [04:54<03:05, 11.96it/s]"
     ]
    },
    {
     "name": "stdout",
     "output_type": "stream",
     "text": [
      "https://wolnelektury.pl/media/book/txt/ostrowska-bohaterski-mis.txt\n",
      "https://wolnelektury.pl/media/book/txt/ostrowska-dlugi-przerwany-perel-sznur.txt\n"
     ]
    },
    {
     "name": "stderr",
     "output_type": "stream",
     "text": [
      "\r",
      " 61%|██████▏   | 3529/5750 [04:55<03:05, 11.96it/s]"
     ]
    },
    {
     "name": "stdout",
     "output_type": "stream",
     "text": [
      "https://wolnelektury.pl/media/book/txt/ostrowska-menuet.txt\n",
      "https://wolnelektury.pl/media/book/txt/ostrowska-oblakana.txt\n",
      "https://wolnelektury.pl/media/book/txt/ostrowska-szum-fali.txt\n",
      "https://wolnelektury.pl/media/book/txt/ostrowska-w-starym-parku.txt\n"
     ]
    },
    {
     "name": "stderr",
     "output_type": "stream",
     "text": [
      "\r",
      " 61%|██████▏   | 3531/5750 [04:55<03:05, 11.96it/s]"
     ]
    },
    {
     "name": "stdout",
     "output_type": "stream",
     "text": [
      "https://wolnelektury.pl/media/book/txt/ostrowska-wizja.txt\n",
      "https://wolnelektury.pl/media/book/txt/ostroznie-z-ogniem.txt\n"
     ]
    },
    {
     "name": "stderr",
     "output_type": "stream",
     "text": [
      "\r",
      " 61%|██████▏   | 3533/5750 [04:55<03:05, 11.96it/s]"
     ]
    },
    {
     "name": "stdout",
     "output_type": "stream",
     "text": [
      "https://wolnelektury.pl/media/book/txt/otello.txt\n",
      "https://wolnelektury.pl/media/book/txt/oto-bog-ktory-lona-tajemnic-odmyka.txt\n"
     ]
    },
    {
     "name": "stderr",
     "output_type": "stream",
     "text": [
      " 62%|██████▏   | 3537/5750 [04:55<03:05, 11.96it/s]"
     ]
    },
    {
     "name": "stdout",
     "output_type": "stream",
     "text": [
      "https://wolnelektury.pl/media/book/txt/owieczka-i-pasterz.txt\n",
      "https://wolnelektury.pl/media/book/txt/owieczka-wypieszczona.txt\n",
      "https://wolnelektury.pl/media/book/txt/pacierz-dzieci.txt\n"
     ]
    },
    {
     "name": "stderr",
     "output_type": "stream",
     "text": [
      "\r",
      " 62%|██████▏   | 3539/5750 [04:55<03:04, 11.96it/s]"
     ]
    },
    {
     "name": "stdout",
     "output_type": "stream",
     "text": [
      "https://wolnelektury.pl/media/book/txt/palionis-pries-veja-nepapusi.txt\n",
      "https://wolnelektury.pl/media/book/txt/paluszek.txt\n",
      "https://wolnelektury.pl/media/book/txt/pamiatka.txt\n"
     ]
    },
    {
     "name": "stderr",
     "output_type": "stream",
     "text": [
      " 62%|██████▏   | 3543/5750 [04:56<03:04, 11.96it/s]"
     ]
    },
    {
     "name": "stdout",
     "output_type": "stream",
     "text": [
      "https://wolnelektury.pl/media/book/txt/pamiatki-soplicy.txt\n",
      "https://wolnelektury.pl/media/book/txt/pamiatki-soplicy-do-czytelnikow.txt\n",
      "https://wolnelektury.pl/media/book/txt/pamiatki-soplicy-kazanie-konfederackie.txt\n",
      "https://wolnelektury.pl/media/book/txt/pamiatki-soplicy-klasztor-surlanski.txt\n"
     ]
    },
    {
     "name": "stderr",
     "output_type": "stream",
     "text": [
      " 62%|██████▏   | 3547/5750 [04:56<03:04, 11.96it/s]"
     ]
    },
    {
     "name": "stdout",
     "output_type": "stream",
     "text": [
      "https://wolnelektury.pl/media/book/txt/pamiatki-soplicy-ksiadz-marek.txt\n",
      "https://wolnelektury.pl/media/book/txt/pamiatki-soplicy-ksiaze-radziwill-panie-kochanku.txt\n",
      "https://wolnelektury.pl/media/book/txt/pamiatki-soplicy-motto.txt\n"
     ]
    },
    {
     "name": "stderr",
     "output_type": "stream",
     "text": [
      "\r",
      " 62%|██████▏   | 3549/5750 [04:56<03:04, 11.96it/s]"
     ]
    },
    {
     "name": "stdout",
     "output_type": "stream",
     "text": [
      "https://wolnelektury.pl/media/book/txt/pamiatki-soplicy-ozenienie-sie-moje.txt\n",
      "https://wolnelektury.pl/media/book/txt/pamiatki-soplicy-palestra-staropolska.txt\n",
      "https://wolnelektury.pl/media/book/txt/pamiatki-soplicy-pan-bielecki.txt\n"
     ]
    },
    {
     "name": "stderr",
     "output_type": "stream",
     "text": [
      " 62%|██████▏   | 3553/5750 [04:57<03:03, 11.96it/s]"
     ]
    },
    {
     "name": "stdout",
     "output_type": "stream",
     "text": [
      "https://wolnelektury.pl/media/book/txt/pamiatki-soplicy-pan-borowski.txt\n",
      "https://wolnelektury.pl/media/book/txt/pamiatki-soplicy-pan-czapski.txt\n",
      "https://wolnelektury.pl/media/book/txt/pamiatki-soplicy-pan-dzierzanowski.txt\n"
     ]
    },
    {
     "name": "stderr",
     "output_type": "stream",
     "text": [
      "\r",
      " 62%|██████▏   | 3555/5750 [04:57<03:03, 11.96it/s]"
     ]
    },
    {
     "name": "stdout",
     "output_type": "stream",
     "text": [
      "https://wolnelektury.pl/media/book/txt/pamiatki-soplicy-pan-leszczyc.txt\n",
      "https://wolnelektury.pl/media/book/txt/pamiatki-soplicy-pan-oginski.txt\n",
      "https://wolnelektury.pl/media/book/txt/pamiatki-soplicy-pan-rewienski.txt\n"
     ]
    },
    {
     "name": "stderr",
     "output_type": "stream",
     "text": [
      " 62%|██████▏   | 3559/5750 [04:57<03:03, 11.96it/s]"
     ]
    },
    {
     "name": "stdout",
     "output_type": "stream",
     "text": [
      "https://wolnelektury.pl/media/book/txt/pamiatki-soplicy-pan-rys.txt\n",
      "https://wolnelektury.pl/media/book/txt/pamiatki-soplicy-pan-wolodkowicz.txt\n",
      "https://wolnelektury.pl/media/book/txt/pamiatki-soplicy-pawlik.txt\n"
     ]
    },
    {
     "name": "stderr",
     "output_type": "stream",
     "text": [
      "\r",
      " 62%|██████▏   | 3561/5750 [04:57<03:03, 11.96it/s]"
     ]
    },
    {
     "name": "stdout",
     "output_type": "stream",
     "text": [
      "https://wolnelektury.pl/media/book/txt/pamiatki-soplicy-sawa.txt\n",
      "https://wolnelektury.pl/media/book/txt/pamiatki-soplicy-sicz-zaporoska.txt\n",
      "https://wolnelektury.pl/media/book/txt/pamiatki-soplicy-tadeusz-rejten.txt\n"
     ]
    },
    {
     "name": "stderr",
     "output_type": "stream",
     "text": [
      " 62%|██████▏   | 3565/5750 [04:58<03:02, 11.96it/s]"
     ]
    },
    {
     "name": "stdout",
     "output_type": "stream",
     "text": [
      "https://wolnelektury.pl/media/book/txt/pamiatki-soplicy-trybunal-lubelski.txt\n",
      "https://wolnelektury.pl/media/book/txt/pamiec-to-cmentarz.txt\n",
      "https://wolnelektury.pl/media/book/txt/pamietniki.txt\n"
     ]
    },
    {
     "name": "stderr",
     "output_type": "stream",
     "text": [
      " 62%|██████▏   | 3568/5750 [04:58<03:02, 11.94it/s]"
     ]
    },
    {
     "name": "stdout",
     "output_type": "stream",
     "text": [
      "https://wolnelektury.pl/media/book/txt/pan-doktor.txt\n",
      "https://wolnelektury.pl/media/book/txt/pan-franciszek.txt\n",
      "https://wolnelektury.pl/media/book/txt/pan-grubas.txt\n"
     ]
    },
    {
     "name": "stderr",
     "output_type": "stream",
     "text": [
      "\r",
      " 62%|██████▏   | 3569/5750 [04:58<03:02, 11.94it/s]"
     ]
    },
    {
     "name": "stdout",
     "output_type": "stream",
     "text": [
      "https://wolnelektury.pl/media/book/txt/pan-i-kotka.txt\n",
      "https://wolnelektury.pl/media/book/txt/pan-i-pies.txt\n"
     ]
    },
    {
     "name": "stderr",
     "output_type": "stream",
     "text": [
      "\r",
      " 62%|██████▏   | 3571/5750 [04:59<03:02, 11.94it/s]"
     ]
    },
    {
     "name": "stdout",
     "output_type": "stream",
     "text": [
      "https://wolnelektury.pl/media/book/txt/pan-kaprowski.txt\n"
     ]
    },
    {
     "name": "stderr",
     "output_type": "stream",
     "text": [
      "\r",
      " 62%|██████▏   | 3572/5750 [04:59<03:02, 11.93it/s]"
     ]
    },
    {
     "name": "stdout",
     "output_type": "stream",
     "text": [
      "https://wolnelektury.pl/media/book/txt/pan-tadeusz.txt\n"
     ]
    },
    {
     "name": "stderr",
     "output_type": "stream",
     "text": [
      "\r",
      " 62%|██████▏   | 3573/5750 [04:59<03:02, 11.93it/s]"
     ]
    },
    {
     "name": "stdout",
     "output_type": "stream",
     "text": [
      "https://wolnelektury.pl/media/book/txt/pan-wolodyjowski.txt\n"
     ]
    },
    {
     "name": "stderr",
     "output_type": "stream",
     "text": [
      " 62%|██████▏   | 3576/5750 [05:00<03:02, 11.91it/s]"
     ]
    },
    {
     "name": "stdout",
     "output_type": "stream",
     "text": [
      "https://wolnelektury.pl/media/book/txt/pan-zielonka.txt\n",
      "https://wolnelektury.pl/media/book/txt/pani-dudkowa.txt\n",
      "https://wolnelektury.pl/media/book/txt/pani-hanska.txt\n"
     ]
    },
    {
     "name": "stderr",
     "output_type": "stream",
     "text": [
      " 62%|██████▏   | 3579/5750 [05:00<03:02, 11.91it/s]"
     ]
    },
    {
     "name": "stdout",
     "output_type": "stream",
     "text": [
      "https://wolnelektury.pl/media/book/txt/panicz-i-dziewczyna.txt\n",
      "https://wolnelektury.pl/media/book/txt/panienka.txt\n",
      "https://wolnelektury.pl/media/book/txt/panna-antonina.txt\n"
     ]
    },
    {
     "name": "stderr",
     "output_type": "stream",
     "text": [
      " 62%|██████▏   | 3582/5750 [05:00<03:01, 11.91it/s]"
     ]
    },
    {
     "name": "stdout",
     "output_type": "stream",
     "text": [
      "https://wolnelektury.pl/media/book/txt/panna-micia-na-osiolku.txt\n",
      "https://wolnelektury.pl/media/book/txt/pannie-jadwidze-tarolwnie-kwoli.txt\n",
      "https://wolnelektury.pl/media/book/txt/pantera.txt\n"
     ]
    },
    {
     "name": "stderr",
     "output_type": "stream",
     "text": [
      "\r",
      " 62%|██████▏   | 3584/5750 [05:00<03:01, 11.91it/s]"
     ]
    },
    {
     "name": "stdout",
     "output_type": "stream",
     "text": [
      "https://wolnelektury.pl/media/book/txt/papuga-i-wiewiorka.txt\n",
      "https://wolnelektury.pl/media/book/txt/parasol.txt\n",
      "https://wolnelektury.pl/media/book/txt/parodia-zycia.txt\n"
     ]
    },
    {
     "name": "stderr",
     "output_type": "stream",
     "text": [
      "\r",
      " 62%|██████▏   | 3586/5750 [05:00<03:01, 11.91it/s]"
     ]
    },
    {
     "name": "stdout",
     "output_type": "stream",
     "text": [
      "https://wolnelektury.pl/media/book/txt/paryz.txt\n",
      "https://wolnelektury.pl/media/book/txt/pascal-mysli.txt\n"
     ]
    },
    {
     "name": "stderr",
     "output_type": "stream",
     "text": [
      " 62%|██████▏   | 3590/5750 [05:01<03:01, 11.91it/s]"
     ]
    },
    {
     "name": "stdout",
     "output_type": "stream",
     "text": [
      "https://wolnelektury.pl/media/book/txt/pasewicz-dolina-wilda-11-lutego-2002.txt\n",
      "https://wolnelektury.pl/media/book/txt/pasewicz-dolina-wilda-alfabet-prywatny.txt\n",
      "https://wolnelektury.pl/media/book/txt/pasewicz-dolina-wilda-autobus-czerwony.txt\n"
     ]
    },
    {
     "name": "stderr",
     "output_type": "stream",
     "text": [
      "\r",
      " 62%|██████▏   | 3592/5750 [05:01<03:01, 11.91it/s]"
     ]
    },
    {
     "name": "stdout",
     "output_type": "stream",
     "text": [
      "https://wolnelektury.pl/media/book/txt/pasewicz-dolina-wilda-blizny.txt\n",
      "https://wolnelektury.pl/media/book/txt/pasewicz-dolina-wilda-ci-faceci-w-czolenkach.txt\n",
      "https://wolnelektury.pl/media/book/txt/pasewicz-dolina-wilda-czarna-owca-lotki.txt\n"
     ]
    },
    {
     "name": "stderr",
     "output_type": "stream",
     "text": [
      " 63%|██████▎   | 3596/5750 [05:01<03:00, 11.91it/s]"
     ]
    },
    {
     "name": "stdout",
     "output_type": "stream",
     "text": [
      "https://wolnelektury.pl/media/book/txt/pasewicz-dolina-wilda-dedykacja.txt\n",
      "https://wolnelektury.pl/media/book/txt/pasewicz-dolina-wilda-deszcz-na-czajczej.txt\n",
      "https://wolnelektury.pl/media/book/txt/pasewicz-dolina-wilda-dowod.txt\n"
     ]
    },
    {
     "name": "stderr",
     "output_type": "stream",
     "text": [
      " 63%|██████▎   | 3600/5750 [05:02<03:00, 11.91it/s]"
     ]
    },
    {
     "name": "stdout",
     "output_type": "stream",
     "text": [
      "https://wolnelektury.pl/media/book/txt/pasewicz-dolina-wilda-druga-piosenka.txt\n",
      "https://wolnelektury.pl/media/book/txt/pasewicz-dolina-wilda-drukarenka-glodu.txt\n",
      "https://wolnelektury.pl/media/book/txt/pasewicz-dolina-wilda-dzien-dobry-dzwieku.txt\n",
      "https://wolnelektury.pl/media/book/txt/pasewicz-dolina-wilda-egzotycznej-rybie-z-akwarium-w-cafe-2000.txt\n"
     ]
    },
    {
     "name": "stderr",
     "output_type": "stream",
     "text": [
      "\r",
      " 63%|██████▎   | 3602/5750 [05:02<03:00, 11.92it/s]"
     ]
    },
    {
     "name": "stdout",
     "output_type": "stream",
     "text": [
      "https://wolnelektury.pl/media/book/txt/pasewicz-dolina-wilda-elegia-sucholeska.txt\n",
      "https://wolnelektury.pl/media/book/txt/pasewicz-dolina-wilda-estella.txt\n",
      "https://wolnelektury.pl/media/book/txt/pasewicz-dolina-wilda-festiwal-teatrow-kukielkowych.txt\n"
     ]
    },
    {
     "name": "stderr",
     "output_type": "stream",
     "text": [
      " 63%|██████▎   | 3606/5750 [05:02<02:59, 11.92it/s]"
     ]
    },
    {
     "name": "stdout",
     "output_type": "stream",
     "text": [
      "https://wolnelektury.pl/media/book/txt/pasewicz-dolina-wilda-kalekie-kontynenty.txt\n",
      "https://wolnelektury.pl/media/book/txt/pasewicz-dolina-wilda-kantyczki-pana-sommera-1.txt\n",
      "https://wolnelektury.pl/media/book/txt/pasewicz-dolina-wilda-kantyczki-pana-sommera-2.txt\n",
      "https://wolnelektury.pl/media/book/txt/pasewicz-dolina-wilda-kantyczki-pana-sommera-3.txt\n"
     ]
    },
    {
     "name": "stderr",
     "output_type": "stream",
     "text": [
      " 63%|██████▎   | 3610/5750 [05:02<02:59, 11.92it/s]"
     ]
    },
    {
     "name": "stdout",
     "output_type": "stream",
     "text": [
      "https://wolnelektury.pl/media/book/txt/pasewicz-dolina-wilda-katalogi.txt\n",
      "https://wolnelektury.pl/media/book/txt/pasewicz-dolina-wilda-kriegsmarine.txt\n",
      "https://wolnelektury.pl/media/book/txt/pasewicz-dolina-wilda-ksiazeczka-dla-marka.txt\n",
      "https://wolnelektury.pl/media/book/txt/pasewicz-dolina-wilda-ksiazeczka-do-pokrewienstwa.txt\n"
     ]
    },
    {
     "name": "stderr",
     "output_type": "stream",
     "text": [
      " 63%|██████▎   | 3614/5750 [05:03<02:59, 11.92it/s]"
     ]
    },
    {
     "name": "stdout",
     "output_type": "stream",
     "text": [
      "https://wolnelektury.pl/media/book/txt/pasewicz-dolina-wilda-mahler-forever.txt\n",
      "https://wolnelektury.pl/media/book/txt/pasewicz-dolina-wilda-mala-medytacja.txt\n",
      "https://wolnelektury.pl/media/book/txt/pasewicz-dolina-wilda-male-liturgie.txt\n"
     ]
    },
    {
     "name": "stderr",
     "output_type": "stream",
     "text": [
      "\r",
      " 63%|██████▎   | 3616/5750 [05:03<02:58, 11.93it/s]"
     ]
    },
    {
     "name": "stdout",
     "output_type": "stream",
     "text": [
      "https://wolnelektury.pl/media/book/txt/pasewicz-dolina-wilda-malta.txt\n",
      "https://wolnelektury.pl/media/book/txt/pasewicz-dolina-wilda-mat-o-brzasku.txt\n",
      "https://wolnelektury.pl/media/book/txt/pasewicz-dolina-wilda-nad-odra.txt\n"
     ]
    },
    {
     "name": "stderr",
     "output_type": "stream",
     "text": [
      " 63%|██████▎   | 3620/5750 [05:03<02:58, 11.93it/s]"
     ]
    },
    {
     "name": "stdout",
     "output_type": "stream",
     "text": [
      "https://wolnelektury.pl/media/book/txt/pasewicz-dolina-wilda-nasladownictwo.txt\n",
      "https://wolnelektury.pl/media/book/txt/pasewicz-dolina-wilda-nieskonczone-okna.txt\n",
      "https://wolnelektury.pl/media/book/txt/pasewicz-dolina-wilda-pani-michalowska.txt\n",
      "https://wolnelektury.pl/media/book/txt/pasewicz-dolina-wilda-pierwsza-piosenka.txt\n"
     ]
    },
    {
     "name": "stderr",
     "output_type": "stream",
     "text": [
      " 63%|██████▎   | 3624/5750 [05:03<02:58, 11.93it/s]"
     ]
    },
    {
     "name": "stdout",
     "output_type": "stream",
     "text": [
      "https://wolnelektury.pl/media/book/txt/pasewicz-dolina-wilda-piszemy-opere.txt\n",
      "https://wolnelektury.pl/media/book/txt/pasewicz-dolina-wilda-pokoiki-do-wygasniecia.txt\n",
      "https://wolnelektury.pl/media/book/txt/pasewicz-dolina-wilda-porno.txt\n"
     ]
    },
    {
     "name": "stderr",
     "output_type": "stream",
     "text": [
      "\r",
      " 63%|██████▎   | 3626/5750 [05:03<02:58, 11.93it/s]"
     ]
    },
    {
     "name": "stdout",
     "output_type": "stream",
     "text": [
      "https://wolnelektury.pl/media/book/txt/pasewicz-dolina-wilda-powiedzialem.txt\n",
      "https://wolnelektury.pl/media/book/txt/pasewicz-dolina-wilda-prokofiev-andante-sognando.txt\n",
      "https://wolnelektury.pl/media/book/txt/pasewicz-dolina-wilda-przedbiegi.txt\n"
     ]
    },
    {
     "name": "stderr",
     "output_type": "stream",
     "text": [
      " 63%|██████▎   | 3630/5750 [05:04<02:57, 11.93it/s]"
     ]
    },
    {
     "name": "stdout",
     "output_type": "stream",
     "text": [
      "https://wolnelektury.pl/media/book/txt/pasewicz-dolina-wilda-puch.txt\n",
      "https://wolnelektury.pl/media/book/txt/pasewicz-dolina-wilda-rano.txt\n",
      "https://wolnelektury.pl/media/book/txt/pasewicz-dolina-wilda-rondo.txt\n",
      "https://wolnelektury.pl/media/book/txt/pasewicz-dolina-wilda-rozciagniecia.txt\n"
     ]
    },
    {
     "name": "stderr",
     "output_type": "stream",
     "text": [
      " 63%|██████▎   | 3634/5750 [05:04<02:57, 11.94it/s]"
     ]
    },
    {
     "name": "stdout",
     "output_type": "stream",
     "text": [
      "https://wolnelektury.pl/media/book/txt/pasewicz-dolina-wilda-senariusz.txt\n",
      "https://wolnelektury.pl/media/book/txt/pasewicz-dolina-wilda-senne-saneczki.txt\n",
      "https://wolnelektury.pl/media/book/txt/pasewicz-dolina-wilda-sklepik.txt\n",
      "https://wolnelektury.pl/media/book/txt/pasewicz-dolina-wilda-szesc-politycznych-wierszy.txt\n"
     ]
    },
    {
     "name": "stderr",
     "output_type": "stream",
     "text": [
      " 63%|██████▎   | 3638/5750 [05:04<02:56, 11.94it/s]"
     ]
    },
    {
     "name": "stdout",
     "output_type": "stream",
     "text": [
      "https://wolnelektury.pl/media/book/txt/pasewicz-dolina-wilda-w-starym-stylu.txt\n",
      "https://wolnelektury.pl/media/book/txt/pasewicz-dolina-wilda-wariacje-listowe-vischer-odchodzi.txt\n",
      "https://wolnelektury.pl/media/book/txt/pasewicz-dolina-wilda-wiersz-osobisty.txt\n",
      "https://wolnelektury.pl/media/book/txt/pasewicz-dolina-wilda-wiersze-na-glos-i-perkusje.txt\n"
     ]
    },
    {
     "name": "stderr",
     "output_type": "stream",
     "text": [
      " 63%|██████▎   | 3642/5750 [05:04<02:56, 11.94it/s]"
     ]
    },
    {
     "name": "stdout",
     "output_type": "stream",
     "text": [
      "https://wolnelektury.pl/media/book/txt/pasewicz-dolina-wilda-wszystko-mi-jedno.txt\n",
      "https://wolnelektury.pl/media/book/txt/pasewicz-dolina-wilda-wyniesc.txt\n",
      "https://wolnelektury.pl/media/book/txt/pasewicz-dolina-wilda-zagranica.txt\n"
     ]
    },
    {
     "name": "stderr",
     "output_type": "stream",
     "text": [
      "\r",
      " 63%|██████▎   | 3644/5750 [05:05<02:56, 11.94it/s]"
     ]
    },
    {
     "name": "stdout",
     "output_type": "stream",
     "text": [
      "https://wolnelektury.pl/media/book/txt/pasewicz-dolina-wilda-zart-na-niepogode.txt\n",
      "https://wolnelektury.pl/media/book/txt/pasewicz-dolina-wilda-zegnaj-plastusiu.txt\n",
      "https://wolnelektury.pl/media/book/txt/pasewicz-dolina-wilda-zmowa-dzielenia.txt\n"
     ]
    },
    {
     "name": "stderr",
     "output_type": "stream",
     "text": [
      " 63%|██████▎   | 3648/5750 [05:05<02:55, 11.95it/s]"
     ]
    },
    {
     "name": "stdout",
     "output_type": "stream",
     "text": [
      "https://wolnelektury.pl/media/book/txt/pasewicz-dolna-wilda.txt\n",
      "https://wolnelektury.pl/media/book/txt/pastereczka.txt\n",
      "https://wolnelektury.pl/media/book/txt/pasterz-i-morze-bajki-nowe.txt\n",
      "https://wolnelektury.pl/media/book/txt/pasterz-i-owce-bajki-nowe.txt\n"
     ]
    },
    {
     "name": "stderr",
     "output_type": "stream",
     "text": [
      " 64%|██████▎   | 3652/5750 [05:05<02:55, 11.95it/s]"
     ]
    },
    {
     "name": "stdout",
     "output_type": "stream",
     "text": [
      "https://wolnelektury.pl/media/book/txt/pastuszek.txt\n",
      "https://wolnelektury.pl/media/book/txt/pastuszka-gesi.txt\n",
      "https://wolnelektury.pl/media/book/txt/patmos.txt\n"
     ]
    },
    {
     "name": "stderr",
     "output_type": "stream",
     "text": [
      "\r",
      " 64%|██████▎   | 3654/5750 [05:05<02:55, 11.94it/s]"
     ]
    },
    {
     "name": "stdout",
     "output_type": "stream",
     "text": [
      "https://wolnelektury.pl/media/book/txt/patryotyzm-i-kosmopolityzm.txt\n",
      "https://wolnelektury.pl/media/book/txt/paw-i-orzel.txt\n"
     ]
    },
    {
     "name": "stderr",
     "output_type": "stream",
     "text": [
      "\r",
      " 64%|██████▎   | 3656/5750 [05:06<02:55, 11.95it/s]"
     ]
    },
    {
     "name": "stdout",
     "output_type": "stream",
     "text": [
      "https://wolnelektury.pl/media/book/txt/pawlikowska-jasnorzewska-aeroplan.txt\n",
      "https://wolnelektury.pl/media/book/txt/pawlikowska-jasnorzewska-bandyta-i-diabel.txt\n",
      "https://wolnelektury.pl/media/book/txt/pawlikowska-jasnorzewska-barwy-narodowe.txt\n"
     ]
    },
    {
     "name": "stderr",
     "output_type": "stream",
     "text": [
      " 64%|██████▎   | 3660/5750 [05:06<02:54, 11.95it/s]"
     ]
    },
    {
     "name": "stdout",
     "output_type": "stream",
     "text": [
      "https://wolnelektury.pl/media/book/txt/pawlikowska-jasnorzewska-bezpieczenstwo.txt\n",
      "https://wolnelektury.pl/media/book/txt/pawlikowska-jasnorzewska-bezpieczna-rodzina.txt\n",
      "https://wolnelektury.pl/media/book/txt/pawlikowska-jasnorzewska-biala-dama.txt\n",
      "https://wolnelektury.pl/media/book/txt/pawlikowska-jasnorzewska-bialy-kon-w-rabat.txt\n"
     ]
    },
    {
     "name": "stderr",
     "output_type": "stream",
     "text": [
      "\r",
      " 64%|██████▎   | 3662/5750 [05:06<02:54, 11.95it/s]"
     ]
    },
    {
     "name": "stdout",
     "output_type": "stream",
     "text": [
      "https://wolnelektury.pl/media/book/txt/pawlikowska-jasnorzewska-bluebells.txt\n",
      "https://wolnelektury.pl/media/book/txt/pawlikowska-jasnorzewska-bol-fizyczny.txt\n"
     ]
    },
    {
     "name": "stderr",
     "output_type": "stream",
     "text": [
      " 64%|██████▍   | 3666/5750 [05:06<02:54, 11.95it/s]"
     ]
    },
    {
     "name": "stdout",
     "output_type": "stream",
     "text": [
      "https://wolnelektury.pl/media/book/txt/pawlikowska-jasnorzewska-bratki.txt\n",
      "https://wolnelektury.pl/media/book/txt/pawlikowska-jasnorzewska-chwila-na-werandzie.txt\n",
      "https://wolnelektury.pl/media/book/txt/pawlikowska-jasnorzewska-cialo-szczescia.txt\n"
     ]
    },
    {
     "name": "stderr",
     "output_type": "stream",
     "text": [
      " 64%|██████▍   | 3670/5750 [05:07<02:54, 11.95it/s]"
     ]
    },
    {
     "name": "stdout",
     "output_type": "stream",
     "text": [
      "https://wolnelektury.pl/media/book/txt/pawlikowska-jasnorzewska-cien.txt\n",
      "https://wolnelektury.pl/media/book/txt/pawlikowska-jasnorzewska-cien-babki.txt\n",
      "https://wolnelektury.pl/media/book/txt/pawlikowska-jasnorzewska-cma.txt\n",
      "https://wolnelektury.pl/media/book/txt/pawlikowska-jasnorzewska-czarownicy-paryza.txt\n"
     ]
    },
    {
     "name": "stderr",
     "output_type": "stream",
     "text": [
      " 64%|██████▍   | 3674/5750 [05:07<02:53, 11.95it/s]"
     ]
    },
    {
     "name": "stdout",
     "output_type": "stream",
     "text": [
      "https://wolnelektury.pl/media/book/txt/pawlikowska-jasnorzewska-czas-krawiec-kulawy.txt\n",
      "https://wolnelektury.pl/media/book/txt/pawlikowska-jasnorzewska-dansing.txt\n",
      "https://wolnelektury.pl/media/book/txt/pawlikowska-jasnorzewska-dary-kochankow.txt\n",
      "https://wolnelektury.pl/media/book/txt/pawlikowska-jasnorzewska-do-chorego.txt\n"
     ]
    },
    {
     "name": "stderr",
     "output_type": "stream",
     "text": [
      " 64%|██████▍   | 3678/5750 [05:07<02:53, 11.96it/s]"
     ]
    },
    {
     "name": "stdout",
     "output_type": "stream",
     "text": [
      "https://wolnelektury.pl/media/book/txt/pawlikowska-jasnorzewska-do-miesozercow.txt\n",
      "https://wolnelektury.pl/media/book/txt/pawlikowska-jasnorzewska-don-juan-i-donna-anna.txt\n",
      "https://wolnelektury.pl/media/book/txt/pawlikowska-jasnorzewska-excentrycy.txt\n",
      "https://wolnelektury.pl/media/book/txt/pawlikowska-jasnorzewska-fatamorgana.txt\n"
     ]
    },
    {
     "name": "stderr",
     "output_type": "stream",
     "text": [
      " 64%|██████▍   | 3682/5750 [05:07<02:52, 11.96it/s]"
     ]
    },
    {
     "name": "stdout",
     "output_type": "stream",
     "text": [
      "https://wolnelektury.pl/media/book/txt/pawlikowska-jasnorzewska-film-amerykanski.txt\n",
      "https://wolnelektury.pl/media/book/txt/pawlikowska-jasnorzewska-fokstrot.txt\n",
      "https://wolnelektury.pl/media/book/txt/pawlikowska-jasnorzewska-fotografia.txt\n",
      "https://wolnelektury.pl/media/book/txt/pawlikowska-jasnorzewska-gobelin.txt\n"
     ]
    },
    {
     "name": "stderr",
     "output_type": "stream",
     "text": [
      " 64%|██████▍   | 3686/5750 [05:08<02:52, 11.96it/s]"
     ]
    },
    {
     "name": "stdout",
     "output_type": "stream",
     "text": [
      "https://wolnelektury.pl/media/book/txt/pawlikowska-jasnorzewska-grad.txt\n",
      "https://wolnelektury.pl/media/book/txt/pawlikowska-jasnorzewska-grobowce.txt\n",
      "https://wolnelektury.pl/media/book/txt/pawlikowska-jasnorzewska-heliotrop.txt\n",
      "https://wolnelektury.pl/media/book/txt/pawlikowska-jasnorzewska-ja.txt\n"
     ]
    },
    {
     "name": "stderr",
     "output_type": "stream",
     "text": [
      "\r",
      " 64%|██████▍   | 3688/5750 [05:08<02:52, 11.96it/s]"
     ]
    },
    {
     "name": "stdout",
     "output_type": "stream",
     "text": [
      "https://wolnelektury.pl/media/book/txt/pawlikowska-jasnorzewska-jazz-band.txt\n",
      "https://wolnelektury.pl/media/book/txt/pawlikowska-jasnorzewska-kamienice.txt\n",
      "https://wolnelektury.pl/media/book/txt/pawlikowska-jasnorzewska-kobieta-dzisiejsza.txt\n"
     ]
    },
    {
     "name": "stderr",
     "output_type": "stream",
     "text": [
      " 64%|██████▍   | 3692/5750 [05:08<02:52, 11.96it/s]"
     ]
    },
    {
     "name": "stdout",
     "output_type": "stream",
     "text": [
      "https://wolnelektury.pl/media/book/txt/pawlikowska-jasnorzewska-kobieta-ikar.txt\n",
      "https://wolnelektury.pl/media/book/txt/pawlikowska-jasnorzewska-kobieta-ktora-czeka.txt\n",
      "https://wolnelektury.pl/media/book/txt/pawlikowska-jasnorzewska-kobieta-w-morzu.txt\n",
      "https://wolnelektury.pl/media/book/txt/pawlikowska-jasnorzewska-kochanka-lotnika.txt\n"
     ]
    },
    {
     "name": "stderr",
     "output_type": "stream",
     "text": [
      " 64%|██████▍   | 3696/5750 [05:08<02:51, 11.97it/s]"
     ]
    },
    {
     "name": "stdout",
     "output_type": "stream",
     "text": [
      "https://wolnelektury.pl/media/book/txt/pawlikowska-jasnorzewska-krokusy.txt\n",
      "https://wolnelektury.pl/media/book/txt/pawlikowska-jasnorzewska-krowy.txt\n",
      "https://wolnelektury.pl/media/book/txt/pawlikowska-jasnorzewska-kto-chce-bym-go-kochala.txt\n"
     ]
    },
    {
     "name": "stderr",
     "output_type": "stream",
     "text": [
      "\r",
      " 64%|██████▍   | 3698/5750 [05:09<02:51, 11.97it/s]"
     ]
    },
    {
     "name": "stdout",
     "output_type": "stream",
     "text": [
      "https://wolnelektury.pl/media/book/txt/pawlikowska-jasnorzewska-la-precieuse.txt\n",
      "https://wolnelektury.pl/media/book/txt/pawlikowska-jasnorzewska-labedz.txt\n",
      "https://wolnelektury.pl/media/book/txt/pawlikowska-jasnorzewska-laura-i-filon.txt\n"
     ]
    },
    {
     "name": "stderr",
     "output_type": "stream",
     "text": [
      " 64%|██████▍   | 3702/5750 [05:09<02:51, 11.97it/s]"
     ]
    },
    {
     "name": "stdout",
     "output_type": "stream",
     "text": [
      "https://wolnelektury.pl/media/book/txt/pawlikowska-jasnorzewska-lenartowicz.txt\n",
      "https://wolnelektury.pl/media/book/txt/pawlikowska-jasnorzewska-list.txt\n",
      "https://wolnelektury.pl/media/book/txt/pawlikowska-jasnorzewska-listy.txt\n"
     ]
    },
    {
     "name": "stderr",
     "output_type": "stream",
     "text": [
      " 64%|██████▍   | 3706/5750 [05:09<02:50, 11.97it/s]"
     ]
    },
    {
     "name": "stdout",
     "output_type": "stream",
     "text": [
      "https://wolnelektury.pl/media/book/txt/pawlikowska-jasnorzewska-madama-butterfly.txt\n",
      "https://wolnelektury.pl/media/book/txt/pawlikowska-jasnorzewska-marina.txt\n",
      "https://wolnelektury.pl/media/book/txt/pawlikowska-jasnorzewska-milosc.txt\n",
      "https://wolnelektury.pl/media/book/txt/pawlikowska-jasnorzewska-miss-ameryka.txt\n"
     ]
    },
    {
     "name": "stderr",
     "output_type": "stream",
     "text": [
      "\r",
      " 64%|██████▍   | 3708/5750 [05:09<02:50, 11.97it/s]"
     ]
    },
    {
     "name": "stdout",
     "output_type": "stream",
     "text": [
      "https://wolnelektury.pl/media/book/txt/pawlikowska-jasnorzewska-morze-i-niebo.txt\n",
      "https://wolnelektury.pl/media/book/txt/pawlikowska-jasnorzewska-motyl.txt\n",
      "https://wolnelektury.pl/media/book/txt/pawlikowska-jasnorzewska-na-cieplej-niebieskiej-lace.txt\n"
     ]
    },
    {
     "name": "stderr",
     "output_type": "stream",
     "text": [
      " 65%|██████▍   | 3712/5750 [05:09<02:50, 11.97it/s]"
     ]
    },
    {
     "name": "stdout",
     "output_type": "stream",
     "text": [
      "https://wolnelektury.pl/media/book/txt/pawlikowska-jasnorzewska-najpiekniejszy-sen.txt\n",
      "https://wolnelektury.pl/media/book/txt/pawlikowska-jasnorzewska-narcyz.txt\n",
      "https://wolnelektury.pl/media/book/txt/pawlikowska-jasnorzewska-niebo-a-kapelusze.txt\n"
     ]
    },
    {
     "name": "stderr",
     "output_type": "stream",
     "text": [
      "\r",
      " 65%|██████▍   | 3714/5750 [05:10<02:50, 11.98it/s]"
     ]
    },
    {
     "name": "stdout",
     "output_type": "stream",
     "text": [
      "https://wolnelektury.pl/media/book/txt/pawlikowska-jasnorzewska-nitka-ariadny.txt\n",
      "https://wolnelektury.pl/media/book/txt/pawlikowska-jasnorzewska-o-biskupie-fiolkowym.txt\n",
      "https://wolnelektury.pl/media/book/txt/pawlikowska-jasnorzewska-o-gwiazdeczko-cos-blyszczala.txt\n"
     ]
    },
    {
     "name": "stderr",
     "output_type": "stream",
     "text": [
      " 65%|██████▍   | 3718/5750 [05:10<02:49, 11.98it/s]"
     ]
    },
    {
     "name": "stdout",
     "output_type": "stream",
     "text": [
      "https://wolnelektury.pl/media/book/txt/pawlikowska-jasnorzewska-owad-ludzki.txt\n",
      "https://wolnelektury.pl/media/book/txt/pawlikowska-jasnorzewska-pobojowisko.txt\n",
      "https://wolnelektury.pl/media/book/txt/pawlikowska-jasnorzewska-pogrzeb-infantki.txt\n",
      "https://wolnelektury.pl/media/book/txt/pawlikowska-jasnorzewska-portret.txt\n"
     ]
    },
    {
     "name": "stderr",
     "output_type": "stream",
     "text": [
      " 65%|██████▍   | 3722/5750 [05:10<02:49, 11.98it/s]"
     ]
    },
    {
     "name": "stdout",
     "output_type": "stream",
     "text": [
      "https://wolnelektury.pl/media/book/txt/pawlikowska-jasnorzewska-potwor.txt\n",
      "https://wolnelektury.pl/media/book/txt/pawlikowska-jasnorzewska-ptak.txt\n",
      "https://wolnelektury.pl/media/book/txt/pawlikowska-jasnorzewska-reforma-slow.txt\n",
      "https://wolnelektury.pl/media/book/txt/pawlikowska-jasnorzewska-rok-pracy-serca.txt\n"
     ]
    },
    {
     "name": "stderr",
     "output_type": "stream",
     "text": [
      "\r",
      " 65%|██████▍   | 3724/5750 [05:10<02:49, 11.98it/s]"
     ]
    },
    {
     "name": "stdout",
     "output_type": "stream",
     "text": [
      "https://wolnelektury.pl/media/book/txt/pawlikowska-jasnorzewska-roza-lasy-i-swiat.txt\n",
      "https://wolnelektury.pl/media/book/txt/pawlikowska-jasnorzewska-roze-dla-safony.txt\n"
     ]
    },
    {
     "name": "stderr",
     "output_type": "stream",
     "text": [
      " 65%|██████▍   | 3728/5750 [05:11<02:48, 11.98it/s]"
     ]
    },
    {
     "name": "stdout",
     "output_type": "stream",
     "text": [
      "https://wolnelektury.pl/media/book/txt/pawlikowska-jasnorzewska-rozmowa-z-omarem.txt\n",
      "https://wolnelektury.pl/media/book/txt/pawlikowska-jasnorzewska-rozowa-magia.txt\n",
      "https://wolnelektury.pl/media/book/txt/pawlikowska-jasnorzewska-secesja.txt\n"
     ]
    },
    {
     "name": "stderr",
     "output_type": "stream",
     "text": [
      " 65%|██████▍   | 3732/5750 [05:11<02:48, 11.98it/s]"
     ]
    },
    {
     "name": "stdout",
     "output_type": "stream",
     "text": [
      "https://wolnelektury.pl/media/book/txt/pawlikowska-jasnorzewska-slonecznik.txt\n",
      "https://wolnelektury.pl/media/book/txt/pawlikowska-jasnorzewska-slowiki.txt\n",
      "https://wolnelektury.pl/media/book/txt/pawlikowska-jasnorzewska-spiaca-zaloga.txt\n",
      "https://wolnelektury.pl/media/book/txt/pawlikowska-jasnorzewska-starosc.txt\n"
     ]
    },
    {
     "name": "stderr",
     "output_type": "stream",
     "text": [
      "\r",
      " 65%|██████▍   | 3734/5750 [05:11<02:48, 11.98it/s]"
     ]
    },
    {
     "name": "stdout",
     "output_type": "stream",
     "text": [
      "https://wolnelektury.pl/media/book/txt/pawlikowska-jasnorzewska-stary-lokaj-jan.txt\n",
      "https://wolnelektury.pl/media/book/txt/pawlikowska-jasnorzewska-stworca.txt\n",
      "https://wolnelektury.pl/media/book/txt/pawlikowska-jasnorzewska-syreny.txt\n"
     ]
    },
    {
     "name": "stderr",
     "output_type": "stream",
     "text": [
      " 65%|██████▌   | 3738/5750 [05:11<02:47, 11.99it/s]"
     ]
    },
    {
     "name": "stdout",
     "output_type": "stream",
     "text": [
      "https://wolnelektury.pl/media/book/txt/pawlikowska-jasnorzewska-szarotka.txt\n",
      "https://wolnelektury.pl/media/book/txt/pawlikowska-jasnorzewska-szpilki.txt\n",
      "https://wolnelektury.pl/media/book/txt/pawlikowska-jasnorzewska-tancerka.txt\n",
      "https://wolnelektury.pl/media/book/txt/pawlikowska-jasnorzewska-telegram.txt\n"
     ]
    },
    {
     "name": "stderr",
     "output_type": "stream",
     "text": [
      " 65%|██████▌   | 3742/5750 [05:12<02:47, 11.99it/s]"
     ]
    },
    {
     "name": "stdout",
     "output_type": "stream",
     "text": [
      "https://wolnelektury.pl/media/book/txt/pawlikowska-jasnorzewska-ten-ktory-mienie-swoje.txt\n",
      "https://wolnelektury.pl/media/book/txt/pawlikowska-jasnorzewska-trzeba-chodzic-w-masce.txt\n",
      "https://wolnelektury.pl/media/book/txt/pawlikowska-jasnorzewska-tyton.txt\n",
      "https://wolnelektury.pl/media/book/txt/pawlikowska-jasnorzewska-uskrzydlone-slowa.txt\n"
     ]
    },
    {
     "name": "stderr",
     "output_type": "stream",
     "text": [
      " 65%|██████▌   | 3746/5750 [05:12<02:47, 11.99it/s]"
     ]
    },
    {
     "name": "stdout",
     "output_type": "stream",
     "text": [
      "https://wolnelektury.pl/media/book/txt/pawlikowska-jasnorzewska-valentino.txt\n",
      "https://wolnelektury.pl/media/book/txt/pawlikowska-jasnorzewska-w-sieci.txt\n",
      "https://wolnelektury.pl/media/book/txt/pawlikowska-jasnorzewska-wierzbie-naszej.txt\n",
      "https://wolnelektury.pl/media/book/txt/pawlikowska-jasnorzewska-wojna-chmur.txt\n"
     ]
    },
    {
     "name": "stderr",
     "output_type": "stream",
     "text": [
      " 65%|██████▌   | 3750/5750 [05:12<02:46, 11.99it/s]"
     ]
    },
    {
     "name": "stdout",
     "output_type": "stream",
     "text": [
      "https://wolnelektury.pl/media/book/txt/pawlikowska-jasnorzewska-wybrzeze.txt\n",
      "https://wolnelektury.pl/media/book/txt/pawlikowska-jasnorzewska-zaklinacze-wezy.txt\n",
      "https://wolnelektury.pl/media/book/txt/pawlikowska-jasnorzewska-zapomniane-pocalunki.txt\n"
     ]
    },
    {
     "name": "stderr",
     "output_type": "stream",
     "text": [
      "\r",
      " 65%|██████▌   | 3752/5750 [05:12<02:46, 11.99it/s]"
     ]
    },
    {
     "name": "stdout",
     "output_type": "stream",
     "text": [
      "https://wolnelektury.pl/media/book/txt/paziowie-krola-zygmunta.txt\n",
      "https://wolnelektury.pl/media/book/txt/pelikan-i-bocian.txt\n"
     ]
    },
    {
     "name": "stderr",
     "output_type": "stream",
     "text": [
      "\r",
      " 65%|██████▌   | 3754/5750 [05:13<02:46, 11.99it/s]"
     ]
    },
    {
     "name": "stdout",
     "output_type": "stream",
     "text": [
      "https://wolnelektury.pl/media/book/txt/perec-opowiadania-chasydzkie-i-ludowe.txt\n",
      "https://wolnelektury.pl/media/book/txt/perle-zydzi-dnia-powszedniego.txt\n"
     ]
    },
    {
     "name": "stderr",
     "output_type": "stream",
     "text": [
      "\r",
      " 65%|██████▌   | 3756/5750 [05:13<02:46, 11.98it/s]"
     ]
    },
    {
     "name": "stdout",
     "output_type": "stream",
     "text": [
      "https://wolnelektury.pl/media/book/txt/perzynski-o-swicie.txt\n",
      "https://wolnelektury.pl/media/book/txt/perzynski-przebudzenie.txt\n",
      "https://wolnelektury.pl/media/book/txt/perzynski-przysiega.txt\n"
     ]
    },
    {
     "name": "stderr",
     "output_type": "stream",
     "text": [
      " 65%|██████▌   | 3760/5750 [05:13<02:46, 11.98it/s]"
     ]
    },
    {
     "name": "stdout",
     "output_type": "stream",
     "text": [
      "https://wolnelektury.pl/media/book/txt/perzynski-uajali.txt\n",
      "https://wolnelektury.pl/media/book/txt/perzynski-warszawa.txt\n",
      "https://wolnelektury.pl/media/book/txt/pewnego-dnia.txt\n"
     ]
    },
    {
     "name": "stderr",
     "output_type": "stream",
     "text": [
      "\r",
      " 65%|██████▌   | 3762/5750 [05:13<02:45, 11.98it/s]"
     ]
    },
    {
     "name": "stdout",
     "output_type": "stream",
     "text": [
      "https://wolnelektury.pl/media/book/txt/piach-dzwonnik-roczdelski.txt\n",
      "https://wolnelektury.pl/media/book/txt/pieklo-kobiet.txt\n"
     ]
    },
    {
     "name": "stderr",
     "output_type": "stream",
     "text": [
      "\r",
      " 65%|██████▌   | 3764/5750 [05:14<02:45, 11.98it/s]"
     ]
    },
    {
     "name": "stdout",
     "output_type": "stream",
     "text": [
      "https://wolnelektury.pl/media/book/txt/piekna-jak-jagoda.txt\n",
      "https://wolnelektury.pl/media/book/txt/piekna-nasza-polska-cala.txt\n",
      "https://wolnelektury.pl/media/book/txt/piekne-dni-czerwca.txt\n"
     ]
    },
    {
     "name": "stderr",
     "output_type": "stream",
     "text": [
      " 66%|██████▌   | 3768/5750 [05:14<02:45, 11.99it/s]"
     ]
    },
    {
     "name": "stdout",
     "output_type": "stream",
     "text": [
      "https://wolnelektury.pl/media/book/txt/pielgrzymka-do-sw-anny.txt\n",
      "https://wolnelektury.pl/media/book/txt/pieniacze.txt\n",
      "https://wolnelektury.pl/media/book/txt/pierniczek.txt\n",
      "https://wolnelektury.pl/media/book/txt/pierscien-i-roza.txt\n"
     ]
    },
    {
     "name": "stderr",
     "output_type": "stream",
     "text": [
      " 66%|██████▌   | 3772/5750 [05:14<02:45, 11.98it/s]"
     ]
    },
    {
     "name": "stdout",
     "output_type": "stream",
     "text": [
      "https://wolnelektury.pl/media/book/txt/pierscien-wielkiej-damy.txt\n",
      "https://wolnelektury.pl/media/book/txt/pierscionek.txt\n",
      "https://wolnelektury.pl/media/book/txt/pies-baskervilleow.txt\n"
     ]
    },
    {
     "name": "stderr",
     "output_type": "stream",
     "text": [
      "\r",
      " 66%|██████▌   | 3774/5750 [05:15<02:44, 11.98it/s]"
     ]
    },
    {
     "name": "stdout",
     "output_type": "stream",
     "text": [
      "https://wolnelektury.pl/media/book/txt/pies-i-flakon.txt\n",
      "https://wolnelektury.pl/media/book/txt/pies-i-wrobel.txt\n",
      "https://wolnelektury.pl/media/book/txt/piesek-i-biedny-koteczek.txt\n"
     ]
    },
    {
     "name": "stderr",
     "output_type": "stream",
     "text": [
      " 66%|██████▌   | 3778/5750 [05:15<02:44, 11.98it/s]"
     ]
    },
    {
     "name": "stdout",
     "output_type": "stream",
     "text": [
      "https://wolnelektury.pl/media/book/txt/piesek-kruczek.txt\n",
      "https://wolnelektury.pl/media/book/txt/piesn.txt\n",
      "https://wolnelektury.pl/media/book/txt/piesn-filaretow.txt\n",
      "https://wolnelektury.pl/media/book/txt/piesn-i-na-psalm-dawidow-xix.txt\n"
     ]
    },
    {
     "name": "stderr",
     "output_type": "stream",
     "text": [
      " 66%|██████▌   | 3782/5750 [05:15<02:44, 11.98it/s]"
     ]
    },
    {
     "name": "stdout",
     "output_type": "stream",
     "text": [
      "https://wolnelektury.pl/media/book/txt/piesn-i-o-bozej-opatrznosci-na-swiecie.txt\n",
      "https://wolnelektury.pl/media/book/txt/piesn-i-o-fridruszu.txt\n",
      "https://wolnelektury.pl/media/book/txt/piesn-ii-na-psalm-dawidow-lii.txt\n"
     ]
    },
    {
     "name": "stderr",
     "output_type": "stream",
     "text": [
      " 66%|██████▌   | 3786/5750 [05:15<02:43, 11.99it/s]"
     ]
    },
    {
     "name": "stdout",
     "output_type": "stream",
     "text": [
      "https://wolnelektury.pl/media/book/txt/piesn-ii-o-rzadzie-bozym-na-swiecie.txt\n",
      "https://wolnelektury.pl/media/book/txt/piesn-ii-o-strusie.txt\n",
      "https://wolnelektury.pl/media/book/txt/piesn-iii-o-wielmoznosci-bozej.txt\n",
      "https://wolnelektury.pl/media/book/txt/piesn-iii-psalmu-lvi-paraphrasis.txt\n"
     ]
    },
    {
     "name": "stderr",
     "output_type": "stream",
     "text": [
      " 66%|██████▌   | 3790/5750 [05:16<02:43, 11.99it/s]"
     ]
    },
    {
     "name": "stdout",
     "output_type": "stream",
     "text": [
      "https://wolnelektury.pl/media/book/txt/piesn-iii-stefanowi-batoremu-krolowi-polskiemu.txt\n",
      "https://wolnelektury.pl/media/book/txt/piesn-iv-o-cnocie-szlacheckiej.txt\n",
      "https://wolnelektury.pl/media/book/txt/piesn-iv-psalmu-cxxvi-paraphrasis.txt\n",
      "https://wolnelektury.pl/media/book/txt/piesn-ix-iz-prozne-czlowiecze-staranie-bez-bozej-pomocy.txt\n"
     ]
    },
    {
     "name": "stderr",
     "output_type": "stream",
     "text": [
      "\r",
      " 66%|██████▌   | 3792/5750 [05:16<02:43, 11.99it/s]"
     ]
    },
    {
     "name": "stdout",
     "output_type": "stream",
     "text": [
      "https://wolnelektury.pl/media/book/txt/piesn-legionow-polskich-we-wloszech.txt\n",
      "https://wolnelektury.pl/media/book/txt/piesn-o-glodze.txt\n",
      "https://wolnelektury.pl/media/book/txt/piesn-o-jasku-zbojniku.txt\n"
     ]
    },
    {
     "name": "stderr",
     "output_type": "stream",
     "text": [
      " 66%|██████▌   | 3796/5750 [05:16<02:42, 11.99it/s]"
     ]
    },
    {
     "name": "stdout",
     "output_type": "stream",
     "text": [
      "https://wolnelektury.pl/media/book/txt/piesn-o-narodzeniu-panskim.txt\n",
      "https://wolnelektury.pl/media/book/txt/piesn-o-rolandzie.txt\n",
      "https://wolnelektury.pl/media/book/txt/piesn-od-ziemi-naszej.txt\n"
     ]
    },
    {
     "name": "stderr",
     "output_type": "stream",
     "text": [
      "\r",
      " 66%|██████▌   | 3798/5750 [05:16<02:42, 11.99it/s]"
     ]
    },
    {
     "name": "stdout",
     "output_type": "stream",
     "text": [
      "https://wolnelektury.pl/media/book/txt/piesn-pogrzebowa-poleglemu-rycerzowi.txt\n",
      "https://wolnelektury.pl/media/book/txt/piesn-przerwana-obrazek-sceniczny.txt\n",
      "https://wolnelektury.pl/media/book/txt/piesn-przyjacielska.txt\n"
     ]
    },
    {
     "name": "stderr",
     "output_type": "stream",
     "text": [
      " 66%|██████▌   | 3802/5750 [05:17<02:42, 11.99it/s]"
     ]
    },
    {
     "name": "stdout",
     "output_type": "stream",
     "text": [
      "https://wolnelektury.pl/media/book/txt/piesn-sokolow.txt\n",
      "https://wolnelektury.pl/media/book/txt/piesn-swietojanska-o-sobotce.txt\n",
      "https://wolnelektury.pl/media/book/txt/piesn-v-na-ksztalt-psalmu-lxx.txt\n",
      "https://wolnelektury.pl/media/book/txt/piesn-vi-na-ksztalt-psalmu-cxx.txt\n"
     ]
    },
    {
     "name": "stderr",
     "output_type": "stream",
     "text": [
      " 66%|██████▌   | 3806/5750 [05:17<02:42, 12.00it/s]"
     ]
    },
    {
     "name": "stdout",
     "output_type": "stream",
     "text": [
      "https://wolnelektury.pl/media/book/txt/piesn-viii-iz-rozum-czlowiekowi-potrzebniejszy-niz-skarby.txt\n",
      "https://wolnelektury.pl/media/book/txt/piesni.txt\n",
      "https://wolnelektury.pl/media/book/txt/piesni-dedykacja.txt\n"
     ]
    },
    {
     "name": "stderr",
     "output_type": "stream",
     "text": [
      "\r",
      " 66%|██████▌   | 3808/5750 [05:17<02:41, 12.00it/s]"
     ]
    },
    {
     "name": "stdout",
     "output_type": "stream",
     "text": [
      "https://wolnelektury.pl/media/book/txt/piesni-i-piosenki.txt\n",
      "https://wolnelektury.pl/media/book/txt/piesni-ksiegi-pierwsze-piesn-i.txt\n",
      "https://wolnelektury.pl/media/book/txt/piesni-ksiegi-pierwsze-piesn-ii.txt\n"
     ]
    },
    {
     "name": "stderr",
     "output_type": "stream",
     "text": [
      " 66%|██████▋   | 3812/5750 [05:17<02:41, 12.00it/s]"
     ]
    },
    {
     "name": "stdout",
     "output_type": "stream",
     "text": [
      "https://wolnelektury.pl/media/book/txt/piesni-ksiegi-pierwsze-piesn-iii.txt\n",
      "https://wolnelektury.pl/media/book/txt/piesni-ksiegi-pierwsze-piesn-iv.txt\n",
      "https://wolnelektury.pl/media/book/txt/piesni-ksiegi-pierwsze-piesn-ix.txt\n",
      "https://wolnelektury.pl/media/book/txt/piesni-ksiegi-pierwsze-piesn-v.txt\n"
     ]
    },
    {
     "name": "stderr",
     "output_type": "stream",
     "text": [
      " 66%|██████▋   | 3816/5750 [05:17<02:41, 12.00it/s]"
     ]
    },
    {
     "name": "stdout",
     "output_type": "stream",
     "text": [
      "https://wolnelektury.pl/media/book/txt/piesni-ksiegi-pierwsze-piesn-vi.txt\n",
      "https://wolnelektury.pl/media/book/txt/piesni-ksiegi-pierwsze-piesn-vii.txt\n",
      "https://wolnelektury.pl/media/book/txt/piesni-ksiegi-pierwsze-piesn-viii.txt\n",
      "https://wolnelektury.pl/media/book/txt/piesni-ksiegi-pierwsze-piesn-x.txt\n"
     ]
    },
    {
     "name": "stderr",
     "output_type": "stream",
     "text": [
      " 66%|██████▋   | 3820/5750 [05:18<02:40, 12.00it/s]"
     ]
    },
    {
     "name": "stdout",
     "output_type": "stream",
     "text": [
      "https://wolnelektury.pl/media/book/txt/piesni-ksiegi-pierwsze-piesn-xi.txt\n",
      "https://wolnelektury.pl/media/book/txt/piesni-ksiegi-pierwsze-piesn-xii.txt\n",
      "https://wolnelektury.pl/media/book/txt/piesni-ksiegi-pierwsze-piesn-xiii.txt\n",
      "https://wolnelektury.pl/media/book/txt/piesni-ksiegi-pierwsze-piesn-xiv.txt\n"
     ]
    },
    {
     "name": "stderr",
     "output_type": "stream",
     "text": [
      " 67%|██████▋   | 3824/5750 [05:18<02:40, 12.00it/s]"
     ]
    },
    {
     "name": "stdout",
     "output_type": "stream",
     "text": [
      "https://wolnelektury.pl/media/book/txt/piesni-ksiegi-pierwsze-piesn-xix.txt\n",
      "https://wolnelektury.pl/media/book/txt/piesni-ksiegi-pierwsze-piesn-xv.txt\n",
      "https://wolnelektury.pl/media/book/txt/piesni-ksiegi-pierwsze-piesn-xvi.txt\n"
     ]
    },
    {
     "name": "stderr",
     "output_type": "stream",
     "text": [
      "\r",
      " 67%|██████▋   | 3826/5750 [05:18<02:40, 12.00it/s]"
     ]
    },
    {
     "name": "stdout",
     "output_type": "stream",
     "text": [
      "https://wolnelektury.pl/media/book/txt/piesni-ksiegi-pierwsze-piesn-xvii.txt\n",
      "https://wolnelektury.pl/media/book/txt/piesni-ksiegi-pierwsze-piesn-xviii.txt\n",
      "https://wolnelektury.pl/media/book/txt/piesni-ksiegi-pierwsze-piesn-xx.txt\n"
     ]
    },
    {
     "name": "stderr",
     "output_type": "stream",
     "text": [
      " 67%|██████▋   | 3830/5750 [05:19<02:39, 12.00it/s]"
     ]
    },
    {
     "name": "stdout",
     "output_type": "stream",
     "text": [
      "https://wolnelektury.pl/media/book/txt/piesni-ksiegi-pierwsze-piesn-xxi.txt\n",
      "https://wolnelektury.pl/media/book/txt/piesni-ksiegi-pierwsze-piesn-xxii.txt\n",
      "https://wolnelektury.pl/media/book/txt/piesni-ksiegi-pierwsze-piesn-xxiii.txt\n"
     ]
    },
    {
     "name": "stderr",
     "output_type": "stream",
     "text": [
      " 67%|██████▋   | 3834/5750 [05:19<02:39, 12.01it/s]"
     ]
    },
    {
     "name": "stdout",
     "output_type": "stream",
     "text": [
      "https://wolnelektury.pl/media/book/txt/piesni-ksiegi-pierwsze-piesn-xxiv.txt\n",
      "https://wolnelektury.pl/media/book/txt/piesni-ksiegi-pierwsze-piesn-xxv.txt\n",
      "https://wolnelektury.pl/media/book/txt/piesni-ksiegi-wtore.txt\n"
     ]
    },
    {
     "name": "stderr",
     "output_type": "stream",
     "text": [
      "\r",
      " 67%|██████▋   | 3836/5750 [05:19<02:39, 12.01it/s]"
     ]
    },
    {
     "name": "stdout",
     "output_type": "stream",
     "text": [
      "https://wolnelektury.pl/media/book/txt/piesni-ksiegi-wtore-piesn-i.txt\n",
      "https://wolnelektury.pl/media/book/txt/piesni-ksiegi-wtore-piesn-ii.txt\n",
      "https://wolnelektury.pl/media/book/txt/piesni-ksiegi-wtore-piesn-iii.txt\n",
      "https://wolnelektury.pl/media/book/txt/piesni-ksiegi-wtore-piesn-iv.txt\n"
     ]
    },
    {
     "name": "stderr",
     "output_type": "stream",
     "text": [
      " 67%|██████▋   | 3840/5750 [05:19<02:39, 12.01it/s]"
     ]
    },
    {
     "name": "stdout",
     "output_type": "stream",
     "text": [
      "https://wolnelektury.pl/media/book/txt/piesni-ksiegi-wtore-piesn-ix.txt\n",
      "https://wolnelektury.pl/media/book/txt/piesni-ksiegi-wtore-piesn-v.txt\n",
      "https://wolnelektury.pl/media/book/txt/piesni-ksiegi-wtore-piesn-vi.txt\n"
     ]
    },
    {
     "name": "stderr",
     "output_type": "stream",
     "text": [
      "\r",
      " 67%|██████▋   | 3842/5750 [05:19<02:38, 12.01it/s]"
     ]
    },
    {
     "name": "stdout",
     "output_type": "stream",
     "text": [
      "https://wolnelektury.pl/media/book/txt/piesni-ksiegi-wtore-piesn-vii.txt\n",
      "https://wolnelektury.pl/media/book/txt/piesni-ksiegi-wtore-piesn-viii.txt\n",
      "https://wolnelektury.pl/media/book/txt/piesni-ksiegi-wtore-piesn-x.txt\n"
     ]
    },
    {
     "name": "stderr",
     "output_type": "stream",
     "text": [
      " 67%|██████▋   | 3846/5750 [05:20<02:38, 12.01it/s]"
     ]
    },
    {
     "name": "stdout",
     "output_type": "stream",
     "text": [
      "https://wolnelektury.pl/media/book/txt/piesni-ksiegi-wtore-piesn-xi.txt\n",
      "https://wolnelektury.pl/media/book/txt/piesni-ksiegi-wtore-piesn-xii.txt\n",
      "https://wolnelektury.pl/media/book/txt/piesni-ksiegi-wtore-piesn-xiii.txt\n"
     ]
    },
    {
     "name": "stderr",
     "output_type": "stream",
     "text": [
      " 67%|██████▋   | 3850/5750 [05:20<02:38, 12.01it/s]"
     ]
    },
    {
     "name": "stdout",
     "output_type": "stream",
     "text": [
      "https://wolnelektury.pl/media/book/txt/piesni-ksiegi-wtore-piesn-xiv.txt\n",
      "https://wolnelektury.pl/media/book/txt/piesni-ksiegi-wtore-piesn-xix.txt\n",
      "https://wolnelektury.pl/media/book/txt/piesni-ksiegi-wtore-piesn-xv.txt\n",
      "https://wolnelektury.pl/media/book/txt/piesni-ksiegi-wtore-piesn-xvi.txt\n",
      "https://wolnelektury.pl/media/book/txt/piesni-ksiegi-wtore-piesn-xvii.txt\n"
     ]
    },
    {
     "name": "stderr",
     "output_type": "stream",
     "text": [
      " 67%|██████▋   | 3854/5750 [05:20<02:37, 12.02it/s]"
     ]
    },
    {
     "name": "stdout",
     "output_type": "stream",
     "text": [
      "https://wolnelektury.pl/media/book/txt/piesni-ksiegi-wtore-piesn-xviii.txt\n",
      "https://wolnelektury.pl/media/book/txt/piesni-ksiegi-wtore-piesn-xx.txt\n",
      "https://wolnelektury.pl/media/book/txt/piesni-ksiegi-wtore-piesn-xxi.txt\n"
     ]
    },
    {
     "name": "stderr",
     "output_type": "stream",
     "text": [
      "\r",
      " 67%|██████▋   | 3856/5750 [05:20<02:37, 12.02it/s]"
     ]
    },
    {
     "name": "stdout",
     "output_type": "stream",
     "text": [
      "https://wolnelektury.pl/media/book/txt/piesni-ksiegi-wtore-piesn-xxii.txt\n",
      "https://wolnelektury.pl/media/book/txt/piesni-ksiegi-wtore-piesn-xxiii.txt\n",
      "https://wolnelektury.pl/media/book/txt/piesni-ksiegi-wtore-piesn-xxiv.txt\n"
     ]
    },
    {
     "name": "stderr",
     "output_type": "stream",
     "text": [
      " 67%|██████▋   | 3860/5750 [05:21<02:37, 12.02it/s]"
     ]
    },
    {
     "name": "stdout",
     "output_type": "stream",
     "text": [
      "https://wolnelektury.pl/media/book/txt/piesni-nota-edytorska.txt\n",
      "https://wolnelektury.pl/media/book/txt/piesni-wilczek-ksiegi-pierwsze.txt\n",
      "https://wolnelektury.pl/media/book/txt/pieta.txt\n"
     ]
    },
    {
     "name": "stderr",
     "output_type": "stream",
     "text": [
      "\r",
      " 67%|██████▋   | 3862/5750 [05:21<02:37, 12.02it/s]"
     ]
    },
    {
     "name": "stdout",
     "output_type": "stream",
     "text": [
      "https://wolnelektury.pl/media/book/txt/pietaris-keidosiu-onute.txt\n",
      "https://wolnelektury.pl/media/book/txt/pietaris-kova-ties-zalgiriais.txt\n"
     ]
    },
    {
     "name": "stderr",
     "output_type": "stream",
     "text": [
      "\r",
      " 67%|██████▋   | 3864/5750 [05:21<02:36, 12.02it/s]"
     ]
    },
    {
     "name": "stdout",
     "output_type": "stream",
     "text": [
      "https://wolnelektury.pl/media/book/txt/pietaris-lietuviai-amziu-gludumuose.txt\n",
      "https://wolnelektury.pl/media/book/txt/pijak.txt\n",
      "https://wolnelektury.pl/media/book/txt/piosenka-dzieci.txt\n"
     ]
    },
    {
     "name": "stderr",
     "output_type": "stream",
     "text": [
      " 67%|██████▋   | 3868/5750 [05:21<02:36, 12.02it/s]"
     ]
    },
    {
     "name": "stdout",
     "output_type": "stream",
     "text": [
      "https://wolnelektury.pl/media/book/txt/piosenka-o-wilczku.txt\n",
      "https://wolnelektury.pl/media/book/txt/piosenka-w-kuzni.txt\n",
      "https://wolnelektury.pl/media/book/txt/piosenki-majowe.txt\n"
     ]
    },
    {
     "name": "stderr",
     "output_type": "stream",
     "text": [
      "\r",
      " 67%|██████▋   | 3870/5750 [05:21<02:36, 12.02it/s]"
     ]
    },
    {
     "name": "stdout",
     "output_type": "stream",
     "text": [
      "https://wolnelektury.pl/media/book/txt/piosnka-ulanska.txt\n",
      "https://wolnelektury.pl/media/book/txt/piosnka-zolnierska.txt\n",
      "https://wolnelektury.pl/media/book/txt/piotrus.txt\n"
     ]
    },
    {
     "name": "stderr",
     "output_type": "stream",
     "text": [
      " 67%|██████▋   | 3874/5750 [05:22<02:36, 12.02it/s]"
     ]
    },
    {
     "name": "stdout",
     "output_type": "stream",
     "text": [
      "https://wolnelektury.pl/media/book/txt/plama-i-lata.txt\n",
      "https://wolnelektury.pl/media/book/txt/planety.txt\n",
      "https://wolnelektury.pl/media/book/txt/planety-bazie.txt\n",
      "https://wolnelektury.pl/media/book/txt/planety-chlop-na-lany-wyszedl.txt\n"
     ]
    },
    {
     "name": "stderr",
     "output_type": "stream",
     "text": [
      " 67%|██████▋   | 3878/5750 [05:22<02:35, 12.02it/s]"
     ]
    },
    {
     "name": "stdout",
     "output_type": "stream",
     "text": [
      "https://wolnelektury.pl/media/book/txt/planety-gody.txt\n",
      "https://wolnelektury.pl/media/book/txt/planety-jasna-polana.txt\n",
      "https://wolnelektury.pl/media/book/txt/planety-nad-urwiskiem-i.txt\n"
     ]
    },
    {
     "name": "stderr",
     "output_type": "stream",
     "text": [
      "\r",
      " 67%|██████▋   | 3880/5750 [05:22<02:35, 12.02it/s]"
     ]
    },
    {
     "name": "stdout",
     "output_type": "stream",
     "text": [
      "https://wolnelektury.pl/media/book/txt/planety-nad-urwiskiem-ii.txt\n",
      "https://wolnelektury.pl/media/book/txt/planety-niedowiarek.txt\n",
      "https://wolnelektury.pl/media/book/txt/planety-piekielko.txt\n"
     ]
    },
    {
     "name": "stderr",
     "output_type": "stream",
     "text": [
      " 68%|██████▊   | 3884/5750 [05:23<02:35, 12.02it/s]"
     ]
    },
    {
     "name": "stdout",
     "output_type": "stream",
     "text": [
      "https://wolnelektury.pl/media/book/txt/planety-planety.txt\n",
      "https://wolnelektury.pl/media/book/txt/planety-po-omacku.txt\n",
      "https://wolnelektury.pl/media/book/txt/planety-przeklenstwo.txt\n"
     ]
    },
    {
     "name": "stderr",
     "output_type": "stream",
     "text": [
      "\r",
      " 68%|██████▊   | 3886/5750 [05:23<02:35, 12.02it/s]"
     ]
    },
    {
     "name": "stdout",
     "output_type": "stream",
     "text": [
      "https://wolnelektury.pl/media/book/txt/planety-wesoly-dzien.txt\n",
      "https://wolnelektury.pl/media/book/txt/planety-wilija.txt\n",
      "https://wolnelektury.pl/media/book/txt/platon-bajki-nowe.txt\n"
     ]
    },
    {
     "name": "stderr",
     "output_type": "stream",
     "text": [
      "\r",
      " 68%|██████▊   | 3888/5750 [05:23<02:34, 12.02it/s]"
     ]
    },
    {
     "name": "stdout",
     "output_type": "stream",
     "text": [
      "https://wolnelektury.pl/media/book/txt/plaut-zolnierz-samochwal.txt\n",
      "https://wolnelektury.pl/media/book/txt/plotka-o-weselu-wyspianskiego.txt\n"
     ]
    },
    {
     "name": "stderr",
     "output_type": "stream",
     "text": [
      " 68%|██████▊   | 3892/5750 [05:23<02:34, 12.02it/s]"
     ]
    },
    {
     "name": "stdout",
     "output_type": "stream",
     "text": [
      "https://wolnelektury.pl/media/book/txt/po-burzy.txt\n",
      "https://wolnelektury.pl/media/book/txt/po-ciemku.txt\n",
      "https://wolnelektury.pl/media/book/txt/po-pniu-i-po-bocianie.txt\n"
     ]
    },
    {
     "name": "stderr",
     "output_type": "stream",
     "text": [
      "\r",
      " 68%|██████▊   | 3894/5750 [05:23<02:34, 12.02it/s]"
     ]
    },
    {
     "name": "stdout",
     "output_type": "stream",
     "text": [
      "https://wolnelektury.pl/media/book/txt/poboznosc.txt\n",
      "https://wolnelektury.pl/media/book/txt/pobudka-wiosny.txt\n",
      "https://wolnelektury.pl/media/book/txt/pochodnia-i-swieca-bajki-nowe.txt\n"
     ]
    },
    {
     "name": "stderr",
     "output_type": "stream",
     "text": [
      "\r",
      " 68%|██████▊   | 3896/5750 [05:24<02:34, 12.02it/s]"
     ]
    },
    {
     "name": "stdout",
     "output_type": "stream",
     "text": [
      "https://wolnelektury.pl/media/book/txt/poczatek-powiesci.txt\n",
      "https://wolnelektury.pl/media/book/txt/pod-stara-wierzba.txt\n"
     ]
    },
    {
     "name": "stderr",
     "output_type": "stream",
     "text": [
      " 68%|██████▊   | 3900/5750 [05:24<02:33, 12.02it/s]"
     ]
    },
    {
     "name": "stdout",
     "output_type": "stream",
     "text": [
      "https://wolnelektury.pl/media/book/txt/pod-wrazeniem.txt\n",
      "https://wolnelektury.pl/media/book/txt/podczas-burzy.txt\n",
      "https://wolnelektury.pl/media/book/txt/podgornik-asymetria.txt\n",
      "https://wolnelektury.pl/media/book/txt/podgornik-awaria.txt\n"
     ]
    },
    {
     "name": "stderr",
     "output_type": "stream",
     "text": [
      " 68%|██████▊   | 3904/5750 [05:24<02:33, 12.02it/s]"
     ]
    },
    {
     "name": "stdout",
     "output_type": "stream",
     "text": [
      "https://wolnelektury.pl/media/book/txt/podgornik-bez-mozliwosci-ruchu-w-te-czy-we-w-te.txt\n",
      "https://wolnelektury.pl/media/book/txt/podgornik-bezkrwawe-lowy.txt\n",
      "https://wolnelektury.pl/media/book/txt/podgornik-bialystok-22-24-v-1996.txt\n"
     ]
    },
    {
     "name": "stderr",
     "output_type": "stream",
     "text": [
      "\r",
      " 68%|██████▊   | 3906/5750 [05:24<02:33, 12.02it/s]"
     ]
    },
    {
     "name": "stdout",
     "output_type": "stream",
     "text": [
      "https://wolnelektury.pl/media/book/txt/podgornik-brynow-latem.txt\n",
      "https://wolnelektury.pl/media/book/txt/podgornik-graffiti.txt\n",
      "https://wolnelektury.pl/media/book/txt/podgornik-hieny.txt\n"
     ]
    },
    {
     "name": "stderr",
     "output_type": "stream",
     "text": [
      " 68%|██████▊   | 3910/5750 [05:25<02:32, 12.03it/s]"
     ]
    },
    {
     "name": "stdout",
     "output_type": "stream",
     "text": [
      "https://wolnelektury.pl/media/book/txt/podgornik-jazda.txt\n",
      "https://wolnelektury.pl/media/book/txt/podgornik-list-do-marcina.txt\n",
      "https://wolnelektury.pl/media/book/txt/podgornik-literacki.txt\n",
      "https://wolnelektury.pl/media/book/txt/podgornik-naruszenie-wiersz-wtorny.txt\n"
     ]
    },
    {
     "name": "stderr",
     "output_type": "stream",
     "text": [
      " 68%|██████▊   | 3914/5750 [05:25<02:32, 12.03it/s]"
     ]
    },
    {
     "name": "stdout",
     "output_type": "stream",
     "text": [
      "https://wolnelektury.pl/media/book/txt/podgornik-nasz-ostatni-raz.txt\n",
      "https://wolnelektury.pl/media/book/txt/podgornik-nawroty.txt\n",
      "https://wolnelektury.pl/media/book/txt/podgornik-oddzial.txt\n",
      "https://wolnelektury.pl/media/book/txt/podgornik-plan-b.txt\n"
     ]
    },
    {
     "name": "stderr",
     "output_type": "stream",
     "text": [
      " 68%|██████▊   | 3918/5750 [05:25<02:32, 12.03it/s]"
     ]
    },
    {
     "name": "stdout",
     "output_type": "stream",
     "text": [
      "https://wolnelektury.pl/media/book/txt/podgornik-plodne-dni.txt\n",
      "https://wolnelektury.pl/media/book/txt/podgornik-prequel.txt\n",
      "https://wolnelektury.pl/media/book/txt/podgornik-proby-abstynencja.txt\n",
      "https://wolnelektury.pl/media/book/txt/podgornik-proby-negocjacji.txt\n"
     ]
    },
    {
     "name": "stderr",
     "output_type": "stream",
     "text": [
      " 68%|██████▊   | 3922/5750 [05:25<02:31, 12.03it/s]"
     ]
    },
    {
     "name": "stdout",
     "output_type": "stream",
     "text": [
      "https://wolnelektury.pl/media/book/txt/podgornik-prognoza-optymistyczna.txt\n",
      "https://wolnelektury.pl/media/book/txt/podgornik-przyzwalanie-odmawianie.txt\n",
      "https://wolnelektury.pl/media/book/txt/podgornik-rozstepy.txt\n"
     ]
    },
    {
     "name": "stderr",
     "output_type": "stream",
     "text": [
      " 68%|██████▊   | 3926/5750 [05:26<02:31, 12.04it/s]"
     ]
    },
    {
     "name": "stdout",
     "output_type": "stream",
     "text": [
      "https://wolnelektury.pl/media/book/txt/podgornik-sacrum-bulimiczne.txt\n",
      "https://wolnelektury.pl/media/book/txt/podgornik-sciolka-sylwia.txt\n",
      "https://wolnelektury.pl/media/book/txt/podgornik-snieg-retrospekcja.txt\n",
      "https://wolnelektury.pl/media/book/txt/podgornik-spoznienie.txt\n"
     ]
    },
    {
     "name": "stderr",
     "output_type": "stream",
     "text": [
      " 68%|██████▊   | 3930/5750 [05:26<02:31, 12.04it/s]"
     ]
    },
    {
     "name": "stdout",
     "output_type": "stream",
     "text": [
      "https://wolnelektury.pl/media/book/txt/podgornik-straze.txt\n",
      "https://wolnelektury.pl/media/book/txt/podgornik-suniecie-delikatnej-czarodziejskiej-rozdzki.txt\n",
      "https://wolnelektury.pl/media/book/txt/podgornik-szerokie-spektrum.txt\n",
      "https://wolnelektury.pl/media/book/txt/podgornik-te-drugie.txt\n"
     ]
    },
    {
     "name": "stderr",
     "output_type": "stream",
     "text": [
      " 68%|██████▊   | 3934/5750 [05:26<02:30, 12.04it/s]"
     ]
    },
    {
     "name": "stdout",
     "output_type": "stream",
     "text": [
      "https://wolnelektury.pl/media/book/txt/podgornik-telefon-milczy-albo-klamie.txt\n",
      "https://wolnelektury.pl/media/book/txt/podgornik-till-the-cops-come-knocking.txt\n",
      "https://wolnelektury.pl/media/book/txt/podgornik-tylko-dupki-ukrywaja-starosc.txt\n",
      "https://wolnelektury.pl/media/book/txt/podgornik-uciekinier-bez-powodu.txt\n"
     ]
    },
    {
     "name": "stderr",
     "output_type": "stream",
     "text": [
      " 68%|██████▊   | 3938/5750 [05:26<02:30, 12.05it/s]"
     ]
    },
    {
     "name": "stdout",
     "output_type": "stream",
     "text": [
      "https://wolnelektury.pl/media/book/txt/podgornik-unplugged.txt\n",
      "https://wolnelektury.pl/media/book/txt/podgornik-wiersz-dla-macka-meleckiego.txt\n",
      "https://wolnelektury.pl/media/book/txt/podgornik-wiersz-z-kluczem.txt\n",
      "https://wolnelektury.pl/media/book/txt/podgornik-zaslyszane.txt\n"
     ]
    },
    {
     "name": "stderr",
     "output_type": "stream",
     "text": [
      "\r",
      " 69%|██████▊   | 3940/5750 [05:27<02:30, 12.04it/s]"
     ]
    },
    {
     "name": "stdout",
     "output_type": "stream",
     "text": [
      "https://wolnelektury.pl/media/book/txt/podroze-beniamina-trzeciego.txt\n",
      "https://wolnelektury.pl/media/book/txt/podroze-guliwera.txt\n"
     ]
    },
    {
     "name": "stderr",
     "output_type": "stream",
     "text": [
      "\r",
      " 69%|██████▊   | 3942/5750 [05:27<02:30, 12.04it/s]"
     ]
    },
    {
     "name": "stdout",
     "output_type": "stream",
     "text": [
      "https://wolnelektury.pl/media/book/txt/podrozny.txt\n",
      "https://wolnelektury.pl/media/book/txt/podrozny-bajki-nowe.txt\n",
      "https://wolnelektury.pl/media/book/txt/podrozny-i-kaleka.txt\n"
     ]
    },
    {
     "name": "stderr",
     "output_type": "stream",
     "text": [
      " 69%|██████▊   | 3946/5750 [05:27<02:29, 12.04it/s]"
     ]
    },
    {
     "name": "stdout",
     "output_type": "stream",
     "text": [
      "https://wolnelektury.pl/media/book/txt/podrzutek.txt\n",
      "https://wolnelektury.pl/media/book/txt/podsiadlo-5-maja-1998-wiec-kiedy.txt\n",
      "https://wolnelektury.pl/media/book/txt/podsiadlo-atakowany-o-polnocy.txt\n",
      "https://wolnelektury.pl/media/book/txt/podsiadlo-bawiac-sie-teczowa-pilka-dawida.txt\n"
     ]
    },
    {
     "name": "stderr",
     "output_type": "stream",
     "text": [
      " 69%|██████▊   | 3950/5750 [05:27<02:29, 12.04it/s]"
     ]
    },
    {
     "name": "stdout",
     "output_type": "stream",
     "text": [
      "https://wolnelektury.pl/media/book/txt/podsiadlo-breaking-the-waves.txt\n",
      "https://wolnelektury.pl/media/book/txt/podsiadlo-chlopcy-z-placu-broni.txt\n",
      "https://wolnelektury.pl/media/book/txt/podsiadlo-chwytanie-powietrza.txt\n"
     ]
    },
    {
     "name": "stderr",
     "output_type": "stream",
     "text": [
      "\r",
      " 69%|██████▊   | 3952/5750 [05:28<02:29, 12.04it/s]"
     ]
    },
    {
     "name": "stdout",
     "output_type": "stream",
     "text": [
      "https://wolnelektury.pl/media/book/txt/podsiadlo-dlaczego.txt\n",
      "https://wolnelektury.pl/media/book/txt/podsiadlo-dlaczego-energetycy-nie-nosza-mizerykordii-w-kieszeniach-kombinezonow.txt\n",
      "https://wolnelektury.pl/media/book/txt/podsiadlo-dobrosov-niepewnosc.txt\n"
     ]
    },
    {
     "name": "stderr",
     "output_type": "stream",
     "text": [
      " 69%|██████▉   | 3956/5750 [05:28<02:28, 12.05it/s]"
     ]
    },
    {
     "name": "stdout",
     "output_type": "stream",
     "text": [
      "https://wolnelektury.pl/media/book/txt/podsiadlo-dotykany-wszedzie-szarym-mydlem-zmierzchu.txt\n",
      "https://wolnelektury.pl/media/book/txt/podsiadlo-drugie-zycie.txt\n",
      "https://wolnelektury.pl/media/book/txt/podsiadlo-dziewiaty-wiersz-przeciw-panstwu.txt\n",
      "https://wolnelektury.pl/media/book/txt/podsiadlo-glina-i-gumoleum.txt\n"
     ]
    },
    {
     "name": "stderr",
     "output_type": "stream",
     "text": [
      " 69%|██████▉   | 3960/5750 [05:28<02:28, 12.05it/s]"
     ]
    },
    {
     "name": "stdout",
     "output_type": "stream",
     "text": [
      "https://wolnelektury.pl/media/book/txt/podsiadlo-historia-fioletowego-podkoszulka.txt\n",
      "https://wolnelektury.pl/media/book/txt/podsiadlo-hymen.txt\n",
      "https://wolnelektury.pl/media/book/txt/podsiadlo-is-everything-going-to-be-all-right.txt\n"
     ]
    },
    {
     "name": "stderr",
     "output_type": "stream",
     "text": [
      " 69%|██████▉   | 3964/5750 [05:28<02:28, 12.05it/s]"
     ]
    },
    {
     "name": "stdout",
     "output_type": "stream",
     "text": [
      "https://wolnelektury.pl/media/book/txt/podsiadlo-kalejdoskop.txt\n",
      "https://wolnelektury.pl/media/book/txt/podsiadlo-kilka-przypuszczen-dotyczacych-natury-sniegu.txt\n",
      "https://wolnelektury.pl/media/book/txt/podsiadlo-kladac-dawidowi-pod-poduszke-prezenty.txt\n",
      "https://wolnelektury.pl/media/book/txt/podsiadlo-krzeslo-prawdy.txt\n"
     ]
    },
    {
     "name": "stderr",
     "output_type": "stream",
     "text": [
      "\r",
      " 69%|██████▉   | 3966/5750 [05:29<02:28, 12.05it/s]"
     ]
    },
    {
     "name": "stdout",
     "output_type": "stream",
     "text": [
      "https://wolnelektury.pl/media/book/txt/podsiadlo-ktos-kiedys.txt\n",
      "https://wolnelektury.pl/media/book/txt/podsiadlo-kult-ciala.txt\n",
      "https://wolnelektury.pl/media/book/txt/podsiadlo-lelow-niech-zyje-smierc.txt\n"
     ]
    },
    {
     "name": "stderr",
     "output_type": "stream",
     "text": [
      " 69%|██████▉   | 3970/5750 [05:29<02:27, 12.05it/s]"
     ]
    },
    {
     "name": "stdout",
     "output_type": "stream",
     "text": [
      "https://wolnelektury.pl/media/book/txt/podsiadlo-lubie-patrzec.txt\n",
      "https://wolnelektury.pl/media/book/txt/podsiadlo-melzak-piegowata-pieknosc.txt\n",
      "https://wolnelektury.pl/media/book/txt/podsiadlo-miedzygorze-drzwi.txt\n",
      "https://wolnelektury.pl/media/book/txt/podsiadlo-mlyny-boze.txt\n"
     ]
    },
    {
     "name": "stderr",
     "output_type": "stream",
     "text": [
      " 69%|██████▉   | 3974/5750 [05:29<02:27, 12.06it/s]"
     ]
    },
    {
     "name": "stdout",
     "output_type": "stream",
     "text": [
      "https://wolnelektury.pl/media/book/txt/podsiadlo-na-skraju-puszczy-solskiej.txt\n",
      "https://wolnelektury.pl/media/book/txt/podsiadlo-nietzsche-hanba-jest-byc-szczesliwym.txt\n",
      "https://wolnelektury.pl/media/book/txt/podsiadlo-niewiele.txt\n"
     ]
    },
    {
     "name": "stderr",
     "output_type": "stream",
     "text": [
      " 69%|██████▉   | 3978/5750 [05:29<02:26, 12.06it/s]"
     ]
    },
    {
     "name": "stdout",
     "output_type": "stream",
     "text": [
      "https://wolnelektury.pl/media/book/txt/podsiadlo-od-rana-skrzypienie-dulek.txt\n",
      "https://wolnelektury.pl/media/book/txt/podsiadlo-ogien-lod.txt\n",
      "https://wolnelektury.pl/media/book/txt/podsiadlo-paseczki-krateczka-desenie.txt\n",
      "https://wolnelektury.pl/media/book/txt/podsiadlo-pelnia.txt\n"
     ]
    },
    {
     "name": "stderr",
     "output_type": "stream",
     "text": [
      "\r",
      " 69%|██████▉   | 3980/5750 [05:30<02:26, 12.06it/s]"
     ]
    },
    {
     "name": "stdout",
     "output_type": "stream",
     "text": [
      "https://wolnelektury.pl/media/book/txt/podsiadlo-po-tysiacu-lat-ciszy.txt\n",
      "https://wolnelektury.pl/media/book/txt/podsiadlo-potrzeba-wiary.txt\n",
      "https://wolnelektury.pl/media/book/txt/podsiadlo-powrot-do-anny-marii.txt\n"
     ]
    },
    {
     "name": "stderr",
     "output_type": "stream",
     "text": [
      " 69%|██████▉   | 3984/5750 [05:30<02:26, 12.06it/s]"
     ]
    },
    {
     "name": "stdout",
     "output_type": "stream",
     "text": [
      "https://wolnelektury.pl/media/book/txt/podsiadlo-pozytywka.txt\n",
      "https://wolnelektury.pl/media/book/txt/podsiadlo-proba-czasu.txt\n",
      "https://wolnelektury.pl/media/book/txt/podsiadlo-przychodzi-baba-do-lekarza-i-mowi-nie-czuje-bolu.txt\n",
      "https://wolnelektury.pl/media/book/txt/podsiadlo-rozproszenie.txt\n"
     ]
    },
    {
     "name": "stderr",
     "output_type": "stream",
     "text": [
      " 69%|██████▉   | 3988/5750 [05:30<02:26, 12.06it/s]"
     ]
    },
    {
     "name": "stdout",
     "output_type": "stream",
     "text": [
      "https://wolnelektury.pl/media/book/txt/podsiadlo-sobie-na-33-urodziny.txt\n",
      "https://wolnelektury.pl/media/book/txt/podsiadlo-teren-prywatny-wstep-platny.txt\n",
      "https://wolnelektury.pl/media/book/txt/podsiadlo-thoreau-wstawaj-wolny-od-trosk-przed-switem-i-poszukuj-przygod.txt\n"
     ]
    },
    {
     "name": "stderr",
     "output_type": "stream",
     "text": [
      " 69%|██████▉   | 3992/5750 [05:30<02:25, 12.07it/s]"
     ]
    },
    {
     "name": "stdout",
     "output_type": "stream",
     "text": [
      "https://wolnelektury.pl/media/book/txt/podsiadlo-tutaj-czas-sie-zatrzymal.txt\n",
      "https://wolnelektury.pl/media/book/txt/podsiadlo-ukladam-w-szufladzie-piec-harmonijek-ustnych.txt\n",
      "https://wolnelektury.pl/media/book/txt/podsiadlo-usta-usta.txt\n",
      "https://wolnelektury.pl/media/book/txt/podsiadlo-vanitas-et-omnia-vanitas.txt\n"
     ]
    },
    {
     "name": "stderr",
     "output_type": "stream",
     "text": [
      "\r",
      " 69%|██████▉   | 3994/5750 [05:30<02:25, 12.07it/s]"
     ]
    },
    {
     "name": "stdout",
     "output_type": "stream",
     "text": [
      "https://wolnelektury.pl/media/book/txt/podsiadlo-wielkanoc-koniec-wieku-bylem-toba.txt\n",
      "https://wolnelektury.pl/media/book/txt/podsiadlo-wolosaty.txt\n",
      "https://wolnelektury.pl/media/book/txt/podsiadlo-wstalem-o-piatej.txt\n"
     ]
    },
    {
     "name": "stderr",
     "output_type": "stream",
     "text": [
      " 70%|██████▉   | 3998/5750 [05:31<02:25, 12.07it/s]"
     ]
    },
    {
     "name": "stdout",
     "output_type": "stream",
     "text": [
      "https://wolnelektury.pl/media/book/txt/podsiadlo-wychwyt-grahama.txt\n",
      "https://wolnelektury.pl/media/book/txt/podsiadlo-wychwyt-grahama-motto.txt\n",
      "https://wolnelektury.pl/media/book/txt/podsiadlo-wylania-sie-z-gaszczu-nad-rzeka.txt\n",
      "https://wolnelektury.pl/media/book/txt/podsiadlo-zawsze-mow-wyborcy-to-co-chce-uslyszec.txt\n"
     ]
    },
    {
     "name": "stderr",
     "output_type": "stream",
     "text": [
      " 70%|██████▉   | 4002/5750 [05:31<02:24, 12.07it/s]"
     ]
    },
    {
     "name": "stdout",
     "output_type": "stream",
     "text": [
      "https://wolnelektury.pl/media/book/txt/poematy-zazdrosne.txt\n",
      "https://wolnelektury.pl/media/book/txt/poematy-zazdrosne-ballada-o-dumnym-rycerzu.txt\n",
      "https://wolnelektury.pl/media/book/txt/poeta-i-natchnienie.txt\n"
     ]
    },
    {
     "name": "stderr",
     "output_type": "stream",
     "text": [
      "\r",
      " 70%|██████▉   | 4004/5750 [05:31<02:24, 12.07it/s]"
     ]
    },
    {
     "name": "stdout",
     "output_type": "stream",
     "text": [
      "https://wolnelektury.pl/media/book/txt/poglady-ksiedza-hieronima-coignarda.txt\n",
      "https://wolnelektury.pl/media/book/txt/pogrobek.txt\n"
     ]
    },
    {
     "name": "stderr",
     "output_type": "stream",
     "text": [
      "\r",
      " 70%|██████▉   | 4006/5750 [05:32<02:24, 12.06it/s]"
     ]
    },
    {
     "name": "stdout",
     "output_type": "stream",
     "text": [
      "https://wolnelektury.pl/media/book/txt/pogrzeb-kapitana-meyznera.txt\n",
      "https://wolnelektury.pl/media/book/txt/pogrzeb-ptaszka.txt\n",
      "https://wolnelektury.pl/media/book/txt/pojdzmy-wszyscy-do-stajenki.txt\n"
     ]
    },
    {
     "name": "stderr",
     "output_type": "stream",
     "text": [
      " 70%|██████▉   | 4010/5750 [05:32<02:24, 12.07it/s]"
     ]
    },
    {
     "name": "stdout",
     "output_type": "stream",
     "text": [
      "https://wolnelektury.pl/media/book/txt/pokocilo-sie-i-dam-noge.txt\n",
      "https://wolnelektury.pl/media/book/txt/pokoik-zosi.txt\n",
      "https://wolnelektury.pl/media/book/txt/pokoj-hotelu-pusty-i-posepny.txt\n"
     ]
    },
    {
     "name": "stderr",
     "output_type": "stream",
     "text": [
      " 70%|██████▉   | 4014/5750 [05:32<02:23, 12.07it/s]"
     ]
    },
    {
     "name": "stdout",
     "output_type": "stream",
     "text": [
      "https://wolnelektury.pl/media/book/txt/pol-dzwon.txt\n",
      "https://wolnelektury.pl/media/book/txt/polkula-w-lokach.txt\n",
      "https://wolnelektury.pl/media/book/txt/polnoc-juz-byla.txt\n",
      "https://wolnelektury.pl/media/book/txt/polny-kwiatek.txt\n"
     ]
    },
    {
     "name": "stderr",
     "output_type": "stream",
     "text": [
      "\r",
      " 70%|██████▉   | 4016/5750 [05:32<02:23, 12.07it/s]"
     ]
    },
    {
     "name": "stdout",
     "output_type": "stream",
     "text": [
      "https://wolnelektury.pl/media/book/txt/polonez-kosciuszki.txt\n",
      "https://wolnelektury.pl/media/book/txt/polowa-zycia.txt\n",
      "https://wolnelektury.pl/media/book/txt/polowanie-na-zone.txt\n"
     ]
    },
    {
     "name": "stderr",
     "output_type": "stream",
     "text": [
      " 70%|██████▉   | 4020/5750 [05:33<02:23, 12.07it/s]"
     ]
    },
    {
     "name": "stdout",
     "output_type": "stream",
     "text": [
      "https://wolnelektury.pl/media/book/txt/pomoc-dajcie-mi-rodacy.txt\n",
      "https://wolnelektury.pl/media/book/txt/popas-w-upicie.txt\n",
      "https://wolnelektury.pl/media/book/txt/popioly-tom-drugi.txt\n",
      "https://wolnelektury.pl/media/book/txt/popioly-tom-pierwszy.txt\n"
     ]
    },
    {
     "name": "stderr",
     "output_type": "stream",
     "text": [
      "\r",
      " 70%|██████▉   | 4022/5750 [05:33<02:23, 12.06it/s]"
     ]
    },
    {
     "name": "stdout",
     "output_type": "stream",
     "text": [
      "https://wolnelektury.pl/media/book/txt/popioly-tom-trzeci.txt\n"
     ]
    },
    {
     "name": "stderr",
     "output_type": "stream",
     "text": [
      "\r",
      " 70%|██████▉   | 4024/5750 [05:33<02:23, 12.05it/s]"
     ]
    },
    {
     "name": "stdout",
     "output_type": "stream",
     "text": [
      "https://wolnelektury.pl/media/book/txt/poranek-filonka.txt\n",
      "https://wolnelektury.pl/media/book/txt/porcelanka.txt\n",
      "https://wolnelektury.pl/media/book/txt/porta-nigra.txt\n"
     ]
    },
    {
     "name": "stderr",
     "output_type": "stream",
     "text": [
      " 70%|███████   | 4028/5750 [05:34<02:22, 12.05it/s]"
     ]
    },
    {
     "name": "stdout",
     "output_type": "stream",
     "text": [
      "https://wolnelektury.pl/media/book/txt/portret-owalny.txt\n",
      "https://wolnelektury.pl/media/book/txt/poskromienie-zlosnicy.txt\n"
     ]
    },
    {
     "name": "stderr",
     "output_type": "stream",
     "text": [
      " 70%|███████   | 4032/5750 [05:34<02:22, 12.05it/s]"
     ]
    },
    {
     "name": "stdout",
     "output_type": "stream",
     "text": [
      "https://wolnelektury.pl/media/book/txt/potocki-bespieczenstwo-drabskie.txt\n",
      "https://wolnelektury.pl/media/book/txt/potocki-chwala-dzieci-pawia.txt\n",
      "https://wolnelektury.pl/media/book/txt/potocki-cudzoziemskie-cwiczenia.txt\n",
      "https://wolnelektury.pl/media/book/txt/potocki-czlowiek-nad-apetyt-jesc-nie-moze-pic-moze.txt\n",
      "https://wolnelektury.pl/media/book/txt/potocki-dla-sciezki-drogi-nie-opuszczaj.txt\n"
     ]
    },
    {
     "name": "stderr",
     "output_type": "stream",
     "text": [
      " 70%|███████   | 4036/5750 [05:34<02:22, 12.06it/s]"
     ]
    },
    {
     "name": "stdout",
     "output_type": "stream",
     "text": [
      "https://wolnelektury.pl/media/book/txt/potocki-epimenidow-sen.txt\n",
      "https://wolnelektury.pl/media/book/txt/potocki-mila-jest-roznosc-w-rzeczach.txt\n",
      "https://wolnelektury.pl/media/book/txt/potocki-na-chlopow-podgorskich.txt\n",
      "https://wolnelektury.pl/media/book/txt/potocki-na-urzad-podczaszego.txt\n"
     ]
    },
    {
     "name": "stderr",
     "output_type": "stream",
     "text": [
      "\r",
      " 70%|███████   | 4038/5750 [05:34<02:21, 12.06it/s]"
     ]
    },
    {
     "name": "stdout",
     "output_type": "stream",
     "text": [
      "https://wolnelektury.pl/media/book/txt/potocki-nie-miejsce-czleka-ale-czlek-honoruje-miejsce.txt\n",
      "https://wolnelektury.pl/media/book/txt/potocki-nie-mijaj-murowanego-komina.txt\n",
      "https://wolnelektury.pl/media/book/txt/potocki-nie-za-nas-to-powstalo.txt\n"
     ]
    },
    {
     "name": "stderr",
     "output_type": "stream",
     "text": [
      " 70%|███████   | 4042/5750 [05:35<02:21, 12.06it/s]"
     ]
    },
    {
     "name": "stdout",
     "output_type": "stream",
     "text": [
      "https://wolnelektury.pl/media/book/txt/potocki-niewiescie-i-po-smierci-nie-wierz.txt\n",
      "https://wolnelektury.pl/media/book/txt/potocki-o-fraszkach.txt\n",
      "https://wolnelektury.pl/media/book/txt/potocki-pan-kurek-panne-maglownice.txt\n",
      "https://wolnelektury.pl/media/book/txt/potocki-piesn-fraszka-ten-swiat-i-zloto.txt\n"
     ]
    },
    {
     "name": "stderr",
     "output_type": "stream",
     "text": [
      " 70%|███████   | 4046/5750 [05:35<02:21, 12.06it/s]"
     ]
    },
    {
     "name": "stdout",
     "output_type": "stream",
     "text": [
      "https://wolnelektury.pl/media/book/txt/potocki-pile-ciskac.txt\n",
      "https://wolnelektury.pl/media/book/txt/potok-i-rzeka.txt\n",
      "https://wolnelektury.pl/media/book/txt/potok-i-rzeka-ii.txt\n",
      "https://wolnelektury.pl/media/book/txt/potop.txt\n"
     ]
    },
    {
     "name": "stderr",
     "output_type": "stream",
     "text": [
      "\r",
      " 70%|███████   | 4048/5750 [05:35<02:21, 12.07it/s]"
     ]
    },
    {
     "name": "stdout",
     "output_type": "stream",
     "text": [
      "https://wolnelektury.pl/media/book/txt/potop-tom-drugi.txt\n",
      "https://wolnelektury.pl/media/book/txt/potop-tom-pierwszy.txt\n"
     ]
    },
    {
     "name": "stderr",
     "output_type": "stream",
     "text": [
      "\r",
      " 70%|███████   | 4050/5750 [05:36<02:21, 12.05it/s]"
     ]
    },
    {
     "name": "stdout",
     "output_type": "stream",
     "text": [
      "https://wolnelektury.pl/media/book/txt/potop-tom-trzeci.txt\n"
     ]
    },
    {
     "name": "stderr",
     "output_type": "stream",
     "text": [
      "\r",
      " 70%|███████   | 4052/5750 [05:36<02:21, 12.04it/s]"
     ]
    },
    {
     "name": "stdout",
     "output_type": "stream",
     "text": [
      "https://wolnelektury.pl/media/book/txt/potwarz.txt\n",
      "https://wolnelektury.pl/media/book/txt/powiesc-o-udalym-walgierzu.txt\n",
      "https://wolnelektury.pl/media/book/txt/powiesci-fantastyczne.txt\n"
     ]
    },
    {
     "name": "stderr",
     "output_type": "stream",
     "text": [
      " 71%|███████   | 4056/5750 [05:36<02:20, 12.04it/s]"
     ]
    },
    {
     "name": "stdout",
     "output_type": "stream",
     "text": [
      "https://wolnelektury.pl/media/book/txt/powiesci-fantastyczne-don-juan.txt\n",
      "https://wolnelektury.pl/media/book/txt/powiesci-fantastyczne-kawaler-gluck.txt\n",
      "https://wolnelektury.pl/media/book/txt/powiesci-fantastyczne-majorat.txt\n"
     ]
    },
    {
     "name": "stderr",
     "output_type": "stream",
     "text": [
      "\r",
      " 71%|███████   | 4058/5750 [05:37<02:20, 12.04it/s]"
     ]
    },
    {
     "name": "stdout",
     "output_type": "stream",
     "text": [
      "https://wolnelektury.pl/media/book/txt/powiesci-fantastyczne-narozne-okno.txt\n",
      "https://wolnelektury.pl/media/book/txt/powiesci-fantastyczne-piaskun.txt\n"
     ]
    },
    {
     "name": "stderr",
     "output_type": "stream",
     "text": [
      "\r",
      " 71%|███████   | 4060/5750 [05:37<02:20, 12.04it/s]"
     ]
    },
    {
     "name": "stdout",
     "output_type": "stream",
     "text": [
      "https://wolnelektury.pl/media/book/txt/powiesci-fantastyczne-przedmowa.txt\n",
      "https://wolnelektury.pl/media/book/txt/powiesci-fantastyczne-skrzypce-z-cremony.txt\n",
      "https://wolnelektury.pl/media/book/txt/powiesci-fantastyczne-slub.txt\n"
     ]
    },
    {
     "name": "stderr",
     "output_type": "stream",
     "text": [
      " 71%|███████   | 4064/5750 [05:37<02:20, 12.04it/s]"
     ]
    },
    {
     "name": "stdout",
     "output_type": "stream",
     "text": [
      "https://wolnelektury.pl/media/book/txt/powiesci-fantastyczne-wybor-narzeczonej.txt\n",
      "https://wolnelektury.pl/media/book/txt/powinszowanie-lizusia.txt\n",
      "https://wolnelektury.pl/media/book/txt/powitanie-wiosenki.txt\n"
     ]
    },
    {
     "name": "stderr",
     "output_type": "stream",
     "text": [
      "\r",
      " 71%|███████   | 4066/5750 [05:37<02:19, 12.03it/s]"
     ]
    },
    {
     "name": "stdout",
     "output_type": "stream",
     "text": [
      "https://wolnelektury.pl/media/book/txt/powracajaca-fala.txt\n",
      "https://wolnelektury.pl/media/book/txt/powrot-do-chleba.txt\n"
     ]
    },
    {
     "name": "stderr",
     "output_type": "stream",
     "text": [
      "\r",
      " 71%|███████   | 4068/5750 [05:38<02:19, 12.03it/s]"
     ]
    },
    {
     "name": "stdout",
     "output_type": "stream",
     "text": [
      "https://wolnelektury.pl/media/book/txt/powrot-posla.txt\n",
      "https://wolnelektury.pl/media/book/txt/powrot-ptakow.txt\n",
      "https://wolnelektury.pl/media/book/txt/powrot-z-warszawy-na-wies.txt\n"
     ]
    },
    {
     "name": "stderr",
     "output_type": "stream",
     "text": [
      " 71%|███████   | 4072/5750 [05:38<02:19, 12.04it/s]"
     ]
    },
    {
     "name": "stdout",
     "output_type": "stream",
     "text": [
      "https://wolnelektury.pl/media/book/txt/pozdrowienie-anielskie-w-narodzie-polskim.txt\n",
      "https://wolnelektury.pl/media/book/txt/pozegnanie-rzymu.txt\n",
      "https://wolnelektury.pl/media/book/txt/pozegnanie-z-lindora-w-gorach.txt\n"
     ]
    },
    {
     "name": "stderr",
     "output_type": "stream",
     "text": [
      " 71%|███████   | 4076/5750 [05:38<02:19, 12.04it/s]"
     ]
    },
    {
     "name": "stdout",
     "output_type": "stream",
     "text": [
      "https://wolnelektury.pl/media/book/txt/praca.txt\n",
      "https://wolnelektury.pl/media/book/txt/pragnienie-serca.txt\n",
      "https://wolnelektury.pl/media/book/txt/pranie.txt\n",
      "https://wolnelektury.pl/media/book/txt/prawda-satyryk-i-panegirysta.txt\n"
     ]
    },
    {
     "name": "stderr",
     "output_type": "stream",
     "text": [
      "\r",
      " 71%|███████   | 4078/5750 [05:38<02:18, 12.04it/s]"
     ]
    },
    {
     "name": "stdout",
     "output_type": "stream",
     "text": [
      "https://wolnelektury.pl/media/book/txt/prawdziwy-opis-wypadku-z-p-waldemarem.txt\n",
      "https://wolnelektury.pl/media/book/txt/prawidla-zycia.txt\n",
      "https://wolnelektury.pl/media/book/txt/prawo-dziecka-szacunku.txt\n"
     ]
    },
    {
     "name": "stderr",
     "output_type": "stream",
     "text": [
      "\r",
      " 71%|███████   | 4080/5750 [05:38<02:18, 12.04it/s]"
     ]
    },
    {
     "name": "stdout",
     "output_type": "stream",
     "text": [
      "https://wolnelektury.pl/media/book/txt/proby.txt\n",
      "https://wolnelektury.pl/media/book/txt/proby-ksiega-druga.txt\n"
     ]
    },
    {
     "name": "stderr",
     "output_type": "stream",
     "text": [
      "\r",
      " 71%|███████   | 4082/5750 [05:39<02:18, 12.03it/s]"
     ]
    },
    {
     "name": "stdout",
     "output_type": "stream",
     "text": [
      "https://wolnelektury.pl/media/book/txt/proby-ksiega-pierwsza.txt\n",
      "https://wolnelektury.pl/media/book/txt/proby-ksiega-trzecia.txt\n"
     ]
    },
    {
     "name": "stderr",
     "output_type": "stream",
     "text": [
      "\r",
      " 71%|███████   | 4084/5750 [05:39<02:18, 12.02it/s]"
     ]
    },
    {
     "name": "stdout",
     "output_type": "stream",
     "text": [
      "https://wolnelektury.pl/media/book/txt/profesor-milczek.txt\n",
      "https://wolnelektury.pl/media/book/txt/profesor-wilczur.txt\n"
     ]
    },
    {
     "name": "stderr",
     "output_type": "stream",
     "text": [
      " 71%|███████   | 4088/5750 [05:40<02:18, 12.01it/s]"
     ]
    },
    {
     "name": "stdout",
     "output_type": "stream",
     "text": [
      "https://wolnelektury.pl/media/book/txt/prometeusz.txt\n",
      "https://wolnelektury.pl/media/book/txt/promethidion.txt\n",
      "https://wolnelektury.pl/media/book/txt/proroctwo.txt\n"
     ]
    },
    {
     "name": "stderr",
     "output_type": "stream",
     "text": [
      "\r",
      " 71%|███████   | 4090/5750 [05:40<02:18, 12.02it/s]"
     ]
    },
    {
     "name": "stdout",
     "output_type": "stream",
     "text": [
      "https://wolnelektury.pl/media/book/txt/prosba-filusia.txt\n",
      "https://wolnelektury.pl/media/book/txt/prosto-z-pensyi.txt\n",
      "https://wolnelektury.pl/media/book/txt/proust-i-jego-swiat.txt\n"
     ]
    },
    {
     "name": "stderr",
     "output_type": "stream",
     "text": [
      "\r",
      " 71%|███████   | 4092/5750 [05:40<02:18, 12.01it/s]"
     ]
    },
    {
     "name": "stdout",
     "output_type": "stream",
     "text": [
      "https://wolnelektury.pl/media/book/txt/proust-utracona.txt\n"
     ]
    },
    {
     "name": "stderr",
     "output_type": "stream",
     "text": [
      "\r",
      " 71%|███████   | 4094/5750 [05:40<02:17, 12.01it/s]"
     ]
    },
    {
     "name": "stdout",
     "output_type": "stream",
     "text": [
      "https://wolnelektury.pl/media/book/txt/prowadzil-mnie-na-bardzo-ciemne-wezowisko.txt\n",
      "https://wolnelektury.pl/media/book/txt/prowincjalki.txt\n"
     ]
    },
    {
     "name": "stderr",
     "output_type": "stream",
     "text": [
      "\r",
      " 71%|███████   | 4095/5750 [05:41<02:17, 12.00it/s]"
     ]
    },
    {
     "name": "stdout",
     "output_type": "stream",
     "text": [
      "https://wolnelektury.pl/media/book/txt/prozno-w-swej-duszy.txt\n",
      "https://wolnelektury.pl/media/book/txt/prus-anielka.txt\n"
     ]
    },
    {
     "name": "stderr",
     "output_type": "stream",
     "text": [
      " 71%|███████▏  | 4099/5750 [05:41<02:17, 12.00it/s]"
     ]
    },
    {
     "name": "stdout",
     "output_type": "stream",
     "text": [
      "https://wolnelektury.pl/media/book/txt/prus-cienie.txt\n",
      "https://wolnelektury.pl/media/book/txt/prus-dziwna-historia.txt\n",
      "https://wolnelektury.pl/media/book/txt/prus-grzechy-dziecinstwa.txt\n"
     ]
    },
    {
     "name": "stderr",
     "output_type": "stream",
     "text": [
      "\r",
      " 71%|███████▏  | 4101/5750 [05:41<02:17, 12.00it/s]"
     ]
    },
    {
     "name": "stdout",
     "output_type": "stream",
     "text": [
      "https://wolnelektury.pl/media/book/txt/prus-lokator-poddasza.txt\n",
      "https://wolnelektury.pl/media/book/txt/prus-michalko.txt\n",
      "https://wolnelektury.pl/media/book/txt/prus-na-saskiej-kepie.txt\n"
     ]
    },
    {
     "name": "stderr",
     "output_type": "stream",
     "text": [
      " 71%|███████▏  | 4105/5750 [05:42<02:17, 12.00it/s]"
     ]
    },
    {
     "name": "stdout",
     "output_type": "stream",
     "text": [
      "https://wolnelektury.pl/media/book/txt/prus-na-wakacjach.txt\n",
      "https://wolnelektury.pl/media/book/txt/prus-nawrocony.txt\n",
      "https://wolnelektury.pl/media/book/txt/prus-ogrod-saski.txt\n"
     ]
    },
    {
     "name": "stderr",
     "output_type": "stream",
     "text": [
      "\r",
      " 71%|███████▏  | 4107/5750 [05:42<02:16, 12.00it/s]"
     ]
    },
    {
     "name": "stdout",
     "output_type": "stream",
     "text": [
      "https://wolnelektury.pl/media/book/txt/prus-omylka.txt\n",
      "https://wolnelektury.pl/media/book/txt/prus-pan-wesolowski-i-jego-kij.txt\n",
      "https://wolnelektury.pl/media/book/txt/prus-placowka.txt\n"
     ]
    },
    {
     "name": "stderr",
     "output_type": "stream",
     "text": [
      " 71%|███████▏  | 4111/5750 [05:42<02:16, 11.99it/s]"
     ]
    },
    {
     "name": "stdout",
     "output_type": "stream",
     "text": [
      "https://wolnelektury.pl/media/book/txt/prus-pod-szychtami.txt\n",
      "https://wolnelektury.pl/media/book/txt/prus-pojednani.txt\n",
      "https://wolnelektury.pl/media/book/txt/prus-powiastki-cmentarne.txt\n"
     ]
    },
    {
     "name": "stderr",
     "output_type": "stream",
     "text": [
      "\r",
      " 72%|███████▏  | 4113/5750 [05:42<02:16, 11.99it/s]"
     ]
    },
    {
     "name": "stdout",
     "output_type": "stream",
     "text": [
      "https://wolnelektury.pl/media/book/txt/prus-przeklete-szczescie.txt\n",
      "https://wolnelektury.pl/media/book/txt/prus-przygoda-stasia.txt\n"
     ]
    },
    {
     "name": "stderr",
     "output_type": "stream",
     "text": [
      "\r",
      " 72%|███████▏  | 4115/5750 [05:43<02:16, 11.99it/s]"
     ]
    },
    {
     "name": "stdout",
     "output_type": "stream",
     "text": [
      "https://wolnelektury.pl/media/book/txt/prus-sukienka-balowa.txt\n",
      "https://wolnelektury.pl/media/book/txt/prus-wigilia.txt\n",
      "https://wolnelektury.pl/media/book/txt/prus-zywy-telegraf.txt\n"
     ]
    },
    {
     "name": "stderr",
     "output_type": "stream",
     "text": [
      " 72%|███████▏  | 4119/5750 [05:43<02:15, 11.99it/s]"
     ]
    },
    {
     "name": "stdout",
     "output_type": "stream",
     "text": [
      "https://wolnelektury.pl/media/book/txt/przebudzenie-jehowy.txt\n",
      "https://wolnelektury.pl/media/book/txt/przechadzka.txt\n",
      "https://wolnelektury.pl/media/book/txt/przedswit.txt\n",
      "https://wolnelektury.pl/media/book/txt/przedwiosnie.txt\n"
     ]
    },
    {
     "name": "stderr",
     "output_type": "stream",
     "text": [
      " 72%|███████▏  | 4123/5750 [05:43<02:15, 11.99it/s]"
     ]
    },
    {
     "name": "stdout",
     "output_type": "stream",
     "text": [
      "https://wolnelektury.pl/media/book/txt/przeklestwo-do.txt\n",
      "https://wolnelektury.pl/media/book/txt/przepiorki.txt\n",
      "https://wolnelektury.pl/media/book/txt/przerwa-tetmajer-achilles.txt\n"
     ]
    },
    {
     "name": "stderr",
     "output_type": "stream",
     "text": [
      "\r",
      " 72%|███████▏  | 4125/5750 [05:44<02:15, 11.99it/s]"
     ]
    },
    {
     "name": "stdout",
     "output_type": "stream",
     "text": [
      "https://wolnelektury.pl/media/book/txt/przerwa-tetmajer-byl-czas.txt\n",
      "https://wolnelektury.pl/media/book/txt/przerwa-tetmajer-capri.txt\n",
      "https://wolnelektury.pl/media/book/txt/przerwa-tetmajer-daleki-swiecie.txt\n"
     ]
    },
    {
     "name": "stderr",
     "output_type": "stream",
     "text": [
      " 72%|███████▏  | 4129/5750 [05:44<02:15, 11.99it/s]"
     ]
    },
    {
     "name": "stdout",
     "output_type": "stream",
     "text": [
      "https://wolnelektury.pl/media/book/txt/przerwa-tetmajer-dziwna-chwila.txt\n",
      "https://wolnelektury.pl/media/book/txt/przerwa-tetmajer-gwiazdy.txt\n",
      "https://wolnelektury.pl/media/book/txt/przerwa-tetmajer-herakles.txt\n",
      "https://wolnelektury.pl/media/book/txt/przerwa-tetmajer-hymn-to-nirvana.txt\n"
     ]
    },
    {
     "name": "stderr",
     "output_type": "stream",
     "text": [
      " 72%|███████▏  | 4133/5750 [05:44<02:14, 11.99it/s]"
     ]
    },
    {
     "name": "stdout",
     "output_type": "stream",
     "text": [
      "https://wolnelektury.pl/media/book/txt/przerwa-tetmajer-ironia.txt\n",
      "https://wolnelektury.pl/media/book/txt/przerwa-tetmajer-judasz.txt\n",
      "https://wolnelektury.pl/media/book/txt/przerwa-tetmajer-kolumny-samsona.txt\n"
     ]
    },
    {
     "name": "stderr",
     "output_type": "stream",
     "text": [
      "\r",
      " 72%|███████▏  | 4135/5750 [05:44<02:14, 11.99it/s]"
     ]
    },
    {
     "name": "stdout",
     "output_type": "stream",
     "text": [
      "https://wolnelektury.pl/media/book/txt/przerwa-tetmajer-muszla.txt\n",
      "https://wolnelektury.pl/media/book/txt/przerwa-tetmajer-na-pamiatke.txt\n",
      "https://wolnelektury.pl/media/book/txt/przerwa-tetmajer-na-szczycie.txt\n"
     ]
    },
    {
     "name": "stderr",
     "output_type": "stream",
     "text": [
      " 72%|███████▏  | 4139/5750 [05:45<02:14, 12.00it/s]"
     ]
    },
    {
     "name": "stdout",
     "output_type": "stream",
     "text": [
      "https://wolnelektury.pl/media/book/txt/przerwa-tetmajer-na-wiosne.txt\n",
      "https://wolnelektury.pl/media/book/txt/przerwa-tetmajer-na-wiosne-z-daleka.txt\n",
      "https://wolnelektury.pl/media/book/txt/przerwa-tetmajer-nimfy.txt\n"
     ]
    },
    {
     "name": "stderr",
     "output_type": "stream",
     "text": [
      " 72%|███████▏  | 4143/5750 [05:45<02:13, 12.00it/s]"
     ]
    },
    {
     "name": "stdout",
     "output_type": "stream",
     "text": [
      "https://wolnelektury.pl/media/book/txt/przerwa-tetmajer-o-greku-co-znalazl-zloty-helm.txt\n",
      "https://wolnelektury.pl/media/book/txt/przerwa-tetmajer-orzel.txt\n",
      "https://wolnelektury.pl/media/book/txt/przerwa-tetmajer-pochwala-dawnej-dzielnosci-greckiej.txt\n",
      "https://wolnelektury.pl/media/book/txt/przerwa-tetmajer-pod-portici.txt\n"
     ]
    },
    {
     "name": "stderr",
     "output_type": "stream",
     "text": [
      "\r",
      " 72%|███████▏  | 4145/5750 [05:45<02:13, 12.00it/s]"
     ]
    },
    {
     "name": "stdout",
     "output_type": "stream",
     "text": [
      "https://wolnelektury.pl/media/book/txt/przerwa-tetmajer-podczas-wiatru-z-tatr.txt\n",
      "https://wolnelektury.pl/media/book/txt/przerwa-tetmajer-potok-symboliczny.txt\n",
      "https://wolnelektury.pl/media/book/txt/przerwa-tetmajer-pour-passer-le-temps-oktawa.txt\n"
     ]
    },
    {
     "name": "stderr",
     "output_type": "stream",
     "text": [
      " 72%|███████▏  | 4149/5750 [05:45<02:13, 12.00it/s]"
     ]
    },
    {
     "name": "stdout",
     "output_type": "stream",
     "text": [
      "https://wolnelektury.pl/media/book/txt/przerwa-tetmajer-przez-turnie-pustki.txt\n",
      "https://wolnelektury.pl/media/book/txt/przerwa-tetmajer-przy-morskim-oku.txt\n",
      "https://wolnelektury.pl/media/book/txt/przerwa-tetmajer-psyche.txt\n",
      "https://wolnelektury.pl/media/book/txt/przerwa-tetmajer-pusty-okret.txt\n"
     ]
    },
    {
     "name": "stderr",
     "output_type": "stream",
     "text": [
      " 72%|███████▏  | 4153/5750 [05:46<02:13, 12.00it/s]"
     ]
    },
    {
     "name": "stdout",
     "output_type": "stream",
     "text": [
      "https://wolnelektury.pl/media/book/txt/przerwa-tetmajer-refleksja.txt\n",
      "https://wolnelektury.pl/media/book/txt/przerwa-tetmajer-rycerz.txt\n",
      "https://wolnelektury.pl/media/book/txt/przerwa-tetmajer-rzeka-mistyczna.txt\n",
      "https://wolnelektury.pl/media/book/txt/przerwa-tetmajer-salamandra.txt\n"
     ]
    },
    {
     "name": "stderr",
     "output_type": "stream",
     "text": [
      " 72%|███████▏  | 4157/5750 [05:46<02:12, 12.00it/s]"
     ]
    },
    {
     "name": "stdout",
     "output_type": "stream",
     "text": [
      "https://wolnelektury.pl/media/book/txt/przerwa-tetmajer-sierpniowe-zlote-muchy.txt\n",
      "https://wolnelektury.pl/media/book/txt/przerwa-tetmajer-slonce.txt\n",
      "https://wolnelektury.pl/media/book/txt/przerwa-tetmajer-spiaca-krolewna.txt\n"
     ]
    },
    {
     "name": "stderr",
     "output_type": "stream",
     "text": [
      "\r",
      " 72%|███████▏  | 4159/5750 [05:46<02:12, 12.01it/s]"
     ]
    },
    {
     "name": "stdout",
     "output_type": "stream",
     "text": [
      "https://wolnelektury.pl/media/book/txt/przerwa-tetmajer-the-end-of-the-19th-century.txt\n",
      "https://wolnelektury.pl/media/book/txt/przerwa-tetmajer-w-nocy.txt\n",
      "https://wolnelektury.pl/media/book/txt/przerwa-tetmajer-wielbic-nature.txt\n"
     ]
    },
    {
     "name": "stderr",
     "output_type": "stream",
     "text": [
      " 72%|███████▏  | 4163/5750 [05:46<02:12, 12.01it/s]"
     ]
    },
    {
     "name": "stdout",
     "output_type": "stream",
     "text": [
      "https://wolnelektury.pl/media/book/txt/przerwa-tetmajer-xix-wiekowi.txt\n",
      "https://wolnelektury.pl/media/book/txt/przerwa-tetmajer-z-dawnej-przeszlosci.txt\n",
      "https://wolnelektury.pl/media/book/txt/przeslanie.txt\n",
      "https://wolnelektury.pl/media/book/txt/przesolil.txt\n"
     ]
    },
    {
     "name": "stderr",
     "output_type": "stream",
     "text": [
      "\r",
      " 72%|███████▏  | 4165/5750 [05:46<02:11, 12.01it/s]"
     ]
    },
    {
     "name": "stdout",
     "output_type": "stream",
     "text": [
      "https://wolnelektury.pl/media/book/txt/przestroga.txt\n",
      "https://wolnelektury.pl/media/book/txt/przestrogi-dla-polski.txt\n"
     ]
    },
    {
     "name": "stderr",
     "output_type": "stream",
     "text": [
      " 73%|███████▎  | 4169/5750 [05:47<02:11, 12.01it/s]"
     ]
    },
    {
     "name": "stdout",
     "output_type": "stream",
     "text": [
      "https://wolnelektury.pl/media/book/txt/przeszlosc.txt\n",
      "https://wolnelektury.pl/media/book/txt/przezycie.txt\n",
      "https://wolnelektury.pl/media/book/txt/przy-mrowisku.txt\n"
     ]
    },
    {
     "name": "stderr",
     "output_type": "stream",
     "text": [
      "\r",
      " 73%|███████▎  | 4171/5750 [05:47<02:11, 12.01it/s]"
     ]
    },
    {
     "name": "stdout",
     "output_type": "stream",
     "text": [
      "https://wolnelektury.pl/media/book/txt/przy-robocie.txt\n",
      "https://wolnelektury.pl/media/book/txt/przybiezeli-do-betleem.txt\n",
      "https://wolnelektury.pl/media/book/txt/przybyszewski-androgyne.txt\n"
     ]
    },
    {
     "name": "stderr",
     "output_type": "stream",
     "text": [
      "\r",
      " 73%|███████▎  | 4173/5750 [05:47<02:11, 12.01it/s]"
     ]
    },
    {
     "name": "stdout",
     "output_type": "stream",
     "text": [
      "https://wolnelektury.pl/media/book/txt/przybyszewski-de-profundis.txt\n",
      "https://wolnelektury.pl/media/book/txt/przybyszewski-dzieci-szatana.txt\n"
     ]
    },
    {
     "name": "stderr",
     "output_type": "stream",
     "text": [
      " 73%|███████▎  | 4177/5750 [05:48<02:11, 12.00it/s]"
     ]
    },
    {
     "name": "stdout",
     "output_type": "stream",
     "text": [
      "https://wolnelektury.pl/media/book/txt/przybyszewski-goscie.txt\n",
      "https://wolnelektury.pl/media/book/txt/przybyszewski-matka.txt\n",
      "https://wolnelektury.pl/media/book/txt/przybyszewski-miasto.txt\n"
     ]
    },
    {
     "name": "stderr",
     "output_type": "stream",
     "text": [
      "\r",
      " 73%|███████▎  | 4179/5750 [05:48<02:10, 12.00it/s]"
     ]
    },
    {
     "name": "stdout",
     "output_type": "stream",
     "text": [
      "https://wolnelektury.pl/media/book/txt/przybyszewski-nad-morzem.txt\n",
      "https://wolnelektury.pl/media/book/txt/przybyszewski-requiem-aeternam.txt\n"
     ]
    },
    {
     "name": "stderr",
     "output_type": "stream",
     "text": [
      "\r",
      " 73%|███████▎  | 4181/5750 [05:48<02:10, 11.99it/s]"
     ]
    },
    {
     "name": "stdout",
     "output_type": "stream",
     "text": [
      "https://wolnelektury.pl/media/book/txt/przybyszewski-snieg.txt\n",
      "https://wolnelektury.pl/media/book/txt/przybyszewski-vigilien.txt\n",
      "https://wolnelektury.pl/media/book/txt/przybyszewski-z-wigilii.txt\n"
     ]
    },
    {
     "name": "stderr",
     "output_type": "stream",
     "text": [
      " 73%|███████▎  | 4184/5750 [05:48<02:10, 11.99it/s]"
     ]
    },
    {
     "name": "stdout",
     "output_type": "stream",
     "text": [
      "https://wolnelektury.pl/media/book/txt/przybyszewski-zur-psychologie-des-individuums.txt\n",
      "https://wolnelektury.pl/media/book/txt/przygoda-manci.txt\n",
      "https://wolnelektury.pl/media/book/txt/przygoda-nieuka.txt\n"
     ]
    },
    {
     "name": "stderr",
     "output_type": "stream",
     "text": [
      " 73%|███████▎  | 4188/5750 [05:49<02:10, 11.99it/s]"
     ]
    },
    {
     "name": "stdout",
     "output_type": "stream",
     "text": [
      "https://wolnelektury.pl/media/book/txt/przygoda-w-koszu.txt\n",
      "https://wolnelektury.pl/media/book/txt/przygoda-w-kuchni.txt\n",
      "https://wolnelektury.pl/media/book/txt/przygoda-z-lalka.txt\n"
     ]
    },
    {
     "name": "stderr",
     "output_type": "stream",
     "text": [
      "\r",
      " 73%|███████▎  | 4190/5750 [05:49<02:10, 11.99it/s]"
     ]
    },
    {
     "name": "stdout",
     "output_type": "stream",
     "text": [
      "https://wolnelektury.pl/media/book/txt/przygody-dobrego-wojaka-szwejka.txt\n",
      "https://wolnelektury.pl/media/book/txt/przygody-ostatniego-z-abenserazow.txt\n",
      "https://wolnelektury.pl/media/book/txt/przygody-sindbada-zeglarza.txt\n"
     ]
    },
    {
     "name": "stderr",
     "output_type": "stream",
     "text": [
      "\r",
      " 73%|███████▎  | 4192/5750 [05:49<02:09, 11.99it/s]"
     ]
    },
    {
     "name": "stdout",
     "output_type": "stream",
     "text": [
      "https://wolnelektury.pl/media/book/txt/przygody-tomka-sawyera.txt\n",
      "https://wolnelektury.pl/media/book/txt/przygody-trzech-rosjan-i-trzech-anglikow-w-poludniowej-afryce.txt\n"
     ]
    },
    {
     "name": "stderr",
     "output_type": "stream",
     "text": [
      " 73%|███████▎  | 4196/5750 [05:50<02:09, 11.98it/s]"
     ]
    },
    {
     "name": "stdout",
     "output_type": "stream",
     "text": [
      "https://wolnelektury.pl/media/book/txt/przyjaciel.txt\n",
      "https://wolnelektury.pl/media/book/txt/przyjaciel-patience.txt\n",
      "https://wolnelektury.pl/media/book/txt/przyjaciele-bajki-nowe.txt\n"
     ]
    },
    {
     "name": "stderr",
     "output_type": "stream",
     "text": [
      "\r",
      " 73%|███████▎  | 4198/5750 [05:50<02:09, 11.99it/s]"
     ]
    },
    {
     "name": "stdout",
     "output_type": "stream",
     "text": [
      "https://wolnelektury.pl/media/book/txt/przypomnienie-dawnej-milosci.txt\n",
      "https://wolnelektury.pl/media/book/txt/psalmodia-polska-psalm-i.txt\n",
      "https://wolnelektury.pl/media/book/txt/psalmodia-polska-psalm-ii.txt\n"
     ]
    },
    {
     "name": "stderr",
     "output_type": "stream",
     "text": [
      " 73%|███████▎  | 4202/5750 [05:50<02:09, 11.99it/s]"
     ]
    },
    {
     "name": "stdout",
     "output_type": "stream",
     "text": [
      "https://wolnelektury.pl/media/book/txt/psalmodia-polska-psalm-iii.txt\n",
      "https://wolnelektury.pl/media/book/txt/psalmodia-polska-psalm-iv.txt\n",
      "https://wolnelektury.pl/media/book/txt/psalmodia-polska-psalm-ix.txt\n"
     ]
    },
    {
     "name": "stderr",
     "output_type": "stream",
     "text": [
      " 73%|███████▎  | 4206/5750 [05:50<02:08, 11.99it/s]"
     ]
    },
    {
     "name": "stdout",
     "output_type": "stream",
     "text": [
      "https://wolnelektury.pl/media/book/txt/psalmodia-polska-psalm-v.txt\n",
      "https://wolnelektury.pl/media/book/txt/psalmodia-polska-psalm-vi.txt\n",
      "https://wolnelektury.pl/media/book/txt/psalmodia-polska-psalm-vii.txt\n",
      "https://wolnelektury.pl/media/book/txt/psalmodia-polska-psalm-viii.txt\n"
     ]
    },
    {
     "name": "stderr",
     "output_type": "stream",
     "text": [
      "\r",
      " 73%|███████▎  | 4208/5750 [05:50<02:08, 11.99it/s]"
     ]
    },
    {
     "name": "stdout",
     "output_type": "stream",
     "text": [
      "https://wolnelektury.pl/media/book/txt/psalmodia-polska-psalm-x.txt\n",
      "https://wolnelektury.pl/media/book/txt/psalmodia-polska-psalm-xi.txt\n",
      "https://wolnelektury.pl/media/book/txt/psalmodia-polska-psalm-xii.txt\n"
     ]
    },
    {
     "name": "stderr",
     "output_type": "stream",
     "text": [
      " 73%|███████▎  | 4212/5750 [05:51<02:08, 11.99it/s]"
     ]
    },
    {
     "name": "stdout",
     "output_type": "stream",
     "text": [
      "https://wolnelektury.pl/media/book/txt/psalmodia-polska-psalm-xiii.txt\n",
      "https://wolnelektury.pl/media/book/txt/psalmodia-polska-psalm-xiv.txt\n",
      "https://wolnelektury.pl/media/book/txt/psalmodia-polska-psalm-xix.txt\n",
      "https://wolnelektury.pl/media/book/txt/psalmodia-polska-psalm-xv.txt\n"
     ]
    },
    {
     "name": "stderr",
     "output_type": "stream",
     "text": [
      " 73%|███████▎  | 4216/5750 [05:51<02:07, 11.99it/s]"
     ]
    },
    {
     "name": "stdout",
     "output_type": "stream",
     "text": [
      "https://wolnelektury.pl/media/book/txt/psalmodia-polska-psalm-xvi.txt\n",
      "https://wolnelektury.pl/media/book/txt/psalmodia-polska-psalm-xvii.txt\n",
      "https://wolnelektury.pl/media/book/txt/psalmodia-polska-psalm-xviii.txt\n"
     ]
    },
    {
     "name": "stderr",
     "output_type": "stream",
     "text": [
      "\r",
      " 73%|███████▎  | 4218/5750 [05:51<02:07, 11.99it/s]"
     ]
    },
    {
     "name": "stdout",
     "output_type": "stream",
     "text": [
      "https://wolnelektury.pl/media/book/txt/psalmodia-polska-psalm-xx.txt\n",
      "https://wolnelektury.pl/media/book/txt/psalmodia-polska-psalm-xxi.txt\n"
     ]
    },
    {
     "name": "stderr",
     "output_type": "stream",
     "text": [
      "\r",
      " 73%|███████▎  | 4220/5750 [05:52<02:07, 11.99it/s]"
     ]
    },
    {
     "name": "stdout",
     "output_type": "stream",
     "text": [
      "https://wolnelektury.pl/media/book/txt/psalmodia-polska-psalm-xxii.txt\n",
      "https://wolnelektury.pl/media/book/txt/psalmodia-polska-psalm-xxiii.txt\n",
      "https://wolnelektury.pl/media/book/txt/psalmodia-polska-psalm-xxiv.txt\n"
     ]
    },
    {
     "name": "stderr",
     "output_type": "stream",
     "text": [
      " 73%|███████▎  | 4224/5750 [05:52<02:07, 11.99it/s]"
     ]
    },
    {
     "name": "stdout",
     "output_type": "stream",
     "text": [
      "https://wolnelektury.pl/media/book/txt/psalmodia-polska-psalm-xxix.txt\n",
      "https://wolnelektury.pl/media/book/txt/psalmodia-polska-psalm-xxv.txt\n",
      "https://wolnelektury.pl/media/book/txt/psalmodia-polska-psalm-xxvi.txt\n"
     ]
    },
    {
     "name": "stderr",
     "output_type": "stream",
     "text": [
      "\r",
      " 73%|███████▎  | 4226/5750 [05:52<02:07, 11.99it/s]"
     ]
    },
    {
     "name": "stdout",
     "output_type": "stream",
     "text": [
      "https://wolnelektury.pl/media/book/txt/psalmodia-polska-psalm-xxvii.txt\n",
      "https://wolnelektury.pl/media/book/txt/psalmodia-polska-psalm-xxviii.txt\n"
     ]
    },
    {
     "name": "stderr",
     "output_type": "stream",
     "text": [
      "\r",
      " 74%|███████▎  | 4228/5750 [05:52<02:06, 11.99it/s]"
     ]
    },
    {
     "name": "stdout",
     "output_type": "stream",
     "text": [
      "https://wolnelektury.pl/media/book/txt/psalmodia-polska-psalm-xxx.txt\n",
      "https://wolnelektury.pl/media/book/txt/psalmodia-polska-psalm-xxxi.txt\n",
      "https://wolnelektury.pl/media/book/txt/psalmodia-polska-psalm-xxxii.txt\n"
     ]
    },
    {
     "name": "stderr",
     "output_type": "stream",
     "text": [
      " 74%|███████▎  | 4232/5750 [05:52<02:06, 11.99it/s]"
     ]
    },
    {
     "name": "stdout",
     "output_type": "stream",
     "text": [
      "https://wolnelektury.pl/media/book/txt/psalmodia-polska-psalm-xxxiii.txt\n",
      "https://wolnelektury.pl/media/book/txt/psalmodia-polska-psalm-xxxiv.txt\n",
      "https://wolnelektury.pl/media/book/txt/psalmodia-polska-psalm-xxxv.txt\n"
     ]
    },
    {
     "name": "stderr",
     "output_type": "stream",
     "text": [
      "\r",
      " 74%|███████▎  | 4234/5750 [05:53<02:06, 11.99it/s]"
     ]
    },
    {
     "name": "stdout",
     "output_type": "stream",
     "text": [
      "https://wolnelektury.pl/media/book/txt/psalmodia-polska-psalm-xxxvi.txt\n",
      "https://wolnelektury.pl/media/book/txt/psychologia-milosci.txt\n",
      "https://wolnelektury.pl/media/book/txt/pszczola-i-golabek.txt\n"
     ]
    },
    {
     "name": "stderr",
     "output_type": "stream",
     "text": [
      " 74%|███████▎  | 4238/5750 [05:53<02:06, 11.99it/s]"
     ]
    },
    {
     "name": "stdout",
     "output_type": "stream",
     "text": [
      "https://wolnelektury.pl/media/book/txt/pszczola-i-osa.txt\n",
      "https://wolnelektury.pl/media/book/txt/pszczola-i-szrszen.txt\n",
      "https://wolnelektury.pl/media/book/txt/pszczola-w-bursztynie.txt\n"
     ]
    },
    {
     "name": "stderr",
     "output_type": "stream",
     "text": [
      "\r",
      " 74%|███████▎  | 4240/5750 [05:53<02:05, 11.99it/s]"
     ]
    },
    {
     "name": "stdout",
     "output_type": "stream",
     "text": [
      "https://wolnelektury.pl/media/book/txt/pszczolka.txt\n",
      "https://wolnelektury.pl/media/book/txt/pszczolka-bajki-nowe.txt\n",
      "https://wolnelektury.pl/media/book/txt/pszczolka-i-mrowka.txt\n"
     ]
    },
    {
     "name": "stderr",
     "output_type": "stream",
     "text": [
      " 74%|███████▍  | 4244/5750 [05:53<02:05, 11.99it/s]"
     ]
    },
    {
     "name": "stdout",
     "output_type": "stream",
     "text": [
      "https://wolnelektury.pl/media/book/txt/pszczolka-jednego-razu-pszczolka.txt\n",
      "https://wolnelektury.pl/media/book/txt/pszczolki.txt\n",
      "https://wolnelektury.pl/media/book/txt/pszczoly-bajki-nowe.txt\n"
     ]
    },
    {
     "name": "stderr",
     "output_type": "stream",
     "text": [
      "\r",
      " 74%|███████▍  | 4246/5750 [05:54<02:05, 11.99it/s]"
     ]
    },
    {
     "name": "stdout",
     "output_type": "stream",
     "text": [
      "https://wolnelektury.pl/media/book/txt/pszczoly-i-mrowki.txt\n",
      "https://wolnelektury.pl/media/book/txt/ptaki-i-osiel.txt\n",
      "https://wolnelektury.pl/media/book/txt/ptaszki-w-klatce.txt\n"
     ]
    },
    {
     "name": "stderr",
     "output_type": "stream",
     "text": [
      "\r",
      " 74%|███████▍  | 4248/5750 [05:54<02:05, 11.99it/s]"
     ]
    },
    {
     "name": "stdout",
     "output_type": "stream",
     "text": [
      "https://wolnelektury.pl/media/book/txt/puchacze-bajki-nowe.txt\n",
      "https://wolnelektury.pl/media/book/txt/pudel.txt\n"
     ]
    },
    {
     "name": "stderr",
     "output_type": "stream",
     "text": [
      "\r",
      " 74%|███████▍  | 4250/5750 [05:54<02:05, 11.99it/s]"
     ]
    },
    {
     "name": "stdout",
     "output_type": "stream",
     "text": [
      "https://wolnelektury.pl/media/book/txt/puszkin-eugeniusz-oniegin.txt\n",
      "https://wolnelektury.pl/media/book/txt/puszkin-mickiewicz-falconet.txt\n"
     ]
    },
    {
     "name": "stderr",
     "output_type": "stream",
     "text": [
      " 74%|███████▍  | 4254/5750 [05:54<02:04, 11.99it/s]"
     ]
    },
    {
     "name": "stdout",
     "output_type": "stream",
     "text": [
      "https://wolnelektury.pl/media/book/txt/pyl.txt\n",
      "https://wolnelektury.pl/media/book/txt/pytasz-sie-czemu-ucichly-me-piesni.txt\n",
      "https://wolnelektury.pl/media/book/txt/quo-vadis.txt\n"
     ]
    },
    {
     "name": "stderr",
     "output_type": "stream",
     "text": [
      "\r",
      " 74%|███████▍  | 4256/5750 [05:55<02:04, 11.98it/s]"
     ]
    },
    {
     "name": "stdout",
     "output_type": "stream",
     "text": [
      "https://wolnelektury.pl/media/book/txt/ragana-i-sviesa.txt\n",
      "https://wolnelektury.pl/media/book/txt/ragana-is-daktaro-pasakojimu.txt\n",
      "https://wolnelektury.pl/media/book/txt/ragana-is-daktaro-pasakojimu-is-daktaro-pasakojimu.txt\n"
     ]
    },
    {
     "name": "stderr",
     "output_type": "stream",
     "text": [
      " 74%|███████▍  | 4260/5750 [05:55<02:04, 11.98it/s]"
     ]
    },
    {
     "name": "stdout",
     "output_type": "stream",
     "text": [
      "https://wolnelektury.pl/media/book/txt/ragana-rudens-diena.txt\n",
      "https://wolnelektury.pl/media/book/txt/ragana-sulauke.txt\n",
      "https://wolnelektury.pl/media/book/txt/rechts-und-links.txt\n"
     ]
    },
    {
     "name": "stderr",
     "output_type": "stream",
     "text": [
      "\r",
      " 74%|███████▍  | 4262/5750 [05:55<02:04, 11.97it/s]"
     ]
    },
    {
     "name": "stdout",
     "output_type": "stream",
     "text": [
      "https://wolnelektury.pl/media/book/txt/redlinski-konopielka.txt\n",
      "https://wolnelektury.pl/media/book/txt/reduta-ordona.txt\n"
     ]
    },
    {
     "name": "stderr",
     "output_type": "stream",
     "text": [
      "\r",
      " 74%|███████▍  | 4264/5750 [05:56<02:04, 11.97it/s]"
     ]
    },
    {
     "name": "stdout",
     "output_type": "stream",
     "text": [
      "https://wolnelektury.pl/media/book/txt/regnier-ku-przeszlosci.txt\n",
      "https://wolnelektury.pl/media/book/txt/regnier-nokturn.txt\n",
      "https://wolnelektury.pl/media/book/txt/regnier-tajemnica.txt\n"
     ]
    },
    {
     "name": "stderr",
     "output_type": "stream",
     "text": [
      " 74%|███████▍  | 4268/5750 [05:56<02:03, 11.97it/s]"
     ]
    },
    {
     "name": "stdout",
     "output_type": "stream",
     "text": [
      "https://wolnelektury.pl/media/book/txt/reguly-dla-gospodarzow-domu.txt\n",
      "https://wolnelektury.pl/media/book/txt/reigen.txt\n",
      "https://wolnelektury.pl/media/book/txt/rejent-watrobka.txt\n"
     ]
    },
    {
     "name": "stderr",
     "output_type": "stream",
     "text": [
      "\r",
      " 74%|███████▍  | 4270/5750 [05:56<02:03, 11.97it/s]"
     ]
    },
    {
     "name": "stdout",
     "output_type": "stream",
     "text": [
      "https://wolnelektury.pl/media/book/txt/reka-prawa-i-lewa.txt\n",
      "https://wolnelektury.pl/media/book/txt/rekopis-znaleziony-w-butli.txt\n",
      "https://wolnelektury.pl/media/book/txt/rene.txt\n"
     ]
    },
    {
     "name": "stderr",
     "output_type": "stream",
     "text": [
      "\r",
      " 74%|███████▍  | 4272/5750 [05:56<02:03, 11.97it/s]"
     ]
    },
    {
     "name": "stdout",
     "output_type": "stream",
     "text": [
      "https://wolnelektury.pl/media/book/txt/renegat.txt\n",
      "https://wolnelektury.pl/media/book/txt/requiem-za-przyjaciolke.txt\n"
     ]
    },
    {
     "name": "stderr",
     "output_type": "stream",
     "text": [
      "\r",
      " 74%|███████▍  | 4274/5750 [05:57<02:03, 11.97it/s]"
     ]
    },
    {
     "name": "stdout",
     "output_type": "stream",
     "text": [
      "https://wolnelektury.pl/media/book/txt/requiem-za-wolfa-hrabiego-von-kalkreuth.txt\n",
      "https://wolnelektury.pl/media/book/txt/resurrecturis.txt\n"
     ]
    },
    {
     "name": "stderr",
     "output_type": "stream",
     "text": [
      " 74%|███████▍  | 4277/5750 [05:57<02:03, 11.96it/s]"
     ]
    },
    {
     "name": "stdout",
     "output_type": "stream",
     "text": [
      "https://wolnelektury.pl/media/book/txt/rette-zimowa-piesn.txt\n",
      "https://wolnelektury.pl/media/book/txt/reymont-chlopi-zima.txt\n"
     ]
    },
    {
     "name": "stderr",
     "output_type": "stream",
     "text": [
      " 74%|███████▍  | 4279/5750 [05:57<02:03, 11.95it/s]"
     ]
    },
    {
     "name": "stdout",
     "output_type": "stream",
     "text": [
      "https://wolnelektury.pl/media/book/txt/reymont-lili.txt\n",
      "https://wolnelektury.pl/media/book/txt/richepin-sirdis.txt\n",
      "https://wolnelektury.pl/media/book/txt/rilke-die-aufzeichnungen-des-malte-laurids-brigge.txt\n"
     ]
    },
    {
     "name": "stderr",
     "output_type": "stream",
     "text": [
      "\r",
      " 74%|███████▍  | 4281/5750 [05:58<02:02, 11.95it/s]"
     ]
    },
    {
     "name": "stdout",
     "output_type": "stream",
     "text": [
      "https://wolnelektury.pl/media/book/txt/rilke-malte.txt\n"
     ]
    },
    {
     "name": "stderr",
     "output_type": "stream",
     "text": [
      "\r",
      " 74%|███████▍  | 4282/5750 [05:58<02:02, 11.94it/s]"
     ]
    },
    {
     "name": "stdout",
     "output_type": "stream",
     "text": [
      "https://wolnelektury.pl/media/book/txt/ritter-gluck.txt\n",
      "https://wolnelektury.pl/media/book/txt/robinson-crusoe.txt\n"
     ]
    },
    {
     "name": "stderr",
     "output_type": "stream",
     "text": [
      " 75%|███████▍  | 4286/5750 [05:58<02:02, 11.94it/s]"
     ]
    },
    {
     "name": "stdout",
     "output_type": "stream",
     "text": [
      "https://wolnelektury.pl/media/book/txt/rocznica.txt\n",
      "https://wolnelektury.pl/media/book/txt/rocznica-powstania.txt\n",
      "https://wolnelektury.pl/media/book/txt/rodenbach-deszcz.txt\n",
      "https://wolnelektury.pl/media/book/txt/rodenbach-klasztor-flamandzki.txt\n"
     ]
    },
    {
     "name": "stderr",
     "output_type": "stream",
     "text": [
      "\r",
      " 75%|███████▍  | 4288/5750 [05:59<02:02, 11.94it/s]"
     ]
    },
    {
     "name": "stdout",
     "output_type": "stream",
     "text": [
      "https://wolnelektury.pl/media/book/txt/rodenbach-w-miasteczku.txt\n",
      "https://wolnelektury.pl/media/book/txt/rodziewiczowna-dewajtis.txt\n"
     ]
    },
    {
     "name": "stderr",
     "output_type": "stream",
     "text": [
      " 75%|███████▍  | 4291/5750 [05:59<02:02, 11.94it/s]"
     ]
    },
    {
     "name": "stdout",
     "output_type": "stream",
     "text": [
      "https://wolnelektury.pl/media/book/txt/rodziewiczowna-lato-lesnych-ludzi.txt\n",
      "https://wolnelektury.pl/media/book/txt/rodziewiczowna-miedzy-ustami-a-brzegiem-pucharu.txt\n"
     ]
    },
    {
     "name": "stderr",
     "output_type": "stream",
     "text": [
      "\r",
      " 75%|███████▍  | 4292/5750 [05:59<02:02, 11.93it/s]"
     ]
    },
    {
     "name": "stdout",
     "output_type": "stream",
     "text": [
      "https://wolnelektury.pl/media/book/txt/rodziewiczowna-straszny-dziadunio.txt\n"
     ]
    },
    {
     "name": "stderr",
     "output_type": "stream",
     "text": [
      " 75%|███████▍  | 4294/5750 [06:00<02:02, 11.92it/s]"
     ]
    },
    {
     "name": "stdout",
     "output_type": "stream",
     "text": [
      "https://wolnelektury.pl/media/book/txt/rodziewiczowna-wrzos.txt\n",
      "https://wolnelektury.pl/media/book/txt/rodzina-polanieckich.txt\n"
     ]
    },
    {
     "name": "stderr",
     "output_type": "stream",
     "text": [
      " 75%|███████▍  | 4296/5750 [06:00<02:02, 11.90it/s]"
     ]
    },
    {
     "name": "stdout",
     "output_type": "stream",
     "text": [
      "https://wolnelektury.pl/media/book/txt/rogoszowna-dzieci-pana-majstra.txt\n",
      "https://wolnelektury.pl/media/book/txt/rolando-biala-ksiazka.txt\n",
      "https://wolnelektury.pl/media/book/txt/rolando-biala-ksiazka-czysciec.txt\n"
     ]
    },
    {
     "name": "stderr",
     "output_type": "stream",
     "text": [
      " 75%|███████▍  | 4300/5750 [06:01<02:01, 11.90it/s]"
     ]
    },
    {
     "name": "stdout",
     "output_type": "stream",
     "text": [
      "https://wolnelektury.pl/media/book/txt/rolando-biala-ksiazka-motto.txt\n",
      "https://wolnelektury.pl/media/book/txt/rolando-biala-ksiazka-niebo.txt\n",
      "https://wolnelektury.pl/media/book/txt/rolando-biala-ksiazka-pieklo.txt\n",
      "https://wolnelektury.pl/media/book/txt/rolando-biala-ksiazka-piesn-interpunkcyjna-bruny.txt\n"
     ]
    },
    {
     "name": "stderr",
     "output_type": "stream",
     "text": [
      " 75%|███████▍  | 4304/5750 [06:01<02:01, 11.90it/s]"
     ]
    },
    {
     "name": "stdout",
     "output_type": "stream",
     "text": [
      "https://wolnelektury.pl/media/book/txt/rolando-motto-czysciec.txt\n",
      "https://wolnelektury.pl/media/book/txt/rolando-piesn-czterdziesta-czwarta-domy-z-cukru-pudru-w-ahlbecku.txt\n",
      "https://wolnelektury.pl/media/book/txt/rolando-piesn-czterdziesta-druga-blu-spiewa-o-smierci-ricarda.txt\n"
     ]
    },
    {
     "name": "stderr",
     "output_type": "stream",
     "text": [
      "\r",
      " 75%|███████▍  | 4306/5750 [06:01<02:01, 11.91it/s]"
     ]
    },
    {
     "name": "stdout",
     "output_type": "stream",
     "text": [
      "https://wolnelektury.pl/media/book/txt/rolando-piesn-czterdziesta-konce-koncow.txt\n",
      "https://wolnelektury.pl/media/book/txt/rolando-piesn-czterdziesta-piata-molo-w-ahlbecku.txt\n",
      "https://wolnelektury.pl/media/book/txt/rolando-piesn-czterdziesta-pierwsza-ostatnia-chwila-czyscca-ricarda.txt\n"
     ]
    },
    {
     "name": "stderr",
     "output_type": "stream",
     "text": [
      " 75%|███████▍  | 4310/5750 [06:02<02:00, 11.91it/s]"
     ]
    },
    {
     "name": "stdout",
     "output_type": "stream",
     "text": [
      "https://wolnelektury.pl/media/book/txt/rolando-piesn-czterdziesta-rebus-ii.txt\n",
      "https://wolnelektury.pl/media/book/txt/rolando-piesn-czterdziesta-siodma-przyplyw.txt\n",
      "https://wolnelektury.pl/media/book/txt/rolando-piesn-czterdziesta-szosta-rysunek-i.txt\n"
     ]
    },
    {
     "name": "stderr",
     "output_type": "stream",
     "text": [
      "\r",
      " 75%|███████▍  | 4312/5750 [06:02<02:00, 11.91it/s]"
     ]
    },
    {
     "name": "stdout",
     "output_type": "stream",
     "text": [
      "https://wolnelektury.pl/media/book/txt/rolando-piesn-czterdziesta-trzecia-ostatnie-przechodzenie.txt\n",
      "https://wolnelektury.pl/media/book/txt/rolando-piesn-czternasta-bianca-odwraca-sie-drugi-raz.txt\n",
      "https://wolnelektury.pl/media/book/txt/rolando-piesn-czternasta-piesn-przejsciowa.txt\n"
     ]
    },
    {
     "name": "stderr",
     "output_type": "stream",
     "text": [
      " 75%|███████▌  | 4316/5750 [06:02<02:00, 11.91it/s]"
     ]
    },
    {
     "name": "stdout",
     "output_type": "stream",
     "text": [
      "https://wolnelektury.pl/media/book/txt/rolando-piesn-czternasta-urania-in-ferno.txt\n",
      "https://wolnelektury.pl/media/book/txt/rolando-piesn-czwarta-love-will-tear-us-apart.txt\n",
      "https://wolnelektury.pl/media/book/txt/rolando-piesn-czwarta-prochy.txt\n"
     ]
    },
    {
     "name": "stderr",
     "output_type": "stream",
     "text": [
      "\r",
      " 75%|███████▌  | 4318/5750 [06:02<02:00, 11.91it/s]"
     ]
    },
    {
     "name": "stdout",
     "output_type": "stream",
     "text": [
      "https://wolnelektury.pl/media/book/txt/rolando-piesn-czwarta-winna-smierc.txt\n",
      "https://wolnelektury.pl/media/book/txt/rolando-piesn-czwarta-zbyt-ostre-zdjecie.txt\n",
      "https://wolnelektury.pl/media/book/txt/rolando-piesn-druga-miedzy.txt\n"
     ]
    },
    {
     "name": "stderr",
     "output_type": "stream",
     "text": [
      " 75%|███████▌  | 4322/5750 [06:02<01:59, 11.91it/s]"
     ]
    },
    {
     "name": "stdout",
     "output_type": "stream",
     "text": [
      "https://wolnelektury.pl/media/book/txt/rolando-piesn-druga-rebus-i.txt\n",
      "https://wolnelektury.pl/media/book/txt/rolando-piesn-druga-zmierzchy-bogow-naszych.txt\n",
      "https://wolnelektury.pl/media/book/txt/rolando-piesn-dwudziesta-czwarta-bianca-odwraca-sie-kolejny-raz-na-palcu.txt\n"
     ]
    },
    {
     "name": "stderr",
     "output_type": "stream",
     "text": [
      "\r",
      " 75%|███████▌  | 4324/5750 [06:03<01:59, 11.91it/s]"
     ]
    },
    {
     "name": "stdout",
     "output_type": "stream",
     "text": [
      "https://wolnelektury.pl/media/book/txt/rolando-piesn-dwudziesta-czwarta-piesn-metafizyczna.txt\n",
      "https://wolnelektury.pl/media/book/txt/rolando-piesn-dwudziesta-druga-bar-mleczny-na-peryferiach.txt\n",
      "https://wolnelektury.pl/media/book/txt/rolando-piesn-dwudziesta-druga-czwarta-piesn-wojenna-gratis.txt\n"
     ]
    },
    {
     "name": "stderr",
     "output_type": "stream",
     "text": [
      " 75%|███████▌  | 4328/5750 [06:03<01:59, 11.91it/s]"
     ]
    },
    {
     "name": "stdout",
     "output_type": "stream",
     "text": [
      "https://wolnelektury.pl/media/book/txt/rolando-piesn-dwudziesta-druga-piesn-ciuciubabki.txt\n",
      "https://wolnelektury.pl/media/book/txt/rolando-piesn-dwudziesta-dziewiata-blu-przechodzi-do-punktu-f.txt\n",
      "https://wolnelektury.pl/media/book/txt/rolando-piesn-dwudziesta-dziewiata-fenrir-schowany-spiewa.txt\n",
      "https://wolnelektury.pl/media/book/txt/rolando-piesn-dwudziesta-dziewiata-lilith-w-powietrzu-spiewa-do-bianchi.txt\n"
     ]
    },
    {
     "name": "stderr",
     "output_type": "stream",
     "text": [
      " 75%|███████▌  | 4332/5750 [06:03<01:59, 11.92it/s]"
     ]
    },
    {
     "name": "stdout",
     "output_type": "stream",
     "text": [
      "https://wolnelektury.pl/media/book/txt/rolando-piesn-dwudziesta-kobiety-spiewaja-razem.txt\n",
      "https://wolnelektury.pl/media/book/txt/rolando-piesn-dwudziesta-lukrecja-nuci-na-bezdechu.txt\n",
      "https://wolnelektury.pl/media/book/txt/rolando-piesn-dwudziesta-odmrozone-usta-spiewaja.txt\n",
      "https://wolnelektury.pl/media/book/txt/rolando-piesn-dwudziesta-osma-antypieta.txt\n"
     ]
    },
    {
     "name": "stderr",
     "output_type": "stream",
     "text": [
      " 75%|███████▌  | 4336/5750 [06:03<01:58, 11.91it/s]"
     ]
    },
    {
     "name": "stdout",
     "output_type": "stream",
     "text": [
      "https://wolnelektury.pl/media/book/txt/rolando-piesn-dwudziesta-osma-lilith.txt\n",
      "https://wolnelektury.pl/media/book/txt/rolando-piesn-dwudziesta-osma-wada-wzroku-sie-powieksza.txt\n",
      "https://wolnelektury.pl/media/book/txt/rolando-piesn-dwudziesta-piata-blu-przesiada-sie-do-drugiej-kobiety-na-reczniku.txt\n"
     ]
    },
    {
     "name": "stderr",
     "output_type": "stream",
     "text": [
      "\r",
      " 75%|███████▌  | 4338/5750 [06:04<01:58, 11.92it/s]"
     ]
    },
    {
     "name": "stdout",
     "output_type": "stream",
     "text": [
      "https://wolnelektury.pl/media/book/txt/rolando-piesn-dwudziesta-piata-piesn-zakamuflowana.txt\n",
      "https://wolnelektury.pl/media/book/txt/rolando-piesn-dwudziesta-piata-zaklad-utylizacji-odpadow-higienicznych.txt\n",
      "https://wolnelektury.pl/media/book/txt/rolando-piesn-dwudziesta-pierwsza-bianca-kreci-sie-czwarty-raz-wokol.txt\n"
     ]
    },
    {
     "name": "stderr",
     "output_type": "stream",
     "text": [
      " 76%|███████▌  | 4342/5750 [06:04<01:58, 11.92it/s]"
     ]
    },
    {
     "name": "stdout",
     "output_type": "stream",
     "text": [
      "https://wolnelektury.pl/media/book/txt/rolando-piesn-dwudziesta-pierwsza-blu-spiewa-do-ciuciubabki.txt\n",
      "https://wolnelektury.pl/media/book/txt/rolando-piesn-dwudziesta-pierwsza-rosetta.txt\n",
      "https://wolnelektury.pl/media/book/txt/rolando-piesn-dwudziesta-siodma-kobieta-o-milosiernym-spojrzeniu-spiewa.txt\n",
      "https://wolnelektury.pl/media/book/txt/rolando-piesn-dwudziesta-siodma-nowy-pochod.txt\n"
     ]
    },
    {
     "name": "stderr",
     "output_type": "stream",
     "text": [
      " 76%|███████▌  | 4346/5750 [06:04<01:57, 11.92it/s]"
     ]
    },
    {
     "name": "stdout",
     "output_type": "stream",
     "text": [
      "https://wolnelektury.pl/media/book/txt/rolando-piesn-dwudziesta-siodma-ostatnie-odwrocenie-hiperbola.txt\n",
      "https://wolnelektury.pl/media/book/txt/rolando-piesn-dwudziesta-szosta-blu-spiewa-do-kobiety-z-milosiernym-spojrzeniem.txt\n",
      "https://wolnelektury.pl/media/book/txt/rolando-piesn-dwudziesta-szosta-obslugujaca-zaklad-spalania-odpadow-spiewa.txt\n"
     ]
    },
    {
     "name": "stderr",
     "output_type": "stream",
     "text": [
      " 76%|███████▌  | 4350/5750 [06:04<01:57, 11.92it/s]"
     ]
    },
    {
     "name": "stdout",
     "output_type": "stream",
     "text": [
      "https://wolnelektury.pl/media/book/txt/rolando-piesn-dwudziesta-szosta-set-seta.txt\n",
      "https://wolnelektury.pl/media/book/txt/rolando-piesn-dwudziesta-trzecia-badb-catha-kracze.txt\n",
      "https://wolnelektury.pl/media/book/txt/rolando-piesn-dwudziesta-trzecia-ciuciubabka-zdejmuje-apaszke-z-glowy.txt\n",
      "https://wolnelektury.pl/media/book/txt/rolando-piesn-dwudziesta-trzecia-piesn-z-sutkiem-w-ustach.txt\n"
     ]
    },
    {
     "name": "stderr",
     "output_type": "stream",
     "text": [
      "\r",
      " 76%|███████▌  | 4352/5750 [06:05<01:57, 11.92it/s]"
     ]
    },
    {
     "name": "stdout",
     "output_type": "stream",
     "text": [
      "https://wolnelektury.pl/media/book/txt/rolando-piesn-dwunasta-biodro-ktore-sie-zroslo.txt\n",
      "https://wolnelektury.pl/media/book/txt/rolando-piesn-dwunasta-bruna-wsluchuje-sie-drugi-raz.txt\n",
      "https://wolnelektury.pl/media/book/txt/rolando-piesn-dwunasta-pani-domu-spiewa.txt\n"
     ]
    },
    {
     "name": "stderr",
     "output_type": "stream",
     "text": [
      " 76%|███████▌  | 4356/5750 [06:05<01:56, 11.92it/s]"
     ]
    },
    {
     "name": "stdout",
     "output_type": "stream",
     "text": [
      "https://wolnelektury.pl/media/book/txt/rolando-piesn-dziesiata-bianca-obraca-sie-wokol-siebie-pierwszy-raz.txt\n",
      "https://wolnelektury.pl/media/book/txt/rolando-piesn-dziesiata-pieklo-pseudoheliosa.txt\n",
      "https://wolnelektury.pl/media/book/txt/rolando-piesn-dziesiata-psalm-do-kobiety-ze-zlamanym-stawem-biodrowym.txt\n"
     ]
    },
    {
     "name": "stderr",
     "output_type": "stream",
     "text": [
      "\r",
      " 76%|███████▌  | 4358/5750 [06:05<01:56, 11.93it/s]"
     ]
    },
    {
     "name": "stdout",
     "output_type": "stream",
     "text": [
      "https://wolnelektury.pl/media/book/txt/rolando-piesn-dziewiata-bitwa-po-bitwie.txt\n",
      "https://wolnelektury.pl/media/book/txt/rolando-piesn-dziewiata-pseudohelios-wyje.txt\n",
      "https://wolnelektury.pl/media/book/txt/rolando-piesn-dziewiata-wybrzeze.txt\n"
     ]
    },
    {
     "name": "stderr",
     "output_type": "stream",
     "text": [
      " 76%|███████▌  | 4362/5750 [06:05<01:56, 11.93it/s]"
     ]
    },
    {
     "name": "stdout",
     "output_type": "stream",
     "text": [
      "https://wolnelektury.pl/media/book/txt/rolando-piesn-dziewietnasta-500-stopni.txt\n",
      "https://wolnelektury.pl/media/book/txt/rolando-piesn-dziewietnasta-blu-spiewa-dla-dwuosobowej-publicznosci.txt\n",
      "https://wolnelektury.pl/media/book/txt/rolando-piesn-dziewietnasta-piesn-terrorystyczna.txt\n",
      "https://wolnelektury.pl/media/book/txt/rolando-piesn-jedenasta-29-minut-i-3-sekundy.txt\n"
     ]
    },
    {
     "name": "stderr",
     "output_type": "stream",
     "text": [
      " 76%|███████▌  | 4366/5750 [06:05<01:56, 11.93it/s]"
     ]
    },
    {
     "name": "stdout",
     "output_type": "stream",
     "text": [
      "https://wolnelektury.pl/media/book/txt/rolando-piesn-jedenasta-bruna-spiewa-pierwsza-piesn-wojenna.txt\n",
      "https://wolnelektury.pl/media/book/txt/rolando-piesn-jedenasta-viniale.txt\n",
      "https://wolnelektury.pl/media/book/txt/rolando-piesn-osiemnasta-bianca-odwraca-sie-trzeci-raz.txt\n",
      "https://wolnelektury.pl/media/book/txt/rolando-piesn-osiemnasta-korytarzem-i-potem-prosto.txt\n"
     ]
    },
    {
     "name": "stderr",
     "output_type": "stream",
     "text": [
      " 76%|███████▌  | 4370/5750 [06:06<01:55, 11.93it/s]"
     ]
    },
    {
     "name": "stdout",
     "output_type": "stream",
     "text": [
      "https://wolnelektury.pl/media/book/txt/rolando-piesn-osiemnasta-siedmiokrotne-potepienie.txt\n",
      "https://wolnelektury.pl/media/book/txt/rolando-piesn-osma-bruna-nasluchuje-bostw-spokrewnionych.txt\n",
      "https://wolnelektury.pl/media/book/txt/rolando-piesn-osma-mare.txt\n"
     ]
    },
    {
     "name": "stderr",
     "output_type": "stream",
     "text": [
      " 76%|███████▌  | 4374/5750 [06:06<01:55, 11.93it/s]"
     ]
    },
    {
     "name": "stdout",
     "output_type": "stream",
     "text": [
      "https://wolnelektury.pl/media/book/txt/rolando-piesn-osma-walerianowy-spiewa-zolnierskie-piosenki.txt\n",
      "https://wolnelektury.pl/media/book/txt/rolando-piesn-ostatnia-czarne-confetti.txt\n",
      "https://wolnelektury.pl/media/book/txt/rolando-piesn-ostatnia-dolepienie-do-nieba.txt\n",
      "https://wolnelektury.pl/media/book/txt/rolando-piesn-ostatnia-pusta-plaza.txt\n"
     ]
    },
    {
     "name": "stderr",
     "output_type": "stream",
     "text": [
      " 76%|███████▌  | 4378/5750 [06:06<01:54, 11.94it/s]"
     ]
    },
    {
     "name": "stdout",
     "output_type": "stream",
     "text": [
      "https://wolnelektury.pl/media/book/txt/rolando-piesn-piata-pierwszy-kawalek-o-najbardziej-lagodnych-krawedziach.txt\n",
      "https://wolnelektury.pl/media/book/txt/rolando-piesn-piata-piesn-odchodzenia-do-piekla.txt\n",
      "https://wolnelektury.pl/media/book/txt/rolando-piesn-piata-trzy-minuty-czyscca.txt\n",
      "https://wolnelektury.pl/media/book/txt/rolando-piesn-pierwsza-piesn-przekreslona.txt\n"
     ]
    },
    {
     "name": "stderr",
     "output_type": "stream",
     "text": [
      "\r",
      " 76%|███████▌  | 4380/5750 [06:06<01:54, 11.94it/s]"
     ]
    },
    {
     "name": "stdout",
     "output_type": "stream",
     "text": [
      "https://wolnelektury.pl/media/book/txt/rolando-piesn-pierwsza-pralnia-chemiczna.txt\n",
      "https://wolnelektury.pl/media/book/txt/rolando-piesn-pierwsza-strojne-przygotowania.txt\n",
      "https://wolnelektury.pl/media/book/txt/rolando-piesn-pietnasta-drugi-front-wojny-z-urania.txt\n"
     ]
    },
    {
     "name": "stderr",
     "output_type": "stream",
     "text": [
      " 76%|███████▌  | 4384/5750 [06:07<01:54, 11.94it/s]"
     ]
    },
    {
     "name": "stdout",
     "output_type": "stream",
     "text": [
      "https://wolnelektury.pl/media/book/txt/rolando-piesn-pietnasta-dziewica-z-czerwonymi-uszami-na-plazy.txt\n",
      "https://wolnelektury.pl/media/book/txt/rolando-piesn-pietnasta-przyrzad-gimnastyczny-sensory-integration.txt\n",
      "https://wolnelektury.pl/media/book/txt/rolando-piesn-siedemnasta-cwiczenie-z-powtorzeniem.txt\n",
      "https://wolnelektury.pl/media/book/txt/rolando-piesn-siedemnasta-rugewit-nabrzmiewa.txt\n"
     ]
    },
    {
     "name": "stderr",
     "output_type": "stream",
     "text": [
      " 76%|███████▋  | 4388/5750 [06:07<01:54, 11.94it/s]"
     ]
    },
    {
     "name": "stdout",
     "output_type": "stream",
     "text": [
      "https://wolnelektury.pl/media/book/txt/rolando-piesn-siedemnasta-uszy-staja-sie-mleczne.txt\n",
      "https://wolnelektury.pl/media/book/txt/rolando-piesn-siodma-bianca-spiewa-nad-walerianowym-jeziorem-do-nieznajomego.txt\n",
      "https://wolnelektury.pl/media/book/txt/rolando-piesn-siodma-blu-podrozuje-znow.txt\n",
      "https://wolnelektury.pl/media/book/txt/rolando-piesn-siodma-piesn-scisnieta.txt\n"
     ]
    },
    {
     "name": "stderr",
     "output_type": "stream",
     "text": [
      " 76%|███████▋  | 4392/5750 [06:07<01:53, 11.94it/s]"
     ]
    },
    {
     "name": "stdout",
     "output_type": "stream",
     "text": [
      "https://wolnelektury.pl/media/book/txt/rolando-piesn-szesnasta-dziewica-o-czerwonych-uszach-spiewa.txt\n",
      "https://wolnelektury.pl/media/book/txt/rolando-piesn-szesnasta-podsluchy.txt\n",
      "https://wolnelektury.pl/media/book/txt/rolando-piesn-szesnasta-uzytkownik-zestawu-sensory-integration-skrzypi.txt\n"
     ]
    },
    {
     "name": "stderr",
     "output_type": "stream",
     "text": [
      "\r",
      " 76%|███████▋  | 4394/5750 [06:07<01:53, 11.94it/s]"
     ]
    },
    {
     "name": "stdout",
     "output_type": "stream",
     "text": [
      "https://wolnelektury.pl/media/book/txt/rolando-piesn-szosta-bramy-piekiel.txt\n",
      "https://wolnelektury.pl/media/book/txt/rolando-piesn-szosta-osrodek-wypoczynkowy-z-kokosem-w-logo.txt\n",
      "https://wolnelektury.pl/media/book/txt/rolando-piesn-szosta-sine-jezioro-pod-powieka.txt\n"
     ]
    },
    {
     "name": "stderr",
     "output_type": "stream",
     "text": [
      " 76%|███████▋  | 4398/5750 [06:08<01:53, 11.95it/s]"
     ]
    },
    {
     "name": "stdout",
     "output_type": "stream",
     "text": [
      "https://wolnelektury.pl/media/book/txt/rolando-piesn-trzecia-bruna-storia.txt\n",
      "https://wolnelektury.pl/media/book/txt/rolando-piesn-trzecia-oblubieniec-na-drodze.txt\n",
      "https://wolnelektury.pl/media/book/txt/rolando-piesn-trzecia-przekrzywiony-upadek.txt\n",
      "https://wolnelektury.pl/media/book/txt/rolando-piesn-trzydziesta-blu-spotyka-czlowieka-o-trzydziestu-dloniach.txt\n"
     ]
    },
    {
     "name": "stderr",
     "output_type": "stream",
     "text": [
      " 77%|███████▋  | 4402/5750 [06:08<01:52, 11.95it/s]"
     ]
    },
    {
     "name": "stdout",
     "output_type": "stream",
     "text": [
      "https://wolnelektury.pl/media/book/txt/rolando-piesn-trzydziesta-czwarta-blu-spotyka-czarna-bambole.txt\n",
      "https://wolnelektury.pl/media/book/txt/rolando-piesn-trzydziesta-czwarta-wiatr-od-morza.txt\n",
      "https://wolnelektury.pl/media/book/txt/rolando-piesn-trzydziesta-czwarta-wij.txt\n"
     ]
    },
    {
     "name": "stderr",
     "output_type": "stream",
     "text": [
      "\r",
      " 77%|███████▋  | 4404/5750 [06:08<01:52, 11.95it/s]"
     ]
    },
    {
     "name": "stdout",
     "output_type": "stream",
     "text": [
      "https://wolnelektury.pl/media/book/txt/rolando-piesn-trzydziesta-druga-bok.txt\n",
      "https://wolnelektury.pl/media/book/txt/rolando-piesn-trzydziesta-druga-punta-corvo.txt\n",
      "https://wolnelektury.pl/media/book/txt/rolando-piesn-trzydziesta-druga-trzydziesci-dwie-dlonie-do-potegi-n.txt\n"
     ]
    },
    {
     "name": "stderr",
     "output_type": "stream",
     "text": [
      " 77%|███████▋  | 4408/5750 [06:08<01:52, 11.95it/s]"
     ]
    },
    {
     "name": "stdout",
     "output_type": "stream",
     "text": [
      "https://wolnelektury.pl/media/book/txt/rolando-piesn-trzydziesta-dziewiata-blu-spiewa-do-brata.txt\n",
      "https://wolnelektury.pl/media/book/txt/rolando-piesn-trzydziesta-dziewiata-domkniecie-piekla.txt\n",
      "https://wolnelektury.pl/media/book/txt/rolando-piesn-trzydziesta-osma-blu-spotyka-ricarda.txt\n",
      "https://wolnelektury.pl/media/book/txt/rolando-piesn-trzydziesta-osma-rysunek-iii.txt\n"
     ]
    },
    {
     "name": "stderr",
     "output_type": "stream",
     "text": [
      " 77%|███████▋  | 4412/5750 [06:09<01:51, 11.95it/s]"
     ]
    },
    {
     "name": "stdout",
     "output_type": "stream",
     "text": [
      "https://wolnelektury.pl/media/book/txt/rolando-piesn-trzydziesta-piata-bambola-z-funkcja-spiewania.txt\n",
      "https://wolnelektury.pl/media/book/txt/rolando-piesn-trzydziesta-piata-piesn-wija.txt\n",
      "https://wolnelektury.pl/media/book/txt/rolando-piesn-trzydziesta-pierwsza-czlowiek-z-trzydziesta-pierwsza-reka-spiewa-periplus.txt\n"
     ]
    },
    {
     "name": "stderr",
     "output_type": "stream",
     "text": [
      " 77%|███████▋  | 4416/5750 [06:09<01:51, 11.96it/s]"
     ]
    },
    {
     "name": "stdout",
     "output_type": "stream",
     "text": [
      "https://wolnelektury.pl/media/book/txt/rolando-piesn-trzydziesta-pierwsza-pas-graniczny.txt\n",
      "https://wolnelektury.pl/media/book/txt/rolando-piesn-trzydziesta-pierwsza-pejzaz-wewnetrzny.txt\n",
      "https://wolnelektury.pl/media/book/txt/rolando-piesn-trzydziesta-podroz-podwojna.txt\n",
      "https://wolnelektury.pl/media/book/txt/rolando-piesn-trzydziesta-siodma-piesn-rzezbiarska.txt\n"
     ]
    },
    {
     "name": "stderr",
     "output_type": "stream",
     "text": [
      "\r",
      " 77%|███████▋  | 4418/5750 [06:09<01:51, 11.96it/s]"
     ]
    },
    {
     "name": "stdout",
     "output_type": "stream",
     "text": [
      "https://wolnelektury.pl/media/book/txt/rolando-piesn-trzydziesta-szosta-bambola-traci-swe-funkcje.txt\n",
      "https://wolnelektury.pl/media/book/txt/rolando-piesn-trzydziesta-szosta-piesn-wija-do-bruny.txt\n",
      "https://wolnelektury.pl/media/book/txt/rolando-piesn-trzydziesta-trzecia-do-nastepnego-przejscia.txt\n"
     ]
    },
    {
     "name": "stderr",
     "output_type": "stream",
     "text": [
      " 77%|███████▋  | 4422/5750 [06:09<01:51, 11.96it/s]"
     ]
    },
    {
     "name": "stdout",
     "output_type": "stream",
     "text": [
      "https://wolnelektury.pl/media/book/txt/rolando-piesn-trzydziesta-trzecia-procesja.txt\n",
      "https://wolnelektury.pl/media/book/txt/rolando-piesn-trzydziesta-trzecia-rysunek-ii.txt\n",
      "https://wolnelektury.pl/media/book/txt/rolando-piesn-trzydziesta-waruj-nam-zawsze-i-wszedzie.txt\n",
      "https://wolnelektury.pl/media/book/txt/rolando-piesn-trzynasta-nieporzadki.txt\n"
     ]
    },
    {
     "name": "stderr",
     "output_type": "stream",
     "text": [
      " 77%|███████▋  | 4426/5750 [06:10<01:50, 11.96it/s]"
     ]
    },
    {
     "name": "stdout",
     "output_type": "stream",
     "text": [
      "https://wolnelektury.pl/media/book/txt/rolando-piesn-trzynasta-pocalunek-na-dobranoc.txt\n",
      "https://wolnelektury.pl/media/book/txt/rolando-piesn-trzynasta-urania-spiewa-glosem-odwroconym.txt\n",
      "https://wolnelektury.pl/media/book/txt/rolando-piesn-zerowa-usprawiedliwienie.txt\n",
      "https://wolnelektury.pl/media/book/txt/rolicz-lieder-bledny-rycerz.txt\n"
     ]
    },
    {
     "name": "stderr",
     "output_type": "stream",
     "text": [
      " 77%|███████▋  | 4430/5750 [06:10<01:50, 11.96it/s]"
     ]
    },
    {
     "name": "stdout",
     "output_type": "stream",
     "text": [
      "https://wolnelektury.pl/media/book/txt/rolicz-lieder-do-stefana-george.txt\n",
      "https://wolnelektury.pl/media/book/txt/rolicz-lieder-ja-jestem-satyr.txt\n",
      "https://wolnelektury.pl/media/book/txt/rolicz-lieder-marzenie.txt\n",
      "https://wolnelektury.pl/media/book/txt/rolicz-lieder-mgly-jesienne.txt\n"
     ]
    },
    {
     "name": "stderr",
     "output_type": "stream",
     "text": [
      " 77%|███████▋  | 4434/5750 [06:10<01:50, 11.96it/s]"
     ]
    },
    {
     "name": "stdout",
     "output_type": "stream",
     "text": [
      "https://wolnelektury.pl/media/book/txt/rolicz-lieder-na-balu.txt\n",
      "https://wolnelektury.pl/media/book/txt/rolicz-lieder-szkola.txt\n",
      "https://wolnelektury.pl/media/book/txt/rolicz-lieder-wierzba-na-pustkowiu.txt\n"
     ]
    },
    {
     "name": "stderr",
     "output_type": "stream",
     "text": [
      "\r",
      " 77%|███████▋  | 4436/5750 [06:10<01:49, 11.96it/s]"
     ]
    },
    {
     "name": "stdout",
     "output_type": "stream",
     "text": [
      "https://wolnelektury.pl/media/book/txt/rolnik.txt\n",
      "https://wolnelektury.pl/media/book/txt/romanowa.txt\n",
      "https://wolnelektury.pl/media/book/txt/romeo-i-julia.txt\n"
     ]
    },
    {
     "name": "stderr",
     "output_type": "stream",
     "text": [
      " 77%|███████▋  | 4440/5750 [06:11<01:49, 11.96it/s]"
     ]
    },
    {
     "name": "stdout",
     "output_type": "stream",
     "text": [
      "https://wolnelektury.pl/media/book/txt/ropucha.txt\n",
      "https://wolnelektury.pl/media/book/txt/roszpunka.txt\n",
      "https://wolnelektury.pl/media/book/txt/rota.txt\n",
      "https://wolnelektury.pl/media/book/txt/roth-hiob.txt\n"
     ]
    },
    {
     "name": "stderr",
     "output_type": "stream",
     "text": [
      "\r",
      " 77%|███████▋  | 4442/5750 [06:11<01:49, 11.96it/s]"
     ]
    },
    {
     "name": "stdout",
     "output_type": "stream",
     "text": [
      "https://wolnelektury.pl/media/book/txt/roth-rodzina-bernheimow.txt\n",
      "https://wolnelektury.pl/media/book/txt/rotszyldowna.txt\n"
     ]
    },
    {
     "name": "stderr",
     "output_type": "stream",
     "text": [
      "\r",
      " 77%|███████▋  | 4444/5750 [06:11<01:49, 11.96it/s]"
     ]
    },
    {
     "name": "stdout",
     "output_type": "stream",
     "text": [
      "https://wolnelektury.pl/media/book/txt/rousseau-wyznania.txt\n",
      "https://wolnelektury.pl/media/book/txt/rousseau-wyznania-tom-drugi.txt\n"
     ]
    },
    {
     "name": "stderr",
     "output_type": "stream",
     "text": [
      "\r",
      " 77%|███████▋  | 4446/5750 [06:11<01:49, 11.96it/s]"
     ]
    },
    {
     "name": "stdout",
     "output_type": "stream",
     "text": [
      "https://wolnelektury.pl/media/book/txt/rousseau-wyznania-tom-pierwszy.txt\n"
     ]
    },
    {
     "name": "stderr",
     "output_type": "stream",
     "text": [
      " 77%|███████▋  | 4448/5750 [06:12<01:48, 11.95it/s]"
     ]
    },
    {
     "name": "stdout",
     "output_type": "stream",
     "text": [
      "https://wolnelektury.pl/media/book/txt/rozbitki.txt\n",
      "https://wolnelektury.pl/media/book/txt/rozlaczenie.txt\n",
      "https://wolnelektury.pl/media/book/txt/rozmaryn.txt\n"
     ]
    },
    {
     "name": "stderr",
     "output_type": "stream",
     "text": [
      "\r",
      " 77%|███████▋  | 4450/5750 [06:12<01:48, 11.95it/s]"
     ]
    },
    {
     "name": "stdout",
     "output_type": "stream",
     "text": [
      "https://wolnelektury.pl/media/book/txt/rozmowa-z-piramidami.txt\n",
      "https://wolnelektury.pl/media/book/txt/rozmyslania-marek-aureliusz.txt\n"
     ]
    },
    {
     "name": "stderr",
     "output_type": "stream",
     "text": [
      " 77%|███████▋  | 4453/5750 [06:12<01:48, 11.95it/s]"
     ]
    },
    {
     "name": "stdout",
     "output_type": "stream",
     "text": [
      "https://wolnelektury.pl/media/book/txt/rozprawa-o-metodzie.txt\n",
      "https://wolnelektury.pl/media/book/txt/rozsadny.txt\n"
     ]
    },
    {
     "name": "stderr",
     "output_type": "stream",
     "text": [
      "\r",
      " 77%|███████▋  | 4455/5750 [06:12<01:48, 11.95it/s]"
     ]
    },
    {
     "name": "stdout",
     "output_type": "stream",
     "text": [
      "https://wolnelektury.pl/media/book/txt/ruffer-jablonie.txt\n",
      "https://wolnelektury.pl/media/book/txt/ruffer-maryja-panna.txt\n",
      "https://wolnelektury.pl/media/book/txt/ruffer-morze.txt\n"
     ]
    },
    {
     "name": "stderr",
     "output_type": "stream",
     "text": [
      " 78%|███████▊  | 4459/5750 [06:13<01:48, 11.95it/s]"
     ]
    },
    {
     "name": "stdout",
     "output_type": "stream",
     "text": [
      "https://wolnelektury.pl/media/book/txt/ruffer-na-halnym-stoku.txt\n",
      "https://wolnelektury.pl/media/book/txt/ruffer-pies.txt\n",
      "https://wolnelektury.pl/media/book/txt/rumak-i-zrebiec-bajki-nowe.txt\n"
     ]
    },
    {
     "name": "stderr",
     "output_type": "stream",
     "text": [
      "\r",
      " 78%|███████▊  | 4461/5750 [06:13<01:47, 11.95it/s]"
     ]
    },
    {
     "name": "stdout",
     "output_type": "stream",
     "text": [
      "https://wolnelektury.pl/media/book/txt/rupiec-kopec.txt\n",
      "https://wolnelektury.pl/media/book/txt/rybak.txt\n",
      "https://wolnelektury.pl/media/book/txt/rybka-mala-i-szczupak.txt\n"
     ]
    },
    {
     "name": "stderr",
     "output_type": "stream",
     "text": [
      " 78%|███████▊  | 4465/5750 [06:13<01:47, 11.95it/s]"
     ]
    },
    {
     "name": "stdout",
     "output_type": "stream",
     "text": [
      "https://wolnelektury.pl/media/book/txt/rydel-bajka-o-kasi-i-krolewieczu.txt\n",
      "https://wolnelektury.pl/media/book/txt/rydel-hania.txt\n",
      "https://wolnelektury.pl/media/book/txt/rydel-jesienia.txt\n"
     ]
    },
    {
     "name": "stderr",
     "output_type": "stream",
     "text": [
      "\r",
      " 78%|███████▊  | 4467/5750 [06:13<01:47, 11.95it/s]"
     ]
    },
    {
     "name": "stdout",
     "output_type": "stream",
     "text": [
      "https://wolnelektury.pl/media/book/txt/rydel-mojej-zonie.txt\n",
      "https://wolnelektury.pl/media/book/txt/rydel-serce-mi-sie-wciaz-wyrywa.txt\n",
      "https://wolnelektury.pl/media/book/txt/ryszard-wagner-w-bayreuth.txt\n"
     ]
    },
    {
     "name": "stderr",
     "output_type": "stream",
     "text": [
      " 78%|███████▊  | 4471/5750 [06:14<01:47, 11.95it/s]"
     ]
    },
    {
     "name": "stdout",
     "output_type": "stream",
     "text": [
      "https://wolnelektury.pl/media/book/txt/rzecz-o-wolnosci-slowa.txt\n",
      "https://wolnelektury.pl/media/book/txt/rzeka-konopnicka.txt\n",
      "https://wolnelektury.pl/media/book/txt/rzepa-bajki-nowe.txt\n"
     ]
    },
    {
     "name": "stderr",
     "output_type": "stream",
     "text": [
      "\r",
      " 78%|███████▊  | 4473/5750 [06:14<01:46, 11.95it/s]"
     ]
    },
    {
     "name": "stdout",
     "output_type": "stream",
     "text": [
      "https://wolnelektury.pl/media/book/txt/rzetelnicki.txt\n",
      "https://wolnelektury.pl/media/book/txt/rzym.txt\n",
      "https://wolnelektury.pl/media/book/txt/rzym-za-nerona.txt\n"
     ]
    },
    {
     "name": "stderr",
     "output_type": "stream",
     "text": [
      "\r",
      " 78%|███████▊  | 4475/5750 [06:14<01:46, 11.95it/s]"
     ]
    },
    {
     "name": "stdout",
     "output_type": "stream",
     "text": [
      "https://wolnelektury.pl/media/book/txt/sa-napewno.txt\n",
      "https://wolnelektury.pl/media/book/txt/salamandra.txt\n"
     ]
    },
    {
     "name": "stderr",
     "output_type": "stream",
     "text": [
      " 78%|███████▊  | 4479/5750 [06:14<01:46, 11.95it/s]"
     ]
    },
    {
     "name": "stdout",
     "output_type": "stream",
     "text": [
      "https://wolnelektury.pl/media/book/txt/salomon-i-sulamitka.txt\n",
      "https://wolnelektury.pl/media/book/txt/salusia.txt\n",
      "https://wolnelektury.pl/media/book/txt/samain-wiosenny-wieczor.txt\n"
     ]
    },
    {
     "name": "stderr",
     "output_type": "stream",
     "text": [
      "\r",
      " 78%|███████▊  | 4481/5750 [06:15<01:46, 11.95it/s]"
     ]
    },
    {
     "name": "stdout",
     "output_type": "stream",
     "text": [
      "https://wolnelektury.pl/media/book/txt/samowiedzy-bolesci.txt\n",
      "https://wolnelektury.pl/media/book/txt/sasiedztwo.txt\n",
      "https://wolnelektury.pl/media/book/txt/satrijos-ragana-vincas-stonis.txt\n"
     ]
    },
    {
     "name": "stderr",
     "output_type": "stream",
     "text": [
      " 78%|███████▊  | 4485/5750 [06:15<01:45, 11.95it/s]"
     ]
    },
    {
     "name": "stdout",
     "output_type": "stream",
     "text": [
      "https://wolnelektury.pl/media/book/txt/satyry.txt\n",
      "https://wolnelektury.pl/media/book/txt/satyry-czesc-druga.txt\n",
      "https://wolnelektury.pl/media/book/txt/satyry-czesc-druga-czlowiek-i-zwierz.txt\n",
      "https://wolnelektury.pl/media/book/txt/satyry-czesc-druga-klatki.txt\n"
     ]
    },
    {
     "name": "stderr",
     "output_type": "stream",
     "text": [
      " 78%|███████▊  | 4489/5750 [06:15<01:45, 11.95it/s]"
     ]
    },
    {
     "name": "stdout",
     "output_type": "stream",
     "text": [
      "https://wolnelektury.pl/media/book/txt/satyry-czesc-druga-malzenstwo.txt\n",
      "https://wolnelektury.pl/media/book/txt/satyry-czesc-druga-medrek.txt\n",
      "https://wolnelektury.pl/media/book/txt/satyry-czesc-druga-pochwala-glupstwa.txt\n",
      "https://wolnelektury.pl/media/book/txt/satyry-czesc-druga-pochwala-wieku.txt\n"
     ]
    },
    {
     "name": "stderr",
     "output_type": "stream",
     "text": [
      " 78%|███████▊  | 4493/5750 [06:15<01:45, 11.95it/s]"
     ]
    },
    {
     "name": "stdout",
     "output_type": "stream",
     "text": [
      "https://wolnelektury.pl/media/book/txt/satyry-czesc-druga-pochwaly-milczenia.txt\n",
      "https://wolnelektury.pl/media/book/txt/satyry-czesc-druga-podroz.txt\n",
      "https://wolnelektury.pl/media/book/txt/satyry-czesc-druga-wzietosc.txt\n",
      "https://wolnelektury.pl/media/book/txt/satyry-czesc-pierwsza.txt\n"
     ]
    },
    {
     "name": "stderr",
     "output_type": "stream",
     "text": [
      " 78%|███████▊  | 4497/5750 [06:16<01:44, 11.96it/s]"
     ]
    },
    {
     "name": "stdout",
     "output_type": "stream",
     "text": [
      "https://wolnelektury.pl/media/book/txt/satyry-czesc-pierwsza-do-krola.txt\n",
      "https://wolnelektury.pl/media/book/txt/satyry-czesc-pierwsza-gracz.txt\n",
      "https://wolnelektury.pl/media/book/txt/satyry-czesc-pierwsza-marnotrawstwo.txt\n",
      "https://wolnelektury.pl/media/book/txt/satyry-czesc-pierwsza-oszczednosc.txt\n"
     ]
    },
    {
     "name": "stderr",
     "output_type": "stream",
     "text": [
      " 78%|███████▊  | 4501/5750 [06:16<01:44, 11.96it/s]"
     ]
    },
    {
     "name": "stdout",
     "output_type": "stream",
     "text": [
      "https://wolnelektury.pl/media/book/txt/satyry-czesc-pierwsza-palinodia.txt\n",
      "https://wolnelektury.pl/media/book/txt/satyry-czesc-pierwsza-pan-niewart-slugi.txt\n",
      "https://wolnelektury.pl/media/book/txt/satyry-czesc-pierwsza-pijanstwo.txt\n",
      "https://wolnelektury.pl/media/book/txt/satyry-czesc-pierwsza-przestroga-mlodemu.txt\n"
     ]
    },
    {
     "name": "stderr",
     "output_type": "stream",
     "text": [
      " 78%|███████▊  | 4505/5750 [06:16<01:44, 11.96it/s]"
     ]
    },
    {
     "name": "stdout",
     "output_type": "stream",
     "text": [
      "https://wolnelektury.pl/media/book/txt/satyry-czesc-pierwsza-swiat-zepsuty.txt\n",
      "https://wolnelektury.pl/media/book/txt/satyry-czesc-pierwsza-szczesliwosc-filutow.txt\n",
      "https://wolnelektury.pl/media/book/txt/satyry-czesc-pierwsza-zlosc-ukryta-i-jawna.txt\n",
      "https://wolnelektury.pl/media/book/txt/satyry-czesc-pierwsza-zona-modna.txt\n"
     ]
    },
    {
     "name": "stderr",
     "output_type": "stream",
     "text": [
      " 78%|███████▊  | 4509/5750 [06:16<01:43, 11.96it/s]"
     ]
    },
    {
     "name": "stdout",
     "output_type": "stream",
     "text": [
      "https://wolnelektury.pl/media/book/txt/satyry-czesc-pierwsza-zycie-dworskie.txt\n",
      "https://wolnelektury.pl/media/book/txt/schiller-an-die-freude.txt\n",
      "https://wolnelektury.pl/media/book/txt/schiller-der-handschuh.txt\n",
      "https://wolnelektury.pl/media/book/txt/schiller-der-ring-des-polykrates.txt\n"
     ]
    },
    {
     "name": "stderr",
     "output_type": "stream",
     "text": [
      " 78%|███████▊  | 4513/5750 [06:17<01:43, 11.97it/s]"
     ]
    },
    {
     "name": "stdout",
     "output_type": "stream",
     "text": [
      "https://wolnelektury.pl/media/book/txt/schiller-der-taucher.txt\n",
      "https://wolnelektury.pl/media/book/txt/schiller-die-burgschaft.txt\n",
      "https://wolnelektury.pl/media/book/txt/schiller-die-rauber.txt\n"
     ]
    },
    {
     "name": "stderr",
     "output_type": "stream",
     "text": [
      "\r",
      " 79%|███████▊  | 4515/5750 [06:17<01:43, 11.96it/s]"
     ]
    },
    {
     "name": "stdout",
     "output_type": "stream",
     "text": [
      "https://wolnelektury.pl/media/book/txt/schiller-don-carlos.txt\n",
      "https://wolnelektury.pl/media/book/txt/schiller-dziewica-orleanska.txt\n"
     ]
    },
    {
     "name": "stderr",
     "output_type": "stream",
     "text": [
      "\r",
      " 79%|███████▊  | 4517/5750 [06:17<01:43, 11.96it/s]"
     ]
    },
    {
     "name": "stdout",
     "output_type": "stream",
     "text": [
      "https://wolnelektury.pl/media/book/txt/schiller-intryga-i-milosc.txt\n",
      "https://wolnelektury.pl/media/book/txt/schiller-nurek.txt\n",
      "https://wolnelektury.pl/media/book/txt/schiller-oblubienica-z-messyny.txt\n"
     ]
    },
    {
     "name": "stderr",
     "output_type": "stream",
     "text": [
      " 79%|███████▊  | 4521/5750 [06:18<01:42, 11.96it/s]"
     ]
    },
    {
     "name": "stdout",
     "output_type": "stream",
     "text": [
      "https://wolnelektury.pl/media/book/txt/schiller-pierscien-polikratesa.txt\n",
      "https://wolnelektury.pl/media/book/txt/schiller-rekojmia.txt\n",
      "https://wolnelektury.pl/media/book/txt/schiller-ritter-toggenburg.txt\n",
      "https://wolnelektury.pl/media/book/txt/schiller-rycerz-toggenburg.txt\n"
     ]
    },
    {
     "name": "stderr",
     "output_type": "stream",
     "text": [
      "\r",
      " 79%|███████▊  | 4523/5750 [06:18<01:42, 11.96it/s]"
     ]
    },
    {
     "name": "stdout",
     "output_type": "stream",
     "text": [
      "https://wolnelektury.pl/media/book/txt/schiller-sprzysiezenie-fieska-w-genui.txt\n",
      "https://wolnelektury.pl/media/book/txt/schiller-zbojcy.txt\n"
     ]
    },
    {
     "name": "stderr",
     "output_type": "stream",
     "text": [
      " 79%|███████▊  | 4526/5750 [06:18<01:42, 11.95it/s]"
     ]
    },
    {
     "name": "stdout",
     "output_type": "stream",
     "text": [
      "https://wolnelektury.pl/media/book/txt/schmid-koszyk-kwiatow.txt\n",
      "https://wolnelektury.pl/media/book/txt/schnaca-limba.txt\n"
     ]
    },
    {
     "name": "stderr",
     "output_type": "stream",
     "text": [
      "\r",
      " 79%|███████▊  | 4528/5750 [06:19<01:42, 11.95it/s]"
     ]
    },
    {
     "name": "stdout",
     "output_type": "stream",
     "text": [
      "https://wolnelektury.pl/media/book/txt/schopenhauer-hamlet-mefistofeles.txt\n",
      "https://wolnelektury.pl/media/book/txt/schopenhauer-o-wolnosci-ludzkiej-woli.txt\n"
     ]
    },
    {
     "name": "stderr",
     "output_type": "stream",
     "text": [
      " 79%|███████▉  | 4531/5750 [06:19<01:42, 11.94it/s]"
     ]
    },
    {
     "name": "stdout",
     "output_type": "stream",
     "text": [
      "https://wolnelektury.pl/media/book/txt/schulz-jesien.txt\n",
      "https://wolnelektury.pl/media/book/txt/schulz-kometa.txt\n",
      "https://wolnelektury.pl/media/book/txt/schulz-ojczyzna.txt\n"
     ]
    },
    {
     "name": "stderr",
     "output_type": "stream",
     "text": [
      "\r",
      " 79%|███████▉  | 4533/5750 [06:19<01:41, 11.94it/s]"
     ]
    },
    {
     "name": "stdout",
     "output_type": "stream",
     "text": [
      "https://wolnelektury.pl/media/book/txt/schulz-republika-marzen.txt\n",
      "https://wolnelektury.pl/media/book/txt/schulz-sanatorium-pod-klepsydra.txt\n",
      "https://wolnelektury.pl/media/book/txt/schulz-sanatorium-pod-klepsydra-dodo.txt\n"
     ]
    },
    {
     "name": "stderr",
     "output_type": "stream",
     "text": [
      " 79%|███████▉  | 4537/5750 [06:19<01:41, 11.94it/s]"
     ]
    },
    {
     "name": "stdout",
     "output_type": "stream",
     "text": [
      "https://wolnelektury.pl/media/book/txt/schulz-sanatorium-pod-klepsydra-druga-jesien.txt\n",
      "https://wolnelektury.pl/media/book/txt/schulz-sanatorium-pod-klepsydra-edzio.txt\n",
      "https://wolnelektury.pl/media/book/txt/schulz-sanatorium-pod-klepsydra-emeryt.txt\n"
     ]
    },
    {
     "name": "stderr",
     "output_type": "stream",
     "text": [
      "\r",
      " 79%|███████▉  | 4539/5750 [06:20<01:41, 11.94it/s]"
     ]
    },
    {
     "name": "stdout",
     "output_type": "stream",
     "text": [
      "https://wolnelektury.pl/media/book/txt/schulz-sanatorium-pod-klepsydra-genialna-epoka.txt\n",
      "https://wolnelektury.pl/media/book/txt/schulz-sanatorium-pod-klepsydra-ksiega.txt\n",
      "https://wolnelektury.pl/media/book/txt/schulz-sanatorium-pod-klepsydra-martwy-sezon.txt\n"
     ]
    },
    {
     "name": "stderr",
     "output_type": "stream",
     "text": [
      " 79%|███████▉  | 4543/5750 [06:20<01:41, 11.94it/s]"
     ]
    },
    {
     "name": "stdout",
     "output_type": "stream",
     "text": [
      "https://wolnelektury.pl/media/book/txt/schulz-sanatorium-pod-klepsydra-moj-ojciec-wstepuje-do-strazakow.txt\n",
      "https://wolnelektury.pl/media/book/txt/schulz-sanatorium-pod-klepsydra-noc-lipcowa.txt\n",
      "https://wolnelektury.pl/media/book/txt/schulz-sanatorium-pod-klepsydra-ostatnia-ucieczka-ojca.txt\n"
     ]
    },
    {
     "name": "stderr",
     "output_type": "stream",
     "text": [
      "\r",
      " 79%|███████▉  | 4545/5750 [06:20<01:40, 11.94it/s]"
     ]
    },
    {
     "name": "stdout",
     "output_type": "stream",
     "text": [
      "https://wolnelektury.pl/media/book/txt/schulz-sanatorium-pod-klepsydra-samotnosc.txt\n",
      "https://wolnelektury.pl/media/book/txt/schulz-sanatorium-pod-klepsydra-sanatorium-pod-klepsydra.txt\n",
      "https://wolnelektury.pl/media/book/txt/schulz-sanatorium-pod-klepsydra-wiosna.txt\n"
     ]
    },
    {
     "name": "stderr",
     "output_type": "stream",
     "text": [
      " 79%|███████▉  | 4549/5750 [06:20<01:40, 11.94it/s]"
     ]
    },
    {
     "name": "stdout",
     "output_type": "stream",
     "text": [
      "https://wolnelektury.pl/media/book/txt/schulz-sklepy-cynamonowe.txt\n",
      "https://wolnelektury.pl/media/book/txt/sekret.txt\n",
      "https://wolnelektury.pl/media/book/txt/sekrety-ksieznej-de-cadignan.txt\n"
     ]
    },
    {
     "name": "stderr",
     "output_type": "stream",
     "text": [
      "\r",
      " 79%|███████▉  | 4551/5750 [06:21<01:40, 11.94it/s]"
     ]
    },
    {
     "name": "stdout",
     "output_type": "stream",
     "text": [
      "https://wolnelektury.pl/media/book/txt/sen.txt\n",
      "https://wolnelektury.pl/media/book/txt/sen-abarysa.txt\n",
      "https://wolnelektury.pl/media/book/txt/sen-nocy-letniej.txt\n"
     ]
    },
    {
     "name": "stderr",
     "output_type": "stream",
     "text": [
      " 79%|███████▉  | 4555/5750 [06:21<01:40, 11.94it/s]"
     ]
    },
    {
     "name": "stdout",
     "output_type": "stream",
     "text": [
      "https://wolnelektury.pl/media/book/txt/sentencje-ojcow.txt\n",
      "https://wolnelektury.pl/media/book/txt/serce-lasowiackie.txt\n",
      "https://wolnelektury.pl/media/book/txt/serce-oskarzycielem.txt\n",
      "https://wolnelektury.pl/media/book/txt/sezonowa-milosc.txt\n"
     ]
    },
    {
     "name": "stderr",
     "output_type": "stream",
     "text": [
      "\r",
      " 79%|███████▉  | 4557/5750 [06:21<01:39, 11.94it/s]"
     ]
    },
    {
     "name": "stdout",
     "output_type": "stream",
     "text": [
      "https://wolnelektury.pl/media/book/txt/shakespeare-koriolan.txt\n",
      "https://wolnelektury.pl/media/book/txt/shakespeare-wiele-halasu-o-nic.txt\n"
     ]
    },
    {
     "name": "stderr",
     "output_type": "stream",
     "text": [
      " 79%|███████▉  | 4561/5750 [06:22<01:39, 11.93it/s]"
     ]
    },
    {
     "name": "stdout",
     "output_type": "stream",
     "text": [
      "https://wolnelektury.pl/media/book/txt/sidi-numan.txt\n",
      "https://wolnelektury.pl/media/book/txt/siedmiospiochy.txt\n",
      "https://wolnelektury.pl/media/book/txt/siejba.txt\n"
     ]
    },
    {
     "name": "stderr",
     "output_type": "stream",
     "text": [
      "\r",
      " 79%|███████▉  | 4563/5750 [06:22<01:39, 11.93it/s]"
     ]
    },
    {
     "name": "stdout",
     "output_type": "stream",
     "text": [
      "https://wolnelektury.pl/media/book/txt/sielanka-nierozowa.txt\n",
      "https://wolnelektury.pl/media/book/txt/sienkiewicz-badz-blogoslawiona.txt\n",
      "https://wolnelektury.pl/media/book/txt/sienkiewicz-bajka.txt\n"
     ]
    },
    {
     "name": "stderr",
     "output_type": "stream",
     "text": [
      " 79%|███████▉  | 4567/5750 [06:22<01:39, 11.93it/s]"
     ]
    },
    {
     "name": "stdout",
     "output_type": "stream",
     "text": [
      "https://wolnelektury.pl/media/book/txt/sienkiewicz-co-sie-raz-stalo-w-sydonie.txt\n",
      "https://wolnelektury.pl/media/book/txt/sienkiewicz-czy-ci-najmilszy.txt\n",
      "https://wolnelektury.pl/media/book/txt/sienkiewicz-diokles.txt\n"
     ]
    },
    {
     "name": "stderr",
     "output_type": "stream",
     "text": [
      "\r",
      " 79%|███████▉  | 4569/5750 [06:22<01:38, 11.94it/s]"
     ]
    },
    {
     "name": "stdout",
     "output_type": "stream",
     "text": [
      "https://wolnelektury.pl/media/book/txt/sienkiewicz-dwie-laki.txt\n",
      "https://wolnelektury.pl/media/book/txt/sienkiewicz-hkt.txt\n",
      "https://wolnelektury.pl/media/book/txt/sienkiewicz-jako-sie-pan-lubomirski-nawrocil.txt\n"
     ]
    },
    {
     "name": "stderr",
     "output_type": "stream",
     "text": [
      " 80%|███████▉  | 4573/5750 [06:23<01:38, 11.94it/s]"
     ]
    },
    {
     "name": "stdout",
     "output_type": "stream",
     "text": [
      "https://wolnelektury.pl/media/book/txt/sienkiewicz-legenda-zeglarska.txt\n",
      "https://wolnelektury.pl/media/book/txt/sienkiewicz-na-olimpie.txt\n",
      "https://wolnelektury.pl/media/book/txt/sienkiewicz-orso.txt\n"
     ]
    },
    {
     "name": "stderr",
     "output_type": "stream",
     "text": [
      "\r",
      " 80%|███████▉  | 4575/5750 [06:23<01:38, 11.94it/s]"
     ]
    },
    {
     "name": "stdout",
     "output_type": "stream",
     "text": [
      "https://wolnelektury.pl/media/book/txt/sienkiewicz-plomyk.txt\n",
      "https://wolnelektury.pl/media/book/txt/sienkiewicz-pojdzmy-za-nim.txt\n",
      "https://wolnelektury.pl/media/book/txt/sienkiewicz-przygoda-arystoklesa.txt\n"
     ]
    },
    {
     "name": "stderr",
     "output_type": "stream",
     "text": [
      " 80%|███████▉  | 4579/5750 [06:23<01:38, 11.94it/s]"
     ]
    },
    {
     "name": "stdout",
     "output_type": "stream",
     "text": [
      "https://wolnelektury.pl/media/book/txt/sienkiewicz-sabalowa-bajka.txt\n",
      "https://wolnelektury.pl/media/book/txt/sienkiewicz-sachem.txt\n",
      "https://wolnelektury.pl/media/book/txt/sienkiewicz-sad-ozyrysa.txt\n"
     ]
    },
    {
     "name": "stderr",
     "output_type": "stream",
     "text": [
      "\r",
      " 80%|███████▉  | 4581/5750 [06:23<01:37, 11.94it/s]"
     ]
    },
    {
     "name": "stdout",
     "output_type": "stream",
     "text": [
      "https://wolnelektury.pl/media/book/txt/sienkiewicz-toast.txt\n",
      "https://wolnelektury.pl/media/book/txt/sienkiewicz-u-bramy-raju.txt\n",
      "https://wolnelektury.pl/media/book/txt/sienkiewicz-we-mgle.txt\n"
     ]
    },
    {
     "name": "stderr",
     "output_type": "stream",
     "text": [
      " 80%|███████▉  | 4585/5750 [06:24<01:37, 11.94it/s]"
     ]
    },
    {
     "name": "stdout",
     "output_type": "stream",
     "text": [
      "https://wolnelektury.pl/media/book/txt/sienkiewicz-wesele.txt\n",
      "https://wolnelektury.pl/media/book/txt/sienkiewicz-wspomnienie-z-maripozy.txt\n",
      "https://wolnelektury.pl/media/book/txt/sienkiewicz-wyrok-zeusa.txt\n"
     ]
    },
    {
     "name": "stderr",
     "output_type": "stream",
     "text": [
      "\r",
      " 80%|███████▉  | 4587/5750 [06:24<01:37, 11.94it/s]"
     ]
    },
    {
     "name": "stdout",
     "output_type": "stream",
     "text": [
      "https://wolnelektury.pl/media/book/txt/sienkiewicz-z-dawnych-dziejow.txt\n",
      "https://wolnelektury.pl/media/book/txt/sienkiewicz-z-kurzem-krwi-bratniej.txt\n",
      "https://wolnelektury.pl/media/book/txt/sienkiewicz-z-pamietnika-poznanskieg-nauczyciela.txt\n"
     ]
    },
    {
     "name": "stderr",
     "output_type": "stream",
     "text": [
      " 80%|███████▉  | 4591/5750 [06:24<01:37, 11.94it/s]"
     ]
    },
    {
     "name": "stdout",
     "output_type": "stream",
     "text": [
      "https://wolnelektury.pl/media/book/txt/sienkiewicz-za-chlebem.txt\n",
      "https://wolnelektury.pl/media/book/txt/sierotki-w-oknie-stoja.txt\n",
      "https://wolnelektury.pl/media/book/txt/silaczka.txt\n"
     ]
    },
    {
     "name": "stderr",
     "output_type": "stream",
     "text": [
      "\r",
      " 80%|███████▉  | 4593/5750 [06:24<01:36, 11.94it/s]"
     ]
    },
    {
     "name": "stdout",
     "output_type": "stream",
     "text": [
      "https://wolnelektury.pl/media/book/txt/silny-samson.txt\n",
      "https://wolnelektury.pl/media/book/txt/siteczko.txt\n",
      "https://wolnelektury.pl/media/book/txt/siwe-wloski.txt\n"
     ]
    },
    {
     "name": "stderr",
     "output_type": "stream",
     "text": [
      " 80%|███████▉  | 4597/5750 [06:25<01:36, 11.94it/s]"
     ]
    },
    {
     "name": "stdout",
     "output_type": "stream",
     "text": [
      "https://wolnelektury.pl/media/book/txt/skad-sie-biora-piosenki.txt\n",
      "https://wolnelektury.pl/media/book/txt/skala-i-kropla.txt\n",
      "https://wolnelektury.pl/media/book/txt/skapiec.txt\n"
     ]
    },
    {
     "name": "stderr",
     "output_type": "stream",
     "text": [
      "\r",
      " 80%|███████▉  | 4599/5750 [06:25<01:36, 11.94it/s]"
     ]
    },
    {
     "name": "stdout",
     "output_type": "stream",
     "text": [
      "https://wolnelektury.pl/media/book/txt/skapy.txt\n",
      "https://wolnelektury.pl/media/book/txt/skarb.txt\n"
     ]
    },
    {
     "name": "stderr",
     "output_type": "stream",
     "text": [
      "\r",
      " 80%|████████  | 4601/5750 [06:25<01:36, 11.93it/s]"
     ]
    },
    {
     "name": "stdout",
     "output_type": "stream",
     "text": [
      "https://wolnelektury.pl/media/book/txt/skarb-matki.txt\n",
      "https://wolnelektury.pl/media/book/txt/skarga.txt\n",
      "https://wolnelektury.pl/media/book/txt/sklepy-cynamonowe-karakony.txt\n"
     ]
    },
    {
     "name": "stderr",
     "output_type": "stream",
     "text": [
      " 80%|████████  | 4605/5750 [06:25<01:35, 11.93it/s]"
     ]
    },
    {
     "name": "stdout",
     "output_type": "stream",
     "text": [
      "https://wolnelektury.pl/media/book/txt/sklepy-cynamonowe-manekiny.txt\n",
      "https://wolnelektury.pl/media/book/txt/sklepy-cynamonowe-nawiedzenie.txt\n",
      "https://wolnelektury.pl/media/book/txt/sklepy-cynamonowe-nemrod.txt\n"
     ]
    },
    {
     "name": "stderr",
     "output_type": "stream",
     "text": [
      "\r",
      " 80%|████████  | 4607/5750 [06:26<01:35, 11.93it/s]"
     ]
    },
    {
     "name": "stdout",
     "output_type": "stream",
     "text": [
      "https://wolnelektury.pl/media/book/txt/sklepy-cynamonowe-noc-wielkiego-sezonu.txt\n",
      "https://wolnelektury.pl/media/book/txt/sklepy-cynamonowe-pan.txt\n",
      "https://wolnelektury.pl/media/book/txt/sklepy-cynamonowe-pan-karol.txt\n"
     ]
    },
    {
     "name": "stderr",
     "output_type": "stream",
     "text": [
      " 80%|████████  | 4611/5750 [06:26<01:35, 11.94it/s]"
     ]
    },
    {
     "name": "stdout",
     "output_type": "stream",
     "text": [
      "https://wolnelektury.pl/media/book/txt/sklepy-cynamonowe-ptaki.txt\n",
      "https://wolnelektury.pl/media/book/txt/sklepy-cynamonowe-sierpien.txt\n",
      "https://wolnelektury.pl/media/book/txt/sklepy-cynamonowe-sklepy-cynamonowe.txt\n"
     ]
    },
    {
     "name": "stderr",
     "output_type": "stream",
     "text": [
      " 80%|████████  | 4615/5750 [06:26<01:35, 11.94it/s]"
     ]
    },
    {
     "name": "stdout",
     "output_type": "stream",
     "text": [
      "https://wolnelektury.pl/media/book/txt/sklepy-cynamonowe-traktat-o-manekinach-albo-wtora-ksiega-rodzaju.txt\n",
      "https://wolnelektury.pl/media/book/txt/sklepy-cynamonowe-traktat-o-manekinach-ciag-dalszy.txt\n",
      "https://wolnelektury.pl/media/book/txt/sklepy-cynamonowe-traktat-o-manekinach-dokonczenie.txt\n",
      "https://wolnelektury.pl/media/book/txt/sklepy-cynamonowe-ulica-krokodyli.txt\n"
     ]
    },
    {
     "name": "stderr",
     "output_type": "stream",
     "text": [
      "\r",
      " 80%|████████  | 4617/5750 [06:26<01:34, 11.94it/s]"
     ]
    },
    {
     "name": "stdout",
     "output_type": "stream",
     "text": [
      "https://wolnelektury.pl/media/book/txt/sklepy-cynamonowe-wichura.txt\n",
      "https://wolnelektury.pl/media/book/txt/sklodowska-badanie-cial-radioaktywnych.txt\n"
     ]
    },
    {
     "name": "stderr",
     "output_type": "stream",
     "text": [
      "\r",
      " 80%|████████  | 4619/5750 [06:26<01:34, 11.94it/s]"
     ]
    },
    {
     "name": "stdout",
     "output_type": "stream",
     "text": [
      "https://wolnelektury.pl/media/book/txt/skoczek-dobroczynny.txt\n",
      "https://wolnelektury.pl/media/book/txt/skowronek.txt\n",
      "https://wolnelektury.pl/media/book/txt/skowronek-bajki-nowe.txt\n"
     ]
    },
    {
     "name": "stderr",
     "output_type": "stream",
     "text": [
      " 80%|████████  | 4623/5750 [06:27<01:34, 11.94it/s]"
     ]
    },
    {
     "name": "stdout",
     "output_type": "stream",
     "text": [
      "https://wolnelektury.pl/media/book/txt/skowronek-i-dziecie.txt\n",
      "https://wolnelektury.pl/media/book/txt/skrucha-jozi.txt\n",
      "https://wolnelektury.pl/media/book/txt/skutki-lekkomyslnosci.txt\n"
     ]
    },
    {
     "name": "stderr",
     "output_type": "stream",
     "text": [
      "\r",
      " 80%|████████  | 4625/5750 [06:27<01:34, 11.94it/s]"
     ]
    },
    {
     "name": "stdout",
     "output_type": "stream",
     "text": [
      "https://wolnelektury.pl/media/book/txt/slimaczek.txt\n",
      "https://wolnelektury.pl/media/book/txt/slimak-i-roza.txt\n",
      "https://wolnelektury.pl/media/book/txt/slodka-potrawa.txt\n"
     ]
    },
    {
     "name": "stderr",
     "output_type": "stream",
     "text": [
      " 81%|████████  | 4629/5750 [06:27<01:33, 11.94it/s]"
     ]
    },
    {
     "name": "stdout",
     "output_type": "stream",
     "text": [
      "https://wolnelektury.pl/media/book/txt/slodycz.txt\n",
      "https://wolnelektury.pl/media/book/txt/slon-i-pszczola.txt\n",
      "https://wolnelektury.pl/media/book/txt/slonce-i-ksiezyc.txt\n"
     ]
    },
    {
     "name": "stderr",
     "output_type": "stream",
     "text": [
      "\r",
      " 81%|████████  | 4631/5750 [06:27<01:33, 11.94it/s]"
     ]
    },
    {
     "name": "stdout",
     "output_type": "stream",
     "text": [
      "https://wolnelektury.pl/media/book/txt/slonce-i-obloki-bajki-nowe.txt\n",
      "https://wolnelektury.pl/media/book/txt/slonce-i-zaby-bajki-nowe.txt\n",
      "https://wolnelektury.pl/media/book/txt/slonce-obloki-ziemia-bajki-nowe.txt\n"
     ]
    },
    {
     "name": "stderr",
     "output_type": "stream",
     "text": [
      " 81%|████████  | 4635/5750 [06:28<01:33, 11.94it/s]"
     ]
    },
    {
     "name": "stdout",
     "output_type": "stream",
     "text": [
      "https://wolnelektury.pl/media/book/txt/slonce-powstanie-znowu.txt\n",
      "https://wolnelektury.pl/media/book/txt/slonecznik-i-fialek-bajki-nowe.txt\n",
      "https://wolnelektury.pl/media/book/txt/slonski-ani-ja-chcialbym.txt\n"
     ]
    },
    {
     "name": "stderr",
     "output_type": "stream",
     "text": [
      "\r",
      " 81%|████████  | 4637/5750 [06:28<01:33, 11.94it/s]"
     ]
    },
    {
     "name": "stdout",
     "output_type": "stream",
     "text": [
      "https://wolnelektury.pl/media/book/txt/slonski-glod.txt\n",
      "https://wolnelektury.pl/media/book/txt/slonski-na-lodzi.txt\n",
      "https://wolnelektury.pl/media/book/txt/slonski-nuda.txt\n"
     ]
    },
    {
     "name": "stderr",
     "output_type": "stream",
     "text": [
      "\r",
      " 81%|████████  | 4639/5750 [06:28<01:33, 11.94it/s]"
     ]
    },
    {
     "name": "stdout",
     "output_type": "stream",
     "text": [
      "https://wolnelektury.pl/media/book/txt/slowa-cienkie-i-grube.txt\n",
      "https://wolnelektury.pl/media/book/txt/slowacki-anhelli.txt\n"
     ]
    },
    {
     "name": "stderr",
     "output_type": "stream",
     "text": [
      " 81%|████████  | 4643/5750 [06:28<01:32, 11.94it/s]"
     ]
    },
    {
     "name": "stdout",
     "output_type": "stream",
     "text": [
      "https://wolnelektury.pl/media/book/txt/slowacki-do-emigracji-o-potrzebie-idei.txt\n",
      "https://wolnelektury.pl/media/book/txt/slowacki-fantazy.txt\n",
      "https://wolnelektury.pl/media/book/txt/slowacki-hugo.txt\n"
     ]
    },
    {
     "name": "stderr",
     "output_type": "stream",
     "text": [
      "\r",
      " 81%|████████  | 4645/5750 [06:29<01:32, 11.94it/s]"
     ]
    },
    {
     "name": "stdout",
     "output_type": "stream",
     "text": [
      "https://wolnelektury.pl/media/book/txt/slowacki-in-sophies-diary.txt\n",
      "https://wolnelektury.pl/media/book/txt/slowacki-ksiadz-marek.txt\n",
      "https://wolnelektury.pl/media/book/txt/slowacki-ksiaze-niezlomny.txt\n"
     ]
    },
    {
     "name": "stderr",
     "output_type": "stream",
     "text": [
      "\r",
      " 81%|████████  | 4647/5750 [06:29<01:32, 11.94it/s]"
     ]
    },
    {
     "name": "stdout",
     "output_type": "stream",
     "text": [
      "https://wolnelektury.pl/media/book/txt/slowacki-lilla-weneda.txt\n",
      "https://wolnelektury.pl/media/book/txt/slowacki-maria-stuart.txt\n"
     ]
    },
    {
     "name": "stderr",
     "output_type": "stream",
     "text": [
      "\r",
      " 81%|████████  | 4649/5750 [06:29<01:32, 11.94it/s]"
     ]
    },
    {
     "name": "stdout",
     "output_type": "stream",
     "text": [
      "https://wolnelektury.pl/media/book/txt/slowacki-mazepa.txt\n",
      "https://wolnelektury.pl/media/book/txt/slowacki-mindowe.txt\n"
     ]
    },
    {
     "name": "stderr",
     "output_type": "stream",
     "text": [
      " 81%|████████  | 4653/5750 [06:29<01:31, 11.93it/s]"
     ]
    },
    {
     "name": "stdout",
     "output_type": "stream",
     "text": [
      "https://wolnelektury.pl/media/book/txt/slowacki-my-testament.txt\n",
      "https://wolnelektury.pl/media/book/txt/slowacki-sen-srebrny-salomei.txt\n",
      "https://wolnelektury.pl/media/book/txt/slowik.txt\n"
     ]
    },
    {
     "name": "stderr",
     "output_type": "stream",
     "text": [
      "\r",
      " 81%|████████  | 4655/5750 [06:30<01:31, 11.94it/s]"
     ]
    },
    {
     "name": "stdout",
     "output_type": "stream",
     "text": [
      "https://wolnelektury.pl/media/book/txt/slowik-i-kukulka.txt\n",
      "https://wolnelektury.pl/media/book/txt/slowik-i-paw.txt\n",
      "https://wolnelektury.pl/media/book/txt/slowik-i-szczygiel.txt\n"
     ]
    },
    {
     "name": "stderr",
     "output_type": "stream",
     "text": [
      " 81%|████████  | 4659/5750 [06:30<01:31, 11.94it/s]"
     ]
    },
    {
     "name": "stdout",
     "output_type": "stream",
     "text": [
      "https://wolnelektury.pl/media/book/txt/slowik-i-szczygiel-ii.txt\n",
      "https://wolnelektury.pl/media/book/txt/slowka-zbior.txt\n",
      "https://wolnelektury.pl/media/book/txt/slowka-zbior-ach-co-za-przesliczne-abecadlo.txt\n"
     ]
    },
    {
     "name": "stderr",
     "output_type": "stream",
     "text": [
      " 81%|████████  | 4663/5750 [06:30<01:31, 11.93it/s]"
     ]
    },
    {
     "name": "stdout",
     "output_type": "stream",
     "text": [
      "https://wolnelektury.pl/media/book/txt/slowka-zbior-dziadzio.txt\n",
      "https://wolnelektury.pl/media/book/txt/slowka-zbior-dziwna-przygoda-rodziny-polanieckich.txt\n",
      "https://wolnelektury.pl/media/book/txt/slowka-zbior-ernestynka.txt\n",
      "https://wolnelektury.pl/media/book/txt/slowka-zbior-franio.txt\n"
     ]
    },
    {
     "name": "stderr",
     "output_type": "stream",
     "text": [
      "\r",
      " 81%|████████  | 4665/5750 [06:31<01:30, 11.93it/s]"
     ]
    },
    {
     "name": "stdout",
     "output_type": "stream",
     "text": [
      "https://wolnelektury.pl/media/book/txt/slowka-zbior-gdy-sie-czlowiek-robi-starszy.txt\n",
      "https://wolnelektury.pl/media/book/txt/slowka-zbior-jak-wyglada-niedziela.txt\n",
      "https://wolnelektury.pl/media/book/txt/slowka-zbior-krakowski-jubileusz.txt\n"
     ]
    },
    {
     "name": "stderr",
     "output_type": "stream",
     "text": [
      " 81%|████████  | 4669/5750 [06:31<01:30, 11.93it/s]"
     ]
    },
    {
     "name": "stdout",
     "output_type": "stream",
     "text": [
      "https://wolnelektury.pl/media/book/txt/slowka-zbior-list-otwarty-kobiety-polskiej.txt\n",
      "https://wolnelektury.pl/media/book/txt/slowka-zbior-list-prywatny-do-kornela-makuszynskiego.txt\n",
      "https://wolnelektury.pl/media/book/txt/slowka-zbior-litania-ku-czci-p-t-matrony-krakowskiej.txt\n",
      "https://wolnelektury.pl/media/book/txt/slowka-zbior-naszym-hymenografomanom.txt\n"
     ]
    },
    {
     "name": "stderr",
     "output_type": "stream",
     "text": [
      " 81%|████████▏ | 4673/5750 [06:31<01:30, 11.93it/s]"
     ]
    },
    {
     "name": "stdout",
     "output_type": "stream",
     "text": [
      "https://wolnelektury.pl/media/book/txt/slowka-zbior-nowa-wiara.txt\n",
      "https://wolnelektury.pl/media/book/txt/slowka-zbior-o-bardzo-niegrzecznej-literaturze-polskiej-i-jej-strapionej-ciotce.txt\n",
      "https://wolnelektury.pl/media/book/txt/slowka-zbior-o-tem-co-w-polszcze-dzieyopis-miec-winien.txt\n",
      "https://wolnelektury.pl/media/book/txt/slowka-zbior-odsiecz-wiednia.txt\n"
     ]
    },
    {
     "name": "stderr",
     "output_type": "stream",
     "text": [
      " 81%|████████▏ | 4677/5750 [06:31<01:29, 11.94it/s]"
     ]
    },
    {
     "name": "stdout",
     "output_type": "stream",
     "text": [
      "https://wolnelektury.pl/media/book/txt/slowka-zbior-piesn-o-mowie-naszej.txt\n",
      "https://wolnelektury.pl/media/book/txt/slowka-zbior-piosenki-zb.txt\n",
      "https://wolnelektury.pl/media/book/txt/slowka-zbior-piosenki-zb-co-mowili-w-kosciele-u-kapucynow.txt\n",
      "https://wolnelektury.pl/media/book/txt/slowka-zbior-piosenki-zb-dobra-mama.txt\n"
     ]
    },
    {
     "name": "stderr",
     "output_type": "stream",
     "text": [
      " 81%|████████▏ | 4681/5750 [06:32<01:29, 11.94it/s]"
     ]
    },
    {
     "name": "stdout",
     "output_type": "stream",
     "text": [
      "https://wolnelektury.pl/media/book/txt/slowka-zbior-piosenki-zb-dzien-p-esika-w-ostendzie.txt\n",
      "https://wolnelektury.pl/media/book/txt/slowka-zbior-piosenki-zb-glos-dziadkowy-o-restauracji-kosciola-parafialnego.txt\n",
      "https://wolnelektury.pl/media/book/txt/slowka-zbior-piosenki-zb-glos-rozjemczy-w-sprawie-pana-wilhelma-feldmana.txt\n"
     ]
    },
    {
     "name": "stderr",
     "output_type": "stream",
     "text": [
      " 81%|████████▏ | 4685/5750 [06:32<01:29, 11.94it/s]"
     ]
    },
    {
     "name": "stdout",
     "output_type": "stream",
     "text": [
      "https://wolnelektury.pl/media/book/txt/slowka-zbior-piosenki-zb-historia-prawicy-narodowej.txt\n",
      "https://wolnelektury.pl/media/book/txt/slowka-zbior-piosenki-zb-joie-de-vivre.txt\n",
      "https://wolnelektury.pl/media/book/txt/slowka-zbior-piosenki-zb-kilka-slow-o-piosence.txt\n",
      "https://wolnelektury.pl/media/book/txt/slowka-zbior-piosenki-zb-kilka-slow-w-obronie-swietosci-malzenstwa.txt\n"
     ]
    },
    {
     "name": "stderr",
     "output_type": "stream",
     "text": [
      " 82%|████████▏ | 4689/5750 [06:32<01:28, 11.94it/s]"
     ]
    },
    {
     "name": "stdout",
     "output_type": "stream",
     "text": [
      "https://wolnelektury.pl/media/book/txt/slowka-zbior-piosenki-zb-kuplet-posla-battaglii.txt\n",
      "https://wolnelektury.pl/media/book/txt/slowka-zbior-piosenki-zb-mistrzowi-styce.txt\n",
      "https://wolnelektury.pl/media/book/txt/slowka-zbior-piosenki-zb-nowa-piesn-o-rydzu.txt\n",
      "https://wolnelektury.pl/media/book/txt/slowka-zbior-piosenki-zb-opowiesc-dziadkowa-o-cudach-jasnogorskich.txt\n"
     ]
    },
    {
     "name": "stderr",
     "output_type": "stream",
     "text": [
      "\r",
      " 82%|████████▏ | 4691/5750 [06:32<01:28, 11.94it/s]"
     ]
    },
    {
     "name": "stdout",
     "output_type": "stream",
     "text": [
      "https://wolnelektury.pl/media/book/txt/slowka-zbior-piosenki-zb-opowiesc-dziadkowa-o-cudach-rapperswylskich.txt\n",
      "https://wolnelektury.pl/media/book/txt/slowka-zbior-piosenki-zb-opowiesc-dziadkowa-o-zaginionej-hrabinie.txt\n",
      "https://wolnelektury.pl/media/book/txt/slowka-zbior-piosenki-zb-piesn-o-domu-malarskim.txt\n"
     ]
    },
    {
     "name": "stderr",
     "output_type": "stream",
     "text": [
      " 82%|████████▏ | 4695/5750 [06:33<01:28, 11.94it/s]"
     ]
    },
    {
     "name": "stdout",
     "output_type": "stream",
     "text": [
      "https://wolnelektury.pl/media/book/txt/slowka-zbior-piosenki-zb-piesn-o-lwowskim-rafaelu.txt\n",
      "https://wolnelektury.pl/media/book/txt/slowka-zbior-piosenki-zb-piesn-o-naszych-stolicach-i-jak-je-opatrznosc-obdzielila.txt\n",
      "https://wolnelektury.pl/media/book/txt/slowka-zbior-piosenki-zb-piesn-o-stu-koronach.txt\n",
      "https://wolnelektury.pl/media/book/txt/slowka-zbior-piosenki-zb-piosenka-sentymentalna.txt\n"
     ]
    },
    {
     "name": "stderr",
     "output_type": "stream",
     "text": [
      " 82%|████████▏ | 4699/5750 [06:33<01:27, 11.95it/s]"
     ]
    },
    {
     "name": "stdout",
     "output_type": "stream",
     "text": [
      "https://wolnelektury.pl/media/book/txt/slowka-zbior-piosenki-zb-piosenka-w-stylu-klasycznym.txt\n",
      "https://wolnelektury.pl/media/book/txt/slowka-zbior-piosenki-zb-piosenka-wzruszajaca.txt\n",
      "https://wolnelektury.pl/media/book/txt/slowka-zbior-piosenki-zb-pobudka.txt\n",
      "https://wolnelektury.pl/media/book/txt/slowka-zbior-piosenki-zb-pochwala-ojcostwa.txt\n"
     ]
    },
    {
     "name": "stderr",
     "output_type": "stream",
     "text": [
      " 82%|████████▏ | 4703/5750 [06:33<01:27, 11.95it/s]"
     ]
    },
    {
     "name": "stdout",
     "output_type": "stream",
     "text": [
      "https://wolnelektury.pl/media/book/txt/slowka-zbior-piosenki-zb-pozegnanie.txt\n",
      "https://wolnelektury.pl/media/book/txt/slowka-zbior-piosenki-zb-proroctwo-krolowej-jadwigi.txt\n",
      "https://wolnelektury.pl/media/book/txt/slowka-zbior-piosenki-zb-wiersz-inauguracyjny.txt\n"
     ]
    },
    {
     "name": "stderr",
     "output_type": "stream",
     "text": [
      " 82%|████████▏ | 4707/5750 [06:33<01:27, 11.95it/s]"
     ]
    },
    {
     "name": "stdout",
     "output_type": "stream",
     "text": [
      "https://wolnelektury.pl/media/book/txt/slowka-zbior-piosenki-zb-z-niewydanej-szopki-krakowskiej-na-rok-1908.txt\n",
      "https://wolnelektury.pl/media/book/txt/slowka-zbior-piosenki-zb-zielony-balonik-muzeum-narodowemu.txt\n",
      "https://wolnelektury.pl/media/book/txt/slowka-zbior-piosenki-zb-zur-hebung-des-fremdenverkehrs.txt\n",
      "https://wolnelektury.pl/media/book/txt/slowka-zbior-pochwala-wieku-dojrzalego.txt\n"
     ]
    },
    {
     "name": "stderr",
     "output_type": "stream",
     "text": [
      " 82%|████████▏ | 4711/5750 [06:34<01:26, 11.95it/s]"
     ]
    },
    {
     "name": "stdout",
     "output_type": "stream",
     "text": [
      "https://wolnelektury.pl/media/book/txt/slowka-zbior-polaly-sie-lzy-me-czyste-rzesiste.txt\n",
      "https://wolnelektury.pl/media/book/txt/slowka-zbior-replika-kobiety-polskiej.txt\n",
      "https://wolnelektury.pl/media/book/txt/slowka-zbior-slowka.txt\n",
      "https://wolnelektury.pl/media/book/txt/slowka-zbior-spleen.txt\n"
     ]
    },
    {
     "name": "stderr",
     "output_type": "stream",
     "text": [
      "\r",
      " 82%|████████▏ | 4713/5750 [06:34<01:26, 11.96it/s]"
     ]
    },
    {
     "name": "stdout",
     "output_type": "stream",
     "text": [
      "https://wolnelektury.pl/media/book/txt/slowka-zbior-spowiedz-poety.txt\n",
      "https://wolnelektury.pl/media/book/txt/slowka-zbior-stefania.txt\n",
      "https://wolnelektury.pl/media/book/txt/slowka-zbior-trudno-inaczej.txt\n"
     ]
    },
    {
     "name": "stderr",
     "output_type": "stream",
     "text": [
      " 82%|████████▏ | 4717/5750 [06:34<01:26, 11.96it/s]"
     ]
    },
    {
     "name": "stdout",
     "output_type": "stream",
     "text": [
      "https://wolnelektury.pl/media/book/txt/slowka-zbior-w-karlsbadzie.txt\n",
      "https://wolnelektury.pl/media/book/txt/slowka-zbior-z-nastrojow-wiosennych.txt\n",
      "https://wolnelektury.pl/media/book/txt/slowka-zbior-z-podrozy-lucjana-rydla-na-wschod.txt\n",
      "https://wolnelektury.pl/media/book/txt/slowka-zbior-zdarzenie-prawdziwe.txt\n"
     ]
    },
    {
     "name": "stderr",
     "output_type": "stream",
     "text": [
      " 82%|████████▏ | 4721/5750 [06:34<01:26, 11.96it/s]"
     ]
    },
    {
     "name": "stdout",
     "output_type": "stream",
     "text": [
      "https://wolnelektury.pl/media/book/txt/slowo-o-bandosie.txt\n",
      "https://wolnelektury.pl/media/book/txt/slowo-o-jakobie-szeli.txt\n",
      "https://wolnelektury.pl/media/book/txt/slyszy-to-wieczor.txt\n"
     ]
    },
    {
     "name": "stderr",
     "output_type": "stream",
     "text": [
      " 82%|████████▏ | 4725/5750 [06:35<01:25, 11.96it/s]"
     ]
    },
    {
     "name": "stdout",
     "output_type": "stream",
     "text": [
      "https://wolnelektury.pl/media/book/txt/smierc-co-trzynascie-lat-stala-kolo-mnie.txt\n",
      "https://wolnelektury.pl/media/book/txt/smierc-kochankow.txt\n",
      "https://wolnelektury.pl/media/book/txt/smierc-kurki.txt\n",
      "https://wolnelektury.pl/media/book/txt/smierc-pulkownika.txt\n"
     ]
    },
    {
     "name": "stderr",
     "output_type": "stream",
     "text": [
      " 82%|████████▏ | 4729/5750 [06:35<01:25, 11.96it/s]"
     ]
    },
    {
     "name": "stdout",
     "output_type": "stream",
     "text": [
      "https://wolnelektury.pl/media/book/txt/smierc-urzednika.txt\n",
      "https://wolnelektury.pl/media/book/txt/smigus.txt\n",
      "https://wolnelektury.pl/media/book/txt/sni-mi-sie-jakas-wielka-a-przez-wieki-idaca.txt\n",
      "https://wolnelektury.pl/media/book/txt/sniadanie.txt\n"
     ]
    },
    {
     "name": "stderr",
     "output_type": "stream",
     "text": [
      "\r",
      " 82%|████████▏ | 4731/5750 [06:35<01:25, 11.96it/s]"
     ]
    },
    {
     "name": "stdout",
     "output_type": "stream",
     "text": [
      "https://wolnelektury.pl/media/book/txt/sniezka.txt\n",
      "https://wolnelektury.pl/media/book/txt/sniezyca.txt\n",
      "https://wolnelektury.pl/media/book/txt/snycerz-byl-zatrudniony-dyjany-lepieniem.txt\n"
     ]
    },
    {
     "name": "stderr",
     "output_type": "stream",
     "text": [
      " 82%|████████▏ | 4735/5750 [06:35<01:24, 11.97it/s]"
     ]
    },
    {
     "name": "stdout",
     "output_type": "stream",
     "text": [
      "https://wolnelektury.pl/media/book/txt/snycerz-i-statua.txt\n",
      "https://wolnelektury.pl/media/book/txt/sodoma-i-gomora.txt\n",
      "https://wolnelektury.pl/media/book/txt/sodoma-i-gomora-czesc-druga-tom-drugi.txt\n",
      "https://wolnelektury.pl/media/book/txt/sodoma-i-gomora-czesc-druga-tom-pierwszy.txt\n"
     ]
    },
    {
     "name": "stderr",
     "output_type": "stream",
     "text": [
      "\r",
      " 82%|████████▏ | 4737/5750 [06:36<01:24, 11.96it/s]"
     ]
    },
    {
     "name": "stdout",
     "output_type": "stream",
     "text": [
      "https://wolnelektury.pl/media/book/txt/sodoma-i-gomora-czesc-druga-tom-trzeci.txt\n",
      "https://wolnelektury.pl/media/book/txt/sodoma-i-gomora-czesc-pierwsza.txt\n"
     ]
    },
    {
     "name": "stderr",
     "output_type": "stream",
     "text": [
      " 82%|████████▏ | 4741/5750 [06:36<01:24, 11.96it/s]"
     ]
    },
    {
     "name": "stdout",
     "output_type": "stream",
     "text": [
      "https://wolnelektury.pl/media/book/txt/sommer-biale-pieczywo.txt\n",
      "https://wolnelektury.pl/media/book/txt/sommer-biurko.txt\n",
      "https://wolnelektury.pl/media/book/txt/sommer-coraz-bardziej.txt\n",
      "https://wolnelektury.pl/media/book/txt/sommer-czasem-tak.txt\n"
     ]
    },
    {
     "name": "stderr",
     "output_type": "stream",
     "text": [
      " 83%|████████▎ | 4745/5750 [06:36<01:24, 11.96it/s]"
     ]
    },
    {
     "name": "stdout",
     "output_type": "stream",
     "text": [
      "https://wolnelektury.pl/media/book/txt/sommer-czym-moglby-byc.txt\n",
      "https://wolnelektury.pl/media/book/txt/sommer-do-licha.txt\n",
      "https://wolnelektury.pl/media/book/txt/sommer-domowy.txt\n",
      "https://wolnelektury.pl/media/book/txt/sommer-dwa-wiersze-dla-mlodego-cykl.txt\n"
     ]
    },
    {
     "name": "stderr",
     "output_type": "stream",
     "text": [
      " 83%|████████▎ | 4749/5750 [06:37<01:23, 11.96it/s]"
     ]
    },
    {
     "name": "stdout",
     "output_type": "stream",
     "text": [
      "https://wolnelektury.pl/media/book/txt/sommer-dwa-wiersze-dla-suchego-cykl.txt\n",
      "https://wolnelektury.pl/media/book/txt/sommer-jak-zostalem-humorysta.txt\n",
      "https://wolnelektury.pl/media/book/txt/sommer-jestem-notatnikiem.txt\n",
      "https://wolnelektury.pl/media/book/txt/sommer-jeszcze-troche-wysilku.txt\n"
     ]
    },
    {
     "name": "stderr",
     "output_type": "stream",
     "text": [
      " 83%|████████▎ | 4753/5750 [06:37<01:23, 11.96it/s]"
     ]
    },
    {
     "name": "stdout",
     "output_type": "stream",
     "text": [
      "https://wolnelektury.pl/media/book/txt/sommer-list-do-jerzego-ficowskiego.txt\n",
      "https://wolnelektury.pl/media/book/txt/sommer-list-z-kijowa.txt\n",
      "https://wolnelektury.pl/media/book/txt/sommer-miedzy-przystankiem-a-domem.txt\n",
      "https://wolnelektury.pl/media/book/txt/sommer-mowi-syn.txt\n"
     ]
    },
    {
     "name": "stderr",
     "output_type": "stream",
     "text": [
      " 83%|████████▎ | 4757/5750 [06:37<01:22, 11.96it/s]"
     ]
    },
    {
     "name": "stdout",
     "output_type": "stream",
     "text": [
      "https://wolnelektury.pl/media/book/txt/sommer-oddech-majakowskiego.txt\n",
      "https://wolnelektury.pl/media/book/txt/sommer-okruchy.txt\n",
      "https://wolnelektury.pl/media/book/txt/sommer-osciennosc.txt\n",
      "https://wolnelektury.pl/media/book/txt/sommer-pamiatki-po-nas.txt\n"
     ]
    },
    {
     "name": "stderr",
     "output_type": "stream",
     "text": [
      " 83%|████████▎ | 4761/5750 [06:37<01:22, 11.97it/s]"
     ]
    },
    {
     "name": "stdout",
     "output_type": "stream",
     "text": [
      "https://wolnelektury.pl/media/book/txt/sommer-pamiatki-po-nas-pamiatki-po-nas.txt\n",
      "https://wolnelektury.pl/media/book/txt/sommer-pierwsze-zdanie.txt\n",
      "https://wolnelektury.pl/media/book/txt/sommer-posmiertny.txt\n",
      "https://wolnelektury.pl/media/book/txt/sommer-przed-snem.txt\n"
     ]
    },
    {
     "name": "stderr",
     "output_type": "stream",
     "text": [
      " 83%|████████▎ | 4765/5750 [06:38<01:22, 11.97it/s]"
     ]
    },
    {
     "name": "stdout",
     "output_type": "stream",
     "text": [
      "https://wolnelektury.pl/media/book/txt/sommer-przenosiciel.txt\n",
      "https://wolnelektury.pl/media/book/txt/sommer-przywitanie-powrot.txt\n",
      "https://wolnelektury.pl/media/book/txt/sommer-rower.txt\n",
      "https://wolnelektury.pl/media/book/txt/sommer-spozniony-list.txt\n"
     ]
    },
    {
     "name": "stderr",
     "output_type": "stream",
     "text": [
      " 83%|████████▎ | 4769/5750 [06:38<01:21, 11.97it/s]"
     ]
    },
    {
     "name": "stdout",
     "output_type": "stream",
     "text": [
      "https://wolnelektury.pl/media/book/txt/sommer-sprawozdanie-z-meczu-pilki-noznej.txt\n",
      "https://wolnelektury.pl/media/book/txt/sommer-stare-drewniaki-radosci.txt\n",
      "https://wolnelektury.pl/media/book/txt/sommer-to-pewne.txt\n",
      "https://wolnelektury.pl/media/book/txt/sommer-to-zycie-ktore-spi.txt\n"
     ]
    },
    {
     "name": "stderr",
     "output_type": "stream",
     "text": [
      " 83%|████████▎ | 4773/5750 [06:38<01:21, 11.97it/s]"
     ]
    },
    {
     "name": "stdout",
     "output_type": "stream",
     "text": [
      "https://wolnelektury.pl/media/book/txt/sommer-tulacze.txt\n",
      "https://wolnelektury.pl/media/book/txt/sommer-tylko-o-25-30-lat.txt\n",
      "https://wolnelektury.pl/media/book/txt/sommer-wiersz-ach-spac-spac.txt\n",
      "https://wolnelektury.pl/media/book/txt/sommer-wiersz-o-dewaluacji-slowa-rewolucja.txt\n"
     ]
    },
    {
     "name": "stderr",
     "output_type": "stream",
     "text": [
      " 83%|████████▎ | 4777/5750 [06:38<01:21, 11.97it/s]"
     ]
    },
    {
     "name": "stdout",
     "output_type": "stream",
     "text": [
      "https://wolnelektury.pl/media/book/txt/sonata-belzebuba.txt\n",
      "https://wolnelektury.pl/media/book/txt/sonet-i-o-krotkosci-i-niepewnosci-na-swiecie-zywota-czlowieczego.txt\n",
      "https://wolnelektury.pl/media/book/txt/sonet-ii-na-one-slowa-jopowe.txt\n"
     ]
    },
    {
     "name": "stderr",
     "output_type": "stream",
     "text": [
      " 83%|████████▎ | 4781/5750 [06:39<01:20, 11.98it/s]"
     ]
    },
    {
     "name": "stdout",
     "output_type": "stream",
     "text": [
      "https://wolnelektury.pl/media/book/txt/sonet-iii-do-naswietszej-panny.txt\n",
      "https://wolnelektury.pl/media/book/txt/sonet-iv-o-wojnie-naszej-ktora-wiedziemy-z-szatanem-swiatem--i-cialem.txt\n",
      "https://wolnelektury.pl/media/book/txt/sonet-v-o-nietrwalej-milosci-rzeczy-swiata-tego.txt\n",
      "https://wolnelektury.pl/media/book/txt/sonet-vi-do-pana-mikolaja-tomickiego.txt\n"
     ]
    },
    {
     "name": "stderr",
     "output_type": "stream",
     "text": [
      " 83%|████████▎ | 4785/5750 [06:39<01:20, 11.98it/s]"
     ]
    },
    {
     "name": "stdout",
     "output_type": "stream",
     "text": [
      "https://wolnelektury.pl/media/book/txt/sonety-krymskie.txt\n",
      "https://wolnelektury.pl/media/book/txt/sonety-krymskie-ajudah.txt\n",
      "https://wolnelektury.pl/media/book/txt/sonety-krymskie-aluszta-w-dzien.txt\n",
      "https://wolnelektury.pl/media/book/txt/sonety-krymskie-aluszta-w-nocy.txt\n"
     ]
    },
    {
     "name": "stderr",
     "output_type": "stream",
     "text": [
      " 83%|████████▎ | 4789/5750 [06:39<01:20, 11.98it/s]"
     ]
    },
    {
     "name": "stdout",
     "output_type": "stream",
     "text": [
      "https://wolnelektury.pl/media/book/txt/sonety-krymskie-bajdary.txt\n",
      "https://wolnelektury.pl/media/book/txt/sonety-krymskie-bakczysaraj.txt\n",
      "https://wolnelektury.pl/media/book/txt/sonety-krymskie-bakczysaraj-w-nocy.txt\n",
      "https://wolnelektury.pl/media/book/txt/sonety-krymskie-burza.txt\n"
     ]
    },
    {
     "name": "stderr",
     "output_type": "stream",
     "text": [
      " 83%|████████▎ | 4793/5750 [06:39<01:19, 11.98it/s]"
     ]
    },
    {
     "name": "stdout",
     "output_type": "stream",
     "text": [
      "https://wolnelektury.pl/media/book/txt/sonety-krymskie-cisza-morska.txt\n",
      "https://wolnelektury.pl/media/book/txt/sonety-krymskie-czatyrdah.txt\n",
      "https://wolnelektury.pl/media/book/txt/sonety-krymskie-droga-nad-przepascia-w-czufut-kale.txt\n",
      "https://wolnelektury.pl/media/book/txt/sonety-krymskie-gora-kikineis.txt\n"
     ]
    },
    {
     "name": "stderr",
     "output_type": "stream",
     "text": [
      "\r",
      " 83%|████████▎ | 4795/5750 [06:40<01:19, 11.98it/s]"
     ]
    },
    {
     "name": "stdout",
     "output_type": "stream",
     "text": [
      "https://wolnelektury.pl/media/book/txt/sonety-krymskie-grob-potockiej.txt\n",
      "https://wolnelektury.pl/media/book/txt/sonety-krymskie-mogily-haremu.txt\n",
      "https://wolnelektury.pl/media/book/txt/sonety-krymskie-motto-i-dedykacja.txt\n"
     ]
    },
    {
     "name": "stderr",
     "output_type": "stream",
     "text": [
      " 83%|████████▎ | 4799/5750 [06:40<01:19, 11.99it/s]"
     ]
    },
    {
     "name": "stdout",
     "output_type": "stream",
     "text": [
      "https://wolnelektury.pl/media/book/txt/sonety-krymskie-pielgrzym.txt\n",
      "https://wolnelektury.pl/media/book/txt/sonety-krymskie-ruiny-zamku-w-balaklawie.txt\n",
      "https://wolnelektury.pl/media/book/txt/sonety-krymskie-stepy-akermanskie.txt\n"
     ]
    },
    {
     "name": "stderr",
     "output_type": "stream",
     "text": [
      "\r",
      " 83%|████████▎ | 4801/5750 [06:40<01:19, 11.98it/s]"
     ]
    },
    {
     "name": "stdout",
     "output_type": "stream",
     "text": [
      "https://wolnelektury.pl/media/book/txt/sonety-krymskie-widok-gor-ze-stepow-kozlowa.txt\n",
      "https://wolnelektury.pl/media/book/txt/sonety-krymskie-zegluga.txt\n",
      "https://wolnelektury.pl/media/book/txt/sonety-odeskie.txt\n"
     ]
    },
    {
     "name": "stderr",
     "output_type": "stream",
     "text": [
      " 84%|████████▎ | 4805/5750 [06:40<01:18, 11.98it/s]"
     ]
    },
    {
     "name": "stdout",
     "output_type": "stream",
     "text": [
      "https://wolnelektury.pl/media/book/txt/sonety-odeskie-blogoslawienstwo-z-petrarki.txt\n",
      "https://wolnelektury.pl/media/book/txt/sonety-odeskie-danaidy.txt\n",
      "https://wolnelektury.pl/media/book/txt/sonety-odeskie-do-d-d-elegia.txt\n",
      "https://wolnelektury.pl/media/book/txt/sonety-odeskie-do-d-d-wizyta.txt\n"
     ]
    },
    {
     "name": "stderr",
     "output_type": "stream",
     "text": [
      " 84%|████████▎ | 4809/5750 [06:41<01:18, 11.99it/s]"
     ]
    },
    {
     "name": "stdout",
     "output_type": "stream",
     "text": [
      "https://wolnelektury.pl/media/book/txt/sonety-odeskie-do-laury.txt\n",
      "https://wolnelektury.pl/media/book/txt/sonety-odeskie-do-m.txt\n",
      "https://wolnelektury.pl/media/book/txt/sonety-odeskie-do-marii-p.txt\n",
      "https://wolnelektury.pl/media/book/txt/sonety-odeskie-do-matki-polki.txt\n"
     ]
    },
    {
     "name": "stderr",
     "output_type": "stream",
     "text": [
      " 84%|████████▎ | 4813/5750 [06:41<01:18, 11.99it/s]"
     ]
    },
    {
     "name": "stdout",
     "output_type": "stream",
     "text": [
      "https://wolnelektury.pl/media/book/txt/sonety-odeskie-do-niemna.txt\n",
      "https://wolnelektury.pl/media/book/txt/sonety-odeskie-do-patrzysz-mi-w-oczy.txt\n",
      "https://wolnelektury.pl/media/book/txt/sonety-odeskie-do-wizytujacych.txt\n",
      "https://wolnelektury.pl/media/book/txt/sonety-odeskie-dobranoc.txt\n"
     ]
    },
    {
     "name": "stderr",
     "output_type": "stream",
     "text": [
      " 84%|████████▍ | 4817/5750 [06:41<01:17, 11.99it/s]"
     ]
    },
    {
     "name": "stdout",
     "output_type": "stream",
     "text": [
      "https://wolnelektury.pl/media/book/txt/sonety-odeskie-dobry-wieczor.txt\n",
      "https://wolnelektury.pl/media/book/txt/sonety-odeskie-dzien-dobry.txt\n",
      "https://wolnelektury.pl/media/book/txt/sonety-odeskie-ekskuza.txt\n",
      "https://wolnelektury.pl/media/book/txt/sonety-odeskie-luba-ja-wzdycham.txt\n"
     ]
    },
    {
     "name": "stderr",
     "output_type": "stream",
     "text": [
      " 84%|████████▍ | 4821/5750 [06:42<01:17, 11.99it/s]"
     ]
    },
    {
     "name": "stdout",
     "output_type": "stream",
     "text": [
      "https://wolnelektury.pl/media/book/txt/sonety-odeskie-motto.txt\n",
      "https://wolnelektury.pl/media/book/txt/sonety-odeskie-mowie-z-soba.txt\n",
      "https://wolnelektury.pl/media/book/txt/sonety-odeskie-niepewnosc.txt\n",
      "https://wolnelektury.pl/media/book/txt/sonety-odeskie-nieuczona-twa-postac.txt\n"
     ]
    },
    {
     "name": "stderr",
     "output_type": "stream",
     "text": [
      " 84%|████████▍ | 4825/5750 [06:42<01:17, 11.99it/s]"
     ]
    },
    {
     "name": "stdout",
     "output_type": "stream",
     "text": [
      "https://wolnelektury.pl/media/book/txt/sonety-odeskie-pierwszy-raz-jam-niewolnik.txt\n",
      "https://wolnelektury.pl/media/book/txt/sonety-odeskie-potepi-nas-swietoszek.txt\n",
      "https://wolnelektury.pl/media/book/txt/sonety-odeskie-pozegnanie-do-d-d.txt\n",
      "https://wolnelektury.pl/media/book/txt/sonety-odeskie-ranek-i-wieczor.txt\n"
     ]
    },
    {
     "name": "stderr",
     "output_type": "stream",
     "text": [
      " 84%|████████▍ | 4829/5750 [06:42<01:16, 12.00it/s]"
     ]
    },
    {
     "name": "stdout",
     "output_type": "stream",
     "text": [
      "https://wolnelektury.pl/media/book/txt/sonety-odeskie-rezygnacja.txt\n",
      "https://wolnelektury.pl/media/book/txt/sonety-odeskie-strzelec.txt\n",
      "https://wolnelektury.pl/media/book/txt/sonety-odeskie-w-imionniku-c-s.txt\n",
      "https://wolnelektury.pl/media/book/txt/sonety-odeskie-widzenie-sie-w-gaju.txt\n"
     ]
    },
    {
     "name": "stderr",
     "output_type": "stream",
     "text": [
      " 84%|████████▍ | 4833/5750 [06:42<01:16, 12.00it/s]"
     ]
    },
    {
     "name": "stdout",
     "output_type": "stream",
     "text": [
      "https://wolnelektury.pl/media/book/txt/sonety-odeskie-z-petrarki.txt\n",
      "https://wolnelektury.pl/media/book/txt/sonety-odeskie-zeglarz.txt\n",
      "https://wolnelektury.pl/media/book/txt/sonety-odeskie-zima-miejska.txt\n",
      "https://wolnelektury.pl/media/book/txt/sosnowski-all-that-jazz.txt\n"
     ]
    },
    {
     "name": "stderr",
     "output_type": "stream",
     "text": [
      " 84%|████████▍ | 4837/5750 [06:43<01:16, 12.00it/s]"
     ]
    },
    {
     "name": "stdout",
     "output_type": "stream",
     "text": [
      "https://wolnelektury.pl/media/book/txt/sosnowski-biebrza-czerwone-bagno.txt\n",
      "https://wolnelektury.pl/media/book/txt/sosnowski-czas-i-pieniadz.txt\n",
      "https://wolnelektury.pl/media/book/txt/sosnowski-czym-jest-poezja.txt\n"
     ]
    },
    {
     "name": "stderr",
     "output_type": "stream",
     "text": [
      "\r",
      " 84%|████████▍ | 4839/5750 [06:43<01:15, 12.00it/s]"
     ]
    },
    {
     "name": "stdout",
     "output_type": "stream",
     "text": [
      "https://wolnelektury.pl/media/book/txt/sosnowski-esej-o-chmurach.txt\n",
      "https://wolnelektury.pl/media/book/txt/sosnowski-gwaltowna-moc-zanikania.txt\n",
      "https://wolnelektury.pl/media/book/txt/sosnowski-huntsville.txt\n"
     ]
    },
    {
     "name": "stderr",
     "output_type": "stream",
     "text": [
      " 84%|████████▍ | 4843/5750 [06:43<01:15, 12.00it/s]"
     ]
    },
    {
     "name": "stdout",
     "output_type": "stream",
     "text": [
      "https://wolnelektury.pl/media/book/txt/sosnowski-jesien.txt\n",
      "https://wolnelektury.pl/media/book/txt/sosnowski-latem-1987.txt\n",
      "https://wolnelektury.pl/media/book/txt/sosnowski-milenium.txt\n",
      "https://wolnelektury.pl/media/book/txt/sosnowski-rozmowa-na-wycieczce.txt\n"
     ]
    },
    {
     "name": "stderr",
     "output_type": "stream",
     "text": [
      " 84%|████████▍ | 4847/5750 [06:43<01:15, 12.01it/s]"
     ]
    },
    {
     "name": "stdout",
     "output_type": "stream",
     "text": [
      "https://wolnelektury.pl/media/book/txt/sosnowski-smierc-czlowieka-nieuformowanego.txt\n",
      "https://wolnelektury.pl/media/book/txt/sosnowski-spacer-przed-siebie.txt\n",
      "https://wolnelektury.pl/media/book/txt/sosnowski-trzy-wiersze-z-bliskiej-polnocy-cykl.txt\n",
      "https://wolnelektury.pl/media/book/txt/sosnowski-wiersz-dla-becky-lublinsky.txt\n"
     ]
    },
    {
     "name": "stderr",
     "output_type": "stream",
     "text": [
      " 84%|████████▍ | 4851/5750 [06:43<01:14, 12.01it/s]"
     ]
    },
    {
     "name": "stdout",
     "output_type": "stream",
     "text": [
      "https://wolnelektury.pl/media/book/txt/sosnowski-wiersz-dla-oberona.txt\n",
      "https://wolnelektury.pl/media/book/txt/sosnowski-wiersz-dla-twojej-corki.txt\n",
      "https://wolnelektury.pl/media/book/txt/sosnowski-wild-water-kingdom.txt\n"
     ]
    },
    {
     "name": "stderr",
     "output_type": "stream",
     "text": [
      " 84%|████████▍ | 4855/5750 [06:44<01:14, 12.01it/s]"
     ]
    },
    {
     "name": "stdout",
     "output_type": "stream",
     "text": [
      "https://wolnelektury.pl/media/book/txt/sosnowski-zycie-na-korei.txt\n",
      "https://wolnelektury.pl/media/book/txt/sosnowski-zycie-na-korei-poslowie.txt\n",
      "https://wolnelektury.pl/media/book/txt/sosnowski-zycie-na-korei-zycie-na-korei.txt\n",
      "https://wolnelektury.pl/media/book/txt/sowinski-w-okopach-woli.txt\n"
     ]
    },
    {
     "name": "stderr",
     "output_type": "stream",
     "text": [
      "\r",
      " 84%|████████▍ | 4857/5750 [06:44<01:14, 12.01it/s]"
     ]
    },
    {
     "name": "stdout",
     "output_type": "stream",
     "text": [
      "https://wolnelektury.pl/media/book/txt/spiaca-krolewna-oppman.txt\n",
      "https://wolnelektury.pl/media/book/txt/spiew-rewolucyjny-z-r-1830.txt\n",
      "https://wolnelektury.pl/media/book/txt/spiew-skowronka.txt\n"
     ]
    },
    {
     "name": "stderr",
     "output_type": "stream",
     "text": [
      " 85%|████████▍ | 4861/5750 [06:44<01:14, 12.01it/s]"
     ]
    },
    {
     "name": "stdout",
     "output_type": "stream",
     "text": [
      "https://wolnelektury.pl/media/book/txt/spiewak-spod-strzechy.txt\n",
      "https://wolnelektury.pl/media/book/txt/spiewka-powstancow-z-oddzialu-langiewicza.txt\n",
      "https://wolnelektury.pl/media/book/txt/sposob-na-laleczke.txt\n",
      "https://wolnelektury.pl/media/book/txt/sposob-rogera.txt\n"
     ]
    },
    {
     "name": "stderr",
     "output_type": "stream",
     "text": [
      "\r",
      " 85%|████████▍ | 4863/5750 [06:44<01:13, 12.01it/s]"
     ]
    },
    {
     "name": "stdout",
     "output_type": "stream",
     "text": [
      "https://wolnelektury.pl/media/book/txt/spowiedz-dzieciecia-wieku.txt\n"
     ]
    },
    {
     "name": "stderr",
     "output_type": "stream",
     "text": [
      "\r",
      " 85%|████████▍ | 4865/5750 [06:45<01:13, 12.01it/s]"
     ]
    },
    {
     "name": "stdout",
     "output_type": "stream",
     "text": [
      "https://wolnelektury.pl/media/book/txt/sprawiedliwie.txt\n",
      "https://wolnelektury.pl/media/book/txt/srebrna-zajeczyca-i-inne-basnie.txt\n"
     ]
    },
    {
     "name": "stderr",
     "output_type": "stream",
     "text": [
      "\r",
      " 85%|████████▍ | 4867/5750 [06:45<01:13, 12.00it/s]"
     ]
    },
    {
     "name": "stdout",
     "output_type": "stream",
     "text": [
      "https://wolnelektury.pl/media/book/txt/sroczynska-lasowiackie-serce.txt\n",
      "https://wolnelektury.pl/media/book/txt/stanze.txt\n",
      "https://wolnelektury.pl/media/book/txt/stara-basn.txt\n"
     ]
    },
    {
     "name": "stderr",
     "output_type": "stream",
     "text": [
      "\r",
      " 85%|████████▍ | 4869/5750 [06:45<01:13, 12.01it/s]"
     ]
    },
    {
     "name": "stdout",
     "output_type": "stream",
     "text": [
      "https://wolnelektury.pl/media/book/txt/stara-basn-tom-drugi.txt\n",
      "https://wolnelektury.pl/media/book/txt/stara-basn-tom-pierwszy.txt\n"
     ]
    },
    {
     "name": "stderr",
     "output_type": "stream",
     "text": [
      " 85%|████████▍ | 4872/5750 [06:46<01:13, 11.99it/s]"
     ]
    },
    {
     "name": "stdout",
     "output_type": "stream",
     "text": [
      "https://wolnelektury.pl/media/book/txt/stara-basn-tom-trzeci.txt\n",
      "https://wolnelektury.pl/media/book/txt/staruszek-przy-pracy.txt\n"
     ]
    },
    {
     "name": "stderr",
     "output_type": "stream",
     "text": [
      "\r",
      " 85%|████████▍ | 4874/5750 [06:46<01:13, 12.00it/s]"
     ]
    },
    {
     "name": "stdout",
     "output_type": "stream",
     "text": [
      "https://wolnelektury.pl/media/book/txt/stary-pies-i-stary-sluga.txt\n",
      "https://wolnelektury.pl/media/book/txt/starzec-i-dziecie.txt\n",
      "https://wolnelektury.pl/media/book/txt/stas.txt\n"
     ]
    },
    {
     "name": "stderr",
     "output_type": "stream",
     "text": [
      "\r",
      " 85%|████████▍ | 4876/5750 [06:46<01:12, 12.00it/s]"
     ]
    },
    {
     "name": "stdout",
     "output_type": "stream",
     "text": [
      "https://wolnelektury.pl/media/book/txt/stefek-burczymucha.txt\n",
      "https://wolnelektury.pl/media/book/txt/stendhal-czerwone-i-czarne.txt\n"
     ]
    },
    {
     "name": "stderr",
     "output_type": "stream",
     "text": [
      "\r",
      " 85%|████████▍ | 4878/5750 [06:46<01:12, 11.99it/s]"
     ]
    },
    {
     "name": "stdout",
     "output_type": "stream",
     "text": [
      "https://wolnelektury.pl/media/book/txt/stendhal-o-milosci.txt\n"
     ]
    },
    {
     "name": "stderr",
     "output_type": "stream",
     "text": [
      " 85%|████████▍ | 4880/5750 [06:47<01:12, 11.99it/s]"
     ]
    },
    {
     "name": "stdout",
     "output_type": "stream",
     "text": [
      "https://wolnelektury.pl/media/book/txt/stendhal-pamietnik-egotysty.txt\n",
      "https://wolnelektury.pl/media/book/txt/stendhal-pustelnia-parmenska.txt\n"
     ]
    },
    {
     "name": "stderr",
     "output_type": "stream",
     "text": [
      "\r",
      " 85%|████████▍ | 4881/5750 [06:47<01:12, 11.98it/s]"
     ]
    },
    {
     "name": "stdout",
     "output_type": "stream",
     "text": [
      "https://wolnelektury.pl/media/book/txt/stendhal-zycie-henryka-brulard.txt\n"
     ]
    },
    {
     "name": "stderr",
     "output_type": "stream",
     "text": [
      " 85%|████████▍ | 4884/5750 [06:47<01:12, 11.98it/s]"
     ]
    },
    {
     "name": "stdout",
     "output_type": "stream",
     "text": [
      "https://wolnelektury.pl/media/book/txt/stolica.txt\n",
      "https://wolnelektury.pl/media/book/txt/stoliczku-nakryj-sie.txt\n",
      "https://wolnelektury.pl/media/book/txt/stopnie-poznania.txt\n",
      "https://wolnelektury.pl/media/book/txt/straceni-z-niebiosow.txt\n"
     ]
    },
    {
     "name": "stderr",
     "output_type": "stream",
     "text": [
      " 85%|████████▌ | 4888/5750 [06:48<01:11, 11.98it/s]"
     ]
    },
    {
     "name": "stdout",
     "output_type": "stream",
     "text": [
      "https://wolnelektury.pl/media/book/txt/strachy-pentelikonu.txt\n",
      "https://wolnelektury.pl/media/book/txt/stracone-liscie.txt\n",
      "https://wolnelektury.pl/media/book/txt/stracone-zachody-milosci.txt\n"
     ]
    },
    {
     "name": "stderr",
     "output_type": "stream",
     "text": [
      "\r",
      " 85%|████████▌ | 4890/5750 [06:48<01:11, 11.98it/s]"
     ]
    },
    {
     "name": "stdout",
     "output_type": "stream",
     "text": [
      "https://wolnelektury.pl/media/book/txt/stroinski-o-poleglym-zm-1944.txt\n",
      "https://wolnelektury.pl/media/book/txt/stroinski-po-huraganach-szarz-tetniacych-w-strzalach-zm-1944.txt\n",
      "https://wolnelektury.pl/media/book/txt/stroinski-polska.txt\n"
     ]
    },
    {
     "name": "stderr",
     "output_type": "stream",
     "text": [
      " 85%|████████▌ | 4894/5750 [06:48<01:11, 11.98it/s]"
     ]
    },
    {
     "name": "stdout",
     "output_type": "stream",
     "text": [
      "https://wolnelektury.pl/media/book/txt/stroinski-snily-sie-szarze-w-chmurach-choragiewek-zm-1944.txt\n",
      "https://wolnelektury.pl/media/book/txt/strona-guermantes.txt\n",
      "https://wolnelektury.pl/media/book/txt/strona-guermantes-czesc-druga.txt\n"
     ]
    },
    {
     "name": "stderr",
     "output_type": "stream",
     "text": [
      "\r",
      " 85%|████████▌ | 4896/5750 [06:49<01:11, 11.97it/s]"
     ]
    },
    {
     "name": "stdout",
     "output_type": "stream",
     "text": [
      "https://wolnelektury.pl/media/book/txt/strona-guermantes-czesc-pierwsza-tom-drugi.txt\n",
      "https://wolnelektury.pl/media/book/txt/strona-guermantes-czesc-pierwsza-tom-pierwszy.txt\n"
     ]
    },
    {
     "name": "stderr",
     "output_type": "stream",
     "text": [
      "\r",
      " 85%|████████▌ | 4898/5750 [06:49<01:11, 11.97it/s]"
     ]
    },
    {
     "name": "stdout",
     "output_type": "stream",
     "text": [
      "https://wolnelektury.pl/media/book/txt/stroz-domowy.txt\n",
      "https://wolnelektury.pl/media/book/txt/strumien.txt\n",
      "https://wolnelektury.pl/media/book/txt/strumyk-i-fontanny.txt\n"
     ]
    },
    {
     "name": "stderr",
     "output_type": "stream",
     "text": [
      "\r",
      " 85%|████████▌ | 4900/5750 [06:49<01:11, 11.97it/s]"
     ]
    },
    {
     "name": "stdout",
     "output_type": "stream",
     "text": [
      "https://wolnelektury.pl/media/book/txt/stryjkowski-kronika-polska-litewska-zmudzka-i-wszystkiej-rusi.txt\n",
      "https://wolnelektury.pl/media/book/txt/strzelec-i-pies.txt\n"
     ]
    },
    {
     "name": "stderr",
     "output_type": "stream",
     "text": [
      "\r",
      " 85%|████████▌ | 4902/5750 [06:49<01:10, 11.97it/s]"
     ]
    },
    {
     "name": "stdout",
     "output_type": "stream",
     "text": [
      "https://wolnelektury.pl/media/book/txt/strzemienczyk.txt\n",
      "https://wolnelektury.pl/media/book/txt/strzemienczyk-tom-i.txt\n"
     ]
    },
    {
     "name": "stderr",
     "output_type": "stream",
     "text": [
      " 85%|████████▌ | 4905/5750 [06:50<01:10, 11.96it/s]"
     ]
    },
    {
     "name": "stdout",
     "output_type": "stream",
     "text": [
      "https://wolnelektury.pl/media/book/txt/strzemienczyk-tom-ii.txt\n",
      "https://wolnelektury.pl/media/book/txt/studnia-i-wahadlo.txt\n"
     ]
    },
    {
     "name": "stderr",
     "output_type": "stream",
     "text": [
      "\r",
      " 85%|████████▌ | 4907/5750 [06:50<01:10, 11.96it/s]"
     ]
    },
    {
     "name": "stdout",
     "output_type": "stream",
     "text": [
      "https://wolnelektury.pl/media/book/txt/sultan-w-piekle.txt\n",
      "https://wolnelektury.pl/media/book/txt/swiat-pani-malinowskiej.txt\n"
     ]
    },
    {
     "name": "stderr",
     "output_type": "stream",
     "text": [
      "\r",
      " 85%|████████▌ | 4909/5750 [06:50<01:10, 11.96it/s]"
     ]
    },
    {
     "name": "stdout",
     "output_type": "stream",
     "text": [
      "https://wolnelektury.pl/media/book/txt/swidryga-i-midryga.txt\n",
      "https://wolnelektury.pl/media/book/txt/swierszczyk.txt\n",
      "https://wolnelektury.pl/media/book/txt/swietoszek.txt\n"
     ]
    },
    {
     "name": "stderr",
     "output_type": "stream",
     "text": [
      " 85%|████████▌ | 4913/5750 [06:50<01:09, 11.96it/s]"
     ]
    },
    {
     "name": "stdout",
     "output_type": "stream",
     "text": [
      "https://wolnelektury.pl/media/book/txt/sygnal.txt\n",
      "https://wolnelektury.pl/media/book/txt/symbol.txt\n",
      "https://wolnelektury.pl/media/book/txt/syn-i-ojciec.txt\n"
     ]
    },
    {
     "name": "stderr",
     "output_type": "stream",
     "text": [
      "\r",
      " 85%|████████▌ | 4915/5750 [06:51<01:09, 11.96it/s]"
     ]
    },
    {
     "name": "stdout",
     "output_type": "stream",
     "text": [
      "https://wolnelektury.pl/media/book/txt/syn-jazdona.txt\n",
      "https://wolnelektury.pl/media/book/txt/syn-jazdona-tom-drugi.txt\n"
     ]
    },
    {
     "name": "stderr",
     "output_type": "stream",
     "text": [
      "\r",
      " 86%|████████▌ | 4917/5750 [06:51<01:09, 11.95it/s]"
     ]
    },
    {
     "name": "stdout",
     "output_type": "stream",
     "text": [
      "https://wolnelektury.pl/media/book/txt/syn-jazdona-tom-pierwszy.txt\n",
      "https://wolnelektury.pl/media/book/txt/syn-jazdona-tom-trzeci.txt\n"
     ]
    },
    {
     "name": "stderr",
     "output_type": "stream",
     "text": [
      "\r",
      " 86%|████████▌ | 4919/5750 [06:51<01:09, 11.95it/s]"
     ]
    },
    {
     "name": "stdout",
     "output_type": "stream",
     "text": [
      "https://wolnelektury.pl/media/book/txt/syn-stolarza.txt\n",
      "https://wolnelektury.pl/media/book/txt/synogarlica.txt\n",
      "https://wolnelektury.pl/media/book/txt/synowie-ziemi-.txt\n"
     ]
    },
    {
     "name": "stderr",
     "output_type": "stream",
     "text": [
      " 86%|████████▌ | 4923/5750 [06:51<01:09, 11.95it/s]"
     ]
    },
    {
     "name": "stdout",
     "output_type": "stream",
     "text": [
      "https://wolnelektury.pl/media/book/txt/syrena.txt\n",
      "https://wolnelektury.pl/media/book/txt/syrokomla-cora-piastow.txt\n",
      "https://wolnelektury.pl/media/book/txt/syrokomla-gawedy.txt\n"
     ]
    },
    {
     "name": "stderr",
     "output_type": "stream",
     "text": [
      "\r",
      " 86%|████████▌ | 4925/5750 [06:52<01:09, 11.95it/s]"
     ]
    },
    {
     "name": "stdout",
     "output_type": "stream",
     "text": [
      "https://wolnelektury.pl/media/book/txt/syrokomla-gawedy-blogoslawiony-sadoch.txt\n",
      "https://wolnelektury.pl/media/book/txt/syrokomla-gawedy-bywalo.txt\n",
      "https://wolnelektury.pl/media/book/txt/syrokomla-gawedy-chodyka.txt\n"
     ]
    },
    {
     "name": "stderr",
     "output_type": "stream",
     "text": [
      " 86%|████████▌ | 4929/5750 [06:52<01:08, 11.95it/s]"
     ]
    },
    {
     "name": "stdout",
     "output_type": "stream",
     "text": [
      "https://wolnelektury.pl/media/book/txt/syrokomla-gawedy-dyferencja.txt\n",
      "https://wolnelektury.pl/media/book/txt/syrokomla-gawedy-gaweda-o-bocianie.txt\n",
      "https://wolnelektury.pl/media/book/txt/syrokomla-gawedy-grabarz.txt\n"
     ]
    },
    {
     "name": "stderr",
     "output_type": "stream",
     "text": [
      " 86%|████████▌ | 4933/5750 [06:52<01:08, 11.95it/s]"
     ]
    },
    {
     "name": "stdout",
     "output_type": "stream",
     "text": [
      "https://wolnelektury.pl/media/book/txt/syrokomla-gawedy-kradzione.txt\n",
      "https://wolnelektury.pl/media/book/txt/syrokomla-gawedy-lalka.txt\n",
      "https://wolnelektury.pl/media/book/txt/syrokomla-gawedy-litwinom.txt\n",
      "https://wolnelektury.pl/media/book/txt/syrokomla-gawedy-o-chwale-bozej.txt\n"
     ]
    },
    {
     "name": "stderr",
     "output_type": "stream",
     "text": [
      "\r",
      " 86%|████████▌ | 4935/5750 [06:52<01:08, 11.96it/s]"
     ]
    },
    {
     "name": "stdout",
     "output_type": "stream",
     "text": [
      "https://wolnelektury.pl/media/book/txt/syrokomla-gawedy-o-moim-starym-domku.txt\n",
      "https://wolnelektury.pl/media/book/txt/syrokomla-gawedy-o-skarbcu-zakletym.txt\n",
      "https://wolnelektury.pl/media/book/txt/syrokomla-gawedy-pocztylion.txt\n"
     ]
    },
    {
     "name": "stderr",
     "output_type": "stream",
     "text": [
      " 86%|████████▌ | 4939/5750 [06:53<01:07, 11.96it/s]"
     ]
    },
    {
     "name": "stdout",
     "output_type": "stream",
     "text": [
      "https://wolnelektury.pl/media/book/txt/syrokomla-gawedy-trzy-gwiazdki.txt\n",
      "https://wolnelektury.pl/media/book/txt/syrokomla-gawedy-zalotnicy.txt\n",
      "https://wolnelektury.pl/media/book/txt/syrokomla-gawedy-zascianek-podkowa.txt\n"
     ]
    },
    {
     "name": "stderr",
     "output_type": "stream",
     "text": [
      "\r",
      " 86%|████████▌ | 4941/5750 [06:53<01:07, 11.96it/s]"
     ]
    },
    {
     "name": "stdout",
     "output_type": "stream",
     "text": [
      "https://wolnelektury.pl/media/book/txt/syrokomla-gawedy-zebrak-fundator.txt\n",
      "https://wolnelektury.pl/media/book/txt/syrokomla-janko-cmentarnik.txt\n",
      "https://wolnelektury.pl/media/book/txt/syrokomla-marcin-studzienski.txt\n"
     ]
    },
    {
     "name": "stderr",
     "output_type": "stream",
     "text": [
      " 86%|████████▌ | 4945/5750 [06:53<01:07, 11.96it/s]"
     ]
    },
    {
     "name": "stdout",
     "output_type": "stream",
     "text": [
      "https://wolnelektury.pl/media/book/txt/syrokomla-margier.txt\n",
      "https://wolnelektury.pl/media/book/txt/syrokomla-rymy-ulotne.txt\n",
      "https://wolnelektury.pl/media/book/txt/syrokomla-rymy-ulotne-do.txt\n"
     ]
    },
    {
     "name": "stderr",
     "output_type": "stream",
     "text": [
      " 86%|████████▌ | 4949/5750 [06:53<01:06, 11.96it/s]"
     ]
    },
    {
     "name": "stdout",
     "output_type": "stream",
     "text": [
      "https://wolnelektury.pl/media/book/txt/syrokomla-rymy-ulotne-do-ap.txt\n",
      "https://wolnelektury.pl/media/book/txt/syrokomla-rymy-ulotne-do-jikr.txt\n",
      "https://wolnelektury.pl/media/book/txt/syrokomla-rymy-ulotne-do-niemowlecia.txt\n",
      "https://wolnelektury.pl/media/book/txt/syrokomla-rymy-ulotne-gwarinos.txt\n"
     ]
    },
    {
     "name": "stderr",
     "output_type": "stream",
     "text": [
      "\r",
      " 86%|████████▌ | 4951/5750 [06:53<01:06, 11.96it/s]"
     ]
    },
    {
     "name": "stdout",
     "output_type": "stream",
     "text": [
      "https://wolnelektury.pl/media/book/txt/syrokomla-rymy-ulotne-muzyka.txt\n",
      "https://wolnelektury.pl/media/book/txt/syrokomla-rymy-ulotne-na-echo-dzwonu.txt\n",
      "https://wolnelektury.pl/media/book/txt/syrokomla-rymy-ulotne-natchnienie.txt\n"
     ]
    },
    {
     "name": "stderr",
     "output_type": "stream",
     "text": [
      " 86%|████████▌ | 4955/5750 [06:54<01:06, 11.96it/s]"
     ]
    },
    {
     "name": "stdout",
     "output_type": "stream",
     "text": [
      "https://wolnelektury.pl/media/book/txt/syrokomla-rymy-ulotne-oracz-do-skowronka.txt\n",
      "https://wolnelektury.pl/media/book/txt/syrokomla-rymy-ulotne-pogrzeb-mlodego-rolnika.txt\n",
      "https://wolnelektury.pl/media/book/txt/syrokomla-rymy-ulotne-przedwiosnie.txt\n",
      "https://wolnelektury.pl/media/book/txt/syrokomla-rymy-ulotne-szczescie.txt\n"
     ]
    },
    {
     "name": "stderr",
     "output_type": "stream",
     "text": [
      " 86%|████████▌ | 4959/5750 [06:54<01:06, 11.96it/s]"
     ]
    },
    {
     "name": "stdout",
     "output_type": "stream",
     "text": [
      "https://wolnelektury.pl/media/book/txt/syrokomla-rymy-ulotne-wariant-z-piesni-gminnej.txt\n",
      "https://wolnelektury.pl/media/book/txt/syrokomla-rymy-ulotne-westchnienie-majowe.txt\n",
      "https://wolnelektury.pl/media/book/txt/syrokomla-rymy-ulotne-wspomienia-nieswieza.txt\n"
     ]
    },
    {
     "name": "stderr",
     "output_type": "stream",
     "text": [
      "\r",
      " 86%|████████▋ | 4961/5750 [06:54<01:05, 11.96it/s]"
     ]
    },
    {
     "name": "stdout",
     "output_type": "stream",
     "text": [
      "https://wolnelektury.pl/media/book/txt/syrokomla-slowko-do-czytelnika.txt\n",
      "https://wolnelektury.pl/media/book/txt/syrokomla-stare-wrota.txt\n",
      "https://wolnelektury.pl/media/book/txt/syrokomla-urodzony-jan-deborog.txt\n"
     ]
    },
    {
     "name": "stderr",
     "output_type": "stream",
     "text": [
      " 86%|████████▋ | 4965/5750 [06:55<01:05, 11.96it/s]"
     ]
    },
    {
     "name": "stdout",
     "output_type": "stream",
     "text": [
      "https://wolnelektury.pl/media/book/txt/syrokomla-wybryki-dobrego-humoru.txt\n",
      "https://wolnelektury.pl/media/book/txt/syrokomla-wybryki-dobrego-humoru-co-sie-przysni.txt\n",
      "https://wolnelektury.pl/media/book/txt/syrokomla-wybryki-dobrego-humoru-do.txt\n"
     ]
    },
    {
     "name": "stderr",
     "output_type": "stream",
     "text": [
      " 86%|████████▋ | 4969/5750 [06:55<01:05, 11.97it/s]"
     ]
    },
    {
     "name": "stdout",
     "output_type": "stream",
     "text": [
      "https://wolnelektury.pl/media/book/txt/syrokomla-wybryki-dobrego-humoru-do-odpowiedz-na-prosbe-o-napisanie-gawed.txt\n",
      "https://wolnelektury.pl/media/book/txt/syrokomla-wybryki-dobrego-humoru-dumanie-poety.txt\n",
      "https://wolnelektury.pl/media/book/txt/syrokomla-wybryki-dobrego-humoru-expiacia-po-zapustna.txt\n",
      "https://wolnelektury.pl/media/book/txt/syrokomla-wybryki-dobrego-humoru-homerowa-dziatwa.txt\n"
     ]
    },
    {
     "name": "stderr",
     "output_type": "stream",
     "text": [
      " 86%|████████▋ | 4973/5750 [06:55<01:04, 11.97it/s]"
     ]
    },
    {
     "name": "stdout",
     "output_type": "stream",
     "text": [
      "https://wolnelektury.pl/media/book/txt/syrokomla-wybryki-dobrego-humoru-niewinnej-duszyczce.txt\n",
      "https://wolnelektury.pl/media/book/txt/syrokomla-wybryki-dobrego-humoru-oblawa.txt\n",
      "https://wolnelektury.pl/media/book/txt/syrokomla-wybryki-dobrego-humoru-oda-z-horacyusza.txt\n",
      "https://wolnelektury.pl/media/book/txt/syrokomla-wybryki-dobrego-humoru-parowoz.txt\n"
     ]
    },
    {
     "name": "stderr",
     "output_type": "stream",
     "text": [
      "\r",
      " 87%|████████▋ | 4975/5750 [06:55<01:04, 11.97it/s]"
     ]
    },
    {
     "name": "stdout",
     "output_type": "stream",
     "text": [
      "https://wolnelektury.pl/media/book/txt/syrokomla-wybryki-dobrego-humoru-slodycz-marzen.txt\n",
      "https://wolnelektury.pl/media/book/txt/syrokomla-wycieczki-po-litwie-w-promieniach-od-wilna.txt\n",
      "https://wolnelektury.pl/media/book/txt/syrokomla-wycieczki-po-litwie-w-promieniach-od-wilna-tom-drugi.txt\n"
     ]
    },
    {
     "name": "stderr",
     "output_type": "stream",
     "text": [
      "\r",
      " 87%|████████▋ | 4977/5750 [06:55<01:04, 11.97it/s]"
     ]
    },
    {
     "name": "stdout",
     "output_type": "stream",
     "text": [
      "https://wolnelektury.pl/media/book/txt/syrokomla-wycieczki-po-litwie-w-promieniach-od-wilna-tom-pierwszy.txt\n",
      "https://wolnelektury.pl/media/book/txt/syzyfowe-prace.txt\n"
     ]
    },
    {
     "name": "stderr",
     "output_type": "stream",
     "text": [
      " 87%|████████▋ | 4981/5750 [06:56<01:04, 11.96it/s]"
     ]
    },
    {
     "name": "stdout",
     "output_type": "stream",
     "text": [
      "https://wolnelektury.pl/media/book/txt/szara-dola.txt\n",
      "https://wolnelektury.pl/media/book/txt/szara-godzina.txt\n",
      "https://wolnelektury.pl/media/book/txt/szatan.txt\n"
     ]
    },
    {
     "name": "stderr",
     "output_type": "stream",
     "text": [
      "\r",
      " 87%|████████▋ | 4983/5750 [06:56<01:04, 11.96it/s]"
     ]
    },
    {
     "name": "stdout",
     "output_type": "stream",
     "text": [
      "https://wolnelektury.pl/media/book/txt/szczep-winny-bajki-nowe.txt\n",
      "https://wolnelektury.pl/media/book/txt/szczepanski-chlopcy-silni-jak-stal.txt\n",
      "https://wolnelektury.pl/media/book/txt/szczepanski-czerwona-zaraza.txt\n"
     ]
    },
    {
     "name": "stderr",
     "output_type": "stream",
     "text": [
      " 87%|████████▋ | 4987/5750 [06:56<01:03, 11.97it/s]"
     ]
    },
    {
     "name": "stdout",
     "output_type": "stream",
     "text": [
      "https://wolnelektury.pl/media/book/txt/szczepanski-palacyk-michla.txt\n",
      "https://wolnelektury.pl/media/book/txt/szczepanski-piosenka-batalionu-szturmowego-parasol.txt\n",
      "https://wolnelektury.pl/media/book/txt/szczesc-boze-i-bog-zaplac.txt\n",
      "https://wolnelektury.pl/media/book/txt/szczesliwa.txt\n"
     ]
    },
    {
     "name": "stderr",
     "output_type": "stream",
     "text": [
      " 87%|████████▋ | 4991/5750 [06:57<01:03, 11.97it/s]"
     ]
    },
    {
     "name": "stdout",
     "output_type": "stream",
     "text": [
      "https://wolnelektury.pl/media/book/txt/szczesliwy.txt\n",
      "https://wolnelektury.pl/media/book/txt/szczur-i-kot.txt\n",
      "https://wolnelektury.pl/media/book/txt/szczurek-i-matka.txt\n",
      "https://wolnelektury.pl/media/book/txt/szczurek-na-wedrowce.txt\n"
     ]
    },
    {
     "name": "stderr",
     "output_type": "stream",
     "text": [
      " 87%|████████▋ | 4995/5750 [06:57<01:03, 11.97it/s]"
     ]
    },
    {
     "name": "stdout",
     "output_type": "stream",
     "text": [
      "https://wolnelektury.pl/media/book/txt/szczygiel-i-kos-bajki-nowe.txt\n",
      "https://wolnelektury.pl/media/book/txt/szerszen-i-pszczola.txt\n",
      "https://wolnelektury.pl/media/book/txt/szerszen-i-wiewiorka.txt\n",
      "https://wolnelektury.pl/media/book/txt/szewcy.txt\n"
     ]
    },
    {
     "name": "stderr",
     "output_type": "stream",
     "text": [
      " 87%|████████▋ | 4999/5750 [06:57<01:02, 11.97it/s]"
     ]
    },
    {
     "name": "stdout",
     "output_type": "stream",
     "text": [
      "https://wolnelektury.pl/media/book/txt/szewczenko-hajdamacy.txt\n",
      "https://wolnelektury.pl/media/book/txt/szkapa-i-rumak.txt\n",
      "https://wolnelektury.pl/media/book/txt/szkatula-ze-zlotem-wor-z-kasza.txt\n"
     ]
    },
    {
     "name": "stderr",
     "output_type": "stream",
     "text": [
      "\r",
      " 87%|████████▋ | 5001/5750 [06:57<01:02, 11.97it/s]"
     ]
    },
    {
     "name": "stdout",
     "output_type": "stream",
     "text": [
      "https://wolnelektury.pl/media/book/txt/szkice-weglem.txt\n",
      "https://wolnelektury.pl/media/book/txt/szlengel-alarm.txt\n",
      "https://wolnelektury.pl/media/book/txt/szlengel-bardzo-przepraszam.txt\n"
     ]
    },
    {
     "name": "stderr",
     "output_type": "stream",
     "text": [
      " 87%|████████▋ | 5005/5750 [06:58<01:02, 11.97it/s]"
     ]
    },
    {
     "name": "stdout",
     "output_type": "stream",
     "text": [
      "https://wolnelektury.pl/media/book/txt/szlengel-co-czytalem-umarlym.txt\n",
      "https://wolnelektury.pl/media/book/txt/szlengel-co-czytalem-umarlym-tom.txt\n",
      "https://wolnelektury.pl/media/book/txt/szlengel-cylinder.txt\n"
     ]
    },
    {
     "name": "stderr",
     "output_type": "stream",
     "text": [
      " 87%|████████▋ | 5009/5750 [06:58<01:01, 11.97it/s]"
     ]
    },
    {
     "name": "stdout",
     "output_type": "stream",
     "text": [
      "https://wolnelektury.pl/media/book/txt/szlengel-cyrk.txt\n",
      "https://wolnelektury.pl/media/book/txt/szlengel-dajcie-mi-spokoj.txt\n",
      "https://wolnelektury.pl/media/book/txt/szlengel-do-polskiego-czytelnika.txt\n",
      "https://wolnelektury.pl/media/book/txt/szlengel-dodatek.txt\n"
     ]
    },
    {
     "name": "stderr",
     "output_type": "stream",
     "text": [
      "\r",
      " 87%|████████▋ | 5011/5750 [06:58<01:01, 11.97it/s]"
     ]
    },
    {
     "name": "stdout",
     "output_type": "stream",
     "text": [
      "https://wolnelektury.pl/media/book/txt/szlengel-dwaj-panowie-na-sniegu.txt\n",
      "https://wolnelektury.pl/media/book/txt/szlengel-dwie-smierci.txt\n",
      "https://wolnelektury.pl/media/book/txt/szlengel-dzwonki.txt\n"
     ]
    },
    {
     "name": "stderr",
     "output_type": "stream",
     "text": [
      " 87%|████████▋ | 5015/5750 [06:58<01:01, 11.97it/s]"
     ]
    },
    {
     "name": "stdout",
     "output_type": "stream",
     "text": [
      "https://wolnelektury.pl/media/book/txt/szlengel-erotyk-anno-domini-1943.txt\n",
      "https://wolnelektury.pl/media/book/txt/szlengel-fraszki.txt\n",
      "https://wolnelektury.pl/media/book/txt/szlengel-juz-czas.txt\n",
      "https://wolnelektury.pl/media/book/txt/szlengel-kartka-z-dziennika-akcji.txt\n"
     ]
    },
    {
     "name": "stderr",
     "output_type": "stream",
     "text": [
      " 87%|████████▋ | 5019/5750 [06:59<01:01, 11.98it/s]"
     ]
    },
    {
     "name": "stdout",
     "output_type": "stream",
     "text": [
      "https://wolnelektury.pl/media/book/txt/szlengel-klucz-u-stroza.txt\n",
      "https://wolnelektury.pl/media/book/txt/szlengel-kontratak-wersja-i.txt\n",
      "https://wolnelektury.pl/media/book/txt/szlengel-kontratak-wersja-ii.txt\n",
      "https://wolnelektury.pl/media/book/txt/szlengel-legendy-wigilijne.txt\n"
     ]
    },
    {
     "name": "stderr",
     "output_type": "stream",
     "text": [
      " 87%|████████▋ | 5023/5750 [06:59<01:00, 11.98it/s]"
     ]
    },
    {
     "name": "stdout",
     "output_type": "stream",
     "text": [
      "https://wolnelektury.pl/media/book/txt/szlengel-list.txt\n",
      "https://wolnelektury.pl/media/book/txt/szlengel-mala-stacja-treblinki.txt\n",
      "https://wolnelektury.pl/media/book/txt/szlengel-notatka-dla-pedantow.txt\n",
      "https://wolnelektury.pl/media/book/txt/szlengel-nowe-swieto.txt\n"
     ]
    },
    {
     "name": "stderr",
     "output_type": "stream",
     "text": [
      " 87%|████████▋ | 5027/5750 [06:59<01:00, 11.98it/s]"
     ]
    },
    {
     "name": "stdout",
     "output_type": "stream",
     "text": [
      "https://wolnelektury.pl/media/book/txt/szlengel-okno-na-tamta-strone.txt\n",
      "https://wolnelektury.pl/media/book/txt/szlengel-okolice-warszawy.txt\n",
      "https://wolnelektury.pl/media/book/txt/szlengel-ostatnia-legenda-o-golemie.txt\n",
      "https://wolnelektury.pl/media/book/txt/szlengel-pamietaja-o-mnie.txt\n"
     ]
    },
    {
     "name": "stderr",
     "output_type": "stream",
     "text": [
      " 87%|████████▋ | 5031/5750 [06:59<01:00, 11.98it/s]"
     ]
    },
    {
     "name": "stdout",
     "output_type": "stream",
     "text": [
      "https://wolnelektury.pl/media/book/txt/szlengel-paszporty.txt\n",
      "https://wolnelektury.pl/media/book/txt/szlengel-piekna-niedziela.txt\n",
      "https://wolnelektury.pl/media/book/txt/szlengel-pomnik.txt\n"
     ]
    },
    {
     "name": "stderr",
     "output_type": "stream",
     "text": [
      " 88%|████████▊ | 5035/5750 [07:00<00:59, 11.98it/s]"
     ]
    },
    {
     "name": "stdout",
     "output_type": "stream",
     "text": [
      "https://wolnelektury.pl/media/book/txt/szlengel-poslowie.txt\n",
      "https://wolnelektury.pl/media/book/txt/szlengel-pozegnanie-z-czapka.txt\n",
      "https://wolnelektury.pl/media/book/txt/szlengel-resume-czyli-krakowiaki-makabryczne.txt\n",
      "https://wolnelektury.pl/media/book/txt/szlengel-romans-wspolczesny.txt\n"
     ]
    },
    {
     "name": "stderr",
     "output_type": "stream",
     "text": [
      "\r",
      " 88%|████████▊ | 5037/5750 [07:00<00:59, 11.98it/s]"
     ]
    },
    {
     "name": "stdout",
     "output_type": "stream",
     "text": [
      "https://wolnelektury.pl/media/book/txt/szlengel-rozmowa-z-dzieckiem.txt\n",
      "https://wolnelektury.pl/media/book/txt/szlengel-rzeczy.txt\n",
      "https://wolnelektury.pl/media/book/txt/szlengel-telefon.txt\n"
     ]
    },
    {
     "name": "stderr",
     "output_type": "stream",
     "text": [
      " 88%|████████▊ | 5041/5750 [07:00<00:59, 11.99it/s]"
     ]
    },
    {
     "name": "stdout",
     "output_type": "stream",
     "text": [
      "https://wolnelektury.pl/media/book/txt/szlengel-trzy-listy-o-wasach-i-brodce.txt\n",
      "https://wolnelektury.pl/media/book/txt/szlengel-w-ten-dzien.txt\n",
      "https://wolnelektury.pl/media/book/txt/szlengel-wiersz-o-dziesieciu-kieliszkach.txt\n"
     ]
    },
    {
     "name": "stderr",
     "output_type": "stream",
     "text": [
      "\r",
      " 88%|████████▊ | 5043/5750 [07:00<00:58, 11.99it/s]"
     ]
    },
    {
     "name": "stdout",
     "output_type": "stream",
     "text": [
      "https://wolnelektury.pl/media/book/txt/szlengel-wolanie-w-nocy.txt\n",
      "https://wolnelektury.pl/media/book/txt/szlengel-za-piec-dwunasta.txt\n",
      "https://wolnelektury.pl/media/book/txt/szlengel-zahlen-bitte.txt\n"
     ]
    },
    {
     "name": "stderr",
     "output_type": "stream",
     "text": [
      " 88%|████████▊ | 5047/5750 [07:01<00:58, 11.99it/s]"
     ]
    },
    {
     "name": "stdout",
     "output_type": "stream",
     "text": [
      "https://wolnelektury.pl/media/book/txt/szopen-a-narod.txt\n",
      "https://wolnelektury.pl/media/book/txt/szopka-czarownica.txt\n",
      "https://wolnelektury.pl/media/book/txt/szopka-dziadek.txt\n"
     ]
    },
    {
     "name": "stderr",
     "output_type": "stream",
     "text": [
      "\r",
      " 88%|████████▊ | 5049/5750 [07:01<00:58, 11.99it/s]"
     ]
    },
    {
     "name": "stdout",
     "output_type": "stream",
     "text": [
      "https://wolnelektury.pl/media/book/txt/szopka-emigrant.txt\n",
      "https://wolnelektury.pl/media/book/txt/szopka-kominiarczyk.txt\n",
      "https://wolnelektury.pl/media/book/txt/szopka-krakowiaczek-skuba.txt\n"
     ]
    },
    {
     "name": "stderr",
     "output_type": "stream",
     "text": [
      " 88%|████████▊ | 5053/5750 [07:01<00:58, 11.99it/s]"
     ]
    },
    {
     "name": "stdout",
     "output_type": "stream",
     "text": [
      "https://wolnelektury.pl/media/book/txt/szopka-mysliwy.txt\n",
      "https://wolnelektury.pl/media/book/txt/szopka-owczarek.txt\n",
      "https://wolnelektury.pl/media/book/txt/szopka-piaskarz.txt\n",
      "https://wolnelektury.pl/media/book/txt/szopka-przekupka-marcinowa.txt\n"
     ]
    },
    {
     "name": "stderr",
     "output_type": "stream",
     "text": [
      " 88%|████████▊ | 5057/5750 [07:01<00:57, 11.99it/s]"
     ]
    },
    {
     "name": "stdout",
     "output_type": "stream",
     "text": [
      "https://wolnelektury.pl/media/book/txt/szopka-przewoznik.txt\n",
      "https://wolnelektury.pl/media/book/txt/szopka-sierotka.txt\n",
      "https://wolnelektury.pl/media/book/txt/szopka-strazak.txt\n"
     ]
    },
    {
     "name": "stderr",
     "output_type": "stream",
     "text": [
      "\r",
      " 88%|████████▊ | 5059/5750 [07:01<00:57, 11.99it/s]"
     ]
    },
    {
     "name": "stdout",
     "output_type": "stream",
     "text": [
      "https://wolnelektury.pl/media/book/txt/szopka-szewc.txt\n",
      "https://wolnelektury.pl/media/book/txt/szopka-szopka.txt\n",
      "https://wolnelektury.pl/media/book/txt/szopka-twardowski.txt\n"
     ]
    },
    {
     "name": "stderr",
     "output_type": "stream",
     "text": [
      "\r",
      " 88%|████████▊ | 5061/5750 [07:02<00:57, 11.99it/s]"
     ]
    },
    {
     "name": "stdout",
     "output_type": "stream",
     "text": [
      "https://wolnelektury.pl/media/book/txt/szopka-zak.txt\n",
      "https://wolnelektury.pl/media/book/txt/szpieg.txt\n"
     ]
    },
    {
     "name": "stderr",
     "output_type": "stream",
     "text": [
      " 88%|████████▊ | 5065/5750 [07:02<00:57, 11.99it/s]"
     ]
    },
    {
     "name": "stdout",
     "output_type": "stream",
     "text": [
      "https://wolnelektury.pl/media/book/txt/sztuka-kochania.txt\n",
      "https://wolnelektury.pl/media/book/txt/szukiewicz-przeczucie-smierci.txt\n",
      "https://wolnelektury.pl/media/book/txt/szukiewicz-rowne-bezkresne-pole.txt\n"
     ]
    },
    {
     "name": "stderr",
     "output_type": "stream",
     "text": [
      " 88%|████████▊ | 5069/5750 [07:02<00:56, 11.99it/s]"
     ]
    },
    {
     "name": "stdout",
     "output_type": "stream",
     "text": [
      "https://wolnelektury.pl/media/book/txt/szukiewicz-sielanka.txt\n",
      "https://wolnelektury.pl/media/book/txt/szydlo-w-worku.txt\n",
      "https://wolnelektury.pl/media/book/txt/tadeuszek.txt\n",
      "https://wolnelektury.pl/media/book/txt/tagore-babu-z-najandzor.txt\n"
     ]
    },
    {
     "name": "stderr",
     "output_type": "stream",
     "text": [
      "\r",
      " 88%|████████▊ | 5071/5750 [07:02<00:56, 11.99it/s]"
     ]
    },
    {
     "name": "stdout",
     "output_type": "stream",
     "text": [
      "https://wolnelektury.pl/media/book/txt/tagore-byl-sobie-krol.txt\n",
      "https://wolnelektury.pl/media/book/txt/tagore-glodne-kamienie.txt\n",
      "https://wolnelektury.pl/media/book/txt/tagore-jego-krolewska-mosc-dziecko.txt\n"
     ]
    },
    {
     "name": "stderr",
     "output_type": "stream",
     "text": [
      " 88%|████████▊ | 5075/5750 [07:03<00:56, 11.99it/s]"
     ]
    },
    {
     "name": "stdout",
     "output_type": "stream",
     "text": [
      "https://wolnelektury.pl/media/book/txt/tagore-kabuliwala.txt\n",
      "https://wolnelektury.pl/media/book/txt/tagore-kaplanka-wisznu.txt\n",
      "https://wolnelektury.pl/media/book/txt/tagore-koronujemy-cie-na-krola.txt\n"
     ]
    },
    {
     "name": "stderr",
     "output_type": "stream",
     "text": [
      "\r",
      " 88%|████████▊ | 5077/5750 [07:03<00:56, 11.99it/s]"
     ]
    },
    {
     "name": "stdout",
     "output_type": "stream",
     "text": [
      "https://wolnelektury.pl/media/book/txt/tagore-kuma.txt\n",
      "https://wolnelektury.pl/media/book/txt/tagore-maszi.txt\n",
      "https://wolnelektury.pl/media/book/txt/tagore-moja-piekna-sasiadka.txt\n"
     ]
    },
    {
     "name": "stderr",
     "output_type": "stream",
     "text": [
      " 88%|████████▊ | 5081/5750 [07:03<00:55, 12.00it/s]"
     ]
    },
    {
     "name": "stdout",
     "output_type": "stream",
     "text": [
      "https://wolnelektury.pl/media/book/txt/tagore-noc-ziszczenia.txt\n",
      "https://wolnelektury.pl/media/book/txt/tagore-odwet.txt\n",
      "https://wolnelektury.pl/media/book/txt/tagore-powrot.txt\n"
     ]
    },
    {
     "name": "stderr",
     "output_type": "stream",
     "text": [
      "\r",
      " 88%|████████▊ | 5083/5750 [07:03<00:55, 12.00it/s]"
     ]
    },
    {
     "name": "stdout",
     "output_type": "stream",
     "text": [
      "https://wolnelektury.pl/media/book/txt/tagore-radza-i-rani.txt\n",
      "https://wolnelektury.pl/media/book/txt/tagore-rozwiazanie-zagadki.txt\n",
      "https://wolnelektury.pl/media/book/txt/tagore-smierc-kadambini.txt\n"
     ]
    },
    {
     "name": "stderr",
     "output_type": "stream",
     "text": [
      " 88%|████████▊ | 5087/5750 [07:04<00:55, 12.00it/s]"
     ]
    },
    {
     "name": "stdout",
     "output_type": "stream",
     "text": [
      "https://wolnelektury.pl/media/book/txt/tagore-starsza-siostra.txt\n",
      "https://wolnelektury.pl/media/book/txt/tagore-stroz-dziedzictwa.txt\n",
      "https://wolnelektury.pl/media/book/txt/tagore-szkielet.txt\n"
     ]
    },
    {
     "name": "stderr",
     "output_type": "stream",
     "text": [
      "\r",
      " 89%|████████▊ | 5089/5750 [07:04<00:55, 12.00it/s]"
     ]
    },
    {
     "name": "stdout",
     "output_type": "stream",
     "text": [
      "https://wolnelektury.pl/media/book/txt/tagore-uratowana.txt\n",
      "https://wolnelektury.pl/media/book/txt/tagore-zwyciestwo.txt\n",
      "https://wolnelektury.pl/media/book/txt/tajemniczy-ogrod.txt\n"
     ]
    },
    {
     "name": "stderr",
     "output_type": "stream",
     "text": [
      " 89%|████████▊ | 5093/5750 [07:04<00:54, 12.00it/s]"
     ]
    },
    {
     "name": "stdout",
     "output_type": "stream",
     "text": [
      "https://wolnelektury.pl/media/book/txt/tak-mi-boze-dopomoz.txt\n",
      "https://wolnelektury.pl/media/book/txt/tak-szeptal-tuman-czarny.txt\n",
      "https://wolnelektury.pl/media/book/txt/tak-toczy-sie-swiatek.txt\n",
      "https://wolnelektury.pl/media/book/txt/tako-rzecze-zaratustra.txt\n"
     ]
    },
    {
     "name": "stderr",
     "output_type": "stream",
     "text": [
      " 89%|████████▊ | 5097/5750 [07:05<00:54, 11.99it/s]"
     ]
    },
    {
     "name": "stdout",
     "output_type": "stream",
     "text": [
      "https://wolnelektury.pl/media/book/txt/talar-czerwony-i-zloty.txt\n",
      "https://wolnelektury.pl/media/book/txt/tam-na-bloniu-blyszczy-kwiecie.txt\n",
      "https://wolnelektury.pl/media/book/txt/tam-na-obczyznie.txt\n",
      "https://wolnelektury.pl/media/book/txt/taniec-milosci.txt\n"
     ]
    },
    {
     "name": "stderr",
     "output_type": "stream",
     "text": [
      "\r",
      " 89%|████████▊ | 5099/5750 [07:05<00:54, 11.99it/s]"
     ]
    },
    {
     "name": "stdout",
     "output_type": "stream",
     "text": [
      "https://wolnelektury.pl/media/book/txt/tarcza.txt\n",
      "https://wolnelektury.pl/media/book/txt/tatarzy-na-weselu.txt\n"
     ]
    },
    {
     "name": "stderr",
     "output_type": "stream",
     "text": [
      " 89%|████████▊ | 5103/5750 [07:05<00:53, 11.99it/s]"
     ]
    },
    {
     "name": "stdout",
     "output_type": "stream",
     "text": [
      "https://wolnelektury.pl/media/book/txt/teczowy-duszek.txt\n",
      "https://wolnelektury.pl/media/book/txt/ten-sam-duchowi-plomienny-szlak.txt\n",
      "https://wolnelektury.pl/media/book/txt/teodorek.txt\n"
     ]
    },
    {
     "name": "stderr",
     "output_type": "stream",
     "text": [
      "\r",
      " 89%|████████▉ | 5105/5750 [07:05<00:53, 11.99it/s]"
     ]
    },
    {
     "name": "stdout",
     "output_type": "stream",
     "text": [
      "https://wolnelektury.pl/media/book/txt/testament.txt\n",
      "https://wolnelektury.pl/media/book/txt/testament-alego.txt\n",
      "https://wolnelektury.pl/media/book/txt/testament-moj.txt\n"
     ]
    },
    {
     "name": "stderr",
     "output_type": "stream",
     "text": [
      "\r",
      " 89%|████████▉ | 5107/5750 [07:05<00:53, 11.99it/s]"
     ]
    },
    {
     "name": "stdout",
     "output_type": "stream",
     "text": [
      "https://wolnelektury.pl/media/book/txt/tetniace-serce.txt\n",
      "https://wolnelektury.pl/media/book/txt/threnes.txt\n"
     ]
    },
    {
     "name": "stderr",
     "output_type": "stream",
     "text": [
      " 89%|████████▉ | 5111/5750 [07:06<00:53, 11.99it/s]"
     ]
    },
    {
     "name": "stdout",
     "output_type": "stream",
     "text": [
      "https://wolnelektury.pl/media/book/txt/threnes-introduction.txt\n",
      "https://wolnelektury.pl/media/book/txt/threnes-motto.txt\n",
      "https://wolnelektury.pl/media/book/txt/threnes-threne-i.txt\n"
     ]
    },
    {
     "name": "stderr",
     "output_type": "stream",
     "text": [
      "\r",
      " 89%|████████▉ | 5113/5750 [07:06<00:53, 11.99it/s]"
     ]
    },
    {
     "name": "stdout",
     "output_type": "stream",
     "text": [
      "https://wolnelektury.pl/media/book/txt/threnes-threne-ii.txt\n",
      "https://wolnelektury.pl/media/book/txt/threnes-threne-iii.txt\n",
      "https://wolnelektury.pl/media/book/txt/threnes-threne-iv.txt\n"
     ]
    },
    {
     "name": "stderr",
     "output_type": "stream",
     "text": [
      " 89%|████████▉ | 5117/5750 [07:06<00:52, 11.99it/s]"
     ]
    },
    {
     "name": "stdout",
     "output_type": "stream",
     "text": [
      "https://wolnelektury.pl/media/book/txt/threnes-threne-ix.txt\n",
      "https://wolnelektury.pl/media/book/txt/threnes-threne-v.txt\n",
      "https://wolnelektury.pl/media/book/txt/threnes-threne-vi.txt\n"
     ]
    },
    {
     "name": "stderr",
     "output_type": "stream",
     "text": [
      " 89%|████████▉ | 5121/5750 [07:07<00:52, 11.99it/s]"
     ]
    },
    {
     "name": "stdout",
     "output_type": "stream",
     "text": [
      "https://wolnelektury.pl/media/book/txt/threnes-threne-vii.txt\n",
      "https://wolnelektury.pl/media/book/txt/threnes-threne-viii.txt\n",
      "https://wolnelektury.pl/media/book/txt/threnes-threne-x.txt\n",
      "https://wolnelektury.pl/media/book/txt/threnes-threne-xi.txt\n"
     ]
    },
    {
     "name": "stderr",
     "output_type": "stream",
     "text": [
      "\r",
      " 89%|████████▉ | 5123/5750 [07:07<00:52, 11.99it/s]"
     ]
    },
    {
     "name": "stdout",
     "output_type": "stream",
     "text": [
      "https://wolnelektury.pl/media/book/txt/threnes-threne-xii.txt\n",
      "https://wolnelektury.pl/media/book/txt/threnes-threne-xiii.txt\n",
      "https://wolnelektury.pl/media/book/txt/threnes-threne-xiv.txt\n"
     ]
    },
    {
     "name": "stderr",
     "output_type": "stream",
     "text": [
      " 89%|████████▉ | 5127/5750 [07:07<00:51, 11.99it/s]"
     ]
    },
    {
     "name": "stdout",
     "output_type": "stream",
     "text": [
      "https://wolnelektury.pl/media/book/txt/threnes-threne-xix.txt\n",
      "https://wolnelektury.pl/media/book/txt/threnes-threne-xv.txt\n",
      "https://wolnelektury.pl/media/book/txt/threnes-threne-xvi.txt\n",
      "https://wolnelektury.pl/media/book/txt/threnes-threne-xvii.txt\n"
     ]
    },
    {
     "name": "stderr",
     "output_type": "stream",
     "text": [
      " 89%|████████▉ | 5131/5750 [07:07<00:51, 11.99it/s]"
     ]
    },
    {
     "name": "stdout",
     "output_type": "stream",
     "text": [
      "https://wolnelektury.pl/media/book/txt/threnes-threne-xviii.txt\n",
      "https://wolnelektury.pl/media/book/txt/threnodien.txt\n",
      "https://wolnelektury.pl/media/book/txt/threnodien-an-meine-getreuen-horer.txt\n"
     ]
    },
    {
     "name": "stderr",
     "output_type": "stream",
     "text": [
      " 89%|████████▉ | 5135/5750 [07:08<00:51, 12.00it/s]"
     ]
    },
    {
     "name": "stdout",
     "output_type": "stream",
     "text": [
      "https://wolnelektury.pl/media/book/txt/threnodien-i.txt\n",
      "https://wolnelektury.pl/media/book/txt/threnodien-ii.txt\n",
      "https://wolnelektury.pl/media/book/txt/threnodien-iii.txt\n",
      "https://wolnelektury.pl/media/book/txt/threnodien-iv.txt\n"
     ]
    },
    {
     "name": "stderr",
     "output_type": "stream",
     "text": [
      "\r",
      " 89%|████████▉ | 5137/5750 [07:08<00:51, 12.00it/s]"
     ]
    },
    {
     "name": "stdout",
     "output_type": "stream",
     "text": [
      "https://wolnelektury.pl/media/book/txt/threnodien-ix.txt\n",
      "https://wolnelektury.pl/media/book/txt/threnodien-v.txt\n",
      "https://wolnelektury.pl/media/book/txt/threnodien-vi.txt\n"
     ]
    },
    {
     "name": "stderr",
     "output_type": "stream",
     "text": [
      " 89%|████████▉ | 5141/5750 [07:08<00:50, 12.00it/s]"
     ]
    },
    {
     "name": "stdout",
     "output_type": "stream",
     "text": [
      "https://wolnelektury.pl/media/book/txt/threnodien-vii.txt\n",
      "https://wolnelektury.pl/media/book/txt/threnodien-viii.txt\n",
      "https://wolnelektury.pl/media/book/txt/threnodien-x.txt\n"
     ]
    },
    {
     "name": "stderr",
     "output_type": "stream",
     "text": [
      " 89%|████████▉ | 5145/5750 [07:08<00:50, 12.00it/s]"
     ]
    },
    {
     "name": "stdout",
     "output_type": "stream",
     "text": [
      "https://wolnelektury.pl/media/book/txt/threnodien-xi.txt\n",
      "https://wolnelektury.pl/media/book/txt/threnodien-xii.txt\n",
      "https://wolnelektury.pl/media/book/txt/threnodien-xiii.txt\n",
      "https://wolnelektury.pl/media/book/txt/threnodien-xiv.txt\n",
      "https://wolnelektury.pl/media/book/txt/threnodien-xix.txt\n"
     ]
    },
    {
     "name": "stderr",
     "output_type": "stream",
     "text": [
      " 90%|████████▉ | 5149/5750 [07:08<00:50, 12.00it/s]"
     ]
    },
    {
     "name": "stdout",
     "output_type": "stream",
     "text": [
      "https://wolnelektury.pl/media/book/txt/threnodien-xv.txt\n",
      "https://wolnelektury.pl/media/book/txt/threnodien-xvi.txt\n",
      "https://wolnelektury.pl/media/book/txt/threnodien-xvii.txt\n",
      "https://wolnelektury.pl/media/book/txt/threnodien-xviii.txt\n"
     ]
    },
    {
     "name": "stderr",
     "output_type": "stream",
     "text": [
      " 90%|████████▉ | 5153/5750 [07:09<00:49, 12.01it/s]"
     ]
    },
    {
     "name": "stdout",
     "output_type": "stream",
     "text": [
      "https://wolnelektury.pl/media/book/txt/titelitury.txt\n",
      "https://wolnelektury.pl/media/book/txt/tlumaczenia.txt\n",
      "https://wolnelektury.pl/media/book/txt/tlumaczenia-z-autora-niewiadomego.txt\n",
      "https://wolnelektury.pl/media/book/txt/tlumaczenia-z-ballady.txt\n"
     ]
    },
    {
     "name": "stderr",
     "output_type": "stream",
     "text": [
      " 90%|████████▉ | 5157/5750 [07:09<00:49, 12.01it/s]"
     ]
    },
    {
     "name": "stdout",
     "output_type": "stream",
     "text": [
      "https://wolnelektury.pl/media/book/txt/tlumaczenia-z-niewiadomego.txt\n",
      "https://wolnelektury.pl/media/book/txt/tlumaczenia-z-teognidesa.txt\n",
      "https://wolnelektury.pl/media/book/txt/tomek-baran.txt\n"
     ]
    },
    {
     "name": "stderr",
     "output_type": "stream",
     "text": [
      "\r",
      " 90%|████████▉ | 5159/5750 [07:09<00:49, 12.01it/s]"
     ]
    },
    {
     "name": "stdout",
     "output_type": "stream",
     "text": [
      "https://wolnelektury.pl/media/book/txt/tomko-prawdzic.txt\n",
      "https://wolnelektury.pl/media/book/txt/totenmesse.txt\n"
     ]
    },
    {
     "name": "stderr",
     "output_type": "stream",
     "text": [
      "\r",
      " 90%|████████▉ | 5161/5750 [07:09<00:49, 12.01it/s]"
     ]
    },
    {
     "name": "stdout",
     "output_type": "stream",
     "text": [
      "https://wolnelektury.pl/media/book/txt/towarzysz-podrozy.txt\n",
      "https://wolnelektury.pl/media/book/txt/tragikomedya-prawdy.txt\n"
     ]
    },
    {
     "name": "stderr",
     "output_type": "stream",
     "text": [
      "\r",
      " 90%|████████▉ | 5163/5750 [07:10<00:48, 12.01it/s]"
     ]
    },
    {
     "name": "stdout",
     "output_type": "stream",
     "text": [
      "https://wolnelektury.pl/media/book/txt/treny.txt\n",
      "https://wolnelektury.pl/media/book/txt/treny-epitafium-hannie-kochanowskiej.txt\n",
      "https://wolnelektury.pl/media/book/txt/treny-motto-i-dedykacja.txt\n"
     ]
    },
    {
     "name": "stderr",
     "output_type": "stream",
     "text": [
      " 90%|████████▉ | 5167/5750 [07:10<00:48, 12.01it/s]"
     ]
    },
    {
     "name": "stdout",
     "output_type": "stream",
     "text": [
      "https://wolnelektury.pl/media/book/txt/treny-nota-edytorska.txt\n",
      "https://wolnelektury.pl/media/book/txt/treny-tren-i.txt\n",
      "https://wolnelektury.pl/media/book/txt/treny-tren-ii.txt\n",
      "https://wolnelektury.pl/media/book/txt/treny-tren-iii.txt\n"
     ]
    },
    {
     "name": "stderr",
     "output_type": "stream",
     "text": [
      " 90%|████████▉ | 5171/5750 [07:10<00:48, 12.01it/s]"
     ]
    },
    {
     "name": "stdout",
     "output_type": "stream",
     "text": [
      "https://wolnelektury.pl/media/book/txt/treny-tren-iv.txt\n",
      "https://wolnelektury.pl/media/book/txt/treny-tren-ix.txt\n",
      "https://wolnelektury.pl/media/book/txt/treny-tren-v.txt\n"
     ]
    },
    {
     "name": "stderr",
     "output_type": "stream",
     "text": [
      "\r",
      " 90%|████████▉ | 5173/5750 [07:10<00:48, 12.01it/s]"
     ]
    },
    {
     "name": "stdout",
     "output_type": "stream",
     "text": [
      "https://wolnelektury.pl/media/book/txt/treny-tren-vi.txt\n",
      "https://wolnelektury.pl/media/book/txt/treny-tren-vii.txt\n",
      "https://wolnelektury.pl/media/book/txt/treny-tren-viii.txt\n"
     ]
    },
    {
     "name": "stderr",
     "output_type": "stream",
     "text": [
      " 90%|█████████ | 5177/5750 [07:11<00:47, 12.01it/s]"
     ]
    },
    {
     "name": "stdout",
     "output_type": "stream",
     "text": [
      "https://wolnelektury.pl/media/book/txt/treny-tren-x.txt\n",
      "https://wolnelektury.pl/media/book/txt/treny-tren-xi.txt\n",
      "https://wolnelektury.pl/media/book/txt/treny-tren-xii.txt\n"
     ]
    },
    {
     "name": "stderr",
     "output_type": "stream",
     "text": [
      "\r",
      " 90%|█████████ | 5179/5750 [07:11<00:47, 12.01it/s]"
     ]
    },
    {
     "name": "stdout",
     "output_type": "stream",
     "text": [
      "https://wolnelektury.pl/media/book/txt/treny-tren-xiii.txt\n",
      "https://wolnelektury.pl/media/book/txt/treny-tren-xiv.txt\n",
      "https://wolnelektury.pl/media/book/txt/treny-tren-xix-albo-sen.txt\n"
     ]
    },
    {
     "name": "stderr",
     "output_type": "stream",
     "text": [
      " 90%|█████████ | 5183/5750 [07:11<00:47, 12.01it/s]"
     ]
    },
    {
     "name": "stdout",
     "output_type": "stream",
     "text": [
      "https://wolnelektury.pl/media/book/txt/treny-tren-xv.txt\n",
      "https://wolnelektury.pl/media/book/txt/treny-tren-xvi.txt\n",
      "https://wolnelektury.pl/media/book/txt/treny-tren-xvii.txt\n",
      "https://wolnelektury.pl/media/book/txt/treny-tren-xviii.txt\n"
     ]
    },
    {
     "name": "stderr",
     "output_type": "stream",
     "text": [
      "\r",
      " 90%|█████████ | 5185/5750 [07:11<00:47, 12.01it/s]"
     ]
    },
    {
     "name": "stdout",
     "output_type": "stream",
     "text": [
      "https://wolnelektury.pl/media/book/txt/trup-w-oblokach-czyli-historya-maszyny-latajacej-w-powietrzu.txt\n",
      "https://wolnelektury.pl/media/book/txt/trylogia-ksiezycowa-na-srebrnym-globie.txt\n"
     ]
    },
    {
     "name": "stderr",
     "output_type": "stream",
     "text": [
      "\r",
      " 90%|█████████ | 5187/5750 [07:11<00:46, 12.01it/s]"
     ]
    },
    {
     "name": "stdout",
     "output_type": "stream",
     "text": [
      "https://wolnelektury.pl/media/book/txt/trylogia-ksiezycowa-stara-ziemia.txt\n",
      "https://wolnelektury.pl/media/book/txt/trylogia-ksiezycowa-zwyciezca.txt\n"
     ]
    },
    {
     "name": "stderr",
     "output_type": "stream",
     "text": [
      " 90%|█████████ | 5191/5750 [07:12<00:46, 12.00it/s]"
     ]
    },
    {
     "name": "stdout",
     "output_type": "stream",
     "text": [
      "https://wolnelektury.pl/media/book/txt/tryumfy-krola-niebieskiego.txt\n",
      "https://wolnelektury.pl/media/book/txt/trzcina-i-chmiel.txt\n",
      "https://wolnelektury.pl/media/book/txt/trzebinski-granatowe-traczostwo.txt\n",
      "https://wolnelektury.pl/media/book/txt/trzebinski-piosenka-o-teresie.txt\n"
     ]
    },
    {
     "name": "stderr",
     "output_type": "stream",
     "text": [
      " 90%|█████████ | 5195/5750 [07:12<00:46, 12.01it/s]"
     ]
    },
    {
     "name": "stdout",
     "output_type": "stream",
     "text": [
      "https://wolnelektury.pl/media/book/txt/trzebinski-ta-chwila.txt\n",
      "https://wolnelektury.pl/media/book/txt/trzebinski-wieczor-w-sniegu.txt\n",
      "https://wolnelektury.pl/media/book/txt/trzebinski-wymarsz-uderzenia.txt\n",
      "https://wolnelektury.pl/media/book/txt/trzebinski-wyprzedaz-jesieni.txt\n"
     ]
    },
    {
     "name": "stderr",
     "output_type": "stream",
     "text": [
      " 90%|█████████ | 5199/5750 [07:12<00:45, 12.01it/s]"
     ]
    },
    {
     "name": "stdout",
     "output_type": "stream",
     "text": [
      "https://wolnelektury.pl/media/book/txt/trzech-budrysow.txt\n",
      "https://wolnelektury.pl/media/book/txt/trzeci-maj-litwina.txt\n",
      "https://wolnelektury.pl/media/book/txt/trzej-bracia.txt\n",
      "https://wolnelektury.pl/media/book/txt/trzej-muszkieterowie-tom-i.txt\n"
     ]
    },
    {
     "name": "stderr",
     "output_type": "stream",
     "text": [
      " 90%|█████████ | 5203/5750 [07:13<00:45, 12.00it/s]"
     ]
    },
    {
     "name": "stdout",
     "output_type": "stream",
     "text": [
      "https://wolnelektury.pl/media/book/txt/trzewiczki-jozia.txt\n",
      "https://wolnelektury.pl/media/book/txt/trzoda-bajki-nowe.txt\n",
      "https://wolnelektury.pl/media/book/txt/trzy-piora.txt\n",
      "https://wolnelektury.pl/media/book/txt/trzy-poemata.txt\n"
     ]
    },
    {
     "name": "stderr",
     "output_type": "stream",
     "text": [
      " 91%|█████████ | 5207/5750 [07:13<00:45, 12.01it/s]"
     ]
    },
    {
     "name": "stdout",
     "output_type": "stream",
     "text": [
      "https://wolnelektury.pl/media/book/txt/trzy-poemata-ojciec-zadzumionych.txt\n",
      "https://wolnelektury.pl/media/book/txt/trzy-poemata-w-szwajcarii.txt\n",
      "https://wolnelektury.pl/media/book/txt/trzy-poemata-waclaw.txt\n"
     ]
    },
    {
     "name": "stderr",
     "output_type": "stream",
     "text": [
      "\r",
      " 91%|█████████ | 5209/5750 [07:13<00:45, 12.01it/s]"
     ]
    },
    {
     "name": "stdout",
     "output_type": "stream",
     "text": [
      "https://wolnelektury.pl/media/book/txt/tukaj-albo-proby-przyjazni.txt\n",
      "https://wolnelektury.pl/media/book/txt/tulipan-i-fialek.txt\n",
      "https://wolnelektury.pl/media/book/txt/tumor-mozgowicz.txt\n"
     ]
    },
    {
     "name": "stderr",
     "output_type": "stream",
     "text": [
      " 91%|█████████ | 5213/5750 [07:14<00:44, 12.01it/s]"
     ]
    },
    {
     "name": "stdout",
     "output_type": "stream",
     "text": [
      "https://wolnelektury.pl/media/book/txt/ty-glos-cierpiacy-podnies-i-niech-w-tobie.txt\n",
      "https://wolnelektury.pl/media/book/txt/tymon-atenczyk.txt\n",
      "https://wolnelektury.pl/media/book/txt/tytus-andronikus.txt\n"
     ]
    },
    {
     "name": "stderr",
     "output_type": "stream",
     "text": [
      " 91%|█████████ | 5217/5750 [07:14<00:44, 12.01it/s]"
     ]
    },
    {
     "name": "stdout",
     "output_type": "stream",
     "text": [
      "https://wolnelektury.pl/media/book/txt/u-krola-olch.txt\n",
      "https://wolnelektury.pl/media/book/txt/u-okienka-z-mojego-okienka.txt\n",
      "https://wolnelektury.pl/media/book/txt/uboga-wdowa.txt\n",
      "https://wolnelektury.pl/media/book/txt/ubogi-bogaty.txt\n"
     ]
    },
    {
     "name": "stderr",
     "output_type": "stream",
     "text": [
      "\r",
      " 91%|█████████ | 5219/5750 [07:14<00:44, 12.01it/s]"
     ]
    },
    {
     "name": "stdout",
     "output_type": "stream",
     "text": [
      "https://wolnelektury.pl/media/book/txt/ubu-krol.txt\n",
      "https://wolnelektury.pl/media/book/txt/ucieczka.txt\n",
      "https://wolnelektury.pl/media/book/txt/ugoda-z-wroblami.txt\n"
     ]
    },
    {
     "name": "stderr",
     "output_type": "stream",
     "text": [
      " 91%|█████████ | 5223/5750 [07:15<00:43, 12.01it/s]"
     ]
    },
    {
     "name": "stdout",
     "output_type": "stream",
     "text": [
      "https://wolnelektury.pl/media/book/txt/ukladanka.txt\n",
      "https://wolnelektury.pl/media/book/txt/ukradziony-grosik.txt\n",
      "https://wolnelektury.pl/media/book/txt/ulan-i-dziewczyna.txt\n"
     ]
    },
    {
     "name": "stderr",
     "output_type": "stream",
     "text": [
      "\r",
      " 91%|█████████ | 5225/5750 [07:15<00:43, 12.01it/s]"
     ]
    },
    {
     "name": "stdout",
     "output_type": "stream",
     "text": [
      "https://wolnelektury.pl/media/book/txt/umbrelka-bajki-nowe.txt\n",
      "https://wolnelektury.pl/media/book/txt/urbanowa.txt\n",
      "https://wolnelektury.pl/media/book/txt/urbanowska-gucio-zaczarowany.txt\n"
     ]
    },
    {
     "name": "stderr",
     "output_type": "stream",
     "text": [
      "\r",
      " 91%|█████████ | 5227/5750 [07:15<00:43, 12.00it/s]"
     ]
    },
    {
     "name": "stdout",
     "output_type": "stream",
     "text": [
      "https://wolnelektury.pl/media/book/txt/urbanowska-ksiezniczka.txt\n"
     ]
    },
    {
     "name": "stderr",
     "output_type": "stream",
     "text": [
      "\r",
      " 91%|█████████ | 5229/5750 [07:15<00:43, 12.00it/s]"
     ]
    },
    {
     "name": "stdout",
     "output_type": "stream",
     "text": [
      "https://wolnelektury.pl/media/book/txt/utwory-drobne.txt\n",
      "https://wolnelektury.pl/media/book/txt/uwagi-z-powodu-listu-polaka-do-ministra-rosyjskiego.txt\n",
      "https://wolnelektury.pl/media/book/txt/uwieziona.txt\n"
     ]
    },
    {
     "name": "stderr",
     "output_type": "stream",
     "text": [
      "\r",
      " 91%|█████████ | 5231/5750 [07:15<00:43, 12.00it/s]"
     ]
    },
    {
     "name": "stdout",
     "output_type": "stream",
     "text": [
      "https://wolnelektury.pl/media/book/txt/uwieziona-tom-drugi.txt\n",
      "https://wolnelektury.pl/media/book/txt/uwieziona-tom-pierwszy.txt\n"
     ]
    },
    {
     "name": "stderr",
     "output_type": "stream",
     "text": [
      " 91%|█████████ | 5234/5750 [07:16<00:43, 11.99it/s]"
     ]
    },
    {
     "name": "stdout",
     "output_type": "stream",
     "text": [
      "https://wolnelektury.pl/media/book/txt/valancius-palangos-juze.txt\n",
      "https://wolnelektury.pl/media/book/txt/verhaeren-wychodzcy.txt\n",
      "https://wolnelektury.pl/media/book/txt/verne-promien-zielony.txt\n"
     ]
    },
    {
     "name": "stderr",
     "output_type": "stream",
     "text": [
      " 91%|█████████ | 5238/5750 [07:16<00:42, 11.99it/s]"
     ]
    },
    {
     "name": "stdout",
     "output_type": "stream",
     "text": [
      "https://wolnelektury.pl/media/book/txt/viele-griffin-piesn.txt\n",
      "https://wolnelektury.pl/media/book/txt/virgini-intactae.txt\n",
      "https://wolnelektury.pl/media/book/txt/w-80-dni-dookola-swiata.txt\n"
     ]
    },
    {
     "name": "stderr",
     "output_type": "stream",
     "text": [
      " 91%|█████████ | 5242/5750 [07:17<00:42, 11.99it/s]"
     ]
    },
    {
     "name": "stdout",
     "output_type": "stream",
     "text": [
      "https://wolnelektury.pl/media/book/txt/w-albumie-e-hr-krasinskiej.txt\n",
      "https://wolnelektury.pl/media/book/txt/w-biurze-pocztowym.txt\n",
      "https://wolnelektury.pl/media/book/txt/w-ciemnosci-schodzi-moja-dusza.txt\n",
      "https://wolnelektury.pl/media/book/txt/w-ciemnosci-schodzi-moja-dusza-i-wierzylem-zawsze-w-swiatla-moc.txt\n"
     ]
    },
    {
     "name": "stderr",
     "output_type": "stream",
     "text": [
      "\r",
      " 91%|█████████ | 5244/5750 [07:17<00:42, 11.99it/s]"
     ]
    },
    {
     "name": "stdout",
     "output_type": "stream",
     "text": [
      "https://wolnelektury.pl/media/book/txt/w-ciemnosci-schodzi-moja-dusza-ii-w-ciemnosci-schodzi-moja-dusza.txt\n",
      "https://wolnelektury.pl/media/book/txt/w-ciemnosci-schodzi-moja-dusza-iii-zazdroszcze-nieraz-tym-co-w-grobach-leza.txt\n",
      "https://wolnelektury.pl/media/book/txt/w-ciemnosci-schodzi-moja-dusza-iv-o-niezglebiona-duszy-toni.txt\n"
     ]
    },
    {
     "name": "stderr",
     "output_type": "stream",
     "text": [
      " 91%|█████████▏| 5248/5750 [07:17<00:41, 11.99it/s]"
     ]
    },
    {
     "name": "stdout",
     "output_type": "stream",
     "text": [
      "https://wolnelektury.pl/media/book/txt/w-ciemnosci-schodzi-moja-dusza-ix-modlitwo-moja-cicha-i-bez-slow.txt\n",
      "https://wolnelektury.pl/media/book/txt/w-ciemnosci-schodzi-moja-dusza-v-z-glebin-przestworu-z-ciemnych-chmur.txt\n",
      "https://wolnelektury.pl/media/book/txt/w-ciemnosci-schodzi-moja-dusza-vi-ach-nieraz-mi-sie-zdaje.txt\n"
     ]
    },
    {
     "name": "stderr",
     "output_type": "stream",
     "text": [
      "\r",
      " 91%|█████████▏| 5250/5750 [07:17<00:41, 11.99it/s]"
     ]
    },
    {
     "name": "stdout",
     "output_type": "stream",
     "text": [
      "https://wolnelektury.pl/media/book/txt/w-ciemnosci-schodzi-moja-dusza-vii-zycia-ogromne-morze-grzmi-przede-mna.txt\n",
      "https://wolnelektury.pl/media/book/txt/w-ciemnosci-schodzi-moja-dusza-viii-byles-mi-dawniej-bozyszczem-o-tlumie.txt\n",
      "https://wolnelektury.pl/media/book/txt/w-ciemnosci-schodzi-moja-dusza-x-tesknie-ku-tobie-o-szumiacy-lesie.txt\n"
     ]
    },
    {
     "name": "stderr",
     "output_type": "stream",
     "text": [
      "\r",
      " 91%|█████████▏| 5252/5750 [07:18<00:41, 11.99it/s]"
     ]
    },
    {
     "name": "stdout",
     "output_type": "stream",
     "text": [
      "https://wolnelektury.pl/media/book/txt/w-ciemnosci-schodzi-moja-dusza-xi-bolu-szemrzacy-zdroj.txt\n",
      "https://wolnelektury.pl/media/book/txt/w-cieniu-wiazow.txt\n"
     ]
    },
    {
     "name": "stderr",
     "output_type": "stream",
     "text": [
      "\r",
      " 91%|█████████▏| 5254/5750 [07:18<00:41, 11.99it/s]"
     ]
    },
    {
     "name": "stdout",
     "output_type": "stream",
     "text": [
      "https://wolnelektury.pl/media/book/txt/w-cieniu-zakwitajacych-dziewczat.txt\n",
      "https://wolnelektury.pl/media/book/txt/w-cieniu-zakwitajacych-dziewczat-tom-drugi.txt\n"
     ]
    },
    {
     "name": "stderr",
     "output_type": "stream",
     "text": [
      "\r",
      " 91%|█████████▏| 5256/5750 [07:18<00:41, 11.98it/s]"
     ]
    },
    {
     "name": "stdout",
     "output_type": "stream",
     "text": [
      "https://wolnelektury.pl/media/book/txt/w-cieniu-zakwitajacych-dziewczat-tom-pierwszy.txt\n",
      "https://wolnelektury.pl/media/book/txt/w-cieniu-zakwitajacych-dziewczat-tom-trzeci.txt\n"
     ]
    },
    {
     "name": "stderr",
     "output_type": "stream",
     "text": [
      " 91%|█████████▏| 5260/5750 [07:19<00:40, 11.98it/s]"
     ]
    },
    {
     "name": "stdout",
     "output_type": "stream",
     "text": [
      "https://wolnelektury.pl/media/book/txt/w-dziecinne-moje-cudne-lata.txt\n",
      "https://wolnelektury.pl/media/book/txt/w-grobie-etruskim.txt\n",
      "https://wolnelektury.pl/media/book/txt/w-jesieni.txt\n"
     ]
    },
    {
     "name": "stderr",
     "output_type": "stream",
     "text": [
      "\r",
      " 92%|█████████▏| 5262/5750 [07:19<00:40, 11.98it/s]"
     ]
    },
    {
     "name": "stdout",
     "output_type": "stream",
     "text": [
      "https://wolnelektury.pl/media/book/txt/w-jesienna-noc.txt\n",
      "https://wolnelektury.pl/media/book/txt/w-knajpie.txt\n",
      "https://wolnelektury.pl/media/book/txt/w-malinowym-chrusniaku.txt\n"
     ]
    },
    {
     "name": "stderr",
     "output_type": "stream",
     "text": [
      " 92%|█████████▏| 5266/5750 [07:19<00:40, 11.98it/s]"
     ]
    },
    {
     "name": "stdout",
     "output_type": "stream",
     "text": [
      "https://wolnelektury.pl/media/book/txt/w-malym-dworku.txt\n",
      "https://wolnelektury.pl/media/book/txt/w-miescie-wielkim.txt\n",
      "https://wolnelektury.pl/media/book/txt/w-moje-oczy-popiol-proszy.txt\n"
     ]
    },
    {
     "name": "stderr",
     "output_type": "stream",
     "text": [
      "\r",
      " 92%|█████████▏| 5268/5750 [07:19<00:40, 11.98it/s]"
     ]
    },
    {
     "name": "stdout",
     "output_type": "stream",
     "text": [
      "https://wolnelektury.pl/media/book/txt/w-mroku-gwiazd-ama.txt\n",
      "https://wolnelektury.pl/media/book/txt/w-mroku-gwiazd-anamnezis.txt\n",
      "https://wolnelektury.pl/media/book/txt/w-mroku-gwiazd-auto-da-fe.txt\n"
     ]
    },
    {
     "name": "stderr",
     "output_type": "stream",
     "text": [
      " 92%|█████████▏| 5272/5750 [07:20<00:39, 11.98it/s]"
     ]
    },
    {
     "name": "stdout",
     "output_type": "stream",
     "text": [
      "https://wolnelektury.pl/media/book/txt/w-mroku-gwiazd-basn.txt\n",
      "https://wolnelektury.pl/media/book/txt/w-mroku-gwiazd-biale-roze-krwi.txt\n",
      "https://wolnelektury.pl/media/book/txt/w-mroku-gwiazd-bojan.txt\n"
     ]
    },
    {
     "name": "stderr",
     "output_type": "stream",
     "text": [
      "\r",
      " 92%|█████████▏| 5274/5750 [07:20<00:39, 11.98it/s]"
     ]
    },
    {
     "name": "stdout",
     "output_type": "stream",
     "text": [
      "https://wolnelektury.pl/media/book/txt/w-mroku-gwiazd-czarne-xiestwo.txt\n",
      "https://wolnelektury.pl/media/book/txt/w-mroku-gwiazd-dotknieciem-wrozki.txt\n",
      "https://wolnelektury.pl/media/book/txt/w-mroku-gwiazd-droga-mleczna.txt\n"
     ]
    },
    {
     "name": "stderr",
     "output_type": "stream",
     "text": [
      " 92%|█████████▏| 5278/5750 [07:20<00:39, 11.98it/s]"
     ]
    },
    {
     "name": "stdout",
     "output_type": "stream",
     "text": [
      "https://wolnelektury.pl/media/book/txt/w-mroku-gwiazd-dusza-w-czyscu.txt\n",
      "https://wolnelektury.pl/media/book/txt/w-mroku-gwiazd-fioletowe-gory.txt\n",
      "https://wolnelektury.pl/media/book/txt/w-mroku-gwiazd-glebiny-duch.txt\n"
     ]
    },
    {
     "name": "stderr",
     "output_type": "stream",
     "text": [
      "\r",
      " 92%|█████████▏| 5280/5750 [07:20<00:39, 11.98it/s]"
     ]
    },
    {
     "name": "stdout",
     "output_type": "stream",
     "text": [
      "https://wolnelektury.pl/media/book/txt/w-mroku-gwiazd-izis.txt\n",
      "https://wolnelektury.pl/media/book/txt/w-mroku-gwiazd-jak-zwiedle-liscie.txt\n",
      "https://wolnelektury.pl/media/book/txt/w-mroku-gwiazd-jaki-lekki-zwinny.txt\n"
     ]
    },
    {
     "name": "stderr",
     "output_type": "stream",
     "text": [
      " 92%|█████████▏| 5284/5750 [07:20<00:38, 11.98it/s]"
     ]
    },
    {
     "name": "stdout",
     "output_type": "stream",
     "text": [
      "https://wolnelektury.pl/media/book/txt/w-mroku-gwiazd-jesienne-lasy.txt\n",
      "https://wolnelektury.pl/media/book/txt/w-mroku-gwiazd-kain.txt\n",
      "https://wolnelektury.pl/media/book/txt/w-mroku-gwiazd-kallypso.txt\n"
     ]
    },
    {
     "name": "stderr",
     "output_type": "stream",
     "text": [
      "\r",
      " 92%|█████████▏| 5286/5750 [07:21<00:38, 11.98it/s]"
     ]
    },
    {
     "name": "stdout",
     "output_type": "stream",
     "text": [
      "https://wolnelektury.pl/media/book/txt/w-mroku-gwiazd-kiedy-odejde-w-dal.txt\n",
      "https://wolnelektury.pl/media/book/txt/w-mroku-gwiazd-kochankowie-bogow.txt\n",
      "https://wolnelektury.pl/media/book/txt/w-mroku-gwiazd-kolosseum.txt\n"
     ]
    },
    {
     "name": "stderr",
     "output_type": "stream",
     "text": [
      " 92%|█████████▏| 5290/5750 [07:21<00:38, 11.99it/s]"
     ]
    },
    {
     "name": "stdout",
     "output_type": "stream",
     "text": [
      "https://wolnelektury.pl/media/book/txt/w-mroku-gwiazd-korsarz.txt\n",
      "https://wolnelektury.pl/media/book/txt/w-mroku-gwiazd-krol-w-osyaku.txt\n",
      "https://wolnelektury.pl/media/book/txt/w-mroku-gwiazd-krzyz.txt\n",
      "https://wolnelektury.pl/media/book/txt/w-mroku-gwiazd-lamentacye.txt\n"
     ]
    },
    {
     "name": "stderr",
     "output_type": "stream",
     "text": [
      " 92%|█████████▏| 5294/5750 [07:21<00:38, 11.99it/s]"
     ]
    },
    {
     "name": "stdout",
     "output_type": "stream",
     "text": [
      "https://wolnelektury.pl/media/book/txt/w-mroku-gwiazd-lucifer.txt\n",
      "https://wolnelektury.pl/media/book/txt/w-mroku-gwiazd-madonna-dolorosa.txt\n",
      "https://wolnelektury.pl/media/book/txt/w-mroku-gwiazd-meduza.txt\n",
      "https://wolnelektury.pl/media/book/txt/w-mroku-gwiazd-minotaur.txt\n"
     ]
    },
    {
     "name": "stderr",
     "output_type": "stream",
     "text": [
      " 92%|█████████▏| 5298/5750 [07:22<00:37, 11.99it/s]"
     ]
    },
    {
     "name": "stdout",
     "output_type": "stream",
     "text": [
      "https://wolnelektury.pl/media/book/txt/w-mroku-gwiazd-moja-tesknota.txt\n",
      "https://wolnelektury.pl/media/book/txt/w-mroku-gwiazd-morietur-stella.txt\n",
      "https://wolnelektury.pl/media/book/txt/w-mroku-gwiazd-msza-zalobna.txt\n"
     ]
    },
    {
     "name": "stderr",
     "output_type": "stream",
     "text": [
      " 92%|█████████▏| 5302/5750 [07:22<00:37, 11.99it/s]"
     ]
    },
    {
     "name": "stdout",
     "output_type": "stream",
     "text": [
      "https://wolnelektury.pl/media/book/txt/w-mroku-gwiazd-natchnienie.txt\n",
      "https://wolnelektury.pl/media/book/txt/w-mroku-gwiazd-noc-mi-rzucila.txt\n",
      "https://wolnelektury.pl/media/book/txt/w-mroku-gwiazd-o-nocy-cicha.txt\n",
      "https://wolnelektury.pl/media/book/txt/w-mroku-gwiazd-ogien.txt\n"
     ]
    },
    {
     "name": "stderr",
     "output_type": "stream",
     "text": [
      "\r",
      " 92%|█████████▏| 5304/5750 [07:22<00:37, 11.99it/s]"
     ]
    },
    {
     "name": "stdout",
     "output_type": "stream",
     "text": [
      "https://wolnelektury.pl/media/book/txt/w-mroku-gwiazd-orland-szalony.txt\n",
      "https://wolnelektury.pl/media/book/txt/w-mroku-gwiazd-palmy.txt\n",
      "https://wolnelektury.pl/media/book/txt/w-mroku-gwiazd-powialo-na-mnie-morze-snow.txt\n"
     ]
    },
    {
     "name": "stderr",
     "output_type": "stream",
     "text": [
      " 92%|█████████▏| 5308/5750 [07:22<00:36, 11.99it/s]"
     ]
    },
    {
     "name": "stdout",
     "output_type": "stream",
     "text": [
      "https://wolnelektury.pl/media/book/txt/w-mroku-gwiazd-przed-burza.txt\n",
      "https://wolnelektury.pl/media/book/txt/w-mroku-gwiazd-quemadero.txt\n",
      "https://wolnelektury.pl/media/book/txt/w-mroku-gwiazd-reinkarnacya.txt\n",
      "https://wolnelektury.pl/media/book/txt/w-mroku-gwiazd-samobojca.txt\n"
     ]
    },
    {
     "name": "stderr",
     "output_type": "stream",
     "text": [
      " 92%|█████████▏| 5312/5750 [07:22<00:36, 11.99it/s]"
     ]
    },
    {
     "name": "stdout",
     "output_type": "stream",
     "text": [
      "https://wolnelektury.pl/media/book/txt/w-mroku-gwiazd-santa-hermandad.txt\n",
      "https://wolnelektury.pl/media/book/txt/w-mroku-gwiazd-sen.txt\n",
      "https://wolnelektury.pl/media/book/txt/w-mroku-gwiazd-stanac-tak-nad-morzem.txt\n",
      "https://wolnelektury.pl/media/book/txt/w-mroku-gwiazd-stoi-kamien.txt\n"
     ]
    },
    {
     "name": "stderr",
     "output_type": "stream",
     "text": [
      " 92%|█████████▏| 5316/5750 [07:23<00:36, 12.00it/s]"
     ]
    },
    {
     "name": "stdout",
     "output_type": "stream",
     "text": [
      "https://wolnelektury.pl/media/book/txt/w-mroku-gwiazd-stryga.txt\n",
      "https://wolnelektury.pl/media/book/txt/w-mroku-gwiazd-stygmaty-sw-franciszka.txt\n",
      "https://wolnelektury.pl/media/book/txt/w-mroku-gwiazd-templaryusz.txt\n",
      "https://wolnelektury.pl/media/book/txt/w-mroku-gwiazd-w-mem-sercu-basni.txt\n"
     ]
    },
    {
     "name": "stderr",
     "output_type": "stream",
     "text": [
      " 93%|█████████▎| 5320/5750 [07:23<00:35, 12.00it/s]"
     ]
    },
    {
     "name": "stdout",
     "output_type": "stream",
     "text": [
      "https://wolnelektury.pl/media/book/txt/w-mroku-gwiazd-wampir.txt\n",
      "https://wolnelektury.pl/media/book/txt/w-mroku-gwiazd-widma.txt\n",
      "https://wolnelektury.pl/media/book/txt/w-mroku-gwiazd-wilia.txt\n",
      "https://wolnelektury.pl/media/book/txt/w-mroku-gwiazd-witez-wlast.txt\n"
     ]
    },
    {
     "name": "stderr",
     "output_type": "stream",
     "text": [
      " 93%|█████████▎| 5324/5750 [07:23<00:35, 12.00it/s]"
     ]
    },
    {
     "name": "stdout",
     "output_type": "stream",
     "text": [
      "https://wolnelektury.pl/media/book/txt/w-mroku-gwiazd-wodne-lilie.txt\n",
      "https://wolnelektury.pl/media/book/txt/w-mroku-gwiazd-wsrod-traw.txt\n",
      "https://wolnelektury.pl/media/book/txt/w-mroku-gwiazd-wyspa-gorgon.txt\n",
      "https://wolnelektury.pl/media/book/txt/w-mroku-gwiazd-z-wyzyn-spogladam.txt\n"
     ]
    },
    {
     "name": "stderr",
     "output_type": "stream",
     "text": [
      " 93%|█████████▎| 5328/5750 [07:23<00:35, 12.00it/s]"
     ]
    },
    {
     "name": "stdout",
     "output_type": "stream",
     "text": [
      "https://wolnelektury.pl/media/book/txt/w-mroku-gwiazd-zahuczal-wicher.txt\n",
      "https://wolnelektury.pl/media/book/txt/w-mroku-gwiazd-zamek-duszy.txt\n",
      "https://wolnelektury.pl/media/book/txt/w-mroku-gwiazd-zofia-casanova.txt\n",
      "https://wolnelektury.pl/media/book/txt/w-mroku-umarly-swiat.txt\n"
     ]
    },
    {
     "name": "stderr",
     "output_type": "stream",
     "text": [
      " 93%|█████████▎| 5332/5750 [07:24<00:34, 12.00it/s]"
     ]
    },
    {
     "name": "stdout",
     "output_type": "stream",
     "text": [
      "https://wolnelektury.pl/media/book/txt/w-noc-noworoczna.txt\n",
      "https://wolnelektury.pl/media/book/txt/w-obronie-jaska.txt\n",
      "https://wolnelektury.pl/media/book/txt/w-ogniu-pracy-i-lez.txt\n"
     ]
    },
    {
     "name": "stderr",
     "output_type": "stream",
     "text": [
      "\r",
      " 93%|█████████▎| 5334/5750 [07:24<00:34, 12.00it/s]"
     ]
    },
    {
     "name": "stdout",
     "output_type": "stream",
     "text": [
      "https://wolnelektury.pl/media/book/txt/w-oknie.txt\n",
      "https://wolnelektury.pl/media/book/txt/w-ostatni-dzien-w-ostatni-dzien.txt\n",
      "https://wolnelektury.pl/media/book/txt/w-pamietniku-zofii-bobrowny.txt\n"
     ]
    },
    {
     "name": "stderr",
     "output_type": "stream",
     "text": [
      " 93%|█████████▎| 5338/5750 [07:24<00:34, 12.00it/s]"
     ]
    },
    {
     "name": "stdout",
     "output_type": "stream",
     "text": [
      "https://wolnelektury.pl/media/book/txt/w-panstwo.txt\n",
      "https://wolnelektury.pl/media/book/txt/w-podziemiach-ruin.txt\n",
      "https://wolnelektury.pl/media/book/txt/w-polu-i-czego-im-braknie.txt\n"
     ]
    },
    {
     "name": "stderr",
     "output_type": "stream",
     "text": [
      "\r",
      " 93%|█████████▎| 5340/5750 [07:24<00:34, 12.00it/s]"
     ]
    },
    {
     "name": "stdout",
     "output_type": "stream",
     "text": [
      "https://wolnelektury.pl/media/book/txt/w-porebie.txt\n",
      "https://wolnelektury.pl/media/book/txt/w-posrod-raju.txt\n",
      "https://wolnelektury.pl/media/book/txt/w-pustyni-i-w-puszczy.txt\n"
     ]
    },
    {
     "name": "stderr",
     "output_type": "stream",
     "text": [
      " 93%|█████████▎| 5344/5750 [07:25<00:33, 12.00it/s]"
     ]
    },
    {
     "name": "stdout",
     "output_type": "stream",
     "text": [
      "https://wolnelektury.pl/media/book/txt/w-razurze.txt\n",
      "https://wolnelektury.pl/media/book/txt/w-slepa-babke.txt\n",
      "https://wolnelektury.pl/media/book/txt/w-sorbonie-i-gdzie-indziej.txt\n",
      "https://wolnelektury.pl/media/book/txt/w-strone-swanna.txt\n"
     ]
    },
    {
     "name": "stderr",
     "output_type": "stream",
     "text": [
      " 93%|█████████▎| 5348/5750 [07:25<00:33, 11.99it/s]"
     ]
    },
    {
     "name": "stdout",
     "output_type": "stream",
     "text": [
      "https://wolnelektury.pl/media/book/txt/w-szkole.txt\n",
      "https://wolnelektury.pl/media/book/txt/w-sztambuchu-marii-wodzinskiej.txt\n",
      "https://wolnelektury.pl/media/book/txt/w-zasadzce.txt\n"
     ]
    },
    {
     "name": "stderr",
     "output_type": "stream",
     "text": [
      "\r",
      " 93%|█████████▎| 5350/5750 [07:26<00:33, 11.99it/s]"
     ]
    },
    {
     "name": "stdout",
     "output_type": "stream",
     "text": [
      "https://wolnelektury.pl/media/book/txt/w-zimowy-wieczor.txt\n",
      "https://wolnelektury.pl/media/book/txt/w-zlobie-lezy.txt\n",
      "https://wolnelektury.pl/media/book/txt/w-zlym-humorze.txt\n"
     ]
    },
    {
     "name": "stderr",
     "output_type": "stream",
     "text": [
      " 93%|█████████▎| 5354/5750 [07:26<00:33, 12.00it/s]"
     ]
    },
    {
     "name": "stdout",
     "output_type": "stream",
     "text": [
      "https://wolnelektury.pl/media/book/txt/wabik-bajki-nowe.txt\n",
      "https://wolnelektury.pl/media/book/txt/walercia.txt\n",
      "https://wolnelektury.pl/media/book/txt/walerek.txt\n"
     ]
    },
    {
     "name": "stderr",
     "output_type": "stream",
     "text": [
      "\r",
      " 93%|█████████▎| 5356/5750 [07:26<00:32, 12.00it/s]"
     ]
    },
    {
     "name": "stdout",
     "output_type": "stream",
     "text": [
      "https://wolnelektury.pl/media/book/txt/waligora.txt\n",
      "https://wolnelektury.pl/media/book/txt/waligora-tom-i.txt\n"
     ]
    },
    {
     "name": "stderr",
     "output_type": "stream",
     "text": [
      "\r",
      " 93%|█████████▎| 5358/5750 [07:26<00:32, 11.99it/s]"
     ]
    },
    {
     "name": "stdout",
     "output_type": "stream",
     "text": [
      "https://wolnelektury.pl/media/book/txt/waligora-tom-ii.txt\n",
      "https://wolnelektury.pl/media/book/txt/waligora-tom-iii.txt\n"
     ]
    },
    {
     "name": "stderr",
     "output_type": "stream",
     "text": [
      "\r",
      " 93%|█████████▎| 5360/5750 [07:27<00:32, 11.99it/s]"
     ]
    },
    {
     "name": "stdout",
     "output_type": "stream",
     "text": [
      "https://wolnelektury.pl/media/book/txt/walka-o-jezyk-polski-w-czasach-odrodzenia.txt\n",
      "https://wolnelektury.pl/media/book/txt/walus.txt\n",
      "https://wolnelektury.pl/media/book/txt/wanka.txt\n"
     ]
    },
    {
     "name": "stderr",
     "output_type": "stream",
     "text": [
      " 93%|█████████▎| 5364/5750 [07:27<00:32, 11.99it/s]"
     ]
    },
    {
     "name": "stdout",
     "output_type": "stream",
     "text": [
      "https://wolnelektury.pl/media/book/txt/warkocz.txt\n",
      "https://wolnelektury.pl/media/book/txt/warszawianka.txt\n",
      "https://wolnelektury.pl/media/book/txt/warszawianka-1831.txt\n"
     ]
    },
    {
     "name": "stderr",
     "output_type": "stream",
     "text": [
      "\r",
      " 93%|█████████▎| 5366/5750 [07:27<00:32, 11.99it/s]"
     ]
    },
    {
     "name": "stdout",
     "output_type": "stream",
     "text": [
      "https://wolnelektury.pl/media/book/txt/warszawianka-1905.txt\n",
      "https://wolnelektury.pl/media/book/txt/wcielajace-sie-idee-czasu.txt\n",
      "https://wolnelektury.pl/media/book/txt/wdziecznosc.txt\n"
     ]
    },
    {
     "name": "stderr",
     "output_type": "stream",
     "text": [
      " 93%|█████████▎| 5370/5750 [07:27<00:31, 11.99it/s]"
     ]
    },
    {
     "name": "stdout",
     "output_type": "stream",
     "text": [
      "https://wolnelektury.pl/media/book/txt/wedrowcy.txt\n",
      "https://wolnelektury.pl/media/book/txt/weintraub-ach-jak-oglusza-to-wszystko.txt\n",
      "https://wolnelektury.pl/media/book/txt/weintraub-do-krzysztofa-baczynskiego-albo-elegia.txt\n"
     ]
    },
    {
     "name": "stderr",
     "output_type": "stream",
     "text": [
      " 93%|█████████▎| 5374/5750 [07:28<00:31, 11.99it/s]"
     ]
    },
    {
     "name": "stdout",
     "output_type": "stream",
     "text": [
      "https://wolnelektury.pl/media/book/txt/weintraub-ja-smutnej-ziemi-syn.txt\n",
      "https://wolnelektury.pl/media/book/txt/weintraub-kolysanka-podziemna.txt\n",
      "https://wolnelektury.pl/media/book/txt/weintraub-popiol.txt\n",
      "https://wolnelektury.pl/media/book/txt/weintraub-rosniesz-nocy-kamienna-i-coraz-mi-ciezej.txt\n"
     ]
    },
    {
     "name": "stderr",
     "output_type": "stream",
     "text": [
      "\r",
      " 93%|█████████▎| 5376/5750 [07:28<00:31, 11.99it/s]"
     ]
    },
    {
     "name": "stdout",
     "output_type": "stream",
     "text": [
      "https://wolnelektury.pl/media/book/txt/weintraub-wiersze-grudniowe.txt\n",
      "https://wolnelektury.pl/media/book/txt/wells-wehikul-czasu.txt\n",
      "https://wolnelektury.pl/media/book/txt/wergiliusz-eneida.txt\n"
     ]
    },
    {
     "name": "stderr",
     "output_type": "stream",
     "text": [
      "\r",
      " 94%|█████████▎| 5378/5750 [07:28<00:31, 11.99it/s]"
     ]
    },
    {
     "name": "stdout",
     "output_type": "stream",
     "text": [
      "https://wolnelektury.pl/media/book/txt/wesele.txt\n",
      "https://wolnelektury.pl/media/book/txt/wesele-figara.txt\n"
     ]
    },
    {
     "name": "stderr",
     "output_type": "stream",
     "text": [
      " 94%|█████████▎| 5382/5750 [07:28<00:30, 11.99it/s]"
     ]
    },
    {
     "name": "stdout",
     "output_type": "stream",
     "text": [
      "https://wolnelektury.pl/media/book/txt/wesele-satyra.txt\n",
      "https://wolnelektury.pl/media/book/txt/wesele-w-maju.txt\n",
      "https://wolnelektury.pl/media/book/txt/wesele-wiesiolka.txt\n"
     ]
    },
    {
     "name": "stderr",
     "output_type": "stream",
     "text": [
      "\r",
      " 94%|█████████▎| 5384/5750 [07:29<00:30, 11.98it/s]"
     ]
    },
    {
     "name": "stdout",
     "output_type": "stream",
     "text": [
      "https://wolnelektury.pl/media/book/txt/wesole-kumoszki-z-windsoru.txt\n",
      "https://wolnelektury.pl/media/book/txt/wesoly-janek.txt\n"
     ]
    },
    {
     "name": "stderr",
     "output_type": "stream",
     "text": [
      "\r",
      " 94%|█████████▎| 5386/5750 [07:29<00:30, 11.98it/s]"
     ]
    },
    {
     "name": "stdout",
     "output_type": "stream",
     "text": [
      "https://wolnelektury.pl/media/book/txt/westalka.txt\n",
      "https://wolnelektury.pl/media/book/txt/wianki.txt\n",
      "https://wolnelektury.pl/media/book/txt/wicher-rozpetany.txt\n"
     ]
    },
    {
     "name": "stderr",
     "output_type": "stream",
     "text": [
      " 94%|█████████▎| 5390/5750 [07:29<00:30, 11.99it/s]"
     ]
    },
    {
     "name": "stdout",
     "output_type": "stream",
     "text": [
      "https://wolnelektury.pl/media/book/txt/wicus.txt\n",
      "https://wolnelektury.pl/media/book/txt/widok-ze-swinicy-do-doliny-wierchcichej.txt\n",
      "https://wolnelektury.pl/media/book/txt/wieczor-pod-drzewkami.txt\n",
      "https://wolnelektury.pl/media/book/txt/wieczor-w-lesie.txt\n"
     ]
    },
    {
     "name": "stderr",
     "output_type": "stream",
     "text": [
      " 94%|█████████▍| 5394/5750 [07:29<00:29, 11.99it/s]"
     ]
    },
    {
     "name": "stdout",
     "output_type": "stream",
     "text": [
      "https://wolnelektury.pl/media/book/txt/wieczorny-pacierz.txt\n",
      "https://wolnelektury.pl/media/book/txt/wieczory.txt\n",
      "https://wolnelektury.pl/media/book/txt/wiedemann-chcac-wyjechac-do-austrii.txt\n",
      "https://wolnelektury.pl/media/book/txt/wiedemann-cos-w-zebach.txt\n"
     ]
    },
    {
     "name": "stderr",
     "output_type": "stream",
     "text": [
      " 94%|█████████▍| 5398/5750 [07:30<00:29, 11.99it/s]"
     ]
    },
    {
     "name": "stdout",
     "output_type": "stream",
     "text": [
      "https://wolnelektury.pl/media/book/txt/wiedemann-czternasty.txt\n",
      "https://wolnelektury.pl/media/book/txt/wiedemann-dlaczego-juz-czwarty-raz.txt\n",
      "https://wolnelektury.pl/media/book/txt/wiedemann-dobre-maniery.txt\n",
      "https://wolnelektury.pl/media/book/txt/wiedemann-dopiero-pod-prysznicem.txt\n"
     ]
    },
    {
     "name": "stderr",
     "output_type": "stream",
     "text": [
      " 94%|█████████▍| 5402/5750 [07:30<00:29, 11.99it/s]"
     ]
    },
    {
     "name": "stdout",
     "output_type": "stream",
     "text": [
      "https://wolnelektury.pl/media/book/txt/wiedemann-drugi.txt\n",
      "https://wolnelektury.pl/media/book/txt/wiedemann-dwudziesty.txt\n",
      "https://wolnelektury.pl/media/book/txt/wiedemann-dwudziesty-osmy.txt\n",
      "https://wolnelektury.pl/media/book/txt/wiedemann-dwudziesty-siodmy.txt\n"
     ]
    },
    {
     "name": "stderr",
     "output_type": "stream",
     "text": [
      " 94%|█████████▍| 5406/5750 [07:30<00:28, 11.99it/s]"
     ]
    },
    {
     "name": "stdout",
     "output_type": "stream",
     "text": [
      "https://wolnelektury.pl/media/book/txt/wiedemann-i-love-noises.txt\n",
      "https://wolnelektury.pl/media/book/txt/wiedemann-i-to-ma-byc-deszcz.txt\n",
      "https://wolnelektury.pl/media/book/txt/wiedemann-jablko.txt\n",
      "https://wolnelektury.pl/media/book/txt/wiedemann-jezyk.txt\n"
     ]
    },
    {
     "name": "stderr",
     "output_type": "stream",
     "text": [
      " 94%|█████████▍| 5410/5750 [07:31<00:28, 11.99it/s]"
     ]
    },
    {
     "name": "stdout",
     "output_type": "stream",
     "text": [
      "https://wolnelektury.pl/media/book/txt/wiedemann-juz-pan-nie-zyje.txt\n",
      "https://wolnelektury.pl/media/book/txt/wiedemann-ktos-mowi-do-mnie.txt\n",
      "https://wolnelektury.pl/media/book/txt/wiedemann-malosc.txt\n"
     ]
    },
    {
     "name": "stderr",
     "output_type": "stream",
     "text": [
      "\r",
      " 94%|█████████▍| 5412/5750 [07:31<00:28, 12.00it/s]"
     ]
    },
    {
     "name": "stdout",
     "output_type": "stream",
     "text": [
      "https://wolnelektury.pl/media/book/txt/wiedemann-malz-zalobny.txt\n",
      "https://wolnelektury.pl/media/book/txt/wiedemann-na-lawce-lezy-gazeta.txt\n",
      "https://wolnelektury.pl/media/book/txt/wiedemann-nawet-nie-tyle-mysli.txt\n"
     ]
    },
    {
     "name": "stderr",
     "output_type": "stream",
     "text": [
      " 94%|█████████▍| 5416/5750 [07:31<00:27, 12.00it/s]"
     ]
    },
    {
     "name": "stdout",
     "output_type": "stream",
     "text": [
      "https://wolnelektury.pl/media/book/txt/wiedemann-nie-nawykla-mi-dusza.txt\n",
      "https://wolnelektury.pl/media/book/txt/wiedemann-nie-smiej-sie-ze-mnie.txt\n",
      "https://wolnelektury.pl/media/book/txt/wiedemann-oceany-nareszcie.txt\n"
     ]
    },
    {
     "name": "stderr",
     "output_type": "stream",
     "text": [
      " 94%|█████████▍| 5420/5750 [07:31<00:27, 12.00it/s]"
     ]
    },
    {
     "name": "stdout",
     "output_type": "stream",
     "text": [
      "https://wolnelektury.pl/media/book/txt/wiedemann-pietnasty.txt\n",
      "https://wolnelektury.pl/media/book/txt/wiedemann-pliszka.txt\n",
      "https://wolnelektury.pl/media/book/txt/wiedemann-pozegnania.txt\n",
      "https://wolnelektury.pl/media/book/txt/wiedemann-pozytyw-z-przeczna.txt\n"
     ]
    },
    {
     "name": "stderr",
     "output_type": "stream",
     "text": [
      " 94%|█████████▍| 5424/5750 [07:31<00:27, 12.00it/s]"
     ]
    },
    {
     "name": "stdout",
     "output_type": "stream",
     "text": [
      "https://wolnelektury.pl/media/book/txt/wiedemann-rafal-mial-racje.txt\n",
      "https://wolnelektury.pl/media/book/txt/wiedemann-sadzac-z-rozmiarow.txt\n",
      "https://wolnelektury.pl/media/book/txt/wiedemann-samczyk.txt\n",
      "https://wolnelektury.pl/media/book/txt/wiedemann-samczyk-czesc-i.txt\n"
     ]
    },
    {
     "name": "stderr",
     "output_type": "stream",
     "text": [
      " 94%|█████████▍| 5428/5750 [07:32<00:26, 12.00it/s]"
     ]
    },
    {
     "name": "stdout",
     "output_type": "stream",
     "text": [
      "https://wolnelektury.pl/media/book/txt/wiedemann-samczyk-czesc-ii.txt\n",
      "https://wolnelektury.pl/media/book/txt/wiedemann-samczyk-czesc-iii.txt\n",
      "https://wolnelektury.pl/media/book/txt/wiedemann-samczyk-czesc-iv.txt\n",
      "https://wolnelektury.pl/media/book/txt/wiedemann-samczyk-sierpien-1991.txt\n"
     ]
    },
    {
     "name": "stderr",
     "output_type": "stream",
     "text": [
      " 94%|█████████▍| 5432/5750 [07:32<00:26, 12.01it/s]"
     ]
    },
    {
     "name": "stdout",
     "output_type": "stream",
     "text": [
      "https://wolnelektury.pl/media/book/txt/wiedemann-sestina-iv.txt\n",
      "https://wolnelektury.pl/media/book/txt/wiedemann-sonet.txt\n",
      "https://wolnelektury.pl/media/book/txt/wiedemann-swieze-kwiaty.txt\n",
      "https://wolnelektury.pl/media/book/txt/wiedemann-transmisja.txt\n"
     ]
    },
    {
     "name": "stderr",
     "output_type": "stream",
     "text": [
      " 95%|█████████▍| 5436/5750 [07:32<00:26, 12.01it/s]"
     ]
    },
    {
     "name": "stdout",
     "output_type": "stream",
     "text": [
      "https://wolnelektury.pl/media/book/txt/wiedemann-trzydziesty.txt\n",
      "https://wolnelektury.pl/media/book/txt/wiedemann-tyle-bylo-sniegu.txt\n",
      "https://wolnelektury.pl/media/book/txt/wiedemann-ulica-krupnicza.txt\n",
      "https://wolnelektury.pl/media/book/txt/wiedemann-uwaga.txt\n"
     ]
    },
    {
     "name": "stderr",
     "output_type": "stream",
     "text": [
      " 95%|█████████▍| 5440/5750 [07:32<00:25, 12.01it/s]"
     ]
    },
    {
     "name": "stdout",
     "output_type": "stream",
     "text": [
      "https://wolnelektury.pl/media/book/txt/wiedemann-venus-pobudzona-przez-tycjana.txt\n",
      "https://wolnelektury.pl/media/book/txt/wiedemann-wiersz.txt\n",
      "https://wolnelektury.pl/media/book/txt/wiedemann-wiersz-interwencyjny.txt\n",
      "https://wolnelektury.pl/media/book/txt/wiedemann-wiersz-johna-cagea-przysniony.txt\n"
     ]
    },
    {
     "name": "stderr",
     "output_type": "stream",
     "text": [
      " 95%|█████████▍| 5444/5750 [07:33<00:25, 12.01it/s]"
     ]
    },
    {
     "name": "stdout",
     "output_type": "stream",
     "text": [
      "https://wolnelektury.pl/media/book/txt/wiedemann-wsiadlem.txt\n",
      "https://wolnelektury.pl/media/book/txt/wiedemann-wszyscy-mowia.txt\n",
      "https://wolnelektury.pl/media/book/txt/wiedemann-zbyt-niska-jakosc-umyslu-zeby-powiedziec-prawde.txt\n",
      "https://wolnelektury.pl/media/book/txt/wiedzma.txt\n"
     ]
    },
    {
     "name": "stderr",
     "output_type": "stream",
     "text": [
      "\r",
      " 95%|█████████▍| 5446/5750 [07:33<00:25, 12.01it/s]"
     ]
    },
    {
     "name": "stdout",
     "output_type": "stream",
     "text": [
      "https://wolnelektury.pl/media/book/txt/wielcysmy-byli-i-smiesznismy-byli.txt\n",
      "https://wolnelektury.pl/media/book/txt/wielki-testament.txt\n",
      "https://wolnelektury.pl/media/book/txt/wieniec-z-lisci-odarty.txt\n"
     ]
    },
    {
     "name": "stderr",
     "output_type": "stream",
     "text": [
      " 95%|█████████▍| 5450/5750 [07:33<00:24, 12.01it/s]"
     ]
    },
    {
     "name": "stdout",
     "output_type": "stream",
     "text": [
      "https://wolnelektury.pl/media/book/txt/wierna-rzeka.txt\n",
      "https://wolnelektury.pl/media/book/txt/wiersze-swiatowe.txt\n",
      "https://wolnelektury.pl/media/book/txt/wierzba-i-lipa-bajki-nowe.txt\n"
     ]
    },
    {
     "name": "stderr",
     "output_type": "stream",
     "text": [
      "\r",
      " 95%|█████████▍| 5452/5750 [07:33<00:24, 12.01it/s]"
     ]
    },
    {
     "name": "stdout",
     "output_type": "stream",
     "text": [
      "https://wolnelektury.pl/media/book/txt/wierze.txt\n",
      "https://wolnelektury.pl/media/book/txt/wies-opuszczona.txt\n",
      "https://wolnelektury.pl/media/book/txt/wiesniak.txt\n"
     ]
    },
    {
     "name": "stderr",
     "output_type": "stream",
     "text": [
      " 95%|█████████▍| 5456/5750 [07:34<00:24, 12.01it/s]"
     ]
    },
    {
     "name": "stdout",
     "output_type": "stream",
     "text": [
      "https://wolnelektury.pl/media/book/txt/wiesz-panie-izem-zbiegal-swiat-szeroki.txt\n",
      "https://wolnelektury.pl/media/book/txt/wiewiorka-i-malpa.txt\n",
      "https://wolnelektury.pl/media/book/txt/wiezienie.txt\n"
     ]
    },
    {
     "name": "stderr",
     "output_type": "stream",
     "text": [
      " 95%|█████████▍| 5460/5750 [07:34<00:24, 12.01it/s]"
     ]
    },
    {
     "name": "stdout",
     "output_type": "stream",
     "text": [
      "https://wolnelektury.pl/media/book/txt/wilczek-bajki-nowe.txt\n",
      "https://wolnelektury.pl/media/book/txt/wilczki-bajki-nowe.txt\n",
      "https://wolnelektury.pl/media/book/txt/wilk-i-baran-bajki-nowe.txt\n",
      "https://wolnelektury.pl/media/book/txt/wilk-i-czlowiek.txt\n"
     ]
    },
    {
     "name": "stderr",
     "output_type": "stream",
     "text": [
      "\r",
      " 95%|█████████▍| 5462/5750 [07:34<00:23, 12.02it/s]"
     ]
    },
    {
     "name": "stdout",
     "output_type": "stream",
     "text": [
      "https://wolnelektury.pl/media/book/txt/wilk-i-kozle.txt\n",
      "https://wolnelektury.pl/media/book/txt/wilk-i-owce.txt\n",
      "https://wolnelektury.pl/media/book/txt/wilk-i-owce-ii.txt\n"
     ]
    },
    {
     "name": "stderr",
     "output_type": "stream",
     "text": [
      " 95%|█████████▌| 5466/5750 [07:34<00:23, 12.02it/s]"
     ]
    },
    {
     "name": "stdout",
     "output_type": "stream",
     "text": [
      "https://wolnelektury.pl/media/book/txt/wilk-pokutujacy.txt\n",
      "https://wolnelektury.pl/media/book/txt/wilk-w-baraniej-skorze.txt\n",
      "https://wolnelektury.pl/media/book/txt/william-wilson.txt\n"
     ]
    },
    {
     "name": "stderr",
     "output_type": "stream",
     "text": [
      " 95%|█████████▌| 5470/5750 [07:35<00:23, 12.02it/s]"
     ]
    },
    {
     "name": "stdout",
     "output_type": "stream",
     "text": [
      "https://wolnelektury.pl/media/book/txt/wincenty-korab-brzozowski-swietlanej-pamieci-brata-mojego-stanislawa-poswiecam.txt\n",
      "https://wolnelektury.pl/media/book/txt/wincenty-korab-brzozowski-symbole.txt\n",
      "https://wolnelektury.pl/media/book/txt/wincenty-korab-brzozowski-weglem-smutku-i-zgryzoty.txt\n",
      "https://wolnelektury.pl/media/book/txt/wino-i-woda.txt\n"
     ]
    },
    {
     "name": "stderr",
     "output_type": "stream",
     "text": [
      "\r",
      " 95%|█████████▌| 5472/5750 [07:35<00:23, 12.02it/s]"
     ]
    },
    {
     "name": "stdout",
     "output_type": "stream",
     "text": [
      "https://wolnelektury.pl/media/book/txt/wino-szampanskie-bajki-nowe.txt\n",
      "https://wolnelektury.pl/media/book/txt/witkacy-janulka-corka-fizdejki.txt\n",
      "https://wolnelektury.pl/media/book/txt/witkacy-matka.txt\n"
     ]
    },
    {
     "name": "stderr",
     "output_type": "stream",
     "text": [
      "\r",
      " 95%|█████████▌| 5474/5750 [07:35<00:22, 12.02it/s]"
     ]
    },
    {
     "name": "stdout",
     "output_type": "stream",
     "text": [
      "https://wolnelektury.pl/media/book/txt/witkacy-matwa.txt\n",
      "https://wolnelektury.pl/media/book/txt/witkacy-narkotyki.txt\n"
     ]
    },
    {
     "name": "stderr",
     "output_type": "stream",
     "text": [
      "\r",
      " 95%|█████████▌| 5476/5750 [07:35<00:22, 12.02it/s]"
     ]
    },
    {
     "name": "stdout",
     "output_type": "stream",
     "text": [
      "https://wolnelektury.pl/media/book/txt/witkacy-nienasycenie.txt\n",
      "https://wolnelektury.pl/media/book/txt/witkacy-nienasycenie-obled.txt\n"
     ]
    },
    {
     "name": "stderr",
     "output_type": "stream",
     "text": [
      "\r",
      " 95%|█████████▌| 5478/5750 [07:35<00:22, 12.01it/s]"
     ]
    },
    {
     "name": "stdout",
     "output_type": "stream",
     "text": [
      "https://wolnelektury.pl/media/book/txt/witkacy-nienasycenie-przebudzenie.txt\n"
     ]
    },
    {
     "name": "stderr",
     "output_type": "stream",
     "text": [
      " 95%|█████████▌| 5482/5750 [07:36<00:22, 12.01it/s]"
     ]
    },
    {
     "name": "stdout",
     "output_type": "stream",
     "text": [
      "https://wolnelektury.pl/media/book/txt/witkiewicz-a-portrait-company.txt\n",
      "https://wolnelektury.pl/media/book/txt/wladys.txt\n",
      "https://wolnelektury.pl/media/book/txt/wloczegi.txt\n",
      "https://wolnelektury.pl/media/book/txt/wojdowski-chleb-rzucony-umarlym.txt\n",
      "https://wolnelektury.pl/media/book/txt/wojna-chocimska.txt\n"
     ]
    },
    {
     "name": "stderr",
     "output_type": "stream",
     "text": [
      "\r",
      " 95%|█████████▌| 5484/5750 [07:36<00:22, 12.00it/s]"
     ]
    },
    {
     "name": "stdout",
     "output_type": "stream",
     "text": [
      "https://wolnelektury.pl/media/book/txt/wojnickie-kukielki.txt\n",
      "https://wolnelektury.pl/media/book/txt/wol-i-mrowki.txt\n"
     ]
    },
    {
     "name": "stderr",
     "output_type": "stream",
     "text": [
      " 95%|█████████▌| 5488/5750 [07:37<00:21, 12.00it/s]"
     ]
    },
    {
     "name": "stdout",
     "output_type": "stream",
     "text": [
      "https://wolnelektury.pl/media/book/txt/wol-minister.txt\n",
      "https://wolnelektury.pl/media/book/txt/wolny-hamkalo-alchemia.txt\n",
      "https://wolnelektury.pl/media/book/txt/wolny-hamkalo-bajka.txt\n",
      "https://wolnelektury.pl/media/book/txt/wolny-hamkalo-biala-noc.txt\n"
     ]
    },
    {
     "name": "stderr",
     "output_type": "stream",
     "text": [
      " 96%|█████████▌| 5492/5750 [07:37<00:21, 12.00it/s]"
     ]
    },
    {
     "name": "stdout",
     "output_type": "stream",
     "text": [
      "https://wolnelektury.pl/media/book/txt/wolny-hamkalo-bournemouth.txt\n",
      "https://wolnelektury.pl/media/book/txt/wolny-hamkalo-cosmo.txt\n",
      "https://wolnelektury.pl/media/book/txt/wolny-hamkalo-cukierki-z-trawy.txt\n"
     ]
    },
    {
     "name": "stderr",
     "output_type": "stream",
     "text": [
      "\r",
      " 96%|█████████▌| 5494/5750 [07:37<00:21, 12.00it/s]"
     ]
    },
    {
     "name": "stdout",
     "output_type": "stream",
     "text": [
      "https://wolnelektury.pl/media/book/txt/wolny-hamkalo-cyt.txt\n",
      "https://wolnelektury.pl/media/book/txt/wolny-hamkalo-czarno.txt\n",
      "https://wolnelektury.pl/media/book/txt/wolny-hamkalo-dzien-smierci-michaela-jacksona.txt\n"
     ]
    },
    {
     "name": "stderr",
     "output_type": "stream",
     "text": [
      " 96%|█████████▌| 5498/5750 [07:37<00:20, 12.01it/s]"
     ]
    },
    {
     "name": "stdout",
     "output_type": "stream",
     "text": [
      "https://wolnelektury.pl/media/book/txt/wolny-hamkalo-evergreen.txt\n",
      "https://wolnelektury.pl/media/book/txt/wolny-hamkalo-final.txt\n",
      "https://wolnelektury.pl/media/book/txt/wolny-hamkalo-fleszmob.txt\n",
      "https://wolnelektury.pl/media/book/txt/wolny-hamkalo-gra.txt\n"
     ]
    },
    {
     "name": "stderr",
     "output_type": "stream",
     "text": [
      " 96%|█████████▌| 5502/5750 [07:38<00:20, 12.01it/s]"
     ]
    },
    {
     "name": "stdout",
     "output_type": "stream",
     "text": [
      "https://wolnelektury.pl/media/book/txt/wolny-hamkalo-historia-prawdziwa.txt\n",
      "https://wolnelektury.pl/media/book/txt/wolny-hamkalo-i-on.txt\n",
      "https://wolnelektury.pl/media/book/txt/wolny-hamkalo-jesli-juz-to.txt\n",
      "https://wolnelektury.pl/media/book/txt/wolny-hamkalo-kasztany-w-teatrze-wybrzeze.txt\n"
     ]
    },
    {
     "name": "stderr",
     "output_type": "stream",
     "text": [
      " 96%|█████████▌| 5506/5750 [07:38<00:20, 12.01it/s]"
     ]
    },
    {
     "name": "stdout",
     "output_type": "stream",
     "text": [
      "https://wolnelektury.pl/media/book/txt/wolny-hamkalo-kazdy-ma-swoje-piec-minut.txt\n",
      "https://wolnelektury.pl/media/book/txt/wolny-hamkalo-lost.txt\n",
      "https://wolnelektury.pl/media/book/txt/wolny-hamkalo-lub-marsz-jamnikow.txt\n",
      "https://wolnelektury.pl/media/book/txt/wolny-hamkalo-milosc-to-milosc-tamto.txt\n"
     ]
    },
    {
     "name": "stderr",
     "output_type": "stream",
     "text": [
      " 96%|█████████▌| 5510/5750 [07:38<00:19, 12.01it/s]"
     ]
    },
    {
     "name": "stdout",
     "output_type": "stream",
     "text": [
      "https://wolnelektury.pl/media/book/txt/wolny-hamkalo-mo.txt\n",
      "https://wolnelektury.pl/media/book/txt/wolny-hamkalo-mrugnij.txt\n",
      "https://wolnelektury.pl/media/book/txt/wolny-hamkalo-nie-zdazyl.txt\n"
     ]
    },
    {
     "name": "stderr",
     "output_type": "stream",
     "text": [
      "\r",
      " 96%|█████████▌| 5512/5750 [07:38<00:19, 12.01it/s]"
     ]
    },
    {
     "name": "stdout",
     "output_type": "stream",
     "text": [
      "https://wolnelektury.pl/media/book/txt/wolny-hamkalo-nikon-i-leica.txt\n",
      "https://wolnelektury.pl/media/book/txt/wolny-hamkalo-nikt-nic.txt\n",
      "https://wolnelektury.pl/media/book/txt/wolny-hamkalo-niskie-kobiety-integruja-wies.txt\n"
     ]
    },
    {
     "name": "stderr",
     "output_type": "stream",
     "text": [
      " 96%|█████████▌| 5516/5750 [07:39<00:19, 12.01it/s]"
     ]
    },
    {
     "name": "stdout",
     "output_type": "stream",
     "text": [
      "https://wolnelektury.pl/media/book/txt/wolny-hamkalo-nordic.txt\n",
      "https://wolnelektury.pl/media/book/txt/wolny-hamkalo-norwesko-polskie-spotkania-w-ogrodach-buw-u.txt\n",
      "https://wolnelektury.pl/media/book/txt/wolny-hamkalo-obiady-otwarte.txt\n",
      "https://wolnelektury.pl/media/book/txt/wolny-hamkalo-ona.txt\n"
     ]
    },
    {
     "name": "stderr",
     "output_type": "stream",
     "text": [
      " 96%|█████████▌| 5520/5750 [07:39<00:19, 12.01it/s]"
     ]
    },
    {
     "name": "stdout",
     "output_type": "stream",
     "text": [
      "https://wolnelektury.pl/media/book/txt/wolny-hamkalo-poczatek.txt\n",
      "https://wolnelektury.pl/media/book/txt/wolny-hamkalo-pokoj.txt\n",
      "https://wolnelektury.pl/media/book/txt/wolny-hamkalo-pot.txt\n"
     ]
    },
    {
     "name": "stderr",
     "output_type": "stream",
     "text": [
      " 96%|█████████▌| 5524/5750 [07:39<00:18, 12.02it/s]"
     ]
    },
    {
     "name": "stdout",
     "output_type": "stream",
     "text": [
      "https://wolnelektury.pl/media/book/txt/wolny-hamkalo-recenzja-wewnetrzna.txt\n",
      "https://wolnelektury.pl/media/book/txt/wolny-hamkalo-salto.txt\n",
      "https://wolnelektury.pl/media/book/txt/wolny-hamkalo-sciana.txt\n",
      "https://wolnelektury.pl/media/book/txt/wolny-hamkalo-snieg.txt\n"
     ]
    },
    {
     "name": "stderr",
     "output_type": "stream",
     "text": [
      " 96%|█████████▌| 5528/5750 [07:39<00:18, 12.02it/s]"
     ]
    },
    {
     "name": "stdout",
     "output_type": "stream",
     "text": [
      "https://wolnelektury.pl/media/book/txt/wolny-hamkalo-snu.txt\n",
      "https://wolnelektury.pl/media/book/txt/wolny-hamkalo-spontan-pop.txt\n",
      "https://wolnelektury.pl/media/book/txt/wolny-hamkalo-szkocka-legenda-postrocka.txt\n",
      "https://wolnelektury.pl/media/book/txt/wolny-hamkalo-sztuczki.txt\n"
     ]
    },
    {
     "name": "stderr",
     "output_type": "stream",
     "text": [
      " 96%|█████████▌| 5532/5750 [07:40<00:18, 12.02it/s]"
     ]
    },
    {
     "name": "stdout",
     "output_type": "stream",
     "text": [
      "https://wolnelektury.pl/media/book/txt/wolny-hamkalo-toffi.txt\n",
      "https://wolnelektury.pl/media/book/txt/wolny-hamkalo-wiersz-o-koncu-lata.txt\n",
      "https://wolnelektury.pl/media/book/txt/wolny-hamkalo-zamieszkac-w-katedrze.txt\n",
      "https://wolnelektury.pl/media/book/txt/wolny-hamkalo-zar.txt\n"
     ]
    },
    {
     "name": "stderr",
     "output_type": "stream",
     "text": [
      "\r",
      " 96%|█████████▌| 5534/5750 [07:40<00:17, 12.02it/s]"
     ]
    },
    {
     "name": "stdout",
     "output_type": "stream",
     "text": [
      "https://wolnelektury.pl/media/book/txt/wolny-hamkalo-zwlaszcza-o-bogu.txt\n",
      "https://wolnelektury.pl/media/book/txt/wolska-swieto-slonca.txt\n"
     ]
    },
    {
     "name": "stderr",
     "output_type": "stream",
     "text": [
      "\r",
      " 96%|█████████▋| 5536/5750 [07:40<00:17, 12.02it/s]"
     ]
    },
    {
     "name": "stdout",
     "output_type": "stream",
     "text": [
      "https://wolnelektury.pl/media/book/txt/wolska-symfonia-jesienna.txt\n",
      "https://wolnelektury.pl/media/book/txt/wolska-szara-godzina.txt\n",
      "https://wolnelektury.pl/media/book/txt/wolski-ucieczka-przed-zyciem.txt\n"
     ]
    },
    {
     "name": "stderr",
     "output_type": "stream",
     "text": [
      " 96%|█████████▋| 5540/5750 [07:40<00:17, 12.02it/s]"
     ]
    },
    {
     "name": "stdout",
     "output_type": "stream",
     "text": [
      "https://wolnelektury.pl/media/book/txt/wolski-uczta-upiorow.txt\n",
      "https://wolnelektury.pl/media/book/txt/wolski-wiec.txt\n",
      "https://wolnelektury.pl/media/book/txt/woly.txt\n",
      "https://wolnelektury.pl/media/book/txt/woly-krnabrne.txt\n"
     ]
    },
    {
     "name": "stderr",
     "output_type": "stream",
     "text": [
      " 96%|█████████▋| 5544/5750 [07:41<00:17, 12.02it/s]"
     ]
    },
    {
     "name": "stdout",
     "output_type": "stream",
     "text": [
      "https://wolnelektury.pl/media/book/txt/woreczek-jedwabny-i-skarbonka-gliniana.txt\n",
      "https://wolnelektury.pl/media/book/txt/worki-bajki-nowe.txt\n",
      "https://wolnelektury.pl/media/book/txt/woyzeck.txt\n"
     ]
    },
    {
     "name": "stderr",
     "output_type": "stream",
     "text": [
      "\r",
      " 96%|█████████▋| 5546/5750 [07:41<00:16, 12.02it/s]"
     ]
    },
    {
     "name": "stdout",
     "output_type": "stream",
     "text": [
      "https://wolnelektury.pl/media/book/txt/woz-z-sianem-bajki-nowe.txt\n",
      "https://wolnelektury.pl/media/book/txt/wrobel-bajki-nowe.txt\n",
      "https://wolnelektury.pl/media/book/txt/wrobelek-i-kurczatko.txt\n"
     ]
    },
    {
     "name": "stderr",
     "output_type": "stream",
     "text": [
      "\r",
      " 96%|█████████▋| 5548/5750 [07:41<00:16, 12.02it/s]"
     ]
    },
    {
     "name": "stdout",
     "output_type": "stream",
     "text": [
      "https://wolnelektury.pl/media/book/txt/wspomnienia-niebieskiego-mundurka.txt\n",
      "https://wolnelektury.pl/media/book/txt/wspomnienie-pani-de-st-marcel-z-domu-chauveaux.txt\n"
     ]
    },
    {
     "name": "stderr",
     "output_type": "stream",
     "text": [
      " 97%|█████████▋| 5552/5750 [07:41<00:16, 12.02it/s]"
     ]
    },
    {
     "name": "stdout",
     "output_type": "stream",
     "text": [
      "https://wolnelektury.pl/media/book/txt/wsrod-kwiatow.txt\n",
      "https://wolnelektury.pl/media/book/txt/wsrod-nocnej-ciszy.txt\n",
      "https://wolnelektury.pl/media/book/txt/wstan-o-dziecie.txt\n"
     ]
    },
    {
     "name": "stderr",
     "output_type": "stream",
     "text": [
      "\r",
      " 97%|█████████▋| 5554/5750 [07:41<00:16, 12.02it/s]"
     ]
    },
    {
     "name": "stdout",
     "output_type": "stream",
     "text": [
      "https://wolnelektury.pl/media/book/txt/wstep-do-bajek.txt\n",
      "https://wolnelektury.pl/media/book/txt/wstep-do-bajek-i-przypowiesci.txt\n",
      "https://wolnelektury.pl/media/book/txt/wstep-do-filozofii.txt\n"
     ]
    },
    {
     "name": "stderr",
     "output_type": "stream",
     "text": [
      " 97%|█████████▋| 5558/5750 [07:42<00:15, 12.02it/s]"
     ]
    },
    {
     "name": "stdout",
     "output_type": "stream",
     "text": [
      "https://wolnelektury.pl/media/book/txt/wszechmocny-bog.txt\n",
      "https://wolnelektury.pl/media/book/txt/wszechwiedzacy-doktor.txt\n",
      "https://wolnelektury.pl/media/book/txt/wszystko-i-nic.txt\n"
     ]
    },
    {
     "name": "stderr",
     "output_type": "stream",
     "text": [
      "\r",
      " 97%|█████████▋| 5560/5750 [07:42<00:15, 12.02it/s]"
     ]
    },
    {
     "name": "stdout",
     "output_type": "stream",
     "text": [
      "https://wolnelektury.pl/media/book/txt/wszystko-na-swoim-miejscu.txt\n",
      "https://wolnelektury.pl/media/book/txt/wychowanek.txt\n",
      "https://wolnelektury.pl/media/book/txt/wydro-sobotka.txt\n"
     ]
    },
    {
     "name": "stderr",
     "output_type": "stream",
     "text": [
      " 97%|█████████▋| 5564/5750 [07:42<00:15, 12.02it/s]"
     ]
    },
    {
     "name": "stdout",
     "output_type": "stream",
     "text": [
      "https://wolnelektury.pl/media/book/txt/wyjdzie-stu-robotnikow.txt\n",
      "https://wolnelektury.pl/media/book/txt/wykrzyknik.txt\n",
      "https://wolnelektury.pl/media/book/txt/wyrok-bajki-nowe.txt\n",
      "https://wolnelektury.pl/media/book/txt/wyrzut-posmiertny.txt\n"
     ]
    },
    {
     "name": "stderr",
     "output_type": "stream",
     "text": [
      "\r",
      " 97%|█████████▋| 5566/5750 [07:43<00:15, 12.02it/s]"
     ]
    },
    {
     "name": "stdout",
     "output_type": "stream",
     "text": [
      "https://wolnelektury.pl/media/book/txt/wyspa-skarbow.txt\n"
     ]
    },
    {
     "name": "stderr",
     "output_type": "stream",
     "text": [
      "\r",
      " 97%|█████████▋| 5568/5750 [07:43<00:15, 12.02it/s]"
     ]
    },
    {
     "name": "stdout",
     "output_type": "stream",
     "text": [
      "https://wolnelektury.pl/media/book/txt/wyspianski-achilleis.txt\n",
      "https://wolnelektury.pl/media/book/txt/wyspianski-akropolis.txt\n"
     ]
    },
    {
     "name": "stderr",
     "output_type": "stream",
     "text": [
      "\r",
      " 97%|█████████▋| 5570/5750 [07:43<00:14, 12.02it/s]"
     ]
    },
    {
     "name": "stdout",
     "output_type": "stream",
     "text": [
      "https://wolnelektury.pl/media/book/txt/wyspianski-byl-u-mnie-ktos.txt\n",
      "https://wolnelektury.pl/media/book/txt/wyspianski-czekam.txt\n",
      "https://wolnelektury.pl/media/book/txt/wyspianski-czekam-na-cie.txt\n"
     ]
    },
    {
     "name": "stderr",
     "output_type": "stream",
     "text": [
      "\r",
      " 97%|█████████▋| 5572/5750 [07:43<00:14, 12.02it/s]"
     ]
    },
    {
     "name": "stdout",
     "output_type": "stream",
     "text": [
      "https://wolnelektury.pl/media/book/txt/wyspianski-die-novembernacht.txt\n",
      "https://wolnelektury.pl/media/book/txt/wyspianski-die-warschauerin.txt\n"
     ]
    },
    {
     "name": "stderr",
     "output_type": "stream",
     "text": [
      " 97%|█████████▋| 5576/5750 [07:44<00:14, 12.01it/s]"
     ]
    },
    {
     "name": "stdout",
     "output_type": "stream",
     "text": [
      "https://wolnelektury.pl/media/book/txt/wyspianski-gdy-przyjdzie-mi-ten-swiat-porzucic.txt\n",
      "https://wolnelektury.pl/media/book/txt/wyspianski-habt-ach.txt\n",
      "https://wolnelektury.pl/media/book/txt/wyspianski-hymn-veni-creator.txt\n"
     ]
    },
    {
     "name": "stderr",
     "output_type": "stream",
     "text": [
      "\r",
      " 97%|█████████▋| 5578/5750 [07:44<00:14, 12.02it/s]"
     ]
    },
    {
     "name": "stdout",
     "output_type": "stream",
     "text": [
      "https://wolnelektury.pl/media/book/txt/wyspianski-i-ciagle-widze-ich-twarze.txt\n",
      "https://wolnelektury.pl/media/book/txt/wyspianski-i-want-no-weeping-at-my-grave.txt\n",
      "https://wolnelektury.pl/media/book/txt/wyspianski-jak-pomne.txt\n"
     ]
    },
    {
     "name": "stderr",
     "output_type": "stream",
     "text": [
      " 97%|█████████▋| 5582/5750 [07:44<00:13, 12.02it/s]"
     ]
    },
    {
     "name": "stdout",
     "output_type": "stream",
     "text": [
      "https://wolnelektury.pl/media/book/txt/wyspianski-kamienna-byla-lawa.txt\n",
      "https://wolnelektury.pl/media/book/txt/wyspianski-klatwa.txt\n",
      "https://wolnelektury.pl/media/book/txt/wyspianski-moj-usmiech.txt\n"
     ]
    },
    {
     "name": "stderr",
     "output_type": "stream",
     "text": [
      " 97%|█████████▋| 5586/5750 [07:44<00:13, 12.02it/s]"
     ]
    },
    {
     "name": "stdout",
     "output_type": "stream",
     "text": [
      "https://wolnelektury.pl/media/book/txt/wyspianski-nad-morskiem-okiem.txt\n",
      "https://wolnelektury.pl/media/book/txt/wyspianski-niech-nikt-nad-grobem-mi-nie-placze.txt\n",
      "https://wolnelektury.pl/media/book/txt/wyspianski-pociecho-moja-ty-ksiazeczko.txt\n",
      "https://wolnelektury.pl/media/book/txt/wyspianski-poszedlem-bladzic-w-nieznane-swiaty.txt\n"
     ]
    },
    {
     "name": "stderr",
     "output_type": "stream",
     "text": [
      " 97%|█████████▋| 5590/5750 [07:45<00:13, 12.02it/s]"
     ]
    },
    {
     "name": "stdout",
     "output_type": "stream",
     "text": [
      "https://wolnelektury.pl/media/book/txt/wyspianski-tym-ze-krotka-chwile.txt\n",
      "https://wolnelektury.pl/media/book/txt/wyspianski-wesoly-jestem-wesoly.txt\n",
      "https://wolnelektury.pl/media/book/txt/wyspianski-wierszyk-wakacyjny.txt\n",
      "https://wolnelektury.pl/media/book/txt/wyszydzajacy.txt\n"
     ]
    },
    {
     "name": "stderr",
     "output_type": "stream",
     "text": [
      " 97%|█████████▋| 5594/5750 [07:45<00:12, 12.02it/s]"
     ]
    },
    {
     "name": "stdout",
     "output_type": "stream",
     "text": [
      "https://wolnelektury.pl/media/book/txt/wyzel-i-brytan-bajki-nowe.txt\n",
      "https://wolnelektury.pl/media/book/txt/wyzel-i-brytan-ii-bajki-nowe.txt\n",
      "https://wolnelektury.pl/media/book/txt/wyznanie-artysty.txt\n",
      "https://wolnelektury.pl/media/book/txt/wyzwolenie.txt\n"
     ]
    },
    {
     "name": "stderr",
     "output_type": "stream",
     "text": [
      "\r",
      " 97%|█████████▋| 5596/5750 [07:45<00:12, 12.02it/s]"
     ]
    },
    {
     "name": "stdout",
     "output_type": "stream",
     "text": [
      "https://wolnelektury.pl/media/book/txt/yeats-hanrahan-rudy.txt\n",
      "https://wolnelektury.pl/media/book/txt/z-chalupy.txt\n",
      "https://wolnelektury.pl/media/book/txt/z-chalupy-i-chaty-rzedem-na-piaszczystych-wzgorkach.txt\n"
     ]
    },
    {
     "name": "stderr",
     "output_type": "stream",
     "text": [
      " 97%|█████████▋| 5600/5750 [07:45<00:12, 12.02it/s]"
     ]
    },
    {
     "name": "stdout",
     "output_type": "stream",
     "text": [
      "https://wolnelektury.pl/media/book/txt/z-chalupy-ii-tam-za-wioska-przyjm.txt\n",
      "https://wolnelektury.pl/media/book/txt/z-chalupy-iii-swiety-kazmierz-powracaja-czajki.txt\n",
      "https://wolnelektury.pl/media/book/txt/z-chalupy-iv-bija-dzwony-trza-swiecic-niedziele.txt\n",
      "https://wolnelektury.pl/media/book/txt/z-chalupy-vi-co-naprawde-eh-smalone-duby.txt\n"
     ]
    },
    {
     "name": "stderr",
     "output_type": "stream",
     "text": [
      " 97%|█████████▋| 5604/5750 [07:46<00:12, 12.02it/s]"
     ]
    },
    {
     "name": "stdout",
     "output_type": "stream",
     "text": [
      "https://wolnelektury.pl/media/book/txt/z-chalupy-vii-spiewaj-kasiu-i-mgla-sie-powleka.txt\n",
      "https://wolnelektury.pl/media/book/txt/z-chalupy-xi-na-zaplociu-spedzali-wieczory.txt\n",
      "https://wolnelektury.pl/media/book/txt/z-chalupy-xiii-pierwsze-lata-kiedy-sie-pobrali.txt\n"
     ]
    },
    {
     "name": "stderr",
     "output_type": "stream",
     "text": [
      " 98%|█████████▊| 5608/5750 [07:46<00:11, 12.03it/s]"
     ]
    },
    {
     "name": "stdout",
     "output_type": "stream",
     "text": [
      "https://wolnelektury.pl/media/book/txt/z-chalupy-xv-miala-role-sprzedali-jej-role.txt\n",
      "https://wolnelektury.pl/media/book/txt/z-chalupy-xvii-slonko-swieci-oj-swieci-iskrzyste.txt\n",
      "https://wolnelektury.pl/media/book/txt/z-chalupy-xx-na-kominie-plomyczek-sie-zarzy.txt\n",
      "https://wolnelektury.pl/media/book/txt/z-chalupy-xxi-lichy-knotek-na-murku-w-izdebce.txt\n",
      "https://wolnelektury.pl/media/book/txt/z-chalupy-xxv-umarl-umarl-takie-lata-zdradne.txt\n"
     ]
    },
    {
     "name": "stderr",
     "output_type": "stream",
     "text": [
      " 98%|█████████▊| 5612/5750 [07:46<00:11, 12.03it/s]"
     ]
    },
    {
     "name": "stdout",
     "output_type": "stream",
     "text": [
      "https://wolnelektury.pl/media/book/txt/z-chalupy-xxxix-rano-zima-mroz-czy-zawierucha.txt\n",
      "https://wolnelektury.pl/media/book/txt/z-chalupy-xxxviii-mial-byc-ksiedzem.txt\n",
      "https://wolnelektury.pl/media/book/txt/z-chlopa-krol.txt\n",
      "https://wolnelektury.pl/media/book/txt/z-dziennika-starego-dziada.txt\n"
     ]
    },
    {
     "name": "stderr",
     "output_type": "stream",
     "text": [
      " 98%|█████████▊| 5616/5750 [07:46<00:11, 12.03it/s]"
     ]
    },
    {
     "name": "stdout",
     "output_type": "stream",
     "text": [
      "https://wolnelektury.pl/media/book/txt/z-jednego-gniazda.txt\n",
      "https://wolnelektury.pl/media/book/txt/z-laki-do-domu.txt\n",
      "https://wolnelektury.pl/media/book/txt/z-lasu.txt\n",
      "https://wolnelektury.pl/media/book/txt/z-legend-dawnego-egiptu.txt\n"
     ]
    },
    {
     "name": "stderr",
     "output_type": "stream",
     "text": [
      " 98%|█████████▊| 5620/5750 [07:47<00:10, 12.03it/s]"
     ]
    },
    {
     "name": "stdout",
     "output_type": "stream",
     "text": [
      "https://wolnelektury.pl/media/book/txt/z-listu-do-ksiegarza.txt\n",
      "https://wolnelektury.pl/media/book/txt/z-mysli-wieczornych.txt\n",
      "https://wolnelektury.pl/media/book/txt/z-narodzenia-pana.txt\n"
     ]
    },
    {
     "name": "stderr",
     "output_type": "stream",
     "text": [
      "\r",
      " 98%|█████████▊| 5622/5750 [07:47<00:10, 12.03it/s]"
     ]
    },
    {
     "name": "stdout",
     "output_type": "stream",
     "text": [
      "https://wolnelektury.pl/media/book/txt/z-opowiadan-prawnika.txt\n",
      "https://wolnelektury.pl/media/book/txt/z-pamietnika.txt\n"
     ]
    },
    {
     "name": "stderr",
     "output_type": "stream",
     "text": [
      "\r",
      " 98%|█████████▊| 5624/5750 [07:47<00:10, 12.02it/s]"
     ]
    },
    {
     "name": "stdout",
     "output_type": "stream",
     "text": [
      "https://wolnelektury.pl/media/book/txt/z-pozogi.txt\n",
      "https://wolnelektury.pl/media/book/txt/z-puszczy-bialowieskiej.txt\n"
     ]
    },
    {
     "name": "stderr",
     "output_type": "stream",
     "text": [
      "\r",
      " 98%|█████████▊| 5626/5750 [07:47<00:10, 12.02it/s]"
     ]
    },
    {
     "name": "stdout",
     "output_type": "stream",
     "text": [
      "https://wolnelektury.pl/media/book/txt/z-roznych-drog.txt\n",
      "https://wolnelektury.pl/media/book/txt/z-roznych-sfer-czternasta-czesc.txt\n"
     ]
    },
    {
     "name": "stderr",
     "output_type": "stream",
     "text": [
      "\r",
      " 98%|█████████▊| 5628/5750 [07:48<00:10, 12.02it/s]"
     ]
    },
    {
     "name": "stdout",
     "output_type": "stream",
     "text": [
      "https://wolnelektury.pl/media/book/txt/z-roznych-sfer-daj-kwiatek.txt\n",
      "https://wolnelektury.pl/media/book/txt/z-wichrow-i-hal.txt\n",
      "https://wolnelektury.pl/media/book/txt/z-wichrow-i-hal-z-alp.txt\n"
     ]
    },
    {
     "name": "stderr",
     "output_type": "stream",
     "text": [
      " 98%|█████████▊| 5632/5750 [07:48<00:09, 12.02it/s]"
     ]
    },
    {
     "name": "stdout",
     "output_type": "stream",
     "text": [
      "https://wolnelektury.pl/media/book/txt/z-wichrow-i-hal-z-alp-jezioro-maerjelen.txt\n",
      "https://wolnelektury.pl/media/book/txt/z-wichrow-i-hal-z-alp-jungfrau.txt\n",
      "https://wolnelektury.pl/media/book/txt/z-wichrow-i-hal-z-alp-na-jeziorach-wloskich.txt\n"
     ]
    },
    {
     "name": "stderr",
     "output_type": "stream",
     "text": [
      "\r",
      " 98%|█████████▊| 5634/5750 [07:48<00:09, 12.02it/s]"
     ]
    },
    {
     "name": "stdout",
     "output_type": "stream",
     "text": [
      "https://wolnelektury.pl/media/book/txt/z-wichrow-i-hal-z-alp-na-jeziorze-czterech-kantonow.txt\n",
      "https://wolnelektury.pl/media/book/txt/z-wichrow-i-hal-z-alp-na-lodowcach-aletschu.txt\n",
      "https://wolnelektury.pl/media/book/txt/z-wichrow-i-hal-z-alp-na-teufelsbruecke.txt\n"
     ]
    },
    {
     "name": "stderr",
     "output_type": "stream",
     "text": [
      " 98%|█████████▊| 5638/5750 [07:48<00:09, 12.02it/s]"
     ]
    },
    {
     "name": "stdout",
     "output_type": "stream",
     "text": [
      "https://wolnelektury.pl/media/book/txt/z-wichrow-i-hal-z-alp-szlakiem-symplonskiej-drogi.txt\n",
      "https://wolnelektury.pl/media/book/txt/z-wichrow-i-hal-z-alp-ze-szczytu-eggishornu.txt\n",
      "https://wolnelektury.pl/media/book/txt/z-wichrow-i-hal-z-tatr.txt\n",
      "https://wolnelektury.pl/media/book/txt/z-wichrow-i-hal-z-tatr-cisza-wieczorna.txt\n"
     ]
    },
    {
     "name": "stderr",
     "output_type": "stream",
     "text": [
      " 98%|█████████▊| 5642/5750 [07:49<00:08, 12.03it/s]"
     ]
    },
    {
     "name": "stdout",
     "output_type": "stream",
     "text": [
      "https://wolnelektury.pl/media/book/txt/z-wichrow-i-hal-z-tatr-krzak-dzikiej-rozy-w-ciemnych-smreczy.txt\n",
      "https://wolnelektury.pl/media/book/txt/z-wichrow-i-hal-z-tatr-na-szczycie.txt\n",
      "https://wolnelektury.pl/media/book/txt/z-wichrow-i-hal-z-tatr-orzel.txt\n",
      "https://wolnelektury.pl/media/book/txt/z-wichrow-i-hal-z-tatr-taniec-zbojnicki.txt\n"
     ]
    },
    {
     "name": "stderr",
     "output_type": "stream",
     "text": [
      " 98%|█████████▊| 5646/5750 [07:49<00:08, 12.03it/s]"
     ]
    },
    {
     "name": "stdout",
     "output_type": "stream",
     "text": [
      "https://wolnelektury.pl/media/book/txt/z-wichrow-i-hal-z-tatr-wiatr-halny.txt\n",
      "https://wolnelektury.pl/media/book/txt/z-ziemi-chelmskiej.txt\n",
      "https://wolnelektury.pl/media/book/txt/za-chlebem.txt\n"
     ]
    },
    {
     "name": "stderr",
     "output_type": "stream",
     "text": [
      "\r",
      " 98%|█████████▊| 5648/5750 [07:49<00:08, 12.03it/s]"
     ]
    },
    {
     "name": "stdout",
     "output_type": "stream",
     "text": [
      "https://wolnelektury.pl/media/book/txt/za-dolina-roz.txt\n",
      "https://wolnelektury.pl/media/book/txt/za-kolkiem.txt\n",
      "https://wolnelektury.pl/media/book/txt/za-kulisami.txt\n"
     ]
    },
    {
     "name": "stderr",
     "output_type": "stream",
     "text": [
      " 98%|█████████▊| 5652/5750 [07:49<00:08, 12.03it/s]"
     ]
    },
    {
     "name": "stdout",
     "output_type": "stream",
     "text": [
      "https://wolnelektury.pl/media/book/txt/za-niemen-hen-precz.txt\n",
      "https://wolnelektury.pl/media/book/txt/zabka-helusi.txt\n",
      "https://wolnelektury.pl/media/book/txt/zaby-i-bocian-bajki-nowe.txt\n",
      "https://wolnelektury.pl/media/book/txt/zachwycenie.txt\n"
     ]
    },
    {
     "name": "stderr",
     "output_type": "stream",
     "text": [
      " 98%|█████████▊| 5656/5750 [07:50<00:07, 12.03it/s]"
     ]
    },
    {
     "name": "stdout",
     "output_type": "stream",
     "text": [
      "https://wolnelektury.pl/media/book/txt/zaczarowana-krolewna.txt\n",
      "https://wolnelektury.pl/media/book/txt/zadig-czyli-los.txt\n",
      "https://wolnelektury.pl/media/book/txt/zagadka-orzeszkowa.txt\n"
     ]
    },
    {
     "name": "stderr",
     "output_type": "stream",
     "text": [
      "\r",
      " 98%|█████████▊| 5658/5750 [07:50<00:07, 12.03it/s]"
     ]
    },
    {
     "name": "stdout",
     "output_type": "stream",
     "text": [
      "https://wolnelektury.pl/media/book/txt/zagadkowa-natura.txt\n",
      "https://wolnelektury.pl/media/book/txt/zagajewski-kornhauser-swiat-nieprzedstawiony.txt\n"
     ]
    },
    {
     "name": "stderr",
     "output_type": "stream",
     "text": [
      "\r",
      " 98%|█████████▊| 5660/5750 [07:50<00:07, 12.03it/s]"
     ]
    },
    {
     "name": "stdout",
     "output_type": "stream",
     "text": [
      "https://wolnelektury.pl/media/book/txt/zaglada-domu-usherow.txt\n",
      "https://wolnelektury.pl/media/book/txt/zagubienie-aureoli.txt\n",
      "https://wolnelektury.pl/media/book/txt/zajac.txt\n"
     ]
    },
    {
     "name": "stderr",
     "output_type": "stream",
     "text": [
      " 99%|█████████▊| 5664/5750 [07:50<00:07, 12.03it/s]"
     ]
    },
    {
     "name": "stdout",
     "output_type": "stream",
     "text": [
      "https://wolnelektury.pl/media/book/txt/zajac-i-jez.txt\n",
      "https://wolnelektury.pl/media/book/txt/zajaczek-bajki-nowe.txt\n",
      "https://wolnelektury.pl/media/book/txt/zaklete-pieniadze.txt\n"
     ]
    },
    {
     "name": "stderr",
     "output_type": "stream",
     "text": [
      "\r",
      " 99%|█████████▊| 5666/5750 [07:51<00:06, 12.03it/s]"
     ]
    },
    {
     "name": "stdout",
     "output_type": "stream",
     "text": [
      "https://wolnelektury.pl/media/book/txt/zamek-kaniowski.txt\n",
      "https://wolnelektury.pl/media/book/txt/zamiary-stasia.txt\n",
      "https://wolnelektury.pl/media/book/txt/zapolska-dwie.txt\n"
     ]
    },
    {
     "name": "stderr",
     "output_type": "stream",
     "text": [
      "\r",
      " 99%|█████████▊| 5668/5750 [07:51<00:06, 12.03it/s]"
     ]
    },
    {
     "name": "stdout",
     "output_type": "stream",
     "text": [
      "https://wolnelektury.pl/media/book/txt/zapolska-frania.txt\n",
      "https://wolnelektury.pl/media/book/txt/zapolska-kaska-kariatyda.txt\n"
     ]
    },
    {
     "name": "stderr",
     "output_type": "stream",
     "text": [
      "\r",
      " 99%|█████████▊| 5670/5750 [07:51<00:06, 12.02it/s]"
     ]
    },
    {
     "name": "stdout",
     "output_type": "stream",
     "text": [
      "https://wolnelektury.pl/media/book/txt/zapolska-kobieta-bez-skazy.txt\n",
      "https://wolnelektury.pl/media/book/txt/zapolska-korale-maciejowej.txt\n"
     ]
    },
    {
     "name": "stderr",
     "output_type": "stream",
     "text": [
      " 99%|█████████▊| 5674/5750 [07:52<00:06, 12.02it/s]"
     ]
    },
    {
     "name": "stdout",
     "output_type": "stream",
     "text": [
      "https://wolnelektury.pl/media/book/txt/zapolska-menazeria-ludzka.txt\n",
      "https://wolnelektury.pl/media/book/txt/zapolska-ostatni-promien.txt\n",
      "https://wolnelektury.pl/media/book/txt/zapolska-pani-dulska-przed-sadem.txt\n"
     ]
    },
    {
     "name": "stderr",
     "output_type": "stream",
     "text": [
      " 99%|█████████▊| 5678/5750 [07:52<00:05, 12.02it/s]"
     ]
    },
    {
     "name": "stdout",
     "output_type": "stream",
     "text": [
      "https://wolnelektury.pl/media/book/txt/zarcik.txt\n",
      "https://wolnelektury.pl/media/book/txt/zatoka-tecz.txt\n",
      "https://wolnelektury.pl/media/book/txt/zawistowska-chcialabym-z-toba-poszedlszy.txt\n",
      "https://wolnelektury.pl/media/book/txt/zawistowska-epitaphium.txt\n"
     ]
    },
    {
     "name": "stderr",
     "output_type": "stream",
     "text": [
      " 99%|█████████▉| 5682/5750 [07:52<00:05, 12.02it/s]"
     ]
    },
    {
     "name": "stdout",
     "output_type": "stream",
     "text": [
      "https://wolnelektury.pl/media/book/txt/zawistowska-herodiada.txt\n",
      "https://wolnelektury.pl/media/book/txt/zawistowska-jesienna-noca.txt\n",
      "https://wolnelektury.pl/media/book/txt/zawistowska-lwy.txt\n",
      "https://wolnelektury.pl/media/book/txt/zawistowska-magdalena.txt\n"
     ]
    },
    {
     "name": "stderr",
     "output_type": "stream",
     "text": [
      " 99%|█████████▉| 5686/5750 [07:52<00:05, 12.02it/s]"
     ]
    },
    {
     "name": "stdout",
     "output_type": "stream",
     "text": [
      "https://wolnelektury.pl/media/book/txt/zawistowska-moja-dusza.txt\n",
      "https://wolnelektury.pl/media/book/txt/zawistowska-nimfa.txt\n",
      "https://wolnelektury.pl/media/book/txt/zawistowska-tobie.txt\n",
      "https://wolnelektury.pl/media/book/txt/zawistowska-z-wizji-piekielnych.txt\n"
     ]
    },
    {
     "name": "stderr",
     "output_type": "stream",
     "text": [
      "\r",
      " 99%|█████████▉| 5688/5750 [07:52<00:05, 12.03it/s]"
     ]
    },
    {
     "name": "stdout",
     "output_type": "stream",
     "text": [
      "https://wolnelektury.pl/media/book/txt/zbierzchowski-impresye.txt\n",
      "https://wolnelektury.pl/media/book/txt/zbierzchowski-wiersze-rozne.txt\n",
      "https://wolnelektury.pl/media/book/txt/zboze-we-mlynie.txt\n"
     ]
    },
    {
     "name": "stderr",
     "output_type": "stream",
     "text": [
      "\r",
      " 99%|█████████▉| 5690/5750 [07:53<00:04, 12.03it/s]"
     ]
    },
    {
     "name": "stdout",
     "output_type": "stream",
     "text": [
      "https://wolnelektury.pl/media/book/txt/zbrodnie.txt\n",
      "https://wolnelektury.pl/media/book/txt/zbroja-zawiszy.txt\n"
     ]
    },
    {
     "name": "stderr",
     "output_type": "stream",
     "text": [
      " 99%|█████████▉| 5694/5750 [07:53<00:04, 12.02it/s]"
     ]
    },
    {
     "name": "stdout",
     "output_type": "stream",
     "text": [
      "https://wolnelektury.pl/media/book/txt/zdzislawek.txt\n",
      "https://wolnelektury.pl/media/book/txt/ze-raz-jeszcze.txt\n",
      "https://wolnelektury.pl/media/book/txt/ze-skarbnicy-midraszy.txt\n"
     ]
    },
    {
     "name": "stderr",
     "output_type": "stream",
     "text": [
      "\r",
      " 99%|█████████▉| 5696/5750 [07:53<00:04, 12.02it/s]"
     ]
    },
    {
     "name": "stdout",
     "output_type": "stream",
     "text": [
      "https://wolnelektury.pl/media/book/txt/zebrak-i-kamien.txt\n",
      "https://wolnelektury.pl/media/book/txt/zegar.txt\n",
      "https://wolnelektury.pl/media/book/txt/zegarki.txt\n"
     ]
    },
    {
     "name": "stderr",
     "output_type": "stream",
     "text": [
      " 99%|█████████▉| 5700/5750 [07:54<00:04, 12.02it/s]"
     ]
    },
    {
     "name": "stdout",
     "output_type": "stream",
     "text": [
      "https://wolnelektury.pl/media/book/txt/zemaite-budyne.txt\n",
      "https://wolnelektury.pl/media/book/txt/zemaite-meslavezis.txt\n",
      "https://wolnelektury.pl/media/book/txt/zemaite-sodziaus-vaizdeliai.txt\n"
     ]
    },
    {
     "name": "stderr",
     "output_type": "stream",
     "text": [
      "\r",
      " 99%|█████████▉| 5702/5750 [07:54<00:03, 12.02it/s]"
     ]
    },
    {
     "name": "stdout",
     "output_type": "stream",
     "text": [
      "https://wolnelektury.pl/media/book/txt/zemsta.txt\n",
      "https://wolnelektury.pl/media/book/txt/zeromski-cokolwiek-sie-zdarzy-niech-uderza-we-mnie.txt\n",
      "https://wolnelektury.pl/media/book/txt/zeromski-godzina.txt\n"
     ]
    },
    {
     "name": "stderr",
     "output_type": "stream",
     "text": [
      "\r",
      " 99%|█████████▉| 5704/5750 [07:54<00:03, 12.02it/s]"
     ]
    },
    {
     "name": "stdout",
     "output_type": "stream",
     "text": [
      "https://wolnelektury.pl/media/book/txt/zeromski-oko-za-oko.txt\n",
      "https://wolnelektury.pl/media/book/txt/zeromski-popioly.txt\n"
     ]
    },
    {
     "name": "stderr",
     "output_type": "stream",
     "text": [
      " 99%|█████████▉| 5708/5750 [07:54<00:03, 12.02it/s]"
     ]
    },
    {
     "name": "stdout",
     "output_type": "stream",
     "text": [
      "https://wolnelektury.pl/media/book/txt/zeromski-zmierzch.txt\n",
      "https://wolnelektury.pl/media/book/txt/zgodne-rodzenstwo.txt\n",
      "https://wolnelektury.pl/media/book/txt/zgon-oliwiera-becaille.txt\n"
     ]
    },
    {
     "name": "stderr",
     "output_type": "stream",
     "text": [
      "\r",
      " 99%|█████████▉| 5710/5750 [07:55<00:03, 12.02it/s]"
     ]
    },
    {
     "name": "stdout",
     "output_type": "stream",
     "text": [
      "https://wolnelektury.pl/media/book/txt/ziemia-i-potok-bajki-nowe.txt\n",
      "https://wolnelektury.pl/media/book/txt/ziemia-obiecana.txt\n",
      "https://wolnelektury.pl/media/book/txt/ziemia-obiecana-tom-drugi.txt\n"
     ]
    },
    {
     "name": "stderr",
     "output_type": "stream",
     "text": [
      "\r",
      " 99%|█████████▉| 5712/5750 [07:55<00:03, 12.02it/s]"
     ]
    },
    {
     "name": "stdout",
     "output_type": "stream",
     "text": [
      "https://wolnelektury.pl/media/book/txt/ziemia-obiecana-tom-pierwszy.txt\n"
     ]
    },
    {
     "name": "stderr",
     "output_type": "stream",
     "text": [
      "\r",
      " 99%|█████████▉| 5714/5750 [07:55<00:02, 12.01it/s]"
     ]
    },
    {
     "name": "stdout",
     "output_type": "stream",
     "text": [
      "https://wolnelektury.pl/media/book/txt/zla-zima.txt\n",
      "https://wolnelektury.pl/media/book/txt/zloczynca.txt\n",
      "https://wolnelektury.pl/media/book/txt/zlota-nitka.txt\n"
     ]
    },
    {
     "name": "stderr",
     "output_type": "stream",
     "text": [
      "\r",
      " 99%|█████████▉| 5716/5750 [07:55<00:02, 12.01it/s]"
     ]
    },
    {
     "name": "stdout",
     "output_type": "stream",
     "text": [
      "https://wolnelektury.pl/media/book/txt/zlote-sidla.txt\n",
      "https://wolnelektury.pl/media/book/txt/zmarzlak.txt\n"
     ]
    },
    {
     "name": "stderr",
     "output_type": "stream",
     "text": [
      "\r",
      " 99%|█████████▉| 5718/5750 [07:56<00:02, 12.01it/s]"
     ]
    },
    {
     "name": "stdout",
     "output_type": "stream",
     "text": [
      "https://wolnelektury.pl/media/book/txt/zmichowska-poganka.txt\n",
      "https://wolnelektury.pl/media/book/txt/zmija.txt\n"
     ]
    },
    {
     "name": "stderr",
     "output_type": "stream",
     "text": [
      "\r",
      " 99%|█████████▉| 5720/5750 [08:01<00:02, 11.88it/s]"
     ]
    },
    {
     "name": "stdout",
     "output_type": "stream",
     "text": [
      "https://wolnelektury.pl/media/book/txt/zmiluj-sie-nad-nami.txt\n",
      "https://wolnelektury.pl/media/book/txt/zmysly-zmysly.txt\n"
     ]
    },
    {
     "name": "stderr",
     "output_type": "stream",
     "text": [
      "\r",
      "100%|█████████▉| 5722/5750 [08:01<00:02, 11.88it/s]"
     ]
    },
    {
     "name": "stdout",
     "output_type": "stream",
     "text": [
      "https://wolnelektury.pl/media/book/txt/znachor.txt\n"
     ]
    },
    {
     "name": "stderr",
     "output_type": "stream",
     "text": [
      "100%|█████████▉| 5725/5750 [08:02<00:02, 11.87it/s]"
     ]
    },
    {
     "name": "stdout",
     "output_type": "stream",
     "text": [
      "https://wolnelektury.pl/media/book/txt/zolw-i-mysz.txt\n",
      "https://wolnelektury.pl/media/book/txt/zosia-i-jej-mopsy.txt\n",
      "https://wolnelektury.pl/media/book/txt/zosia-na-wsi.txt\n"
     ]
    },
    {
     "name": "stderr",
     "output_type": "stream",
     "text": [
      "\r",
      "100%|█████████▉| 5727/5750 [08:02<00:01, 11.87it/s]"
     ]
    },
    {
     "name": "stdout",
     "output_type": "stream",
     "text": [
      "https://wolnelektury.pl/media/book/txt/zrale-sa-w-ogniu-nurzane.txt\n",
      "https://wolnelektury.pl/media/book/txt/zrebiec-i-kon-stary.txt\n",
      "https://wolnelektury.pl/media/book/txt/zuczek.txt\n"
     ]
    },
    {
     "name": "stderr",
     "output_type": "stream",
     "text": [
      "100%|█████████▉| 5731/5750 [08:02<00:01, 11.88it/s]"
     ]
    },
    {
     "name": "stdout",
     "output_type": "stream",
     "text": [
      "https://wolnelektury.pl/media/book/txt/zulawski-moja-piosnka.txt\n",
      "https://wolnelektury.pl/media/book/txt/zulawski-moje-zycie.txt\n",
      "https://wolnelektury.pl/media/book/txt/zulawski-nad-gruzami.txt\n",
      "https://wolnelektury.pl/media/book/txt/zulawski-nie-warto.txt\n"
     ]
    },
    {
     "name": "stderr",
     "output_type": "stream",
     "text": [
      "100%|█████████▉| 5735/5750 [08:02<00:01, 11.88it/s]"
     ]
    },
    {
     "name": "stdout",
     "output_type": "stream",
     "text": [
      "https://wolnelektury.pl/media/book/txt/zulawski-trylogia-ksiezycowa.txt\n",
      "https://wolnelektury.pl/media/book/txt/zulawski-w-prosektorium.txt\n",
      "https://wolnelektury.pl/media/book/txt/zulawski-z-czary-mlodosci.txt\n"
     ]
    },
    {
     "name": "stderr",
     "output_type": "stream",
     "text": [
      "\r",
      "100%|█████████▉| 5737/5750 [08:03<00:01, 11.88it/s]"
     ]
    },
    {
     "name": "stdout",
     "output_type": "stream",
     "text": [
      "https://wolnelektury.pl/media/book/txt/zurakowska-pozegnanie-domu.txt\n",
      "https://wolnelektury.pl/media/book/txt/zurakowska-skarby.txt\n"
     ]
    },
    {
     "name": "stderr",
     "output_type": "stream",
     "text": [
      "\r",
      "100%|█████████▉| 5739/5750 [08:03<00:00, 11.88it/s]"
     ]
    },
    {
     "name": "stdout",
     "output_type": "stream",
     "text": [
      "https://wolnelektury.pl/media/book/txt/zuzia-i-pokrzywa.txt\n",
      "https://wolnelektury.pl/media/book/txt/zwierciadlana-zagadka.txt\n"
     ]
    },
    {
     "name": "stderr",
     "output_type": "stream",
     "text": [
      "\r",
      "100%|█████████▉| 5741/5750 [08:03<00:00, 11.87it/s]"
     ]
    },
    {
     "name": "stdout",
     "output_type": "stream",
     "text": [
      "https://wolnelektury.pl/media/book/txt/zwierciadlo-rozi.txt\n",
      "https://wolnelektury.pl/media/book/txt/zwiersciadlo-podchlebne.txt\n",
      "https://wolnelektury.pl/media/book/txt/zwierzenia-janki.txt\n"
     ]
    },
    {
     "name": "stderr",
     "output_type": "stream",
     "text": [
      "\r",
      "100%|█████████▉| 5743/5750 [08:03<00:00, 11.87it/s]"
     ]
    },
    {
     "name": "stdout",
     "output_type": "stream",
     "text": [
      "https://wolnelektury.pl/media/book/txt/zwierzeta-i-niedzwiedz.txt\n",
      "https://wolnelektury.pl/media/book/txt/zwierzeta-ludzie-bogowie.txt\n"
     ]
    },
    {
     "name": "stderr",
     "output_type": "stream",
     "text": [
      "100%|█████████▉| 5747/5750 [08:04<00:00, 11.87it/s]"
     ]
    },
    {
     "name": "stdout",
     "output_type": "stream",
     "text": [
      "https://wolnelektury.pl/media/book/txt/zycie.txt\n",
      "https://wolnelektury.pl/media/book/txt/zycie-snem.txt\n",
      "https://wolnelektury.pl/media/book/txt/zycie-wymarzone.txt\n"
     ]
    },
    {
     "name": "stderr",
     "output_type": "stream",
     "text": [
      "100%|██████████| 5750/5750 [08:04<00:00, 11.87it/s]"
     ]
    },
    {
     "name": "stdout",
     "output_type": "stream",
     "text": [
      "https://wolnelektury.pl/media/book/txt/zydek.txt\n",
      "https://wolnelektury.pl/media/book/txt/zywym-i-umarlym.txt\n"
     ]
    },
    {
     "name": "stderr",
     "output_type": "stream",
     "text": [
      "\n"
     ]
    }
   ],
   "source": [
    "for book in tqdm(books_json):\n",
    "    title = book['url'].split('/')[-2]\n",
    "    url = \"https://wolnelektury.pl/media/book/txt/\" + title + \".txt\"\n",
    "    #print(url)\n",
    "    book_content = requests.get(url)\n",
    "    with open(os.path.join(data_dir, get_epoch_tag(book['epoch']), title + \".txt\"), 'wt') as f:\n",
    "        f.write(book_content.text)"
   ]
  },
  {
   "cell_type": "code",
   "execution_count": 95,
   "metadata": {},
   "outputs": [
    {
     "name": "stdout",
     "output_type": "stream",
     "text": [
      "{'średniowiecze', 'współczesność', 'modernizm', 'romantyzm', 'barok', 'nie', 'oświecenie', 'renesans', 'pozytywizm', 'dwudziestolecie', 'starożytność'}\n"
     ]
    }
   ],
   "source": [
    "print(epochs)"
   ]
  },
  {
   "cell_type": "code",
   "execution_count": 97,
   "metadata": {},
   "outputs": [],
   "source": [
    "json.dump(books_json, open('./data/books.json', \"wt\"))"
   ]
  },
  {
   "cell_type": "code",
   "execution_count": null,
   "metadata": {},
   "outputs": [],
   "source": []
  }
 ],
 "metadata": {
  "kernelspec": {
   "display_name": "Python 3",
   "language": "python",
   "name": "python3"
  },
  "language_info": {
   "codemirror_mode": {
    "name": "ipython",
    "version": 3
   },
   "file_extension": ".py",
   "mimetype": "text/x-python",
   "name": "python",
   "nbconvert_exporter": "python",
   "pygments_lexer": "ipython3",
   "version": "3.5.2"
  }
 },
 "nbformat": 4,
 "nbformat_minor": 1
}
